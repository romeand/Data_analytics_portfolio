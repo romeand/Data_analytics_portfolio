{
 "cells": [
  {
   "cell_type": "markdown",
   "metadata": {},
   "source": [
    "<b>¡Hola Andres!</b>\n",
    "\n",
    "Mi nombre es Alejandro Abia y tengo el gusto de revisar tu proyecto.\n",
    "\n",
    "A continuación, encontrarás mis comentarios en celdas pintadas de tres colores (verde, amarillo y rojo), a manera de semáforo. Por favor, <b>no las borres ni muevas de posición</b> mientras dure el proceso de revisión.\n",
    "\n",
    "<div class=\"alert alert-block alert-success\">\n",
    "<b>Éxito</b> <a class=\"tocSkip\"></a>\n",
    "En celdas verdes encontrarás comentarios en relación a tus aciertos y fortalezas.\n",
    "</div>\n",
    "<div class=\"alert alert-block alert-warning\">\n",
    "<b>Antención</b> <a class=\"tocSkip\"></a>\n",
    "Utilizaré el color amarillo para llamar tu atención, expresar algo importante o compartirte alguna idea de valor.\n",
    "</div>\n",
    "<div class=\"alert alert-block alert-danger\">\n",
    "<b>A resolver</b> <a class=\"tocSkip\"></a>\n",
    "En rojo emitiré aquellos puntos que deberás atender para aprobar la revisión.\n",
    "</div>\n",
    "<div class=\"alert alert-block alert-info\">\n",
    "<b>Comentario estudiante</b><a class=\"tocSkip\"></a>\n",
    "Es factible que, a lo largo del proceso de revisión, quieras dejarme comentarios. Si es el caso, por favor realízalo dentro de celdas azules como esta.\n",
    "</div>\n",
    "Respecto del proceso de revisión, tu proyecto será aceptado una vez que los comentarios en rojo hayan sido atendidos.\n",
    "¡Empecemos!"
   ]
  },
  {
   "cell_type": "markdown",
   "metadata": {},
   "source": [
    "# Paso 1. Carga de librerias y exploración inicial de datos."
   ]
  },
  {
   "cell_type": "markdown",
   "metadata": {},
   "source": [
    "<div class=\"alert alert-block alert-success\"> <b>Celda [134]</b> <a class=\"tocSkip\"></a> La corrección del delimitador del CSV usando `sep=\"\\t\"` es un buen manejo de inconsistencias en los datos de entrada. Esto previno errores en la carga del DataFrame. </div> "
   ]
  },
  {
   "cell_type": "code",
   "execution_count": 2,
   "metadata": {},
   "outputs": [],
   "source": [
    "import pandas as pd\n",
    "import matplotlib.pyplot as plt\n",
    "import seaborn as sns\n",
    "import numpy as np\n",
    "from scipy import stats as st"
   ]
  },
  {
   "cell_type": "code",
   "execution_count": 3,
   "metadata": {},
   "outputs": [],
   "source": [
    "#Cargamos los datos como DF.\n",
    "data= pd.read_csv('/datasets/logs_exp_us.csv')"
   ]
  },
  {
   "cell_type": "code",
   "execution_count": 4,
   "metadata": {},
   "outputs": [
    {
     "name": "stdout",
     "output_type": "stream",
     "text": [
      "<class 'pandas.core.frame.DataFrame'>\n",
      "RangeIndex: 244126 entries, 0 to 244125\n",
      "Data columns (total 1 columns):\n",
      " #   Column                                       Non-Null Count   Dtype \n",
      "---  ------                                       --------------   ----- \n",
      " 0   EventName\tDeviceIDHash\tEventTimestamp\tExpId  244126 non-null  object\n",
      "dtypes: object(1)\n",
      "memory usage: 1.9+ MB\n"
     ]
    },
    {
     "data": {
      "text/html": [
       "<div>\n",
       "<style scoped>\n",
       "    .dataframe tbody tr th:only-of-type {\n",
       "        vertical-align: middle;\n",
       "    }\n",
       "\n",
       "    .dataframe tbody tr th {\n",
       "        vertical-align: top;\n",
       "    }\n",
       "\n",
       "    .dataframe thead th {\n",
       "        text-align: right;\n",
       "    }\n",
       "</style>\n",
       "<table border=\"1\" class=\"dataframe\">\n",
       "  <thead>\n",
       "    <tr style=\"text-align: right;\">\n",
       "      <th></th>\n",
       "      <th>EventName\\tDeviceIDHash\\tEventTimestamp\\tExpId</th>\n",
       "    </tr>\n",
       "  </thead>\n",
       "  <tbody>\n",
       "    <tr>\n",
       "      <th>0</th>\n",
       "      <td>MainScreenAppear\\t4575588528974610257\\t1564029...</td>\n",
       "    </tr>\n",
       "    <tr>\n",
       "      <th>1</th>\n",
       "      <td>MainScreenAppear\\t7416695313311560658\\t1564053...</td>\n",
       "    </tr>\n",
       "    <tr>\n",
       "      <th>2</th>\n",
       "      <td>PaymentScreenSuccessful\\t3518123091307005509\\t...</td>\n",
       "    </tr>\n",
       "    <tr>\n",
       "      <th>3</th>\n",
       "      <td>CartScreenAppear\\t3518123091307005509\\t1564054...</td>\n",
       "    </tr>\n",
       "    <tr>\n",
       "      <th>4</th>\n",
       "      <td>PaymentScreenSuccessful\\t6217807653094995999\\t...</td>\n",
       "    </tr>\n",
       "  </tbody>\n",
       "</table>\n",
       "</div>"
      ],
      "text/plain": [
       "      EventName\\tDeviceIDHash\\tEventTimestamp\\tExpId\n",
       "0  MainScreenAppear\\t4575588528974610257\\t1564029...\n",
       "1  MainScreenAppear\\t7416695313311560658\\t1564053...\n",
       "2  PaymentScreenSuccessful\\t3518123091307005509\\t...\n",
       "3  CartScreenAppear\\t3518123091307005509\\t1564054...\n",
       "4  PaymentScreenSuccessful\\t6217807653094995999\\t..."
      ]
     },
     "execution_count": 4,
     "metadata": {},
     "output_type": "execute_result"
    }
   ],
   "source": [
    "#Realizamos la exploraciòn inicial de los datos.\n",
    "\n",
    "data.info()\n",
    "data.head()"
   ]
  },
  {
   "cell_type": "markdown",
   "metadata": {},
   "source": [
    "Como primera observación detectamos que el archivo csv, no se encuentran los datos separados por coma estándard, por lo que procesaremos el archvivo con \\t como separador."
   ]
  },
  {
   "cell_type": "code",
   "execution_count": 5,
   "metadata": {},
   "outputs": [
    {
     "name": "stdout",
     "output_type": "stream",
     "text": [
      "<class 'pandas.core.frame.DataFrame'>\n",
      "RangeIndex: 244126 entries, 0 to 244125\n",
      "Data columns (total 4 columns):\n",
      " #   Column          Non-Null Count   Dtype \n",
      "---  ------          --------------   ----- \n",
      " 0   EventName       244126 non-null  object\n",
      " 1   DeviceIDHash    244126 non-null  int64 \n",
      " 2   EventTimestamp  244126 non-null  int64 \n",
      " 3   ExpId           244126 non-null  int64 \n",
      "dtypes: int64(3), object(1)\n",
      "memory usage: 7.5+ MB\n"
     ]
    },
    {
     "data": {
      "text/html": [
       "<div>\n",
       "<style scoped>\n",
       "    .dataframe tbody tr th:only-of-type {\n",
       "        vertical-align: middle;\n",
       "    }\n",
       "\n",
       "    .dataframe tbody tr th {\n",
       "        vertical-align: top;\n",
       "    }\n",
       "\n",
       "    .dataframe thead th {\n",
       "        text-align: right;\n",
       "    }\n",
       "</style>\n",
       "<table border=\"1\" class=\"dataframe\">\n",
       "  <thead>\n",
       "    <tr style=\"text-align: right;\">\n",
       "      <th></th>\n",
       "      <th>EventName</th>\n",
       "      <th>DeviceIDHash</th>\n",
       "      <th>EventTimestamp</th>\n",
       "      <th>ExpId</th>\n",
       "    </tr>\n",
       "  </thead>\n",
       "  <tbody>\n",
       "    <tr>\n",
       "      <th>0</th>\n",
       "      <td>MainScreenAppear</td>\n",
       "      <td>4575588528974610257</td>\n",
       "      <td>1564029816</td>\n",
       "      <td>246</td>\n",
       "    </tr>\n",
       "    <tr>\n",
       "      <th>1</th>\n",
       "      <td>MainScreenAppear</td>\n",
       "      <td>7416695313311560658</td>\n",
       "      <td>1564053102</td>\n",
       "      <td>246</td>\n",
       "    </tr>\n",
       "    <tr>\n",
       "      <th>2</th>\n",
       "      <td>PaymentScreenSuccessful</td>\n",
       "      <td>3518123091307005509</td>\n",
       "      <td>1564054127</td>\n",
       "      <td>248</td>\n",
       "    </tr>\n",
       "    <tr>\n",
       "      <th>3</th>\n",
       "      <td>CartScreenAppear</td>\n",
       "      <td>3518123091307005509</td>\n",
       "      <td>1564054127</td>\n",
       "      <td>248</td>\n",
       "    </tr>\n",
       "    <tr>\n",
       "      <th>4</th>\n",
       "      <td>PaymentScreenSuccessful</td>\n",
       "      <td>6217807653094995999</td>\n",
       "      <td>1564055322</td>\n",
       "      <td>248</td>\n",
       "    </tr>\n",
       "  </tbody>\n",
       "</table>\n",
       "</div>"
      ],
      "text/plain": [
       "                 EventName         DeviceIDHash  EventTimestamp  ExpId\n",
       "0         MainScreenAppear  4575588528974610257      1564029816    246\n",
       "1         MainScreenAppear  7416695313311560658      1564053102    246\n",
       "2  PaymentScreenSuccessful  3518123091307005509      1564054127    248\n",
       "3         CartScreenAppear  3518123091307005509      1564054127    248\n",
       "4  PaymentScreenSuccessful  6217807653094995999      1564055322    248"
      ]
     },
     "execution_count": 5,
     "metadata": {},
     "output_type": "execute_result"
    }
   ],
   "source": [
    "data = pd.read_csv('/datasets/logs_exp_us.csv',sep=\"\\t\")\n",
    "data.info()\n",
    "data.head()"
   ]
  },
  {
   "cell_type": "markdown",
   "metadata": {},
   "source": [
    "Por lo que podemos observar, pareciera que no tenemos datos ausentes. Cabe mencionar que la columna de TimesStamp se encuentra en int64 por lo que habrá que determinar como convertirlo a un formato correcto y trabajable para lo que queremos obtener."
   ]
  },
  {
   "cell_type": "markdown",
   "metadata": {},
   "source": [
    "# 2 Optimización de datos"
   ]
  },
  {
   "cell_type": "code",
   "execution_count": 6,
   "metadata": {},
   "outputs": [
    {
     "name": "stdout",
     "output_type": "stream",
     "text": [
      "Index(['event', 'user', 'time', 'group'], dtype='object')\n"
     ]
    }
   ],
   "source": [
    "#Como buena práctica renombramos las columnas a minúsculas en los Df que lo requieren.\n",
    "\n",
    "data_columns = {\n",
    "    \"EventName\":\"event\",\n",
    "    \"DeviceIDHash\":\"user\",\n",
    "    \"EventTimestamp\":\"time\",\n",
    "    \"ExpId\":\"group\",\n",
    "}\n",
    "\n",
    "data.rename(columns = data_columns, inplace= True)\n",
    "print(data.columns)"
   ]
  },
  {
   "cell_type": "markdown",
   "metadata": {},
   "source": [
    "<div class=\"alert alert-block alert-success\"> <b>Celda [135]</b> <a class=\"tocSkip\"></a> La renombración de columnas usando un diccionario mejora la legibilidad del DataFrame. Buen uso de `rename()` para mantener consistencia en los nombres. </div> "
   ]
  },
  {
   "cell_type": "code",
   "execution_count": 7,
   "metadata": {},
   "outputs": [],
   "source": [
    "#Procedemos a agregar una columna de datetime convirtiendo los datos de time con el metodo to_datetime para obtener fechas. (Identificar como proceder este paso tuve que consultarlo en internet asì como con las clases de mi tutor que ayudaron bastante)\n",
    "\n",
    "data['datetime'] = pd.to_datetime(data['time'], unit='s')"
   ]
  },
  {
   "cell_type": "code",
   "execution_count": 8,
   "metadata": {},
   "outputs": [],
   "source": [
    "#Procedemos a agregar una columna con fecha calculadas desde la columna recien agregada de datetime.\n",
    "data['date'] = data['datetime'].dt.floor('1D')"
   ]
  },
  {
   "cell_type": "code",
   "execution_count": 9,
   "metadata": {},
   "outputs": [
    {
     "name": "stdout",
     "output_type": "stream",
     "text": [
      "<class 'pandas.core.frame.DataFrame'>\n",
      "RangeIndex: 244126 entries, 0 to 244125\n",
      "Data columns (total 6 columns):\n",
      " #   Column    Non-Null Count   Dtype         \n",
      "---  ------    --------------   -----         \n",
      " 0   event     244126 non-null  object        \n",
      " 1   user      244126 non-null  int64         \n",
      " 2   time      244126 non-null  int64         \n",
      " 3   group     244126 non-null  int64         \n",
      " 4   datetime  244126 non-null  datetime64[ns]\n",
      " 5   date      244126 non-null  datetime64[ns]\n",
      "dtypes: datetime64[ns](2), int64(3), object(1)\n",
      "memory usage: 11.2+ MB\n"
     ]
    }
   ],
   "source": [
    "data.info()"
   ]
  },
  {
   "cell_type": "markdown",
   "metadata": {},
   "source": [
    "DROP DUPLICATES??"
   ]
  },
  {
   "cell_type": "markdown",
   "metadata": {},
   "source": [
    "# 3 Estudio y comprobación de datos"
   ]
  },
  {
   "cell_type": "code",
   "execution_count": 10,
   "metadata": {},
   "outputs": [
    {
     "data": {
      "text/plain": [
       "244126"
      ]
     },
     "execution_count": 10,
     "metadata": {},
     "output_type": "execute_result"
    }
   ],
   "source": [
    "#Calculamos el número de eventos en los registros.\n",
    "len(data['event'])"
   ]
  },
  {
   "cell_type": "code",
   "execution_count": 11,
   "metadata": {},
   "outputs": [
    {
     "data": {
      "text/plain": [
       "7551"
      ]
     },
     "execution_count": 11,
     "metadata": {},
     "output_type": "execute_result"
    }
   ],
   "source": [
    "#Calculamos el número de usuarios en los registros.\n",
    "data['user'].nunique()"
   ]
  },
  {
   "cell_type": "code",
   "execution_count": 12,
   "metadata": {},
   "outputs": [
    {
     "data": {
      "text/plain": [
       "32.33028737915508"
      ]
     },
     "execution_count": 12,
     "metadata": {},
     "output_type": "execute_result"
    }
   ],
   "source": [
    "#Obtenemos el promedio de eventos por usuario con el método len.\n",
    "\n",
    "len(data)/data['user'].nunique()"
   ]
  },
  {
   "cell_type": "code",
   "execution_count": 13,
   "metadata": {},
   "outputs": [
    {
     "data": {
      "text/plain": [
       "Timestamp('2019-07-25 00:00:00')"
      ]
     },
     "execution_count": 13,
     "metadata": {},
     "output_type": "execute_result"
    }
   ],
   "source": [
    "#Obtenemos las fechas minimas y máximas de nuestros datos.\n",
    "data['date'].min()"
   ]
  },
  {
   "cell_type": "code",
   "execution_count": 14,
   "metadata": {},
   "outputs": [
    {
     "data": {
      "text/plain": [
       "Timestamp('2019-08-07 00:00:00')"
      ]
     },
     "execution_count": 14,
     "metadata": {},
     "output_type": "execute_result"
    }
   ],
   "source": [
    "data['date'].max()"
   ]
  },
  {
   "cell_type": "code",
   "execution_count": 15,
   "metadata": {},
   "outputs": [
    {
     "data": {
      "text/plain": [
       "<AxesSubplot:>"
      ]
     },
     "execution_count": 15,
     "metadata": {},
     "output_type": "execute_result"
    },
    {
     "data": {
      "image/png": "[encoded data removed]",
      "text/plain": [
       "<Figure size 1400x500 with 1 Axes>"
      ]
     },
     "metadata": {},
     "output_type": "display_data"
    }
   ],
   "source": [
    "#Graficamos un histograma por fecha y hora.\n",
    "data['datetime'].hist(bins=100, figsize=(14,5))"
   ]
  },
  {
   "cell_type": "markdown",
   "metadata": {},
   "source": [
    "Como algo a notar es que podemos visualizar con el histograma que si bien tenemos registros que comienzan con nuestra fecha minima el 25 de julio y que abarcan 13 dias hasta el 07 de agosto en realidad los datos más notables, y probablemente aquellos con sufienciente información para hacer cálculos abarcarian apartir del 31 de julio o 01 de agosto."
   ]
  },
  {
   "cell_type": "code",
   "execution_count": 16,
   "metadata": {},
   "outputs": [
    {
     "data": {
      "text/plain": [
       "<AxesSubplot:xlabel='date'>"
      ]
     },
     "execution_count": 16,
     "metadata": {},
     "output_type": "execute_result"
    },
    {
     "data": {
      "image/png": "[encoded data removed]",
      "text/plain": [
       "<Figure size 640x480 with 1 Axes>"
      ]
     },
     "metadata": {},
     "output_type": "display_data"
    }
   ],
   "source": [
    "#Para confirmar nuestras propuestas de acuerdo a lo detectado visualmente, obtenemos el numero de usuarios por fecha para determinar con precisión donde es conveniente hacer nuestro corte de datos.\n",
    "data.pivot_table(index='date',values='user', aggfunc='count').plot(style='o-', grid=True)"
   ]
  },
  {
   "cell_type": "markdown",
   "metadata": {},
   "source": [
    "Hemos confirmado que a partir del 01 de agosto fue cuando se dieron màs registros de eventos por lo que sería conveniente hacer el análisis a partir de la fecha detectada."
   ]
  },
  {
   "cell_type": "code",
   "execution_count": 17,
   "metadata": {},
   "outputs": [],
   "source": [
    "#Aseguramos que nuestra columna esté en el tipo de datos correcto.(Este paso lo quise hacer con el método query pero no me funcionó por lo que se hizo el filtrado booleano)\n",
    "data_clean = data[data['datetime'] >= \"2019-08-01\"]"
   ]
  },
  {
   "cell_type": "markdown",
   "metadata": {},
   "source": [
    "<div class=\"alert alert-block alert-success\"> <b>Celda [146]</b> <a class=\"tocSkip\"></a> El filtrado booleano es correcto. </div>"
   ]
  },
  {
   "cell_type": "code",
   "execution_count": 18,
   "metadata": {
    "scrolled": false
   },
   "outputs": [
    {
     "data": {
      "image/png": "[encoded data removed]",
      "text/plain": [
       "<Figure size 1400x500 with 1 Axes>"
      ]
     },
     "metadata": {},
     "output_type": "display_data"
    }
   ],
   "source": [
    "#Graficamos en histograma el corte de usuarios que sí nos interesan.\n",
    "data_clean['datetime'].hist(bins=7*24, figsize=(14,5))\n",
    "plt.show()"
   ]
  },
  {
   "cell_type": "code",
   "execution_count": 19,
   "metadata": {},
   "outputs": [
    {
     "data": {
      "text/plain": [
       "array([246, 247, 248])"
      ]
     },
     "execution_count": 19,
     "metadata": {},
     "output_type": "execute_result"
    }
   ],
   "source": [
    "#Comprobamos que efectivamente en nuestro slice existen usuarios de los 3 grupos que estamos estudiando.\n",
    "data_clean['group'].unique()"
   ]
  },
  {
   "cell_type": "markdown",
   "metadata": {},
   "source": [
    "Ahora con un slice de datos más limpios en términos de la fecha, procedemos a recalcular algunas de las métricas."
   ]
  },
  {
   "cell_type": "code",
   "execution_count": 20,
   "metadata": {},
   "outputs": [
    {
     "name": "stdout",
     "output_type": "stream",
     "text": [
      "241298\n"
     ]
    }
   ],
   "source": [
    "#Recalculamos la cantidad de eventos\n",
    "total_event_clean = len(data_clean['event'])\n",
    "print(total_event_clean)"
   ]
  },
  {
   "cell_type": "code",
   "execution_count": 21,
   "metadata": {},
   "outputs": [
    {
     "name": "stdout",
     "output_type": "stream",
     "text": [
      "7534\n"
     ]
    }
   ],
   "source": [
    "#Calculamos el número de usuarios en los registros.\n",
    "users_clean = len(data_clean['user'].unique())\n",
    "print(users_clean)"
   ]
  },
  {
   "cell_type": "code",
   "execution_count": 22,
   "metadata": {},
   "outputs": [
    {
     "name": "stdout",
     "output_type": "stream",
     "text": [
      "32.02787363950093\n"
     ]
    }
   ],
   "source": [
    "#Obtenemos el promedio de eventos por usuario con el método len.\n",
    "eventos_per_user = total_event_clean/users_clean\n",
    "print(eventos_per_user)"
   ]
  },
  {
   "cell_type": "markdown",
   "metadata": {},
   "source": [
    "# 4 Estudio de embudo"
   ]
  },
  {
   "cell_type": "code",
   "execution_count": 23,
   "metadata": {
    "scrolled": true
   },
   "outputs": [
    {
     "data": {
      "text/plain": [
       "['Tutorial',\n",
       " 'MainScreenAppear',\n",
       " 'OffersScreenAppear',\n",
       " 'CartScreenAppear',\n",
       " 'PaymentScreenSuccessful']"
      ]
     },
     "execution_count": 23,
     "metadata": {},
     "output_type": "execute_result"
    }
   ],
   "source": [
    "#Obtenemos los tipos de eventos en los registros.\n",
    "list(data_clean['event'].unique())"
   ]
  },
  {
   "cell_type": "markdown",
   "metadata": {},
   "source": [
    "<div class=\"alert alert-block alert-success\"> <b>Celda [152]</b> <a class=\"tocSkip\"></a> El análisis de conversión por evento es sólido y bien estructurado. La lógica de cálculo de conversión en cada etapa está bien aplicada. </div> <div class=\"alert alert-block alert-warning\"> <b>Celda [156]</b> <a class=\"tocSkip\"></a> El cálculo de conversión por etapa es correcto, pero podrías optimizar la asignación de `event_conversion` usando `shift()` en lugar de un bucle. Ejemplo: \n",
    "    \n",
    "    user_counts['event_conversion'] = user_counts['unique_users'].div(user_counts['unique_users'].shift()) \n",
    "    \n",
    "Esto haría el código más eficiente. </div>"
   ]
  },
  {
   "cell_type": "code",
   "execution_count": 24,
   "metadata": {},
   "outputs": [
    {
     "name": "stdout",
     "output_type": "stream",
     "text": [
      "MainScreenAppear           117431\n",
      "OffersScreenAppear          46350\n",
      "CartScreenAppear            42365\n",
      "PaymentScreenSuccessful     34113\n",
      "Tutorial                     1039\n",
      "Name: event, dtype: int64\n"
     ]
    }
   ],
   "source": [
    "#Obtenemos la frecuencia de cada suceso.\n",
    "\n",
    "event_counts = data_clean['event'].value_counts()\n",
    "print(event_counts)"
   ]
  },
  {
   "cell_type": "code",
   "execution_count": 25,
   "metadata": {
    "scrolled": true
   },
   "outputs": [
    {
     "name": "stdout",
     "output_type": "stream",
     "text": [
      "                     event  unique_users\n",
      "1         MainScreenAppear          7419\n",
      "2       OffersScreenAppear          4593\n",
      "0         CartScreenAppear          3734\n",
      "3  PaymentScreenSuccessful          3539\n",
      "4                 Tutorial           840\n"
     ]
    }
   ],
   "source": [
    "#Obtenemos la cantidad de usuarios que realizaron cada una de las acciones.\n",
    "\n",
    "user_counts = data_clean.groupby('event')['user'].nunique().reset_index()\n",
    "user_counts.columns = ['event', 'unique_users']\n",
    "user_counts = user_counts.sort_values(by='unique_users', ascending=False)\n",
    "print(user_counts)\n"
   ]
  },
  {
   "cell_type": "code",
   "execution_count": 26,
   "metadata": {},
   "outputs": [
    {
     "name": "stdout",
     "output_type": "stream",
     "text": [
      "                     event  unique_users  total_conversion\n",
      "1         MainScreenAppear          7419         98.473586\n",
      "2       OffersScreenAppear          4593         60.963632\n",
      "0         CartScreenAppear          3734         49.561986\n",
      "3  PaymentScreenSuccessful          3539         46.973719\n",
      "4                 Tutorial           840         11.149456\n"
     ]
    }
   ],
   "source": [
    "#Sobre la tabal de user_counts agregamos una columna que muestra la proporción de usuarios que realizó cada acciòn.\n",
    "user_counts['total_conversion'] = (user_counts['unique_users'] / 7534) * 100\n",
    "print(user_counts)"
   ]
  },
  {
   "cell_type": "code",
   "execution_count": 27,
   "metadata": {},
   "outputs": [
    {
     "name": "stdout",
     "output_type": "stream",
     "text": [
      "                     event  unique_users  total_conversion  event_conversion\n",
      "1         MainScreenAppear          7419         98.473586               NaN\n",
      "2       OffersScreenAppear          4593         60.963632         61.908613\n",
      "0         CartScreenAppear          3734         49.561986         81.297627\n",
      "3  PaymentScreenSuccessful          3539         46.973719         94.777718\n",
      "4                 Tutorial           840         11.149456         23.735519\n"
     ]
    }
   ],
   "source": [
    "#Procedemos a calcular la conversión por etapa. (Este paso tuve que consultar para poder hacerme una pequeña función que ayudara con la tarea en lugar de hacerlo manual)\n",
    "\n",
    "event_conversion = [None]\n",
    "\n",
    "# Recorremos las filas calculando la conversión:\n",
    "\n",
    "for row in range(1, len(user_counts)):  \n",
    "    prev_users = user_counts.iloc[row - 1]['unique_users']\n",
    "    current_users = user_counts.iloc[row]['unique_users']\n",
    "    event_conversion.append((current_users / prev_users) * 100)\n",
    "\n",
    "# Agregamos la columna al DataFrame\n",
    "user_counts['event_conversion'] = event_conversion\n",
    "\n",
    "print(user_counts)\n"
   ]
  },
  {
   "cell_type": "markdown",
   "metadata": {},
   "source": [
    "Considerando que de nuestra columna de event_conversion el Nan en realidad representa el 100%, podemos indicar que, excluyendo el tutorial,  de la pantalla principal a la pantalla de ofertas es donde hay más pérdida de usuarios por una conversión de solo el 38.1% de los usuarios mientras que el resto de las conversiones son mejor de 81%, 94%. Por lo que podemos calcular, el 46.97 % de los usuarios hace el viaje completo del embudo."
   ]
  },
  {
   "cell_type": "markdown",
   "metadata": {},
   "source": [
    "# 5 Estudio del experimento"
   ]
  },
  {
   "cell_type": "code",
   "execution_count": 28,
   "metadata": {},
   "outputs": [
    {
     "name": "stdout",
     "output_type": "stream",
     "text": [
      "group\n",
      "246    2484\n",
      "247    2513\n",
      "248    2537\n",
      "Name: user, dtype: int64\n"
     ]
    }
   ],
   "source": [
    "#Procedemos a calcular cuantos usuarios hay en cada grupo de los experimentos.\n",
    "\n",
    "users_per_exp_group = data_clean.pivot_table(index='group',values='user', aggfunc='nunique')['user']\n",
    "print(users_per_exp_group)"
   ]
  },
  {
   "cell_type": "code",
   "execution_count": 29,
   "metadata": {
    "scrolled": true
   },
   "outputs": [
    {
     "name": "stdout",
     "output_type": "stream",
     "text": [
      "Prueba de Mann-Whitney para muestras A: U = 3129241.000, p-valor = 0.87384\n"
     ]
    }
   ],
   "source": [
    "import scipy.stats as stats\n",
    "\n",
    "# Filtramos cada grupo\n",
    "group_a = data_clean[data_clean['group'] == 246] \n",
    "group_aa = data_clean[data_clean['group'] == 247]\n",
    "\n",
    "# Contamos el número de eventos por usuario en cada grupo (Este descubrí que para el mann-whitney habia que convertir a valores numericos para que funcione)\n",
    "events_per_user_a = group_a.groupby('user')['event'].count()\n",
    "events_per_user_aa = group_aa.groupby('user')['event'].count()\n",
    "\n",
    "# Prueba de Mann-Whitney\n",
    "stat, p_value = stats.mannwhitneyu(events_per_user_a, events_per_user_aa)\n",
    "\n",
    "print(f\"Prueba de Mann-Whitney para muestras A: U = {stat:.3f}, p-valor = {p_value:.5f}\")\n"
   ]
  },
  {
   "cell_type": "markdown",
   "metadata": {},
   "source": [
    "<div class=\"alert alert-block alert-success\"> <b>Celda [158]</b> <a class=\"tocSkip\"></a> La prueba de Mann-Whitney es adecuada para comparar los grupos A/A. Buen manejo de la distribución de eventos por usuario. </div> <div class=\"alert alert-block alert-success\"> <b>Celda [159]</b> <a class=\"tocSkip\"></a> El cálculo de usuarios por evento es correcto, pero los valores en `users_per_group_per_event` pueden incluir duplicados si un usuario interactúa varias veces. Se recomienda: \n",
    "\n",
    "    users_per_group_per_event = data_clean.groupby(['group', 'event'])['user'].nunique().unstack()\n",
    "\n",
    "Esto evita contar usuarios más de una vez por evento. </div> <div class=\"alert alert-block alert-warning\"> <b>Celda [161]</b> <a class=\"tocSkip\"></a> La función `mann_whitney_by_event()` es correcta, pero podrías evitar la iteración y aplicar `groupby()` directamente para optimizar el rendimiento. </div>"
   ]
  },
  {
   "cell_type": "markdown",
   "metadata": {},
   "source": [
    "Por lo que hemos determinado, en términos de la cantidad de eventos por usuario en ambos grupos A/A no existe una diferencia estadística significativa lo cual es positivo por que sugiere que nuestros sistema de control de separaciòn de usuarios para la generaciòn de muestras es correcto, por lo que los resultados pueden ser comparables. "
   ]
  },
  {
   "cell_type": "code",
   "execution_count": 30,
   "metadata": {},
   "outputs": [
    {
     "data": {
      "text/html": [
       "<div>\n",
       "<style scoped>\n",
       "    .dataframe tbody tr th:only-of-type {\n",
       "        vertical-align: middle;\n",
       "    }\n",
       "\n",
       "    .dataframe tbody tr th {\n",
       "        vertical-align: top;\n",
       "    }\n",
       "\n",
       "    .dataframe thead th {\n",
       "        text-align: right;\n",
       "    }\n",
       "</style>\n",
       "<table border=\"1\" class=\"dataframe\">\n",
       "  <thead>\n",
       "    <tr style=\"text-align: right;\">\n",
       "      <th>group</th>\n",
       "      <th>246</th>\n",
       "      <th>247</th>\n",
       "      <th>248</th>\n",
       "    </tr>\n",
       "    <tr>\n",
       "      <th>event</th>\n",
       "      <th></th>\n",
       "      <th></th>\n",
       "      <th></th>\n",
       "    </tr>\n",
       "  </thead>\n",
       "  <tbody>\n",
       "    <tr>\n",
       "      <th>CartScreenAppear</th>\n",
       "      <td>1266</td>\n",
       "      <td>1238</td>\n",
       "      <td>1230</td>\n",
       "    </tr>\n",
       "    <tr>\n",
       "      <th>MainScreenAppear</th>\n",
       "      <td>2450</td>\n",
       "      <td>2476</td>\n",
       "      <td>2493</td>\n",
       "    </tr>\n",
       "    <tr>\n",
       "      <th>OffersScreenAppear</th>\n",
       "      <td>1542</td>\n",
       "      <td>1520</td>\n",
       "      <td>1531</td>\n",
       "    </tr>\n",
       "    <tr>\n",
       "      <th>PaymentScreenSuccessful</th>\n",
       "      <td>1200</td>\n",
       "      <td>1158</td>\n",
       "      <td>1181</td>\n",
       "    </tr>\n",
       "    <tr>\n",
       "      <th>Tutorial</th>\n",
       "      <td>278</td>\n",
       "      <td>283</td>\n",
       "      <td>279</td>\n",
       "    </tr>\n",
       "  </tbody>\n",
       "</table>\n",
       "</div>"
      ],
      "text/plain": [
       "group                     246   247   248\n",
       "event                                    \n",
       "CartScreenAppear         1266  1238  1230\n",
       "MainScreenAppear         2450  2476  2493\n",
       "OffersScreenAppear       1542  1520  1531\n",
       "PaymentScreenSuccessful  1200  1158  1181\n",
       "Tutorial                  278   283   279"
      ]
     },
     "execution_count": 30,
     "metadata": {},
     "output_type": "execute_result"
    }
   ],
   "source": [
    "#Para continuar con nuestros análisis determinaremos cual es el evento con mayor frecuencia de cada grupo.\n",
    "\n",
    "users_per_group_per_event = data_clean.pivot_table(index='event', values='user', columns='group', aggfunc='nunique')\n",
    "users_per_group_per_event"
   ]
  },
  {
   "cell_type": "markdown",
   "metadata": {},
   "source": [
    "<div class=\"alert alert-block alert-info\">\n",
    "<b>Las partes que siguen me requeririeron mucho tiempo y mucha iteración, prueba-error, y consultar fuentes externas ya que era común generar errores. Sobre todo la función fue muuy retador pero creo llegué al final a algo funcional </b> <a class=“tocSkip”></a>\n",
    "</div>"
   ]
  },
  {
   "cell_type": "markdown",
   "metadata": {},
   "source": [
    "<div class=\"alert alert-block alert-success\"> <b>Comentario general</b> <a class=\"tocSkip\"></a> Andrés, es genial que reconocieras los desafíos al construir tu función. En ciencia de datos, la iteración, el prueba-error y la consulta de fuentes externas son parte del proceso de aprendizaje y desarrollo. Tu función `mann_whitney_by_event()` cumple su propósito. Tal vez puedo sugerir algunas optimizaciones para mejorar su eficiencia y claridad. \n",
    "Optimización de mann_whitney_by_event()\n",
    "1️⃣ Evitar la iteración manual con groupby().apply()\n",
    "En lugar de recorrer manualmente los eventos con un for, puedes usar groupby().apply() para aplicar la prueba de Mann-Whitney en una sola operación.\n",
    "\n",
    "Código original (uso de for-loop):\n",
    "\n",
    "    def mann_whitney_by_event(df, group_col, event_col, group1, group2):\n",
    "        unique_events = df[event_col].unique()\n",
    "        results = []\n",
    "\n",
    "        for event in unique_events:\n",
    "            group1_data = df[(df[group_col] == group1) & (df[event_col] == event)]\n",
    "            group2_data = df[(df[group_col] == group2) & (df[event_col] == event)]\n",
    "\n",
    "            n1, n2 = len(group1_data), len(group2_data)\n",
    "\n",
    "            if n1 > 0 and n2 > 0:  # Verificamos que ambos grupos tengan datos\n",
    "                stat, p_value = stats.mannwhitneyu(group1_data['user'], group2_data['user'])\n",
    "                results.append([event, stat, p_value])\n",
    "\n",
    "        return pd.DataFrame(results, columns=['event', 'U_statistic', 'p_value'])\n",
    "\n",
    "Código optimizado (uso de groupby().apply()):\n",
    "\n",
    "    def mann_whitney_by_event_optimized(df, group_col, event_col, group1, group2):\n",
    "        # Filtramos solo los datos de los grupos a comparar\n",
    "        df_filtered = df[df[group_col].isin([group1, group2])]\n",
    "\n",
    "        # Aplicamos la prueba por cada evento\n",
    "        def mann_whitney_test(sub_df):\n",
    "            group1_data = sub_df[sub_df[group_col] == group1]['user']\n",
    "            group2_data = sub_df[sub_df[group_col] == group2]['user']\n",
    "\n",
    "            if len(group1_data) > 0 and len(group2_data) > 0:\n",
    "                stat, p_value = stats.mannwhitneyu(group1_data, group2_data)\n",
    "                return pd.Series({'U_statistic': stat, 'p_value': p_value})\n",
    "            else:\n",
    "                return pd.Series({'U_statistic': None, 'p_value': None})\n",
    "\n",
    "        return df_filtered.groupby(event_col).apply(mann_whitney_test).reset_index()\n",
    "</div>\n"
   ]
  },
  {
   "cell_type": "code",
   "execution_count": 31,
   "metadata": {},
   "outputs": [
    {
     "name": "stdout",
     "output_type": "stream",
     "text": [
      "Prueba de Mann-Whitney para 'MainScreenAppear': U = 3011023.000, p-valor = 0.65800\n"
     ]
    }
   ],
   "source": [
    "#Hemos determinado que el evento con más frecuencias es el MainScreenAppear, por lo que corremos la prueba de mann whitney para comprobar diferencias:\n",
    "\n",
    "import scipy.stats as stats\n",
    "\n",
    "# Filtramos para MainScreenAppear\n",
    "group_a_main = data_clean[(data_clean['group'] == 246) & (data_clean['event'] == \"MainScreenAppear\")]\n",
    "group_aa_main = data_clean[(data_clean['group'] == 247) & (data_clean['event'] == \"MainScreenAppear\")]\n",
    "\n",
    "# Extraer la cantidad de veces que aparece el evento por usuario\n",
    "events_a = group_a_main['user'].value_counts()\n",
    "events_aa = group_aa_main['user'].value_counts()\n",
    "\n",
    "# Prueba de Mann-Whitney U\n",
    "stat, p_value = stats.mannwhitneyu(events_a, events_aa)\n",
    "\n",
    "print(f\"Prueba de Mann-Whitney para 'MainScreenAppear': U = {stat:.3f}, p-valor = {p_value:.5f}\")\n"
   ]
  },
  {
   "cell_type": "markdown",
   "metadata": {},
   "source": [
    "Nuevamente observamos que de acuerdo a nuestra prueba ambos grupos A/A obtenien un valor por arriba de .50 que es el estándard que hemos fijado como aceptable para nuestro nivel de significacia."
   ]
  },
  {
   "cell_type": "code",
   "execution_count": 32,
   "metadata": {},
   "outputs": [
    {
     "name": "stdout",
     "output_type": "stream",
     "text": [
      "                     event  U_statistic       p_value\n",
      "0                 Tutorial      55521.0  9.595039e-01\n",
      "1         MainScreenAppear  723716297.0  6.022866e-06\n",
      "2       OffersScreenAppear  105496899.0  6.650731e-19\n",
      "3         CartScreenAppear   88677264.0  4.896070e-06\n",
      "4  PaymentScreenSuccessful   58459504.0  3.992385e-03\n"
     ]
    }
   ],
   "source": [
    "import scipy.stats as stats\n",
    "\n",
    "def mann_whitney_by_event(df, group_col, event_col, group1, group2):\n",
    "\n",
    "    unique_events = df[event_col].unique()\n",
    "    results = []\n",
    "\n",
    "    for event in unique_events:\n",
    "        group1_data = df[(df[group_col] == group1) & (df[event_col] == event)]\n",
    "        group2_data = df[(df[group_col] == group2) & (df[event_col] == event)]\n",
    "\n",
    "        # Extraemos el tamaño de cada grupo (esta parte la consulte por que estaba muy complejo)\n",
    "        n1, n2 = len(group1_data), len(group2_data)\n",
    "\n",
    "        if n1 > 0 and n2 > 0:  # Verificamos que ambos grupos tengan datos\n",
    "            stat, p_value = stats.mannwhitneyu(group1_data['user'], group2_data['user'])\n",
    "            results.append([event, stat, p_value])\n",
    "    \n",
    "    # Convertimos los resultados en un DataFrame\n",
    "    results_df = pd.DataFrame(results, columns=['event', 'U_statistic', 'p_value'])\n",
    "    \n",
    "    return results_df\n",
    "\n",
    "# Aplicamos la función a los grupos 246 y 247\n",
    "results_df = mann_whitney_by_event(data_clean, 'group', 'event', 246, 247)\n",
    "print(results_df)\n"
   ]
  },
  {
   "cell_type": "markdown",
   "metadata": {},
   "source": [
    "<div class=\"alert alert-block alert-warning\"> <b>Celda [161]</b> <a class=\"tocSkip\"></a> Andrés, la prueba de Mann-Whitney U es adecuada cuando comparamos distribuciones en datos no paramétricos, pero en este caso estás comparando proporciones de conversión entre grupos. Para este tipo de análisis, una **prueba Z para proporciones** puede ser apropiada, ya que evalúa diferencias en tasas de éxito entre grupos.\n",
    "\n",
    "Podrías implementar la prueba Z de la siguiente manera:\n",
    "\n",
    "    from statsmodels.stats.proportion import proportions_ztest\n",
    "\n",
    "    # Usuarios que completaron el evento en cada grupo\n",
    "    success_a = data_clean[data_clean['group'] == 246]['event'].value_counts().get('PaymentScreenSuccessful', 0)\n",
    "    success_b = data_clean[data_clean['group'] == 248]['event'].value_counts().get('PaymentScreenSuccessful', 0)\n",
    "\n",
    "    # Total de usuarios en cada grupo\n",
    "    n_a = data_clean[data_clean['group'] == 246]['user'].nunique()\n",
    "    n_b = data_clean[data_clean['group'] == 248]['user'].nunique()\n",
    "\n",
    "    # Prueba Z\n",
    "    stat, p_value = proportions_ztest([success_a, success_b], [n_a, n_b])\n",
    "    print(f\"Prueba Z para proporciones: Z = {stat:.3f}, p-valor = {p_value:.5f}\")\n",
    "\n",
    "Esto te permitirá evaluar si la diferencia en tasas de conversión entre grupos es estadísticamente significativa con un método más adecuado para proporciones. ¡Pruébalo y revisa si los resultados cambian!\n",
    "\n",
    "</div>"
   ]
  },
  {
   "cell_type": "code",
   "execution_count": 33,
   "metadata": {},
   "outputs": [
    {
     "name": "stdout",
     "output_type": "stream",
     "text": [
      "                     event  U_statistic  p_value\n",
      "0                 Tutorial      55521.0  0.95950\n",
      "1         MainScreenAppear  723716297.0  0.00001\n",
      "2       OffersScreenAppear  105496899.0  0.00000\n",
      "3         CartScreenAppear   88677264.0  0.00000\n",
      "4  PaymentScreenSuccessful   58459504.0  0.00399\n"
     ]
    }
   ],
   "source": [
    "# Convertimos nuestros resultados a un formato más interpretable en función de nuestras pruebas anteriores:\n",
    "results_df['p_value'] = results_df['p_value'].apply(lambda x: f\"{x:.5f}\")\n",
    "\n",
    "# Para ver los resultados con el formato deseado:\n",
    "print(results_df)\n"
   ]
  },
  {
   "cell_type": "markdown",
   "metadata": {},
   "source": [
    "Hemos detectado que existe diferencia estadísticamente significativa entre ambos grupos A/A por lo que sería recomendable verificar por qué está sucediendo esto. Por lo pronto, dado que tenemos dos muestras A, procedemos a comparar ambas con las del grupo de experimento."
   ]
  },
  {
   "cell_type": "code",
   "execution_count": 34,
   "metadata": {},
   "outputs": [
    {
     "name": "stdout",
     "output_type": "stream",
     "text": [
      "                     event  U_statistic       p_value\n",
      "0                 Tutorial      59976.0  9.207896e-01\n",
      "1         MainScreenAppear  767394308.0  5.431559e-01\n",
      "2       OffersScreenAppear  113640729.0  5.123165e-21\n",
      "3         CartScreenAppear  107524364.0  1.110235e-08\n",
      "4  PaymentScreenSuccessful   69867392.0  2.324038e-06\n"
     ]
    }
   ],
   "source": [
    "#Prueba A/B 246 y 248\n",
    "results_ab = mann_whitney_by_event(data_clean, 'group', 'event', 246, 248)\n",
    "print(results_ab)"
   ]
  },
  {
   "cell_type": "code",
   "execution_count": 35,
   "metadata": {},
   "outputs": [
    {
     "name": "stdout",
     "output_type": "stream",
     "text": [
      "                     event  U_statistic  p_value\n",
      "0                 Tutorial      55521.0  0.95950\n",
      "1         MainScreenAppear  723716297.0  0.00001\n",
      "2       OffersScreenAppear  105496899.0  0.00000\n",
      "3         CartScreenAppear   88677264.0  0.00000\n",
      "4  PaymentScreenSuccessful   58459504.0  0.00399\n"
     ]
    }
   ],
   "source": [
    "# Convertimos nuestros resultados a un formato más interpretable en función de nuestras pruebas anteriores:\n",
    "results_ab['p_value'] = results_ab['p_value'].apply(lambda x: f\"{x:.5f}\")\n",
    "\n",
    "# Para ver los resultados con el formato deseado:\n",
    "print(results_df)"
   ]
  },
  {
   "cell_type": "code",
   "execution_count": 36,
   "metadata": {},
   "outputs": [
    {
     "name": "stdout",
     "output_type": "stream",
     "text": [
      "                     event  U_statistic       p_value\n",
      "0                 Tutorial      63776.0  9.443386e-01\n",
      "1         MainScreenAppear  811488468.0  1.021045e-07\n",
      "2       OffersScreenAppear  124104856.0  6.657754e-01\n",
      "3         CartScreenAppear   93298186.0  4.021823e-02\n",
      "4  PaymentScreenSuccessful   59534684.0  1.317657e-03\n"
     ]
    }
   ],
   "source": [
    "#Prueba AA/B 247 Y 248\n",
    "results_aab = mann_whitney_by_event(data_clean, 'group', 'event', 247, 248)\n",
    "print(results_aab)"
   ]
  },
  {
   "cell_type": "code",
   "execution_count": 37,
   "metadata": {},
   "outputs": [
    {
     "name": "stdout",
     "output_type": "stream",
     "text": [
      "                     event  U_statistic  p_value\n",
      "0                 Tutorial      63776.0  0.94434\n",
      "1         MainScreenAppear  811488468.0  0.00000\n",
      "2       OffersScreenAppear  124104856.0  0.66578\n",
      "3         CartScreenAppear   93298186.0  0.04022\n",
      "4  PaymentScreenSuccessful   59534684.0  0.00132\n"
     ]
    }
   ],
   "source": [
    "# Convertimos nuestros resultados a un formato más interpretable en función de nuestras pruebas anteriores:\n",
    "results_aab['p_value'] = results_aab['p_value'].apply(lambda x: f\"{x:.5f}\")\n",
    "\n",
    "# Para ver los resultados con el formato deseado:\n",
    "print(results_aab)"
   ]
  },
  {
   "cell_type": "markdown",
   "metadata": {},
   "source": [
    "Hemos detectado que los dos grupos de control arrojan resultados distintos en la diferencia estadística en comparación con el grupo experimental por lo que sugiere que quizá no hubo una correcta segmentación o algo que habría que revisarse. Ante la situación procedemos a combinar ambos grupos A para luego comparar ese grupo combinado con el grupo de experimento B."
   ]
  },
  {
   "cell_type": "markdown",
   "metadata": {},
   "source": [
    "<div class=\"alert alert-block alert-info\">\n",
    "<b>Aquí me metí a más rollo X_x porque mi función original nomás no funcionaba para combinar los datos, por lo que con muchìsima prueba y error y consulta, se modifica para crear una que funcionara </b> <a class=“tocSkip”></a>\n",
    "</div>"
   ]
  },
  {
   "cell_type": "markdown",
   "metadata": {},
   "source": [
    "<div class=\"alert alert-block alert-success\"> <b>Comentario general</b> <a class=\"tocSkip\"></a> Andrés, es completamente normal encontrarse con dificultades al manejar estructuras de datos y pruebas estadísticas. Lo importante es que lograste resolver el problema con persistencia y consulta de recursos externos. ¡Eso es lo que hace un buen analista de datos!\n",
    "Dicho esto, revisé la función que implementaste para combinar los grupos A/A y compararlos con el grupo experimental. Es funcional. Tal vez haya otra manera, quzá más eficiente, de estructurar el código para evitar bucles y ganar claridad.\n",
    "\n",
    "Código original (uso de isin() y bucles manuales):\n",
    "    \n",
    "    def mann_whitney_by_event(df, group_col, event_col, group1, group2):\n",
    "    unique_events = df[event_col].unique()\n",
    "    results = []\n",
    "\n",
    "    # Aqui se combinan los dos grupos\n",
    "    group1_data = df[df[group_col].isin(group1)]\n",
    "    group2_data = df[df[group_col] == group2]\n",
    "\n",
    "    for event in unique_events:\n",
    "        group1_event_data = group1_data[group1_data[event_col] == event]\n",
    "        group2_event_data = group2_data[group2_data[event_col] == event]\n",
    "\n",
    "        # Extraemos el tamaño de cada grupo\n",
    "        n1, n2 = len(group1_event_data), len(group2_event_data)\n",
    "\n",
    "        if n1 > 0 and n2 > 0:  # Verificamos que ambos grupos tengan datos\n",
    "            stat, p_value = stats.mannwhitneyu(group1_event_data['user'], group2_event_data['user'])\n",
    "            results.append([event, stat, p_value])\n",
    "\n",
    "    # Convertimos los resultados en un DataFrame\n",
    "    return pd.DataFrame(results, columns=['event', 'U_statistic', 'p_value'])\n",
    "\n",
    "Código optimizado (uso de groupby().apply() y mejor filtrado):    \n",
    "    \n",
    "    def mann_whitney_by_event_optimized(df, group_col, event_col, group1_list, group2):\n",
    "        df_filtered = df[df[group_col].isin(group1_list + [group2])]\n",
    "\n",
    "        def mann_whitney_test(sub_df):\n",
    "            group1_data = sub_df[sub_df[group_col].isin(group1_list)]['user']\n",
    "            group2_data = sub_df[sub_df[group_col] == group2]['user']\n",
    "\n",
    "            if len(group1_data) > 0 and len(group2_data) > 0:\n",
    "                stat, p_value = stats.mannwhitneyu(group1_data, group2_data)\n",
    "                return pd.Series({'U_statistic': stat, 'p_value': p_value})\n",
    "            else:\n",
    "                return pd.Series({'U_statistic': None, 'p_value': None})\n",
    "\n",
    "        return df_filtered.groupby(event_col).apply(mann_whitney_test).reset_index()\n",
    "\n",
    "¿Qué mejoras aporta esta optimización?\n",
    "    \n",
    "✅ Elimina bucles innecesarios: groupby().apply() realiza la prueba para cada evento sin recorrer manualmente la lista.\n",
    "✅ Mejor combinación de grupos: En lugar de manejar group1 como una lista separada y luego filtrarla manualmente, se agrupan los datos más eficientemente.\n",
    "✅ Mayor claridad y legibilidad: La estructura del código es más limpia y fácil de entender.\n",
    "</div>"
   ]
  },
  {
   "cell_type": "code",
   "execution_count": 38,
   "metadata": {},
   "outputs": [
    {
     "name": "stdout",
     "output_type": "stream",
     "text": [
      "                     event   U_statistic       p_value\n",
      "0                 Tutorial  1.237520e+05  9.216228e-01\n",
      "1         MainScreenAppear  1.578883e+09  5.060381e-04\n",
      "2       OffersScreenAppear  2.377456e+08  1.420539e-08\n",
      "3         CartScreenAppear  2.008226e+08  3.247451e-06\n",
      "4  PaymentScreenSuccessful  1.294021e+08  2.943930e-06\n"
     ]
    }
   ],
   "source": [
    "def mann_whitney_by_event(df, group_col, event_col, group1, group2):\n",
    "    unique_events = df[event_col].unique()\n",
    "    results = []\n",
    "    \n",
    "    # Aqui se combinan los dos grupos\n",
    "    group1_data = df[df[group_col].isin(group1)]\n",
    "    group2_data = df[df[group_col] == group2]\n",
    "\n",
    "    for event in unique_events:\n",
    "        group1_event_data = group1_data[group1_data[event_col] == event]\n",
    "        group2_event_data = group2_data[group2_data[event_col] == event]\n",
    "\n",
    "        # Extraemos el tamaño de cada grupo\n",
    "        n1, n2 = len(group1_event_data), len(group2_event_data)\n",
    "\n",
    "        if n1 > 0 and n2 > 0:  # Verificamos que ambos grupos tengan datos\n",
    "            stat, p_value = stats.mannwhitneyu(group1_event_data['user'], group2_event_data['user'])\n",
    "            results.append([event, stat, p_value])\n",
    "    \n",
    "    # Convertimos los resultados en un DataFrame\n",
    "    results_df = pd.DataFrame(results, columns=['event', 'U_statistic', 'p_value'])\n",
    "    \n",
    "    return results_df\n",
    "\n",
    "# Definimos los grupos que vamos a comparar combinando los dos de A\n",
    "group_combined = [246, 247]\n",
    "group_to_compare = 248\n",
    "\n",
    "# Aplicamos la función a los grupos combinados 246 y 247, con 248\n",
    "results_aaab = mann_whitney_by_event(data_clean, 'group', 'event', group_combined, group_to_compare)\n",
    "print(results_aaab)"
   ]
  },
  {
   "cell_type": "code",
   "execution_count": 39,
   "metadata": {},
   "outputs": [
    {
     "name": "stdout",
     "output_type": "stream",
     "text": [
      "                     event   U_statistic  p_value\n",
      "0                 Tutorial  1.237520e+05  0.92162\n",
      "1         MainScreenAppear  1.578883e+09  0.00051\n",
      "2       OffersScreenAppear  2.377456e+08  0.00000\n",
      "3         CartScreenAppear  2.008226e+08  0.00000\n",
      "4  PaymentScreenSuccessful  1.294021e+08  0.00000\n"
     ]
    }
   ],
   "source": [
    "# Convertimos nuestros resultados a un formato más interpretable en función de nuestras pruebas anteriores:\n",
    "results_aaab['p_value'] = results_aaab['p_value'].apply(lambda x: f\"{x:.5f}\")\n",
    "\n",
    "# Para ver los resultados con el formato deseado:\n",
    "print(results_aaab)"
   ]
  },
  {
   "cell_type": "markdown",
   "metadata": {},
   "source": [
    "# CONCLUSIÓN"
   ]
  },
  {
   "cell_type": "markdown",
   "metadata": {},
   "source": [
    "Como conclusión podemos decir que los resultados obtenidos nos indican que el experimento sí está funcionando y reflejando una diferencia entre los grupos de control y aquellos con la implementación, ya que hay diferencias estadísticamente significativas en la distribución de los usuarios que realizaron los eventos analizados. Si bien parece haber un error entre ambos grupos A/A una vez combinando los usuarios de ambos grupos de control y comparando con los del experimento notamos diferencias estadísticamente significativas."
   ]
  },
  {
   "cell_type": "markdown",
   "metadata": {},
   "source": [
    "<div class=\"alert alert-block alert-success\"> <b>Conclusión</b> <a class=\"tocSkip\"></a> Andrés, tu conclusión es clara y bien fundamentada. Lograste interpretar correctamente los resultados estadísticos y conectar los hallazgos con el propósito del experimento. Destacaste la existencia de diferencias significativas entre los grupos y señalaste posibles problemas en la segmentación de usuarios, lo cual muestra un análisis crítico y bien pensado. Además, la decisión de combinar los grupos A/A para una comparación más robusta con el grupo experimental fue un excelente enfoque. ¡Gran trabajo! </div>"
   ]
  },
  {
   "cell_type": "markdown",
   "metadata": {},
   "source": [
    "<div class=\"alert alert-block alert-success\"> <b>Comentario final</b> <a class=\"tocSkip\"></a> Andrés, hiciste un muy buen trabajo en este proyecto. Se nota el esfuerzo y el tiempo que dedicaste, especialmente en la parte de las pruebas estadísticas y en la estructuración del análisis. La forma en que identificaste posibles problemas en la segmentación de usuarios y cómo buscaste validar los resultados es muy acertada.\n",
    "Lo más importante es que lograste implementar correctamente el análisis y llegar a conclusiones bien justificadas. Es completamente normal enfrentar dificultades al escribir funciones más complejas, y lo clave es que no te rendiste hasta hacerlo funcionar.\n",
    "\n",
    "Sigue así, afinando poco a poco la claridad y eficiencia de tu código, porque el análisis que hiciste es sólido y demuestra una buena capacidad de razonamiento. ¡Bien hecho!\n",
    "\n",
    "</div>"
   ]
  }
 ],
 "metadata": {
  "ExecuteTimeLog": [
   {
    "duration": 2571,
    "start_time": "2025-02-06T20:20:53.270Z"
   },
   {
    "duration": 222,
    "start_time": "2025-02-06T20:22:08.240Z"
   },
   {
    "duration": 21,
    "start_time": "2025-02-06T20:22:41.254Z"
   },
   {
    "duration": 208,
    "start_time": "2025-02-06T20:24:45.987Z"
   },
   {
    "duration": 6,
    "start_time": "2025-02-06T20:25:17.828Z"
   },
   {
    "duration": 4,
    "start_time": "2025-02-06T20:25:40.130Z"
   },
   {
    "duration": 4,
    "start_time": "2025-02-06T20:26:05.526Z"
   },
   {
    "duration": 3,
    "start_time": "2025-02-06T20:26:10.194Z"
   },
   {
    "duration": 112,
    "start_time": "2025-02-06T20:30:34.421Z"
   },
   {
    "duration": 4,
    "start_time": "2025-02-06T20:39:22.095Z"
   },
   {
    "duration": 15,
    "start_time": "2025-02-06T20:40:38.362Z"
   },
   {
    "duration": 234,
    "start_time": "2025-02-06T20:41:40.485Z"
   },
   {
    "duration": 23,
    "start_time": "2025-02-06T20:41:54.032Z"
   },
   {
    "duration": 17,
    "start_time": "2025-02-06T20:41:59.030Z"
   },
   {
    "duration": 7,
    "start_time": "2025-02-06T20:42:14.377Z"
   },
   {
    "duration": 10,
    "start_time": "2025-02-06T20:42:22.513Z"
   },
   {
    "duration": 6,
    "start_time": "2025-02-06T20:42:34.634Z"
   },
   {
    "duration": 46,
    "start_time": "2025-02-06T20:44:04.946Z"
   },
   {
    "duration": 8,
    "start_time": "2025-02-06T20:44:33.962Z"
   },
   {
    "duration": 423,
    "start_time": "2025-02-06T20:44:44.717Z"
   },
   {
    "duration": 31,
    "start_time": "2025-02-06T20:44:55.213Z"
   },
   {
    "duration": 47,
    "start_time": "2025-02-06T20:45:16.118Z"
   },
   {
    "duration": 4,
    "start_time": "2025-02-06T20:57:19.334Z"
   },
   {
    "duration": 5,
    "start_time": "2025-02-06T20:58:14.633Z"
   },
   {
    "duration": 17,
    "start_time": "2025-02-06T20:58:16.280Z"
   },
   {
    "duration": 54,
    "start_time": "2025-02-06T20:58:20.662Z"
   },
   {
    "duration": 6,
    "start_time": "2025-02-06T20:58:43.117Z"
   },
   {
    "duration": 4,
    "start_time": "2025-02-06T21:00:17.516Z"
   },
   {
    "duration": 43,
    "start_time": "2025-02-06T21:00:17.522Z"
   },
   {
    "duration": 0,
    "start_time": "2025-02-06T21:00:17.567Z"
   },
   {
    "duration": 0,
    "start_time": "2025-02-06T21:00:17.568Z"
   },
   {
    "duration": 4,
    "start_time": "2025-02-06T21:00:36.092Z"
   },
   {
    "duration": 4,
    "start_time": "2025-02-06T21:01:16.459Z"
   },
   {
    "duration": 4,
    "start_time": "2025-02-06T21:01:47.142Z"
   },
   {
    "duration": 4,
    "start_time": "2025-02-06T21:02:20.958Z"
   },
   {
    "duration": 4,
    "start_time": "2025-02-06T21:02:49.414Z"
   },
   {
    "duration": 4,
    "start_time": "2025-02-06T21:03:34.642Z"
   },
   {
    "duration": 3,
    "start_time": "2025-02-06T21:04:03.070Z"
   },
   {
    "duration": 195,
    "start_time": "2025-02-06T21:04:03.076Z"
   },
   {
    "duration": 17,
    "start_time": "2025-02-06T21:04:03.273Z"
   },
   {
    "duration": 120,
    "start_time": "2025-02-06T21:04:03.292Z"
   },
   {
    "duration": 4,
    "start_time": "2025-02-06T21:07:14.557Z"
   },
   {
    "duration": 4,
    "start_time": "2025-02-06T21:10:48.421Z"
   },
   {
    "duration": 5,
    "start_time": "2025-02-06T21:11:19.738Z"
   },
   {
    "duration": 4,
    "start_time": "2025-02-06T21:13:25.219Z"
   },
   {
    "duration": 6,
    "start_time": "2025-02-06T21:13:39.375Z"
   },
   {
    "duration": 5,
    "start_time": "2025-02-06T21:16:33.000Z"
   },
   {
    "duration": 15,
    "start_time": "2025-02-06T21:16:46.744Z"
   },
   {
    "duration": 28,
    "start_time": "2025-02-06T21:24:17.662Z"
   },
   {
    "duration": 3,
    "start_time": "2025-02-06T21:24:45.671Z"
   },
   {
    "duration": 4,
    "start_time": "2025-02-06T21:24:58.962Z"
   },
   {
    "duration": 6,
    "start_time": "2025-02-06T21:25:50.181Z"
   },
   {
    "duration": 1166,
    "start_time": "2025-02-06T21:27:56.085Z"
   },
   {
    "duration": 9,
    "start_time": "2025-02-06T21:30:48.234Z"
   },
   {
    "duration": 6,
    "start_time": "2025-02-06T21:43:02.881Z"
   },
   {
    "duration": 6,
    "start_time": "2025-02-06T21:43:12.792Z"
   },
   {
    "duration": 5,
    "start_time": "2025-02-06T21:43:23.468Z"
   },
   {
    "duration": 5,
    "start_time": "2025-02-06T21:43:46.360Z"
   },
   {
    "duration": 227,
    "start_time": "2025-02-06T21:45:01.012Z"
   },
   {
    "duration": 153,
    "start_time": "2025-02-06T21:54:07.218Z"
   },
   {
    "duration": 5,
    "start_time": "2025-02-06T21:58:53.727Z"
   },
   {
    "duration": 3,
    "start_time": "2025-02-06T21:59:14.147Z"
   },
   {
    "duration": 22,
    "start_time": "2025-02-06T21:59:25.189Z"
   },
   {
    "duration": 153,
    "start_time": "2025-02-06T21:59:48.856Z"
   },
   {
    "duration": 43,
    "start_time": "2025-02-06T22:00:26.920Z"
   },
   {
    "duration": 15,
    "start_time": "2025-02-06T22:05:14.151Z"
   },
   {
    "duration": 3,
    "start_time": "2025-02-06T22:08:52.530Z"
   },
   {
    "duration": 200,
    "start_time": "2025-02-06T22:08:52.535Z"
   },
   {
    "duration": 18,
    "start_time": "2025-02-06T22:08:52.736Z"
   },
   {
    "duration": 120,
    "start_time": "2025-02-06T22:08:52.756Z"
   },
   {
    "duration": 3,
    "start_time": "2025-02-06T22:08:52.880Z"
   },
   {
    "duration": 5,
    "start_time": "2025-02-06T22:08:52.885Z"
   },
   {
    "duration": 4,
    "start_time": "2025-02-06T22:08:52.891Z"
   },
   {
    "duration": 36,
    "start_time": "2025-02-06T22:08:52.897Z"
   },
   {
    "duration": 4,
    "start_time": "2025-02-06T22:08:52.934Z"
   },
   {
    "duration": 6,
    "start_time": "2025-02-06T22:08:52.940Z"
   },
   {
    "duration": 5,
    "start_time": "2025-02-06T22:08:52.949Z"
   },
   {
    "duration": 5,
    "start_time": "2025-02-06T22:08:52.956Z"
   },
   {
    "duration": 5,
    "start_time": "2025-02-06T22:08:52.963Z"
   },
   {
    "duration": 265,
    "start_time": "2025-02-06T22:08:52.971Z"
   },
   {
    "duration": 161,
    "start_time": "2025-02-06T22:08:53.238Z"
   },
   {
    "duration": 43,
    "start_time": "2025-02-06T22:10:10.648Z"
   },
   {
    "duration": 9,
    "start_time": "2025-02-06T22:11:59.992Z"
   },
   {
    "duration": 8,
    "start_time": "2025-02-06T22:12:42.660Z"
   },
   {
    "duration": 45,
    "start_time": "2025-02-06T22:13:12.536Z"
   },
   {
    "duration": 45,
    "start_time": "2025-02-06T22:14:03.937Z"
   },
   {
    "duration": 4,
    "start_time": "2025-02-06T22:14:41.556Z"
   },
   {
    "duration": 11,
    "start_time": "2025-02-06T22:16:23.193Z"
   },
   {
    "duration": 17,
    "start_time": "2025-02-06T22:16:32.407Z"
   },
   {
    "duration": 3,
    "start_time": "2025-02-06T22:18:25.411Z"
   },
   {
    "duration": 8,
    "start_time": "2025-02-06T22:18:58.949Z"
   },
   {
    "duration": 46,
    "start_time": "2025-02-06T22:19:20.301Z"
   },
   {
    "duration": 14,
    "start_time": "2025-02-06T22:24:30.339Z"
   },
   {
    "duration": 281,
    "start_time": "2025-02-06T22:24:42.870Z"
   },
   {
    "duration": 5,
    "start_time": "2025-02-06T22:25:21.262Z"
   },
   {
    "duration": 2512,
    "start_time": "2025-02-07T16:59:04.227Z"
   },
   {
    "duration": 205,
    "start_time": "2025-02-07T16:59:06.741Z"
   },
   {
    "duration": 21,
    "start_time": "2025-02-07T16:59:06.948Z"
   },
   {
    "duration": 117,
    "start_time": "2025-02-07T16:59:06.970Z"
   },
   {
    "duration": 4,
    "start_time": "2025-02-07T16:59:07.090Z"
   },
   {
    "duration": 17,
    "start_time": "2025-02-07T16:59:07.096Z"
   },
   {
    "duration": 4,
    "start_time": "2025-02-07T16:59:07.115Z"
   },
   {
    "duration": 15,
    "start_time": "2025-02-07T16:59:07.120Z"
   },
   {
    "duration": 3,
    "start_time": "2025-02-07T16:59:07.137Z"
   },
   {
    "duration": 8,
    "start_time": "2025-02-07T16:59:07.141Z"
   },
   {
    "duration": 5,
    "start_time": "2025-02-07T16:59:07.151Z"
   },
   {
    "duration": 4,
    "start_time": "2025-02-07T16:59:07.157Z"
   },
   {
    "duration": 46,
    "start_time": "2025-02-07T16:59:07.163Z"
   },
   {
    "duration": 242,
    "start_time": "2025-02-07T16:59:07.212Z"
   },
   {
    "duration": 173,
    "start_time": "2025-02-07T16:59:07.456Z"
   },
   {
    "duration": 9,
    "start_time": "2025-02-07T16:59:07.631Z"
   },
   {
    "duration": 353,
    "start_time": "2025-02-07T16:59:07.642Z"
   },
   {
    "duration": 12,
    "start_time": "2025-02-07T16:59:07.997Z"
   },
   {
    "duration": 2,
    "start_time": "2025-02-07T17:04:46.267Z"
   },
   {
    "duration": 3,
    "start_time": "2025-02-07T17:05:30.949Z"
   },
   {
    "duration": 3,
    "start_time": "2025-02-07T17:05:46.280Z"
   },
   {
    "duration": 5,
    "start_time": "2025-02-07T17:06:29.428Z"
   },
   {
    "duration": 5,
    "start_time": "2025-02-07T17:06:41.068Z"
   },
   {
    "duration": 2,
    "start_time": "2025-02-07T17:07:46.682Z"
   },
   {
    "duration": 3,
    "start_time": "2025-02-07T17:08:02.632Z"
   },
   {
    "duration": 16,
    "start_time": "2025-02-07T17:14:36.360Z"
   },
   {
    "duration": 20,
    "start_time": "2025-02-07T17:16:14.669Z"
   },
   {
    "duration": 15,
    "start_time": "2025-02-07T17:16:34.411Z"
   },
   {
    "duration": 230,
    "start_time": "2025-02-07T17:18:41.437Z"
   },
   {
    "duration": 20,
    "start_time": "2025-02-07T17:19:29.632Z"
   },
   {
    "duration": 17,
    "start_time": "2025-02-07T17:22:48.937Z"
   },
   {
    "duration": 39,
    "start_time": "2025-02-07T17:29:45.959Z"
   },
   {
    "duration": 2,
    "start_time": "2025-02-07T17:34:18.467Z"
   },
   {
    "duration": 5,
    "start_time": "2025-02-07T17:35:09.441Z"
   },
   {
    "duration": 5,
    "start_time": "2025-02-07T17:43:48.142Z"
   },
   {
    "duration": 7,
    "start_time": "2025-02-07T17:44:15.166Z"
   },
   {
    "duration": 3,
    "start_time": "2025-02-07T17:45:03.958Z"
   },
   {
    "duration": 190,
    "start_time": "2025-02-07T17:45:03.963Z"
   },
   {
    "duration": 18,
    "start_time": "2025-02-07T17:45:04.155Z"
   },
   {
    "duration": 119,
    "start_time": "2025-02-07T17:45:04.175Z"
   },
   {
    "duration": 3,
    "start_time": "2025-02-07T17:45:04.296Z"
   },
   {
    "duration": 5,
    "start_time": "2025-02-07T17:45:04.309Z"
   },
   {
    "duration": 4,
    "start_time": "2025-02-07T17:45:04.316Z"
   },
   {
    "duration": 15,
    "start_time": "2025-02-07T17:45:04.321Z"
   },
   {
    "duration": 3,
    "start_time": "2025-02-07T17:45:04.338Z"
   },
   {
    "duration": 8,
    "start_time": "2025-02-07T17:45:04.343Z"
   },
   {
    "duration": 5,
    "start_time": "2025-02-07T17:45:04.353Z"
   },
   {
    "duration": 5,
    "start_time": "2025-02-07T17:45:04.360Z"
   },
   {
    "duration": 4,
    "start_time": "2025-02-07T17:45:04.411Z"
   },
   {
    "duration": 233,
    "start_time": "2025-02-07T17:45:04.417Z"
   },
   {
    "duration": 162,
    "start_time": "2025-02-07T17:45:04.651Z"
   },
   {
    "duration": 10,
    "start_time": "2025-02-07T17:45:04.815Z"
   },
   {
    "duration": 289,
    "start_time": "2025-02-07T17:45:04.827Z"
   },
   {
    "duration": 4,
    "start_time": "2025-02-07T17:45:05.120Z"
   },
   {
    "duration": 3,
    "start_time": "2025-02-07T17:45:05.126Z"
   },
   {
    "duration": 6,
    "start_time": "2025-02-07T17:45:05.131Z"
   },
   {
    "duration": 2,
    "start_time": "2025-02-07T17:45:05.139Z"
   },
   {
    "duration": 16,
    "start_time": "2025-02-07T17:45:05.144Z"
   },
   {
    "duration": 55,
    "start_time": "2025-02-07T17:45:05.161Z"
   },
   {
    "duration": 40,
    "start_time": "2025-02-07T17:45:05.218Z"
   },
   {
    "duration": 4,
    "start_time": "2025-02-07T17:45:28.767Z"
   },
   {
    "duration": 5,
    "start_time": "2025-02-07T17:45:40.799Z"
   },
   {
    "duration": 93,
    "start_time": "2025-02-07T17:57:03.370Z"
   },
   {
    "duration": 16,
    "start_time": "2025-02-07T17:57:54.933Z"
   },
   {
    "duration": 262,
    "start_time": "2025-02-07T17:58:12.635Z"
   },
   {
    "duration": 7,
    "start_time": "2025-02-07T17:59:01.016Z"
   },
   {
    "duration": 3,
    "start_time": "2025-02-07T18:09:30.092Z"
   },
   {
    "duration": 27,
    "start_time": "2025-02-07T19:14:16.986Z"
   },
   {
    "duration": 16,
    "start_time": "2025-02-07T19:27:18.722Z"
   },
   {
    "duration": 17,
    "start_time": "2025-02-07T19:28:01.042Z"
   },
   {
    "duration": 16,
    "start_time": "2025-02-07T19:29:09.814Z"
   },
   {
    "duration": 75,
    "start_time": "2025-02-07T19:42:37.488Z"
   },
   {
    "duration": 83,
    "start_time": "2025-02-07T19:46:06.933Z"
   },
   {
    "duration": 157,
    "start_time": "2025-02-07T19:48:04.262Z"
   },
   {
    "duration": 22,
    "start_time": "2025-02-07T19:52:17.706Z"
   },
   {
    "duration": 54,
    "start_time": "2025-02-07T19:59:45.707Z"
   },
   {
    "duration": 53,
    "start_time": "2025-02-07T19:59:53.115Z"
   },
   {
    "duration": 2,
    "start_time": "2025-02-07T20:03:36.301Z"
   },
   {
    "duration": 37,
    "start_time": "2025-02-07T20:04:18.566Z"
   },
   {
    "duration": 6,
    "start_time": "2025-02-07T20:07:45.117Z"
   },
   {
    "duration": 36,
    "start_time": "2025-02-07T20:07:54.152Z"
   },
   {
    "duration": 4,
    "start_time": "2025-02-07T20:08:44.008Z"
   },
   {
    "duration": 4,
    "start_time": "2025-02-07T20:08:48.536Z"
   },
   {
    "duration": 209,
    "start_time": "2025-02-07T20:17:30.544Z"
   },
   {
    "duration": 201,
    "start_time": "2025-02-07T20:19:33.879Z"
   },
   {
    "duration": 210,
    "start_time": "2025-02-07T20:23:55.728Z"
   },
   {
    "duration": 197,
    "start_time": "2025-02-07T20:26:59.473Z"
   },
   {
    "duration": 17,
    "start_time": "2025-02-07T20:27:22.157Z"
   },
   {
    "duration": 14,
    "start_time": "2025-02-07T20:27:30.609Z"
   },
   {
    "duration": 14,
    "start_time": "2025-02-07T20:27:41.770Z"
   },
   {
    "duration": 14,
    "start_time": "2025-02-07T20:27:56.614Z"
   },
   {
    "duration": 14,
    "start_time": "2025-02-07T20:28:04.400Z"
   },
   {
    "duration": 226,
    "start_time": "2025-02-07T20:28:29.194Z"
   },
   {
    "duration": 198,
    "start_time": "2025-02-07T20:28:54.845Z"
   },
   {
    "duration": 5,
    "start_time": "2025-02-07T20:29:20.501Z"
   },
   {
    "duration": 137,
    "start_time": "2025-02-07T20:34:55.922Z"
   },
   {
    "duration": 34,
    "start_time": "2025-02-07T20:35:21.227Z"
   },
   {
    "duration": 202,
    "start_time": "2025-02-07T20:35:52.824Z"
   },
   {
    "duration": 15,
    "start_time": "2025-02-07T20:36:10.215Z"
   },
   {
    "duration": 6,
    "start_time": "2025-02-07T20:36:30.133Z"
   },
   {
    "duration": 30,
    "start_time": "2025-02-07T20:38:06.978Z"
   },
   {
    "duration": 28,
    "start_time": "2025-02-07T20:38:22.403Z"
   },
   {
    "duration": 31,
    "start_time": "2025-02-07T20:39:18.916Z"
   },
   {
    "duration": 17,
    "start_time": "2025-02-07T20:39:37.167Z"
   },
   {
    "duration": 27,
    "start_time": "2025-02-07T20:40:05.804Z"
   },
   {
    "duration": 204,
    "start_time": "2025-02-07T20:40:14.989Z"
   },
   {
    "duration": 6,
    "start_time": "2025-02-07T20:40:19.032Z"
   },
   {
    "duration": 224,
    "start_time": "2025-02-07T20:40:55.223Z"
   },
   {
    "duration": 6,
    "start_time": "2025-02-07T20:40:57.228Z"
   },
   {
    "duration": 206,
    "start_time": "2025-02-07T20:41:36.198Z"
   },
   {
    "duration": 5,
    "start_time": "2025-02-07T20:41:39.350Z"
   },
   {
    "duration": 233,
    "start_time": "2025-02-07T20:45:25.403Z"
   },
   {
    "duration": 7,
    "start_time": "2025-02-07T20:45:45.265Z"
   },
   {
    "duration": 217,
    "start_time": "2025-02-07T20:46:39.024Z"
   },
   {
    "duration": 6,
    "start_time": "2025-02-07T20:47:04.827Z"
   },
   {
    "duration": 28,
    "start_time": "2025-02-07T20:52:47.535Z"
   },
   {
    "duration": 22,
    "start_time": "2025-02-07T20:53:00.769Z"
   },
   {
    "duration": 24,
    "start_time": "2025-02-07T20:53:27.985Z"
   },
   {
    "duration": 23,
    "start_time": "2025-02-07T20:54:50.257Z"
   },
   {
    "duration": 20,
    "start_time": "2025-02-07T20:54:55.885Z"
   },
   {
    "duration": 97,
    "start_time": "2025-02-07T20:56:39.269Z"
   },
   {
    "duration": 209,
    "start_time": "2025-02-07T20:58:18.557Z"
   },
   {
    "duration": 9,
    "start_time": "2025-02-07T20:58:21.902Z"
   },
   {
    "duration": 3,
    "start_time": "2025-02-07T21:05:40.518Z"
   },
   {
    "duration": 209,
    "start_time": "2025-02-07T21:07:13.384Z"
   },
   {
    "duration": 30,
    "start_time": "2025-02-07T21:07:34.772Z"
   },
   {
    "duration": 27,
    "start_time": "2025-02-07T21:07:54.210Z"
   },
   {
    "duration": 190,
    "start_time": "2025-02-07T21:08:25.402Z"
   },
   {
    "duration": 213,
    "start_time": "2025-02-07T21:08:37.620Z"
   },
   {
    "duration": 6,
    "start_time": "2025-02-07T21:08:55.103Z"
   },
   {
    "duration": 4,
    "start_time": "2025-02-07T21:14:43.218Z"
   },
   {
    "duration": 193,
    "start_time": "2025-02-07T21:14:43.224Z"
   },
   {
    "duration": 18,
    "start_time": "2025-02-07T21:14:43.418Z"
   },
   {
    "duration": 121,
    "start_time": "2025-02-07T21:14:43.438Z"
   },
   {
    "duration": 4,
    "start_time": "2025-02-07T21:14:43.561Z"
   },
   {
    "duration": 6,
    "start_time": "2025-02-07T21:14:43.567Z"
   },
   {
    "duration": 5,
    "start_time": "2025-02-07T21:14:43.574Z"
   },
   {
    "duration": 37,
    "start_time": "2025-02-07T21:14:43.581Z"
   },
   {
    "duration": 3,
    "start_time": "2025-02-07T21:14:43.620Z"
   },
   {
    "duration": 7,
    "start_time": "2025-02-07T21:14:43.625Z"
   },
   {
    "duration": 5,
    "start_time": "2025-02-07T21:14:43.633Z"
   },
   {
    "duration": 4,
    "start_time": "2025-02-07T21:14:43.640Z"
   },
   {
    "duration": 5,
    "start_time": "2025-02-07T21:14:43.646Z"
   },
   {
    "duration": 255,
    "start_time": "2025-02-07T21:14:43.655Z"
   },
   {
    "duration": 165,
    "start_time": "2025-02-07T21:14:43.911Z"
   },
   {
    "duration": 10,
    "start_time": "2025-02-07T21:14:44.077Z"
   },
   {
    "duration": 289,
    "start_time": "2025-02-07T21:14:44.089Z"
   },
   {
    "duration": 5,
    "start_time": "2025-02-07T21:14:44.380Z"
   },
   {
    "duration": 3,
    "start_time": "2025-02-07T21:14:44.388Z"
   },
   {
    "duration": 19,
    "start_time": "2025-02-07T21:14:44.393Z"
   },
   {
    "duration": 3,
    "start_time": "2025-02-07T21:14:44.414Z"
   },
   {
    "duration": 15,
    "start_time": "2025-02-07T21:14:44.419Z"
   },
   {
    "duration": 17,
    "start_time": "2025-02-07T21:14:44.436Z"
   },
   {
    "duration": 66,
    "start_time": "2025-02-07T21:14:44.455Z"
   },
   {
    "duration": 4,
    "start_time": "2025-02-07T21:14:44.523Z"
   },
   {
    "duration": 6,
    "start_time": "2025-02-07T21:14:44.529Z"
   },
   {
    "duration": 27,
    "start_time": "2025-02-07T21:14:44.537Z"
   },
   {
    "duration": 42,
    "start_time": "2025-02-07T21:14:44.567Z"
   },
   {
    "duration": 60,
    "start_time": "2025-02-07T21:14:44.612Z"
   },
   {
    "duration": 49,
    "start_time": "2025-02-07T21:14:44.674Z"
   },
   {
    "duration": 224,
    "start_time": "2025-02-07T21:14:44.724Z"
   },
   {
    "duration": 5,
    "start_time": "2025-02-07T21:14:44.950Z"
   },
   {
    "duration": 215,
    "start_time": "2025-02-07T21:14:44.957Z"
   },
   {
    "duration": 5,
    "start_time": "2025-02-07T21:14:45.175Z"
   },
   {
    "duration": 215,
    "start_time": "2025-02-07T21:14:45.181Z"
   },
   {
    "duration": 14,
    "start_time": "2025-02-07T21:14:45.398Z"
   },
   {
    "duration": 199,
    "start_time": "2025-02-07T21:14:45.414Z"
   },
   {
    "duration": 5,
    "start_time": "2025-02-07T21:14:45.616Z"
   },
   {
    "duration": 154,
    "start_time": "2025-02-08T13:59:33.075Z"
   },
   {
    "duration": 2498,
    "start_time": "2025-02-08T14:18:54.964Z"
   },
   {
    "duration": 205,
    "start_time": "2025-02-08T14:18:57.465Z"
   },
   {
    "duration": 20,
    "start_time": "2025-02-08T14:18:57.673Z"
   },
   {
    "duration": 126,
    "start_time": "2025-02-08T14:18:57.695Z"
   },
   {
    "duration": 4,
    "start_time": "2025-02-08T14:18:57.823Z"
   },
   {
    "duration": 5,
    "start_time": "2025-02-08T14:18:57.829Z"
   },
   {
    "duration": 3,
    "start_time": "2025-02-08T14:18:57.836Z"
   },
   {
    "duration": 31,
    "start_time": "2025-02-08T14:18:57.841Z"
   },
   {
    "duration": 3,
    "start_time": "2025-02-08T14:18:57.875Z"
   },
   {
    "duration": 7,
    "start_time": "2025-02-08T14:18:57.880Z"
   },
   {
    "duration": 6,
    "start_time": "2025-02-08T14:18:57.889Z"
   },
   {
    "duration": 4,
    "start_time": "2025-02-08T14:18:57.896Z"
   },
   {
    "duration": 5,
    "start_time": "2025-02-08T14:18:57.902Z"
   },
   {
    "duration": 260,
    "start_time": "2025-02-08T14:18:57.911Z"
   },
   {
    "duration": 214,
    "start_time": "2025-02-08T14:18:58.173Z"
   },
   {
    "duration": 10,
    "start_time": "2025-02-08T14:18:58.389Z"
   },
   {
    "duration": 291,
    "start_time": "2025-02-08T14:18:58.401Z"
   },
   {
    "duration": 5,
    "start_time": "2025-02-08T14:18:58.694Z"
   },
   {
    "duration": 2,
    "start_time": "2025-02-08T14:18:58.701Z"
   },
   {
    "duration": 5,
    "start_time": "2025-02-08T14:18:58.705Z"
   },
   {
    "duration": 3,
    "start_time": "2025-02-08T14:18:58.711Z"
   },
   {
    "duration": 15,
    "start_time": "2025-02-08T14:18:58.716Z"
   },
   {
    "duration": 46,
    "start_time": "2025-02-08T14:18:58.732Z"
   },
   {
    "duration": 37,
    "start_time": "2025-02-08T14:18:58.780Z"
   },
   {
    "duration": 5,
    "start_time": "2025-02-08T14:18:58.820Z"
   },
   {
    "duration": 7,
    "start_time": "2025-02-08T14:18:58.827Z"
   },
   {
    "duration": 55,
    "start_time": "2025-02-08T14:18:58.835Z"
   },
   {
    "duration": 21,
    "start_time": "2025-02-08T14:18:58.892Z"
   },
   {
    "duration": 73,
    "start_time": "2025-02-08T14:18:58.915Z"
   },
   {
    "duration": 35,
    "start_time": "2025-02-08T14:18:58.990Z"
   },
   {
    "duration": 206,
    "start_time": "2025-02-08T14:18:59.028Z"
   },
   {
    "duration": 5,
    "start_time": "2025-02-08T14:18:59.235Z"
   },
   {
    "duration": 204,
    "start_time": "2025-02-08T14:18:59.242Z"
   },
   {
    "duration": 6,
    "start_time": "2025-02-08T14:18:59.448Z"
   },
   {
    "duration": 206,
    "start_time": "2025-02-08T14:18:59.456Z"
   },
   {
    "duration": 5,
    "start_time": "2025-02-08T14:18:59.669Z"
   },
   {
    "duration": 202,
    "start_time": "2025-02-08T14:18:59.676Z"
   },
   {
    "duration": 5,
    "start_time": "2025-02-08T14:18:59.881Z"
   }
  ],
  "kernelspec": {
   "display_name": "Python 3 (ipykernel)",
   "language": "python",
   "name": "python3"
  },
  "language_info": {
   "codemirror_mode": {
    "name": "ipython",
    "version": 3
   },
   "file_extension": ".py",
   "mimetype": "text/x-python",
   "name": "python",
   "nbconvert_exporter": "python",
   "pygments_lexer": "ipython3",
   "version": "3.9.19"
  },
  "toc": {
   "base_numbering": 1,
   "nav_menu": {},
   "number_sections": true,
   "sideBar": true,
   "skip_h1_title": true,
   "title_cell": "Table of Contents",
   "title_sidebar": "Contents",
   "toc_cell": false,
   "toc_position": {},
   "toc_section_display": true,
   "toc_window_display": false
  }
 },
 "nbformat": 4,
 "nbformat_minor": 2
}
