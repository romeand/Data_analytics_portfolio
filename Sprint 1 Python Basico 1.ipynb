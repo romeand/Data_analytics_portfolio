{
 "cells": [
  {
   "cell_type": "markdown",
   "metadata": {},
   "source": [
    "¡Hola Andrés! Como te va?\n",
    "\n",
    "Mi nombre es Facundo Lozano! Un gusto conocerte, seré tu revisor en este proyecto.\n",
    "\n",
    "A continuación un poco sobre la modalidad de revisión que usaremos:\n",
    "\n",
    "Cuando enccuentro un error por primera vez, simplemente lo señalaré, te dejaré encontrarlo y arreglarlo tú cuenta. Además, a lo largo del texto iré haciendo algunas observaciones sobre mejora en tu código y también haré comentarios sobre tus percepciones sobre el tema. Pero si aún no puedes realizar esta tarea, te daré una pista más precisa en la próxima iteración y también algunos ejemplos prácticos. Estaré abierto a comentarios y discusiones sobre el tema.\n",
    "\n",
    "Encontrará mis comentarios a continuación: **no los mueva, modifique ni elimine**.\n",
    "\n",
    "Puedes encontrar mis comentarios en cuadros verdes, amarillos o rojos como este:\n",
    "\n",
    "<div class=\"alert alert-block alert-success\">\n",
    "<b>Comentario del revisor.</b> <a class=\"tocSkip\"></a>\n",
    "\n",
    "Exito. Todo se ha hecho de forma exitosa.\n",
    "</div>\n",
    "\n",
    "<div class=\"alert alert-block alert-warning\">\n",
    "<b>Comentario del revisor.</b> <a class=\"tocSkip\"></a>\n",
    "\n",
    "Observación. Algunas recomendaciones.\n",
    "</div>\n",
    "\n",
    "<div class=\"alert alert-block alert-danger\">\n",
    "\n",
    "<b>Comentario del revisor.</b> <a class=\"tocSkip\"></a>\n",
    "\n",
    "Necesita arreglos. Este apartado necesita algunas correcciones. El trabajo no puede ser aceptado con comentarios rojos. \n",
    "</div>\n",
    "\n",
    "Puedes responder utilizando esto:\n",
    "\n",
    "<div class=\"alert alert-block alert-info\">\n",
    "<b>Respuesta de estudiante.</b> <a class=\"tocSkip\"></a>\n",
    "</div>"
   ]
  },
  {
   "cell_type": "markdown",
   "metadata": {
    "id": "UCjlyTyyJm9R"
   },
   "source": [
    "\n",
    "\n",
    "Como parte del equipo de análisis, lo primero que debes hacer es evaluar la calidad de una muestra de datos recopilados y prepararla para analizarla posteriormente. Después, en la segunda parte de este proyecto en el segundo sprint, desarrollarás más tus habilidades y harás tu primer análisis completo, respondiendo a las necesidades del cliente."
   ]
  },
  {
   "cell_type": "markdown",
   "metadata": {},
   "source": [
    "<div class=\"alert alert-block alert-success\">\n",
    "<b>Review General. (Iteración 1) </b> <a class=\"tocSkip\"></a>\n",
    "\n",
    "Andrés, quería tomarme este tiempo al inicio de tu proyecto para comentarte mis apreciaciones generales de esta iteración de tu entrega. Antes que nada disculpas por el envío justo de tiempo, debido a una gran demanda de revisiores y pocos revisores disponibles se han armado filas de corrección, espero ser de ayuda :)\n",
    "\n",
    "Siempre me gusta comenzar dando la bienvenida al mundo de los datos a los estudiantes, te deseo lo mejor y espero que consigas lograr tus objetivos. Personalmente me gusta brindar el siguiente consejo, \"Está bien equivocarse, es normal y es lo mejor que te puede pasar. Aprendemos de los errores y eso te hará mejor programando ya que podrás descubrir cosas a medida que avances y son estas cosas las que te darán esa experiencia para ser mejor como Data Analyst.\"\n",
    "     \n",
    "Ahora si yendo a esta notebook. Quería felicitarte Andrés porque has hecho un gran trabajo, has logrado resolver todos los ejercicios con creces y te has destacado opr tu gran manejo de las herramientas! Este trabajo está en condiciones de ser aprobado, felicitaciones!\n",
    "\n",
    "Éxitos dentro de tu camino en el mundo de los datos!\n",
    "\n",
    "Saludos Andrés!"
   ]
  },
  {
   "cell_type": "markdown",
   "metadata": {
    "id": "EMQlsEYlxGET"
   },
   "source": [
    "Estos son los datos que el cliente nos proporcionó. Tienen el formato de una lista de Python, con las siguientes columnas de datos:\n",
    "\n",
    "- **user_id:** Identificador único para cada usuario.\n",
    "- **user_name:** El nombre del usuario.\n",
    "- **user_age:** La edad del usuario.\n",
    "- **fav_categories:** Categorías favoritas de los artículos que compró el usuario, como 'ELECTRONICS', 'SPORT' y 'BOOKS' (ELECTRÓNICOS, DEPORTES y LIBROS), etc.\n",
    "- **total_spendings:** Una lista de números enteros que indican la cantidad total gastada en cada una de las categorías favoritas.\n"
   ]
  },
  {
   "cell_type": "code",
   "execution_count": null,
   "metadata": {
    "id": "LfBCH4crxLOt"
   },
   "outputs": [],
   "source": [
    "users = [\n",
    "    ['32415', ' mike_reed ', 32.0, ['ELECTRONICS', 'SPORT', 'BOOKS'], [894, 213, 173]],\n",
    "    ['31980', 'kate morgan', 24.0, ['CLOTHES', 'BOOKS'], [439, 390]],\n",
    "    ['32156', ' john doe ', 37.0, ['ELECTRONICS', 'HOME', 'FOOD'], [459, 120, 99]],\n",
    "    ['32761', 'SAMANTHA SMITH', 29.0, ['CLOTHES', 'ELECTRONICS', 'BEAUTY'], [299, 679, 85]],\n",
    "    ['32984', 'David White', 41.0, ['BOOKS', 'HOME', 'SPORT'], [234, 329, 243]],\n",
    "    ['33001', 'emily brown', 26.0, ['BEAUTY', 'HOME', 'FOOD'], [213, 659, 79]],\n",
    "    ['33767', ' Maria Garcia', 33.0, ['CLOTHES', 'FOOD', 'BEAUTY'], [499, 189, 63]],\n",
    "    ['33912', 'JOSE MARTINEZ', 22.0, ['SPORT', 'ELECTRONICS', 'HOME'], [259, 549, 109]],\n",
    "    ['34009', 'lisa wilson ', 35.0, ['HOME', 'BOOKS', 'CLOTHES'], [329, 189, 329]],\n",
    "    ['34278', 'James Lee', 28.0, ['BEAUTY', 'CLOTHES', 'ELECTRONICS'], [189, 299, 579]],\n",
    "]\n"
   ]
  },
  {
   "cell_type": "markdown",
   "metadata": {
    "id": "QJa5xuF-Jm9T"
   },
   "source": [
    "# Paso 1\n",
    "\n",
    "Store 1 tiene como objetivo garantizar la coherencia en la recopilación de datos. Como parte de esta iniciativa, se debe evaluar la calidad de los datos recopilados sobre los usuarios y las usuarias. Te han pedido que revises los datos recopilados y propongas cambios. A continuación verás datos sobre un usuario o una usuaria en particular; revisa los datos e identifica cualquier posible problema.\n"
   ]
  },
  {
   "cell_type": "code",
   "execution_count": null,
   "metadata": {
    "id": "kvRIX_jfJm9U"
   },
   "outputs": [],
   "source": [
    "user_id = '32415'\n",
    "user_name = ' mike_reed '\n",
    "user_age = 32.0\n",
    "fav_categories = ['ELECTRONICS', 'SPORT', 'BOOKS']"
   ]
  },
  {
   "cell_type": "markdown",
   "metadata": {
    "id": "Fo28PV6wJm9U"
   },
   "source": [
    "**Opciones:**\n",
    "\n",
    "1. Se debe cambiar el tipo de dato de `user_id` de cadena a entero.\n",
    "    \n",
    "2. La variable `user_name` contiene una cadena que tiene espacios innecesarios y un guion bajo entre el nombre y el apellido.\n",
    "    \n",
    "3. El tipo de dato de `user_age` es correcto y no hay necesidad de convertirlo.\n",
    "    \n",
    "4. La lista `fav_categories` contiene cadenas en mayúsculas. En lugar de ello, debemos convertir los valores de la lista en minúsculas.\n"
   ]
  },
  {
   "cell_type": "markdown",
   "metadata": {
    "id": "uFd9fGjzJm9V"
   },
   "source": [
    "Para cada una de las opciones, escribe en la siguiente celda markdown si la identificaste como un problema real en los datos o no. Justifica tu razonamiento. Por ejemplo, si crees que la primera opción es correcta, escríbelo y explica por qué piensas que es correcta."
   ]
  },
  {
   "cell_type": "markdown",
   "metadata": {
    "id": "jBGXAwBkJm9V"
   },
   "source": [
    "**Escribe tu respuesta y explica tu argumentación:**\n",
    "2. La variable de user name se puede limpiar para hacer un mejor análisis y tener consistencia entre los datos. Se eleminarian los espacios sobrantes y el guión bajo se sustituye por un espacio.\n",
    "3. La variable de user_age se encuentra en formato flotante por lo que se debe convertir a número entero."
   ]
  },
  {
   "cell_type": "markdown",
   "metadata": {},
   "source": [
    "<div class=\"alert alert-block alert-success\">\n",
    "<b>Comentario del revisor. (Iteración 1)</b> <a class=\"tocSkip\"></a>\n",
    "\n",
    "Excelentes elecciones Andrés! Las justificaciones también están acordes por lo que felicitaciones, solo como un simple detalle por lo general es una buena práctica el manejar los valores en minúsculas por lo que se podría pasar los elementos de la lista a minúscula."
   ]
  },
  {
   "cell_type": "markdown",
   "metadata": {
    "id": "aZ40WbF5Jm9V"
   },
   "source": [
    "# Paso 2\n",
    "\n",
    "Vamos a implementar los cambios que identificamos. Primero, necesitamos corregir los problemas de la variable `user_name` Como vimos, tiene espacios innecesarios y un guion bajo como separador entre el nombre y el apellido; tu objetivo es eliminar los espacios y luego reemplazar el guion bajo con el espacio.\n"
   ]
  },
  {
   "cell_type": "code",
   "execution_count": 1,
   "metadata": {
    "colab": {
     "base_uri": "https://localhost:8080/"
    },
    "id": "_uOLKjF8Jm9V",
    "outputId": "630b0663-620c-44a2-f0d1-4b7b4a592b0b"
   },
   "outputs": [
    {
     "name": "stdout",
     "output_type": "stream",
     "text": [
      "mike reed\n"
     ]
    }
   ],
   "source": [
    "user_name = ' mike_reed '\n",
    "user_name = user_name.strip().replace('_',' ')\n",
    "\n",
    "print(user_name)"
   ]
  },
  {
   "cell_type": "markdown",
   "metadata": {},
   "source": [
    "<div class=\"alert alert-block alert-success\">\n",
    "<b>Comentario del revisor. (Iteración 1) </b> <a class=\"tocSkip\"></a>\n",
    "\n",
    "Muy bien hecho, aplicaste correctamente ambos métodos y sobre todo excelente decisión la de apilar ámbos métodos, no todos los estudiantes lo aplican!"
   ]
  },
  {
   "cell_type": "markdown",
   "metadata": {
    "id": "Kxe9MxvVJm9V"
   },
   "source": [
    "********Hint********\n",
    "\n",
    "Existe un método, `strip()`, que puede eliminar espacios al principio y al final de una cadena. Además, el método `replace()` se puede usar para reemplazar una parte de una cadena. En este caso, queremos reemplazar los guiones bajos (`_`) con espacios.\n"
   ]
  },
  {
   "cell_type": "markdown",
   "metadata": {
    "id": "IBQlePCsJm9V"
   },
   "source": [
    "# Paso 3\n",
    "\n",
    "Luego, debemos dividir el `user_name` (nombre de usuario o usuaria) actualizado en dos subcadenas para obtener una lista que contenga dos valores: la cadena para el nombre y la cadena para el apellido."
   ]
  },
  {
   "cell_type": "code",
   "execution_count": 3,
   "metadata": {
    "colab": {
     "base_uri": "https://localhost:8080/"
    },
    "id": "0mYAxetNJm9W",
    "outputId": "2128b910-489c-4939-cb24-6d0f6d45e877"
   },
   "outputs": [
    {
     "name": "stdout",
     "output_type": "stream",
     "text": [
      "['mike', 'reed']\n"
     ]
    }
   ],
   "source": [
    "user_name = 'mike reed'\n",
    "name_split = user_name.split()\n",
    "\n",
    "print(name_split)"
   ]
  },
  {
   "cell_type": "markdown",
   "metadata": {
    "id": "sVDWXaavJm9W"
   },
   "source": [
    "********Hint********\n",
    "\n",
    "El método `split()` se utiliza para dividir una cadena. Por defecto, utiliza un espacio como separador.\n"
   ]
  },
  {
   "cell_type": "markdown",
   "metadata": {},
   "source": [
    "<div class=\"alert alert-block alert-success\">\n",
    "<b>Comentario del revisor. (Iteración 1) </b> <a class=\"tocSkip\"></a>\n",
    "\n",
    "Excelente uso de split Andrés! Felicitaciones!"
   ]
  },
  {
   "cell_type": "markdown",
   "metadata": {
    "id": "bcNebWVsJm9W"
   },
   "source": [
    "# Paso 4\n",
    "\n",
    "¡Genial! Ahora debemos trabajar con la variable `user_age`. Como ya mencionamos, esta tiene un tipo de datos incorrecto. Arreglemos este problema transformando el tipo de datos y mostrando el resultado final.\n"
   ]
  },
  {
   "cell_type": "code",
   "execution_count": 4,
   "metadata": {
    "colab": {
     "base_uri": "https://localhost:8080/"
    },
    "id": "g0FZSll4Jm9W",
    "outputId": "8b977bc7-e315-4a27-97ad-645570ed60bc"
   },
   "outputs": [
    {
     "name": "stdout",
     "output_type": "stream",
     "text": [
      "32\n"
     ]
    }
   ],
   "source": [
    "user_age = 32.0\n",
    "user_age = int(user_age)\n",
    "\n",
    "print(user_age)"
   ]
  },
  {
   "cell_type": "markdown",
   "metadata": {},
   "source": [
    "<div class=\"alert alert-block alert-success\">\n",
    "<b>Comentario del revisor. (Iteración 1) </b> <a class=\"tocSkip\"></a>\n",
    "\n",
    "Felicitaciones! Venimos muy bien, estos son los primeros pasos para ser una gran Data Analyst!\n",
    "</div>"
   ]
  },
  {
   "cell_type": "markdown",
   "metadata": {
    "id": "r4a-d2veJm9W"
   },
   "source": [
    "********Hint********\n",
    "\n",
    "¿Qué tipo de datos eliminará la parte de coma flotante?\n"
   ]
  },
  {
   "cell_type": "markdown",
   "metadata": {
    "id": "U0bvLZOVJm9W"
   },
   "source": [
    "# Paso 5\n",
    "\n",
    "Como sabemos, los datos no siempre son perfectos. Debemos considerar escenarios en los que el valor de `user_age` no se pueda convertir en un número entero. Para evitar que nuestro sistema se bloquee, debemos tomar medidas con anticipación.\n",
    "\n",
    "Escribe un código que intente convertir la variable `user_age` en un número entero y asigna el valor transformado a `user_age_int`. Si el intento falla, mostramos un mensaje pidiendo al usuario o la usuaria que proporcione su edad como un valor numérico con el mensaje: `Please provide your age as a numerical value.` (Proporcione su edad como un valor numérico.)"
   ]
  },
  {
   "cell_type": "code",
   "execution_count": 5,
   "metadata": {
    "colab": {
     "base_uri": "https://localhost:8080/"
    },
    "id": "bKxiA-voJm9W",
    "outputId": "829a78ce-a7a5-4195-c424-90e9982c63ce"
   },
   "outputs": [
    {
     "name": "stdout",
     "output_type": "stream",
     "text": [
      "Please provide your age as a numerical value\n"
     ]
    }
   ],
   "source": [
    "user_age = 'treinta y dos'\n",
    "try:\n",
    "    user_age_int = int(user_age)\n",
    "except:\n",
    "    message='Please provide your age as a numerical value'\n",
    "    print(message)"
   ]
  },
  {
   "cell_type": "markdown",
   "metadata": {},
   "source": [
    "<div class=\"alert alert-block alert-success\">\n",
    "<b>Comentario del revisor. (Iteración 1) </b> <a class=\"tocSkip\"></a>\n",
    "\n",
    "Implementación perfecta del método try and except Andrpes! Bien hecho!</div>"
   ]
  },
  {
   "cell_type": "markdown",
   "metadata": {
    "id": "YAFlIV8OL6S5"
   },
   "source": [
    "********Hint********\n",
    "\n",
    "Utiliza un bloque `try-except` para intentar la conversión; si falla, proporciona un mensaje claro indicando que la entrada debe ser numérica."
   ]
  },
  {
   "cell_type": "markdown",
   "metadata": {
    "id": "geo-WB0KW3Ji"
   },
   "source": [
    "# Paso 6\n",
    "\n",
    "El equipo de dirección de Store 1 te pidió ayudarles a organizar los datos de sus clientes para analizarlos y gestionarlos mejor.\n",
    "\n",
    "Tu tarea es ordenar esta lista por ID de usuario de forma ascendente para que sea más fácil acceder a ella y analizarla.\n"
   ]
  },
  {
   "cell_type": "code",
   "execution_count": 6,
   "metadata": {
    "colab": {
     "base_uri": "https://localhost:8080/"
    },
    "id": "Re_QlnnLW3Jo",
    "outputId": "8b977bc7-e315-4a27-97ad-645570ed60bc"
   },
   "outputs": [
    {
     "name": "stdout",
     "output_type": "stream",
     "text": [
      "[['31980', 'kate morgan', 24.0, ['CLOTHES', 'BOOKS'], [439, 390]], ['32156', ' john doe ', 37.0, ['ELECTRONICS', 'HOME', 'FOOD'], [459, 120, 99]], ['32415', ' mike_reed ', 32.0, ['ELECTRONICS', 'SPORT', 'BOOKS'], [894, 213, 173]], ['32761', 'SAMANTHA SMITH', 29.0, ['CLOTHES', 'ELECTRONICS', 'BEAUTY'], [299, 679, 85]], ['32984', 'David White', 41.0, ['BOOKS', 'HOME', 'SPORT'], [234, 329, 243]], ['33001', 'emily brown', 26.0, ['BEAUTY', 'HOME', 'FOOD'], [213, 659, 79]], ['33767', ' Maria Garcia', 33.0, ['CLOTHES', 'FOOD', 'BEAUTY'], [499, 189, 63]], ['33912', 'JOSE MARTINEZ', 22.0, ['SPORT', 'ELECTRONICS', 'HOME'], [259, 549, 109]], ['34009', 'lisa wilson ', 35.0, ['HOME', 'BOOKS', 'CLOTHES'], [329, 189, 329]], ['34278', 'James Lee', 28.0, ['BEAUTY', 'CLOTHES', 'ELECTRONICS'], [189, 299, 579]]]\n"
     ]
    }
   ],
   "source": [
    "users = [\n",
    "    ['32415', ' mike_reed ', 32.0, ['ELECTRONICS', 'SPORT', 'BOOKS'], [894, 213, 173]],\n",
    "    ['31980', 'kate morgan', 24.0, ['CLOTHES', 'BOOKS'], [439, 390]],\n",
    "    ['32156', ' john doe ', 37.0, ['ELECTRONICS', 'HOME', 'FOOD'], [459, 120, 99]],\n",
    "    ['32761', 'SAMANTHA SMITH', 29.0, ['CLOTHES', 'ELECTRONICS', 'BEAUTY'], [299, 679, 85]],\n",
    "    ['32984', 'David White', 41.0, ['BOOKS', 'HOME', 'SPORT'], [234, 329, 243]],\n",
    "    ['33001', 'emily brown', 26.0, ['BEAUTY', 'HOME', 'FOOD'], [213, 659, 79]],\n",
    "    ['33767', ' Maria Garcia', 33.0, ['CLOTHES', 'FOOD', 'BEAUTY'], [499, 189, 63]],\n",
    "    ['33912', 'JOSE MARTINEZ', 22.0, ['SPORT', 'ELECTRONICS', 'HOME'], [259, 549, 109]],\n",
    "    ['34009', 'lisa wilson ', 35.0, ['HOME', 'BOOKS', 'CLOTHES'], [329, 189, 329]],\n",
    "    ['34278', 'James Lee', 28.0, ['BEAUTY', 'CLOTHES', 'ELECTRONICS'], [189, 299, 579]],\n",
    "]\n",
    "\n",
    "users.sort()\n",
    "print(users)"
   ]
  },
  {
   "cell_type": "markdown",
   "metadata": {},
   "source": [
    "<div class=\"alert alert-block alert-success\">\n",
    "<b>Comentario del revisor. (Iteración 1) </b> <a class=\"tocSkip\"></a>\n",
    "\n",
    "Uso perfecto de sort()! Bien hecho!"
   ]
  },
  {
   "cell_type": "markdown",
   "metadata": {
    "id": "uxG5diF0W3Jo"
   },
   "source": [
    "********Hint********\n",
    "\n",
    "Puedes utilizar el método `sort()` en la lista de usuarios para ordenarla de forma ascendente.\n"
   ]
  },
  {
   "cell_type": "markdown",
   "metadata": {
    "id": "VRqEQFJiJm9X"
   },
   "source": [
    "# Paso 7\n",
    "\n",
    "Tenemos la información de los hábitos de consumo de nuestros usuarios, incluyendo la cantidad gastada en cada una de sus categorías favoritas. La dirección está interesada en conocer la cantidad total gastada por el usuario.\n",
    "\n",
    "\n",
    "Calculemos este valor y despleguémoslo.\n"
   ]
  },
  {
   "cell_type": "code",
   "execution_count": 7,
   "metadata": {
    "colab": {
     "base_uri": "https://localhost:8080/"
    },
    "id": "sjNmuLsQJm9X",
    "outputId": "308483d6-8d3c-4763-9014-7e702307424f"
   },
   "outputs": [
    {
     "name": "stdout",
     "output_type": "stream",
     "text": [
      "1280\n"
     ]
    }
   ],
   "source": [
    "fav_categories_low = ['electronics', 'sport', 'books']\n",
    "spendings_per_category = [894, 213, 173]\n",
    "\n",
    "total_amount = sum(spendings_per_category)\n",
    "\n",
    "print(total_amount)\n"
   ]
  },
  {
   "cell_type": "markdown",
   "metadata": {},
   "source": [
    "<div class=\"alert alert-block alert-success\">\n",
    "<b>Comentario del revisor. (Iteración 1) </b> <a class=\"tocSkip\"></a>\n",
    "\n",
    "Implementación del método sum() perfecta! Felicitaciones!"
   ]
  },
  {
   "cell_type": "markdown",
   "metadata": {
    "id": "VMh87UdWJm9X"
   },
   "source": [
    "********Hint********\n",
    "\n",
    "¿Cuáles son los tres métodos que se pueden aplicar a una lista para calcular sus valores mínimo, máximo y total?\n"
   ]
  },
  {
   "cell_type": "markdown",
   "metadata": {
    "id": "zP0nVV5FJm9Y"
   },
   "source": [
    "# Paso 8\n",
    "\n",
    "La dirección de la empresa nos pidió pensar en una manera de resumir toda la información de un usuario. Tu objetivo es crear una cadena formateada que utilice información de las variables `user_id`, `user_name` y `user_age`.\n",
    "\n",
    "Esta es la cadena final que queremos crear: `User 32415 is mike who is 32 years old.` (El usuario 32415 es Mike, quien tiene 32 años).\n"
   ]
  },
  {
   "cell_type": "code",
   "execution_count": 8,
   "metadata": {
    "colab": {
     "base_uri": "https://localhost:8080/"
    },
    "id": "8mlIJr4OJm9Y",
    "outputId": "909d84d1-5723-4676-fb2d-92f8a8c15b7b"
   },
   "outputs": [
    {
     "name": "stdout",
     "output_type": "stream",
     "text": [
      "User 32415 is mike who is 32 years old.\n"
     ]
    }
   ],
   "source": [
    "user_id = '32415'\n",
    "user_name = ['mike', 'reed']\n",
    "user_age = 32\n",
    "\n",
    "user_info =f'User {user_id} is {user_name[0]} who is {user_age} years old.'\n",
    "print(user_info)"
   ]
  },
  {
   "cell_type": "markdown",
   "metadata": {},
   "source": [
    "<div class=\"alert alert-block alert-success\">\n",
    "<b>Comentario del revisor. (Iteración 1) </b> <a class=\"tocSkip\"></a>\n",
    "\n",
    "Excelente! Bien hecho y sobre todo al indexar y obtener el nombre por separado para luego mostrarlo mediante el f\"string\". Una alternativa, menos comoda, es la de la utilización de .format() si deseas te invito a investigarla :)</div>"
   ]
  },
  {
   "cell_type": "markdown",
   "metadata": {
    "id": "vZCOPWq9Jm9Y"
   },
   "source": [
    "********Hint********\n",
    "\n",
    "Para crear una cadena, puedes utilizar el método `format()` o f-string. Para extraer el nombre de la lista `user_name`, puedes utilizar la segmentación.\n"
   ]
  },
  {
   "cell_type": "markdown",
   "metadata": {
    "id": "xOj8_G0ZO9mM"
   },
   "source": [
    "# Paso 9\n",
    "\n",
    "La dirección también quiere una forma fácil de conocer la cantidad de clientes con cuyos datos contamos. Tu objetivo es crear una cadena formateada que muestre la cantidad de datos de clientes registrados.\n",
    "\n",
    "Esta es la cadena final que queremos crear: `Hemos registrado datos de X clientes`.\n"
   ]
  },
  {
   "cell_type": "code",
   "execution_count": 9,
   "metadata": {
    "colab": {
     "base_uri": "https://localhost:8080/"
    },
    "id": "eGvjS1rkO9mS",
    "outputId": "ce65761f-07d9-463e-e645-4a69c4c9cd9f"
   },
   "outputs": [
    {
     "name": "stdout",
     "output_type": "stream",
     "text": [
      "Hemos registrado datos de 10 clientes.\n"
     ]
    }
   ],
   "source": [
    "users = [\n",
    "    ['32415', ' mike_reed ', 32.0, ['ELECTRONICS', 'SPORT', 'BOOKS'], [894, 213, 173]],\n",
    "    ['31980', 'kate morgan', 24.0, ['CLOTHES', 'BOOKS'], [439, 390]],\n",
    "    ['32156', ' john doe ', 37.0, ['ELECTRONICS', 'HOME', 'FOOD'], [459, 120, 99]],\n",
    "    ['32761', 'SAMANTHA SMITH', 29.0, ['CLOTHES', 'ELECTRONICS', 'BEAUTY'], [299, 679, 85]],\n",
    "    ['32984', 'David White', 41.0, ['BOOKS', 'HOME', 'SPORT'], [234, 329, 243]],\n",
    "    ['33001', 'emily brown', 26.0, ['BEAUTY', 'HOME', 'FOOD'], [213, 659, 79]],\n",
    "    ['33767', ' Maria Garcia', 33.0, ['CLOTHES', 'FOOD', 'BEAUTY'], [499, 189, 63]],\n",
    "    ['33912', 'JOSE MARTINEZ', 22.0, ['SPORT', 'ELECTRONICS', 'HOME'], [259, 549, 109]],\n",
    "    ['34009', 'lisa wilson ', 35.0, ['HOME', 'BOOKS', 'CLOTHES'], [329, 189, 329]],\n",
    "    ['34278', 'James Lee', 28.0, ['BEAUTY', 'CLOTHES', 'ELECTRONICS'], [189, 299, 579]],\n",
    "]\n",
    "\n",
    "\n",
    "user_info = f'Hemos registrado datos de {len(users)} clientes.'\n",
    "print(user_info)"
   ]
  },
  {
   "cell_type": "markdown",
   "metadata": {},
   "source": [
    "<div class=\"alert alert-block alert-success\">\n",
    "<b>Comentario del revisor. (Iteración 1) </b> <a class=\"tocSkip\"></a>\n",
    "\n",
    "Uso perfecto de len() en conjunto con el uso f\"string\", impresionante!</div>"
   ]
  },
  {
   "cell_type": "markdown",
   "metadata": {
    "id": "B0oHnhDaO9mS"
   },
   "source": [
    "********Hint********\n",
    "\n",
    "Para crear una cadena, puedes utilizar el método `format()` o f-string. Para extraer la cantidad de clientes en la lista, puedes utilizar la función que devuelve la longitud de la lista.\n"
   ]
  },
  {
   "cell_type": "markdown",
   "metadata": {
    "id": "CVVBVYzORu7I"
   },
   "source": [
    "# Paso 10\n",
    "\n",
    "Apliquemos ahora todos los cambios a la lista de clientes. Para simplificar las cosas, te proporcionaremos una más corta.\n",
    "Debes:\n",
    "1. Eliminar todos los espacios iniciales y finales de los nombres, así como cualquier guion bajo.\n",
    "2. Convertir todas las edades en números enteros.\n",
    "3. Separar todos los nombres y apellidos en una sublista.\n",
    "\n",
    "Guarda la lista modificada como una nueva lista llamada `users_clean` y muéstrala en la pantalla.\n"
   ]
  },
  {
   "cell_type": "code",
   "execution_count": 10,
   "metadata": {
    "colab": {
     "base_uri": "https://localhost:8080/"
    },
    "id": "9qu_k6XURu7O",
    "outputId": "0bfb6d81-56c3-4c21-fa54-aa09b9752082"
   },
   "outputs": [
    {
     "name": "stdout",
     "output_type": "stream",
     "text": [
      "[['32415', ['mike', 'reed'], 32, ['ELECTRONICS', 'SPORT', 'BOOKS'], [894, 213, 173]], ['31980', ['kate', 'morgan'], 24, ['CLOTHES', 'BOOKS'], [439, 390]], ['32156', ['john', 'doe'], 37, ['ELECTRONICS', 'HOME', 'FOOD'], [459, 120, 99]]]\n"
     ]
    }
   ],
   "source": [
    "users = [\n",
    "    ['32415', ' mike_reed ', 32.0, ['ELECTRONICS', 'SPORT', 'BOOKS'], [894, 213, 173]],\n",
    "    ['31980', 'kate morgan', 24.0, ['CLOTHES', 'BOOKS'], [439, 390]],\n",
    "    ['32156', ' john doe ', 37.0, ['ELECTRONICS', 'HOME', 'FOOD'], [459, 120, 99]],\n",
    "]\n",
    "\n",
    "users_clean = []\n",
    "\n",
    "# Procesa al primer usuario\n",
    "user_name_1 = users[0][1].strip().replace('_',' ')\n",
    "user_age_1 = int(users[0][2])\n",
    "user_name_1 = user_name_1.split()\n",
    "users_clean.append([users[0][0],user_name_1,user_age_1,users[0][3],users[0][4]])\n",
    "\n",
    "# Procesa al segundo usuario\n",
    "user_name_2 = users[1][1].strip().replace('_',' ')\n",
    "user_age_2 = int(users[1][2])\n",
    "user_name_2 = user_name_2.split()\n",
    "users_clean.append([users[1][0],user_name_2,user_age_2,users[1][3],users[1][4]])\n",
    "\n",
    "# Procesa al tercer usuario\n",
    "user_name_3 = users[2][1].strip().replace('_',' ')\n",
    "user_age_3 = int(users[2][2])\n",
    "user_name_3 = user_name_3.split()\n",
    "users_clean.append([users[2][0],user_name_3,user_age_3,users[2][3],users[2][4]])\n",
    "\n",
    "print(users_clean)\n"
   ]
  },
  {
   "cell_type": "markdown",
   "metadata": {},
   "source": [
    "<div class=\"alert alert-block alert-success\">\n",
    "<b>Comentario del revisor. (Iteración 1) </b> <a class=\"tocSkip\"></a>\n",
    "\n",
    "Y aquí finalizamos implementando los métodos aprendidos a lo largo del proyecto, espectacular!"
   ]
  },
  {
   "cell_type": "markdown",
   "metadata": {
    "id": "TXMzdgzkRu7P"
   },
   "source": [
    "********Hint********\n",
    "\n",
    "Para procesar a cada usuario, comienza por acceder a los elementos requeridos de la lista de usuarios. Utiliza el método `strip()` para eliminar los espacios iniciales y finales y el método `replace('_',' ')` para reemplazar los guiones bajos por espacios en los nombres. Convierte la edad a un número entero utilizando `int()`. Separa el nombre completo en nombre y apellido utilizando el método `split()`. Por último, `append` (agrega) los datos limpios a la lista `users_clean`.\n"
   ]
  },
  {
   "cell_type": "markdown",
   "metadata": {
    "id": "06IMoD_nRmtf"
   },
   "source": [
    "----------\n"
   ]
  }
 ],
 "metadata": {
  "ExecuteTimeLog": [
   {
    "duration": 11,
    "start_time": "2024-08-21T19:26:01.573Z"
   },
   {
    "duration": 4,
    "start_time": "2024-08-21T19:27:59.150Z"
   },
   {
    "duration": 5,
    "start_time": "2024-08-21T19:28:31.299Z"
   },
   {
    "duration": 4,
    "start_time": "2024-08-21T19:56:07.889Z"
   },
   {
    "duration": 5,
    "start_time": "2024-08-21T20:00:38.243Z"
   },
   {
    "duration": 9,
    "start_time": "2024-08-21T20:06:52.592Z"
   },
   {
    "duration": 4,
    "start_time": "2024-08-21T20:08:35.054Z"
   },
   {
    "duration": 6,
    "start_time": "2024-08-21T20:12:07.899Z"
   },
   {
    "duration": 9,
    "start_time": "2024-08-21T20:35:18.694Z"
   },
   {
    "duration": 11,
    "start_time": "2024-08-21T23:38:06.469Z"
   }
  ],
  "colab": {
   "provenance": []
  },
  "kernelspec": {
   "display_name": "Python 3 (ipykernel)",
   "language": "python",
   "name": "python3"
  },
  "language_info": {
   "codemirror_mode": {
    "name": "ipython",
    "version": 3
   },
   "file_extension": ".py",
   "mimetype": "text/x-python",
   "name": "python",
   "nbconvert_exporter": "python",
   "pygments_lexer": "ipython3",
   "version": "3.9.19"
  },
  "toc": {
   "base_numbering": 1,
   "nav_menu": {},
   "number_sections": true,
   "sideBar": true,
   "skip_h1_title": true,
   "title_cell": "Table of Contents",
   "title_sidebar": "Contents",
   "toc_cell": false,
   "toc_position": {},
   "toc_section_display": true,
   "toc_window_display": false
  }
 },
 "nbformat": 4,
 "nbformat_minor": 1
}
