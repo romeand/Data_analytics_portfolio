{
 "cells": [
  {
   "cell_type": "markdown",
   "metadata": {},
   "source": [
    "¡Hola, Adrés!\n",
    "\n",
    "Mi nombre es Tonatiuh Cruz. Me complace revisar tu proyecto hoy.\n",
    "\n",
    "Al identificar cualquier error inicialmente, simplemente los destacaré. Te animo a localizar y abordar los problemas de forma independiente como parte de tu preparación para un rol como data-analyst. En un entorno profesional, tu líder de equipo seguiría un enfoque similar. Si encuentras la tarea desafiante, proporcionaré una pista más específica en la próxima iteración.\n",
    "\n",
    "Encontrarás mis comentarios a continuación - **por favor no los muevas, modifiques o elimines**.\n",
    "\n",
    "Puedes encontrar mis comentarios en cajas verdes, amarillas o rojas como esta:\n",
    "\n",
    "<div class=\"alert alert-block alert-success\">\n",
    "<b>Comentario del revisor</b> <a class=\"tocSkip\"></a>\n",
    "\n",
    "Éxito. Todo está hecho correctamente.\n",
    "</div>\n",
    "\n",
    "<div class=\"alert alert-block alert-warning\">\n",
    "<b>Comentario del revisor</b> <a class=\"tocSkip\"></a>\n",
    "\n",
    "Observaciones. Algunas recomendaciones.\n",
    "</div>\n",
    "\n",
    "<div class=\"alert alert-block alert-danger\">\n",
    "<b>Comentario del revisor</b> <a class=\"tocSkip\"></a>\n",
    "\n",
    "Necesita corrección. El bloque requiere algunas correcciones. El trabajo no puede ser aceptado con comentarios en rojo.\n",
    "</div>\n",
    "\n",
    "Puedes responderme utilizando esto:\n",
    "\n",
    "<div class=\"alert alert-block alert-info\">"
   ]
  },
  {
   "cell_type": "markdown",
   "metadata": {},
   "source": [
    "<div class=\"alert alert-block alert-success\">\n",
    "<b>Resumen de la revisión 1</b> <a class=\"tocSkip\"></a>\n",
    "\n",
    "Hola Andrés! Has hecho un excelente trabajo con los ajustes, cada vez más cercas de convertirte en un analista de datos. Realizaste la carga de bases, su análisis inicial, sus ajustes, un análisis de algunos variables conmplementado con gráficas y el desarrollo de las pruebas d ehipótesis. Solamente te dejo algunos comentarios para complementar el análisis. \n",
    "\n",
    "Sigue con el excelente trabajo!\n",
    "</div>"
   ]
  },
  {
   "cell_type": "markdown",
   "metadata": {
    "id": "3rYiDeEH0q0f"
   },
   "source": [
    "# ¿Cuál es la mejor tarifa?\n",
    "\n",
    "Trabajas como analista para el operador de telecomunicaciones Megaline. La empresa ofrece a sus clientes dos tarifas de prepago, Surf y Ultimate. El departamento comercial quiere saber cuál de las tarifas genera más ingresos para poder ajustar el presupuesto de publicidad.\n",
    "\n",
    "Vas a realizar un análisis preliminar de las tarifas basado en una selección de clientes relativamente pequeña. Tendrás los datos de 500 clientes de Megaline: quiénes son los clientes, de dónde son, qué tarifa usan, así como la cantidad de llamadas que hicieron y los mensajes de texto que enviaron en 2018. Tu trabajo es analizar el comportamiento de los clientes y determinar qué tarifa de prepago genera más ingresos."
   ]
  },
  {
   "cell_type": "markdown",
   "metadata": {
    "id": "MQi4IPy70q0y"
   },
   "source": [
    "## Inicialización"
   ]
  },
  {
   "cell_type": "code",
   "execution_count": 59,
   "metadata": {
    "id": "MtYIuBxu0q0z"
   },
   "outputs": [],
   "source": [
    "# Cargar todas las librerías\n",
    "import pandas as pd\n",
    "from matplotlib import pyplot as plt\n",
    "import numpy as np\n",
    "import seaborn as sns\n",
    "from math import factorial\n",
    "from scipy import stats as st\n"
   ]
  },
  {
   "cell_type": "markdown",
   "metadata": {},
   "source": [
    "\n",
    "<div class=\"alert alert-block alert-success\">\n",
    "<b>Comentario del revisor:</b> <a class=\"tocSkip\"></a>\n",
    "    \n",
    "Has realizado un excelente trabajo al importar los datos y las bibliotecas necesarias.\n",
    "\n",
    "</div>"
   ]
  },
  {
   "cell_type": "markdown",
   "metadata": {
    "id": "4ysWWC5i0q00"
   },
   "source": [
    "## Cargar datos"
   ]
  },
  {
   "cell_type": "code",
   "execution_count": 60,
   "metadata": {
    "id": "CCqPW7rS0q01"
   },
   "outputs": [],
   "source": [
    "# Carga los archivos de datos en diferentes DataFrames\n",
    "users=pd.read_csv('/datasets/megaline_users.csv')\n",
    "calls=pd.read_csv('/datasets/megaline_calls.csv')\n",
    "messages=pd.read_csv('/datasets/megaline_messages.csv')\n",
    "internet=pd.read_csv('/datasets/megaline_internet.csv')\n",
    "plans=pd.read_csv('/datasets/megaline_plans.csv')"
   ]
  },
  {
   "cell_type": "markdown",
   "metadata": {
    "id": "69qqoJ3r0q01"
   },
   "source": [
    "## Preparar los datos\n"
   ]
  },
  {
   "cell_type": "markdown",
   "metadata": {
    "id": "vUuZw80S0q01"
   },
   "source": [
    "Vemos que los datos se encuentran distribuidos en hasta 5 tablas por lo que tendremos que poner mucha atención para identificar cuál columna de datos es la que nos permite hacer las relaciones entre las mismas tablas."
   ]
  },
  {
   "cell_type": "markdown",
   "metadata": {
    "id": "ohBhimvH0q01"
   },
   "source": [
    "## Tarifas"
   ]
  },
  {
   "cell_type": "code",
   "execution_count": 61,
   "metadata": {
    "id": "GptqP3Q40q02"
   },
   "outputs": [
    {
     "name": "stdout",
     "output_type": "stream",
     "text": [
      "<class 'pandas.core.frame.DataFrame'>\n",
      "RangeIndex: 2 entries, 0 to 1\n",
      "Data columns (total 8 columns):\n",
      " #   Column                 Non-Null Count  Dtype  \n",
      "---  ------                 --------------  -----  \n",
      " 0   messages_included      2 non-null      int64  \n",
      " 1   mb_per_month_included  2 non-null      int64  \n",
      " 2   minutes_included       2 non-null      int64  \n",
      " 3   usd_monthly_pay        2 non-null      int64  \n",
      " 4   usd_per_gb             2 non-null      int64  \n",
      " 5   usd_per_message        2 non-null      float64\n",
      " 6   usd_per_minute         2 non-null      float64\n",
      " 7   plan_name              2 non-null      object \n",
      "dtypes: float64(2), int64(5), object(1)\n",
      "memory usage: 256.0+ bytes\n"
     ]
    }
   ],
   "source": [
    "# Imprime la información general/resumida sobre el DataFrame de las tarifas\n",
    "plans.info()\n"
   ]
  },
  {
   "cell_type": "markdown",
   "metadata": {},
   "source": [
    "\n",
    "<div class=\"alert alert-block alert-success\">\n",
    "<b>Comentario del revisor:</b> <a class=\"tocSkip\"></a>\n",
    "    \n",
    "Muy buen trabajo con el uso de info() esto nos ayuda a presentar la información general de las bases de datos con las que vamos a trabajar.\n",
    "\n",
    "</div>"
   ]
  },
  {
   "cell_type": "code",
   "execution_count": 62,
   "metadata": {
    "id": "64xzjwL70q02"
   },
   "outputs": [
    {
     "data": {
      "text/html": [
       "<div>\n",
       "<style scoped>\n",
       "    .dataframe tbody tr th:only-of-type {\n",
       "        vertical-align: middle;\n",
       "    }\n",
       "\n",
       "    .dataframe tbody tr th {\n",
       "        vertical-align: top;\n",
       "    }\n",
       "\n",
       "    .dataframe thead th {\n",
       "        text-align: right;\n",
       "    }\n",
       "</style>\n",
       "<table border=\"1\" class=\"dataframe\">\n",
       "  <thead>\n",
       "    <tr style=\"text-align: right;\">\n",
       "      <th></th>\n",
       "      <th>messages_included</th>\n",
       "      <th>mb_per_month_included</th>\n",
       "      <th>minutes_included</th>\n",
       "      <th>usd_monthly_pay</th>\n",
       "      <th>usd_per_gb</th>\n",
       "      <th>usd_per_message</th>\n",
       "      <th>usd_per_minute</th>\n",
       "      <th>plan_name</th>\n",
       "    </tr>\n",
       "  </thead>\n",
       "  <tbody>\n",
       "    <tr>\n",
       "      <th>0</th>\n",
       "      <td>50</td>\n",
       "      <td>15360</td>\n",
       "      <td>500</td>\n",
       "      <td>20</td>\n",
       "      <td>10</td>\n",
       "      <td>0.03</td>\n",
       "      <td>0.03</td>\n",
       "      <td>surf</td>\n",
       "    </tr>\n",
       "    <tr>\n",
       "      <th>1</th>\n",
       "      <td>1000</td>\n",
       "      <td>30720</td>\n",
       "      <td>3000</td>\n",
       "      <td>70</td>\n",
       "      <td>7</td>\n",
       "      <td>0.01</td>\n",
       "      <td>0.01</td>\n",
       "      <td>ultimate</td>\n",
       "    </tr>\n",
       "  </tbody>\n",
       "</table>\n",
       "</div>"
      ],
      "text/plain": [
       "   messages_included  mb_per_month_included  minutes_included  \\\n",
       "0                 50                  15360               500   \n",
       "1               1000                  30720              3000   \n",
       "\n",
       "   usd_monthly_pay  usd_per_gb  usd_per_message  usd_per_minute plan_name  \n",
       "0               20          10             0.03            0.03      surf  \n",
       "1               70           7             0.01            0.01  ultimate  "
      ]
     },
     "execution_count": 62,
     "metadata": {},
     "output_type": "execute_result"
    }
   ],
   "source": [
    "# Imprime una muestra de los datos para las tarifas\n",
    "plans.head()\n"
   ]
  },
  {
   "cell_type": "markdown",
   "metadata": {
    "id": "mEc_3_hs0q02"
   },
   "source": [
    "Observamos la información para ambos planes tarifarios. Parecen los datos estar en sus formatos correctos y no tenemos datos ausentes ya que es una tabla pequeña dado que solo tenemos 2 opciones tarifarias. El ligar los datos con el resto de Df puede arrojar la necesidad de cambiar algún formato para los datos de algunas columnas pero ello está pendiente de confirmarse."
   ]
  },
  {
   "cell_type": "markdown",
   "metadata": {
    "id": "R3C05i1l0q03"
   },
   "source": [
    "## Corregir datos"
   ]
  },
  {
   "cell_type": "markdown",
   "metadata": {
    "id": "Y7SVmjGn0q03"
   },
   "source": [
    "Por lo pronto no haremos cambios a esta tabla ya que es muy básica y por el momento no identificamos necesidad de agregar o hacer cambios.Dependiendo de cómo se decida unir en una tabla general podrán identificarse necesidades de cambiar nombres de columnas."
   ]
  },
  {
   "cell_type": "markdown",
   "metadata": {
    "id": "LJir7bml0q03"
   },
   "source": [
    "## Enriquecer los datos"
   ]
  },
  {
   "cell_type": "markdown",
   "metadata": {
    "id": "gfcIEuXV0q04"
   },
   "source": [
    "Por el momento aún no agregaremos datos a esta tabla."
   ]
  },
  {
   "cell_type": "markdown",
   "metadata": {
    "id": "1n2X6WXf0q04"
   },
   "source": [
    "## Usuarios/as"
   ]
  },
  {
   "cell_type": "code",
   "execution_count": 63,
   "metadata": {
    "id": "2NgjWFqx0q05"
   },
   "outputs": [
    {
     "name": "stdout",
     "output_type": "stream",
     "text": [
      "<class 'pandas.core.frame.DataFrame'>\n",
      "RangeIndex: 500 entries, 0 to 499\n",
      "Data columns (total 8 columns):\n",
      " #   Column      Non-Null Count  Dtype \n",
      "---  ------      --------------  ----- \n",
      " 0   user_id     500 non-null    int64 \n",
      " 1   first_name  500 non-null    object\n",
      " 2   last_name   500 non-null    object\n",
      " 3   age         500 non-null    int64 \n",
      " 4   city        500 non-null    object\n",
      " 5   reg_date    500 non-null    object\n",
      " 6   plan        500 non-null    object\n",
      " 7   churn_date  34 non-null     object\n",
      "dtypes: int64(2), object(6)\n",
      "memory usage: 31.4+ KB\n"
     ]
    }
   ],
   "source": [
    "# Imprime la información general/resumida sobre el DataFrame de usuarios\n",
    "users.info()"
   ]
  },
  {
   "cell_type": "code",
   "execution_count": 64,
   "metadata": {
    "id": "1IN1L9uh0q05"
   },
   "outputs": [
    {
     "data": {
      "text/html": [
       "<div>\n",
       "<style scoped>\n",
       "    .dataframe tbody tr th:only-of-type {\n",
       "        vertical-align: middle;\n",
       "    }\n",
       "\n",
       "    .dataframe tbody tr th {\n",
       "        vertical-align: top;\n",
       "    }\n",
       "\n",
       "    .dataframe thead th {\n",
       "        text-align: right;\n",
       "    }\n",
       "</style>\n",
       "<table border=\"1\" class=\"dataframe\">\n",
       "  <thead>\n",
       "    <tr style=\"text-align: right;\">\n",
       "      <th></th>\n",
       "      <th>user_id</th>\n",
       "      <th>first_name</th>\n",
       "      <th>last_name</th>\n",
       "      <th>age</th>\n",
       "      <th>city</th>\n",
       "      <th>reg_date</th>\n",
       "      <th>plan</th>\n",
       "      <th>churn_date</th>\n",
       "    </tr>\n",
       "  </thead>\n",
       "  <tbody>\n",
       "    <tr>\n",
       "      <th>0</th>\n",
       "      <td>1000</td>\n",
       "      <td>Anamaria</td>\n",
       "      <td>Bauer</td>\n",
       "      <td>45</td>\n",
       "      <td>Atlanta-Sandy Springs-Roswell, GA MSA</td>\n",
       "      <td>2018-12-24</td>\n",
       "      <td>ultimate</td>\n",
       "      <td>NaN</td>\n",
       "    </tr>\n",
       "    <tr>\n",
       "      <th>1</th>\n",
       "      <td>1001</td>\n",
       "      <td>Mickey</td>\n",
       "      <td>Wilkerson</td>\n",
       "      <td>28</td>\n",
       "      <td>Seattle-Tacoma-Bellevue, WA MSA</td>\n",
       "      <td>2018-08-13</td>\n",
       "      <td>surf</td>\n",
       "      <td>NaN</td>\n",
       "    </tr>\n",
       "    <tr>\n",
       "      <th>2</th>\n",
       "      <td>1002</td>\n",
       "      <td>Carlee</td>\n",
       "      <td>Hoffman</td>\n",
       "      <td>36</td>\n",
       "      <td>Las Vegas-Henderson-Paradise, NV MSA</td>\n",
       "      <td>2018-10-21</td>\n",
       "      <td>surf</td>\n",
       "      <td>NaN</td>\n",
       "    </tr>\n",
       "    <tr>\n",
       "      <th>3</th>\n",
       "      <td>1003</td>\n",
       "      <td>Reynaldo</td>\n",
       "      <td>Jenkins</td>\n",
       "      <td>52</td>\n",
       "      <td>Tulsa, OK MSA</td>\n",
       "      <td>2018-01-28</td>\n",
       "      <td>surf</td>\n",
       "      <td>NaN</td>\n",
       "    </tr>\n",
       "    <tr>\n",
       "      <th>4</th>\n",
       "      <td>1004</td>\n",
       "      <td>Leonila</td>\n",
       "      <td>Thompson</td>\n",
       "      <td>40</td>\n",
       "      <td>Seattle-Tacoma-Bellevue, WA MSA</td>\n",
       "      <td>2018-05-23</td>\n",
       "      <td>surf</td>\n",
       "      <td>NaN</td>\n",
       "    </tr>\n",
       "  </tbody>\n",
       "</table>\n",
       "</div>"
      ],
      "text/plain": [
       "   user_id first_name  last_name  age                                   city  \\\n",
       "0     1000   Anamaria      Bauer   45  Atlanta-Sandy Springs-Roswell, GA MSA   \n",
       "1     1001     Mickey  Wilkerson   28        Seattle-Tacoma-Bellevue, WA MSA   \n",
       "2     1002     Carlee    Hoffman   36   Las Vegas-Henderson-Paradise, NV MSA   \n",
       "3     1003   Reynaldo    Jenkins   52                          Tulsa, OK MSA   \n",
       "4     1004    Leonila   Thompson   40        Seattle-Tacoma-Bellevue, WA MSA   \n",
       "\n",
       "     reg_date      plan churn_date  \n",
       "0  2018-12-24  ultimate        NaN  \n",
       "1  2018-08-13      surf        NaN  \n",
       "2  2018-10-21      surf        NaN  \n",
       "3  2018-01-28      surf        NaN  \n",
       "4  2018-05-23      surf        NaN  "
      ]
     },
     "execution_count": 64,
     "metadata": {},
     "output_type": "execute_result"
    }
   ],
   "source": [
    "# Imprime una muestra de datos para usuarios\n",
    "users.head()"
   ]
  },
  {
   "cell_type": "markdown",
   "metadata": {
    "id": "dCZoUq4f0q06"
   },
   "source": [
    "En general los datos se ven bien, puesto que en la mayoría de columnas tenemos los 500 registros necesarios. Así mismo tenemos datos ausentes pero de acuerdo a la descripción principal de la información los NaN de churn_date es porque el usuario no ha abandonado el servicio. Podría necesitar modificarse el formato object de las fechas para poder hacer calculos por fecha y usuario entre las distintas tablas. Quizá se deban cambiar los nombres a minúsculas."
   ]
  },
  {
   "cell_type": "markdown",
   "metadata": {
    "id": "BX5FQh_I0q06"
   },
   "source": [
    "### Corregir los datos"
   ]
  },
  {
   "cell_type": "code",
   "execution_count": 65,
   "metadata": {
    "id": "yUqX-K0C0q07"
   },
   "outputs": [
    {
     "name": "stdout",
     "output_type": "stream",
     "text": [
      "<class 'pandas.core.frame.DataFrame'>\n",
      "RangeIndex: 500 entries, 0 to 499\n",
      "Data columns (total 8 columns):\n",
      " #   Column      Non-Null Count  Dtype         \n",
      "---  ------      --------------  -----         \n",
      " 0   user_id     500 non-null    int64         \n",
      " 1   first_name  500 non-null    object        \n",
      " 2   last_name   500 non-null    object        \n",
      " 3   age         500 non-null    int64         \n",
      " 4   city        500 non-null    object        \n",
      " 5   reg_date    500 non-null    datetime64[ns]\n",
      " 6   plan        500 non-null    object        \n",
      " 7   churn_date  34 non-null     datetime64[ns]\n",
      "dtypes: datetime64[ns](2), int64(2), object(4)\n",
      "memory usage: 31.4+ KB\n"
     ]
    }
   ],
   "source": [
    "users['reg_date']=pd.to_datetime(users['reg_date'])\n",
    "users['churn_date']=pd.to_datetime(users['churn_date'])\n",
    "users.info()"
   ]
  },
  {
   "cell_type": "markdown",
   "metadata": {},
   "source": [
    "\n",
    "<div class=\"alert alert-block alert-warning\">\n",
    "<b>Comentario Revisor</b> <a class=\"tocSkip\"></a>\n",
    "\n",
    "En todos los casos en los que cambiamos el tipo de variable a datetime, te recomiendo agregar el argumento \"format='%Y-%m-%d'\" dentro de la función to_datetime(). De esta manera, puedes asegurarte siempre de que el formato de la fecha que deseas cambiar sea el que necesitas.\n",
    "</div>"
   ]
  },
  {
   "cell_type": "markdown",
   "metadata": {
    "id": "ycwuARJp0q07"
   },
   "source": [
    "### Enriquecer los datos"
   ]
  },
  {
   "cell_type": "markdown",
   "metadata": {
    "id": "iq0AaBS90q08"
   },
   "source": [
    "Por el momento no agregaremos datos o columnas a este Df."
   ]
  },
  {
   "cell_type": "markdown",
   "metadata": {
    "id": "o7MeKCid0q08"
   },
   "source": [
    "## Llamadas"
   ]
  },
  {
   "cell_type": "code",
   "execution_count": 66,
   "metadata": {
    "id": "6dDlnoDm0q08"
   },
   "outputs": [
    {
     "name": "stdout",
     "output_type": "stream",
     "text": [
      "<class 'pandas.core.frame.DataFrame'>\n",
      "RangeIndex: 137735 entries, 0 to 137734\n",
      "Data columns (total 4 columns):\n",
      " #   Column     Non-Null Count   Dtype  \n",
      "---  ------     --------------   -----  \n",
      " 0   id         137735 non-null  object \n",
      " 1   user_id    137735 non-null  int64  \n",
      " 2   call_date  137735 non-null  object \n",
      " 3   duration   137735 non-null  float64\n",
      "dtypes: float64(1), int64(1), object(2)\n",
      "memory usage: 4.2+ MB\n"
     ]
    }
   ],
   "source": [
    "# Imprime la información general/resumida sobre el DataFrame de las llamadas\n",
    "calls.info()"
   ]
  },
  {
   "cell_type": "code",
   "execution_count": 67,
   "metadata": {
    "id": "kuh1vlNB0q09"
   },
   "outputs": [
    {
     "data": {
      "text/html": [
       "<div>\n",
       "<style scoped>\n",
       "    .dataframe tbody tr th:only-of-type {\n",
       "        vertical-align: middle;\n",
       "    }\n",
       "\n",
       "    .dataframe tbody tr th {\n",
       "        vertical-align: top;\n",
       "    }\n",
       "\n",
       "    .dataframe thead th {\n",
       "        text-align: right;\n",
       "    }\n",
       "</style>\n",
       "<table border=\"1\" class=\"dataframe\">\n",
       "  <thead>\n",
       "    <tr style=\"text-align: right;\">\n",
       "      <th></th>\n",
       "      <th>id</th>\n",
       "      <th>user_id</th>\n",
       "      <th>call_date</th>\n",
       "      <th>duration</th>\n",
       "    </tr>\n",
       "  </thead>\n",
       "  <tbody>\n",
       "    <tr>\n",
       "      <th>0</th>\n",
       "      <td>1000_93</td>\n",
       "      <td>1000</td>\n",
       "      <td>2018-12-27</td>\n",
       "      <td>8.52</td>\n",
       "    </tr>\n",
       "    <tr>\n",
       "      <th>1</th>\n",
       "      <td>1000_145</td>\n",
       "      <td>1000</td>\n",
       "      <td>2018-12-27</td>\n",
       "      <td>13.66</td>\n",
       "    </tr>\n",
       "    <tr>\n",
       "      <th>2</th>\n",
       "      <td>1000_247</td>\n",
       "      <td>1000</td>\n",
       "      <td>2018-12-27</td>\n",
       "      <td>14.48</td>\n",
       "    </tr>\n",
       "    <tr>\n",
       "      <th>3</th>\n",
       "      <td>1000_309</td>\n",
       "      <td>1000</td>\n",
       "      <td>2018-12-28</td>\n",
       "      <td>5.76</td>\n",
       "    </tr>\n",
       "    <tr>\n",
       "      <th>4</th>\n",
       "      <td>1000_380</td>\n",
       "      <td>1000</td>\n",
       "      <td>2018-12-30</td>\n",
       "      <td>4.22</td>\n",
       "    </tr>\n",
       "  </tbody>\n",
       "</table>\n",
       "</div>"
      ],
      "text/plain": [
       "         id  user_id   call_date  duration\n",
       "0   1000_93     1000  2018-12-27      8.52\n",
       "1  1000_145     1000  2018-12-27     13.66\n",
       "2  1000_247     1000  2018-12-27     14.48\n",
       "3  1000_309     1000  2018-12-28      5.76\n",
       "4  1000_380     1000  2018-12-30      4.22"
      ]
     },
     "execution_count": 67,
     "metadata": {},
     "output_type": "execute_result"
    }
   ],
   "source": [
    "# Imprime una muestra de datos para las llamadas\n",
    "calls.head()\n"
   ]
  },
  {
   "cell_type": "markdown",
   "metadata": {
    "id": "DOAxYJSx0q09"
   },
   "source": [
    "Podemos observar que en el caso del id se encuentran en formato Objeto por lo que es de recordar en caso de tener que hacer algún análisis con ello. Por otro lado la duración de las llamadas se encuentra en formato float y evidentemente no está en minutos por lo que debemos redondearlo y agregar ello como una nueva columna.Se deberá modificar el formato object de las fechas para poder hacer calculos por fecha y usuario entre las distintas tablas, ello también para agregar una columna con información por mes para facilidad de calculos.Por último se hizo una tabla con los totales de tiempos de llamada por mes por usuario."
   ]
  },
  {
   "cell_type": "markdown",
   "metadata": {
    "id": "S7hzxmbX0q0-"
   },
   "source": [
    "### Corregir los datos"
   ]
  },
  {
   "cell_type": "code",
   "execution_count": 68,
   "metadata": {
    "id": "S2r8xA4f0q0-"
   },
   "outputs": [],
   "source": [
    "calls['call_date']=pd.to_datetime(calls['call_date'])\n",
    "def redondeo_para_arriba (duracion):\n",
    "    redondeo=np.ceil(duracion)\n",
    "    return redondeo"
   ]
  },
  {
   "cell_type": "markdown",
   "metadata": {},
   "source": [
    "<div class=\"alert alert-block alert-success\">\n",
    "<b>Comentario del revisor</b> <a class=\"tocSkip\"></a>\n",
    "\n",
    "Muy buen trabajo en redondear la duración de las llamadas.\n",
    "    \n",
    "</div>"
   ]
  },
  {
   "cell_type": "markdown",
   "metadata": {
    "id": "KrMgTrlG0q0_"
   },
   "source": [
    "### Enriquecer los datos"
   ]
  },
  {
   "cell_type": "code",
   "execution_count": 69,
   "metadata": {
    "id": "iZ1avpA_0q0_"
   },
   "outputs": [
    {
     "data": {
      "text/html": [
       "<div>\n",
       "<style scoped>\n",
       "    .dataframe tbody tr th:only-of-type {\n",
       "        vertical-align: middle;\n",
       "    }\n",
       "\n",
       "    .dataframe tbody tr th {\n",
       "        vertical-align: top;\n",
       "    }\n",
       "\n",
       "    .dataframe thead th {\n",
       "        text-align: right;\n",
       "    }\n",
       "</style>\n",
       "<table border=\"1\" class=\"dataframe\">\n",
       "  <thead>\n",
       "    <tr style=\"text-align: right;\">\n",
       "      <th></th>\n",
       "      <th>user_id</th>\n",
       "      <th>month</th>\n",
       "      <th>used_minutes</th>\n",
       "      <th>total_calls</th>\n",
       "    </tr>\n",
       "  </thead>\n",
       "  <tbody>\n",
       "    <tr>\n",
       "      <th>0</th>\n",
       "      <td>1000</td>\n",
       "      <td>12</td>\n",
       "      <td>124.0</td>\n",
       "      <td>16</td>\n",
       "    </tr>\n",
       "    <tr>\n",
       "      <th>1</th>\n",
       "      <td>1001</td>\n",
       "      <td>8</td>\n",
       "      <td>182.0</td>\n",
       "      <td>27</td>\n",
       "    </tr>\n",
       "    <tr>\n",
       "      <th>2</th>\n",
       "      <td>1001</td>\n",
       "      <td>9</td>\n",
       "      <td>315.0</td>\n",
       "      <td>49</td>\n",
       "    </tr>\n",
       "    <tr>\n",
       "      <th>3</th>\n",
       "      <td>1001</td>\n",
       "      <td>10</td>\n",
       "      <td>393.0</td>\n",
       "      <td>65</td>\n",
       "    </tr>\n",
       "    <tr>\n",
       "      <th>4</th>\n",
       "      <td>1001</td>\n",
       "      <td>11</td>\n",
       "      <td>426.0</td>\n",
       "      <td>64</td>\n",
       "    </tr>\n",
       "  </tbody>\n",
       "</table>\n",
       "</div>"
      ],
      "text/plain": [
       "   user_id  month  used_minutes  total_calls\n",
       "0     1000     12         124.0           16\n",
       "1     1001      8         182.0           27\n",
       "2     1001      9         315.0           49\n",
       "3     1001     10         393.0           65\n",
       "4     1001     11         426.0           64"
      ]
     },
     "execution_count": 69,
     "metadata": {},
     "output_type": "execute_result"
    }
   ],
   "source": [
    "calls['call_duration_ceil'] = calls['duration'].apply(redondeo_para_arriba)\n",
    "calls['month'] = calls['call_date'].dt.month\n",
    "fct_calls = calls.pivot_table(index = ['user_id','month'], values = 'call_duration_ceil',aggfunc = ['sum','count'])\n",
    "fct_calls.columns = ['used_minutes','total_calls']\n",
    "fct_calls.reset_index(inplace=True)\n",
    "fct_calls.head()"
   ]
  },
  {
   "cell_type": "markdown",
   "metadata": {
    "id": "mOUZSi180q0_"
   },
   "source": [
    "## Mensajes"
   ]
  },
  {
   "cell_type": "code",
   "execution_count": 70,
   "metadata": {
    "id": "R-bYJpdV0q1A"
   },
   "outputs": [
    {
     "name": "stdout",
     "output_type": "stream",
     "text": [
      "<class 'pandas.core.frame.DataFrame'>\n",
      "RangeIndex: 76051 entries, 0 to 76050\n",
      "Data columns (total 3 columns):\n",
      " #   Column        Non-Null Count  Dtype \n",
      "---  ------        --------------  ----- \n",
      " 0   id            76051 non-null  object\n",
      " 1   user_id       76051 non-null  int64 \n",
      " 2   message_date  76051 non-null  object\n",
      "dtypes: int64(1), object(2)\n",
      "memory usage: 1.7+ MB\n"
     ]
    }
   ],
   "source": [
    "# Imprime la información general/resumida sobre el DataFrame de los mensajes\n",
    "messages.info()\n"
   ]
  },
  {
   "cell_type": "code",
   "execution_count": 71,
   "metadata": {
    "id": "mCEl2iGE0q1A"
   },
   "outputs": [
    {
     "data": {
      "text/html": [
       "<div>\n",
       "<style scoped>\n",
       "    .dataframe tbody tr th:only-of-type {\n",
       "        vertical-align: middle;\n",
       "    }\n",
       "\n",
       "    .dataframe tbody tr th {\n",
       "        vertical-align: top;\n",
       "    }\n",
       "\n",
       "    .dataframe thead th {\n",
       "        text-align: right;\n",
       "    }\n",
       "</style>\n",
       "<table border=\"1\" class=\"dataframe\">\n",
       "  <thead>\n",
       "    <tr style=\"text-align: right;\">\n",
       "      <th></th>\n",
       "      <th>id</th>\n",
       "      <th>user_id</th>\n",
       "      <th>message_date</th>\n",
       "    </tr>\n",
       "  </thead>\n",
       "  <tbody>\n",
       "    <tr>\n",
       "      <th>0</th>\n",
       "      <td>1000_125</td>\n",
       "      <td>1000</td>\n",
       "      <td>2018-12-27</td>\n",
       "    </tr>\n",
       "    <tr>\n",
       "      <th>1</th>\n",
       "      <td>1000_160</td>\n",
       "      <td>1000</td>\n",
       "      <td>2018-12-31</td>\n",
       "    </tr>\n",
       "    <tr>\n",
       "      <th>2</th>\n",
       "      <td>1000_223</td>\n",
       "      <td>1000</td>\n",
       "      <td>2018-12-31</td>\n",
       "    </tr>\n",
       "    <tr>\n",
       "      <th>3</th>\n",
       "      <td>1000_251</td>\n",
       "      <td>1000</td>\n",
       "      <td>2018-12-27</td>\n",
       "    </tr>\n",
       "    <tr>\n",
       "      <th>4</th>\n",
       "      <td>1000_255</td>\n",
       "      <td>1000</td>\n",
       "      <td>2018-12-26</td>\n",
       "    </tr>\n",
       "  </tbody>\n",
       "</table>\n",
       "</div>"
      ],
      "text/plain": [
       "         id  user_id message_date\n",
       "0  1000_125     1000   2018-12-27\n",
       "1  1000_160     1000   2018-12-31\n",
       "2  1000_223     1000   2018-12-31\n",
       "3  1000_251     1000   2018-12-27\n",
       "4  1000_255     1000   2018-12-26"
      ]
     },
     "execution_count": 71,
     "metadata": {},
     "output_type": "execute_result"
    }
   ],
   "source": [
    "# Imprime una muestra de datos para los mensajes\n",
    "messages.head()\n"
   ]
  },
  {
   "cell_type": "markdown",
   "metadata": {
    "id": "04xDj7KH0q1A"
   },
   "source": [
    "Se deberá modificar el formato object de las fechas para poder hacer calculos por fecha y usuario entre las distintas tablas.Al igual que con las llamadas podemos hacer nuevas columnas o tablas que nos faciliten procesar los datos para hacer distintos cálculos.A diferencia de las llamadas no hay necesidad de redondear los tiempo pero sí de contar el número de veces que se envía un mensaje por día por usuario por lo que reflejamos ello en nuetra pivot_table."
   ]
  },
  {
   "cell_type": "markdown",
   "metadata": {
    "id": "Sprfak900q1B"
   },
   "source": [
    "### Corregir los datos"
   ]
  },
  {
   "cell_type": "code",
   "execution_count": 72,
   "metadata": {
    "id": "vsllvkoa0q1B"
   },
   "outputs": [],
   "source": [
    "messages['message_date']=pd.to_datetime(messages['message_date'])"
   ]
  },
  {
   "cell_type": "markdown",
   "metadata": {
    "id": "HvLid7iD0q1B"
   },
   "source": [
    "### Enriquecer los datos"
   ]
  },
  {
   "cell_type": "code",
   "execution_count": 73,
   "metadata": {
    "id": "zYEXZac10q1C"
   },
   "outputs": [
    {
     "data": {
      "text/html": [
       "<div>\n",
       "<style scoped>\n",
       "    .dataframe tbody tr th:only-of-type {\n",
       "        vertical-align: middle;\n",
       "    }\n",
       "\n",
       "    .dataframe tbody tr th {\n",
       "        vertical-align: top;\n",
       "    }\n",
       "\n",
       "    .dataframe thead th {\n",
       "        text-align: right;\n",
       "    }\n",
       "</style>\n",
       "<table border=\"1\" class=\"dataframe\">\n",
       "  <thead>\n",
       "    <tr style=\"text-align: right;\">\n",
       "      <th></th>\n",
       "      <th>user_id</th>\n",
       "      <th>month</th>\n",
       "      <th>quantity_messages</th>\n",
       "    </tr>\n",
       "  </thead>\n",
       "  <tbody>\n",
       "    <tr>\n",
       "      <th>0</th>\n",
       "      <td>1000</td>\n",
       "      <td>12</td>\n",
       "      <td>11</td>\n",
       "    </tr>\n",
       "    <tr>\n",
       "      <th>1</th>\n",
       "      <td>1001</td>\n",
       "      <td>8</td>\n",
       "      <td>30</td>\n",
       "    </tr>\n",
       "    <tr>\n",
       "      <th>2</th>\n",
       "      <td>1001</td>\n",
       "      <td>9</td>\n",
       "      <td>44</td>\n",
       "    </tr>\n",
       "    <tr>\n",
       "      <th>3</th>\n",
       "      <td>1001</td>\n",
       "      <td>10</td>\n",
       "      <td>53</td>\n",
       "    </tr>\n",
       "    <tr>\n",
       "      <th>4</th>\n",
       "      <td>1001</td>\n",
       "      <td>11</td>\n",
       "      <td>36</td>\n",
       "    </tr>\n",
       "  </tbody>\n",
       "</table>\n",
       "</div>"
      ],
      "text/plain": [
       "   user_id  month  quantity_messages\n",
       "0     1000     12                 11\n",
       "1     1001      8                 30\n",
       "2     1001      9                 44\n",
       "3     1001     10                 53\n",
       "4     1001     11                 36"
      ]
     },
     "execution_count": 73,
     "metadata": {},
     "output_type": "execute_result"
    }
   ],
   "source": [
    "messages['month'] = messages['message_date'].dt.month\n",
    "fct_messages = messages.pivot_table(index = ['user_id','month'], values= 'id',aggfunc='count')\n",
    "fct_messages.columns = ['quantity_messages']\n",
    "fct_messages.reset_index(inplace=True)\n",
    "fct_messages.head()"
   ]
  },
  {
   "cell_type": "markdown",
   "metadata": {
    "id": "bStkaxn40q1C"
   },
   "source": [
    "## Internet"
   ]
  },
  {
   "cell_type": "code",
   "execution_count": 74,
   "metadata": {
    "id": "e-Uz5qyn0q1C"
   },
   "outputs": [
    {
     "name": "stdout",
     "output_type": "stream",
     "text": [
      "<class 'pandas.core.frame.DataFrame'>\n",
      "RangeIndex: 104825 entries, 0 to 104824\n",
      "Data columns (total 4 columns):\n",
      " #   Column        Non-Null Count   Dtype  \n",
      "---  ------        --------------   -----  \n",
      " 0   id            104825 non-null  object \n",
      " 1   user_id       104825 non-null  int64  \n",
      " 2   session_date  104825 non-null  object \n",
      " 3   mb_used       104825 non-null  float64\n",
      "dtypes: float64(1), int64(1), object(2)\n",
      "memory usage: 3.2+ MB\n"
     ]
    }
   ],
   "source": [
    "# Imprime la información general/resumida sobre el DataFrame de internet\n",
    "internet.info()"
   ]
  },
  {
   "cell_type": "code",
   "execution_count": 75,
   "metadata": {
    "id": "9r3x_XLw0q1C"
   },
   "outputs": [
    {
     "data": {
      "text/html": [
       "<div>\n",
       "<style scoped>\n",
       "    .dataframe tbody tr th:only-of-type {\n",
       "        vertical-align: middle;\n",
       "    }\n",
       "\n",
       "    .dataframe tbody tr th {\n",
       "        vertical-align: top;\n",
       "    }\n",
       "\n",
       "    .dataframe thead th {\n",
       "        text-align: right;\n",
       "    }\n",
       "</style>\n",
       "<table border=\"1\" class=\"dataframe\">\n",
       "  <thead>\n",
       "    <tr style=\"text-align: right;\">\n",
       "      <th></th>\n",
       "      <th>id</th>\n",
       "      <th>user_id</th>\n",
       "      <th>session_date</th>\n",
       "      <th>mb_used</th>\n",
       "    </tr>\n",
       "  </thead>\n",
       "  <tbody>\n",
       "    <tr>\n",
       "      <th>0</th>\n",
       "      <td>1000_13</td>\n",
       "      <td>1000</td>\n",
       "      <td>2018-12-29</td>\n",
       "      <td>89.86</td>\n",
       "    </tr>\n",
       "    <tr>\n",
       "      <th>1</th>\n",
       "      <td>1000_204</td>\n",
       "      <td>1000</td>\n",
       "      <td>2018-12-31</td>\n",
       "      <td>0.00</td>\n",
       "    </tr>\n",
       "    <tr>\n",
       "      <th>2</th>\n",
       "      <td>1000_379</td>\n",
       "      <td>1000</td>\n",
       "      <td>2018-12-28</td>\n",
       "      <td>660.40</td>\n",
       "    </tr>\n",
       "    <tr>\n",
       "      <th>3</th>\n",
       "      <td>1000_413</td>\n",
       "      <td>1000</td>\n",
       "      <td>2018-12-26</td>\n",
       "      <td>270.99</td>\n",
       "    </tr>\n",
       "    <tr>\n",
       "      <th>4</th>\n",
       "      <td>1000_442</td>\n",
       "      <td>1000</td>\n",
       "      <td>2018-12-27</td>\n",
       "      <td>880.22</td>\n",
       "    </tr>\n",
       "  </tbody>\n",
       "</table>\n",
       "</div>"
      ],
      "text/plain": [
       "         id  user_id session_date  mb_used\n",
       "0   1000_13     1000   2018-12-29    89.86\n",
       "1  1000_204     1000   2018-12-31     0.00\n",
       "2  1000_379     1000   2018-12-28   660.40\n",
       "3  1000_413     1000   2018-12-26   270.99\n",
       "4  1000_442     1000   2018-12-27   880.22"
      ]
     },
     "execution_count": 75,
     "metadata": {},
     "output_type": "execute_result"
    }
   ],
   "source": [
    "# Imprime una muestra de datos para el tráfico de internet\n",
    "internet.head()\n"
   ]
  },
  {
   "cell_type": "markdown",
   "metadata": {
    "id": "EzOG5ik30q1D"
   },
   "source": [
    "Al igual que con las llamadas y mensajes debemos modificar el formato object de las fechas para poder hacer calculos por fecha y usuario entre las distintas tablas.Agregamos una columna con datos agregados y creamos una tabla con el índice reseteado.Como el plan tarifario es en GB hacemos una función para convertir nuestros datos de mb a gb para poder hacer las comparaciones o estimaciones correctas por usuario en función de cuánto se excede y por ende el cobro corrrespondiente."
   ]
  },
  {
   "cell_type": "markdown",
   "metadata": {
    "id": "yA0tkPFg0q1D"
   },
   "source": [
    "### Corregir los datos"
   ]
  },
  {
   "cell_type": "code",
   "execution_count": 76,
   "metadata": {
    "id": "zVeanzdd0q1E"
   },
   "outputs": [],
   "source": [
    "internet['session_date']=pd.to_datetime(internet['session_date'])"
   ]
  },
  {
   "cell_type": "markdown",
   "metadata": {
    "id": "e8_mLF4a0q1E"
   },
   "source": [
    "### Enriquecer los datos"
   ]
  },
  {
   "cell_type": "code",
   "execution_count": 77,
   "metadata": {
    "id": "ESiYPIEK0q1E"
   },
   "outputs": [
    {
     "data": {
      "text/html": [
       "<div>\n",
       "<style scoped>\n",
       "    .dataframe tbody tr th:only-of-type {\n",
       "        vertical-align: middle;\n",
       "    }\n",
       "\n",
       "    .dataframe tbody tr th {\n",
       "        vertical-align: top;\n",
       "    }\n",
       "\n",
       "    .dataframe thead th {\n",
       "        text-align: right;\n",
       "    }\n",
       "</style>\n",
       "<table border=\"1\" class=\"dataframe\">\n",
       "  <thead>\n",
       "    <tr style=\"text-align: right;\">\n",
       "      <th></th>\n",
       "      <th>user_id</th>\n",
       "      <th>month</th>\n",
       "      <th>mb_used</th>\n",
       "      <th>spent_gb</th>\n",
       "    </tr>\n",
       "  </thead>\n",
       "  <tbody>\n",
       "    <tr>\n",
       "      <th>0</th>\n",
       "      <td>1000</td>\n",
       "      <td>12</td>\n",
       "      <td>1901.47</td>\n",
       "      <td>2.0</td>\n",
       "    </tr>\n",
       "    <tr>\n",
       "      <th>1</th>\n",
       "      <td>1001</td>\n",
       "      <td>8</td>\n",
       "      <td>6919.15</td>\n",
       "      <td>7.0</td>\n",
       "    </tr>\n",
       "    <tr>\n",
       "      <th>2</th>\n",
       "      <td>1001</td>\n",
       "      <td>9</td>\n",
       "      <td>13314.82</td>\n",
       "      <td>14.0</td>\n",
       "    </tr>\n",
       "    <tr>\n",
       "      <th>3</th>\n",
       "      <td>1001</td>\n",
       "      <td>10</td>\n",
       "      <td>22330.49</td>\n",
       "      <td>22.0</td>\n",
       "    </tr>\n",
       "    <tr>\n",
       "      <th>4</th>\n",
       "      <td>1001</td>\n",
       "      <td>11</td>\n",
       "      <td>18504.30</td>\n",
       "      <td>19.0</td>\n",
       "    </tr>\n",
       "  </tbody>\n",
       "</table>\n",
       "</div>"
      ],
      "text/plain": [
       "   user_id  month   mb_used  spent_gb\n",
       "0     1000     12   1901.47       2.0\n",
       "1     1001      8   6919.15       7.0\n",
       "2     1001      9  13314.82      14.0\n",
       "3     1001     10  22330.49      22.0\n",
       "4     1001     11  18504.30      19.0"
      ]
     },
     "execution_count": 77,
     "metadata": {},
     "output_type": "execute_result"
    }
   ],
   "source": [
    "internet['month'] = internet['session_date'].dt.month\n",
    "fct_internet = internet.pivot_table(index = ['user_id','month'], values= 'mb_used',aggfunc='sum')\n",
    "fct_internet.reset_index(inplace=True)\n",
    "def redondeo_gb (mb):\n",
    "    redondeo = np.ceil(mb/1024)\n",
    "    return redondeo\n",
    "fct_internet['spent_gb'] = fct_internet['mb_used'].apply(redondeo_gb)\n",
    "fct_internet.head()"
   ]
  },
  {
   "cell_type": "markdown",
   "metadata": {},
   "source": [
    "<div class=\"alert alert-block alert-success\">\n",
    "<b>Comentario del revisor</b> <a class=\"tocSkip\"></a>\n",
    "\n",
    "Muy buen trabajo!! Es correcto considerar que 1024 megabytes son 1 gigabytes.\n",
    "    \n",
    "</div>"
   ]
  },
  {
   "cell_type": "markdown",
   "metadata": {
    "id": "3UA2cqIW0q1E"
   },
   "source": [
    "## Estudiar las condiciones de las tarifas"
   ]
  },
  {
   "cell_type": "code",
   "execution_count": 78,
   "metadata": {
    "id": "i409op8p0q1F"
   },
   "outputs": [
    {
     "data": {
      "text/html": [
       "<div>\n",
       "<style scoped>\n",
       "    .dataframe tbody tr th:only-of-type {\n",
       "        vertical-align: middle;\n",
       "    }\n",
       "\n",
       "    .dataframe tbody tr th {\n",
       "        vertical-align: top;\n",
       "    }\n",
       "\n",
       "    .dataframe thead th {\n",
       "        text-align: right;\n",
       "    }\n",
       "</style>\n",
       "<table border=\"1\" class=\"dataframe\">\n",
       "  <thead>\n",
       "    <tr style=\"text-align: right;\">\n",
       "      <th></th>\n",
       "      <th>messages_included</th>\n",
       "      <th>mb_per_month_included</th>\n",
       "      <th>minutes_included</th>\n",
       "      <th>usd_monthly_pay</th>\n",
       "      <th>usd_per_gb</th>\n",
       "      <th>usd_per_message</th>\n",
       "      <th>usd_per_minute</th>\n",
       "      <th>plan_name</th>\n",
       "    </tr>\n",
       "  </thead>\n",
       "  <tbody>\n",
       "    <tr>\n",
       "      <th>0</th>\n",
       "      <td>50</td>\n",
       "      <td>15360</td>\n",
       "      <td>500</td>\n",
       "      <td>20</td>\n",
       "      <td>10</td>\n",
       "      <td>0.03</td>\n",
       "      <td>0.03</td>\n",
       "      <td>surf</td>\n",
       "    </tr>\n",
       "    <tr>\n",
       "      <th>1</th>\n",
       "      <td>1000</td>\n",
       "      <td>30720</td>\n",
       "      <td>3000</td>\n",
       "      <td>70</td>\n",
       "      <td>7</td>\n",
       "      <td>0.01</td>\n",
       "      <td>0.01</td>\n",
       "      <td>ultimate</td>\n",
       "    </tr>\n",
       "  </tbody>\n",
       "</table>\n",
       "</div>"
      ],
      "text/plain": [
       "   messages_included  mb_per_month_included  minutes_included  \\\n",
       "0                 50                  15360               500   \n",
       "1               1000                  30720              3000   \n",
       "\n",
       "   usd_monthly_pay  usd_per_gb  usd_per_message  usd_per_minute plan_name  \n",
       "0               20          10             0.03            0.03      surf  \n",
       "1               70           7             0.01            0.01  ultimate  "
      ]
     },
     "execution_count": 78,
     "metadata": {},
     "output_type": "execute_result"
    }
   ],
   "source": [
    "# Imprime las condiciones de la tarifa y asegúrate de que te quedan claras\n",
    "plans.head()\n"
   ]
  },
  {
   "cell_type": "markdown",
   "metadata": {
    "id": "hMR1tP5d0q1F"
   },
   "source": [
    "## Agregar datos por usuario\n"
   ]
  },
  {
   "cell_type": "code",
   "execution_count": 79,
   "metadata": {
    "id": "A332cedB0q1G"
   },
   "outputs": [
    {
     "data": {
      "text/html": [
       "<div>\n",
       "<style scoped>\n",
       "    .dataframe tbody tr th:only-of-type {\n",
       "        vertical-align: middle;\n",
       "    }\n",
       "\n",
       "    .dataframe tbody tr th {\n",
       "        vertical-align: top;\n",
       "    }\n",
       "\n",
       "    .dataframe thead th {\n",
       "        text-align: right;\n",
       "    }\n",
       "</style>\n",
       "<table border=\"1\" class=\"dataframe\">\n",
       "  <thead>\n",
       "    <tr style=\"text-align: right;\">\n",
       "      <th></th>\n",
       "      <th>user_id</th>\n",
       "      <th>month</th>\n",
       "      <th>used_minutes</th>\n",
       "      <th>total_calls</th>\n",
       "    </tr>\n",
       "  </thead>\n",
       "  <tbody>\n",
       "    <tr>\n",
       "      <th>0</th>\n",
       "      <td>1000</td>\n",
       "      <td>12</td>\n",
       "      <td>124.0</td>\n",
       "      <td>16</td>\n",
       "    </tr>\n",
       "    <tr>\n",
       "      <th>1</th>\n",
       "      <td>1001</td>\n",
       "      <td>8</td>\n",
       "      <td>182.0</td>\n",
       "      <td>27</td>\n",
       "    </tr>\n",
       "    <tr>\n",
       "      <th>2</th>\n",
       "      <td>1001</td>\n",
       "      <td>9</td>\n",
       "      <td>315.0</td>\n",
       "      <td>49</td>\n",
       "    </tr>\n",
       "    <tr>\n",
       "      <th>3</th>\n",
       "      <td>1001</td>\n",
       "      <td>10</td>\n",
       "      <td>393.0</td>\n",
       "      <td>65</td>\n",
       "    </tr>\n",
       "    <tr>\n",
       "      <th>4</th>\n",
       "      <td>1001</td>\n",
       "      <td>11</td>\n",
       "      <td>426.0</td>\n",
       "      <td>64</td>\n",
       "    </tr>\n",
       "  </tbody>\n",
       "</table>\n",
       "</div>"
      ],
      "text/plain": [
       "   user_id  month  used_minutes  total_calls\n",
       "0     1000     12         124.0           16\n",
       "1     1001      8         182.0           27\n",
       "2     1001      9         315.0           49\n",
       "3     1001     10         393.0           65\n",
       "4     1001     11         426.0           64"
      ]
     },
     "execution_count": 79,
     "metadata": {},
     "output_type": "execute_result"
    }
   ],
   "source": [
    "# Calcula el número de llamadas hechas por cada usuario al mes. Guarda el resultado.\n",
    "#Llamamos a la pivot table que se había hecho anteriormente\n",
    "fct_calls.head()\n"
   ]
  },
  {
   "cell_type": "code",
   "execution_count": 80,
   "metadata": {
    "id": "aw2cmuql0q1G"
   },
   "outputs": [
    {
     "data": {
      "text/html": [
       "<div>\n",
       "<style scoped>\n",
       "    .dataframe tbody tr th:only-of-type {\n",
       "        vertical-align: middle;\n",
       "    }\n",
       "\n",
       "    .dataframe tbody tr th {\n",
       "        vertical-align: top;\n",
       "    }\n",
       "\n",
       "    .dataframe thead th {\n",
       "        text-align: right;\n",
       "    }\n",
       "</style>\n",
       "<table border=\"1\" class=\"dataframe\">\n",
       "  <thead>\n",
       "    <tr style=\"text-align: right;\">\n",
       "      <th></th>\n",
       "      <th>user_id</th>\n",
       "      <th>month</th>\n",
       "      <th>used_minutes</th>\n",
       "      <th>total_calls</th>\n",
       "    </tr>\n",
       "  </thead>\n",
       "  <tbody>\n",
       "    <tr>\n",
       "      <th>0</th>\n",
       "      <td>1000</td>\n",
       "      <td>12</td>\n",
       "      <td>124.0</td>\n",
       "      <td>16</td>\n",
       "    </tr>\n",
       "    <tr>\n",
       "      <th>1</th>\n",
       "      <td>1001</td>\n",
       "      <td>8</td>\n",
       "      <td>182.0</td>\n",
       "      <td>27</td>\n",
       "    </tr>\n",
       "    <tr>\n",
       "      <th>2</th>\n",
       "      <td>1001</td>\n",
       "      <td>9</td>\n",
       "      <td>315.0</td>\n",
       "      <td>49</td>\n",
       "    </tr>\n",
       "    <tr>\n",
       "      <th>3</th>\n",
       "      <td>1001</td>\n",
       "      <td>10</td>\n",
       "      <td>393.0</td>\n",
       "      <td>65</td>\n",
       "    </tr>\n",
       "    <tr>\n",
       "      <th>4</th>\n",
       "      <td>1001</td>\n",
       "      <td>11</td>\n",
       "      <td>426.0</td>\n",
       "      <td>64</td>\n",
       "    </tr>\n",
       "  </tbody>\n",
       "</table>\n",
       "</div>"
      ],
      "text/plain": [
       "   user_id  month  used_minutes  total_calls\n",
       "0     1000     12         124.0           16\n",
       "1     1001      8         182.0           27\n",
       "2     1001      9         315.0           49\n",
       "3     1001     10         393.0           65\n",
       "4     1001     11         426.0           64"
      ]
     },
     "execution_count": 80,
     "metadata": {},
     "output_type": "execute_result"
    }
   ],
   "source": [
    "# Calcula la cantidad de minutos usados por cada usuario al mes. Guarda el resultado.\n",
    "#Llamamos a la pivot table que se había hecho anteriormente\n",
    "fct_calls.head()\n"
   ]
  },
  {
   "cell_type": "code",
   "execution_count": 81,
   "metadata": {
    "id": "CcQvNHn60q1G"
   },
   "outputs": [
    {
     "data": {
      "text/html": [
       "<div>\n",
       "<style scoped>\n",
       "    .dataframe tbody tr th:only-of-type {\n",
       "        vertical-align: middle;\n",
       "    }\n",
       "\n",
       "    .dataframe tbody tr th {\n",
       "        vertical-align: top;\n",
       "    }\n",
       "\n",
       "    .dataframe thead th {\n",
       "        text-align: right;\n",
       "    }\n",
       "</style>\n",
       "<table border=\"1\" class=\"dataframe\">\n",
       "  <thead>\n",
       "    <tr style=\"text-align: right;\">\n",
       "      <th></th>\n",
       "      <th>user_id</th>\n",
       "      <th>month</th>\n",
       "      <th>quantity_messages</th>\n",
       "    </tr>\n",
       "  </thead>\n",
       "  <tbody>\n",
       "    <tr>\n",
       "      <th>0</th>\n",
       "      <td>1000</td>\n",
       "      <td>12</td>\n",
       "      <td>11</td>\n",
       "    </tr>\n",
       "    <tr>\n",
       "      <th>1</th>\n",
       "      <td>1001</td>\n",
       "      <td>8</td>\n",
       "      <td>30</td>\n",
       "    </tr>\n",
       "    <tr>\n",
       "      <th>2</th>\n",
       "      <td>1001</td>\n",
       "      <td>9</td>\n",
       "      <td>44</td>\n",
       "    </tr>\n",
       "    <tr>\n",
       "      <th>3</th>\n",
       "      <td>1001</td>\n",
       "      <td>10</td>\n",
       "      <td>53</td>\n",
       "    </tr>\n",
       "    <tr>\n",
       "      <th>4</th>\n",
       "      <td>1001</td>\n",
       "      <td>11</td>\n",
       "      <td>36</td>\n",
       "    </tr>\n",
       "  </tbody>\n",
       "</table>\n",
       "</div>"
      ],
      "text/plain": [
       "   user_id  month  quantity_messages\n",
       "0     1000     12                 11\n",
       "1     1001      8                 30\n",
       "2     1001      9                 44\n",
       "3     1001     10                 53\n",
       "4     1001     11                 36"
      ]
     },
     "execution_count": 81,
     "metadata": {},
     "output_type": "execute_result"
    }
   ],
   "source": [
    "# Calcula el número de mensajes enviados por cada usuario al mes. Guarda el resultado.\n",
    "#Llamamos a la pivot table que se había hecho anteriormente\n",
    "fct_messages.head()\n"
   ]
  },
  {
   "cell_type": "code",
   "execution_count": 82,
   "metadata": {
    "id": "H1AqN2eG0q1H"
   },
   "outputs": [
    {
     "data": {
      "text/html": [
       "<div>\n",
       "<style scoped>\n",
       "    .dataframe tbody tr th:only-of-type {\n",
       "        vertical-align: middle;\n",
       "    }\n",
       "\n",
       "    .dataframe tbody tr th {\n",
       "        vertical-align: top;\n",
       "    }\n",
       "\n",
       "    .dataframe thead th {\n",
       "        text-align: right;\n",
       "    }\n",
       "</style>\n",
       "<table border=\"1\" class=\"dataframe\">\n",
       "  <thead>\n",
       "    <tr style=\"text-align: right;\">\n",
       "      <th></th>\n",
       "      <th>user_id</th>\n",
       "      <th>month</th>\n",
       "      <th>mb_used</th>\n",
       "      <th>spent_gb</th>\n",
       "    </tr>\n",
       "  </thead>\n",
       "  <tbody>\n",
       "    <tr>\n",
       "      <th>0</th>\n",
       "      <td>1000</td>\n",
       "      <td>12</td>\n",
       "      <td>1901.47</td>\n",
       "      <td>2.0</td>\n",
       "    </tr>\n",
       "    <tr>\n",
       "      <th>1</th>\n",
       "      <td>1001</td>\n",
       "      <td>8</td>\n",
       "      <td>6919.15</td>\n",
       "      <td>7.0</td>\n",
       "    </tr>\n",
       "    <tr>\n",
       "      <th>2</th>\n",
       "      <td>1001</td>\n",
       "      <td>9</td>\n",
       "      <td>13314.82</td>\n",
       "      <td>14.0</td>\n",
       "    </tr>\n",
       "    <tr>\n",
       "      <th>3</th>\n",
       "      <td>1001</td>\n",
       "      <td>10</td>\n",
       "      <td>22330.49</td>\n",
       "      <td>22.0</td>\n",
       "    </tr>\n",
       "    <tr>\n",
       "      <th>4</th>\n",
       "      <td>1001</td>\n",
       "      <td>11</td>\n",
       "      <td>18504.30</td>\n",
       "      <td>19.0</td>\n",
       "    </tr>\n",
       "  </tbody>\n",
       "</table>\n",
       "</div>"
      ],
      "text/plain": [
       "   user_id  month   mb_used  spent_gb\n",
       "0     1000     12   1901.47       2.0\n",
       "1     1001      8   6919.15       7.0\n",
       "2     1001      9  13314.82      14.0\n",
       "3     1001     10  22330.49      22.0\n",
       "4     1001     11  18504.30      19.0"
      ]
     },
     "execution_count": 82,
     "metadata": {},
     "output_type": "execute_result"
    }
   ],
   "source": [
    "# Calcula el volumen del tráfico de Internet usado por cada usuario al mes. Guarda el resultado.\n",
    "#Llamamos a la pivot table que se había hecho anteriormente\n",
    "fct_internet.head()\n"
   ]
  },
  {
   "cell_type": "markdown",
   "metadata": {},
   "source": [
    "<div class=\"alert alert-block alert-success\">\n",
    "<b>Comentario del revisor</b> <a class=\"tocSkip\"></a>\n",
    "\n",
    "Muy buen trabajo!! la función de pivot_table() es muy recomendable para hacer los códigos más eficientes.\n",
    "    \n",
    "</div>"
   ]
  },
  {
   "cell_type": "markdown",
   "metadata": {
    "id": "VDfYXnj80q1H"
   },
   "source": [
    "En este punto creamos una tabla intermedia donde fusionamos los datos limpios y correctamente 'sumados'."
   ]
  },
  {
   "cell_type": "code",
   "execution_count": 83,
   "metadata": {
    "id": "FW99ykyf0q1H"
   },
   "outputs": [
    {
     "data": {
      "text/html": [
       "<div>\n",
       "<style scoped>\n",
       "    .dataframe tbody tr th:only-of-type {\n",
       "        vertical-align: middle;\n",
       "    }\n",
       "\n",
       "    .dataframe tbody tr th {\n",
       "        vertical-align: top;\n",
       "    }\n",
       "\n",
       "    .dataframe thead th {\n",
       "        text-align: right;\n",
       "    }\n",
       "</style>\n",
       "<table border=\"1\" class=\"dataframe\">\n",
       "  <thead>\n",
       "    <tr style=\"text-align: right;\">\n",
       "      <th></th>\n",
       "      <th>user_id</th>\n",
       "      <th>month</th>\n",
       "      <th>used_minutes</th>\n",
       "      <th>total_calls</th>\n",
       "      <th>quantity_messages</th>\n",
       "      <th>mb_used</th>\n",
       "      <th>spent_gb</th>\n",
       "    </tr>\n",
       "  </thead>\n",
       "  <tbody>\n",
       "    <tr>\n",
       "      <th>0</th>\n",
       "      <td>1000</td>\n",
       "      <td>12</td>\n",
       "      <td>124.0</td>\n",
       "      <td>16.0</td>\n",
       "      <td>11.0</td>\n",
       "      <td>1901.47</td>\n",
       "      <td>2.0</td>\n",
       "    </tr>\n",
       "    <tr>\n",
       "      <th>1</th>\n",
       "      <td>1001</td>\n",
       "      <td>8</td>\n",
       "      <td>182.0</td>\n",
       "      <td>27.0</td>\n",
       "      <td>30.0</td>\n",
       "      <td>6919.15</td>\n",
       "      <td>7.0</td>\n",
       "    </tr>\n",
       "    <tr>\n",
       "      <th>2</th>\n",
       "      <td>1001</td>\n",
       "      <td>9</td>\n",
       "      <td>315.0</td>\n",
       "      <td>49.0</td>\n",
       "      <td>44.0</td>\n",
       "      <td>13314.82</td>\n",
       "      <td>14.0</td>\n",
       "    </tr>\n",
       "    <tr>\n",
       "      <th>3</th>\n",
       "      <td>1001</td>\n",
       "      <td>10</td>\n",
       "      <td>393.0</td>\n",
       "      <td>65.0</td>\n",
       "      <td>53.0</td>\n",
       "      <td>22330.49</td>\n",
       "      <td>22.0</td>\n",
       "    </tr>\n",
       "    <tr>\n",
       "      <th>4</th>\n",
       "      <td>1001</td>\n",
       "      <td>11</td>\n",
       "      <td>426.0</td>\n",
       "      <td>64.0</td>\n",
       "      <td>36.0</td>\n",
       "      <td>18504.30</td>\n",
       "      <td>19.0</td>\n",
       "    </tr>\n",
       "  </tbody>\n",
       "</table>\n",
       "</div>"
      ],
      "text/plain": [
       "   user_id  month  used_minutes  total_calls  quantity_messages   mb_used  \\\n",
       "0     1000     12         124.0         16.0               11.0   1901.47   \n",
       "1     1001      8         182.0         27.0               30.0   6919.15   \n",
       "2     1001      9         315.0         49.0               44.0  13314.82   \n",
       "3     1001     10         393.0         65.0               53.0  22330.49   \n",
       "4     1001     11         426.0         64.0               36.0  18504.30   \n",
       "\n",
       "   spent_gb  \n",
       "0       2.0  \n",
       "1       7.0  \n",
       "2      14.0  \n",
       "3      22.0  \n",
       "4      19.0  "
      ]
     },
     "execution_count": 83,
     "metadata": {},
     "output_type": "execute_result"
    }
   ],
   "source": [
    "# Fusiona los datos de llamadas, minutos, mensajes e Internet con base en user_id y month\n",
    "int_messages_calls = fct_calls.merge(fct_messages,on = ['user_id','month'],how = 'outer')\n",
    "int_full_pack = int_messages_calls.merge(fct_internet,on = ['user_id','month'], how = 'outer')\n",
    "int_full_pack.head()\n"
   ]
  },
  {
   "cell_type": "code",
   "execution_count": 84,
   "metadata": {
    "id": "0dNOXHag0q1H"
   },
   "outputs": [],
   "source": [
    "# Añade la información de la tarifa\n",
    "int_expend = int_full_pack.merge(users[['user_id','plan','city']], on = ['user_id'],how = 'outer')\n",
    "int_expend.head()\n",
    "#Para finalizar hacemos una sola gran tabla la cual luego pulimos de ciertos datos ausentes.\n",
    "fct_sales = int_expend.merge(plans, left_on ='plan',right_on='plan_name', how ='inner')"
   ]
  },
  {
   "cell_type": "markdown",
   "metadata": {},
   "source": [
    "<div class=\"alert alert-block alert-success\">\n",
    "<b>Comentario del revisor</b> <a class=\"tocSkip\"></a>\n",
    "\n",
    "Muy buen trabajo!! el merge es correcto para unir todas las bases trabajadas.\n",
    "    \n",
    "</div>"
   ]
  },
  {
   "cell_type": "code",
   "execution_count": 85,
   "metadata": {},
   "outputs": [
    {
     "data": {
      "text/plain": [
       "user_id                    0\n",
       "month                     10\n",
       "used_minutes              45\n",
       "total_calls               45\n",
       "quantity_messages        497\n",
       "mb_used                   26\n",
       "spent_gb                  26\n",
       "plan                       0\n",
       "city                       0\n",
       "messages_included          0\n",
       "mb_per_month_included      0\n",
       "minutes_included           0\n",
       "usd_monthly_pay            0\n",
       "usd_per_gb                 0\n",
       "usd_per_message            0\n",
       "usd_per_minute             0\n",
       "plan_name                  0\n",
       "dtype: int64"
      ]
     },
     "execution_count": 85,
     "metadata": {},
     "output_type": "execute_result"
    }
   ],
   "source": [
    "#Continuamos ahora con la limpieza de nuestra tabla de hechos.\n",
    "fct_sales.isna().sum()"
   ]
  },
  {
   "cell_type": "code",
   "execution_count": 86,
   "metadata": {},
   "outputs": [
    {
     "data": {
      "text/html": [
       "<div>\n",
       "<style scoped>\n",
       "    .dataframe tbody tr th:only-of-type {\n",
       "        vertical-align: middle;\n",
       "    }\n",
       "\n",
       "    .dataframe tbody tr th {\n",
       "        vertical-align: top;\n",
       "    }\n",
       "\n",
       "    .dataframe thead th {\n",
       "        text-align: right;\n",
       "    }\n",
       "</style>\n",
       "<table border=\"1\" class=\"dataframe\">\n",
       "  <thead>\n",
       "    <tr style=\"text-align: right;\">\n",
       "      <th></th>\n",
       "      <th>user_id</th>\n",
       "      <th>month</th>\n",
       "      <th>used_minutes</th>\n",
       "      <th>total_calls</th>\n",
       "      <th>quantity_messages</th>\n",
       "      <th>mb_used</th>\n",
       "      <th>spent_gb</th>\n",
       "      <th>plan</th>\n",
       "      <th>city</th>\n",
       "      <th>messages_included</th>\n",
       "      <th>mb_per_month_included</th>\n",
       "      <th>minutes_included</th>\n",
       "      <th>usd_monthly_pay</th>\n",
       "      <th>usd_per_gb</th>\n",
       "      <th>usd_per_message</th>\n",
       "      <th>usd_per_minute</th>\n",
       "      <th>plan_name</th>\n",
       "    </tr>\n",
       "  </thead>\n",
       "  <tbody>\n",
       "    <tr>\n",
       "      <th>0</th>\n",
       "      <td>1000</td>\n",
       "      <td>12.0</td>\n",
       "      <td>124.0</td>\n",
       "      <td>16.0</td>\n",
       "      <td>11.0</td>\n",
       "      <td>1901.47</td>\n",
       "      <td>2.0</td>\n",
       "      <td>ultimate</td>\n",
       "      <td>Atlanta-Sandy Springs-Roswell, GA MSA</td>\n",
       "      <td>1000</td>\n",
       "      <td>30720</td>\n",
       "      <td>3000</td>\n",
       "      <td>70</td>\n",
       "      <td>7</td>\n",
       "      <td>0.01</td>\n",
       "      <td>0.01</td>\n",
       "      <td>ultimate</td>\n",
       "    </tr>\n",
       "    <tr>\n",
       "      <th>1</th>\n",
       "      <td>1006</td>\n",
       "      <td>11.0</td>\n",
       "      <td>10.0</td>\n",
       "      <td>2.0</td>\n",
       "      <td>15.0</td>\n",
       "      <td>2068.37</td>\n",
       "      <td>3.0</td>\n",
       "      <td>ultimate</td>\n",
       "      <td>San Francisco-Oakland-Berkeley, CA MSA</td>\n",
       "      <td>1000</td>\n",
       "      <td>30720</td>\n",
       "      <td>3000</td>\n",
       "      <td>70</td>\n",
       "      <td>7</td>\n",
       "      <td>0.01</td>\n",
       "      <td>0.01</td>\n",
       "      <td>ultimate</td>\n",
       "    </tr>\n",
       "    <tr>\n",
       "      <th>2</th>\n",
       "      <td>1006</td>\n",
       "      <td>12.0</td>\n",
       "      <td>59.0</td>\n",
       "      <td>9.0</td>\n",
       "      <td>139.0</td>\n",
       "      <td>32118.82</td>\n",
       "      <td>32.0</td>\n",
       "      <td>ultimate</td>\n",
       "      <td>San Francisco-Oakland-Berkeley, CA MSA</td>\n",
       "      <td>1000</td>\n",
       "      <td>30720</td>\n",
       "      <td>3000</td>\n",
       "      <td>70</td>\n",
       "      <td>7</td>\n",
       "      <td>0.01</td>\n",
       "      <td>0.01</td>\n",
       "      <td>ultimate</td>\n",
       "    </tr>\n",
       "    <tr>\n",
       "      <th>3</th>\n",
       "      <td>1008</td>\n",
       "      <td>10.0</td>\n",
       "      <td>476.0</td>\n",
       "      <td>71.0</td>\n",
       "      <td>21.0</td>\n",
       "      <td>17106.99</td>\n",
       "      <td>17.0</td>\n",
       "      <td>ultimate</td>\n",
       "      <td>Orlando-Kissimmee-Sanford, FL MSA</td>\n",
       "      <td>1000</td>\n",
       "      <td>30720</td>\n",
       "      <td>3000</td>\n",
       "      <td>70</td>\n",
       "      <td>7</td>\n",
       "      <td>0.01</td>\n",
       "      <td>0.01</td>\n",
       "      <td>ultimate</td>\n",
       "    </tr>\n",
       "    <tr>\n",
       "      <th>4</th>\n",
       "      <td>1008</td>\n",
       "      <td>11.0</td>\n",
       "      <td>446.0</td>\n",
       "      <td>63.0</td>\n",
       "      <td>37.0</td>\n",
       "      <td>23676.72</td>\n",
       "      <td>24.0</td>\n",
       "      <td>ultimate</td>\n",
       "      <td>Orlando-Kissimmee-Sanford, FL MSA</td>\n",
       "      <td>1000</td>\n",
       "      <td>30720</td>\n",
       "      <td>3000</td>\n",
       "      <td>70</td>\n",
       "      <td>7</td>\n",
       "      <td>0.01</td>\n",
       "      <td>0.01</td>\n",
       "      <td>ultimate</td>\n",
       "    </tr>\n",
       "    <tr>\n",
       "      <th>...</th>\n",
       "      <td>...</td>\n",
       "      <td>...</td>\n",
       "      <td>...</td>\n",
       "      <td>...</td>\n",
       "      <td>...</td>\n",
       "      <td>...</td>\n",
       "      <td>...</td>\n",
       "      <td>...</td>\n",
       "      <td>...</td>\n",
       "      <td>...</td>\n",
       "      <td>...</td>\n",
       "      <td>...</td>\n",
       "      <td>...</td>\n",
       "      <td>...</td>\n",
       "      <td>...</td>\n",
       "      <td>...</td>\n",
       "      <td>...</td>\n",
       "    </tr>\n",
       "    <tr>\n",
       "      <th>2298</th>\n",
       "      <td>1143</td>\n",
       "      <td>0.0</td>\n",
       "      <td>0.0</td>\n",
       "      <td>0.0</td>\n",
       "      <td>0.0</td>\n",
       "      <td>0.00</td>\n",
       "      <td>0.0</td>\n",
       "      <td>surf</td>\n",
       "      <td>Cincinnati, OH-KY-IN MSA</td>\n",
       "      <td>50</td>\n",
       "      <td>15360</td>\n",
       "      <td>500</td>\n",
       "      <td>20</td>\n",
       "      <td>10</td>\n",
       "      <td>0.03</td>\n",
       "      <td>0.03</td>\n",
       "      <td>surf</td>\n",
       "    </tr>\n",
       "    <tr>\n",
       "      <th>2299</th>\n",
       "      <td>1307</td>\n",
       "      <td>0.0</td>\n",
       "      <td>0.0</td>\n",
       "      <td>0.0</td>\n",
       "      <td>0.0</td>\n",
       "      <td>0.00</td>\n",
       "      <td>0.0</td>\n",
       "      <td>surf</td>\n",
       "      <td>Boston-Cambridge-Newton, MA-NH MSA</td>\n",
       "      <td>50</td>\n",
       "      <td>15360</td>\n",
       "      <td>500</td>\n",
       "      <td>20</td>\n",
       "      <td>10</td>\n",
       "      <td>0.03</td>\n",
       "      <td>0.03</td>\n",
       "      <td>surf</td>\n",
       "    </tr>\n",
       "    <tr>\n",
       "      <th>2300</th>\n",
       "      <td>1319</td>\n",
       "      <td>0.0</td>\n",
       "      <td>0.0</td>\n",
       "      <td>0.0</td>\n",
       "      <td>0.0</td>\n",
       "      <td>0.00</td>\n",
       "      <td>0.0</td>\n",
       "      <td>surf</td>\n",
       "      <td>Colorado Springs, CO MSA</td>\n",
       "      <td>50</td>\n",
       "      <td>15360</td>\n",
       "      <td>500</td>\n",
       "      <td>20</td>\n",
       "      <td>10</td>\n",
       "      <td>0.03</td>\n",
       "      <td>0.03</td>\n",
       "      <td>surf</td>\n",
       "    </tr>\n",
       "    <tr>\n",
       "      <th>2301</th>\n",
       "      <td>1378</td>\n",
       "      <td>0.0</td>\n",
       "      <td>0.0</td>\n",
       "      <td>0.0</td>\n",
       "      <td>0.0</td>\n",
       "      <td>0.00</td>\n",
       "      <td>0.0</td>\n",
       "      <td>surf</td>\n",
       "      <td>Denver-Aurora-Lakewood, CO MSA</td>\n",
       "      <td>50</td>\n",
       "      <td>15360</td>\n",
       "      <td>500</td>\n",
       "      <td>20</td>\n",
       "      <td>10</td>\n",
       "      <td>0.03</td>\n",
       "      <td>0.03</td>\n",
       "      <td>surf</td>\n",
       "    </tr>\n",
       "    <tr>\n",
       "      <th>2302</th>\n",
       "      <td>1473</td>\n",
       "      <td>0.0</td>\n",
       "      <td>0.0</td>\n",
       "      <td>0.0</td>\n",
       "      <td>0.0</td>\n",
       "      <td>0.00</td>\n",
       "      <td>0.0</td>\n",
       "      <td>surf</td>\n",
       "      <td>Louisville/Jefferson County, KY-IN MSA</td>\n",
       "      <td>50</td>\n",
       "      <td>15360</td>\n",
       "      <td>500</td>\n",
       "      <td>20</td>\n",
       "      <td>10</td>\n",
       "      <td>0.03</td>\n",
       "      <td>0.03</td>\n",
       "      <td>surf</td>\n",
       "    </tr>\n",
       "  </tbody>\n",
       "</table>\n",
       "<p>2303 rows × 17 columns</p>\n",
       "</div>"
      ],
      "text/plain": [
       "      user_id  month  used_minutes  total_calls  quantity_messages   mb_used  \\\n",
       "0        1000   12.0         124.0         16.0               11.0   1901.47   \n",
       "1        1006   11.0          10.0          2.0               15.0   2068.37   \n",
       "2        1006   12.0          59.0          9.0              139.0  32118.82   \n",
       "3        1008   10.0         476.0         71.0               21.0  17106.99   \n",
       "4        1008   11.0         446.0         63.0               37.0  23676.72   \n",
       "...       ...    ...           ...          ...                ...       ...   \n",
       "2298     1143    0.0           0.0          0.0                0.0      0.00   \n",
       "2299     1307    0.0           0.0          0.0                0.0      0.00   \n",
       "2300     1319    0.0           0.0          0.0                0.0      0.00   \n",
       "2301     1378    0.0           0.0          0.0                0.0      0.00   \n",
       "2302     1473    0.0           0.0          0.0                0.0      0.00   \n",
       "\n",
       "      spent_gb      plan                                    city  \\\n",
       "0          2.0  ultimate   Atlanta-Sandy Springs-Roswell, GA MSA   \n",
       "1          3.0  ultimate  San Francisco-Oakland-Berkeley, CA MSA   \n",
       "2         32.0  ultimate  San Francisco-Oakland-Berkeley, CA MSA   \n",
       "3         17.0  ultimate       Orlando-Kissimmee-Sanford, FL MSA   \n",
       "4         24.0  ultimate       Orlando-Kissimmee-Sanford, FL MSA   \n",
       "...        ...       ...                                     ...   \n",
       "2298       0.0      surf                Cincinnati, OH-KY-IN MSA   \n",
       "2299       0.0      surf      Boston-Cambridge-Newton, MA-NH MSA   \n",
       "2300       0.0      surf                Colorado Springs, CO MSA   \n",
       "2301       0.0      surf          Denver-Aurora-Lakewood, CO MSA   \n",
       "2302       0.0      surf  Louisville/Jefferson County, KY-IN MSA   \n",
       "\n",
       "      messages_included  mb_per_month_included  minutes_included  \\\n",
       "0                  1000                  30720              3000   \n",
       "1                  1000                  30720              3000   \n",
       "2                  1000                  30720              3000   \n",
       "3                  1000                  30720              3000   \n",
       "4                  1000                  30720              3000   \n",
       "...                 ...                    ...               ...   \n",
       "2298                 50                  15360               500   \n",
       "2299                 50                  15360               500   \n",
       "2300                 50                  15360               500   \n",
       "2301                 50                  15360               500   \n",
       "2302                 50                  15360               500   \n",
       "\n",
       "      usd_monthly_pay  usd_per_gb  usd_per_message  usd_per_minute plan_name  \n",
       "0                  70           7             0.01            0.01  ultimate  \n",
       "1                  70           7             0.01            0.01  ultimate  \n",
       "2                  70           7             0.01            0.01  ultimate  \n",
       "3                  70           7             0.01            0.01  ultimate  \n",
       "4                  70           7             0.01            0.01  ultimate  \n",
       "...               ...         ...              ...             ...       ...  \n",
       "2298               20          10             0.03            0.03      surf  \n",
       "2299               20          10             0.03            0.03      surf  \n",
       "2300               20          10             0.03            0.03      surf  \n",
       "2301               20          10             0.03            0.03      surf  \n",
       "2302               20          10             0.03            0.03      surf  \n",
       "\n",
       "[2303 rows x 17 columns]"
      ]
     },
     "execution_count": 86,
     "metadata": {},
     "output_type": "execute_result"
    }
   ],
   "source": [
    "fct_sales.fillna(0,inplace=True)\n",
    "fct_sales"
   ]
  },
  {
   "cell_type": "markdown",
   "metadata": {
    "id": "1IwGo4wg0q1I"
   },
   "source": [
    "Ahora que tenemos nuestra One Big Table de hechos podemos agregar las columnas de excedentes según el plan de cada usuario para al final calcular el ingreso mensual. Haremos funciones para asistir con los cálculos y luego agregaremos esas columnas de información nueva a la tabla."
   ]
  },
  {
   "cell_type": "code",
   "execution_count": 87,
   "metadata": {
    "id": "5FGCf_c60q1I"
   },
   "outputs": [],
   "source": [
    "# Creamos una función para crear una columna con los minutos excedentes.\n",
    "def llamadas_cobrables(fila):\n",
    "    \n",
    "    minutos_usados = fila['used_minutes']\n",
    "    extra_consumido=0\n",
    "    \n",
    "    if minutos_usados > fila['minutes_included']:\n",
    "        extra_consumido= minutos_usados-fila['minutes_included']\n",
    "    return extra_consumido"
   ]
  },
  {
   "cell_type": "code",
   "execution_count": 88,
   "metadata": {},
   "outputs": [],
   "source": [
    "#Hemos combrobado que nuestra función para calcular el excedente por usuario de su plan para llamadas funciona bien. Ahora haremos la misma función para mensajes e internet.\n",
    "def mensajes_cobrables(fila):\n",
    "    \n",
    "    mensajes = fila['quantity_messages']\n",
    "    extra_consumido=0\n",
    "    \n",
    "    if mensajes > fila['messages_included']:\n",
    "        extra_consumido= mensajes-fila['messages_included']\n",
    "    return extra_consumido"
   ]
  },
  {
   "cell_type": "code",
   "execution_count": 89,
   "metadata": {},
   "outputs": [],
   "source": [
    "def internet_cobrable(fila):\n",
    "    \n",
    "    internet = fila['mb_used']\n",
    "    extra_consumido=0\n",
    "    \n",
    "    if internet > fila['mb_per_month_included']:\n",
    "        extra_consumido= internet-fila['mb_per_month_included']\n",
    "    return extra_consumido"
   ]
  },
  {
   "cell_type": "code",
   "execution_count": 90,
   "metadata": {},
   "outputs": [],
   "source": [
    "fct_sales['minutos_cobrables'] = fct_sales.apply(llamadas_cobrables, axis=1)\n",
    "fct_sales['mensajes_cobrables'] = fct_sales.apply(mensajes_cobrables, axis=1)\n",
    "fct_sales['internet_mb_cobrables'] = fct_sales.apply(internet_cobrable, axis=1)\n",
    "#Como podemos observar que para cobrar el excedente del internet es en función de GB agregamos la columna correspondiente, utilizando la función de redondeo previa:\n",
    "fct_sales['internet_gb_cobrables'] = fct_sales['internet_mb_cobrables'].apply(redondeo_gb)"
   ]
  },
  {
   "cell_type": "code",
   "execution_count": 91,
   "metadata": {},
   "outputs": [
    {
     "data": {
      "text/html": [
       "<div>\n",
       "<style scoped>\n",
       "    .dataframe tbody tr th:only-of-type {\n",
       "        vertical-align: middle;\n",
       "    }\n",
       "\n",
       "    .dataframe tbody tr th {\n",
       "        vertical-align: top;\n",
       "    }\n",
       "\n",
       "    .dataframe thead th {\n",
       "        text-align: right;\n",
       "    }\n",
       "</style>\n",
       "<table border=\"1\" class=\"dataframe\">\n",
       "  <thead>\n",
       "    <tr style=\"text-align: right;\">\n",
       "      <th></th>\n",
       "      <th>user_id</th>\n",
       "      <th>month</th>\n",
       "      <th>used_minutes</th>\n",
       "      <th>total_calls</th>\n",
       "      <th>quantity_messages</th>\n",
       "      <th>mb_used</th>\n",
       "      <th>spent_gb</th>\n",
       "      <th>plan</th>\n",
       "      <th>city</th>\n",
       "      <th>messages_included</th>\n",
       "      <th>...</th>\n",
       "      <th>minutes_included</th>\n",
       "      <th>usd_monthly_pay</th>\n",
       "      <th>usd_per_gb</th>\n",
       "      <th>usd_per_message</th>\n",
       "      <th>usd_per_minute</th>\n",
       "      <th>plan_name</th>\n",
       "      <th>minutos_cobrables</th>\n",
       "      <th>mensajes_cobrables</th>\n",
       "      <th>internet_mb_cobrables</th>\n",
       "      <th>internet_gb_cobrables</th>\n",
       "    </tr>\n",
       "  </thead>\n",
       "  <tbody>\n",
       "    <tr>\n",
       "      <th>0</th>\n",
       "      <td>1000</td>\n",
       "      <td>12.0</td>\n",
       "      <td>124.0</td>\n",
       "      <td>16.0</td>\n",
       "      <td>11.0</td>\n",
       "      <td>1901.47</td>\n",
       "      <td>2.0</td>\n",
       "      <td>ultimate</td>\n",
       "      <td>Atlanta-Sandy Springs-Roswell, GA MSA</td>\n",
       "      <td>1000</td>\n",
       "      <td>...</td>\n",
       "      <td>3000</td>\n",
       "      <td>70</td>\n",
       "      <td>7</td>\n",
       "      <td>0.01</td>\n",
       "      <td>0.01</td>\n",
       "      <td>ultimate</td>\n",
       "      <td>0.0</td>\n",
       "      <td>0.0</td>\n",
       "      <td>0.00</td>\n",
       "      <td>0.0</td>\n",
       "    </tr>\n",
       "    <tr>\n",
       "      <th>1</th>\n",
       "      <td>1006</td>\n",
       "      <td>11.0</td>\n",
       "      <td>10.0</td>\n",
       "      <td>2.0</td>\n",
       "      <td>15.0</td>\n",
       "      <td>2068.37</td>\n",
       "      <td>3.0</td>\n",
       "      <td>ultimate</td>\n",
       "      <td>San Francisco-Oakland-Berkeley, CA MSA</td>\n",
       "      <td>1000</td>\n",
       "      <td>...</td>\n",
       "      <td>3000</td>\n",
       "      <td>70</td>\n",
       "      <td>7</td>\n",
       "      <td>0.01</td>\n",
       "      <td>0.01</td>\n",
       "      <td>ultimate</td>\n",
       "      <td>0.0</td>\n",
       "      <td>0.0</td>\n",
       "      <td>0.00</td>\n",
       "      <td>0.0</td>\n",
       "    </tr>\n",
       "    <tr>\n",
       "      <th>2</th>\n",
       "      <td>1006</td>\n",
       "      <td>12.0</td>\n",
       "      <td>59.0</td>\n",
       "      <td>9.0</td>\n",
       "      <td>139.0</td>\n",
       "      <td>32118.82</td>\n",
       "      <td>32.0</td>\n",
       "      <td>ultimate</td>\n",
       "      <td>San Francisco-Oakland-Berkeley, CA MSA</td>\n",
       "      <td>1000</td>\n",
       "      <td>...</td>\n",
       "      <td>3000</td>\n",
       "      <td>70</td>\n",
       "      <td>7</td>\n",
       "      <td>0.01</td>\n",
       "      <td>0.01</td>\n",
       "      <td>ultimate</td>\n",
       "      <td>0.0</td>\n",
       "      <td>0.0</td>\n",
       "      <td>1398.82</td>\n",
       "      <td>2.0</td>\n",
       "    </tr>\n",
       "    <tr>\n",
       "      <th>3</th>\n",
       "      <td>1008</td>\n",
       "      <td>10.0</td>\n",
       "      <td>476.0</td>\n",
       "      <td>71.0</td>\n",
       "      <td>21.0</td>\n",
       "      <td>17106.99</td>\n",
       "      <td>17.0</td>\n",
       "      <td>ultimate</td>\n",
       "      <td>Orlando-Kissimmee-Sanford, FL MSA</td>\n",
       "      <td>1000</td>\n",
       "      <td>...</td>\n",
       "      <td>3000</td>\n",
       "      <td>70</td>\n",
       "      <td>7</td>\n",
       "      <td>0.01</td>\n",
       "      <td>0.01</td>\n",
       "      <td>ultimate</td>\n",
       "      <td>0.0</td>\n",
       "      <td>0.0</td>\n",
       "      <td>0.00</td>\n",
       "      <td>0.0</td>\n",
       "    </tr>\n",
       "    <tr>\n",
       "      <th>4</th>\n",
       "      <td>1008</td>\n",
       "      <td>11.0</td>\n",
       "      <td>446.0</td>\n",
       "      <td>63.0</td>\n",
       "      <td>37.0</td>\n",
       "      <td>23676.72</td>\n",
       "      <td>24.0</td>\n",
       "      <td>ultimate</td>\n",
       "      <td>Orlando-Kissimmee-Sanford, FL MSA</td>\n",
       "      <td>1000</td>\n",
       "      <td>...</td>\n",
       "      <td>3000</td>\n",
       "      <td>70</td>\n",
       "      <td>7</td>\n",
       "      <td>0.01</td>\n",
       "      <td>0.01</td>\n",
       "      <td>ultimate</td>\n",
       "      <td>0.0</td>\n",
       "      <td>0.0</td>\n",
       "      <td>0.00</td>\n",
       "      <td>0.0</td>\n",
       "    </tr>\n",
       "    <tr>\n",
       "      <th>...</th>\n",
       "      <td>...</td>\n",
       "      <td>...</td>\n",
       "      <td>...</td>\n",
       "      <td>...</td>\n",
       "      <td>...</td>\n",
       "      <td>...</td>\n",
       "      <td>...</td>\n",
       "      <td>...</td>\n",
       "      <td>...</td>\n",
       "      <td>...</td>\n",
       "      <td>...</td>\n",
       "      <td>...</td>\n",
       "      <td>...</td>\n",
       "      <td>...</td>\n",
       "      <td>...</td>\n",
       "      <td>...</td>\n",
       "      <td>...</td>\n",
       "      <td>...</td>\n",
       "      <td>...</td>\n",
       "      <td>...</td>\n",
       "      <td>...</td>\n",
       "    </tr>\n",
       "    <tr>\n",
       "      <th>2298</th>\n",
       "      <td>1143</td>\n",
       "      <td>0.0</td>\n",
       "      <td>0.0</td>\n",
       "      <td>0.0</td>\n",
       "      <td>0.0</td>\n",
       "      <td>0.00</td>\n",
       "      <td>0.0</td>\n",
       "      <td>surf</td>\n",
       "      <td>Cincinnati, OH-KY-IN MSA</td>\n",
       "      <td>50</td>\n",
       "      <td>...</td>\n",
       "      <td>500</td>\n",
       "      <td>20</td>\n",
       "      <td>10</td>\n",
       "      <td>0.03</td>\n",
       "      <td>0.03</td>\n",
       "      <td>surf</td>\n",
       "      <td>0.0</td>\n",
       "      <td>0.0</td>\n",
       "      <td>0.00</td>\n",
       "      <td>0.0</td>\n",
       "    </tr>\n",
       "    <tr>\n",
       "      <th>2299</th>\n",
       "      <td>1307</td>\n",
       "      <td>0.0</td>\n",
       "      <td>0.0</td>\n",
       "      <td>0.0</td>\n",
       "      <td>0.0</td>\n",
       "      <td>0.00</td>\n",
       "      <td>0.0</td>\n",
       "      <td>surf</td>\n",
       "      <td>Boston-Cambridge-Newton, MA-NH MSA</td>\n",
       "      <td>50</td>\n",
       "      <td>...</td>\n",
       "      <td>500</td>\n",
       "      <td>20</td>\n",
       "      <td>10</td>\n",
       "      <td>0.03</td>\n",
       "      <td>0.03</td>\n",
       "      <td>surf</td>\n",
       "      <td>0.0</td>\n",
       "      <td>0.0</td>\n",
       "      <td>0.00</td>\n",
       "      <td>0.0</td>\n",
       "    </tr>\n",
       "    <tr>\n",
       "      <th>2300</th>\n",
       "      <td>1319</td>\n",
       "      <td>0.0</td>\n",
       "      <td>0.0</td>\n",
       "      <td>0.0</td>\n",
       "      <td>0.0</td>\n",
       "      <td>0.00</td>\n",
       "      <td>0.0</td>\n",
       "      <td>surf</td>\n",
       "      <td>Colorado Springs, CO MSA</td>\n",
       "      <td>50</td>\n",
       "      <td>...</td>\n",
       "      <td>500</td>\n",
       "      <td>20</td>\n",
       "      <td>10</td>\n",
       "      <td>0.03</td>\n",
       "      <td>0.03</td>\n",
       "      <td>surf</td>\n",
       "      <td>0.0</td>\n",
       "      <td>0.0</td>\n",
       "      <td>0.00</td>\n",
       "      <td>0.0</td>\n",
       "    </tr>\n",
       "    <tr>\n",
       "      <th>2301</th>\n",
       "      <td>1378</td>\n",
       "      <td>0.0</td>\n",
       "      <td>0.0</td>\n",
       "      <td>0.0</td>\n",
       "      <td>0.0</td>\n",
       "      <td>0.00</td>\n",
       "      <td>0.0</td>\n",
       "      <td>surf</td>\n",
       "      <td>Denver-Aurora-Lakewood, CO MSA</td>\n",
       "      <td>50</td>\n",
       "      <td>...</td>\n",
       "      <td>500</td>\n",
       "      <td>20</td>\n",
       "      <td>10</td>\n",
       "      <td>0.03</td>\n",
       "      <td>0.03</td>\n",
       "      <td>surf</td>\n",
       "      <td>0.0</td>\n",
       "      <td>0.0</td>\n",
       "      <td>0.00</td>\n",
       "      <td>0.0</td>\n",
       "    </tr>\n",
       "    <tr>\n",
       "      <th>2302</th>\n",
       "      <td>1473</td>\n",
       "      <td>0.0</td>\n",
       "      <td>0.0</td>\n",
       "      <td>0.0</td>\n",
       "      <td>0.0</td>\n",
       "      <td>0.00</td>\n",
       "      <td>0.0</td>\n",
       "      <td>surf</td>\n",
       "      <td>Louisville/Jefferson County, KY-IN MSA</td>\n",
       "      <td>50</td>\n",
       "      <td>...</td>\n",
       "      <td>500</td>\n",
       "      <td>20</td>\n",
       "      <td>10</td>\n",
       "      <td>0.03</td>\n",
       "      <td>0.03</td>\n",
       "      <td>surf</td>\n",
       "      <td>0.0</td>\n",
       "      <td>0.0</td>\n",
       "      <td>0.00</td>\n",
       "      <td>0.0</td>\n",
       "    </tr>\n",
       "  </tbody>\n",
       "</table>\n",
       "<p>2303 rows × 21 columns</p>\n",
       "</div>"
      ],
      "text/plain": [
       "      user_id  month  used_minutes  total_calls  quantity_messages   mb_used  \\\n",
       "0        1000   12.0         124.0         16.0               11.0   1901.47   \n",
       "1        1006   11.0          10.0          2.0               15.0   2068.37   \n",
       "2        1006   12.0          59.0          9.0              139.0  32118.82   \n",
       "3        1008   10.0         476.0         71.0               21.0  17106.99   \n",
       "4        1008   11.0         446.0         63.0               37.0  23676.72   \n",
       "...       ...    ...           ...          ...                ...       ...   \n",
       "2298     1143    0.0           0.0          0.0                0.0      0.00   \n",
       "2299     1307    0.0           0.0          0.0                0.0      0.00   \n",
       "2300     1319    0.0           0.0          0.0                0.0      0.00   \n",
       "2301     1378    0.0           0.0          0.0                0.0      0.00   \n",
       "2302     1473    0.0           0.0          0.0                0.0      0.00   \n",
       "\n",
       "      spent_gb      plan                                    city  \\\n",
       "0          2.0  ultimate   Atlanta-Sandy Springs-Roswell, GA MSA   \n",
       "1          3.0  ultimate  San Francisco-Oakland-Berkeley, CA MSA   \n",
       "2         32.0  ultimate  San Francisco-Oakland-Berkeley, CA MSA   \n",
       "3         17.0  ultimate       Orlando-Kissimmee-Sanford, FL MSA   \n",
       "4         24.0  ultimate       Orlando-Kissimmee-Sanford, FL MSA   \n",
       "...        ...       ...                                     ...   \n",
       "2298       0.0      surf                Cincinnati, OH-KY-IN MSA   \n",
       "2299       0.0      surf      Boston-Cambridge-Newton, MA-NH MSA   \n",
       "2300       0.0      surf                Colorado Springs, CO MSA   \n",
       "2301       0.0      surf          Denver-Aurora-Lakewood, CO MSA   \n",
       "2302       0.0      surf  Louisville/Jefferson County, KY-IN MSA   \n",
       "\n",
       "      messages_included  ...  minutes_included  usd_monthly_pay  usd_per_gb  \\\n",
       "0                  1000  ...              3000               70           7   \n",
       "1                  1000  ...              3000               70           7   \n",
       "2                  1000  ...              3000               70           7   \n",
       "3                  1000  ...              3000               70           7   \n",
       "4                  1000  ...              3000               70           7   \n",
       "...                 ...  ...               ...              ...         ...   \n",
       "2298                 50  ...               500               20          10   \n",
       "2299                 50  ...               500               20          10   \n",
       "2300                 50  ...               500               20          10   \n",
       "2301                 50  ...               500               20          10   \n",
       "2302                 50  ...               500               20          10   \n",
       "\n",
       "      usd_per_message  usd_per_minute  plan_name minutos_cobrables  \\\n",
       "0                0.01            0.01   ultimate               0.0   \n",
       "1                0.01            0.01   ultimate               0.0   \n",
       "2                0.01            0.01   ultimate               0.0   \n",
       "3                0.01            0.01   ultimate               0.0   \n",
       "4                0.01            0.01   ultimate               0.0   \n",
       "...               ...             ...        ...               ...   \n",
       "2298             0.03            0.03       surf               0.0   \n",
       "2299             0.03            0.03       surf               0.0   \n",
       "2300             0.03            0.03       surf               0.0   \n",
       "2301             0.03            0.03       surf               0.0   \n",
       "2302             0.03            0.03       surf               0.0   \n",
       "\n",
       "      mensajes_cobrables  internet_mb_cobrables  internet_gb_cobrables  \n",
       "0                    0.0                   0.00                    0.0  \n",
       "1                    0.0                   0.00                    0.0  \n",
       "2                    0.0                1398.82                    2.0  \n",
       "3                    0.0                   0.00                    0.0  \n",
       "4                    0.0                   0.00                    0.0  \n",
       "...                  ...                    ...                    ...  \n",
       "2298                 0.0                   0.00                    0.0  \n",
       "2299                 0.0                   0.00                    0.0  \n",
       "2300                 0.0                   0.00                    0.0  \n",
       "2301                 0.0                   0.00                    0.0  \n",
       "2302                 0.0                   0.00                    0.0  \n",
       "\n",
       "[2303 rows x 21 columns]"
      ]
     },
     "execution_count": 91,
     "metadata": {},
     "output_type": "execute_result"
    }
   ],
   "source": [
    "fct_sales"
   ]
  },
  {
   "cell_type": "code",
   "execution_count": 92,
   "metadata": {},
   "outputs": [],
   "source": [
    "# Por último creamos una función para calcular el ingreso mensual para cada usuario con los datos que hemos agregado de los excedentes:\n",
    "def venta_mensual(fila):\n",
    "    extra_llamadas = fila['minutos_cobrables']\n",
    "    extra_mensajes = fila['mensajes_cobrables']\n",
    "    extra_gb = fila['internet_gb_cobrables']\n",
    "    \n",
    "    total_venta = fila['usd_monthly_pay'] + (extra_llamadas * fila['usd_per_minute'] + extra_mensajes * fila['usd_per_message'] + extra_gb * fila['usd_per_gb'])\n",
    "    return total_venta"
   ]
  },
  {
   "cell_type": "code",
   "execution_count": 93,
   "metadata": {},
   "outputs": [],
   "source": [
    "fct_sales['rentabilidad_mensual'] = fct_sales.apply(venta_mensual, axis=1)"
   ]
  },
  {
   "cell_type": "code",
   "execution_count": 94,
   "metadata": {},
   "outputs": [
    {
     "data": {
      "text/html": [
       "<div>\n",
       "<style scoped>\n",
       "    .dataframe tbody tr th:only-of-type {\n",
       "        vertical-align: middle;\n",
       "    }\n",
       "\n",
       "    .dataframe tbody tr th {\n",
       "        vertical-align: top;\n",
       "    }\n",
       "\n",
       "    .dataframe thead th {\n",
       "        text-align: right;\n",
       "    }\n",
       "</style>\n",
       "<table border=\"1\" class=\"dataframe\">\n",
       "  <thead>\n",
       "    <tr style=\"text-align: right;\">\n",
       "      <th></th>\n",
       "      <th>user_id</th>\n",
       "      <th>month</th>\n",
       "      <th>used_minutes</th>\n",
       "      <th>total_calls</th>\n",
       "      <th>quantity_messages</th>\n",
       "      <th>mb_used</th>\n",
       "      <th>spent_gb</th>\n",
       "      <th>plan</th>\n",
       "      <th>city</th>\n",
       "      <th>messages_included</th>\n",
       "      <th>...</th>\n",
       "      <th>usd_monthly_pay</th>\n",
       "      <th>usd_per_gb</th>\n",
       "      <th>usd_per_message</th>\n",
       "      <th>usd_per_minute</th>\n",
       "      <th>plan_name</th>\n",
       "      <th>minutos_cobrables</th>\n",
       "      <th>mensajes_cobrables</th>\n",
       "      <th>internet_mb_cobrables</th>\n",
       "      <th>internet_gb_cobrables</th>\n",
       "      <th>rentabilidad_mensual</th>\n",
       "    </tr>\n",
       "  </thead>\n",
       "  <tbody>\n",
       "    <tr>\n",
       "      <th>0</th>\n",
       "      <td>1000</td>\n",
       "      <td>12.0</td>\n",
       "      <td>124.0</td>\n",
       "      <td>16.0</td>\n",
       "      <td>11.0</td>\n",
       "      <td>1901.47</td>\n",
       "      <td>2.0</td>\n",
       "      <td>ultimate</td>\n",
       "      <td>Atlanta-Sandy Springs-Roswell, GA MSA</td>\n",
       "      <td>1000</td>\n",
       "      <td>...</td>\n",
       "      <td>70</td>\n",
       "      <td>7</td>\n",
       "      <td>0.01</td>\n",
       "      <td>0.01</td>\n",
       "      <td>ultimate</td>\n",
       "      <td>0.0</td>\n",
       "      <td>0.0</td>\n",
       "      <td>0.00</td>\n",
       "      <td>0.0</td>\n",
       "      <td>70.0</td>\n",
       "    </tr>\n",
       "    <tr>\n",
       "      <th>1</th>\n",
       "      <td>1006</td>\n",
       "      <td>11.0</td>\n",
       "      <td>10.0</td>\n",
       "      <td>2.0</td>\n",
       "      <td>15.0</td>\n",
       "      <td>2068.37</td>\n",
       "      <td>3.0</td>\n",
       "      <td>ultimate</td>\n",
       "      <td>San Francisco-Oakland-Berkeley, CA MSA</td>\n",
       "      <td>1000</td>\n",
       "      <td>...</td>\n",
       "      <td>70</td>\n",
       "      <td>7</td>\n",
       "      <td>0.01</td>\n",
       "      <td>0.01</td>\n",
       "      <td>ultimate</td>\n",
       "      <td>0.0</td>\n",
       "      <td>0.0</td>\n",
       "      <td>0.00</td>\n",
       "      <td>0.0</td>\n",
       "      <td>70.0</td>\n",
       "    </tr>\n",
       "    <tr>\n",
       "      <th>2</th>\n",
       "      <td>1006</td>\n",
       "      <td>12.0</td>\n",
       "      <td>59.0</td>\n",
       "      <td>9.0</td>\n",
       "      <td>139.0</td>\n",
       "      <td>32118.82</td>\n",
       "      <td>32.0</td>\n",
       "      <td>ultimate</td>\n",
       "      <td>San Francisco-Oakland-Berkeley, CA MSA</td>\n",
       "      <td>1000</td>\n",
       "      <td>...</td>\n",
       "      <td>70</td>\n",
       "      <td>7</td>\n",
       "      <td>0.01</td>\n",
       "      <td>0.01</td>\n",
       "      <td>ultimate</td>\n",
       "      <td>0.0</td>\n",
       "      <td>0.0</td>\n",
       "      <td>1398.82</td>\n",
       "      <td>2.0</td>\n",
       "      <td>84.0</td>\n",
       "    </tr>\n",
       "    <tr>\n",
       "      <th>3</th>\n",
       "      <td>1008</td>\n",
       "      <td>10.0</td>\n",
       "      <td>476.0</td>\n",
       "      <td>71.0</td>\n",
       "      <td>21.0</td>\n",
       "      <td>17106.99</td>\n",
       "      <td>17.0</td>\n",
       "      <td>ultimate</td>\n",
       "      <td>Orlando-Kissimmee-Sanford, FL MSA</td>\n",
       "      <td>1000</td>\n",
       "      <td>...</td>\n",
       "      <td>70</td>\n",
       "      <td>7</td>\n",
       "      <td>0.01</td>\n",
       "      <td>0.01</td>\n",
       "      <td>ultimate</td>\n",
       "      <td>0.0</td>\n",
       "      <td>0.0</td>\n",
       "      <td>0.00</td>\n",
       "      <td>0.0</td>\n",
       "      <td>70.0</td>\n",
       "    </tr>\n",
       "    <tr>\n",
       "      <th>4</th>\n",
       "      <td>1008</td>\n",
       "      <td>11.0</td>\n",
       "      <td>446.0</td>\n",
       "      <td>63.0</td>\n",
       "      <td>37.0</td>\n",
       "      <td>23676.72</td>\n",
       "      <td>24.0</td>\n",
       "      <td>ultimate</td>\n",
       "      <td>Orlando-Kissimmee-Sanford, FL MSA</td>\n",
       "      <td>1000</td>\n",
       "      <td>...</td>\n",
       "      <td>70</td>\n",
       "      <td>7</td>\n",
       "      <td>0.01</td>\n",
       "      <td>0.01</td>\n",
       "      <td>ultimate</td>\n",
       "      <td>0.0</td>\n",
       "      <td>0.0</td>\n",
       "      <td>0.00</td>\n",
       "      <td>0.0</td>\n",
       "      <td>70.0</td>\n",
       "    </tr>\n",
       "  </tbody>\n",
       "</table>\n",
       "<p>5 rows × 22 columns</p>\n",
       "</div>"
      ],
      "text/plain": [
       "   user_id  month  used_minutes  total_calls  quantity_messages   mb_used  \\\n",
       "0     1000   12.0         124.0         16.0               11.0   1901.47   \n",
       "1     1006   11.0          10.0          2.0               15.0   2068.37   \n",
       "2     1006   12.0          59.0          9.0              139.0  32118.82   \n",
       "3     1008   10.0         476.0         71.0               21.0  17106.99   \n",
       "4     1008   11.0         446.0         63.0               37.0  23676.72   \n",
       "\n",
       "   spent_gb      plan                                    city  \\\n",
       "0       2.0  ultimate   Atlanta-Sandy Springs-Roswell, GA MSA   \n",
       "1       3.0  ultimate  San Francisco-Oakland-Berkeley, CA MSA   \n",
       "2      32.0  ultimate  San Francisco-Oakland-Berkeley, CA MSA   \n",
       "3      17.0  ultimate       Orlando-Kissimmee-Sanford, FL MSA   \n",
       "4      24.0  ultimate       Orlando-Kissimmee-Sanford, FL MSA   \n",
       "\n",
       "   messages_included  ...  usd_monthly_pay  usd_per_gb  usd_per_message  \\\n",
       "0               1000  ...               70           7             0.01   \n",
       "1               1000  ...               70           7             0.01   \n",
       "2               1000  ...               70           7             0.01   \n",
       "3               1000  ...               70           7             0.01   \n",
       "4               1000  ...               70           7             0.01   \n",
       "\n",
       "   usd_per_minute  plan_name  minutos_cobrables mensajes_cobrables  \\\n",
       "0            0.01   ultimate                0.0                0.0   \n",
       "1            0.01   ultimate                0.0                0.0   \n",
       "2            0.01   ultimate                0.0                0.0   \n",
       "3            0.01   ultimate                0.0                0.0   \n",
       "4            0.01   ultimate                0.0                0.0   \n",
       "\n",
       "   internet_mb_cobrables  internet_gb_cobrables  rentabilidad_mensual  \n",
       "0                   0.00                    0.0                  70.0  \n",
       "1                   0.00                    0.0                  70.0  \n",
       "2                1398.82                    2.0                  84.0  \n",
       "3                   0.00                    0.0                  70.0  \n",
       "4                   0.00                    0.0                  70.0  \n",
       "\n",
       "[5 rows x 22 columns]"
      ]
     },
     "execution_count": 94,
     "metadata": {},
     "output_type": "execute_result"
    }
   ],
   "source": [
    "fct_sales.head()"
   ]
  },
  {
   "cell_type": "markdown",
   "metadata": {},
   "source": [
    "<div class=\"alert alert-block alert-success\">\n",
    "<b>Comentario del revisor</b> <a class=\"tocSkip\"></a>\n",
    "\n",
    "Andrés, realizaste un excelente trabajo con el calculo de los ingresos mensuales por usuario. En primer lugar redondeaste tanto las llamdas como los gb, agrupaste los datos y consideraste el ingreso para cada una de las variables"
   ]
  },
  {
   "cell_type": "markdown",
   "metadata": {
    "id": "-jtyHzJb0q1I"
   },
   "source": [
    "## Estudia el comportamiento de usuario"
   ]
  },
  {
   "cell_type": "markdown",
   "metadata": {
    "id": "vtW4CJEe0q1J"
   },
   "source": [
    "### Llamadas"
   ]
  },
  {
   "cell_type": "code",
   "execution_count": 95,
   "metadata": {
    "id": "Jf5v5--k0q1J"
   },
   "outputs": [
    {
     "data": {
      "image/png": "[encoded data removed]",
      "text/plain": [
       "<Figure size 1200x800 with 1 Axes>"
      ]
     },
     "metadata": {},
     "output_type": "display_data"
    }
   ],
   "source": [
    "# Compara la duración promedio de llamadas por cada plan y por cada mes. Traza un gráfico de barras para visualizarla.\n",
    "prom_duracion_mes = fct_sales.groupby(['plan','month'])['used_minutes'].mean().unstack()\n",
    "prom_duracion_mes.plot(kind='bar',figsize=(12, 8),title='Duración Promedio de Llamadas por Plan y Mes',xlabel='Plan', ylabel='Duración Promedio de Llamadas (minutos)',legend=True, rot=45)\n",
    "plt.tight_layout()\n",
    "plt.show()\n"
   ]
  },
  {
   "cell_type": "code",
   "execution_count": 96,
   "metadata": {
    "id": "QoLqW1S_0q1J"
   },
   "outputs": [
    {
     "data": {
      "image/png": "[encoded data removed]",
      "text/plain": [
       "<Figure size 1000x600 with 1 Axes>"
      ]
     },
     "metadata": {},
     "output_type": "display_data"
    }
   ],
   "source": [
    "minutos_plan_ultimate = fct_sales[fct_sales['plan'] == 'ultimate']['used_minutes']\n",
    "minutos_plan_surf = fct_sales[fct_sales['plan'] == 'surf']['used_minutes']\n",
    "\n",
    "plt.figure(figsize=(10, 6))\n",
    "plt.hist(minutos_plan_ultimate, bins=30, alpha=0.5, label='Ultimate', color='blue')\n",
    "plt.hist(minutos_plan_surf, bins=30, alpha=0.5, label='Surf', color='orange')\n",
    "plt.title('Comparación de Minutos Mensuales por Plan')\n",
    "plt.xlabel('Minutos Mensuales Utilizados')\n",
    "plt.ylabel('Número de Usuarios')\n",
    "plt.legend(title='Plan')\n",
    "plt.tight_layout()\n",
    "plt.show()\n"
   ]
  },
  {
   "cell_type": "code",
   "execution_count": 97,
   "metadata": {
    "id": "oSndbAnt0q1K"
   },
   "outputs": [
    {
     "name": "stdout",
     "output_type": "stream",
     "text": [
      "Varianza de la duración de las llamadas: 56401.63979518273\n",
      "Promedio de duración por mes y plan: plan      month\n",
      "surf      0.0        0.000000\n",
      "          1.0      203.000000\n",
      "          2.0      297.000000\n",
      "          3.0      330.000000\n",
      "          4.0      351.540000\n",
      "          5.0      399.584416\n",
      "          6.0      431.298969\n",
      "          7.0      449.983471\n",
      "          8.0      410.111111\n",
      "          9.0      414.226804\n",
      "          10.0     429.729958\n",
      "          11.0     423.325088\n",
      "          12.0     473.836478\n",
      "ultimate  0.0        0.000000\n",
      "          1.0      193.500000\n",
      "          2.0      403.142857\n",
      "          3.0      304.250000\n",
      "          4.0      336.857143\n",
      "          5.0      406.241379\n",
      "          6.0      370.957447\n",
      "          7.0      427.067797\n",
      "          8.0      421.436620\n",
      "          9.0      437.511628\n",
      "          10.0     450.735849\n",
      "          11.0     445.196850\n",
      "          12.0     459.099338\n",
      "Name: used_minutes, dtype: float64\n"
     ]
    }
   ],
   "source": [
    "# Calcula la media y la varianza de la duración mensual de llamadas.\n",
    "prom_duracion_mes = fct_sales.groupby(['plan','month'])['used_minutes'].mean()\n",
    "varianza_llamadas = fct_sales['used_minutes'].var()\n",
    "\n",
    "print('Varianza de la duración de las llamadas:', varianza_llamadas)\n",
    "print('Promedio de duración por mes y plan:', prom_duracion_mes)\n"
   ]
  },
  {
   "cell_type": "code",
   "execution_count": 98,
   "metadata": {
    "id": "nZzoRUKc0q1K"
   },
   "outputs": [
    {
     "data": {
      "text/plain": [
       "<AxesSubplot:xlabel='used_minutes'>"
      ]
     },
     "execution_count": 98,
     "metadata": {},
     "output_type": "execute_result"
    },
    {
     "data": {
      "image/png": "[encoded data removed]",
      "text/plain": [
       "<Figure size 640x480 with 1 Axes>"
      ]
     },
     "metadata": {},
     "output_type": "display_data"
    }
   ],
   "source": [
    "# Traza un diagrama de caja para visualizar la distribución de la duración mensual de llamadas\n",
    "sns.boxplot(fct_sales['used_minutes'])\n"
   ]
  },
  {
   "cell_type": "markdown",
   "metadata": {
    "id": "r627zBO50q1K"
   },
   "source": [
    "Podemos observar un comportamiento diferenciado de los usuarios de acuerdo al plan que utiliza ya que podemos observar que aquellos en el plan surf tienen una utilización con mayor distribución cargada a la derecha por lo que podemos inferir que recurren en cargos extra con mayor frecuencia que permiten una mayor rentabilidad del usuario."
   ]
  },
  {
   "cell_type": "markdown",
   "metadata": {
    "id": "8idKy8Wh0q1L"
   },
   "source": [
    "### Mensajes"
   ]
  },
  {
   "cell_type": "code",
   "execution_count": 99,
   "metadata": {
    "id": "NXLxiTit0q1L"
   },
   "outputs": [
    {
     "data": {
      "image/png": "[encoded data removed]",
      "text/plain": [
       "<Figure size 1200x800 with 1 Axes>"
      ]
     },
     "metadata": {},
     "output_type": "display_data"
    }
   ],
   "source": [
    "# Comprara el número de mensajes que tienden a enviar cada mes los usuarios de cada plan\n",
    "numero_mensajes_mes = fct_sales.groupby(['plan','month'])['quantity_messages'].sum().unstack()\n",
    "numero_mensajes_mes.plot(kind='bar',figsize=(12, 8),title='Número de Mensajes por Mes',xlabel='Plan', ylabel='Cantidad (mensajes)',legend=True, rot=45)\n",
    "plt.tight_layout()\n",
    "plt.show()\n"
   ]
  },
  {
   "cell_type": "code",
   "execution_count": 100,
   "metadata": {
    "id": "GRI_R7xF0q1L"
   },
   "outputs": [
    {
     "data": {
      "image/png": "[encoded data removed]",
      "text/plain": [
       "<Figure size 1000x600 with 1 Axes>"
      ]
     },
     "metadata": {},
     "output_type": "display_data"
    }
   ],
   "source": [
    "msg_ultimate = fct_sales[fct_sales['plan'] == 'ultimate']['quantity_messages']\n",
    "msg_surf = fct_sales[fct_sales['plan'] == 'surf']['quantity_messages']\n",
    "\n",
    "plt.figure(figsize=(10, 6))\n",
    "plt.hist(msg_ultimate, bins=30, alpha=0.5, label='Ultimate', color='blue')\n",
    "plt.hist(msg_surf, bins=30, alpha=0.5, label='Surf', color='orange')\n",
    "plt.title('Comparación de Mensajes Mensuales por Plan')\n",
    "plt.xlabel('Mensajes Mensuales Enviados')\n",
    "plt.ylabel('Número de Usuarios')\n",
    "plt.legend(title='Plan')\n",
    "plt.tight_layout()\n",
    "plt.show()\n",
    "\n"
   ]
  },
  {
   "cell_type": "code",
   "execution_count": 101,
   "metadata": {
    "id": "dtFwCGAp0q1M"
   },
   "outputs": [
    {
     "data": {
      "text/plain": [
       "<AxesSubplot:xlabel='quantity_messages'>"
      ]
     },
     "execution_count": 101,
     "metadata": {},
     "output_type": "execute_result"
    },
    {
     "data": {
      "image/png": "[encoded data removed]",
      "text/plain": [
       "<Figure size 640x480 with 1 Axes>"
      ]
     },
     "metadata": {},
     "output_type": "display_data"
    }
   ],
   "source": [
    "sns.boxplot(fct_sales['quantity_messages'])"
   ]
  },
  {
   "cell_type": "markdown",
   "metadata": {
    "id": "390SSL480q1M"
   },
   "source": [
    "Podemos observar que aquellos con el plan surf envian una mayor cantidad de mensajes en promedio por mes, sin embargo de acuerdo a los esquemas tarifarios esto necesariamente implica que generan mayor rentabilidad."
   ]
  },
  {
   "cell_type": "markdown",
   "metadata": {
    "id": "42YSypXz0q1M"
   },
   "source": [
    "### Internet"
   ]
  },
  {
   "cell_type": "code",
   "execution_count": 102,
   "metadata": {
    "id": "lSuKPtjh0q1M"
   },
   "outputs": [
    {
     "data": {
      "image/png": "[encoded data removed]",
      "text/plain": [
       "<Figure size 1200x800 with 1 Axes>"
      ]
     },
     "metadata": {},
     "output_type": "display_data"
    }
   ],
   "source": [
    "# Comparamos la cantidad de datos que tienden a utilizar cada mes los usuarios de cada plan.\n",
    "numero_mensajes_mes = fct_sales.groupby(['plan','month'])['mb_used'].sum().unstack()\n",
    "numero_mensajes_mes.plot(kind='bar',figsize=(12, 8),title='Cantidad de Datos por Mes',xlabel='Plan', ylabel='Cantidad (Datos en Mb)',legend=True, rot=45)\n",
    "plt.tight_layout()\n",
    "plt.show()\n"
   ]
  },
  {
   "cell_type": "code",
   "execution_count": 103,
   "metadata": {
    "id": "wnh8jYXi0q1N"
   },
   "outputs": [
    {
     "data": {
      "image/png": "[encoded data removed]",
      "text/plain": [
       "<Figure size 1000x600 with 1 Axes>"
      ]
     },
     "metadata": {},
     "output_type": "display_data"
    }
   ],
   "source": [
    "# Comparamos en histograma la cantidad de datos que tienden a utilizar cada mes los usuarios de cada plan.\n",
    "mb_ultimate = fct_sales[fct_sales['plan'] == 'ultimate']['mb_used']\n",
    "mb_surf = fct_sales[fct_sales['plan'] == 'surf']['mb_used']\n",
    "\n",
    "plt.figure(figsize=(10, 6))\n",
    "plt.hist(mb_ultimate, bins=30, alpha=0.5, label='Ultimate', color='blue')\n",
    "plt.hist(mb_surf, bins=30, alpha=0.5, label='Surf', color='orange')\n",
    "plt.title('Comparación de Datos Mensuales por Plan')\n",
    "plt.xlabel('Datos Mensuales Utilizados')\n",
    "plt.ylabel('Número de Usuarios')\n",
    "plt.legend(title='Plan')\n",
    "plt.tight_layout()\n",
    "plt.show()\n"
   ]
  },
  {
   "cell_type": "code",
   "execution_count": 104,
   "metadata": {
    "id": "5VlyJ9ry0q1N"
   },
   "outputs": [
    {
     "data": {
      "text/plain": [
       "<AxesSubplot:xlabel='mb_used'>"
      ]
     },
     "execution_count": 104,
     "metadata": {},
     "output_type": "execute_result"
    },
    {
     "data": {
      "image/png": "[encoded data removed]",
      "text/plain": [
       "<Figure size 640x480 with 1 Axes>"
      ]
     },
     "metadata": {},
     "output_type": "display_data"
    }
   ],
   "source": [
    "sns.boxplot(fct_sales['mb_used'])"
   ]
  },
  {
   "cell_type": "markdown",
   "metadata": {
    "id": "UN9zwuMP0q1N"
   },
   "source": [
    "Nuevamente todo parece indicar que el plan surf envia una mayor cantidad de mensajes en promedio por mes, sin embargo de acuerdo a los esquemas tarifarios esto necesariamente implica que generan mayor rentabilidad."
   ]
  },
  {
   "cell_type": "markdown",
   "metadata": {
    "id": "tCijq3260q1N"
   },
   "source": [
    "## Ingreso"
   ]
  },
  {
   "cell_type": "markdown",
   "metadata": {
    "id": "9nq5IAcy0q1O"
   },
   "source": [
    "Aprovechamos los cálculos previamente realizados y agregados a la columna de rentabilidad para mostrar de manera más sencilla las comparaciones gráficas"
   ]
  },
  {
   "cell_type": "code",
   "execution_count": 105,
   "metadata": {
    "id": "tz-dq_V00q1O"
   },
   "outputs": [
    {
     "data": {
      "image/png": "[encoded data removed]",
      "text/plain": [
       "<Figure size 1200x800 with 1 Axes>"
      ]
     },
     "metadata": {},
     "output_type": "display_data"
    }
   ],
   "source": [
    "#Comparación de barras de rentabilidad por mes y por plan\n",
    "rentabilidad = fct_sales.groupby(['plan','month'])['rentabilidad_mensual'].sum().unstack()\n",
    "rentabilidad.plot(kind='bar',figsize=(12, 8),title='Rentabilidad Mensual por Plan',xlabel='Plan', ylabel='Rentabilidad',legend=True, rot=45)\n",
    "plt.tight_layout()\n",
    "plt.show()\n"
   ]
  },
  {
   "cell_type": "code",
   "execution_count": 106,
   "metadata": {
    "id": "0Y1v8ZUz0q1P"
   },
   "outputs": [
    {
     "data": {
      "image/png": "[encoded data removed]",
      "text/plain": [
       "<Figure size 1000x600 with 1 Axes>"
      ]
     },
     "metadata": {},
     "output_type": "display_data"
    }
   ],
   "source": [
    "#Comparación histograma de rentabilidad.\n",
    "renta_ultimate = fct_sales[fct_sales['plan'] == 'ultimate']['rentabilidad_mensual']\n",
    "renta_surf = fct_sales[fct_sales['plan'] == 'surf']['rentabilidad_mensual']\n",
    "\n",
    "plt.figure(figsize=(10, 6))\n",
    "plt.hist(renta_ultimate, bins=30, alpha=0.5, label='Ultimate', color='blue')\n",
    "plt.hist(renta_surf, bins=30, alpha=0.5, label='Surf', color='orange')\n",
    "plt.title('Comparación de Ingreso por Plan')\n",
    "plt.xlabel('Ingreso Mensual')\n",
    "plt.ylabel('Número de Usuarios')\n",
    "plt.legend(title='Plan')\n",
    "plt.tight_layout()\n",
    "plt.show()"
   ]
  },
  {
   "cell_type": "code",
   "execution_count": 107,
   "metadata": {
    "id": "bYmwxyVh0q1P"
   },
   "outputs": [
    {
     "data": {
      "text/plain": [
       "<AxesSubplot:xlabel='rentabilidad_mensual'>"
      ]
     },
     "execution_count": 107,
     "metadata": {},
     "output_type": "execute_result"
    },
    {
     "data": {
      "image/png": "[encoded data removed]",
      "text/plain": [
       "<Figure size 640x480 with 1 Axes>"
      ]
     },
     "metadata": {},
     "output_type": "display_data"
    }
   ],
   "source": [
    "#Gráfica de bigotes.\n",
    "sns.boxplot(fct_sales['rentabilidad_mensual'])"
   ]
  },
  {
   "cell_type": "markdown",
   "metadata": {
    "id": "KAFidcXZ0q1P"
   },
   "source": [
    "Podemos ver que la mayoría de usuarios prefiere el plan surf y a pesar de ser un plan más básico o barato al rebasar sus cuotas de uso e incurrir en gastos extra, la rentabilidad de dicho plan es mayor que aquellos en el plan ultimate."
   ]
  },
  {
   "cell_type": "markdown",
   "metadata": {},
   "source": [
    "<div class=\"alert alert-block alert-success\">\n",
    "<b>Comentario revisor</b> <a class=\"tocSkip\"></a>\n",
    "\n",
    " Muy buena prática la de usar distintos tipos de gráficas identificar algunos hallazgos y llegar a conclusiones. En este caso las gráficas de box-plots nos ayudan a identificar outiers que pueden sesgar nuestros resultados, especificamente las pruebas de hipótesis. Es por ello que con estás gráficas puedes complementar el análisis eliminando los valores atipicos. \n",
    "</div>"
   ]
  },
  {
   "cell_type": "markdown",
   "metadata": {
    "id": "ajJ7VKeI0q1Q"
   },
   "source": [
    "## Prueba las hipótesis estadísticas"
   ]
  },
  {
   "cell_type": "markdown",
   "metadata": {
    "id": "AdXAZ-yL0q1Q"
   },
   "source": [
    "Probaremos la hipótesis de que son diferentes los ingresos promedio procedentes de los usuarios de los planes de llamada Ultimate y Surf."
   ]
  },
  {
   "cell_type": "code",
   "execution_count": 108,
   "metadata": {
    "id": "nFoPNlPq0q1R"
   },
   "outputs": [
    {
     "name": "stdout",
     "output_type": "stream",
     "text": [
      "72.3011049723757\n",
      "60.551728942368584\n",
      "valor p:  1.218411585212325e-15\n",
      "Rechazamos la hipótesis nula\n"
     ]
    }
   ],
   "source": [
    "# Prueba las hipótesis.\n",
    "#En primera instancia obtenemos el promedio de ingresos tanto de Ultimate como de Surf.\n",
    "mean_ultimate = fct_sales[fct_sales['plan'] == 'ultimate']['rentabilidad_mensual'].mean()\n",
    "mean_surf = fct_sales[fct_sales['plan'] == 'surf']['rentabilidad_mensual'].mean()\n",
    "print(mean_ultimate)\n",
    "print(mean_surf)\n",
    "\n",
    "#Si bien nos queda claro que los promedios son distintos para hacer las hipótesis estadísticas primero transformaremos los datos de cada plan a una Series, para despues utilizar la función donde conocemos las medias de dos poblaciones estadísticas, siendo la hipótesis nula que no hay mucha diferencia en ingreso por plan y la alternativa que sí la hay.\n",
    "ultimate_values = fct_sales[fct_sales['plan'] == 'ultimate']['rentabilidad_mensual']\n",
    "surf_values = fct_sales[fct_sales['plan'] == 'surf']['rentabilidad_mensual']\n",
    "\n",
    "alpha = 0.05  # el nivel de significancia estadística crítica\n",
    "# si el valor p es menor que alpha, rechazamos la hipótesis\n",
    "\n",
    "results = st.ttest_ind(ultimate_values, surf_values,equal_var=False) # realizar una prueba\n",
    "\n",
    "print('valor p: ', results.pvalue) # extraer el valor p\n",
    "\n",
    "if results.pvalue < alpha: # comparar el valor p con el umbral\n",
    "    print(\"Rechazamos la hipótesis nula\")\n",
    "else:\n",
    "    print(\"No podemos rechazar la hipótesis nula\")"
   ]
  },
  {
   "cell_type": "markdown",
   "metadata": {},
   "source": [
    "Hemos rechazado la hipótesis de que los ingresos son similares por lo que se confirma que un plan representa un mayor ingreso que el otro. "
   ]
  },
  {
   "cell_type": "markdown",
   "metadata": {
    "id": "tCcAruM60q1R"
   },
   "source": [
    "Probaremos la hipótesis de que el ingreso promedio de los usuarios del área NY-NJ es diferente al de los usuarios de otras regiones por lo que haremos algo similar al paso anterior."
   ]
  },
  {
   "cell_type": "markdown",
   "metadata": {
    "id": "LsBgitqj0q1R"
   },
   "source": [
    "Nuestra hipótesis nula es que no hay mucha diferencia y la alternativa es que si la hay, para hacer lo anterior primero tenemos que pasar valores que nos permitan extraer los datos de los usuarios del área NY-NJ"
   ]
  },
  {
   "cell_type": "code",
   "execution_count": 109,
   "metadata": {
    "id": "Cqcj7wrZ0q1S"
   },
   "outputs": [
    {
     "name": "stdout",
     "output_type": "stream",
     "text": [
      "valor p:  0.03870322661292962\n",
      "Rechazamos la hipótesis nula\n"
     ]
    }
   ],
   "source": [
    "# Prueba las hipótesis\n",
    "nynj_values = fct_sales[fct_sales['city'] == 'New York-Newark-Jersey City, NY-NJ-PA MSA']['rentabilidad_mensual']\n",
    "other_values = fct_sales[fct_sales['city'] != 'New York-Newark-Jersey City, NY-NJ-PA MSA']['rentabilidad_mensual']\n",
    "\n",
    "results = st.ttest_ind(nynj_values, other_values,equal_var=False) # realizar una prueba\n",
    "\n",
    "print('valor p: ', results.pvalue) # extraer el valor p\n",
    "\n",
    "if results.pvalue < alpha: # comparar el valor p con el umbral\n",
    "    print(\"Rechazamos la hipótesis nula\")\n",
    "else:\n",
    "    print(\"No podemos rechazar la hipótesis nula\")"
   ]
  },
  {
   "cell_type": "markdown",
   "metadata": {},
   "source": [
    "Hemos rechazado la hipótesis de que los ingresos son similares por lo que se confirma que hay diferencia estadísticamente representativa entre la rentabilidad de una población regional en comparación que el resto del país."
   ]
  },
  {
   "cell_type": "markdown",
   "metadata": {},
   "source": [
    "<div class=\"alert alert-block alert-success\">\n",
    "<b>Comentario revisor</b> <a class=\"tocSkip\"></a>\n",
    "\n",
    "Gran trabajo desarrollando las pruebas de hipótesis. Solamente te recomendaría que para robustecer el análisis desarrolles una prueba de levene que te ayude a probar el supuesto de las varianzas iguales."
   ]
  },
  {
   "cell_type": "markdown",
   "metadata": {
    "id": "bbTR8UQO0q1T"
   },
   "source": [
    "## Conclusión general\n",
    "\n",
    "Como conclusión general podemos afirmar que un plan tarifario representa una mayor rentabilidad que otro y dicha afirmación también la hemos confirmado con métodos estadísticos al confirmar que la diferencia en ingreso de acuerdo a las muestras es estadísticamente significativa. De acuerdo a nuestra gráficas y lo que podemos observar si bien el plan surf se podria esperar menos ingreso en comparación con últimate por el plan tarifario, parace que es necesario considerar los efectos de los \"cargos recurrentes\" al rebasar el limite permitido por el plan, además de la cantidad de usuarios que utilizan cada plan. Para poder determinar lo anterior fue necesario hacer un extenso data wrangling de los datos procurando varias tablas intermedias con especial atención de cómo se ligan las tablas originales, para despues crear una tabla final de hechos que incluyera cálculos de rentabilidad de cada plan."
   ]
  },
  {
   "cell_type": "markdown",
   "metadata": {},
   "source": [
    "<div class=\"alert alert-block alert-warning\">\n",
    "<b>Comentario revisor</b> <a class=\"tocSkip\"></a>\n",
    "\n",
    "Andrés, en general creo que hiciste un muy buen trabajo con el proyecto, pudiste limpiar y trabajar las bases de datos de beuna manera. Además, el análisis explorario de datos fue completo al mostrar resultados relevantes que pueden ser de mucha utilidad para la toma de decisiones y desarrollaste las pruebas de hipótesis de una buena manera. No obstante, recuerda que siempre podemos mejorar y te menciono algunos puntos que debes considerar:\n",
    "\n",
    "\n",
    "\n",
    "*  Considerar eliminar registros atipicos que puedan sesgar nuestros resultados. \n",
    "    \n",
    "*  Verificar los supuestos de varianzaas iguales de las pruebas de hipótesis mediante la prueba de levene\n",
    "    \n",
    "</div>"
   ]
  }
 ],
 "metadata": {
  "ExecuteTimeLog": [
   {
    "duration": 828,
    "start_time": "2021-11-16T09:21:11.304Z"
   },
   {
    "duration": 893,
    "start_time": "2021-11-16T09:21:17.728Z"
   },
   {
    "duration": 1150,
    "start_time": "2021-11-16T09:21:29.568Z"
   },
   {
    "duration": 3,
    "start_time": "2021-11-16T09:24:14.495Z"
   },
   {
    "duration": 120,
    "start_time": "2021-11-16T09:24:46.630Z"
   },
   {
    "duration": 3,
    "start_time": "2021-11-16T09:28:27.882Z"
   },
   {
    "duration": 4,
    "start_time": "2021-11-16T09:29:54.281Z"
   },
   {
    "duration": 3,
    "start_time": "2021-11-16T09:30:45.936Z"
   },
   {
    "duration": 4,
    "start_time": "2021-11-16T09:31:06.300Z"
   },
   {
    "duration": 113,
    "start_time": "2021-11-16T09:31:37.208Z"
   },
   {
    "duration": 143,
    "start_time": "2021-11-16T09:31:48.656Z"
   },
   {
    "duration": 98,
    "start_time": "2021-11-16T09:31:55.678Z"
   },
   {
    "duration": 3,
    "start_time": "2021-11-16T09:32:08.535Z"
   },
   {
    "duration": 111,
    "start_time": "2021-11-16T09:32:10.120Z"
   },
   {
    "duration": 3,
    "start_time": "2021-11-16T09:32:15.732Z"
   },
   {
    "duration": 4,
    "start_time": "2021-11-16T09:32:29.423Z"
   },
   {
    "duration": 3,
    "start_time": "2021-11-16T10:03:03.074Z"
   },
   {
    "duration": 3,
    "start_time": "2021-11-16T10:10:01.288Z"
   },
   {
    "duration": 3,
    "start_time": "2021-11-16T10:10:46.923Z"
   },
   {
    "duration": 121,
    "start_time": "2021-11-16T10:37:46.494Z"
   },
   {
    "duration": 125,
    "start_time": "2021-11-16T10:38:20.632Z"
   },
   {
    "duration": 112,
    "start_time": "2021-11-16T10:46:53.001Z"
   },
   {
    "duration": 110,
    "start_time": "2021-11-16T10:48:25.775Z"
   },
   {
    "duration": 3,
    "start_time": "2021-11-16T10:50:18.720Z"
   },
   {
    "duration": 4,
    "start_time": "2021-11-16T10:50:37.649Z"
   },
   {
    "duration": 2,
    "start_time": "2021-11-16T10:50:51.884Z"
   },
   {
    "duration": 3,
    "start_time": "2021-11-16T10:51:56.237Z"
   },
   {
    "duration": 101,
    "start_time": "2021-11-16T10:53:13.791Z"
   },
   {
    "duration": 3,
    "start_time": "2021-11-16T10:55:59.186Z"
   },
   {
    "duration": 3,
    "start_time": "2021-11-16T10:56:10.751Z"
   },
   {
    "duration": 3,
    "start_time": "2021-11-16T10:56:49.038Z"
   },
   {
    "duration": 3,
    "start_time": "2021-11-16T10:56:49.174Z"
   },
   {
    "duration": 4,
    "start_time": "2021-11-16T10:56:49.414Z"
   },
   {
    "duration": 3,
    "start_time": "2021-11-16T10:56:49.680Z"
   },
   {
    "duration": 3,
    "start_time": "2021-11-16T10:56:50.370Z"
   },
   {
    "duration": 114,
    "start_time": "2021-11-16T10:59:34.518Z"
   },
   {
    "duration": 3,
    "start_time": "2021-11-16T11:01:41.201Z"
   },
   {
    "duration": 116,
    "start_time": "2021-11-16T11:01:48.754Z"
   },
   {
    "duration": 3,
    "start_time": "2021-11-16T11:02:16.685Z"
   },
   {
    "duration": 3,
    "start_time": "2021-11-16T11:02:19.479Z"
   },
   {
    "duration": 3,
    "start_time": "2021-11-16T11:02:47.067Z"
   },
   {
    "duration": 3,
    "start_time": "2021-11-16T11:02:49.353Z"
   },
   {
    "duration": 3,
    "start_time": "2021-11-16T11:03:07.835Z"
   },
   {
    "duration": 3,
    "start_time": "2021-11-16T11:03:07.953Z"
   },
   {
    "duration": 112,
    "start_time": "2021-11-16T11:07:52.072Z"
   },
   {
    "duration": 187,
    "start_time": "2021-11-16T11:09:23.468Z"
   },
   {
    "duration": 4,
    "start_time": "2021-11-16T11:10:01.455Z"
   },
   {
    "duration": 3,
    "start_time": "2021-11-16T11:10:05.069Z"
   },
   {
    "duration": 4,
    "start_time": "2021-11-16T11:10:13.376Z"
   },
   {
    "duration": 3,
    "start_time": "2021-11-16T11:10:14.434Z"
   },
   {
    "duration": 3,
    "start_time": "2021-11-16T11:10:22.853Z"
   },
   {
    "duration": 4,
    "start_time": "2021-11-16T11:27:29.279Z"
   },
   {
    "duration": 4,
    "start_time": "2021-11-16T11:29:08.919Z"
   },
   {
    "duration": 118,
    "start_time": "2021-11-16T11:29:46.703Z"
   },
   {
    "duration": 437,
    "start_time": "2021-11-16T11:36:02.181Z"
   },
   {
    "duration": 157,
    "start_time": "2021-11-16T11:36:14.388Z"
   },
   {
    "duration": 207,
    "start_time": "2021-11-16T11:47:15.898Z"
   },
   {
    "duration": 3,
    "start_time": "2021-11-16T11:53:52.092Z"
   },
   {
    "duration": 3,
    "start_time": "2021-11-16T11:53:52.236Z"
   },
   {
    "duration": 3,
    "start_time": "2021-11-16T11:59:12.005Z"
   },
   {
    "duration": 112,
    "start_time": "2021-11-16T12:00:33.446Z"
   },
   {
    "duration": 3,
    "start_time": "2021-11-16T12:02:14.453Z"
   },
   {
    "duration": 3,
    "start_time": "2021-11-16T12:02:39.512Z"
   },
   {
    "duration": 106,
    "start_time": "2021-11-16T12:03:03.460Z"
   },
   {
    "duration": 3,
    "start_time": "2021-11-17T20:37:21.139Z"
   },
   {
    "duration": 3,
    "start_time": "2021-11-17T20:37:22.229Z"
   },
   {
    "duration": 3,
    "start_time": "2021-11-17T20:38:38.806Z"
   },
   {
    "duration": 3,
    "start_time": "2021-11-17T20:38:41.958Z"
   },
   {
    "duration": 3,
    "start_time": "2021-11-17T20:43:46.551Z"
   },
   {
    "duration": 4,
    "start_time": "2021-11-17T20:58:21.835Z"
   },
   {
    "duration": 3,
    "start_time": "2021-11-17T20:59:21.872Z"
   },
   {
    "duration": 4,
    "start_time": "2021-11-17T20:59:45.352Z"
   },
   {
    "duration": 4,
    "start_time": "2021-11-17T20:59:49.646Z"
   },
   {
    "duration": 159,
    "start_time": "2021-11-17T21:02:26.949Z"
   },
   {
    "duration": 3,
    "start_time": "2021-11-17T21:03:53.461Z"
   },
   {
    "duration": 3,
    "start_time": "2021-11-17T21:03:53.694Z"
   },
   {
    "duration": 3,
    "start_time": "2021-11-17T21:05:28.145Z"
   },
   {
    "duration": 116,
    "start_time": "2021-11-17T21:05:57.787Z"
   },
   {
    "duration": 3,
    "start_time": "2021-11-17T21:06:37.993Z"
   },
   {
    "duration": 3,
    "start_time": "2021-11-17T21:06:38.261Z"
   },
   {
    "duration": 3,
    "start_time": "2021-11-17T21:11:54.358Z"
   },
   {
    "duration": 3,
    "start_time": "2021-11-17T21:12:43.846Z"
   },
   {
    "duration": 4,
    "start_time": "2021-11-17T21:13:08.773Z"
   },
   {
    "duration": 3,
    "start_time": "2021-11-17T21:14:44.441Z"
   },
   {
    "duration": 3,
    "start_time": "2021-11-17T21:15:42.059Z"
   },
   {
    "duration": 4,
    "start_time": "2021-11-17T21:15:51.995Z"
   },
   {
    "duration": 3,
    "start_time": "2021-11-17T21:15:53.923Z"
   },
   {
    "duration": 3,
    "start_time": "2021-11-17T21:15:55.282Z"
   },
   {
    "duration": 3,
    "start_time": "2021-11-17T21:16:28.492Z"
   },
   {
    "duration": 3,
    "start_time": "2021-11-17T21:16:32.603Z"
   },
   {
    "duration": 3,
    "start_time": "2021-11-17T21:17:06.941Z"
   },
   {
    "duration": 98,
    "start_time": "2021-11-17T21:18:05.733Z"
   },
   {
    "duration": 4,
    "start_time": "2021-11-17T21:21:35.255Z"
   },
   {
    "duration": 3,
    "start_time": "2021-11-17T21:21:37.804Z"
   },
   {
    "duration": 4,
    "start_time": "2021-11-17T21:23:06.071Z"
   },
   {
    "duration": 3,
    "start_time": "2021-11-17T21:23:24.799Z"
   },
   {
    "duration": 3,
    "start_time": "2021-11-17T21:23:32.591Z"
   },
   {
    "duration": 98,
    "start_time": "2021-11-17T21:28:31.559Z"
   },
   {
    "duration": 3,
    "start_time": "2021-11-17T21:28:45.448Z"
   },
   {
    "duration": 3,
    "start_time": "2021-11-17T21:29:17.303Z"
   },
   {
    "duration": 3,
    "start_time": "2021-11-17T21:29:29.617Z"
   },
   {
    "duration": 3,
    "start_time": "2021-11-17T21:29:32.681Z"
   },
   {
    "duration": 3,
    "start_time": "2021-11-17T21:36:11.474Z"
   },
   {
    "duration": 3,
    "start_time": "2021-11-17T21:36:14.791Z"
   },
   {
    "duration": 3,
    "start_time": "2021-11-17T21:36:53.943Z"
   },
   {
    "duration": 3,
    "start_time": "2021-11-17T21:36:56.165Z"
   },
   {
    "duration": 4,
    "start_time": "2021-11-17T21:37:16.590Z"
   },
   {
    "duration": 3,
    "start_time": "2021-11-17T21:37:22.702Z"
   },
   {
    "duration": 4,
    "start_time": "2021-11-17T21:38:03.479Z"
   },
   {
    "duration": 3,
    "start_time": "2021-11-17T21:38:08.601Z"
   },
   {
    "duration": 3,
    "start_time": "2021-11-17T21:38:12.928Z"
   },
   {
    "duration": 3,
    "start_time": "2021-11-17T21:38:48.896Z"
   },
   {
    "duration": 2,
    "start_time": "2021-11-17T21:38:49.171Z"
   },
   {
    "duration": 4,
    "start_time": "2021-11-17T21:39:57.889Z"
   },
   {
    "duration": 3,
    "start_time": "2021-11-17T21:39:58.057Z"
   },
   {
    "duration": 3,
    "start_time": "2021-11-17T21:41:20.108Z"
   },
   {
    "duration": 3,
    "start_time": "2021-11-17T21:41:20.629Z"
   },
   {
    "duration": 3,
    "start_time": "2021-11-17T21:42:49.136Z"
   },
   {
    "duration": 3,
    "start_time": "2021-11-17T21:43:15.137Z"
   },
   {
    "duration": 4,
    "start_time": "2021-11-17T21:43:16.766Z"
   },
   {
    "duration": 4,
    "start_time": "2021-11-17T21:43:31.711Z"
   },
   {
    "duration": 3,
    "start_time": "2021-11-17T21:43:36.312Z"
   },
   {
    "duration": 4,
    "start_time": "2021-11-17T21:45:08.825Z"
   },
   {
    "duration": 4,
    "start_time": "2021-11-17T21:45:10.119Z"
   },
   {
    "duration": 4,
    "start_time": "2021-11-17T21:45:13.748Z"
   },
   {
    "duration": 3,
    "start_time": "2021-11-17T21:45:22.219Z"
   },
   {
    "duration": 3,
    "start_time": "2021-11-17T21:45:33.412Z"
   },
   {
    "duration": 2,
    "start_time": "2021-11-17T21:46:01.885Z"
   },
   {
    "duration": 3,
    "start_time": "2021-11-17T21:46:03.628Z"
   },
   {
    "duration": 107,
    "start_time": "2021-11-17T21:47:32.512Z"
   },
   {
    "duration": 103,
    "start_time": "2021-11-17T21:50:36.243Z"
   },
   {
    "duration": 3,
    "start_time": "2021-11-18T06:28:31.440Z"
   },
   {
    "duration": 3,
    "start_time": "2021-11-18T06:29:00.168Z"
   },
   {
    "duration": 3,
    "start_time": "2021-11-18T06:31:27.008Z"
   },
   {
    "duration": 2,
    "start_time": "2021-11-18T06:35:34.288Z"
   },
   {
    "duration": 2,
    "start_time": "2021-11-18T06:38:04.527Z"
   },
   {
    "duration": 2464,
    "start_time": "2024-10-20T05:52:08.171Z"
   },
   {
    "duration": 234,
    "start_time": "2024-10-20T05:52:11.951Z"
   },
   {
    "duration": 9,
    "start_time": "2024-10-20T05:53:58.832Z"
   },
   {
    "duration": 12,
    "start_time": "2024-10-20T05:54:01.609Z"
   },
   {
    "duration": 7,
    "start_time": "2024-10-20T05:55:08.544Z"
   },
   {
    "duration": 8,
    "start_time": "2024-10-20T06:19:17.830Z"
   },
   {
    "duration": 8,
    "start_time": "2024-10-20T06:19:21.277Z"
   },
   {
    "duration": 15,
    "start_time": "2024-10-20T06:26:07.703Z"
   },
   {
    "duration": 7,
    "start_time": "2024-10-20T06:26:09.630Z"
   },
   {
    "duration": 12,
    "start_time": "2024-10-20T06:30:08.336Z"
   },
   {
    "duration": 6,
    "start_time": "2024-10-20T06:30:12.728Z"
   },
   {
    "duration": 15,
    "start_time": "2024-10-20T06:31:18.119Z"
   },
   {
    "duration": 7,
    "start_time": "2024-10-20T06:31:19.912Z"
   },
   {
    "duration": 15,
    "start_time": "2024-10-20T07:02:24.864Z"
   },
   {
    "duration": 20,
    "start_time": "2024-10-20T07:02:39.343Z"
   },
   {
    "duration": 10,
    "start_time": "2024-10-20T07:02:48.755Z"
   },
   {
    "duration": 16,
    "start_time": "2024-10-20T07:03:49.616Z"
   },
   {
    "duration": 9,
    "start_time": "2024-10-20T07:03:55.495Z"
   },
   {
    "duration": 21,
    "start_time": "2024-10-20T07:04:51.512Z"
   },
   {
    "duration": 10,
    "start_time": "2024-10-20T07:04:56.951Z"
   },
   {
    "duration": 157,
    "start_time": "2024-10-20T18:52:42.923Z"
   },
   {
    "duration": 2539,
    "start_time": "2024-10-20T18:53:42.784Z"
   },
   {
    "duration": 214,
    "start_time": "2024-10-20T18:53:45.325Z"
   },
   {
    "duration": 9,
    "start_time": "2024-10-20T18:53:45.541Z"
   },
   {
    "duration": 10,
    "start_time": "2024-10-20T18:53:45.551Z"
   },
   {
    "duration": 7,
    "start_time": "2024-10-20T18:53:45.564Z"
   },
   {
    "duration": 9,
    "start_time": "2024-10-20T18:53:45.587Z"
   },
   {
    "duration": 11,
    "start_time": "2024-10-20T18:53:45.598Z"
   },
   {
    "duration": 17,
    "start_time": "2024-10-20T18:53:45.611Z"
   },
   {
    "duration": 6,
    "start_time": "2024-10-20T18:53:45.630Z"
   },
   {
    "duration": 15,
    "start_time": "2024-10-20T18:53:45.638Z"
   },
   {
    "duration": 43,
    "start_time": "2024-10-20T18:53:45.654Z"
   },
   {
    "duration": 5,
    "start_time": "2024-10-20T18:53:45.699Z"
   },
   {
    "duration": 10,
    "start_time": "2024-10-20T18:53:45.706Z"
   },
   {
    "duration": 13,
    "start_time": "2024-10-20T18:53:45.719Z"
   },
   {
    "duration": 7,
    "start_time": "2024-10-20T18:53:45.734Z"
   },
   {
    "duration": 46,
    "start_time": "2024-10-20T18:53:45.742Z"
   },
   {
    "duration": 2,
    "start_time": "2024-10-20T18:53:45.790Z"
   },
   {
    "duration": 2,
    "start_time": "2024-10-20T18:53:45.794Z"
   },
   {
    "duration": 2,
    "start_time": "2024-10-20T18:53:45.798Z"
   },
   {
    "duration": 4,
    "start_time": "2024-10-20T18:53:45.801Z"
   },
   {
    "duration": 3,
    "start_time": "2024-10-20T18:53:45.806Z"
   },
   {
    "duration": 2,
    "start_time": "2024-10-20T18:53:45.810Z"
   },
   {
    "duration": 3,
    "start_time": "2024-10-20T18:53:45.814Z"
   },
   {
    "duration": 2,
    "start_time": "2024-10-20T18:53:45.818Z"
   },
   {
    "duration": 2,
    "start_time": "2024-10-20T18:53:45.822Z"
   },
   {
    "duration": 2,
    "start_time": "2024-10-20T18:53:45.826Z"
   },
   {
    "duration": 2,
    "start_time": "2024-10-20T18:53:45.830Z"
   },
   {
    "duration": 52,
    "start_time": "2024-10-20T18:53:45.834Z"
   },
   {
    "duration": 2,
    "start_time": "2024-10-20T18:53:45.888Z"
   },
   {
    "duration": 2,
    "start_time": "2024-10-20T18:53:45.892Z"
   },
   {
    "duration": 2,
    "start_time": "2024-10-20T18:53:45.896Z"
   },
   {
    "duration": 3,
    "start_time": "2024-10-20T18:53:45.899Z"
   },
   {
    "duration": 13,
    "start_time": "2024-10-20T19:05:54.825Z"
   },
   {
    "duration": 12,
    "start_time": "2024-10-20T19:06:36.140Z"
   },
   {
    "duration": 113,
    "start_time": "2024-10-20T19:06:38.576Z"
   },
   {
    "duration": 1490,
    "start_time": "2024-10-20T19:12:04.063Z"
   },
   {
    "duration": 530,
    "start_time": "2024-10-20T19:12:07.920Z"
   },
   {
    "duration": 12,
    "start_time": "2024-10-20T19:12:47.742Z"
   },
   {
    "duration": 125,
    "start_time": "2024-10-20T19:12:50.082Z"
   },
   {
    "duration": 12,
    "start_time": "2024-10-20T19:23:57.693Z"
   },
   {
    "duration": 141,
    "start_time": "2024-10-20T19:32:34.105Z"
   },
   {
    "duration": 10,
    "start_time": "2024-10-20T19:52:52.013Z"
   },
   {
    "duration": 141,
    "start_time": "2024-10-20T19:52:54.478Z"
   },
   {
    "duration": 10,
    "start_time": "2024-10-20T19:58:25.344Z"
   },
   {
    "duration": 138,
    "start_time": "2024-10-20T19:59:47.136Z"
   },
   {
    "duration": 20,
    "start_time": "2024-10-20T20:03:50.833Z"
   },
   {
    "duration": 19,
    "start_time": "2024-10-20T20:06:47.184Z"
   },
   {
    "duration": 21,
    "start_time": "2024-10-20T20:14:01.523Z"
   },
   {
    "duration": 8,
    "start_time": "2024-10-20T20:20:26.092Z"
   },
   {
    "duration": 23,
    "start_time": "2024-10-20T20:25:38.098Z"
   },
   {
    "duration": 22,
    "start_time": "2024-10-20T20:34:38.664Z"
   },
   {
    "duration": 6,
    "start_time": "2024-10-20T20:34:43.998Z"
   },
   {
    "duration": 7,
    "start_time": "2024-10-20T20:35:02.338Z"
   },
   {
    "duration": 8,
    "start_time": "2024-10-20T20:35:08.144Z"
   },
   {
    "duration": 7,
    "start_time": "2024-10-20T20:35:16.024Z"
   },
   {
    "duration": 15,
    "start_time": "2024-10-20T20:44:07.364Z"
   },
   {
    "duration": 15,
    "start_time": "2024-10-20T20:48:03.470Z"
   },
   {
    "duration": 15,
    "start_time": "2024-10-20T20:57:42.887Z"
   },
   {
    "duration": 5,
    "start_time": "2024-10-20T21:03:03.411Z"
   },
   {
    "duration": 17,
    "start_time": "2024-10-20T21:10:01.137Z"
   },
   {
    "duration": 2492,
    "start_time": "2024-10-21T05:57:31.267Z"
   },
   {
    "duration": 212,
    "start_time": "2024-10-21T05:57:33.762Z"
   },
   {
    "duration": 9,
    "start_time": "2024-10-21T05:57:33.976Z"
   },
   {
    "duration": 10,
    "start_time": "2024-10-21T05:57:33.987Z"
   },
   {
    "duration": 8,
    "start_time": "2024-10-21T05:57:33.998Z"
   },
   {
    "duration": 7,
    "start_time": "2024-10-21T05:57:34.008Z"
   },
   {
    "duration": 12,
    "start_time": "2024-10-21T05:57:34.016Z"
   },
   {
    "duration": 16,
    "start_time": "2024-10-21T05:57:34.029Z"
   },
   {
    "duration": 7,
    "start_time": "2024-10-21T05:57:34.047Z"
   },
   {
    "duration": 15,
    "start_time": "2024-10-21T05:57:34.058Z"
   },
   {
    "duration": 180,
    "start_time": "2024-10-21T05:57:34.074Z"
   },
   {
    "duration": 16,
    "start_time": "2024-10-21T05:57:34.256Z"
   },
   {
    "duration": 6,
    "start_time": "2024-10-21T05:57:34.274Z"
   },
   {
    "duration": 26,
    "start_time": "2024-10-21T05:57:34.282Z"
   },
   {
    "duration": 21,
    "start_time": "2024-10-21T05:57:34.310Z"
   },
   {
    "duration": 13,
    "start_time": "2024-10-21T05:57:34.333Z"
   },
   {
    "duration": 7,
    "start_time": "2024-10-21T05:57:34.347Z"
   },
   {
    "duration": 12,
    "start_time": "2024-10-21T05:57:34.355Z"
   },
   {
    "duration": 53,
    "start_time": "2024-10-21T05:57:34.368Z"
   },
   {
    "duration": 7,
    "start_time": "2024-10-21T05:57:34.423Z"
   },
   {
    "duration": 5,
    "start_time": "2024-10-21T05:57:34.432Z"
   },
   {
    "duration": 5,
    "start_time": "2024-10-21T05:57:34.439Z"
   },
   {
    "duration": 5,
    "start_time": "2024-10-21T05:57:34.446Z"
   },
   {
    "duration": 7,
    "start_time": "2024-10-21T05:57:34.453Z"
   },
   {
    "duration": 48,
    "start_time": "2024-10-21T05:57:34.462Z"
   },
   {
    "duration": 13,
    "start_time": "2024-10-21T05:57:34.512Z"
   },
   {
    "duration": 15,
    "start_time": "2024-10-21T05:57:34.527Z"
   },
   {
    "duration": 3,
    "start_time": "2024-10-21T05:57:34.545Z"
   },
   {
    "duration": 3,
    "start_time": "2024-10-21T05:57:34.549Z"
   },
   {
    "duration": 2,
    "start_time": "2024-10-21T05:57:34.554Z"
   },
   {
    "duration": 2,
    "start_time": "2024-10-21T05:57:34.558Z"
   },
   {
    "duration": 3,
    "start_time": "2024-10-21T05:57:34.562Z"
   },
   {
    "duration": 43,
    "start_time": "2024-10-21T05:57:34.566Z"
   },
   {
    "duration": 2,
    "start_time": "2024-10-21T05:57:34.610Z"
   },
   {
    "duration": 2,
    "start_time": "2024-10-21T05:57:34.615Z"
   },
   {
    "duration": 20,
    "start_time": "2024-10-21T06:01:11.818Z"
   },
   {
    "duration": 23,
    "start_time": "2024-10-21T06:05:59.214Z"
   },
   {
    "duration": 2,
    "start_time": "2024-10-21T06:06:09.075Z"
   },
   {
    "duration": 6,
    "start_time": "2024-10-21T06:10:57.052Z"
   },
   {
    "duration": 19,
    "start_time": "2024-10-21T06:12:33.692Z"
   },
   {
    "duration": 7,
    "start_time": "2024-10-21T06:27:33.405Z"
   },
   {
    "duration": 3,
    "start_time": "2024-10-21T06:32:43.927Z"
   },
   {
    "duration": 492,
    "start_time": "2024-10-21T06:35:03.780Z"
   },
   {
    "duration": 3,
    "start_time": "2024-10-21T06:35:08.961Z"
   },
   {
    "duration": 3,
    "start_time": "2024-10-21T06:35:19.473Z"
   },
   {
    "duration": 40,
    "start_time": "2024-10-21T06:35:26.034Z"
   },
   {
    "duration": 3,
    "start_time": "2024-10-21T06:37:20.045Z"
   },
   {
    "duration": 2,
    "start_time": "2024-10-21T06:38:15.442Z"
   },
   {
    "duration": 3,
    "start_time": "2024-10-21T06:40:00.915Z"
   },
   {
    "duration": 3,
    "start_time": "2024-10-21T06:41:11.314Z"
   },
   {
    "duration": 36,
    "start_time": "2024-10-21T06:41:14.106Z"
   },
   {
    "duration": 37,
    "start_time": "2024-10-21T06:47:41.459Z"
   },
   {
    "duration": 3,
    "start_time": "2024-10-21T06:57:37.965Z"
   },
   {
    "duration": 3,
    "start_time": "2024-10-21T06:57:40.013Z"
   },
   {
    "duration": 37,
    "start_time": "2024-10-21T06:57:43.653Z"
   },
   {
    "duration": 21,
    "start_time": "2024-10-21T06:57:51.797Z"
   },
   {
    "duration": 3,
    "start_time": "2024-10-21T07:07:28.847Z"
   },
   {
    "duration": 3,
    "start_time": "2024-10-21T07:07:30.527Z"
   },
   {
    "duration": 3,
    "start_time": "2024-10-21T07:07:32.558Z"
   },
   {
    "duration": 56,
    "start_time": "2024-10-21T07:07:35.327Z"
   },
   {
    "duration": 21,
    "start_time": "2024-10-21T07:07:38.274Z"
   },
   {
    "duration": 78,
    "start_time": "2024-10-21T07:09:19.123Z"
   },
   {
    "duration": 6,
    "start_time": "2024-10-21T07:09:38.663Z"
   },
   {
    "duration": 56,
    "start_time": "2024-10-21T07:12:15.880Z"
   },
   {
    "duration": 24,
    "start_time": "2024-10-21T07:12:22.393Z"
   },
   {
    "duration": 3,
    "start_time": "2024-10-21T07:27:37.540Z"
   },
   {
    "duration": 40,
    "start_time": "2024-10-21T07:27:39.523Z"
   },
   {
    "duration": 19,
    "start_time": "2024-10-21T07:28:00.473Z"
   },
   {
    "duration": 212,
    "start_time": "2024-10-21T07:53:13.272Z"
   },
   {
    "duration": 157,
    "start_time": "2024-10-21T07:53:43.473Z"
   },
   {
    "duration": 2527,
    "start_time": "2024-10-31T18:50:11.934Z"
   },
   {
    "duration": 211,
    "start_time": "2024-10-31T18:50:14.463Z"
   },
   {
    "duration": 9,
    "start_time": "2024-10-31T18:50:14.675Z"
   },
   {
    "duration": 8,
    "start_time": "2024-10-31T18:50:14.687Z"
   },
   {
    "duration": 4,
    "start_time": "2024-10-31T18:50:14.697Z"
   },
   {
    "duration": 0,
    "start_time": "2024-10-31T18:50:14.704Z"
   },
   {
    "duration": 0,
    "start_time": "2024-10-31T18:50:14.705Z"
   },
   {
    "duration": 0,
    "start_time": "2024-10-31T18:50:14.706Z"
   },
   {
    "duration": 0,
    "start_time": "2024-10-31T18:50:14.707Z"
   },
   {
    "duration": 0,
    "start_time": "2024-10-31T18:50:14.708Z"
   },
   {
    "duration": 0,
    "start_time": "2024-10-31T18:50:14.724Z"
   },
   {
    "duration": 0,
    "start_time": "2024-10-31T18:50:14.725Z"
   },
   {
    "duration": 0,
    "start_time": "2024-10-31T18:50:14.726Z"
   },
   {
    "duration": 0,
    "start_time": "2024-10-31T18:50:14.727Z"
   },
   {
    "duration": 0,
    "start_time": "2024-10-31T18:50:14.728Z"
   },
   {
    "duration": 0,
    "start_time": "2024-10-31T18:50:14.729Z"
   },
   {
    "duration": 0,
    "start_time": "2024-10-31T18:50:14.730Z"
   },
   {
    "duration": 0,
    "start_time": "2024-10-31T18:50:14.731Z"
   },
   {
    "duration": 0,
    "start_time": "2024-10-31T18:50:14.733Z"
   },
   {
    "duration": 0,
    "start_time": "2024-10-31T18:50:14.736Z"
   },
   {
    "duration": 0,
    "start_time": "2024-10-31T18:50:14.737Z"
   },
   {
    "duration": 0,
    "start_time": "2024-10-31T18:50:14.738Z"
   },
   {
    "duration": 0,
    "start_time": "2024-10-31T18:50:14.739Z"
   },
   {
    "duration": 0,
    "start_time": "2024-10-31T18:50:14.741Z"
   },
   {
    "duration": 0,
    "start_time": "2024-10-31T18:50:14.742Z"
   },
   {
    "duration": 0,
    "start_time": "2024-10-31T18:50:14.743Z"
   },
   {
    "duration": 0,
    "start_time": "2024-10-31T18:50:14.744Z"
   },
   {
    "duration": 0,
    "start_time": "2024-10-31T18:50:14.745Z"
   },
   {
    "duration": 0,
    "start_time": "2024-10-31T18:50:14.746Z"
   },
   {
    "duration": 0,
    "start_time": "2024-10-31T18:50:14.747Z"
   },
   {
    "duration": 0,
    "start_time": "2024-10-31T18:50:14.748Z"
   },
   {
    "duration": 0,
    "start_time": "2024-10-31T18:50:14.750Z"
   },
   {
    "duration": 0,
    "start_time": "2024-10-31T18:50:14.751Z"
   },
   {
    "duration": 0,
    "start_time": "2024-10-31T18:50:14.752Z"
   },
   {
    "duration": 0,
    "start_time": "2024-10-31T18:50:14.753Z"
   },
   {
    "duration": 0,
    "start_time": "2024-10-31T18:50:14.754Z"
   },
   {
    "duration": 0,
    "start_time": "2024-10-31T18:50:14.755Z"
   },
   {
    "duration": 0,
    "start_time": "2024-10-31T18:50:14.757Z"
   },
   {
    "duration": 4,
    "start_time": "2024-10-31T18:50:33.324Z"
   },
   {
    "duration": 207,
    "start_time": "2024-10-31T18:51:26.194Z"
   },
   {
    "duration": 2,
    "start_time": "2024-10-31T18:52:06.586Z"
   },
   {
    "duration": 161,
    "start_time": "2024-10-31T18:52:06.591Z"
   },
   {
    "duration": 9,
    "start_time": "2024-10-31T18:52:06.754Z"
   },
   {
    "duration": 6,
    "start_time": "2024-10-31T18:52:06.765Z"
   },
   {
    "duration": 3,
    "start_time": "2024-10-31T18:52:06.774Z"
   },
   {
    "duration": 0,
    "start_time": "2024-10-31T18:52:06.780Z"
   },
   {
    "duration": 0,
    "start_time": "2024-10-31T18:52:06.781Z"
   },
   {
    "duration": 0,
    "start_time": "2024-10-31T18:52:06.782Z"
   },
   {
    "duration": 0,
    "start_time": "2024-10-31T18:52:06.783Z"
   },
   {
    "duration": 0,
    "start_time": "2024-10-31T18:52:06.785Z"
   },
   {
    "duration": 0,
    "start_time": "2024-10-31T18:52:06.786Z"
   },
   {
    "duration": 0,
    "start_time": "2024-10-31T18:52:06.788Z"
   },
   {
    "duration": 0,
    "start_time": "2024-10-31T18:52:06.789Z"
   },
   {
    "duration": 0,
    "start_time": "2024-10-31T18:52:06.791Z"
   },
   {
    "duration": 0,
    "start_time": "2024-10-31T18:52:06.823Z"
   },
   {
    "duration": 0,
    "start_time": "2024-10-31T18:52:06.825Z"
   },
   {
    "duration": 0,
    "start_time": "2024-10-31T18:52:06.826Z"
   },
   {
    "duration": 0,
    "start_time": "2024-10-31T18:52:06.827Z"
   },
   {
    "duration": 0,
    "start_time": "2024-10-31T18:52:06.828Z"
   },
   {
    "duration": 0,
    "start_time": "2024-10-31T18:52:06.829Z"
   },
   {
    "duration": 0,
    "start_time": "2024-10-31T18:52:06.830Z"
   },
   {
    "duration": 0,
    "start_time": "2024-10-31T18:52:06.831Z"
   },
   {
    "duration": 0,
    "start_time": "2024-10-31T18:52:06.832Z"
   },
   {
    "duration": 0,
    "start_time": "2024-10-31T18:52:06.833Z"
   },
   {
    "duration": 0,
    "start_time": "2024-10-31T18:52:06.834Z"
   },
   {
    "duration": 0,
    "start_time": "2024-10-31T18:52:06.835Z"
   },
   {
    "duration": 0,
    "start_time": "2024-10-31T18:52:06.837Z"
   },
   {
    "duration": 0,
    "start_time": "2024-10-31T18:52:06.839Z"
   },
   {
    "duration": 0,
    "start_time": "2024-10-31T18:52:06.840Z"
   },
   {
    "duration": 0,
    "start_time": "2024-10-31T18:52:06.841Z"
   },
   {
    "duration": 0,
    "start_time": "2024-10-31T18:52:06.842Z"
   },
   {
    "duration": 0,
    "start_time": "2024-10-31T18:52:06.844Z"
   },
   {
    "duration": 0,
    "start_time": "2024-10-31T18:52:06.845Z"
   },
   {
    "duration": 0,
    "start_time": "2024-10-31T18:52:06.846Z"
   },
   {
    "duration": 0,
    "start_time": "2024-10-31T18:52:06.847Z"
   },
   {
    "duration": 0,
    "start_time": "2024-10-31T18:52:06.848Z"
   },
   {
    "duration": 0,
    "start_time": "2024-10-31T18:52:06.850Z"
   },
   {
    "duration": 0,
    "start_time": "2024-10-31T18:52:06.850Z"
   },
   {
    "duration": 0,
    "start_time": "2024-10-31T18:52:06.852Z"
   },
   {
    "duration": 0,
    "start_time": "2024-10-31T18:52:06.853Z"
   },
   {
    "duration": 0,
    "start_time": "2024-10-31T18:52:06.854Z"
   },
   {
    "duration": 0,
    "start_time": "2024-10-31T18:52:06.855Z"
   },
   {
    "duration": 0,
    "start_time": "2024-10-31T18:52:06.856Z"
   },
   {
    "duration": 0,
    "start_time": "2024-10-31T18:52:06.856Z"
   },
   {
    "duration": 0,
    "start_time": "2024-10-31T18:52:06.857Z"
   },
   {
    "duration": 0,
    "start_time": "2024-10-31T18:52:06.858Z"
   },
   {
    "duration": 3,
    "start_time": "2024-10-31T18:52:37.795Z"
   },
   {
    "duration": 158,
    "start_time": "2024-10-31T18:52:37.801Z"
   },
   {
    "duration": 8,
    "start_time": "2024-10-31T18:52:37.961Z"
   },
   {
    "duration": 7,
    "start_time": "2024-10-31T18:52:37.970Z"
   },
   {
    "duration": 7,
    "start_time": "2024-10-31T18:52:37.979Z"
   },
   {
    "duration": 8,
    "start_time": "2024-10-31T18:52:37.988Z"
   },
   {
    "duration": 38,
    "start_time": "2024-10-31T18:52:37.997Z"
   },
   {
    "duration": 4,
    "start_time": "2024-10-31T18:52:38.037Z"
   },
   {
    "duration": 0,
    "start_time": "2024-10-31T18:52:38.044Z"
   },
   {
    "duration": 0,
    "start_time": "2024-10-31T18:52:38.045Z"
   },
   {
    "duration": 0,
    "start_time": "2024-10-31T18:52:38.046Z"
   },
   {
    "duration": 0,
    "start_time": "2024-10-31T18:52:38.048Z"
   },
   {
    "duration": 0,
    "start_time": "2024-10-31T18:52:38.049Z"
   },
   {
    "duration": 0,
    "start_time": "2024-10-31T18:52:38.050Z"
   },
   {
    "duration": 0,
    "start_time": "2024-10-31T18:52:38.051Z"
   },
   {
    "duration": 0,
    "start_time": "2024-10-31T18:52:38.052Z"
   },
   {
    "duration": 0,
    "start_time": "2024-10-31T18:52:38.053Z"
   },
   {
    "duration": 0,
    "start_time": "2024-10-31T18:52:38.054Z"
   },
   {
    "duration": 0,
    "start_time": "2024-10-31T18:52:38.055Z"
   },
   {
    "duration": 0,
    "start_time": "2024-10-31T18:52:38.056Z"
   },
   {
    "duration": 0,
    "start_time": "2024-10-31T18:52:38.057Z"
   },
   {
    "duration": 0,
    "start_time": "2024-10-31T18:52:38.059Z"
   },
   {
    "duration": 0,
    "start_time": "2024-10-31T18:52:38.059Z"
   },
   {
    "duration": 0,
    "start_time": "2024-10-31T18:52:38.060Z"
   },
   {
    "duration": 0,
    "start_time": "2024-10-31T18:52:38.061Z"
   },
   {
    "duration": 0,
    "start_time": "2024-10-31T18:52:38.062Z"
   },
   {
    "duration": 0,
    "start_time": "2024-10-31T18:52:38.063Z"
   },
   {
    "duration": 0,
    "start_time": "2024-10-31T18:52:38.064Z"
   },
   {
    "duration": 0,
    "start_time": "2024-10-31T18:52:38.066Z"
   },
   {
    "duration": 0,
    "start_time": "2024-10-31T18:52:38.067Z"
   },
   {
    "duration": 0,
    "start_time": "2024-10-31T18:52:38.068Z"
   },
   {
    "duration": 0,
    "start_time": "2024-10-31T18:52:38.070Z"
   },
   {
    "duration": 0,
    "start_time": "2024-10-31T18:52:38.072Z"
   },
   {
    "duration": 0,
    "start_time": "2024-10-31T18:52:38.072Z"
   },
   {
    "duration": 0,
    "start_time": "2024-10-31T18:52:38.073Z"
   },
   {
    "duration": 0,
    "start_time": "2024-10-31T18:52:38.125Z"
   },
   {
    "duration": 0,
    "start_time": "2024-10-31T18:52:38.127Z"
   },
   {
    "duration": 0,
    "start_time": "2024-10-31T18:52:38.128Z"
   },
   {
    "duration": 0,
    "start_time": "2024-10-31T18:52:38.129Z"
   },
   {
    "duration": 0,
    "start_time": "2024-10-31T18:52:38.130Z"
   },
   {
    "duration": 0,
    "start_time": "2024-10-31T18:52:38.132Z"
   },
   {
    "duration": 0,
    "start_time": "2024-10-31T18:52:38.133Z"
   },
   {
    "duration": 0,
    "start_time": "2024-10-31T18:52:38.134Z"
   },
   {
    "duration": 0,
    "start_time": "2024-10-31T18:52:38.136Z"
   },
   {
    "duration": 0,
    "start_time": "2024-10-31T18:52:38.137Z"
   },
   {
    "duration": 15,
    "start_time": "2024-10-31T18:52:56.608Z"
   },
   {
    "duration": 7,
    "start_time": "2024-10-31T18:53:03.759Z"
   },
   {
    "duration": 15,
    "start_time": "2024-10-31T18:53:03.768Z"
   },
   {
    "duration": 149,
    "start_time": "2024-10-31T18:53:03.785Z"
   },
   {
    "duration": 12,
    "start_time": "2024-10-31T18:53:03.936Z"
   },
   {
    "duration": 6,
    "start_time": "2024-10-31T18:53:03.949Z"
   },
   {
    "duration": 10,
    "start_time": "2024-10-31T18:53:03.956Z"
   },
   {
    "duration": 19,
    "start_time": "2024-10-31T18:53:03.967Z"
   },
   {
    "duration": 38,
    "start_time": "2024-10-31T18:53:03.987Z"
   },
   {
    "duration": 5,
    "start_time": "2024-10-31T18:53:04.029Z"
   },
   {
    "duration": 12,
    "start_time": "2024-10-31T18:53:04.036Z"
   },
   {
    "duration": 24,
    "start_time": "2024-10-31T18:53:04.049Z"
   },
   {
    "duration": 7,
    "start_time": "2024-10-31T18:53:04.074Z"
   },
   {
    "duration": 6,
    "start_time": "2024-10-31T18:53:04.083Z"
   },
   {
    "duration": 35,
    "start_time": "2024-10-31T18:53:04.090Z"
   },
   {
    "duration": 5,
    "start_time": "2024-10-31T18:53:04.127Z"
   },
   {
    "duration": 7,
    "start_time": "2024-10-31T18:53:04.134Z"
   },
   {
    "duration": 15,
    "start_time": "2024-10-31T18:53:04.143Z"
   },
   {
    "duration": 10,
    "start_time": "2024-10-31T18:53:04.160Z"
   },
   {
    "duration": 6,
    "start_time": "2024-10-31T18:53:04.171Z"
   },
   {
    "duration": 58,
    "start_time": "2024-10-31T18:53:04.179Z"
   },
   {
    "duration": 3,
    "start_time": "2024-10-31T18:53:04.239Z"
   },
   {
    "duration": 3,
    "start_time": "2024-10-31T18:53:04.244Z"
   },
   {
    "duration": 4,
    "start_time": "2024-10-31T18:53:04.248Z"
   },
   {
    "duration": 84,
    "start_time": "2024-10-31T18:53:04.256Z"
   },
   {
    "duration": 25,
    "start_time": "2024-10-31T18:53:04.341Z"
   },
   {
    "duration": 4,
    "start_time": "2024-10-31T18:53:04.368Z"
   },
   {
    "duration": 56,
    "start_time": "2024-10-31T18:53:04.373Z"
   },
   {
    "duration": 16,
    "start_time": "2024-10-31T18:53:04.431Z"
   },
   {
    "duration": 4,
    "start_time": "2024-10-31T18:53:04.448Z"
   },
   {
    "duration": 0,
    "start_time": "2024-10-31T18:53:04.453Z"
   },
   {
    "duration": 0,
    "start_time": "2024-10-31T18:53:04.455Z"
   },
   {
    "duration": 0,
    "start_time": "2024-10-31T18:53:04.456Z"
   },
   {
    "duration": 0,
    "start_time": "2024-10-31T18:53:04.457Z"
   },
   {
    "duration": 0,
    "start_time": "2024-10-31T18:53:04.458Z"
   },
   {
    "duration": 0,
    "start_time": "2024-10-31T18:53:04.459Z"
   },
   {
    "duration": 0,
    "start_time": "2024-10-31T18:53:04.460Z"
   },
   {
    "duration": 4,
    "start_time": "2024-10-31T18:53:36.646Z"
   },
   {
    "duration": 5,
    "start_time": "2024-10-31T18:54:33.199Z"
   },
   {
    "duration": 3,
    "start_time": "2024-10-31T18:54:42.039Z"
   },
   {
    "duration": 3,
    "start_time": "2024-10-31T18:54:56.476Z"
   },
   {
    "duration": 350,
    "start_time": "2024-10-31T18:56:39.849Z"
   },
   {
    "duration": 407,
    "start_time": "2024-10-31T18:59:35.932Z"
   },
   {
    "duration": 486,
    "start_time": "2024-10-31T19:01:04.228Z"
   },
   {
    "duration": 282,
    "start_time": "2024-10-31T19:01:41.135Z"
   },
   {
    "duration": 351,
    "start_time": "2024-10-31T19:09:47.291Z"
   },
   {
    "duration": 17,
    "start_time": "2024-10-31T19:14:03.390Z"
   },
   {
    "duration": 20,
    "start_time": "2024-10-31T19:14:31.182Z"
   },
   {
    "duration": 16,
    "start_time": "2024-10-31T19:14:44.509Z"
   },
   {
    "duration": 4,
    "start_time": "2024-10-31T19:15:46.393Z"
   },
   {
    "duration": 6,
    "start_time": "2024-10-31T19:16:06.477Z"
   },
   {
    "duration": 17,
    "start_time": "2024-10-31T19:18:30.415Z"
   },
   {
    "duration": 7,
    "start_time": "2024-10-31T19:19:01.581Z"
   },
   {
    "duration": 94,
    "start_time": "2024-10-31T19:19:30.012Z"
   },
   {
    "duration": 381,
    "start_time": "2024-10-31T19:30:45.399Z"
   },
   {
    "duration": 368,
    "start_time": "2024-10-31T19:33:37.140Z"
   },
   {
    "duration": 73,
    "start_time": "2024-10-31T19:45:15.686Z"
   },
   {
    "duration": 371,
    "start_time": "2024-10-31T19:49:19.392Z"
   },
   {
    "duration": 301,
    "start_time": "2024-10-31T19:49:28.443Z"
   },
   {
    "duration": 77,
    "start_time": "2024-10-31T19:49:39.604Z"
   },
   {
    "duration": 353,
    "start_time": "2024-10-31T19:58:00.482Z"
   },
   {
    "duration": 341,
    "start_time": "2024-10-31T19:58:11.897Z"
   },
   {
    "duration": 91,
    "start_time": "2024-10-31T19:58:38.182Z"
   },
   {
    "duration": 166,
    "start_time": "2024-11-02T03:38:38.051Z"
   },
   {
    "duration": 2565,
    "start_time": "2024-11-02T03:38:51.119Z"
   },
   {
    "duration": 215,
    "start_time": "2024-11-02T03:38:53.687Z"
   },
   {
    "duration": 9,
    "start_time": "2024-11-02T03:38:53.904Z"
   },
   {
    "duration": 9,
    "start_time": "2024-11-02T03:38:53.916Z"
   },
   {
    "duration": 8,
    "start_time": "2024-11-02T03:38:53.927Z"
   },
   {
    "duration": 7,
    "start_time": "2024-11-02T03:38:53.936Z"
   },
   {
    "duration": 10,
    "start_time": "2024-11-02T03:38:53.945Z"
   },
   {
    "duration": 44,
    "start_time": "2024-11-02T03:38:53.957Z"
   },
   {
    "duration": 7,
    "start_time": "2024-11-02T03:38:54.003Z"
   },
   {
    "duration": 15,
    "start_time": "2024-11-02T03:38:54.013Z"
   },
   {
    "duration": 162,
    "start_time": "2024-11-02T03:38:54.029Z"
   },
   {
    "duration": 11,
    "start_time": "2024-11-02T03:38:54.193Z"
   },
   {
    "duration": 5,
    "start_time": "2024-11-02T03:38:54.206Z"
   },
   {
    "duration": 9,
    "start_time": "2024-11-02T03:38:54.213Z"
   },
   {
    "duration": 19,
    "start_time": "2024-11-02T03:38:54.224Z"
   },
   {
    "duration": 42,
    "start_time": "2024-11-02T03:38:54.245Z"
   },
   {
    "duration": 6,
    "start_time": "2024-11-02T03:38:54.289Z"
   },
   {
    "duration": 12,
    "start_time": "2024-11-02T03:38:54.297Z"
   },
   {
    "duration": 24,
    "start_time": "2024-11-02T03:38:54.310Z"
   },
   {
    "duration": 6,
    "start_time": "2024-11-02T03:38:54.336Z"
   },
   {
    "duration": 6,
    "start_time": "2024-11-02T03:38:54.344Z"
   },
   {
    "duration": 37,
    "start_time": "2024-11-02T03:38:54.351Z"
   },
   {
    "duration": 6,
    "start_time": "2024-11-02T03:38:54.389Z"
   },
   {
    "duration": 6,
    "start_time": "2024-11-02T03:38:54.397Z"
   },
   {
    "duration": 15,
    "start_time": "2024-11-02T03:38:54.405Z"
   },
   {
    "duration": 9,
    "start_time": "2024-11-02T03:38:54.421Z"
   },
   {
    "duration": 6,
    "start_time": "2024-11-02T03:38:54.431Z"
   },
   {
    "duration": 57,
    "start_time": "2024-11-02T03:38:54.442Z"
   },
   {
    "duration": 3,
    "start_time": "2024-11-02T03:38:54.500Z"
   },
   {
    "duration": 3,
    "start_time": "2024-11-02T03:38:54.505Z"
   },
   {
    "duration": 2,
    "start_time": "2024-11-02T03:38:54.510Z"
   },
   {
    "duration": 74,
    "start_time": "2024-11-02T03:38:54.514Z"
   },
   {
    "duration": 23,
    "start_time": "2024-11-02T03:38:54.589Z"
   },
   {
    "duration": 3,
    "start_time": "2024-11-02T03:38:54.614Z"
   },
   {
    "duration": 41,
    "start_time": "2024-11-02T03:38:54.618Z"
   },
   {
    "duration": 41,
    "start_time": "2024-11-02T03:38:54.661Z"
   },
   {
    "duration": 369,
    "start_time": "2024-11-02T03:38:54.703Z"
   },
   {
    "duration": 338,
    "start_time": "2024-11-02T03:38:55.074Z"
   },
   {
    "duration": 8,
    "start_time": "2024-11-02T03:38:55.413Z"
   },
   {
    "duration": 145,
    "start_time": "2024-11-02T03:38:55.422Z"
   },
   {
    "duration": 369,
    "start_time": "2024-11-02T03:38:55.569Z"
   },
   {
    "duration": 355,
    "start_time": "2024-11-02T03:38:55.940Z"
   },
   {
    "duration": 75,
    "start_time": "2024-11-02T03:38:56.297Z"
   },
   {
    "duration": 362,
    "start_time": "2024-11-02T03:38:56.374Z"
   },
   {
    "duration": 360,
    "start_time": "2024-11-02T03:38:56.738Z"
   },
   {
    "duration": 90,
    "start_time": "2024-11-02T03:38:57.100Z"
   },
   {
    "duration": 333,
    "start_time": "2024-11-02T03:38:57.192Z"
   },
   {
    "duration": 403,
    "start_time": "2024-11-02T03:38:57.528Z"
   },
   {
    "duration": 91,
    "start_time": "2024-11-02T03:38:57.933Z"
   },
   {
    "duration": 7,
    "start_time": "2024-11-02T03:39:00.650Z"
   },
   {
    "duration": 9,
    "start_time": "2024-11-02T04:13:43.531Z"
   },
   {
    "duration": 9,
    "start_time": "2024-11-02T04:20:20.805Z"
   },
   {
    "duration": 5,
    "start_time": "2024-11-02T04:25:22.586Z"
   },
   {
    "duration": 75,
    "start_time": "2024-11-02T04:25:57.128Z"
   },
   {
    "duration": 5,
    "start_time": "2024-11-02T04:26:21.070Z"
   },
   {
    "duration": 4,
    "start_time": "2024-11-02T04:26:41.190Z"
   },
   {
    "duration": 6,
    "start_time": "2024-11-02T04:37:47.712Z"
   },
   {
    "duration": 3,
    "start_time": "2024-11-02T05:04:25.435Z"
   },
   {
    "duration": 153,
    "start_time": "2024-11-02T05:04:25.440Z"
   },
   {
    "duration": 8,
    "start_time": "2024-11-02T05:04:25.596Z"
   },
   {
    "duration": 9,
    "start_time": "2024-11-02T05:04:25.606Z"
   },
   {
    "duration": 8,
    "start_time": "2024-11-02T05:04:25.617Z"
   },
   {
    "duration": 7,
    "start_time": "2024-11-02T05:04:25.627Z"
   },
   {
    "duration": 11,
    "start_time": "2024-11-02T05:04:25.636Z"
   },
   {
    "duration": 52,
    "start_time": "2024-11-02T05:04:25.649Z"
   },
   {
    "duration": 8,
    "start_time": "2024-11-02T05:04:25.703Z"
   },
   {
    "duration": 16,
    "start_time": "2024-11-02T05:04:25.713Z"
   },
   {
    "duration": 156,
    "start_time": "2024-11-02T05:04:25.732Z"
   },
   {
    "duration": 12,
    "start_time": "2024-11-02T05:04:25.890Z"
   },
   {
    "duration": 6,
    "start_time": "2024-11-02T05:04:25.903Z"
   },
   {
    "duration": 10,
    "start_time": "2024-11-02T05:04:25.911Z"
   },
   {
    "duration": 20,
    "start_time": "2024-11-02T05:04:25.923Z"
   },
   {
    "duration": 46,
    "start_time": "2024-11-02T05:04:25.946Z"
   },
   {
    "duration": 7,
    "start_time": "2024-11-02T05:04:25.993Z"
   },
   {
    "duration": 12,
    "start_time": "2024-11-02T05:04:26.003Z"
   },
   {
    "duration": 24,
    "start_time": "2024-11-02T05:04:26.016Z"
   },
   {
    "duration": 7,
    "start_time": "2024-11-02T05:04:26.043Z"
   },
   {
    "duration": 40,
    "start_time": "2024-11-02T05:04:26.051Z"
   },
   {
    "duration": 6,
    "start_time": "2024-11-02T05:04:26.092Z"
   },
   {
    "duration": 5,
    "start_time": "2024-11-02T05:04:26.100Z"
   },
   {
    "duration": 6,
    "start_time": "2024-11-02T05:04:26.107Z"
   },
   {
    "duration": 15,
    "start_time": "2024-11-02T05:04:26.115Z"
   },
   {
    "duration": 9,
    "start_time": "2024-11-02T05:04:26.131Z"
   },
   {
    "duration": 7,
    "start_time": "2024-11-02T05:04:26.141Z"
   },
   {
    "duration": 20,
    "start_time": "2024-11-02T05:04:26.186Z"
   },
   {
    "duration": 2,
    "start_time": "2024-11-02T05:04:26.211Z"
   },
   {
    "duration": 3,
    "start_time": "2024-11-02T05:04:26.215Z"
   },
   {
    "duration": 3,
    "start_time": "2024-11-02T05:04:26.220Z"
   },
   {
    "duration": 85,
    "start_time": "2024-11-02T05:04:26.225Z"
   },
   {
    "duration": 23,
    "start_time": "2024-11-02T05:04:26.312Z"
   },
   {
    "duration": 3,
    "start_time": "2024-11-02T05:04:26.337Z"
   },
   {
    "duration": 57,
    "start_time": "2024-11-02T05:04:26.342Z"
   },
   {
    "duration": 17,
    "start_time": "2024-11-02T05:04:26.401Z"
   },
   {
    "duration": 362,
    "start_time": "2024-11-02T05:04:26.420Z"
   },
   {
    "duration": 333,
    "start_time": "2024-11-02T05:04:26.784Z"
   },
   {
    "duration": 7,
    "start_time": "2024-11-02T05:04:27.119Z"
   },
   {
    "duration": 91,
    "start_time": "2024-11-02T05:04:27.128Z"
   },
   {
    "duration": 376,
    "start_time": "2024-11-02T05:04:27.221Z"
   },
   {
    "duration": 311,
    "start_time": "2024-11-02T05:04:27.599Z"
   },
   {
    "duration": 81,
    "start_time": "2024-11-02T05:04:27.912Z"
   },
   {
    "duration": 367,
    "start_time": "2024-11-02T05:04:27.995Z"
   },
   {
    "duration": 335,
    "start_time": "2024-11-02T05:04:28.364Z"
   },
   {
    "duration": 89,
    "start_time": "2024-11-02T05:04:28.701Z"
   },
   {
    "duration": 335,
    "start_time": "2024-11-02T05:04:28.792Z"
   },
   {
    "duration": 337,
    "start_time": "2024-11-02T05:04:29.129Z"
   },
   {
    "duration": 84,
    "start_time": "2024-11-02T05:04:29.468Z"
   },
   {
    "duration": 8,
    "start_time": "2024-11-02T05:04:29.554Z"
   },
   {
    "duration": 5,
    "start_time": "2024-11-02T05:04:29.564Z"
   }
  ],
  "colab": {
   "provenance": []
  },
  "kernelspec": {
   "display_name": "Python 3 (ipykernel)",
   "language": "python",
   "name": "python3"
  },
  "language_info": {
   "codemirror_mode": {
    "name": "ipython",
    "version": 3
   },
   "file_extension": ".py",
   "mimetype": "text/x-python",
   "name": "python",
   "nbconvert_exporter": "python",
   "pygments_lexer": "ipython3",
   "version": "3.9.19"
  },
  "toc": {
   "base_numbering": 1,
   "nav_menu": {},
   "number_sections": true,
   "sideBar": true,
   "skip_h1_title": false,
   "title_cell": "Table of Contents",
   "title_sidebar": "Contents",
   "toc_cell": false,
   "toc_position": {},
   "toc_section_display": true,
   "toc_window_display": true
  }
 },
 "nbformat": 4,
 "nbformat_minor": 1
}
