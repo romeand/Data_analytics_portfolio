{
 "cells": [
  {
   "cell_type": "markdown",
   "metadata": {},
   "source": [
    "<b>¡Hola Andres!</b>\n",
    "\n",
    "Mi nombre es Alejandro Abia y tengo el gusto de revisar tu proyecto.\n",
    "\n",
    "A continuación, encontrarás mis comentarios en celdas pintadas de tres colores (verde, amarillo y rojo), a manera de semáforo. Por favor, <b>no las borres ni muevas de posición</b> mientras dure el proceso de revisión.\n",
    "\n",
    "<div class=\"alert alert-block alert-success\">\n",
    "<b>Éxito</b> <a class=\"tocSkip\"></a>\n",
    "En celdas verdes encontrarás comentarios en relación a tus aciertos y fortalezas.\n",
    "</div>\n",
    "<div class=\"alert alert-block alert-warning\">\n",
    "<b>Antención</b> <a class=\"tocSkip\"></a>\n",
    "Utilizaré el color amarillo para llamar tu atención, expresar algo importante o compartirte alguna idea de valor.\n",
    "</div>\n",
    "<div class=\"alert alert-block alert-danger\">\n",
    "<b>A resolver</b> <a class=\"tocSkip\"></a>\n",
    "En rojo emitiré aquellos puntos que deberás atender para aprobar la revisión.\n",
    "</div>\n",
    "<div class=\"alert alert-block alert-info\">\n",
    "<b>Comentario estudiante</b><a class=\"tocSkip\"></a>\n",
    "Es factible que, a lo largo del proceso de revisión, quieras dejarme comentarios. Si es el caso, por favor realízalo dentro de celdas azules como esta.\n",
    "</div>\n",
    "Respecto del proceso de revisión, tu proyecto será aceptado una vez que los comentarios en rojo hayan sido atendidos.\n",
    "¡Empecemos!\n",
    "\n",
    "______________"
   ]
  },
  {
   "cell_type": "code",
   "execution_count": 1,
   "metadata": {
    "tags": [
     "e5c1f0c2-db9f-43a0-99b9-4875c52427e8"
    ]
   },
   "outputs": [],
   "source": [
    "# Para comenzar cargaremos todas las librerías\n",
    "import pandas as pd\n",
    "from matplotlib import pyplot as plt\n",
    "import numpy as np\n",
    "import seaborn as sns\n",
    "from math import factorial\n",
    "from scipy import stats as st\n",
    "\n"
   ]
  },
  {
   "cell_type": "markdown",
   "metadata": {},
   "source": [
    "Cargaremos los datos en un Df.Afortunadamente parece un DF no tan complejo y se encuentra en una sola ruta de acceso."
   ]
  },
  {
   "cell_type": "code",
   "execution_count": 2,
   "metadata": {},
   "outputs": [],
   "source": [
    "vg=pd.read_csv('/datasets/games.csv')"
   ]
  },
  {
   "cell_type": "markdown",
   "metadata": {},
   "source": [
    "## Exploración inicial de datos."
   ]
  },
  {
   "cell_type": "code",
   "execution_count": 3,
   "metadata": {
    "scrolled": true
   },
   "outputs": [
    {
     "name": "stdout",
     "output_type": "stream",
     "text": [
      "<class 'pandas.core.frame.DataFrame'>\n",
      "RangeIndex: 16715 entries, 0 to 16714\n",
      "Data columns (total 11 columns):\n",
      " #   Column           Non-Null Count  Dtype  \n",
      "---  ------           --------------  -----  \n",
      " 0   Name             16713 non-null  object \n",
      " 1   Platform         16715 non-null  object \n",
      " 2   Year_of_Release  16446 non-null  float64\n",
      " 3   Genre            16713 non-null  object \n",
      " 4   NA_sales         16715 non-null  float64\n",
      " 5   EU_sales         16715 non-null  float64\n",
      " 6   JP_sales         16715 non-null  float64\n",
      " 7   Other_sales      16715 non-null  float64\n",
      " 8   Critic_Score     8137 non-null   float64\n",
      " 9   User_Score       10014 non-null  object \n",
      " 10  Rating           9949 non-null   object \n",
      "dtypes: float64(6), object(5)\n",
      "memory usage: 1.4+ MB\n",
      "\n"
     ]
    },
    {
     "data": {
      "text/html": [
       "<div>\n",
       "<style scoped>\n",
       "    .dataframe tbody tr th:only-of-type {\n",
       "        vertical-align: middle;\n",
       "    }\n",
       "\n",
       "    .dataframe tbody tr th {\n",
       "        vertical-align: top;\n",
       "    }\n",
       "\n",
       "    .dataframe thead th {\n",
       "        text-align: right;\n",
       "    }\n",
       "</style>\n",
       "<table border=\"1\" class=\"dataframe\">\n",
       "  <thead>\n",
       "    <tr style=\"text-align: right;\">\n",
       "      <th></th>\n",
       "      <th>Name</th>\n",
       "      <th>Platform</th>\n",
       "      <th>Year_of_Release</th>\n",
       "      <th>Genre</th>\n",
       "      <th>NA_sales</th>\n",
       "      <th>EU_sales</th>\n",
       "      <th>JP_sales</th>\n",
       "      <th>Other_sales</th>\n",
       "      <th>Critic_Score</th>\n",
       "      <th>User_Score</th>\n",
       "      <th>Rating</th>\n",
       "    </tr>\n",
       "  </thead>\n",
       "  <tbody>\n",
       "    <tr>\n",
       "      <th>0</th>\n",
       "      <td>Wii Sports</td>\n",
       "      <td>Wii</td>\n",
       "      <td>2006.0</td>\n",
       "      <td>Sports</td>\n",
       "      <td>41.36</td>\n",
       "      <td>28.96</td>\n",
       "      <td>3.77</td>\n",
       "      <td>8.45</td>\n",
       "      <td>76.0</td>\n",
       "      <td>8</td>\n",
       "      <td>E</td>\n",
       "    </tr>\n",
       "    <tr>\n",
       "      <th>1</th>\n",
       "      <td>Super Mario Bros.</td>\n",
       "      <td>NES</td>\n",
       "      <td>1985.0</td>\n",
       "      <td>Platform</td>\n",
       "      <td>29.08</td>\n",
       "      <td>3.58</td>\n",
       "      <td>6.81</td>\n",
       "      <td>0.77</td>\n",
       "      <td>NaN</td>\n",
       "      <td>NaN</td>\n",
       "      <td>NaN</td>\n",
       "    </tr>\n",
       "    <tr>\n",
       "      <th>2</th>\n",
       "      <td>Mario Kart Wii</td>\n",
       "      <td>Wii</td>\n",
       "      <td>2008.0</td>\n",
       "      <td>Racing</td>\n",
       "      <td>15.68</td>\n",
       "      <td>12.76</td>\n",
       "      <td>3.79</td>\n",
       "      <td>3.29</td>\n",
       "      <td>82.0</td>\n",
       "      <td>8.3</td>\n",
       "      <td>E</td>\n",
       "    </tr>\n",
       "    <tr>\n",
       "      <th>3</th>\n",
       "      <td>Wii Sports Resort</td>\n",
       "      <td>Wii</td>\n",
       "      <td>2009.0</td>\n",
       "      <td>Sports</td>\n",
       "      <td>15.61</td>\n",
       "      <td>10.93</td>\n",
       "      <td>3.28</td>\n",
       "      <td>2.95</td>\n",
       "      <td>80.0</td>\n",
       "      <td>8</td>\n",
       "      <td>E</td>\n",
       "    </tr>\n",
       "    <tr>\n",
       "      <th>4</th>\n",
       "      <td>Pokemon Red/Pokemon Blue</td>\n",
       "      <td>GB</td>\n",
       "      <td>1996.0</td>\n",
       "      <td>Role-Playing</td>\n",
       "      <td>11.27</td>\n",
       "      <td>8.89</td>\n",
       "      <td>10.22</td>\n",
       "      <td>1.00</td>\n",
       "      <td>NaN</td>\n",
       "      <td>NaN</td>\n",
       "      <td>NaN</td>\n",
       "    </tr>\n",
       "  </tbody>\n",
       "</table>\n",
       "</div>"
      ],
      "text/plain": [
       "                       Name Platform  Year_of_Release         Genre  NA_sales  \\\n",
       "0                Wii Sports      Wii           2006.0        Sports     41.36   \n",
       "1         Super Mario Bros.      NES           1985.0      Platform     29.08   \n",
       "2            Mario Kart Wii      Wii           2008.0        Racing     15.68   \n",
       "3         Wii Sports Resort      Wii           2009.0        Sports     15.61   \n",
       "4  Pokemon Red/Pokemon Blue       GB           1996.0  Role-Playing     11.27   \n",
       "\n",
       "   EU_sales  JP_sales  Other_sales  Critic_Score User_Score Rating  \n",
       "0     28.96      3.77         8.45          76.0          8      E  \n",
       "1      3.58      6.81         0.77           NaN        NaN    NaN  \n",
       "2     12.76      3.79         3.29          82.0        8.3      E  \n",
       "3     10.93      3.28         2.95          80.0          8      E  \n",
       "4      8.89     10.22         1.00           NaN        NaN    NaN  "
      ]
     },
     "execution_count": 3,
     "metadata": {},
     "output_type": "execute_result"
    }
   ],
   "source": [
    "vg.info()\n",
    "print()\n",
    "vg.head()"
   ]
  },
  {
   "cell_type": "markdown",
   "metadata": {},
   "source": [
    "<div class=\"alert alert-block alert-success\">\n",
    "<b>Éxito</b> <a class=\"tocSkip\"></a>\n",
    "Excelente uso de <code>vg.info()</code> y <code>vg.head()</code> para explorar el DataFrame. Identificaste correctamente las columnas con valores ausentes y mencionaste ideas preliminares para enriquecer los datos, como agregar columnas de ventas totales y promediar puntuaciones. Esto demuestra un buen entendimiento inicial de los datos. </div>"
   ]
  },
  {
   "cell_type": "markdown",
   "metadata": {},
   "source": [
    "En un análisis muy inicial llama la atención que en 'year of release','critic Score' y 'rating' son las columnas donde observamos valores ausentes, por lo que habrá que confirmar ello o ver de qué se trata. Por otro lado year of release está en float por lo que conviene convertir a entero por tratarse de años.Las ventas están desagregadas por región por lo que podría considerarse agregar columnas con ventas totales (todas las regiones)y quizá adecuar los datos de critic y user score para quizá agregar una columna promediada de ambos ratings. Esto último es solo una idea para enriquecer nuestro data set y conforme se avance podremos confirmar o no si es necesario/ o buena propuesta."
   ]
  },
  {
   "cell_type": "markdown",
   "metadata": {},
   "source": [
    "## Corrección de datos"
   ]
  },
  {
   "cell_type": "markdown",
   "metadata": {},
   "source": [
    "<div class=\"alert alert-block alert-success\">\n",
    "<b>Éxito</b> <a class=\"tocSkip\"></a>\n",
    "El cambio de mayúsculas a minúsculas en nombres de columnas y la conversión de tipos de datos son pasos bien ejecutados. También es positivo que justificaste el uso de la mediana para llenar valores ausentes, explicando que es menos sensible a outliers. </div>\n",
    "\n",
    "<div class=\"alert alert-block alert-warning\">\n",
    "<b>Atención</b> <a class=\"tocSkip\"></a>\n",
    "Optaste por rellenar valores ausentes de <code>critic_score</code> y <code>user_score</code> con medianas por año, pero sería útil validar cómo impacta esta decisión en el análisis posterior. Incluir un breve análisis sobre cómo cambian las estadísticas descriptivas después de esta imputación podría fortalecer tu argumentación.</div>\n",
    "\n",
    "<div class=\"alert alert-block alert-warning\">\n",
    "<b>A resolver</b> <a class=\"tocSkip\"></a>\n",
    "Cuando imputaste valores de <code>critic_score</code> por año, usaste una solución generalizada, pero algunas categorías como plataformas o géneros podrían beneficiarse de imputaciones específicas. En futuras iteraciones, sería ideal incluir análisis para justificar por qué una imputación general por año es mejor que una segmentada.</div>\n"
   ]
  },
  {
   "cell_type": "code",
   "execution_count": 4,
   "metadata": {},
   "outputs": [
    {
     "name": "stdout",
     "output_type": "stream",
     "text": [
      "Index(['name', 'platform', 'year_of_release', 'genre', 'na_sales', 'eu_sales',\n",
      "       'jp_sales', 'other_sales', 'critic_score', 'user_score', 'rating'],\n",
      "      dtype='object')\n"
     ]
    },
    {
     "data": {
      "text/html": [
       "<div>\n",
       "<style scoped>\n",
       "    .dataframe tbody tr th:only-of-type {\n",
       "        vertical-align: middle;\n",
       "    }\n",
       "\n",
       "    .dataframe tbody tr th {\n",
       "        vertical-align: top;\n",
       "    }\n",
       "\n",
       "    .dataframe thead th {\n",
       "        text-align: right;\n",
       "    }\n",
       "</style>\n",
       "<table border=\"1\" class=\"dataframe\">\n",
       "  <thead>\n",
       "    <tr style=\"text-align: right;\">\n",
       "      <th></th>\n",
       "      <th>name</th>\n",
       "      <th>platform</th>\n",
       "      <th>year_of_release</th>\n",
       "      <th>genre</th>\n",
       "      <th>na_sales</th>\n",
       "      <th>eu_sales</th>\n",
       "      <th>jp_sales</th>\n",
       "      <th>other_sales</th>\n",
       "      <th>critic_score</th>\n",
       "      <th>user_score</th>\n",
       "      <th>rating</th>\n",
       "    </tr>\n",
       "  </thead>\n",
       "  <tbody>\n",
       "    <tr>\n",
       "      <th>0</th>\n",
       "      <td>Wii Sports</td>\n",
       "      <td>Wii</td>\n",
       "      <td>2006.0</td>\n",
       "      <td>Sports</td>\n",
       "      <td>41.36</td>\n",
       "      <td>28.96</td>\n",
       "      <td>3.77</td>\n",
       "      <td>8.45</td>\n",
       "      <td>76.0</td>\n",
       "      <td>8</td>\n",
       "      <td>E</td>\n",
       "    </tr>\n",
       "    <tr>\n",
       "      <th>1</th>\n",
       "      <td>Super Mario Bros.</td>\n",
       "      <td>NES</td>\n",
       "      <td>1985.0</td>\n",
       "      <td>Platform</td>\n",
       "      <td>29.08</td>\n",
       "      <td>3.58</td>\n",
       "      <td>6.81</td>\n",
       "      <td>0.77</td>\n",
       "      <td>NaN</td>\n",
       "      <td>NaN</td>\n",
       "      <td>NaN</td>\n",
       "    </tr>\n",
       "    <tr>\n",
       "      <th>2</th>\n",
       "      <td>Mario Kart Wii</td>\n",
       "      <td>Wii</td>\n",
       "      <td>2008.0</td>\n",
       "      <td>Racing</td>\n",
       "      <td>15.68</td>\n",
       "      <td>12.76</td>\n",
       "      <td>3.79</td>\n",
       "      <td>3.29</td>\n",
       "      <td>82.0</td>\n",
       "      <td>8.3</td>\n",
       "      <td>E</td>\n",
       "    </tr>\n",
       "    <tr>\n",
       "      <th>3</th>\n",
       "      <td>Wii Sports Resort</td>\n",
       "      <td>Wii</td>\n",
       "      <td>2009.0</td>\n",
       "      <td>Sports</td>\n",
       "      <td>15.61</td>\n",
       "      <td>10.93</td>\n",
       "      <td>3.28</td>\n",
       "      <td>2.95</td>\n",
       "      <td>80.0</td>\n",
       "      <td>8</td>\n",
       "      <td>E</td>\n",
       "    </tr>\n",
       "    <tr>\n",
       "      <th>4</th>\n",
       "      <td>Pokemon Red/Pokemon Blue</td>\n",
       "      <td>GB</td>\n",
       "      <td>1996.0</td>\n",
       "      <td>Role-Playing</td>\n",
       "      <td>11.27</td>\n",
       "      <td>8.89</td>\n",
       "      <td>10.22</td>\n",
       "      <td>1.00</td>\n",
       "      <td>NaN</td>\n",
       "      <td>NaN</td>\n",
       "      <td>NaN</td>\n",
       "    </tr>\n",
       "  </tbody>\n",
       "</table>\n",
       "</div>"
      ],
      "text/plain": [
       "                       name platform  year_of_release         genre  na_sales  \\\n",
       "0                Wii Sports      Wii           2006.0        Sports     41.36   \n",
       "1         Super Mario Bros.      NES           1985.0      Platform     29.08   \n",
       "2            Mario Kart Wii      Wii           2008.0        Racing     15.68   \n",
       "3         Wii Sports Resort      Wii           2009.0        Sports     15.61   \n",
       "4  Pokemon Red/Pokemon Blue       GB           1996.0  Role-Playing     11.27   \n",
       "\n",
       "   eu_sales  jp_sales  other_sales  critic_score user_score rating  \n",
       "0     28.96      3.77         8.45          76.0          8      E  \n",
       "1      3.58      6.81         0.77           NaN        NaN    NaN  \n",
       "2     12.76      3.79         3.29          82.0        8.3      E  \n",
       "3     10.93      3.28         2.95          80.0          8      E  \n",
       "4      8.89     10.22         1.00           NaN        NaN    NaN  "
      ]
     },
     "execution_count": 4,
     "metadata": {},
     "output_type": "execute_result"
    }
   ],
   "source": [
    "#Cambiamos de mayúsculas a minúsculas los nombres de columnas\n",
    "columns_new ={\n",
    "    \"Name\": \"name\",\n",
    "    \"Platform\": \"platform\",\n",
    "    \"Year_of_Release\": \"year_of_release\",\n",
    "    \"Genre\":\"genre\",\n",
    "    \"NA_sales\":\"na_sales\",\n",
    "    \"EU_sales\":\"eu_sales\",\n",
    "    \"JP_sales\":\"jp_sales\",\n",
    "    \"Other_sales\":\"other_sales\",\n",
    "    \"Critic_Score\":\"critic_score\",\n",
    "    \"User_Score\":\"user_score\",\n",
    "    \"Rating\":\"rating\",\n",
    "    }\n",
    "\n",
    "# Llama al método rename y pasa\n",
    "# el diccionario como un argumento al parámetro columns\n",
    "# y True como un argumento al parámetro inplace\n",
    "vg.rename(columns = columns_new, inplace = True)\n",
    "print(vg.columns)\n",
    "vg.head()"
   ]
  },
  {
   "cell_type": "code",
   "execution_count": 5,
   "metadata": {},
   "outputs": [
    {
     "data": {
      "text/plain": [
       "array([2006., 1985., 2008., 2009., 1996., 1989., 1984., 2005., 1999.,\n",
       "       2007., 2010., 2013., 2004., 1990., 1988., 2002., 2001., 2011.,\n",
       "       1998., 2015., 2012., 2014., 1992., 1997., 1993., 1994., 1982.,\n",
       "       2016., 2003., 1986., 2000.,   nan, 1995., 1991., 1981., 1987.,\n",
       "       1980., 1983.])"
      ]
     },
     "execution_count": 5,
     "metadata": {},
     "output_type": "execute_result"
    }
   ],
   "source": [
    "#Procedemos a cambiar el tipo de datos de la columna \"year_of_release\" para que sean de float a interger.Previo a ello depuramos los Nan que pueda tener.En este caso optamos por cambiar los Nan por un valor que no afecte nuestro análisis como 9999.\n",
    "vg['year_of_release'].unique()"
   ]
  },
  {
   "cell_type": "code",
   "execution_count": 6,
   "metadata": {},
   "outputs": [],
   "source": [
    "vg['year_of_release'] = vg['year_of_release'].fillna(9999).astype(int)"
   ]
  },
  {
   "cell_type": "code",
   "execution_count": 7,
   "metadata": {},
   "outputs": [
    {
     "name": "stdout",
     "output_type": "stream",
     "text": [
      "<class 'pandas.core.frame.DataFrame'>\n",
      "RangeIndex: 16715 entries, 0 to 16714\n",
      "Data columns (total 11 columns):\n",
      " #   Column           Non-Null Count  Dtype  \n",
      "---  ------           --------------  -----  \n",
      " 0   name             16713 non-null  object \n",
      " 1   platform         16715 non-null  object \n",
      " 2   year_of_release  16715 non-null  int64  \n",
      " 3   genre            16713 non-null  object \n",
      " 4   na_sales         16715 non-null  float64\n",
      " 5   eu_sales         16715 non-null  float64\n",
      " 6   jp_sales         16715 non-null  float64\n",
      " 7   other_sales      16715 non-null  float64\n",
      " 8   critic_score     8137 non-null   float64\n",
      " 9   user_score       10014 non-null  object \n",
      " 10  rating           9949 non-null   object \n",
      "dtypes: float64(5), int64(1), object(5)\n",
      "memory usage: 1.4+ MB\n",
      "\n"
     ]
    },
    {
     "data": {
      "text/html": [
       "<div>\n",
       "<style scoped>\n",
       "    .dataframe tbody tr th:only-of-type {\n",
       "        vertical-align: middle;\n",
       "    }\n",
       "\n",
       "    .dataframe tbody tr th {\n",
       "        vertical-align: top;\n",
       "    }\n",
       "\n",
       "    .dataframe thead th {\n",
       "        text-align: right;\n",
       "    }\n",
       "</style>\n",
       "<table border=\"1\" class=\"dataframe\">\n",
       "  <thead>\n",
       "    <tr style=\"text-align: right;\">\n",
       "      <th></th>\n",
       "      <th>name</th>\n",
       "      <th>platform</th>\n",
       "      <th>year_of_release</th>\n",
       "      <th>genre</th>\n",
       "      <th>na_sales</th>\n",
       "      <th>eu_sales</th>\n",
       "      <th>jp_sales</th>\n",
       "      <th>other_sales</th>\n",
       "      <th>critic_score</th>\n",
       "      <th>user_score</th>\n",
       "      <th>rating</th>\n",
       "    </tr>\n",
       "  </thead>\n",
       "  <tbody>\n",
       "    <tr>\n",
       "      <th>0</th>\n",
       "      <td>Wii Sports</td>\n",
       "      <td>Wii</td>\n",
       "      <td>2006</td>\n",
       "      <td>Sports</td>\n",
       "      <td>41.36</td>\n",
       "      <td>28.96</td>\n",
       "      <td>3.77</td>\n",
       "      <td>8.45</td>\n",
       "      <td>76.0</td>\n",
       "      <td>8</td>\n",
       "      <td>E</td>\n",
       "    </tr>\n",
       "    <tr>\n",
       "      <th>1</th>\n",
       "      <td>Super Mario Bros.</td>\n",
       "      <td>NES</td>\n",
       "      <td>1985</td>\n",
       "      <td>Platform</td>\n",
       "      <td>29.08</td>\n",
       "      <td>3.58</td>\n",
       "      <td>6.81</td>\n",
       "      <td>0.77</td>\n",
       "      <td>NaN</td>\n",
       "      <td>NaN</td>\n",
       "      <td>NaN</td>\n",
       "    </tr>\n",
       "    <tr>\n",
       "      <th>2</th>\n",
       "      <td>Mario Kart Wii</td>\n",
       "      <td>Wii</td>\n",
       "      <td>2008</td>\n",
       "      <td>Racing</td>\n",
       "      <td>15.68</td>\n",
       "      <td>12.76</td>\n",
       "      <td>3.79</td>\n",
       "      <td>3.29</td>\n",
       "      <td>82.0</td>\n",
       "      <td>8.3</td>\n",
       "      <td>E</td>\n",
       "    </tr>\n",
       "    <tr>\n",
       "      <th>3</th>\n",
       "      <td>Wii Sports Resort</td>\n",
       "      <td>Wii</td>\n",
       "      <td>2009</td>\n",
       "      <td>Sports</td>\n",
       "      <td>15.61</td>\n",
       "      <td>10.93</td>\n",
       "      <td>3.28</td>\n",
       "      <td>2.95</td>\n",
       "      <td>80.0</td>\n",
       "      <td>8</td>\n",
       "      <td>E</td>\n",
       "    </tr>\n",
       "    <tr>\n",
       "      <th>4</th>\n",
       "      <td>Pokemon Red/Pokemon Blue</td>\n",
       "      <td>GB</td>\n",
       "      <td>1996</td>\n",
       "      <td>Role-Playing</td>\n",
       "      <td>11.27</td>\n",
       "      <td>8.89</td>\n",
       "      <td>10.22</td>\n",
       "      <td>1.00</td>\n",
       "      <td>NaN</td>\n",
       "      <td>NaN</td>\n",
       "      <td>NaN</td>\n",
       "    </tr>\n",
       "  </tbody>\n",
       "</table>\n",
       "</div>"
      ],
      "text/plain": [
       "                       name platform  year_of_release         genre  na_sales  \\\n",
       "0                Wii Sports      Wii             2006        Sports     41.36   \n",
       "1         Super Mario Bros.      NES             1985      Platform     29.08   \n",
       "2            Mario Kart Wii      Wii             2008        Racing     15.68   \n",
       "3         Wii Sports Resort      Wii             2009        Sports     15.61   \n",
       "4  Pokemon Red/Pokemon Blue       GB             1996  Role-Playing     11.27   \n",
       "\n",
       "   eu_sales  jp_sales  other_sales  critic_score user_score rating  \n",
       "0     28.96      3.77         8.45          76.0          8      E  \n",
       "1      3.58      6.81         0.77           NaN        NaN    NaN  \n",
       "2     12.76      3.79         3.29          82.0        8.3      E  \n",
       "3     10.93      3.28         2.95          80.0          8      E  \n",
       "4      8.89     10.22         1.00           NaN        NaN    NaN  "
      ]
     },
     "execution_count": 7,
     "metadata": {},
     "output_type": "execute_result"
    }
   ],
   "source": [
    "vg.info()\n",
    "print()\n",
    "vg.head()"
   ]
  },
  {
   "cell_type": "code",
   "execution_count": 8,
   "metadata": {},
   "outputs": [
    {
     "data": {
      "text/plain": [
       "array(['Wii', 'NES', 'GB', 'DS', 'X360', 'PS3', 'PS2', 'SNES', 'GBA',\n",
       "       'PS4', '3DS', 'N64', 'PS', 'XB', 'PC', '2600', 'PSP', 'XOne',\n",
       "       'WiiU', 'GC', 'GEN', 'DC', 'PSV', 'SAT', 'SCD', 'WS', 'NG', 'TG16',\n",
       "       '3DO', 'GG', 'PCFX'], dtype=object)"
      ]
     },
     "execution_count": 8,
     "metadata": {},
     "output_type": "execute_result"
    }
   ],
   "source": [
    "#Ahora comprobamos que los valores unicos de la columna platform para determinar la conversión a minusculas.\n",
    "vg['platform'].unique()"
   ]
  },
  {
   "cell_type": "code",
   "execution_count": 9,
   "metadata": {},
   "outputs": [
    {
     "name": "stdout",
     "output_type": "stream",
     "text": [
      "0    Wii\n",
      "1    NES\n",
      "2    Wii\n",
      "3    Wii\n",
      "4     GB\n",
      "Name: platform, dtype: category\n",
      "Categories (31, object): ['2600', '3DO', '3DS', 'DC', ..., 'WiiU', 'X360', 'XB', 'XOne']\n"
     ]
    }
   ],
   "source": [
    "#Parece no haber problema sin embargo para facilitar posibles cálculos optaremos por convertir la columna platform de object a category.\n",
    "vg['platform'] = vg['platform'].astype('category')\n",
    "print(vg['platform'].head())"
   ]
  },
  {
   "cell_type": "code",
   "execution_count": 10,
   "metadata": {},
   "outputs": [
    {
     "name": "stdout",
     "output_type": "stream",
     "text": [
      "0          Sports\n",
      "1        Platform\n",
      "2          Racing\n",
      "3          Sports\n",
      "4    Role-Playing\n",
      "Name: genre, dtype: category\n",
      "Categories (12, object): ['Action', 'Adventure', 'Fighting', 'Misc', ..., 'Shooter', 'Simulation', 'Sports', 'Strategy']\n"
     ]
    }
   ],
   "source": [
    "#Haremos lo mismo con la columna 'genre'\n",
    "vg['genre'] = vg['genre'].astype('category')\n",
    "print(vg['genre'].head())"
   ]
  },
  {
   "cell_type": "code",
   "execution_count": 11,
   "metadata": {},
   "outputs": [],
   "source": [
    "#Por lo pronto dejaremos las columnas de ventas por regiones como float ya que no se percibe que obstaculicen el análisis."
   ]
  },
  {
   "cell_type": "markdown",
   "metadata": {},
   "source": [
    "Valores ausentes\n",
    "#Procederemos a analizar cómo rellenar los valores ausentes.Exploramos un poco los NaN para saber como proceder con ellos."
   ]
  },
  {
   "cell_type": "code",
   "execution_count": 12,
   "metadata": {},
   "outputs": [
    {
     "data": {
      "text/plain": [
       "8578"
      ]
     },
     "execution_count": 12,
     "metadata": {},
     "output_type": "execute_result"
    }
   ],
   "source": [
    "vg['critic_score'].isna().sum()"
   ]
  },
  {
   "cell_type": "code",
   "execution_count": 13,
   "metadata": {},
   "outputs": [
    {
     "name": "stdout",
     "output_type": "stream",
     "text": [
      "year_of_release\n",
      "1980      9\n",
      "1981     46\n",
      "1982     36\n",
      "1983     17\n",
      "1984     14\n",
      "1985     13\n",
      "1986     21\n",
      "1987     16\n",
      "1988     14\n",
      "1989     17\n",
      "1990     16\n",
      "1991     41\n",
      "1992     42\n",
      "1993     62\n",
      "1994    120\n",
      "1995    219\n",
      "1996    255\n",
      "1997    272\n",
      "1998    351\n",
      "1999    299\n",
      "2000    207\n",
      "2001    156\n",
      "2002    202\n",
      "2003    190\n",
      "2004    201\n",
      "2005    284\n",
      "2006    386\n",
      "2007    505\n",
      "2008    712\n",
      "2009    775\n",
      "2010    755\n",
      "2011    636\n",
      "2012    332\n",
      "2013    271\n",
      "2014    320\n",
      "2015    381\n",
      "2016    270\n",
      "9999    115\n",
      "Name: critic_score, dtype: int64\n"
     ]
    }
   ],
   "source": [
    "isna_year=vg['critic_score'].isna().groupby(vg['year_of_release']).sum()\n",
    "print(isna_year)"
   ]
  },
  {
   "cell_type": "code",
   "execution_count": 14,
   "metadata": {},
   "outputs": [
    {
     "name": "stdout",
     "output_type": "stream",
     "text": [
      "platform\n",
      "2600     133\n",
      "3DO        3\n",
      "3DS      352\n",
      "DC        38\n",
      "DS      1434\n",
      "GB        98\n",
      "GBA      384\n",
      "GC       108\n",
      "GEN       29\n",
      "GG         1\n",
      "N64      319\n",
      "NES       98\n",
      "NG        12\n",
      "PC       259\n",
      "PCFX       1\n",
      "PS       997\n",
      "PS2      863\n",
      "PS3      511\n",
      "PS4      140\n",
      "PSP      747\n",
      "PSV      310\n",
      "SAT      173\n",
      "SCD        6\n",
      "SNES     239\n",
      "TG16       2\n",
      "WS         6\n",
      "Wii      735\n",
      "WiiU      57\n",
      "X360     346\n",
      "XB        99\n",
      "XOne      78\n",
      "Name: critic_score, dtype: int64\n"
     ]
    }
   ],
   "source": [
    "isna_platform=vg['critic_score'].isna().groupby(vg['platform']).sum()\n",
    "print(isna_platform)"
   ]
  },
  {
   "cell_type": "code",
   "execution_count": 15,
   "metadata": {},
   "outputs": [
    {
     "name": "stdout",
     "output_type": "stream",
     "text": [
      "genre\n",
      "Action          1479\n",
      "Adventure        980\n",
      "Fighting         440\n",
      "Misc            1227\n",
      "Platform         391\n",
      "Puzzle           356\n",
      "Racing           507\n",
      "Role-Playing     761\n",
      "Shooter          379\n",
      "Simulation       521\n",
      "Sports          1154\n",
      "Strategy         381\n",
      "Name: critic_score, dtype: int64\n"
     ]
    }
   ],
   "source": [
    "isna_genre=vg['critic_score'].isna().groupby(vg['genre']).sum()\n",
    "print(isna_genre)"
   ]
  },
  {
   "cell_type": "markdown",
   "metadata": {},
   "source": [
    "Lo que podemos observar es que los valores ausentes de la columna 'critic_score' están más distribuidos por año que por plataforma o género. Seria bueno pensar en valores de sustitución de acuerdo a estas subcategorias."
   ]
  },
  {
   "cell_type": "code",
   "execution_count": 16,
   "metadata": {},
   "outputs": [
    {
     "data": {
      "text/plain": [
       "<AxesSubplot:xlabel='critic_score'>"
      ]
     },
     "execution_count": 16,
     "metadata": {},
     "output_type": "execute_result"
    },
    {
     "data": {
      "image/png": "[encoded data removed]",
      "text/plain": [
       "<Figure size 640x480 with 1 Axes>"
      ]
     },
     "metadata": {},
     "output_type": "display_data"
    }
   ],
   "source": [
    "#Hacemos gráfica de bigote para las calificaciones de críticos.\n",
    "sns.boxplot(vg['critic_score'])"
   ]
  },
  {
   "cell_type": "markdown",
   "metadata": {},
   "source": [
    "Determinación: Puesto que de acuerdo a la gráfica de bigotes nos muestra algunos valores extremos y observando la distribuciòn de NAN de la columna \"critic_score\" por año,plataforma y género, se ha optado por obtener las medianas por género para rellenar los datos ausentes ya que la mediana es menos sensible a los outliers y hacerlo por subcategorías puede ser más representativo.\n"
   ]
  },
  {
   "cell_type": "code",
   "execution_count": 17,
   "metadata": {},
   "outputs": [
    {
     "name": "stdout",
     "output_type": "stream",
     "text": [
      "platform\n",
      "2600     NaN\n",
      "3DO      NaN\n",
      "3DS     68.0\n",
      "DC      88.0\n",
      "DS      66.0\n",
      "GB       NaN\n",
      "GBA     69.0\n",
      "GC      70.0\n",
      "GEN      NaN\n",
      "GG       NaN\n",
      "N64      NaN\n",
      "NES      NaN\n",
      "NG       NaN\n",
      "PC      78.0\n",
      "PCFX     NaN\n",
      "PS      73.5\n",
      "PS2     70.0\n",
      "PS3     73.0\n",
      "PS4     73.0\n",
      "PSP     68.0\n",
      "PSV     71.0\n",
      "SAT      NaN\n",
      "SCD      NaN\n",
      "SNES     NaN\n",
      "TG16     NaN\n",
      "WS       NaN\n",
      "Wii     65.0\n",
      "WiiU    73.5\n",
      "X360    71.0\n",
      "XB      72.0\n",
      "XOne    76.0\n",
      "Name: critic_score, dtype: float64\n"
     ]
    }
   ],
   "source": [
    "#Primero calculamos la mediana para cada plataforma.\n",
    "platform_mediana = vg.groupby('platform')['critic_score'].median()\n",
    "print(platform_mediana)"
   ]
  },
  {
   "cell_type": "code",
   "execution_count": 18,
   "metadata": {},
   "outputs": [
    {
     "name": "stdout",
     "output_type": "stream",
     "text": [
      "year_of_release\n",
      "1980     NaN\n",
      "1981     NaN\n",
      "1982     NaN\n",
      "1983     NaN\n",
      "1984     NaN\n",
      "1985    59.0\n",
      "1986     NaN\n",
      "1987     NaN\n",
      "1988    64.0\n",
      "1989     NaN\n",
      "1990     NaN\n",
      "1991     NaN\n",
      "1992    85.0\n",
      "1993     NaN\n",
      "1994    69.0\n",
      "1995     NaN\n",
      "1996    91.0\n",
      "1997    85.0\n",
      "1998    84.0\n",
      "1999    80.0\n",
      "2000    72.0\n",
      "2001    73.0\n",
      "2002    71.0\n",
      "2003    71.0\n",
      "2004    70.0\n",
      "2005    70.0\n",
      "2006    69.0\n",
      "2007    68.0\n",
      "2008    68.0\n",
      "2009    69.0\n",
      "2010    70.0\n",
      "2011    70.0\n",
      "2012    75.0\n",
      "2013    75.0\n",
      "2014    73.0\n",
      "2015    74.0\n",
      "2016    74.5\n",
      "9999    70.0\n",
      "Name: critic_score, dtype: float64\n"
     ]
    }
   ],
   "source": [
    "#Hemos detectado un obstáculo para nuestros cálculos ya que hay varias plataformas que en su totalidad los datos son Nan lo cual resta precisión a este método. La solución es calcular mediana por año de lanzamiento ya que previamente observamos están mejor distribuidos los NaN.\n",
    "#Calculamos la mediana de critic_score por año de lanzamiento.\n",
    "year_critic_mediana = vg.groupby('year_of_release')['critic_score'].median()\n",
    "print(year_critic_mediana)"
   ]
  },
  {
   "cell_type": "code",
   "execution_count": 19,
   "metadata": {},
   "outputs": [
    {
     "data": {
      "text/html": [
       "<div>\n",
       "<style scoped>\n",
       "    .dataframe tbody tr th:only-of-type {\n",
       "        vertical-align: middle;\n",
       "    }\n",
       "\n",
       "    .dataframe tbody tr th {\n",
       "        vertical-align: top;\n",
       "    }\n",
       "\n",
       "    .dataframe thead th {\n",
       "        text-align: right;\n",
       "    }\n",
       "</style>\n",
       "<table border=\"1\" class=\"dataframe\">\n",
       "  <thead>\n",
       "    <tr style=\"text-align: right;\">\n",
       "      <th></th>\n",
       "      <th>name</th>\n",
       "      <th>platform</th>\n",
       "      <th>year_of_release</th>\n",
       "      <th>genre</th>\n",
       "      <th>na_sales</th>\n",
       "      <th>eu_sales</th>\n",
       "      <th>jp_sales</th>\n",
       "      <th>other_sales</th>\n",
       "      <th>critic_score</th>\n",
       "      <th>user_score</th>\n",
       "      <th>rating</th>\n",
       "    </tr>\n",
       "  </thead>\n",
       "  <tbody>\n",
       "    <tr>\n",
       "      <th>0</th>\n",
       "      <td>Wii Sports</td>\n",
       "      <td>Wii</td>\n",
       "      <td>2006</td>\n",
       "      <td>Sports</td>\n",
       "      <td>41.36</td>\n",
       "      <td>28.96</td>\n",
       "      <td>3.77</td>\n",
       "      <td>8.45</td>\n",
       "      <td>76.0</td>\n",
       "      <td>8</td>\n",
       "      <td>E</td>\n",
       "    </tr>\n",
       "    <tr>\n",
       "      <th>1</th>\n",
       "      <td>Mario Kart Wii</td>\n",
       "      <td>Wii</td>\n",
       "      <td>2008</td>\n",
       "      <td>Racing</td>\n",
       "      <td>15.68</td>\n",
       "      <td>12.76</td>\n",
       "      <td>3.79</td>\n",
       "      <td>3.29</td>\n",
       "      <td>82.0</td>\n",
       "      <td>8.3</td>\n",
       "      <td>E</td>\n",
       "    </tr>\n",
       "    <tr>\n",
       "      <th>2</th>\n",
       "      <td>Wii Sports Resort</td>\n",
       "      <td>Wii</td>\n",
       "      <td>2009</td>\n",
       "      <td>Sports</td>\n",
       "      <td>15.61</td>\n",
       "      <td>10.93</td>\n",
       "      <td>3.28</td>\n",
       "      <td>2.95</td>\n",
       "      <td>80.0</td>\n",
       "      <td>8</td>\n",
       "      <td>E</td>\n",
       "    </tr>\n",
       "    <tr>\n",
       "      <th>3</th>\n",
       "      <td>Pokemon Red/Pokemon Blue</td>\n",
       "      <td>GB</td>\n",
       "      <td>1996</td>\n",
       "      <td>Role-Playing</td>\n",
       "      <td>11.27</td>\n",
       "      <td>8.89</td>\n",
       "      <td>10.22</td>\n",
       "      <td>1.00</td>\n",
       "      <td>NaN</td>\n",
       "      <td>NaN</td>\n",
       "      <td>NaN</td>\n",
       "    </tr>\n",
       "    <tr>\n",
       "      <th>4</th>\n",
       "      <td>New Super Mario Bros.</td>\n",
       "      <td>DS</td>\n",
       "      <td>2006</td>\n",
       "      <td>Platform</td>\n",
       "      <td>11.28</td>\n",
       "      <td>9.14</td>\n",
       "      <td>6.50</td>\n",
       "      <td>2.88</td>\n",
       "      <td>89.0</td>\n",
       "      <td>8.5</td>\n",
       "      <td>E</td>\n",
       "    </tr>\n",
       "  </tbody>\n",
       "</table>\n",
       "</div>"
      ],
      "text/plain": [
       "                       name platform  year_of_release         genre  na_sales  \\\n",
       "0                Wii Sports      Wii             2006        Sports     41.36   \n",
       "1            Mario Kart Wii      Wii             2008        Racing     15.68   \n",
       "2         Wii Sports Resort      Wii             2009        Sports     15.61   \n",
       "3  Pokemon Red/Pokemon Blue       GB             1996  Role-Playing     11.27   \n",
       "4     New Super Mario Bros.       DS             2006      Platform     11.28   \n",
       "\n",
       "   eu_sales  jp_sales  other_sales  critic_score user_score rating  \n",
       "0     28.96      3.77         8.45          76.0          8      E  \n",
       "1     12.76      3.79         3.29          82.0        8.3      E  \n",
       "2     10.93      3.28         2.95          80.0          8      E  \n",
       "3      8.89     10.22         1.00           NaN        NaN    NaN  \n",
       "4      9.14      6.50         2.88          89.0        8.5      E  "
      ]
     },
     "execution_count": 19,
     "metadata": {},
     "output_type": "execute_result"
    }
   ],
   "source": [
    "#Hemos descubierto otro obstáculo en el sentido de los registros por año. Dado lo observado acotaremos nuestros datos a un periodo de 20 años desde 1996 hasta 2016 para identificar tendencias y trabajar con ello.De acuerdo a nuestro caso y lo que buscamos esto deberían ser suficientes datos para una propuesta 2017.\n",
    "vg_post96 = vg[vg['year_of_release'] >= 1996].reset_index(drop=True)\n",
    "vg_post96.head()"
   ]
  },
  {
   "cell_type": "code",
   "execution_count": 20,
   "metadata": {},
   "outputs": [],
   "source": [
    "#Ya con las medianas calculadas para cada año para la columna de \"critic_score\", haremos lo mismo para \"user_score\""
   ]
  },
  {
   "cell_type": "code",
   "execution_count": 21,
   "metadata": {},
   "outputs": [
    {
     "data": {
      "text/plain": [
       "array(['8', '8.3', nan, '8.5', '6.6', '8.4', '8.6', '7.7', '6.3', '7.4',\n",
       "       '8.2', '9', '7.9', '8.1', '8.7', '7.1', '3.4', '5.3', '4.8', '3.2',\n",
       "       '8.9', '6.4', '7.8', '7.5', '2.6', '7.2', '9.2', '7', '7.3', '4.3',\n",
       "       '7.6', '5.7', '5', '9.1', '6.5', 'tbd', '8.8', '6.9', '9.4', '6.8',\n",
       "       '6.1', '6.7', '5.4', '4', '4.9', '4.5', '9.3', '6.2', '4.2', '6',\n",
       "       '3.7', '4.1', '5.8', '5.6', '5.5', '4.4', '4.6', '5.9', '3.9',\n",
       "       '3.1', '2.9', '5.2', '3.3', '4.7', '5.1', '3.5', '2.5', '1.9', '3',\n",
       "       '2.7', '2.2', '2', '9.5', '2.1', '3.6', '2.8', '1.8', '3.8', '0',\n",
       "       '1.6', '9.6', '2.4', '1.7', '1.1', '0.3', '1.5', '0.7', '1.2',\n",
       "       '2.3', '0.5', '1.3', '0.2', '0.6', '1.4', '0.9', '1', '9.7'],\n",
       "      dtype=object)"
      ]
     },
     "execution_count": 21,
     "metadata": {},
     "output_type": "execute_result"
    }
   ],
   "source": [
    "#Se ha detectado que tendremos que convertir el Datatype de columna user_score a float.\n",
    "vg_post96['user_score'].unique()"
   ]
  },
  {
   "cell_type": "code",
   "execution_count": 22,
   "metadata": {},
   "outputs": [
    {
     "name": "stdout",
     "output_type": "stream",
     "text": [
      "<class 'pandas.core.frame.DataFrame'>\n",
      "RangeIndex: 16008 entries, 0 to 16007\n",
      "Data columns (total 11 columns):\n",
      " #   Column           Non-Null Count  Dtype   \n",
      "---  ------           --------------  -----   \n",
      " 0   name             16008 non-null  object  \n",
      " 1   platform         16008 non-null  category\n",
      " 2   year_of_release  16008 non-null  int64   \n",
      " 3   genre            16008 non-null  category\n",
      " 4   na_sales         16008 non-null  float64 \n",
      " 5   eu_sales         16008 non-null  float64 \n",
      " 6   jp_sales         16008 non-null  float64 \n",
      " 7   other_sales      16008 non-null  float64 \n",
      " 8   critic_score     8133 non-null   float64 \n",
      " 9   user_score       7586 non-null   float64 \n",
      " 10  rating           9944 non-null   object  \n",
      "dtypes: category(2), float64(6), int64(1), object(2)\n",
      "memory usage: 1.1+ MB\n"
     ]
    }
   ],
   "source": [
    "#Hemos detectado el valor 'tbd' en la columna de calificaciones por usuario. El conocimiento de la industria nos permite sugerir que las siglas significan 'To be determined' es decir el juego no ha recibido una calificación por parte de los usuarios por lo que sustituiremos esos valores por NaN y luego convertiremos toda la columna a float.\n",
    "vg_post96['user_score'] = pd.to_numeric(vg_post96['user_score'], errors='coerce')\n",
    "vg_post96['user_score'] = vg_post96['user_score'].astype('float')\n",
    "vg_post96.info()"
   ]
  },
  {
   "cell_type": "code",
   "execution_count": 23,
   "metadata": {},
   "outputs": [
    {
     "name": "stdout",
     "output_type": "stream",
     "text": [
      "year_of_release\n",
      "1996    8.65\n",
      "1997    8.30\n",
      "1998    8.60\n",
      "1999    8.80\n",
      "2000    7.90\n",
      "2001    8.00\n",
      "2002    7.90\n",
      "2003    8.20\n",
      "2004    8.10\n",
      "2005    7.80\n",
      "2006    7.50\n",
      "2007    7.20\n",
      "2008    7.30\n",
      "2009    7.30\n",
      "2010    7.20\n",
      "2011    6.90\n",
      "2012    7.10\n",
      "2013    6.80\n",
      "2014    7.00\n",
      "2015    7.10\n",
      "2016    7.00\n",
      "9999    7.40\n",
      "Name: user_score, dtype: float64\n"
     ]
    }
   ],
   "source": [
    "#Ahora sí calculamos la mediana para user_score de acuerdo al año.\n",
    "year_user_mediana = vg_post96.groupby('year_of_release')['user_score'].median()\n",
    "print(year_user_mediana)"
   ]
  },
  {
   "cell_type": "markdown",
   "metadata": {},
   "source": [
    "Relleno de ausentes\n",
    "Ya con las medianas calculadas por año tanto para las columnas critic como user, ahora crearemos una función que nos permita rellenar dichos valores ausentes por la mediana correspondiente según el año."
   ]
  },
  {
   "cell_type": "code",
   "execution_count": 24,
   "metadata": {},
   "outputs": [
    {
     "name": "stdout",
     "output_type": "stream",
     "text": [
      "<class 'pandas.core.frame.DataFrame'>\n",
      "RangeIndex: 16008 entries, 0 to 16007\n",
      "Data columns (total 11 columns):\n",
      " #   Column           Non-Null Count  Dtype  \n",
      "---  ------           --------------  -----  \n",
      " 0   name             16008 non-null  object \n",
      " 1   platform         16008 non-null  object \n",
      " 2   year_of_release  16008 non-null  int64  \n",
      " 3   genre            16008 non-null  object \n",
      " 4   na_sales         16008 non-null  float64\n",
      " 5   eu_sales         16008 non-null  float64\n",
      " 6   jp_sales         16008 non-null  float64\n",
      " 7   other_sales      16008 non-null  float64\n",
      " 8   critic_score     16008 non-null  float64\n",
      " 9   user_score       16008 non-null  float64\n",
      " 10  rating           9944 non-null   object \n",
      "dtypes: float64(6), int64(1), object(4)\n",
      "memory usage: 1.3+ MB\n"
     ]
    }
   ],
   "source": [
    "def relleno_mediana(fila):\n",
    "    if pd.isna(fila['critic_score']):\n",
    "        fila['critic_score'] = year_critic_mediana.get(fila['year_of_release'], fila['critic_score'])\n",
    "    if pd.isna(fila['user_score']):\n",
    "        fila['user_score'] = year_user_mediana.get(fila['year_of_release'], fila['user_score'])\n",
    "    \n",
    "    return fila\n",
    "\n",
    "vg_post96 = vg_post96.apply(relleno_mediana, axis=1)\n",
    "vg_post96.info()"
   ]
  },
  {
   "cell_type": "code",
   "execution_count": 25,
   "metadata": {},
   "outputs": [
    {
     "name": "stdout",
     "output_type": "stream",
     "text": [
      "<class 'pandas.core.frame.DataFrame'>\n",
      "RangeIndex: 16008 entries, 0 to 16007\n",
      "Data columns (total 11 columns):\n",
      " #   Column           Non-Null Count  Dtype   \n",
      "---  ------           --------------  -----   \n",
      " 0   name             16008 non-null  object  \n",
      " 1   platform         16008 non-null  category\n",
      " 2   year_of_release  16008 non-null  int64   \n",
      " 3   genre            16008 non-null  category\n",
      " 4   na_sales         16008 non-null  float64 \n",
      " 5   eu_sales         16008 non-null  float64 \n",
      " 6   jp_sales         16008 non-null  float64 \n",
      " 7   other_sales      16008 non-null  float64 \n",
      " 8   critic_score     16008 non-null  float64 \n",
      " 9   user_score       16008 non-null  float64 \n",
      " 10  rating           9944 non-null   category\n",
      "dtypes: category(3), float64(6), int64(1), object(1)\n",
      "memory usage: 1.0+ MB\n"
     ]
    }
   ],
   "source": [
    "#Por alguna razòn nuestras columnas de platform y genre se reconvirtieron a object por lo que las reconvertimos a category. Ahora también convertiremos la columna rating.\n",
    "vg_post96[['platform','genre','rating']] = vg_post96[['platform','genre','rating']].astype('category')\n",
    "vg_post96.info()"
   ]
  },
  {
   "cell_type": "code",
   "execution_count": 26,
   "metadata": {},
   "outputs": [
    {
     "data": {
      "text/plain": [
       "['E', NaN, 'M', 'T', 'E10+', 'K-A', 'AO', 'EC', 'RP']\n",
       "Categories (8, object): ['E', 'M', 'T', 'E10+', 'K-A', 'AO', 'EC', 'RP']"
      ]
     },
     "execution_count": 26,
     "metadata": {},
     "output_type": "execute_result"
    }
   ],
   "source": [
    "vg_post96['rating'].unique()\n",
    "#La columna de rating la podemos dejar con los NaN ya que solo indica la clasificación por parte de la ESRB."
   ]
  },
  {
   "cell_type": "markdown",
   "metadata": {},
   "source": [
    "Agregado de columnas\n",
    "Ahora que hemos acotado nuestros datos a los que consideramos importantes (1996-2006) y que hemos rellenado los valores ausentes y convertido a Dtype categorías, calcularemos ventas totales para cada juego y agregaremos la columna."
   ]
  },
  {
   "cell_type": "code",
   "execution_count": 27,
   "metadata": {},
   "outputs": [
    {
     "name": "stdout",
     "output_type": "stream",
     "text": [
      "<class 'pandas.core.frame.DataFrame'>\n",
      "RangeIndex: 16008 entries, 0 to 16007\n",
      "Data columns (total 12 columns):\n",
      " #   Column           Non-Null Count  Dtype   \n",
      "---  ------           --------------  -----   \n",
      " 0   name             16008 non-null  object  \n",
      " 1   platform         16008 non-null  category\n",
      " 2   year_of_release  16008 non-null  int64   \n",
      " 3   genre            16008 non-null  category\n",
      " 4   na_sales         16008 non-null  float64 \n",
      " 5   eu_sales         16008 non-null  float64 \n",
      " 6   jp_sales         16008 non-null  float64 \n",
      " 7   other_sales      16008 non-null  float64 \n",
      " 8   critic_score     16008 non-null  float64 \n",
      " 9   user_score       16008 non-null  float64 \n",
      " 10  rating           9944 non-null   category\n",
      " 11  total_sales      16008 non-null  float64 \n",
      "dtypes: category(3), float64(7), int64(1), object(1)\n",
      "memory usage: 1.1+ MB\n"
     ]
    }
   ],
   "source": [
    "#Crearemos la columna total_sales que buscaremos pueda ser insertada despues de la columna other_sales:\n",
    "vg_post96['total_sales'] = vg_post96['na_sales'] + vg_post96['eu_sales'] + vg_post96['jp_sales'] + vg_post96['other_sales']\n",
    "\n",
    "vg_post96.info()"
   ]
  },
  {
   "cell_type": "markdown",
   "metadata": {},
   "source": [
    "<div class=\"alert alert-block alert-success\">\n",
    "<b>Éxito</b> <a class=\"tocSkip\"></a>\n",
    "La creación de la columna <code>total_sales</code> fue implementada correctamente, y la decisión de reubicarla para mejorar la legibilidad demuestra una atención al detalle. </div>\n",
    "\n",
    "<div class=\"alert alert-block alert-warning\">\n",
    "<b>Atención</b> <a class=\"tocSkip\"></a>\n",
    "Aunque justificaste la agregación de columnas de ventas, sería ideal calcular también el porcentaje de ventas por región para complementar tu análisis. Esto podría ayudar a identificar qué región domina las ventas totales.</div>\n"
   ]
  },
  {
   "cell_type": "code",
   "execution_count": 28,
   "metadata": {},
   "outputs": [
    {
     "name": "stdout",
     "output_type": "stream",
     "text": [
      "<class 'pandas.core.frame.DataFrame'>\n",
      "RangeIndex: 16008 entries, 0 to 16007\n",
      "Data columns (total 12 columns):\n",
      " #   Column           Non-Null Count  Dtype   \n",
      "---  ------           --------------  -----   \n",
      " 0   name             16008 non-null  object  \n",
      " 1   platform         16008 non-null  category\n",
      " 2   year_of_release  16008 non-null  int64   \n",
      " 3   genre            16008 non-null  category\n",
      " 4   na_sales         16008 non-null  float64 \n",
      " 5   eu_sales         16008 non-null  float64 \n",
      " 6   jp_sales         16008 non-null  float64 \n",
      " 7   other_sales      16008 non-null  float64 \n",
      " 8   total_sales      16008 non-null  float64 \n",
      " 9   critic_score     16008 non-null  float64 \n",
      " 10  user_score       16008 non-null  float64 \n",
      " 11  rating           9944 non-null   category\n",
      "dtypes: category(3), float64(7), int64(1), object(1)\n",
      "memory usage: 1.1+ MB\n"
     ]
    }
   ],
   "source": [
    "# Para mejor lectura moveremos la columna total_sales despues de other_sales.\n",
    "columns = vg_post96.columns.tolist()\n",
    "columns.insert(columns.index('other_sales') + 1, columns.pop(columns.index('total_sales'))) #Este recurso lo tuve que buscar en internet.\n",
    "\n",
    "vg_post96 = vg_post96[columns]\n",
    "\n",
    "vg_post96.info()"
   ]
  },
  {
   "cell_type": "code",
   "execution_count": 29,
   "metadata": {},
   "outputs": [
    {
     "data": {
      "text/html": [
       "<div>\n",
       "<style scoped>\n",
       "    .dataframe tbody tr th:only-of-type {\n",
       "        vertical-align: middle;\n",
       "    }\n",
       "\n",
       "    .dataframe tbody tr th {\n",
       "        vertical-align: top;\n",
       "    }\n",
       "\n",
       "    .dataframe thead th {\n",
       "        text-align: right;\n",
       "    }\n",
       "</style>\n",
       "<table border=\"1\" class=\"dataframe\">\n",
       "  <thead>\n",
       "    <tr style=\"text-align: right;\">\n",
       "      <th></th>\n",
       "      <th>name</th>\n",
       "      <th>platform</th>\n",
       "      <th>year_of_release</th>\n",
       "      <th>genre</th>\n",
       "      <th>na_sales</th>\n",
       "      <th>eu_sales</th>\n",
       "      <th>jp_sales</th>\n",
       "      <th>other_sales</th>\n",
       "      <th>total_sales</th>\n",
       "      <th>critic_score</th>\n",
       "      <th>user_score</th>\n",
       "      <th>rating</th>\n",
       "    </tr>\n",
       "  </thead>\n",
       "  <tbody>\n",
       "    <tr>\n",
       "      <th>0</th>\n",
       "      <td>Wii Sports</td>\n",
       "      <td>Wii</td>\n",
       "      <td>2006</td>\n",
       "      <td>Sports</td>\n",
       "      <td>41.36</td>\n",
       "      <td>28.96</td>\n",
       "      <td>3.77</td>\n",
       "      <td>8.45</td>\n",
       "      <td>82.54</td>\n",
       "      <td>76.0</td>\n",
       "      <td>8.00</td>\n",
       "      <td>E</td>\n",
       "    </tr>\n",
       "    <tr>\n",
       "      <th>1</th>\n",
       "      <td>Mario Kart Wii</td>\n",
       "      <td>Wii</td>\n",
       "      <td>2008</td>\n",
       "      <td>Racing</td>\n",
       "      <td>15.68</td>\n",
       "      <td>12.76</td>\n",
       "      <td>3.79</td>\n",
       "      <td>3.29</td>\n",
       "      <td>35.52</td>\n",
       "      <td>82.0</td>\n",
       "      <td>8.30</td>\n",
       "      <td>E</td>\n",
       "    </tr>\n",
       "    <tr>\n",
       "      <th>2</th>\n",
       "      <td>Wii Sports Resort</td>\n",
       "      <td>Wii</td>\n",
       "      <td>2009</td>\n",
       "      <td>Sports</td>\n",
       "      <td>15.61</td>\n",
       "      <td>10.93</td>\n",
       "      <td>3.28</td>\n",
       "      <td>2.95</td>\n",
       "      <td>32.77</td>\n",
       "      <td>80.0</td>\n",
       "      <td>8.00</td>\n",
       "      <td>E</td>\n",
       "    </tr>\n",
       "    <tr>\n",
       "      <th>3</th>\n",
       "      <td>Pokemon Red/Pokemon Blue</td>\n",
       "      <td>GB</td>\n",
       "      <td>1996</td>\n",
       "      <td>Role-Playing</td>\n",
       "      <td>11.27</td>\n",
       "      <td>8.89</td>\n",
       "      <td>10.22</td>\n",
       "      <td>1.00</td>\n",
       "      <td>31.38</td>\n",
       "      <td>91.0</td>\n",
       "      <td>8.65</td>\n",
       "      <td>NaN</td>\n",
       "    </tr>\n",
       "    <tr>\n",
       "      <th>4</th>\n",
       "      <td>New Super Mario Bros.</td>\n",
       "      <td>DS</td>\n",
       "      <td>2006</td>\n",
       "      <td>Platform</td>\n",
       "      <td>11.28</td>\n",
       "      <td>9.14</td>\n",
       "      <td>6.50</td>\n",
       "      <td>2.88</td>\n",
       "      <td>29.80</td>\n",
       "      <td>89.0</td>\n",
       "      <td>8.50</td>\n",
       "      <td>E</td>\n",
       "    </tr>\n",
       "  </tbody>\n",
       "</table>\n",
       "</div>"
      ],
      "text/plain": [
       "                       name platform  year_of_release         genre  na_sales  \\\n",
       "0                Wii Sports      Wii             2006        Sports     41.36   \n",
       "1            Mario Kart Wii      Wii             2008        Racing     15.68   \n",
       "2         Wii Sports Resort      Wii             2009        Sports     15.61   \n",
       "3  Pokemon Red/Pokemon Blue       GB             1996  Role-Playing     11.27   \n",
       "4     New Super Mario Bros.       DS             2006      Platform     11.28   \n",
       "\n",
       "   eu_sales  jp_sales  other_sales  total_sales  critic_score  user_score  \\\n",
       "0     28.96      3.77         8.45        82.54          76.0        8.00   \n",
       "1     12.76      3.79         3.29        35.52          82.0        8.30   \n",
       "2     10.93      3.28         2.95        32.77          80.0        8.00   \n",
       "3      8.89     10.22         1.00        31.38          91.0        8.65   \n",
       "4      9.14      6.50         2.88        29.80          89.0        8.50   \n",
       "\n",
       "  rating  \n",
       "0      E  \n",
       "1      E  \n",
       "2      E  \n",
       "3    NaN  \n",
       "4      E  "
      ]
     },
     "execution_count": 29,
     "metadata": {},
     "output_type": "execute_result"
    }
   ],
   "source": [
    "vg_post96.head()"
   ]
  },
  {
   "cell_type": "markdown",
   "metadata": {},
   "source": [
    "## Paso 3 Análisis de datos"
   ]
  },
  {
   "cell_type": "code",
   "execution_count": 30,
   "metadata": {},
   "outputs": [
    {
     "name": "stdout",
     "output_type": "stream",
     "text": [
      "year_of_release\n",
      "1996     263\n",
      "1997     289\n",
      "1998     379\n",
      "1999     338\n",
      "2000     350\n",
      "2001     482\n",
      "2002     829\n",
      "2003     775\n",
      "2004     762\n",
      "2005     939\n",
      "2006    1006\n",
      "2007    1197\n",
      "2008    1427\n",
      "2009    1426\n",
      "2010    1255\n",
      "2011    1136\n",
      "2012     653\n",
      "2013     544\n",
      "2014     581\n",
      "2015     606\n",
      "2016     502\n",
      "9999     269\n",
      "Name: name, dtype: int64\n"
     ]
    },
    {
     "data": {
      "image/png": "[encoded data removed]",
      "text/plain": [
       "<Figure size 1200x800 with 1 Axes>"
      ]
     },
     "metadata": {},
     "output_type": "display_data"
    }
   ],
   "source": [
    "# Pars continuar trabajando de manera más simple y con una copia de seguridad del DT,haremos una copia del DT con el cual seguiremos trabajando.\n",
    "vgames = vg_post96.copy()\n",
    "lanza_year = vgames.groupby(['year_of_release'])['name'].count()\n",
    "print(lanza_year)\n",
    "#Graficamos los datos para observar visualmente.\n",
    "lanza_year.plot(kind='bar',figsize=(12, 8),title='Lanzamientos por año 96-16',xlabel='Lanzamientos', ylabel='Año de lanzamiento',legend=True, rot=45)\n",
    "plt.tight_layout()\n",
    "plt.show()"
   ]
  },
  {
   "cell_type": "markdown",
   "metadata": {},
   "source": [
    "Podemos observar que hay periodos de incremento de lanzamientos de juegos aproximadamente en 2002, 2005 y 2007. De 2011 a 2012 hay un fuerte descenso en el lanzamiento de títulos. Probablemente tengan correlación con las distintas generaciones de hardware de las consolas."
   ]
  },
  {
   "cell_type": "code",
   "execution_count": 31,
   "metadata": {},
   "outputs": [
    {
     "name": "stdout",
     "output_type": "stream",
     "text": [
      "platform\n",
      "PS2     1255.77\n",
      "X360     971.42\n",
      "PS3      939.65\n",
      "Wii      907.51\n",
      "DS       806.10\n",
      "PS       688.87\n",
      "GBA      317.85\n",
      "PS4      314.14\n",
      "PSP      294.05\n",
      "3DS      259.00\n",
      "XB       257.74\n",
      "PC       239.33\n",
      "N64      218.68\n",
      "GC       198.93\n",
      "XOne     159.32\n",
      "GB       137.33\n",
      "WiiU      82.19\n",
      "PSV       54.07\n",
      "SAT       18.37\n",
      "SNES      17.39\n",
      "DC        15.95\n",
      "2600      10.50\n",
      "WS         1.42\n",
      "NG         0.10\n",
      "PCFX       0.03\n",
      "Name: total_sales, dtype: float64\n"
     ]
    },
    {
     "data": {
      "image/png": "[encoded data removed]",
      "text/plain": [
       "<Figure size 1200x800 with 1 Axes>"
      ]
     },
     "metadata": {},
     "output_type": "display_data"
    }
   ],
   "source": [
    "#Procedemos a identificar y graficar las plataformas más populares por ventas.\n",
    "sales_by_plat = vgames.groupby('platform')['total_sales'].sum().sort_values(ascending=False)\n",
    "print(sales_by_plat)\n",
    "#Graficamos los datos por plataforma para observar visualmente.\n",
    "sales_by_plat.plot(kind='bar',figsize=(12, 8),title='Ventas por plataforma',xlabel='Cantidad', ylabel='Plataforma',legend=True, rot=45)\n",
    "plt.tight_layout()\n",
    "plt.show()"
   ]
  },
  {
   "cell_type": "code",
   "execution_count": 32,
   "metadata": {},
   "outputs": [
    {
     "name": "stdout",
     "output_type": "stream",
     "text": [
      "<bound method Series.reset_index of platform  year_of_release\n",
      "2600      1996                0.00\n",
      "          1997                0.00\n",
      "          1998                0.00\n",
      "          1999                0.00\n",
      "          2000                0.00\n",
      "                             ...  \n",
      "XOne      2013               18.96\n",
      "          2014               54.07\n",
      "          2015               60.14\n",
      "          2016               26.15\n",
      "          9999                0.00\n",
      "Name: total_sales, Length: 550, dtype: float64>\n"
     ]
    }
   ],
   "source": [
    "#Ahora trataremos de determinar las plataformas con las mayores ventas totales y construir distribuciones basadas en los datos de cada año.\n",
    "top_plat_byyear = vgames.groupby(['platform','year_of_release'])['total_sales'].sum().reset_index \n",
    "print(top_plat_byyear)"
   ]
  },
  {
   "cell_type": "code",
   "execution_count": 33,
   "metadata": {},
   "outputs": [
    {
     "name": "stdout",
     "output_type": "stream",
     "text": [
      "year_of_release   1996    1997    1998    1999   2000    2001    2002    2003  \\\n",
      "platform                                                                        \n",
      "2600              0.00    0.00    0.00    0.00   0.00    0.00    0.00    0.00   \n",
      "3DS               0.00    0.00    0.00    0.00   0.00    0.00    0.00    0.00   \n",
      "DC                0.00    0.00    3.38    5.16   5.99    1.07    0.29    0.00   \n",
      "DS                0.00    0.00    0.00    0.00   0.00    0.00    0.00    0.00   \n",
      "GB               36.03    6.37   26.90   38.00  19.76    9.24    0.00    0.00   \n",
      "GBA               0.00    0.00    0.00    0.00   0.07   61.53   74.16   56.67   \n",
      "GC                0.00    0.00    0.00    0.00   0.00   26.34   51.81   50.61   \n",
      "N64              34.10   39.50   49.24   57.87  33.97    3.25    0.08    0.00   \n",
      "NG                0.10    0.00    0.00    0.00   0.00    0.00    0.00    0.00   \n",
      "PC               10.58   11.27    3.26    4.74   4.66    5.47    8.57    8.84   \n",
      "PCFX              0.03    0.00    0.00    0.00   0.00    0.00    0.00    0.00   \n",
      "PS               94.70  136.17  169.49  144.53  96.37   35.59    6.67    2.07   \n",
      "PS2               0.00    0.00    0.00    0.00  39.17  166.43  205.38  184.31   \n",
      "PS3               0.00    0.00    0.00    0.00   0.00    0.00    0.00    0.00   \n",
      "PS4               0.00    0.00    0.00    0.00   0.00    0.00    0.00    0.00   \n",
      "PSP               0.00    0.00    0.00    0.00   0.00    0.00    0.00    0.00   \n",
      "PSV               0.00    0.00    0.00    0.00   0.00    0.00    0.00    0.00   \n",
      "SAT               7.69    6.77    3.82    0.09   0.00    0.00    0.00    0.00   \n",
      "SNES             15.92    0.99    0.22    0.26   0.00    0.00    0.00    0.00   \n",
      "WS                0.00    0.00    0.00    0.46   0.68    0.28    0.00    0.00   \n",
      "Wii               0.00    0.00    0.00    0.00   0.00    0.00    0.00    0.00   \n",
      "WiiU              0.00    0.00    0.00    0.00   0.00    0.00    0.00    0.00   \n",
      "X360              0.00    0.00    0.00    0.00   0.00    0.00    0.00    0.00   \n",
      "XB                0.00    0.00    0.00    0.00   0.99   22.26   48.01   55.04   \n",
      "XOne              0.00    0.00    0.00    0.00   0.00    0.00    0.00    0.00   \n",
      "\n",
      "year_of_release    2004    2005  ...    2008    2009    2010    2011    2012  \\\n",
      "platform                         ...                                           \n",
      "2600               0.00    0.00  ...    0.00    0.00    0.00    0.00    0.00   \n",
      "3DS                0.00    0.00  ...    0.00    0.00    0.00   63.20   51.36   \n",
      "DC                 0.00    0.00  ...    0.04    0.00    0.00    0.00    0.00   \n",
      "DS                17.27  130.14  ...  145.31  119.54   85.02   26.18   11.01   \n",
      "GB                 0.00    0.00  ...    0.00    0.00    0.00    0.00    0.00   \n",
      "GBA               77.91   33.86  ...    0.00    0.00    0.00    0.00    0.00   \n",
      "GC                28.82   27.62  ...    0.00    0.00    0.00    0.00    0.00   \n",
      "N64                0.00    0.00  ...    0.00    0.00    0.00    0.00    0.00   \n",
      "NG                 0.00    0.00  ...    0.00    0.00    0.00    0.00    0.00   \n",
      "PC                10.39    4.37  ...   12.42   16.91   24.28   35.03   23.22   \n",
      "PCFX               0.00    0.00  ...    0.00    0.00    0.00    0.00    0.00   \n",
      "PS                 0.00    0.00  ...    0.00    0.00    0.00    0.00    0.00   \n",
      "PS2              211.81  160.66  ...   53.90   26.40    5.64    0.45    0.00   \n",
      "PS3                0.00    0.00  ...  118.52  130.93  142.17  156.78  107.36   \n",
      "PS4                0.00    0.00  ...    0.00    0.00    0.00    0.00    0.00   \n",
      "PSP                7.06   43.84  ...   34.55   37.78   35.04   17.82    7.69   \n",
      "PSV                0.00    0.00  ...    0.00    0.00    0.00    4.63   16.19   \n",
      "SAT                0.00    0.00  ...    0.00    0.00    0.00    0.00    0.00   \n",
      "SNES               0.00    0.00  ...    0.00    0.00    0.00    0.00    0.00   \n",
      "WS                 0.00    0.00  ...    0.00    0.00    0.00    0.00    0.00   \n",
      "Wii                0.00    0.00  ...  171.32  206.97  127.95   59.65   21.71   \n",
      "WiiU               0.00    0.00  ...    0.00    0.00    0.00    0.00   17.56   \n",
      "X360               0.00    8.25  ...  135.26  120.29  170.03  143.84   99.74   \n",
      "XB                65.42   49.08  ...    0.18    0.00    0.00    0.00    0.00   \n",
      "XOne               0.00    0.00  ...    0.00    0.00    0.00    0.00    0.00   \n",
      "\n",
      "year_of_release    2013    2014    2015   2016   9999  \n",
      "platform                                               \n",
      "2600               0.00    0.00    0.00   0.00  10.50  \n",
      "3DS               56.57   43.76   27.78  15.14   1.19  \n",
      "DC                 0.00    0.00    0.00   0.00   0.00  \n",
      "DS                 1.54    0.00    0.00   0.00   3.34  \n",
      "GB                 0.00    0.00    0.00   0.00   1.03  \n",
      "GBA                0.00    0.00    0.00   0.00   4.97  \n",
      "GC                 0.00    0.00    0.00   0.00   2.20  \n",
      "N64                0.00    0.00    0.00   0.00   0.67  \n",
      "NG                 0.00    0.00    0.00   0.00   0.00  \n",
      "PC                12.38   13.28    8.52   5.25   3.76  \n",
      "PCFX               0.00    0.00    0.00   0.00   0.00  \n",
      "PS                 0.00    0.00    0.00   0.00   3.28  \n",
      "PS2                0.00    0.00    0.00   0.00  22.21  \n",
      "PS3              113.25   47.76   16.82   3.60   8.31  \n",
      "PS4               25.99  100.00  118.90  69.25   0.00  \n",
      "PSP                3.14    0.24    0.12   0.00   4.52  \n",
      "PSV               10.59   11.90    6.25   4.25   0.26  \n",
      "SAT                0.00    0.00    0.00   0.00   0.00  \n",
      "SNES               0.00    0.00    0.00   0.00   0.00  \n",
      "WS                 0.00    0.00    0.00   0.00   0.00  \n",
      "Wii                8.59    3.75    1.14   0.18  16.33  \n",
      "WiiU              21.65   22.03   16.35   4.60   0.00  \n",
      "X360              88.58   34.74   11.96   1.52  10.18  \n",
      "XB                 0.00    0.00    0.00   0.00   6.17  \n",
      "XOne              18.96   54.07   60.14  26.15   0.00  \n",
      "\n",
      "[25 rows x 22 columns]\n"
     ]
    }
   ],
   "source": [
    "#Ya hemos obtenido los datos que queremos sin embargo para mostrar una gráfica de dispersión que muestre la evolución en el tiempo de las ventas por plataforma haremos una tabla pivote para despues graficar con mayor facilidad.\n",
    "top_plat_byyear = vgames.pivot_table(\n",
    "    index='platform',\n",
    "    columns='year_of_release',\n",
    "    values='total_sales',\n",
    "    aggfunc='sum'\n",
    ")\n",
    "\n",
    "# Ordenamos las columnas en orden cronológico...función que tuvimos que corregir mediante iteraciones y consultas en internet.\n",
    "top_plat_byyear = top_plat_byyear.sort_index(axis=1)\n",
    "print(top_plat_byyear)"
   ]
  },
  {
   "cell_type": "code",
   "execution_count": 34,
   "metadata": {},
   "outputs": [
    {
     "data": {
      "image/png": "[encoded data removed]",
      "text/plain": [
       "<Figure size 1500x1000 with 1 Axes>"
      ]
     },
     "metadata": {},
     "output_type": "display_data"
    }
   ],
   "source": [
    "# Crear el gráfico de dispersión.\n",
    "plt.figure(figsize=(15, 10))\n",
    "\n",
    "for platform in top_plat_byyear.index:\n",
    "    \n",
    "    sales_by_year = top_plat_byyear.loc[platform]\n",
    "    sales_by_year = sales_by_year[sales_by_year.index != 9999]  # Quitamos el año 9999 porque en una iteración original afectaba la escala/visualizaciòn correcta del gráfico\n",
    "    \n",
    "    # Tuvimos que acotar solo a los años donde hay valores de ventas mediante un filtro.\n",
    "    years = sales_by_year.index\n",
    "    sales = sales_by_year.values\n",
    "    \n",
    "    plt.scatter(years, sales, label=platform)\n",
    "\n",
    "plt.title(\"Ventas de videojuegos por plataforma a lo largo de los años (Excluyendo año 9999)\")\n",
    "plt.xlabel(\"Año de Lanzamiento\")\n",
    "plt.ylabel(\"Ventas Totales\")\n",
    "plt.legend(loc='upper left', bbox_to_anchor=(1, 1))\n",
    "plt.grid(True)\n",
    "\n",
    "plt.show()\n"
   ]
  },
  {
   "cell_type": "markdown",
   "metadata": {},
   "source": [
    "<div class=\"alert alert-block alert-warning\">\n",
    "<b>Atención</b> <a class=\"tocSkip\"></a>\n",
    "La gráfica de dispersión (Celda [34]) tiene demasiadas plataformas, lo cual dificulta la interpretación. Considera limitar las plataformas visualizadas a las 5-10 principales, para destacar patrones clave.</div>"
   ]
  },
  {
   "cell_type": "markdown",
   "metadata": {},
   "source": [
    "Si bien tenemos un gráfico de dispersión se considera que no facilita un buen entendimiento del desempeño de ventas, procedemos a generar el mismo gráfico con líneas y marcando los puntos de inflexión."
   ]
  },
  {
   "cell_type": "code",
   "execution_count": 35,
   "metadata": {},
   "outputs": [
    {
     "data": {
      "image/png": "[encoded data removed]",
      "text/plain": [
       "<Figure size 1500x1000 with 1 Axes>"
      ]
     },
     "metadata": {},
     "output_type": "display_data"
    }
   ],
   "source": [
    "# Crear el gráfico de líneas\n",
    "plt.figure(figsize=(15, 10))  # Ajusta el tamaño de la figura\n",
    "\n",
    "# Itera sobre cada plataforma\n",
    "for platform in top_plat_byyear.index:\n",
    "    # Obtiene las ventas por año para la plataforma actual, excluyendo el año 9999\n",
    "    sales_by_year = top_plat_byyear.loc[platform]\n",
    "    sales_by_year = sales_by_year[sales_by_year.index != 9999]  # Filtra el año 9999\n",
    "    \n",
    "    # Filtra solo los años donde hay ventas no nulas\n",
    "    years = sales_by_year.index\n",
    "    sales = sales_by_year.values\n",
    "    \n",
    "    # Graficar las ventas con líneas para esta plataforma\n",
    "    plt.plot(years, sales, label=platform, marker='o')  # Agrega marcador 'o' para destacar los puntos\n",
    "\n",
    "# Añadir título y etiquetas de ejes\n",
    "plt.title(\"Ventas de videojuegos por plataforma a lo largo de los años\")\n",
    "plt.xlabel(\"Año de Lanzamiento\")\n",
    "plt.ylabel(\"Ventas Totales\")\n",
    "\n",
    "# Añadir una leyenda para identificar cada plataforma\n",
    "plt.legend(loc='upper left', bbox_to_anchor=(1, 1))\n",
    "plt.grid(True)\n",
    "\n",
    "# Mostrar el gráfico\n",
    "plt.show()"
   ]
  },
  {
   "cell_type": "markdown",
   "metadata": {},
   "source": [
    "#Las gráficas considero muy avanzadas, se tuvo que consultar mucho fuentes externas para generarse.\n",
    "Con estaS gráfica podemos obtener ciertas conclusiones y determinar que cuales plataformas han logrado mayores ventas y en qué periodos aproximados:\n",
    "-Hay 6 plataformas que han logrado distinguirse por volumen de ventas. Aquí sus mejores periodos:\n",
    "Playstation (95-2002)\n",
    "Playstation 2 (2000-2008)\n",
    "Nintendo DS (2004-2011)\n",
    "Nintendo Wii (2006-2012)\n",
    "X360 (2005-2015)\n",
    "Playstation 3 (2006-2015)\n",
    "\n",
    "Por otro lado vemos las plataformas con mayores ventas más recientes:\n",
    "PS4, XOne y WiiU\n",
    "\n",
    "Otra dato es que hasta el moment podemos observar que tradicionalmente las plataformas tardaban unos 4 a 6 años en alcanzar su pico de ventas. Y al momento de los datos pareciera que las plataformas actuales lo hacen en mucho menos tiempo alrededor de 3 años además de que no alcanzan los topes de ventas que plataformas anteriores.\n",
    "\n"
   ]
  },
  {
   "cell_type": "code",
   "execution_count": 36,
   "metadata": {},
   "outputs": [
    {
     "name": "stdout",
     "output_type": "stream",
     "text": [
      "platform\n",
      "PS4     314.14\n",
      "PS3     288.79\n",
      "X360    236.54\n",
      "3DS     194.61\n",
      "XOne    159.32\n",
      "WiiU     82.19\n",
      "PC       62.65\n",
      "PSV      49.18\n",
      "Wii      35.37\n",
      "DS       12.55\n",
      "PSP      11.19\n",
      "XB        0.00\n",
      "WS        0.00\n",
      "SNES      0.00\n",
      "SAT       0.00\n",
      "2600      0.00\n",
      "PS        0.00\n",
      "PCFX      0.00\n",
      "NG        0.00\n",
      "N64       0.00\n",
      "GC        0.00\n",
      "GBA       0.00\n",
      "GB        0.00\n",
      "DC        0.00\n",
      "PS2       0.00\n",
      "Name: total_sales, dtype: float64\n"
     ]
    },
    {
     "data": {
      "image/png": "[encoded data removed]",
      "text/plain": [
       "<Figure size 1200x800 with 1 Axes>"
      ]
     },
     "metadata": {},
     "output_type": "display_data"
    }
   ],
   "source": [
    "#Procedemos a identificar y graficar las plataformas más populares por ventas recientes.\n",
    "vgames_recent = vgames[vgames['year_of_release'].between(2012, 2016)]\n",
    "recent_plat = vgames_recent.groupby('platform')['total_sales'].sum().sort_values(ascending=False)\n",
    "print(recent_plat)\n",
    "recent_plat.plot(kind='bar',figsize=(12, 8),title='Ventas recientes por plataforma (2012-2016)',xlabel='Cantidad', ylabel='Plataforma',legend=True, rot=45)\n",
    "plt.tight_layout()\n",
    "plt.show()"
   ]
  },
  {
   "cell_type": "markdown",
   "metadata": {},
   "source": [
    "Ahora analizaremos otras características de nuestros datos como los promedios y diagramas de caja para visualizar sus características."
   ]
  },
  {
   "cell_type": "code",
   "execution_count": 37,
   "metadata": {},
   "outputs": [
    {
     "data": {
      "image/png": "[encoded data removed]",
      "text/plain": [
       "<Figure size 640x480 with 1 Axes>"
      ]
     },
     "metadata": {},
     "output_type": "display_data"
    }
   ],
   "source": [
    "# Referimos a nuestros datos anteriores para filtrar a las 10 plataformas con mayores ventas.\n",
    "top_10_platforms = vgames.groupby('platform')['total_sales'].sum().sort_values(ascending=False).head(10).index #Este truco de head(10).index tambièn se tuvo que consultar.\n",
    "\n",
    "top_10_data = vgames[vgames['platform'].isin(top_10_platforms)]\n",
    "\n",
    "# Hacemos el diagrama de caja para las 10 plataformas principales:\n",
    "sns.boxplot(data=top_10_data, x='platform', y='total_sales')\n",
    "\n",
    "plt.title(\"Distribución de Ventas Totales de Videojuegos por las 10 Plataformas Principales\")\n",
    "plt.xlabel(\"Plataforma\")\n",
    "plt.ylabel(\"Ventas Totales\")\n",
    "plt.xticks(rotation=45)\n",
    "plt.show()"
   ]
  },
  {
   "cell_type": "markdown",
   "metadata": {},
   "source": [
    "<div class=\"alert alert-block alert-success\">\n",
    "<b>Éxito</b> <a class=\"tocSkip\"></a>\n",
    "Generaste visualizaciones claras para analizar lanzamientos por año, ventas por plataforma y la evolución de las ventas en el tiempo. Las gráficas de líneas y dispersión muestran un nivel avanzado de visualización.</div>\n"
   ]
  },
  {
   "cell_type": "markdown",
   "metadata": {},
   "source": [
    "Con esta gráfica pordemos observar aquellas plataformas con mayor numero de outliers. Quiere decir que varios juegos tienen un comportamiento de ventas excepcional."
   ]
  },
  {
   "cell_type": "code",
   "execution_count": 38,
   "metadata": {},
   "outputs": [
    {
     "name": "stdout",
     "output_type": "stream",
     "text": [
      "platform\n",
      "GB      2.251311\n",
      "PS4     0.801378\n",
      "X360    0.769746\n",
      "PS3     0.705973\n",
      "Wii     0.687508\n",
      "N64     0.685517\n",
      "XOne    0.645020\n",
      "PS      0.637253\n",
      "2600    0.617647\n",
      "PS2     0.581106\n",
      "WiiU    0.559116\n",
      "3DS     0.498077\n",
      "SNES    0.470000\n",
      "GBA     0.386679\n",
      "DS      0.374930\n",
      "GC      0.357788\n",
      "XB      0.312791\n",
      "DC      0.306731\n",
      "PC      0.249562\n",
      "PSP     0.243218\n",
      "WS      0.236667\n",
      "SAT     0.180098\n",
      "PSV     0.125744\n",
      "NG      0.050000\n",
      "PCFX    0.030000\n",
      "Name: total_sales, dtype: float64\n"
     ]
    }
   ],
   "source": [
    "mean_sales = vgames.groupby('platform')['total_sales'].mean().sort_values(ascending=False)\n",
    "print(mean_sales)"
   ]
  },
  {
   "cell_type": "markdown",
   "metadata": {},
   "source": [
    "Si bien los promedios de venta por plataforma coinciden con algunos de los que sabemos son los de mayores ventas, también vemos el sesgo de este cálculo al obtener puntajes altos en plataformas obsoletas además del sesgo por datos extremos."
   ]
  },
  {
   "cell_type": "code",
   "execution_count": 39,
   "metadata": {},
   "outputs": [
    {
     "data": {
      "image/png": "[encoded data removed]",
      "text/plain": [
       "<Figure size 1400x800 with 2 Axes>"
      ]
     },
     "metadata": {},
     "output_type": "display_data"
    }
   ],
   "source": [
    "#Analizaremos el impacto de reseñas en las ventas de X360 con gráficos de dispersión y calculando la correlación entre las reseñas y las ventas.\n",
    "X360_data = vgames[vgames['platform'] == 'X360']\n",
    "\n",
    "plt.figure(figsize=(14, 8))\n",
    "\n",
    "# user_score\n",
    "plt.subplot(1, 2, 1) #Este truco tambièn lo consulté para poder mostrar los gráficos.\n",
    "sns.scatterplot(data=X360_data, x='user_score', y='total_sales', color='blue')\n",
    "plt.title('Reseñas de Usuarios y Ventas')\n",
    "plt.xlabel('Puntaje de Usuario')\n",
    "plt.ylabel('Ventas')\n",
    "\n",
    "# critic_score\n",
    "plt.subplot(1, 2, 2)\n",
    "sns.scatterplot(data=X360_data, x='critic_score', y='total_sales', color='green')\n",
    "plt.title('Reseñas de Críticos y Ventas')\n",
    "plt.xlabel('Puntaje de Críticos')\n",
    "plt.ylabel('Ventas')\n",
    "\n",
    "plt.tight_layout()\n",
    "plt.show()"
   ]
  },
  {
   "cell_type": "code",
   "execution_count": 40,
   "metadata": {
    "scrolled": true
   },
   "outputs": [
    {
     "name": "stdout",
     "output_type": "stream",
     "text": [
      "La correlación para las reseñas de usuarios con ventas es: 0.08098679235033586\n",
      "La correlación para las reseñas de críticos con ventas es: 0.3616441980081931\n"
     ]
    }
   ],
   "source": [
    "#Calcularemos la correlación de entre las ventas y las reseñas por usuarios y críticos.\n",
    "\n",
    "user_corr = X360_data['user_score'].corr(X360_data['total_sales'])\n",
    "critic_corr = X360_data['critic_score'].corr(X360_data['total_sales'])\n",
    "\n",
    "print(\"La correlación para las reseñas de usuarios con ventas es:\", user_corr)\n",
    "print(\"La correlación para las reseñas de críticos con ventas es:\", critic_corr)"
   ]
  },
  {
   "cell_type": "markdown",
   "metadata": {},
   "source": [
    "<div class=\"alert alert-block alert-success\">\n",
    "<b>Éxito</b> <a class=\"tocSkip\"></a>\n",
    "Realizaste un análisis interesante de correlación entre puntuaciones y ventas. Identificar que las reseñas de críticos tienen más impacto que las de usuarios es un hallazgo relevante.</div>\n"
   ]
  },
  {
   "cell_type": "markdown",
   "metadata": {},
   "source": [
    "Podemos observar que existe un correlación positiva ligera para el caso de las reseñas de los críticos siendo aquellos títulos que califican mejor las que logran un poco más de ventas. Si bien los usuario también hay una correlación positiva, es mucho menor, aunque también implica que los usuarios están más abiertos a adquirir juegos que no necesariamente son aquellos que las mejores calificaciones.\n",
    "Analizaremos los 5 mejores juegos vendidos de X360 que también esten disponibles en otra plataforma para comparar las ventas."
   ]
  },
  {
   "cell_type": "code",
   "execution_count": 41,
   "metadata": {},
   "outputs": [
    {
     "name": "stdout",
     "output_type": "stream",
     "text": [
      "                              name platform  total_sales\n",
      "17              Grand Theft Auto V     X360        16.27\n",
      "23  Call of Duty: Modern Warfare 3     X360        14.73\n",
      "26         Call of Duty: Black Ops     X360        14.62\n",
      "29      Call of Duty: Black Ops II     X360        13.68\n",
      "30  Call of Duty: Modern Warfare 2     X360        13.47\n"
     ]
    }
   ],
   "source": [
    "#Ubicamos de los datos de X360 los 5 títulos más vendidos, que también estén disponibles en otra plataforma utilizando la variable predefinida de los datos de X360.\n",
    "\n",
    "multi_plat = vgames['name'].value_counts()[vgames['name'].value_counts() > 1].index #Este código lo tuve que consultar mucho porque no me estaba dando en mis iteraciones previas.\n",
    "x_multi = X360_data[X360_data['name'].isin(multi_plat)]\n",
    "\n",
    "# Ordena por ventas totales en orden descendente y selecciona los 5 primeros\n",
    "top_5_multi = x_multi.sort_values(by='total_sales', ascending=False).head(5)\n",
    "\n",
    "# Mostrar el resultado\n",
    "print(top_5_multi[['name', 'platform', 'total_sales']])"
   ]
  },
  {
   "cell_type": "code",
   "execution_count": 42,
   "metadata": {},
   "outputs": [
    {
     "name": "stdout",
     "output_type": "stream",
     "text": [
      "                               name platform  total_sales\n",
      "22          Call of Duty: Black Ops     X360        14.62\n",
      "13          Call of Duty: Black Ops      PS3        12.63\n",
      "9           Call of Duty: Black Ops       PC         1.62\n",
      "20          Call of Duty: Black Ops      Wii         1.37\n",
      "3           Call of Duty: Black Ops       DS         0.58\n",
      "38       Call of Duty: Black Ops II      PS3        13.79\n",
      "47       Call of Duty: Black Ops II     X360        13.68\n",
      "34       Call of Duty: Black Ops II       PC         1.52\n",
      "46       Call of Duty: Black Ops II     WiiU         0.41\n",
      "72   Call of Duty: Modern Warfare 2     X360        13.47\n",
      "63   Call of Duty: Modern Warfare 2      PS3        10.61\n",
      "59   Call of Duty: Modern Warfare 2       PC         0.89\n",
      "97   Call of Duty: Modern Warfare 3     X360        14.73\n",
      "88   Call of Duty: Modern Warfare 3      PS3        13.33\n",
      "84   Call of Duty: Modern Warfare 3       PC         1.71\n",
      "95   Call of Duty: Modern Warfare 3      Wii         0.83\n",
      "113              Grand Theft Auto V      PS3        21.05\n",
      "122              Grand Theft Auto V     X360        16.27\n",
      "114              Grand Theft Auto V      PS4        12.62\n",
      "124              Grand Theft Auto V     XOne         5.47\n",
      "109              Grand Theft Auto V       PC         1.17\n"
     ]
    }
   ],
   "source": [
    "#Ahora que hemos identificado los tìtulos especìficos podemos crear una lista para mostrar las ventas en las otras plataformas:\n",
    "titles = [\"Grand Theft Auto V\",\"Call of Duty: Modern Warfare 3\",\"Call of Duty: Black Ops\",\"Call of Duty: Black Ops II\",\"Call of Duty: Modern Warfare 2\"]\n",
    "\n",
    "# Se filtra el DataFrame para obtener estos títulos específicos en sus distintas plataformas\n",
    "platform_sales = vgames[vgames['name'].isin(titles)]\n",
    "\n",
    "# Obtenemos las ventas por plataforma\n",
    "title_sales = platform_sales.groupby(['name', 'platform'])['total_sales'].sum().reset_index()\n",
    "\n",
    "# Se agregò en otra iteraciòn este filtro para excluir las que no tuvieron ventas\n",
    "title_sales = title_sales[title_sales['total_sales'] > 0]\n",
    "\n",
    "# Reordenamos para visualizar mejor\n",
    "title_sales = title_sales.sort_values(by=['name', 'total_sales'], ascending=[True, False]) #También lo consulté para asignar valores booleanos a cada columna.\n",
    "\n",
    "print(title_sales)"
   ]
  },
  {
   "cell_type": "markdown",
   "metadata": {},
   "source": [
    "Podemos observar que en los tìtulos màs vendidos de X360 que ademàs fueron multiplataforma, hubo férrea competencia con PS3. Podemos observar que el caso de Grand Theft Auto V es atípico por su logevidad y por ende disponiblidad en varias plataformas multigeneraciòn, lo cual coincide en que es el producto cultural más vendido de la humanidad.\n",
    "Echaremos un vistazo a los géneros de los títulos, para poder determinar cómo impacta en las ventas de los mismos."
   ]
  },
  {
   "cell_type": "code",
   "execution_count": 43,
   "metadata": {},
   "outputs": [
    {
     "name": "stdout",
     "output_type": "stream",
     "text": [
      "genre\n",
      "Action          1669.14\n",
      "Sports          1271.94\n",
      "Shooter          974.88\n",
      "Role-Playing     877.68\n",
      "Misc             779.49\n",
      "Racing           691.50\n",
      "Platform         597.36\n",
      "Fighting         392.60\n",
      "Simulation       376.96\n",
      "Adventure        213.80\n",
      "Strategy         162.00\n",
      "Puzzle           158.36\n",
      "Name: total_sales, dtype: float64\n"
     ]
    }
   ],
   "source": [
    "genre_sales= vgames.groupby('genre')['total_sales'].sum().sort_values(ascending=False)\n",
    "print(genre_sales)"
   ]
  },
  {
   "cell_type": "code",
   "execution_count": 44,
   "metadata": {},
   "outputs": [
    {
     "data": {
      "image/png": "[encoded data removed]",
      "text/plain": [
       "<Figure size 1000x600 with 1 Axes>"
      ]
     },
     "metadata": {},
     "output_type": "display_data"
    }
   ],
   "source": [
    "#Procedemos a graficarlo\n",
    "genre_sales.plot(kind='bar',figsize=(10, 6),title='Ventas por género',x='genre',y='total_sales',xlabel='Género',ylabel='Ventas',legend=True, rot=45)\n",
    "plt.tight_layout()\n",
    "plt.show()"
   ]
  },
  {
   "cell_type": "markdown",
   "metadata": {},
   "source": [
    "Podemos observar que los títulos más vendidos son los de acción, deportes y shooter, seguido por RPG's y Misceláneos. Si bien es un buen dato a observar no podemos descartar que lo mismo se deba a que precisamente se lanzan más títulos en esas categorías por lo cual un mayor análisis podría calcular una especie de rentabilidad de cada título dividiendo las ventas entre la cantidad de títulos."
   ]
  },
  {
   "cell_type": "markdown",
   "metadata": {},
   "source": [
    "## Paso 4. Perfiles regionales."
   ]
  },
  {
   "cell_type": "code",
   "execution_count": 45,
   "metadata": {},
   "outputs": [
    {
     "name": "stdout",
     "output_type": "stream",
     "text": [
      "Las principales plataformas para Norteamerica son: platform\n",
      "X360    602.47\n",
      "PS2     583.84\n",
      "Wii     496.90\n",
      "PS3     393.49\n",
      "DS      382.40\n",
      "Name: na_sales, dtype: float64\n",
      "\n",
      "Las principales plataformas para Europa son: platform\n",
      "PS2     339.29\n",
      "PS3     330.29\n",
      "X360    270.76\n",
      "Wii     262.21\n",
      "PS      202.56\n",
      "Name: eu_sales, dtype: float64\n",
      "\n",
      "Las principales plataformas para Japón son: platform\n",
      "DS     175.55\n",
      "PS2    139.20\n",
      "PS     127.61\n",
      "3DS    100.67\n",
      "PS3     80.19\n",
      "Name: jp_sales, dtype: float64\n"
     ]
    }
   ],
   "source": [
    "#Para cada región obtenemos las 5 plataformas principales.\n",
    "#Describe las variaciones en sus cuotas de mercado de una región a otra.#\n",
    "#Los cinco géneros principales. Explica la diferencia.\n",
    "#Si las clasificaciones de ESRB afectan a las ventas en regiones individuales.\n",
    "\n",
    "region_na = vgames.groupby('platform')['na_sales'].sum()\n",
    "top_na= region_na.sort_values(ascending=False).head(5)\n",
    "print('Las principales plataformas para Norteamerica son:',top_na)\n",
    "print()\n",
    "region_eu = vgames.groupby('platform')['eu_sales'].sum()\n",
    "top_eu= region_eu.sort_values(ascending=False).head(5)\n",
    "print('Las principales plataformas para Europa son:',top_eu)\n",
    "print()\n",
    "region_jp = vgames.groupby('platform')['jp_sales'].sum()\n",
    "top_jp= region_jp.sort_values(ascending=False).head(5)\n",
    "print('Las principales plataformas para Japón son:',top_jp)\n",
    "\n",
    "\n"
   ]
  },
  {
   "cell_type": "code",
   "execution_count": 46,
   "metadata": {},
   "outputs": [
    {
     "name": "stdout",
     "output_type": "stream",
     "text": [
      "platform\n",
      "PS3     566.46\n",
      "X360    529.44\n",
      "PS2     474.49\n",
      "Wii     444.00\n",
      "DS      372.47\n",
      "dtype: float64\n"
     ]
    }
   ],
   "source": [
    "# Al cacularlo de la forma anterior hemos detectado un obstáculo en el sentido que las 5 plataformas más vendidas entre cada región quizá no coincidan.\n",
    "#Por lo anterior hacemos un filtrado para solo considerar las 5 plataformas más vendidas con ventas en las 3 regiones distintas. \n",
    "top_5_platforms = (vgames[(vgames['na_sales'] > 0) & (vgames['eu_sales'] > 0) & (vgames['jp_sales'] > 0)]\n",
    ".groupby('platform')[['na_sales', 'eu_sales', 'jp_sales']].sum())  #Tuve que consultar esto por la complejidad que fui agregando y aumenta la probabilidad de errores.\n",
    "top_5_platforms = top_5_platforms.sum(axis=1).sort_values(ascending=False).head(5)\n",
    "\n",
    "print(top_5_platforms)\n"
   ]
  },
  {
   "cell_type": "code",
   "execution_count": 50,
   "metadata": {},
   "outputs": [
    {
     "name": "stdout",
     "output_type": "stream",
     "text": [
      "  Platform   sales\n",
      "0      PS3  566.46\n",
      "1     X360  529.44\n",
      "2      PS2  474.49\n",
      "3      Wii  444.00\n",
      "4       DS  372.47\n"
     ]
    }
   ],
   "source": [
    "#Para facilitar los cálculos de cuota de mercado y varianza entre regiones, crearemos un Df.\n",
    "datos_cuota = {\n",
    "    'Platform': ['PS3','X360','PS2','Wii','DS'],\n",
    "    'sales':[566.46,529.44,474.49,444.00,372.47]\n",
    "}\n",
    "\n",
    "vgamesmarket = pd.DataFrame(datos_cuota)\n",
    "print(vgamesmarket)\n"
   ]
  },
  {
   "cell_type": "code",
   "execution_count": 51,
   "metadata": {},
   "outputs": [
    {
     "data": {
      "text/html": [
       "<div>\n",
       "<style scoped>\n",
       "    .dataframe tbody tr th:only-of-type {\n",
       "        vertical-align: middle;\n",
       "    }\n",
       "\n",
       "    .dataframe tbody tr th {\n",
       "        vertical-align: top;\n",
       "    }\n",
       "\n",
       "    .dataframe thead th {\n",
       "        text-align: right;\n",
       "    }\n",
       "</style>\n",
       "<table border=\"1\" class=\"dataframe\">\n",
       "  <thead>\n",
       "    <tr style=\"text-align: right;\">\n",
       "      <th></th>\n",
       "      <th>Platform</th>\n",
       "      <th>sales</th>\n",
       "      <th>Cuota en %</th>\n",
       "    </tr>\n",
       "  </thead>\n",
       "  <tbody>\n",
       "    <tr>\n",
       "      <th>0</th>\n",
       "      <td>PS3</td>\n",
       "      <td>566.46</td>\n",
       "      <td>23.732435</td>\n",
       "    </tr>\n",
       "    <tr>\n",
       "      <th>1</th>\n",
       "      <td>X360</td>\n",
       "      <td>529.44</td>\n",
       "      <td>22.181443</td>\n",
       "    </tr>\n",
       "    <tr>\n",
       "      <th>2</th>\n",
       "      <td>PS2</td>\n",
       "      <td>474.49</td>\n",
       "      <td>19.879256</td>\n",
       "    </tr>\n",
       "    <tr>\n",
       "      <th>3</th>\n",
       "      <td>Wii</td>\n",
       "      <td>444.00</td>\n",
       "      <td>18.601845</td>\n",
       "    </tr>\n",
       "    <tr>\n",
       "      <th>4</th>\n",
       "      <td>DS</td>\n",
       "      <td>372.47</td>\n",
       "      <td>15.605021</td>\n",
       "    </tr>\n",
       "  </tbody>\n",
       "</table>\n",
       "</div>"
      ],
      "text/plain": [
       "  Platform   sales  Cuota en %\n",
       "0      PS3  566.46   23.732435\n",
       "1     X360  529.44   22.181443\n",
       "2      PS2  474.49   19.879256\n",
       "3      Wii  444.00   18.601845\n",
       "4       DS  372.47   15.605021"
      ]
     },
     "execution_count": 51,
     "metadata": {},
     "output_type": "execute_result"
    }
   ],
   "source": [
    "#Creamos una pequeña función para calcular la cuota de mercado por plataforma de los top 5 para la región:\n",
    "\n",
    "def cuotamerc(row):\n",
    "    totalsales = vgamesmarket['sales'].sum()\n",
    "    cuota = []\n",
    "    return (row['sales']*100)/totalsales\n",
    "\n",
    "#Este tuve que buscarlo , aunque sencillo es elegante porque se aplica la función al mismo tiempo que se agrega la columna.\n",
    "vgamesmarket['Cuota en %'] = vgamesmarket.apply(cuotamerc, axis=1)\n",
    "\n",
    "vgamesmarket.head()"
   ]
  },
  {
   "cell_type": "code",
   "execution_count": 58,
   "metadata": {},
   "outputs": [
    {
     "name": "stdout",
     "output_type": "stream",
     "text": [
      "(393.49, 602.47, 583.84, 496.9, 382.4)\n",
      "\n",
      "(330.29, 270.76, 339.29, 262.21000000000004, 188.89000000000001)\n",
      "\n",
      "(80.19, 12.430000000000001, 139.2, 69.33, 175.55)\n",
      "\n"
     ]
    }
   ],
   "source": [
    "PS3_na = vgames[vgames['platform'] == 'PS3']['na_sales'].sum()\n",
    "X360_na = vgames[vgames['platform'] == 'X360']['na_sales'].sum()\n",
    "PS2_na = vgames[vgames['platform'] == 'PS2']['na_sales'].sum()\n",
    "Wii_na = vgames[vgames['platform'] == 'Wii']['na_sales'].sum()\n",
    "DS_na = vgames[vgames['platform'] == 'DS']['na_sales'].sum()\n",
    "all_na = PS3_na,X360_na,PS2_na,Wii_na,DS_na\n",
    "print(all_na)\n",
    "print()\n",
    "PS3_eu = vgames[vgames['platform'] == 'PS3']['eu_sales'].sum()\n",
    "X360_eu = vgames[vgames['platform'] == 'X360']['eu_sales'].sum()\n",
    "PS2_eu = vgames[vgames['platform'] == 'PS2']['eu_sales'].sum()\n",
    "Wii_eu = vgames[vgames['platform'] == 'Wii']['eu_sales'].sum()\n",
    "DS_eu = vgames[vgames['platform'] == 'DS']['eu_sales'].sum()\n",
    "all_eu = PS3_eu,X360_eu,PS2_eu,Wii_eu,DS_eu\n",
    "print(all_eu)\n",
    "print()\n",
    "PS3_jp = vgames[vgames['platform'] == 'PS3']['jp_sales'].sum()\n",
    "X360_jp = vgames[vgames['platform'] == 'X360']['jp_sales'].sum()\n",
    "PS2_jp = vgames[vgames['platform'] == 'PS2']['jp_sales'].sum()\n",
    "Wii_jp = vgames[vgames['platform'] == 'Wii']['jp_sales'].sum()\n",
    "DS_jp = vgames[vgames['platform'] == 'DS']['jp_sales'].sum()\n",
    "all_jp = PS3_jp,X360_jp,PS2_jp,Wii_jp,DS_jp\n",
    "print(all_jp)\n",
    "print()"
   ]
  },
  {
   "cell_type": "code",
   "execution_count": 61,
   "metadata": {},
   "outputs": [
    {
     "name": "stdout",
     "output_type": "stream",
     "text": [
      "Variación PS3\n",
      "-30.535254033824106\n",
      "-41.69226423754546\n",
      "-85.84366062917064\n",
      "\n",
      "Variación X360\n",
      "13.793819885161673\n",
      "-48.8591719552735\n",
      "-97.65223632517377\n",
      "\n",
      "Variación PS2\n",
      "23.045796539442353\n",
      "-28.493751185483358\n",
      "-70.66323842441359\n",
      "\n",
      "Variación Wii\n",
      "11.91441441441441\n",
      "-40.9436936936937\n",
      "-84.38513513513513\n",
      "\n",
      "Variación DS\n",
      "2.6659865224044754\n",
      "-49.287190914704546\n",
      "-52.86868741106666\n"
     ]
    }
   ],
   "source": [
    "#Ahora utilizando la cuota de mercado global como base podemos calcular la varianza por plataforma para cada regiòn regiones:\n",
    "sales_PS3 = 566.46\n",
    "na_PS3 = 393.49\n",
    "eu_PS3 = 330.29\n",
    "jp_PS3 = 80.19\n",
    "\n",
    "# Variación na\n",
    "variacion_na = ((na_PS3 - sales_PS3) / sales_PS3) * 100\n",
    "\n",
    "# Variación eu\n",
    "variacion_eu = ((eu_PS3 - sales_PS3) / sales_PS3) * 100\n",
    "\n",
    "# Variación jp\n",
    "variacion_jp = ((jp_PS3 - sales_PS3) / sales_PS3) * 100\n",
    "\n",
    "print('Variación PS3')\n",
    "print(variacion_na)\n",
    "print(variacion_eu)\n",
    "print(variacion_jp)\n",
    "print()\n",
    "\n",
    "#2 X360\n",
    "sales_X360 = 529.44\n",
    "na_X360 = 602.47\n",
    "eu_X360 = 270.76\n",
    "jp_X360 = 12.43\n",
    "\n",
    "# Variación na\n",
    "variacion_na = ((na_X360 - sales_X360) / sales_X360) * 100\n",
    "\n",
    "# Variación eu\n",
    "variacion_eu = ((eu_X360 - sales_X360) / sales_X360) * 100\n",
    "\n",
    "# Variación jp\n",
    "variacion_jp = ((jp_X360 - sales_X360) / sales_X360) * 100\n",
    "\n",
    "print('Variación X360')\n",
    "print(variacion_na)\n",
    "print(variacion_eu)\n",
    "print(variacion_jp)\n",
    "print()\n",
    "\n",
    "#3 PS2\n",
    "sales_PS2 = 474.49\n",
    "na_PS2 = 583.84\n",
    "eu_PS2 =339.29\n",
    "jp_PS2 = 139.2\n",
    "\n",
    "# Variación na\n",
    "variacion_na = ((na_PS2 - sales_PS2) / sales_PS2) * 100\n",
    "\n",
    "# Variación eu\n",
    "variacion_eu = ((eu_PS2 - sales_PS2) / sales_PS2) * 100\n",
    "\n",
    "# Variación jp\n",
    "variacion_jp = ((jp_PS2 - sales_PS2) / sales_PS2) * 100\n",
    "\n",
    "print('Variación PS2')\n",
    "print(variacion_na)\n",
    "print(variacion_eu)\n",
    "print(variacion_jp)\n",
    "print()\n",
    "\n",
    "#4 Wii\n",
    "sales_Wii = 444.00\n",
    "na_Wii = 496.9\n",
    "eu_Wii = 262.21\n",
    "jp_Wii = 69.33\n",
    "\n",
    "# Variación na\n",
    "variacion_na = ((na_Wii - sales_Wii) / sales_Wii) * 100\n",
    "\n",
    "# Variación eu\n",
    "variacion_eu = ((eu_Wii - sales_Wii) / sales_Wii) * 100\n",
    "\n",
    "# Variación jp\n",
    "variacion_jp = ((jp_Wii - sales_Wii) / sales_Wii) * 100\n",
    "\n",
    "print('Variación Wii')\n",
    "print(variacion_na)\n",
    "print(variacion_eu)\n",
    "print(variacion_jp)\n",
    "print()\n",
    "\n",
    "#5 DS\n",
    "sales_DS = 372.47\n",
    "na_DS = 382.4\n",
    "eu_DS = 188.89\n",
    "jp_DS = 175.55\n",
    "\n",
    "# Variación na\n",
    "variacion_na = ((na_DS - sales_DS) / sales_DS) * 100\n",
    "\n",
    "# Variación eu\n",
    "variacion_eu = ((eu_DS - sales_DS) / sales_DS) * 100\n",
    "\n",
    "# Variación jp\n",
    "variacion_jp = ((jp_DS - sales_DS) / sales_DS) * 100\n",
    "\n",
    "print('Variación DS')\n",
    "print(variacion_na)\n",
    "print(variacion_eu)\n",
    "print(variacion_jp)"
   ]
  },
  {
   "cell_type": "code",
   "execution_count": 62,
   "metadata": {},
   "outputs": [
    {
     "data": {
      "text/html": [
       "<div>\n",
       "<style scoped>\n",
       "    .dataframe tbody tr th:only-of-type {\n",
       "        vertical-align: middle;\n",
       "    }\n",
       "\n",
       "    .dataframe tbody tr th {\n",
       "        vertical-align: top;\n",
       "    }\n",
       "\n",
       "    .dataframe thead th {\n",
       "        text-align: right;\n",
       "    }\n",
       "</style>\n",
       "<table border=\"1\" class=\"dataframe\">\n",
       "  <thead>\n",
       "    <tr style=\"text-align: right;\">\n",
       "      <th></th>\n",
       "      <th>Platform</th>\n",
       "      <th>sales</th>\n",
       "      <th>Cuota en %</th>\n",
       "      <th>Var NA</th>\n",
       "      <th>Var EU</th>\n",
       "      <th>Var JP</th>\n",
       "    </tr>\n",
       "  </thead>\n",
       "  <tbody>\n",
       "    <tr>\n",
       "      <th>0</th>\n",
       "      <td>PS3</td>\n",
       "      <td>566.46</td>\n",
       "      <td>23.732435</td>\n",
       "      <td>-30.53</td>\n",
       "      <td>-41.69</td>\n",
       "      <td>-85.84</td>\n",
       "    </tr>\n",
       "    <tr>\n",
       "      <th>1</th>\n",
       "      <td>X360</td>\n",
       "      <td>529.44</td>\n",
       "      <td>22.181443</td>\n",
       "      <td>13.79</td>\n",
       "      <td>-48.85</td>\n",
       "      <td>-97.65</td>\n",
       "    </tr>\n",
       "    <tr>\n",
       "      <th>2</th>\n",
       "      <td>PS2</td>\n",
       "      <td>474.49</td>\n",
       "      <td>19.879256</td>\n",
       "      <td>23.04</td>\n",
       "      <td>-28.49</td>\n",
       "      <td>-70.66</td>\n",
       "    </tr>\n",
       "    <tr>\n",
       "      <th>3</th>\n",
       "      <td>Wii</td>\n",
       "      <td>444.00</td>\n",
       "      <td>18.601845</td>\n",
       "      <td>11.91</td>\n",
       "      <td>-40.94</td>\n",
       "      <td>-84.38</td>\n",
       "    </tr>\n",
       "    <tr>\n",
       "      <th>4</th>\n",
       "      <td>DS</td>\n",
       "      <td>372.47</td>\n",
       "      <td>15.605021</td>\n",
       "      <td>2.66</td>\n",
       "      <td>-49.28</td>\n",
       "      <td>-52.86</td>\n",
       "    </tr>\n",
       "  </tbody>\n",
       "</table>\n",
       "</div>"
      ],
      "text/plain": [
       "  Platform   sales  Cuota en %  Var NA  Var EU  Var JP\n",
       "0      PS3  566.46   23.732435  -30.53  -41.69  -85.84\n",
       "1     X360  529.44   22.181443   13.79  -48.85  -97.65\n",
       "2      PS2  474.49   19.879256   23.04  -28.49  -70.66\n",
       "3      Wii  444.00   18.601845   11.91  -40.94  -84.38\n",
       "4       DS  372.47   15.605021    2.66  -49.28  -52.86"
      ]
     },
     "execution_count": 62,
     "metadata": {},
     "output_type": "execute_result"
    }
   ],
   "source": [
    "#Por último agregamos las columnas con los datos obtenidos:\n",
    "vgamesmarket['Var NA']=[-30.53,13.79,23.04,11.91,2.66]\n",
    "vgamesmarket['Var EU']=[-41.69,-48.85,-28.49,-40.94,-49.28]\n",
    "vgamesmarket['Var JP']=[-85.84,-97.65,-70.66,-84.38,-52.86]\n",
    "\n",
    "vgamesmarket.head()\n"
   ]
  },
  {
   "cell_type": "markdown",
   "metadata": {},
   "source": [
    "<div class=\"alert alert-block alert-success\">\n",
    "<b>Éxito</b> <a class=\"tocSkip\"></a>\n",
    "Identificaste diferencias clave entre regiones, y la creación de un DataFrame compacto para las cuotas de mercado es una excelente práctica. La tabla de variación regional aporta valor al análisis.</div>\n",
    "\n",
    "<div class=\"alert alert-block alert-warning\">\n",
    "<b>Atención</b> <a class=\"tocSkip\"></a>\n",
    "La varianza por región fue calculada tomando como base las ventas globales. Esto está bien, pero incluir una comparación directa entre regiones (NA vs JP, por ejemplo) podría revelar más patrones.</div>\n"
   ]
  },
  {
   "cell_type": "markdown",
   "metadata": {},
   "source": [
    "#Este método no estoy seguro que sea práctica estándar, es decir hacer la comparación de varianza como base la venta global. En todo caso dependiendo de la estrategia se puede determinar cual es tu región de ventas \"base\" es decir es que utilizas como baseline a partir del cual haces tus comparaciones.\n",
    "Podemos concluir que Japón representa la menor cantidad de ventas en todas las plataformas sin embargo el DS es el que mejor vendio pero aún así el DS vendió mejor en NA.\n",
    "La tabla nos permite tener un concentrado de datos para obtener más inferencias."
   ]
  },
  {
   "cell_type": "code",
   "execution_count": 70,
   "metadata": {},
   "outputs": [
    {
     "name": "stdout",
     "output_type": "stream",
     "text": [
      "platform  rating\n",
      "Wii       E         276.74\n",
      "X360      M         271.55\n",
      "DS        E         226.10\n",
      "PS2       E         206.09\n",
      "          T         183.23\n",
      "                     ...  \n",
      "PC        AO          0.00\n",
      "          RP          0.00\n",
      "PCFX      AO          0.00\n",
      "          E           0.00\n",
      "PS2       K-A         0.00\n",
      "Name: na_sales, Length: 200, dtype: float64\n",
      "platform  rating\n",
      "Wii       E         151.75\n",
      "PS3       M         135.98\n",
      "X360      M         122.80\n",
      "PS2       E         116.03\n",
      "DS        E         112.16\n",
      "                     ...  \n",
      "PC        AO          0.00\n",
      "          EC          0.00\n",
      "PCFX      AO          0.00\n",
      "          E           0.00\n",
      "PS2       K-A         0.00\n",
      "Name: eu_sales, Length: 200, dtype: float64\n",
      "platform  rating\n",
      "DS        E         60.29\n",
      "PS2       T         43.58\n",
      "Wii       E         40.09\n",
      "PS3       T         25.51\n",
      "          M         24.77\n",
      "                    ...  \n",
      "PC        EC         0.00\n",
      "          K-A        0.00\n",
      "          RP         0.00\n",
      "          T          0.00\n",
      "PS2       K-A        0.00\n",
      "Name: jp_sales, Length: 200, dtype: float64\n"
     ]
    }
   ],
   "source": [
    "#Analizaremos el impacto de la clasificación de ESRB en las ventas por región con gráficos de dispersión y calculando la correlación entre las clasificaciones y las ventas.\n",
    "ESRB_na = vgames.groupby(['platform', 'rating'])['na_sales'].sum().sort_values(ascending=False)\n",
    "ESRB_eu = vgames.groupby(['platform', 'rating'])['eu_sales'].sum().sort_values(ascending=False)\n",
    "ESRB_jp = vgames.groupby(['platform', 'rating'])['jp_sales'].sum().sort_values(ascending=False)\n",
    "\n",
    "print(ESRB_na)\n",
    "print(ESRB_eu)\n",
    "print(ESRB_jp)"
   ]
  },
  {
   "cell_type": "markdown",
   "metadata": {},
   "source": [
    "Podemos observar diferencias en las clasificaciones de ESRB más vendidas por región pero no podemos afirmar que el factor determinante sea la clasificaciòn ESRB. Requiere mayor investigación pero otra respuesta puede ser que dependiendo la plataforma es que aumenta o disminuye la cantidad de juegos para ciertas edades como por ejemplo Nintendo tiende a tener juegos para todas las edades, y Xbox llegó a hacer campaña de su plataforma como aquella para los de edad \"madura\"."
   ]
  },
  {
   "cell_type": "markdown",
   "metadata": {},
   "source": [
    "# Paso 5. Prueba de hipótesis."
   ]
  },
  {
   "cell_type": "markdown",
   "metadata": {},
   "source": [
    "<div class=\"alert alert-block alert-warning\">\n",
    "<b>Atención</b> <a class=\"tocSkip\"></a>\n",
    "Andrés, noté que ya incluiste una prueba \\(t\\) de Student en tu análisis para comparar las ventas promedio entre plataformas. ¡Bien hecho al incorporar este enfoque estadístico! Sin embargo, hay algunos puntos que podrías mejorar para fortalecer esta parte del trabajo:\n",
    "\n",
    "1. **Explicación de hipótesis**: \n",
    "   Es importante que definas de manera explícita las hipótesis que estás evaluando. Por ejemplo:\n",
    "   - \\(H_0\\): Las ventas promedio de las dos plataformas son iguales.\n",
    "   - \\(H_1\\): Las ventas promedio de las dos plataformas son diferentes.\n",
    "\n",
    "   Al incluir estas definiciones, ayudarás a los lectores a entender mejor el propósito de la prueba.\n",
    "\n",
    "2. **Validación de supuestos**:\n",
    "   Antes de realizar una prueba \\(t\\), es esencial verificar los supuestos de normalidad y homogeneidad de varianzas:\n",
    "   - **Normalidad**: Usa el test de Shapiro-Wilk para confirmar que los datos siguen una distribución normal.\n",
    "     ```python\n",
    "     from scipy.stats import shapiro\n",
    "     stat, p = shapiro(ps4_sales.dropna())\n",
    "     print(f'Estadístico Shapiro: {stat}, p-valor: {p}')\n",
    "     if p < 0.05:\n",
    "         print(\"No sigue una distribución normal.\")\n",
    "     else:\n",
    "         print(\"Sigue una distribución normal.\")\n",
    "     ```\n",
    "   - **Homogeneidad de varianzas**: Usa el test de Levene para verificar si las varianzas entre los grupos son iguales.\n",
    "     ```python\n",
    "     from scipy.stats import levene\n",
    "     stat, p = levene(ps4_sales, xbox_sales)\n",
    "     print(f'Estadístico Levene: {stat}, p-valor: {p}')\n",
    "     if p < 0.05:\n",
    "         print(\"No se cumple la homogeneidad de varianzas.\")\n",
    "     else:\n",
    "         print(\"Se cumple la homogeneidad de varianzas.\")\n",
    "     ```\n",
    "\n",
    "   Si los supuestos no se cumplen, podrías optar por una versión alternativa de la prueba \\(t\\), como Welch, que ya usaste al establecer `equal_var=False`.\n",
    "\n",
    "3. **Interpretación de resultados**:\n",
    "   Aunque presentaste el \\(p\\)-valor, sería ideal explicar su significado en el contexto del problema. Por ejemplo:\n",
    "   - Si \\(p < 0.05\\), puedes concluir que las diferencias en ventas promedio entre las plataformas son significativas.\n",
    "   - Si \\(p > 0.05\\), no hay suficiente evidencia para afirmar que las ventas promedio son diferentes.\n",
    "\n",
    "4. **Conclusión práctica**:\n",
    "   Añadir una interpretación más concreta sobre cómo este resultado impacta el análisis general sería muy útil. Por ejemplo, podrías mencionar cuál plataforma parece ser más favorable en ventas promedio y si esto coincide con tus observaciones iniciales.\n",
    "\n",
    "¡Excelente trabajo, Andrés! Estos pequeños ajustes harán que tu análisis sea más sólido y claro. 😊\n",
    "</div>\n",
    "\n"
   ]
  },
  {
   "cell_type": "markdown",
   "metadata": {},
   "source": [
    "Probaremos la hipótesis que las calificaciones promedio de los usuarios para las plataformas Xbox One y PC son las mismas."
   ]
  },
  {
   "cell_type": "code",
   "execution_count": 73,
   "metadata": {},
   "outputs": [
    {
     "name": "stdout",
     "output_type": "stream",
     "text": [
      "6.65587044534413\n",
      "7.110844629822732\n",
      "valor p:  4.4060870953772325e-07\n",
      "Rechazamos la hipótesis nula\n"
     ]
    }
   ],
   "source": [
    "# Prueba las hipótesis.\n",
    "#En primera instancia obtenemos el promedio de calificaciones de usuarios para Xbox One y PC.\n",
    "mean_XOne = vgames[vgames['platform'] == 'XOne']['user_score'].mean()\n",
    "mean_PC = vgames[vgames['platform'] == 'PC']['user_score'].mean()\n",
    "print(mean_XOne)\n",
    "print(mean_PC)\n",
    "\n",
    "#Si bien nos queda claro que los promedios son distintos para hacer las hipótesis estadísticas primero transformaremos los datos de cada plan a una Series, para despues utilizar la función donde conocemos las medias de dos poblaciones estadísticas, siendo la hipótesis nula que no hay mucha diferencia en promedio y la alternativa que sí la hay.\n",
    "XOne_values = vgames[vgames['platform'] == 'XOne']['user_score']\n",
    "PC_values = vgames[vgames['platform'] == 'PC']['user_score']\n",
    "\n",
    "alpha = 0.05  # el nivel de significancia estadística crítica\n",
    "# si el valor p es menor que alpha, rechazamos la hipótesis\n",
    "\n",
    "results = st.ttest_ind(XOne_values, PC_values,equal_var=False) # realizar una prueba\n",
    "\n",
    "print('valor p: ', results.pvalue) # extraer el valor p\n",
    "\n",
    "if results.pvalue < alpha: # comparar el valor p con el umbral\n",
    "    print(\"Rechazamos la hipótesis nula\")\n",
    "else:\n",
    "    print(\"No podemos rechazar la hipótesis nula\")"
   ]
  },
  {
   "cell_type": "markdown",
   "metadata": {},
   "source": [
    "Hemos rechazado la hipótesis de que los promedios son similares por lo que se confirma que una plataforma tiene mejores reseñas que otra.\n",
    "\n",
    "Probaremos la hipótesis de que las calificaciones promedio de los usuarios para los géneros de Acción y Deportes son diferentes, por lo que haremos algo similar al paso anterior.\n",
    "\n",
    "Nuestra hipótesis nula es que no hay mucha diferencia en el planteamiento por lo que se confirma que son diferentes y la alternativa es que si la hay por lo que serian iguales."
   ]
  },
  {
   "cell_type": "code",
   "execution_count": 74,
   "metadata": {},
   "outputs": [
    {
     "name": "stdout",
     "output_type": "stream",
     "text": [
      "7.205967643467644\n",
      "7.332474455797424\n",
      "valor p:  4.4060870953772325e-07\n",
      "Rechazamos la hipótesis nula\n"
     ]
    }
   ],
   "source": [
    "# Prueba las hipótesis.\n",
    "#En primera instancia obtenemos el promedio de calificaciones de usuarios para generos Acción y Deportes.\n",
    "mean_accion = vgames[vgames['genre'] == 'Action']['user_score'].mean()\n",
    "mean_deporte = vgames[vgames['genre'] == 'Sports']['user_score'].mean()\n",
    "print(mean_accion)\n",
    "print(mean_deporte)\n",
    "\n",
    "accion_values = vgames[vgames['genre'] == 'Action']['user_score']\n",
    "sports_values = vgames[vgames['genre'] == 'Sports']['user_score']\n",
    "\n",
    "alpha = 0.05  # el nivel de significancia estadística crítica\n",
    "# si el valor p es menor que alpha, rechazamos la hipótesis\n",
    "\n",
    "results = st.ttest_ind(XOne_values, PC_values,equal_var=False) # realizar una prueba\n",
    "\n",
    "print('valor p: ', results.pvalue) # extraer el valor p\n",
    "\n",
    "if results.pvalue < alpha: # comparar el valor p con el umbral\n",
    "    print(\"Rechazamos la hipótesis nula\")\n",
    "else:\n",
    "    print(\"No podemos rechazar la hipótesis nula\")"
   ]
  },
  {
   "cell_type": "markdown",
   "metadata": {},
   "source": [
    "Hemos rechazado la hipótesis nula por lo que la alternativa es que los promedios son relativamente iguales. \n",
    "Esto lo podemos observar en los valores arrojados como promedios."
   ]
  },
  {
   "cell_type": "markdown",
   "metadata": {},
   "source": [
    "## Conclusión General"
   ]
  },
  {
   "cell_type": "markdown",
   "metadata": {},
   "source": [
    "Como conclusión general podemos afirmar que existen, en algunos casos, fuertes diferencias entre las mejores ventas de tìtulos y plataforma por regiones. De acuerdo a nuestras gráficas y lo que podemos observar es que es muy importante poder conocer la industria y naturaleza de la industria de cuyos datos estamos analizando: la información contextual en conjunto con el analisis nos hace poder aportar mejores sugerencias. En el caso de una campaña de videojuegos para 2017 si bien podemos recomendar cuales son las plataformas con mayores ventas para las cuales recomendar la atención de dicha campaña podemos observar que incluso las de mayores ventas ya tuvieron su pico y van en caida, es decir las plataformas aquì analizadas van de salida, o se encuentran terminando su ciclo de vida lo cual es el comportamiento esperado de las consolas/plataformas. En 2020 se lanzaron al mercado las plataformas nuevas por lo que es de considerarse el dato para el armado de una campaña, y para 2017 era sabido que las próximas plataformas ya se encontraba en sus fases finales de desarrollo, incluso con algunos juegos también en fases finales. Por otro lado podimos observar que las reseñas de críticos tienen mayor correlación positiva con los juegos de mayores ventas que las de usuarios. Esto tendría que analizarse más ya que problamente se deba a un efecto de promoción, es decir que las reseñas de críticos tienden a tener mucha exposición mediática que a su vez incrementa las ventas de los títulos bien calificados por ese grupo. La contraparte es que significa que a pesar de \"malas\" evaluaciones por parte de crìticos no necesariamente significa que no se venda bien un título. Si bien es un comportamiento más atípico que común es posible. Para poder determinar lo anterior fue necesario hacer una limpieza de datos y manipulación correcta para poder mostrar visualizaciones provechosas. "
   ]
  },
  {
   "cell_type": "markdown",
   "metadata": {},
   "source": [
    "<div class=\"alert alert-block alert-success\">\n",
    "<b>Éxito</b> <a class=\"tocSkip\"></a>\n",
    "Andrés, ¡felicidades por tu esfuerzo y dedicación en este proyecto! Has demostrado un manejo sólido de Python y un enfoque lógico para abordar el análisis de datos. Tus visualizaciones y decisiones justificadas destacan como fortalezas clave. Con ajustes menores en la interpretación y más validaciones estadísticas, este trabajo será excelente. ¡Sigue así!</div>\n"
   ]
  }
 ],
 "metadata": {
  "ExecuteTimeLog": [
   {
    "duration": 2478,
    "start_time": "2024-11-06T04:33:55.357Z"
   },
   {
    "duration": 35,
    "start_time": "2024-11-06T04:33:57.836Z"
   },
   {
    "duration": 22,
    "start_time": "2024-11-06T04:34:21.837Z"
   },
   {
    "duration": 2448,
    "start_time": "2024-11-08T03:49:51.793Z"
   },
   {
    "duration": 36,
    "start_time": "2024-11-08T03:49:54.243Z"
   },
   {
    "duration": 22,
    "start_time": "2024-11-08T03:49:54.280Z"
   },
   {
    "duration": 219,
    "start_time": "2024-11-08T03:49:54.303Z"
   },
   {
    "duration": 260,
    "start_time": "2024-11-08T03:50:54.639Z"
   },
   {
    "duration": 359,
    "start_time": "2024-11-08T03:58:22.285Z"
   },
   {
    "duration": 4,
    "start_time": "2024-11-08T04:06:34.353Z"
   },
   {
    "duration": 13,
    "start_time": "2024-11-08T04:07:00.390Z"
   },
   {
    "duration": 12,
    "start_time": "2024-11-08T04:11:01.383Z"
   },
   {
    "duration": 412,
    "start_time": "2024-11-08T04:15:57.189Z"
   },
   {
    "duration": 11,
    "start_time": "2024-11-08T04:16:59.314Z"
   },
   {
    "duration": 4,
    "start_time": "2024-11-08T04:17:06.793Z"
   },
   {
    "duration": 4,
    "start_time": "2024-11-08T04:18:46.385Z"
   },
   {
    "duration": 7,
    "start_time": "2024-11-08T04:24:55.363Z"
   },
   {
    "duration": 5,
    "start_time": "2024-11-08T04:25:03.182Z"
   },
   {
    "duration": 4,
    "start_time": "2024-11-08T04:25:33.781Z"
   },
   {
    "duration": 4,
    "start_time": "2024-11-08T04:25:37.016Z"
   },
   {
    "duration": 14,
    "start_time": "2024-11-08T04:25:48.507Z"
   },
   {
    "duration": 6,
    "start_time": "2024-11-08T04:25:57.859Z"
   },
   {
    "duration": 15,
    "start_time": "2024-11-08T04:26:06.502Z"
   },
   {
    "duration": 4,
    "start_time": "2024-11-08T04:29:28.285Z"
   },
   {
    "duration": 16,
    "start_time": "2024-11-08T04:30:52.655Z"
   },
   {
    "duration": 4,
    "start_time": "2024-11-08T04:36:38.303Z"
   },
   {
    "duration": 5,
    "start_time": "2024-11-08T04:36:53.088Z"
   },
   {
    "duration": 4,
    "start_time": "2024-11-08T04:37:20.279Z"
   },
   {
    "duration": 4,
    "start_time": "2024-11-08T04:37:48.786Z"
   },
   {
    "duration": 5,
    "start_time": "2024-11-08T04:38:47.090Z"
   },
   {
    "duration": 164,
    "start_time": "2024-11-10T23:57:28.035Z"
   },
   {
    "duration": 2550,
    "start_time": "2024-11-10T23:57:34.816Z"
   },
   {
    "duration": 36,
    "start_time": "2024-11-10T23:57:37.368Z"
   },
   {
    "duration": 22,
    "start_time": "2024-11-10T23:57:37.406Z"
   },
   {
    "duration": 12,
    "start_time": "2024-11-10T23:57:37.430Z"
   },
   {
    "duration": 4,
    "start_time": "2024-11-10T23:57:37.444Z"
   },
   {
    "duration": 6,
    "start_time": "2024-11-10T23:57:37.451Z"
   },
   {
    "duration": 5,
    "start_time": "2024-11-10T23:57:52.017Z"
   },
   {
    "duration": 4,
    "start_time": "2024-11-11T00:07:49.118Z"
   },
   {
    "duration": 4,
    "start_time": "2024-11-11T00:07:53.931Z"
   },
   {
    "duration": 17,
    "start_time": "2024-11-11T00:10:03.509Z"
   },
   {
    "duration": 4,
    "start_time": "2024-11-11T00:10:21.114Z"
   },
   {
    "duration": 16,
    "start_time": "2024-11-11T00:10:52.508Z"
   },
   {
    "duration": 82,
    "start_time": "2024-11-11T00:24:24.457Z"
   },
   {
    "duration": 34,
    "start_time": "2024-11-11T00:24:59.220Z"
   },
   {
    "duration": 23,
    "start_time": "2024-11-11T00:25:53.775Z"
   },
   {
    "duration": 18,
    "start_time": "2024-11-11T00:37:18.915Z"
   },
   {
    "duration": 4,
    "start_time": "2024-11-11T00:40:38.875Z"
   },
   {
    "duration": 6,
    "start_time": "2024-11-11T00:44:43.371Z"
   },
   {
    "duration": 6,
    "start_time": "2024-11-11T00:46:03.757Z"
   },
   {
    "duration": 77,
    "start_time": "2024-11-11T04:47:17.032Z"
   },
   {
    "duration": 5,
    "start_time": "2024-11-11T04:50:18.888Z"
   },
   {
    "duration": 4,
    "start_time": "2024-11-11T04:51:34.226Z"
   },
   {
    "duration": 77,
    "start_time": "2024-11-11T04:55:18.363Z"
   },
   {
    "duration": 5,
    "start_time": "2024-11-11T04:59:46.270Z"
   },
   {
    "duration": 6,
    "start_time": "2024-11-11T05:03:07.978Z"
   },
   {
    "duration": 5,
    "start_time": "2024-11-11T05:03:42.524Z"
   },
   {
    "duration": 418,
    "start_time": "2024-11-11T05:06:39.730Z"
   },
   {
    "duration": 6,
    "start_time": "2024-11-11T05:07:17.604Z"
   },
   {
    "duration": 2700,
    "start_time": "2024-11-11T17:31:23.180Z"
   },
   {
    "duration": 44,
    "start_time": "2024-11-11T17:31:25.882Z"
   },
   {
    "duration": 22,
    "start_time": "2024-11-11T17:31:25.929Z"
   },
   {
    "duration": 13,
    "start_time": "2024-11-11T17:31:25.953Z"
   },
   {
    "duration": 4,
    "start_time": "2024-11-11T17:31:25.969Z"
   },
   {
    "duration": 3,
    "start_time": "2024-11-11T17:31:25.975Z"
   },
   {
    "duration": 41,
    "start_time": "2024-11-11T17:31:25.980Z"
   },
   {
    "duration": 5,
    "start_time": "2024-11-11T17:31:26.023Z"
   },
   {
    "duration": 6,
    "start_time": "2024-11-11T17:31:26.029Z"
   },
   {
    "duration": 6,
    "start_time": "2024-11-11T17:31:26.037Z"
   },
   {
    "duration": 3,
    "start_time": "2024-11-11T17:31:26.044Z"
   },
   {
    "duration": 5,
    "start_time": "2024-11-11T17:31:26.049Z"
   },
   {
    "duration": 5,
    "start_time": "2024-11-11T17:31:26.055Z"
   },
   {
    "duration": 49,
    "start_time": "2024-11-11T17:31:26.063Z"
   },
   {
    "duration": 6,
    "start_time": "2024-11-11T17:31:26.113Z"
   },
   {
    "duration": 77,
    "start_time": "2024-11-11T17:31:26.122Z"
   },
   {
    "duration": 3,
    "start_time": "2024-11-11T17:31:26.212Z"
   },
   {
    "duration": 228,
    "start_time": "2024-11-11T17:44:54.505Z"
   },
   {
    "duration": 3,
    "start_time": "2024-11-11T17:45:04.620Z"
   },
   {
    "duration": 25,
    "start_time": "2024-11-11T17:45:04.626Z"
   },
   {
    "duration": 18,
    "start_time": "2024-11-11T17:45:04.652Z"
   },
   {
    "duration": 11,
    "start_time": "2024-11-11T17:45:04.672Z"
   },
   {
    "duration": 7,
    "start_time": "2024-11-11T17:45:04.686Z"
   },
   {
    "duration": 4,
    "start_time": "2024-11-11T17:45:04.713Z"
   },
   {
    "duration": 23,
    "start_time": "2024-11-11T17:45:04.719Z"
   },
   {
    "duration": 4,
    "start_time": "2024-11-11T17:45:04.746Z"
   },
   {
    "duration": 7,
    "start_time": "2024-11-11T17:45:04.751Z"
   },
   {
    "duration": 5,
    "start_time": "2024-11-11T17:45:04.759Z"
   },
   {
    "duration": 2,
    "start_time": "2024-11-11T17:45:04.766Z"
   },
   {
    "duration": 4,
    "start_time": "2024-11-11T17:45:04.770Z"
   },
   {
    "duration": 41,
    "start_time": "2024-11-11T17:45:04.775Z"
   },
   {
    "duration": 6,
    "start_time": "2024-11-11T17:45:04.820Z"
   },
   {
    "duration": 7,
    "start_time": "2024-11-11T17:45:04.829Z"
   },
   {
    "duration": 105,
    "start_time": "2024-11-11T17:45:04.837Z"
   },
   {
    "duration": 15,
    "start_time": "2024-11-11T17:45:04.944Z"
   },
   {
    "duration": 15,
    "start_time": "2024-11-11T17:45:20.686Z"
   },
   {
    "duration": 15,
    "start_time": "2024-11-11T17:45:41.639Z"
   },
   {
    "duration": 14,
    "start_time": "2024-11-11T17:46:08.225Z"
   },
   {
    "duration": 3,
    "start_time": "2024-11-11T17:46:15.496Z"
   },
   {
    "duration": 5,
    "start_time": "2024-11-11T17:46:35.131Z"
   },
   {
    "duration": 17,
    "start_time": "2024-11-11T17:49:04.221Z"
   },
   {
    "duration": 6,
    "start_time": "2024-11-11T17:58:48.620Z"
   },
   {
    "duration": 19,
    "start_time": "2024-11-11T18:11:07.775Z"
   },
   {
    "duration": 5,
    "start_time": "2024-11-11T18:22:32.810Z"
   },
   {
    "duration": 5,
    "start_time": "2024-11-11T18:24:55.645Z"
   },
   {
    "duration": 167,
    "start_time": "2024-11-11T18:25:52.774Z"
   },
   {
    "duration": 6,
    "start_time": "2024-11-11T18:33:44.016Z"
   },
   {
    "duration": 6,
    "start_time": "2024-11-11T18:39:02.486Z"
   },
   {
    "duration": 13,
    "start_time": "2024-11-11T18:39:21.531Z"
   },
   {
    "duration": 4,
    "start_time": "2024-11-11T18:40:03.679Z"
   },
   {
    "duration": 5,
    "start_time": "2024-11-11T18:40:59.483Z"
   },
   {
    "duration": 5,
    "start_time": "2024-11-11T18:42:06.658Z"
   },
   {
    "duration": 236,
    "start_time": "2024-11-11T18:53:28.133Z"
   },
   {
    "duration": 45,
    "start_time": "2024-11-11T18:53:43.222Z"
   },
   {
    "duration": 1068,
    "start_time": "2024-11-11T18:54:07.284Z"
   },
   {
    "duration": 3,
    "start_time": "2024-11-11T18:57:16.204Z"
   },
   {
    "duration": 21,
    "start_time": "2024-11-11T19:02:20.179Z"
   },
   {
    "duration": 14,
    "start_time": "2024-11-11T19:02:26.704Z"
   },
   {
    "duration": 6,
    "start_time": "2024-11-11T19:03:13.090Z"
   },
   {
    "duration": 7,
    "start_time": "2024-11-11T19:14:22.518Z"
   },
   {
    "duration": 6,
    "start_time": "2024-11-11T19:15:11.316Z"
   },
   {
    "duration": 19,
    "start_time": "2024-11-11T19:15:47.420Z"
   },
   {
    "duration": 10,
    "start_time": "2024-11-11T19:17:47.662Z"
   },
   {
    "duration": 195,
    "start_time": "2024-11-11T19:31:22.012Z"
   },
   {
    "duration": 9,
    "start_time": "2024-11-11T19:32:29.119Z"
   },
   {
    "duration": 16,
    "start_time": "2024-11-11T19:33:16.216Z"
   },
   {
    "duration": 13,
    "start_time": "2024-11-11T19:34:35.944Z"
   },
   {
    "duration": 13,
    "start_time": "2024-11-11T19:41:18.596Z"
   },
   {
    "duration": 11,
    "start_time": "2024-11-11T19:42:01.739Z"
   },
   {
    "duration": 2535,
    "start_time": "2024-11-12T21:01:19.804Z"
   },
   {
    "duration": 34,
    "start_time": "2024-11-12T21:01:22.342Z"
   },
   {
    "duration": 22,
    "start_time": "2024-11-12T21:01:22.378Z"
   },
   {
    "duration": 12,
    "start_time": "2024-11-12T21:01:22.403Z"
   },
   {
    "duration": 5,
    "start_time": "2024-11-12T21:01:22.417Z"
   },
   {
    "duration": 4,
    "start_time": "2024-11-12T21:01:22.423Z"
   },
   {
    "duration": 21,
    "start_time": "2024-11-12T21:01:22.429Z"
   },
   {
    "duration": 5,
    "start_time": "2024-11-12T21:01:22.451Z"
   },
   {
    "duration": 6,
    "start_time": "2024-11-12T21:01:22.457Z"
   },
   {
    "duration": 5,
    "start_time": "2024-11-12T21:01:22.509Z"
   },
   {
    "duration": 3,
    "start_time": "2024-11-12T21:01:22.517Z"
   },
   {
    "duration": 5,
    "start_time": "2024-11-12T21:01:22.521Z"
   },
   {
    "duration": 4,
    "start_time": "2024-11-12T21:01:22.528Z"
   },
   {
    "duration": 4,
    "start_time": "2024-11-12T21:01:22.534Z"
   },
   {
    "duration": 4,
    "start_time": "2024-11-12T21:01:22.540Z"
   },
   {
    "duration": 117,
    "start_time": "2024-11-12T21:01:22.546Z"
   },
   {
    "duration": 6,
    "start_time": "2024-11-12T21:01:22.664Z"
   },
   {
    "duration": 5,
    "start_time": "2024-11-12T21:01:22.671Z"
   },
   {
    "duration": 34,
    "start_time": "2024-11-12T21:01:22.677Z"
   },
   {
    "duration": 2,
    "start_time": "2024-11-12T21:01:22.713Z"
   },
   {
    "duration": 5,
    "start_time": "2024-11-12T21:01:22.717Z"
   },
   {
    "duration": 15,
    "start_time": "2024-11-12T21:01:22.723Z"
   },
   {
    "duration": 5,
    "start_time": "2024-11-12T21:01:22.740Z"
   },
   {
    "duration": 1127,
    "start_time": "2024-11-12T21:01:22.747Z"
   },
   {
    "duration": 19,
    "start_time": "2024-11-12T21:01:23.876Z"
   },
   {
    "duration": 13,
    "start_time": "2024-11-12T21:01:23.897Z"
   },
   {
    "duration": 14,
    "start_time": "2024-11-12T21:01:23.911Z"
   },
   {
    "duration": 13,
    "start_time": "2024-11-12T21:01:23.928Z"
   },
   {
    "duration": 11,
    "start_time": "2024-11-12T21:01:23.942Z"
   },
   {
    "duration": 213,
    "start_time": "2024-11-12T21:21:02.187Z"
   },
   {
    "duration": 3,
    "start_time": "2024-11-12T21:21:13.769Z"
   },
   {
    "duration": 25,
    "start_time": "2024-11-12T21:21:13.775Z"
   },
   {
    "duration": 23,
    "start_time": "2024-11-12T21:21:13.802Z"
   },
   {
    "duration": 12,
    "start_time": "2024-11-12T21:21:13.826Z"
   },
   {
    "duration": 4,
    "start_time": "2024-11-12T21:21:13.841Z"
   },
   {
    "duration": 5,
    "start_time": "2024-11-12T21:21:13.847Z"
   },
   {
    "duration": 17,
    "start_time": "2024-11-12T21:21:13.853Z"
   },
   {
    "duration": 37,
    "start_time": "2024-11-12T21:21:13.872Z"
   },
   {
    "duration": 6,
    "start_time": "2024-11-12T21:21:13.911Z"
   },
   {
    "duration": 6,
    "start_time": "2024-11-12T21:21:13.919Z"
   },
   {
    "duration": 2,
    "start_time": "2024-11-12T21:21:13.927Z"
   },
   {
    "duration": 4,
    "start_time": "2024-11-12T21:21:13.931Z"
   },
   {
    "duration": 5,
    "start_time": "2024-11-12T21:21:13.938Z"
   },
   {
    "duration": 4,
    "start_time": "2024-11-12T21:21:13.947Z"
   },
   {
    "duration": 4,
    "start_time": "2024-11-12T21:21:13.953Z"
   },
   {
    "duration": 110,
    "start_time": "2024-11-12T21:21:13.958Z"
   },
   {
    "duration": 6,
    "start_time": "2024-11-12T21:21:14.070Z"
   },
   {
    "duration": 12,
    "start_time": "2024-11-12T21:21:14.077Z"
   },
   {
    "duration": 31,
    "start_time": "2024-11-12T21:21:14.090Z"
   },
   {
    "duration": 2,
    "start_time": "2024-11-12T21:21:14.123Z"
   },
   {
    "duration": 5,
    "start_time": "2024-11-12T21:21:14.127Z"
   },
   {
    "duration": 15,
    "start_time": "2024-11-12T21:21:14.134Z"
   },
   {
    "duration": 5,
    "start_time": "2024-11-12T21:21:14.151Z"
   },
   {
    "duration": 1116,
    "start_time": "2024-11-12T21:21:14.158Z"
   },
   {
    "duration": 18,
    "start_time": "2024-11-12T21:21:15.276Z"
   },
   {
    "duration": 16,
    "start_time": "2024-11-12T21:21:15.296Z"
   },
   {
    "duration": 12,
    "start_time": "2024-11-12T21:21:15.313Z"
   },
   {
    "duration": 13,
    "start_time": "2024-11-12T21:21:15.327Z"
   },
   {
    "duration": 11,
    "start_time": "2024-11-12T21:21:15.342Z"
   },
   {
    "duration": 13,
    "start_time": "2024-11-12T21:21:20.451Z"
   },
   {
    "duration": 8,
    "start_time": "2024-11-12T21:26:04.884Z"
   },
   {
    "duration": 6,
    "start_time": "2024-11-12T21:26:39.413Z"
   },
   {
    "duration": 367,
    "start_time": "2024-11-12T21:29:23.489Z"
   },
   {
    "duration": 14,
    "start_time": "2024-11-12T21:37:26.224Z"
   },
   {
    "duration": 25,
    "start_time": "2024-11-12T21:39:28.294Z"
   },
   {
    "duration": 5,
    "start_time": "2024-11-12T21:41:05.221Z"
   },
   {
    "duration": 318,
    "start_time": "2024-11-12T22:48:24.025Z"
   },
   {
    "duration": 6,
    "start_time": "2024-11-12T22:49:56.097Z"
   },
   {
    "duration": 17,
    "start_time": "2024-11-12T22:50:06.552Z"
   },
   {
    "duration": 329,
    "start_time": "2024-11-12T22:51:21.349Z"
   },
   {
    "duration": 2540,
    "start_time": "2024-11-13T05:12:34.439Z"
   },
   {
    "duration": 38,
    "start_time": "2024-11-13T05:12:36.982Z"
   },
   {
    "duration": 23,
    "start_time": "2024-11-13T05:12:37.021Z"
   },
   {
    "duration": 12,
    "start_time": "2024-11-13T05:12:37.046Z"
   },
   {
    "duration": 4,
    "start_time": "2024-11-13T05:12:37.062Z"
   },
   {
    "duration": 4,
    "start_time": "2024-11-13T05:12:37.067Z"
   },
   {
    "duration": 44,
    "start_time": "2024-11-13T05:12:37.072Z"
   },
   {
    "duration": 5,
    "start_time": "2024-11-13T05:12:37.118Z"
   },
   {
    "duration": 5,
    "start_time": "2024-11-13T05:12:37.125Z"
   },
   {
    "duration": 5,
    "start_time": "2024-11-13T05:12:37.132Z"
   },
   {
    "duration": 2,
    "start_time": "2024-11-13T05:12:37.139Z"
   },
   {
    "duration": 4,
    "start_time": "2024-11-13T05:12:37.143Z"
   },
   {
    "duration": 5,
    "start_time": "2024-11-13T05:12:37.148Z"
   },
   {
    "duration": 5,
    "start_time": "2024-11-13T05:12:37.156Z"
   },
   {
    "duration": 46,
    "start_time": "2024-11-13T05:12:37.163Z"
   },
   {
    "duration": 101,
    "start_time": "2024-11-13T05:12:37.211Z"
   },
   {
    "duration": 10,
    "start_time": "2024-11-13T05:12:37.314Z"
   },
   {
    "duration": 6,
    "start_time": "2024-11-13T05:12:37.326Z"
   },
   {
    "duration": 14,
    "start_time": "2024-11-13T05:12:37.334Z"
   },
   {
    "duration": 2,
    "start_time": "2024-11-13T05:12:37.350Z"
   },
   {
    "duration": 5,
    "start_time": "2024-11-13T05:12:37.354Z"
   },
   {
    "duration": 55,
    "start_time": "2024-11-13T05:12:37.361Z"
   },
   {
    "duration": 8,
    "start_time": "2024-11-13T05:12:37.418Z"
   },
   {
    "duration": 1095,
    "start_time": "2024-11-13T05:12:37.427Z"
   },
   {
    "duration": 20,
    "start_time": "2024-11-13T05:12:38.524Z"
   },
   {
    "duration": 5,
    "start_time": "2024-11-13T05:12:38.545Z"
   },
   {
    "duration": 12,
    "start_time": "2024-11-13T05:12:38.552Z"
   },
   {
    "duration": 13,
    "start_time": "2024-11-13T05:12:38.568Z"
   },
   {
    "duration": 11,
    "start_time": "2024-11-13T05:12:38.609Z"
   },
   {
    "duration": 360,
    "start_time": "2024-11-13T05:12:38.622Z"
   },
   {
    "duration": 360,
    "start_time": "2024-11-13T05:12:38.984Z"
   },
   {
    "duration": 2,
    "start_time": "2024-11-13T05:12:39.346Z"
   },
   {
    "duration": 358,
    "start_time": "2024-11-13T05:33:23.386Z"
   },
   {
    "duration": 11,
    "start_time": "2024-11-13T05:43:45.129Z"
   },
   {
    "duration": 11,
    "start_time": "2024-11-13T05:50:57.051Z"
   },
   {
    "duration": 27,
    "start_time": "2024-11-13T05:57:00.531Z"
   },
   {
    "duration": 893,
    "start_time": "2024-11-13T06:04:50.809Z"
   },
   {
    "duration": 129,
    "start_time": "2024-11-13T06:05:50.671Z"
   },
   {
    "duration": 565,
    "start_time": "2024-11-13T06:09:46.040Z"
   },
   {
    "duration": 37,
    "start_time": "2024-11-13T06:10:30.233Z"
   },
   {
    "duration": 290,
    "start_time": "2024-11-13T06:12:45.426Z"
   },
   {
    "duration": 217,
    "start_time": "2024-11-13T06:15:17.635Z"
   },
   {
    "duration": 574,
    "start_time": "2024-11-13T06:18:56.812Z"
   },
   {
    "duration": 563,
    "start_time": "2024-11-13T06:22:15.811Z"
   },
   {
    "duration": 2463,
    "start_time": "2024-11-13T19:28:01.411Z"
   },
   {
    "duration": 33,
    "start_time": "2024-11-13T19:28:03.877Z"
   },
   {
    "duration": 21,
    "start_time": "2024-11-13T19:28:03.911Z"
   },
   {
    "duration": 17,
    "start_time": "2024-11-13T19:28:03.934Z"
   },
   {
    "duration": 5,
    "start_time": "2024-11-13T19:28:03.953Z"
   },
   {
    "duration": 4,
    "start_time": "2024-11-13T19:28:03.959Z"
   },
   {
    "duration": 18,
    "start_time": "2024-11-13T19:28:03.964Z"
   },
   {
    "duration": 4,
    "start_time": "2024-11-13T19:28:03.984Z"
   },
   {
    "duration": 5,
    "start_time": "2024-11-13T19:28:03.990Z"
   },
   {
    "duration": 4,
    "start_time": "2024-11-13T19:28:03.997Z"
   },
   {
    "duration": 2,
    "start_time": "2024-11-13T19:28:04.044Z"
   },
   {
    "duration": 9,
    "start_time": "2024-11-13T19:28:04.048Z"
   },
   {
    "duration": 5,
    "start_time": "2024-11-13T19:28:04.059Z"
   },
   {
    "duration": 5,
    "start_time": "2024-11-13T19:28:04.068Z"
   },
   {
    "duration": 4,
    "start_time": "2024-11-13T19:28:04.076Z"
   },
   {
    "duration": 113,
    "start_time": "2024-11-13T19:28:04.082Z"
   },
   {
    "duration": 6,
    "start_time": "2024-11-13T19:28:04.197Z"
   },
   {
    "duration": 6,
    "start_time": "2024-11-13T19:28:04.205Z"
   },
   {
    "duration": 32,
    "start_time": "2024-11-13T19:28:04.212Z"
   },
   {
    "duration": 2,
    "start_time": "2024-11-13T19:28:04.246Z"
   },
   {
    "duration": 6,
    "start_time": "2024-11-13T19:28:04.249Z"
   },
   {
    "duration": 19,
    "start_time": "2024-11-13T19:28:04.256Z"
   },
   {
    "duration": 5,
    "start_time": "2024-11-13T19:28:04.276Z"
   },
   {
    "duration": 1091,
    "start_time": "2024-11-13T19:28:04.283Z"
   },
   {
    "duration": 18,
    "start_time": "2024-11-13T19:28:05.375Z"
   },
   {
    "duration": 5,
    "start_time": "2024-11-13T19:28:05.395Z"
   },
   {
    "duration": 11,
    "start_time": "2024-11-13T19:28:05.402Z"
   },
   {
    "duration": 36,
    "start_time": "2024-11-13T19:28:05.414Z"
   },
   {
    "duration": 12,
    "start_time": "2024-11-13T19:28:05.451Z"
   },
   {
    "duration": 388,
    "start_time": "2024-11-13T19:28:05.465Z"
   },
   {
    "duration": 336,
    "start_time": "2024-11-13T19:28:05.855Z"
   },
   {
    "duration": 12,
    "start_time": "2024-11-13T19:28:06.193Z"
   },
   {
    "duration": 50,
    "start_time": "2024-11-13T19:28:06.207Z"
   },
   {
    "duration": 582,
    "start_time": "2024-11-13T19:28:06.261Z"
   },
   {
    "duration": 868,
    "start_time": "2024-11-13T19:28:06.845Z"
   },
   {
    "duration": 458,
    "start_time": "2024-11-13T19:37:05.896Z"
   },
   {
    "duration": 552,
    "start_time": "2024-11-13T19:40:44.716Z"
   },
   {
    "duration": 368,
    "start_time": "2024-11-13T19:42:58.003Z"
   },
   {
    "duration": 372,
    "start_time": "2024-11-13T19:48:09.935Z"
   },
   {
    "duration": 6,
    "start_time": "2024-11-13T20:13:33.262Z"
   },
   {
    "duration": 7,
    "start_time": "2024-11-13T20:16:31.816Z"
   },
   {
    "duration": 365,
    "start_time": "2024-11-13T20:18:24.708Z"
   },
   {
    "duration": 345,
    "start_time": "2024-11-13T20:24:06.946Z"
   },
   {
    "duration": 273,
    "start_time": "2024-11-13T20:45:17.784Z"
   },
   {
    "duration": 218,
    "start_time": "2024-11-13T20:49:58.064Z"
   },
   {
    "duration": 218,
    "start_time": "2024-11-13T20:50:55.842Z"
   },
   {
    "duration": 248,
    "start_time": "2024-11-13T20:51:23.498Z"
   },
   {
    "duration": 218,
    "start_time": "2024-11-13T20:51:41.799Z"
   },
   {
    "duration": 5,
    "start_time": "2024-11-13T20:53:39.824Z"
   },
   {
    "duration": 3,
    "start_time": "2024-11-13T21:00:54.918Z"
   },
   {
    "duration": 352,
    "start_time": "2024-11-13T21:06:09.485Z"
   },
   {
    "duration": 100,
    "start_time": "2024-11-13T21:07:28.217Z"
   },
   {
    "duration": 353,
    "start_time": "2024-11-13T21:07:44.522Z"
   },
   {
    "duration": 365,
    "start_time": "2024-11-13T21:09:38.487Z"
   },
   {
    "duration": 361,
    "start_time": "2024-11-13T21:15:33.951Z"
   },
   {
    "duration": 2535,
    "start_time": "2024-11-14T00:01:28.722Z"
   },
   {
    "duration": 34,
    "start_time": "2024-11-14T00:01:31.259Z"
   },
   {
    "duration": 22,
    "start_time": "2024-11-14T00:01:31.294Z"
   },
   {
    "duration": 12,
    "start_time": "2024-11-14T00:01:31.318Z"
   },
   {
    "duration": 5,
    "start_time": "2024-11-14T00:01:31.332Z"
   },
   {
    "duration": 4,
    "start_time": "2024-11-14T00:01:31.338Z"
   },
   {
    "duration": 18,
    "start_time": "2024-11-14T00:01:31.343Z"
   },
   {
    "duration": 4,
    "start_time": "2024-11-14T00:01:31.362Z"
   },
   {
    "duration": 5,
    "start_time": "2024-11-14T00:01:31.368Z"
   },
   {
    "duration": 4,
    "start_time": "2024-11-14T00:01:31.376Z"
   },
   {
    "duration": 3,
    "start_time": "2024-11-14T00:01:31.424Z"
   },
   {
    "duration": 4,
    "start_time": "2024-11-14T00:01:31.429Z"
   },
   {
    "duration": 5,
    "start_time": "2024-11-14T00:01:31.434Z"
   },
   {
    "duration": 5,
    "start_time": "2024-11-14T00:01:31.440Z"
   },
   {
    "duration": 5,
    "start_time": "2024-11-14T00:01:31.446Z"
   },
   {
    "duration": 109,
    "start_time": "2024-11-14T00:01:31.452Z"
   },
   {
    "duration": 5,
    "start_time": "2024-11-14T00:01:31.563Z"
   },
   {
    "duration": 5,
    "start_time": "2024-11-14T00:01:31.569Z"
   },
   {
    "duration": 13,
    "start_time": "2024-11-14T00:01:31.576Z"
   },
   {
    "duration": 2,
    "start_time": "2024-11-14T00:01:31.591Z"
   },
   {
    "duration": 4,
    "start_time": "2024-11-14T00:01:31.625Z"
   },
   {
    "duration": 15,
    "start_time": "2024-11-14T00:01:31.631Z"
   },
   {
    "duration": 4,
    "start_time": "2024-11-14T00:01:31.648Z"
   },
   {
    "duration": 1010,
    "start_time": "2024-11-14T00:01:31.654Z"
   },
   {
    "duration": 19,
    "start_time": "2024-11-14T00:01:32.665Z"
   },
   {
    "duration": 5,
    "start_time": "2024-11-14T00:01:32.685Z"
   },
   {
    "duration": 34,
    "start_time": "2024-11-14T00:01:32.691Z"
   },
   {
    "duration": 13,
    "start_time": "2024-11-14T00:01:32.728Z"
   },
   {
    "duration": 11,
    "start_time": "2024-11-14T00:01:32.742Z"
   },
   {
    "duration": 403,
    "start_time": "2024-11-14T00:01:32.755Z"
   },
   {
    "duration": 422,
    "start_time": "2024-11-14T00:01:33.160Z"
   },
   {
    "duration": 11,
    "start_time": "2024-11-14T00:01:33.584Z"
   },
   {
    "duration": 38,
    "start_time": "2024-11-14T00:01:33.597Z"
   },
   {
    "duration": 635,
    "start_time": "2024-11-14T00:01:33.637Z"
   },
   {
    "duration": 369,
    "start_time": "2024-11-14T00:01:34.274Z"
   },
   {
    "duration": 353,
    "start_time": "2024-11-14T00:01:34.645Z"
   },
   {
    "duration": 241,
    "start_time": "2024-11-14T00:01:35.000Z"
   },
   {
    "duration": 5,
    "start_time": "2024-11-14T00:01:35.243Z"
   },
   {
    "duration": 367,
    "start_time": "2024-11-14T00:01:35.250Z"
   },
   {
    "duration": 5,
    "start_time": "2024-11-14T00:01:35.623Z"
   },
   {
    "duration": 4,
    "start_time": "2024-11-14T00:11:12.249Z"
   },
   {
    "duration": 5,
    "start_time": "2024-11-14T00:14:09.959Z"
   },
   {
    "duration": 5,
    "start_time": "2024-11-14T00:14:32.828Z"
   },
   {
    "duration": 277,
    "start_time": "2024-11-14T00:22:40.166Z"
   },
   {
    "duration": 16,
    "start_time": "2024-11-14T00:22:47.965Z"
   },
   {
    "duration": 6,
    "start_time": "2024-11-14T00:22:55.654Z"
   },
   {
    "duration": 23,
    "start_time": "2024-11-14T00:31:24.923Z"
   },
   {
    "duration": 15,
    "start_time": "2024-11-14T00:31:37.903Z"
   },
   {
    "duration": 211,
    "start_time": "2024-11-14T00:47:03.497Z"
   },
   {
    "duration": 16,
    "start_time": "2024-11-14T00:47:33.002Z"
   },
   {
    "duration": 18,
    "start_time": "2024-11-14T00:48:28.336Z"
   },
   {
    "duration": 14,
    "start_time": "2024-11-14T00:51:50.535Z"
   },
   {
    "duration": 2544,
    "start_time": "2024-11-14T16:50:46.492Z"
   },
   {
    "duration": 35,
    "start_time": "2024-11-14T16:50:49.038Z"
   },
   {
    "duration": 23,
    "start_time": "2024-11-14T16:50:49.075Z"
   },
   {
    "duration": 13,
    "start_time": "2024-11-14T16:50:49.100Z"
   },
   {
    "duration": 4,
    "start_time": "2024-11-14T16:50:49.116Z"
   },
   {
    "duration": 3,
    "start_time": "2024-11-14T16:50:49.122Z"
   },
   {
    "duration": 19,
    "start_time": "2024-11-14T16:50:49.126Z"
   },
   {
    "duration": 5,
    "start_time": "2024-11-14T16:50:49.146Z"
   },
   {
    "duration": 6,
    "start_time": "2024-11-14T16:50:49.153Z"
   },
   {
    "duration": 48,
    "start_time": "2024-11-14T16:50:49.160Z"
   },
   {
    "duration": 2,
    "start_time": "2024-11-14T16:50:49.210Z"
   },
   {
    "duration": 4,
    "start_time": "2024-11-14T16:50:49.214Z"
   },
   {
    "duration": 5,
    "start_time": "2024-11-14T16:50:49.220Z"
   },
   {
    "duration": 5,
    "start_time": "2024-11-14T16:50:49.228Z"
   },
   {
    "duration": 6,
    "start_time": "2024-11-14T16:50:49.234Z"
   },
   {
    "duration": 126,
    "start_time": "2024-11-14T16:50:49.241Z"
   },
   {
    "duration": 5,
    "start_time": "2024-11-14T16:50:49.369Z"
   },
   {
    "duration": 5,
    "start_time": "2024-11-14T16:50:49.376Z"
   },
   {
    "duration": 32,
    "start_time": "2024-11-14T16:50:49.383Z"
   },
   {
    "duration": 2,
    "start_time": "2024-11-14T16:50:49.416Z"
   },
   {
    "duration": 5,
    "start_time": "2024-11-14T16:50:49.420Z"
   },
   {
    "duration": 16,
    "start_time": "2024-11-14T16:50:49.427Z"
   },
   {
    "duration": 5,
    "start_time": "2024-11-14T16:50:49.444Z"
   },
   {
    "duration": 1154,
    "start_time": "2024-11-14T16:50:49.451Z"
   },
   {
    "duration": 21,
    "start_time": "2024-11-14T16:50:50.607Z"
   },
   {
    "duration": 5,
    "start_time": "2024-11-14T16:50:50.631Z"
   },
   {
    "duration": 14,
    "start_time": "2024-11-14T16:50:50.637Z"
   },
   {
    "duration": 14,
    "start_time": "2024-11-14T16:50:50.653Z"
   },
   {
    "duration": 38,
    "start_time": "2024-11-14T16:50:50.669Z"
   },
   {
    "duration": 346,
    "start_time": "2024-11-14T16:50:50.709Z"
   },
   {
    "duration": 380,
    "start_time": "2024-11-14T16:50:51.057Z"
   },
   {
    "duration": 14,
    "start_time": "2024-11-14T16:50:51.439Z"
   },
   {
    "duration": 50,
    "start_time": "2024-11-14T16:50:51.455Z"
   },
   {
    "duration": 619,
    "start_time": "2024-11-14T16:50:51.507Z"
   },
   {
    "duration": 383,
    "start_time": "2024-11-14T16:50:52.128Z"
   },
   {
    "duration": 351,
    "start_time": "2024-11-14T16:50:52.513Z"
   },
   {
    "duration": 243,
    "start_time": "2024-11-14T16:50:52.866Z"
   },
   {
    "duration": 9,
    "start_time": "2024-11-14T16:50:53.112Z"
   },
   {
    "duration": 356,
    "start_time": "2024-11-14T16:50:53.122Z"
   },
   {
    "duration": 5,
    "start_time": "2024-11-14T16:50:53.480Z"
   },
   {
    "duration": 25,
    "start_time": "2024-11-14T16:50:53.490Z"
   },
   {
    "duration": 15,
    "start_time": "2024-11-14T16:50:53.517Z"
   },
   {
    "duration": 566,
    "start_time": "2024-11-14T17:01:38.091Z"
   },
   {
    "duration": 14,
    "start_time": "2024-11-14T17:02:14.381Z"
   },
   {
    "duration": 5,
    "start_time": "2024-11-14T17:02:26.124Z"
   },
   {
    "duration": 5,
    "start_time": "2024-11-14T17:02:57.831Z"
   },
   {
    "duration": 136,
    "start_time": "2024-11-14T17:04:57.001Z"
   },
   {
    "duration": 376,
    "start_time": "2024-11-14T17:08:38.568Z"
   },
   {
    "duration": 290,
    "start_time": "2024-11-14T17:08:49.955Z"
   },
   {
    "duration": 276,
    "start_time": "2024-11-14T17:08:57.109Z"
   },
   {
    "duration": 6,
    "start_time": "2024-11-14T21:04:51.243Z"
   },
   {
    "duration": 80,
    "start_time": "2024-11-14T21:05:15.546Z"
   },
   {
    "duration": 218,
    "start_time": "2024-11-14T21:05:29.139Z"
   },
   {
    "duration": 861,
    "start_time": "2024-11-14T21:05:44.798Z"
   },
   {
    "duration": 36,
    "start_time": "2024-11-14T21:06:09.139Z"
   },
   {
    "duration": 68,
    "start_time": "2024-11-14T21:06:33.482Z"
   },
   {
    "duration": 6,
    "start_time": "2024-11-14T21:09:24.916Z"
   },
   {
    "duration": 9,
    "start_time": "2024-11-14T21:11:48.993Z"
   },
   {
    "duration": 9,
    "start_time": "2024-11-14T21:15:48.545Z"
   },
   {
    "duration": 13,
    "start_time": "2024-11-14T21:23:23.874Z"
   },
   {
    "duration": 5,
    "start_time": "2024-11-14T21:35:53.262Z"
   },
   {
    "duration": 5,
    "start_time": "2024-11-14T21:45:01.500Z"
   },
   {
    "duration": 10,
    "start_time": "2024-11-14T21:50:09.032Z"
   },
   {
    "duration": 9,
    "start_time": "2024-11-14T21:50:16.893Z"
   },
   {
    "duration": 2,
    "start_time": "2024-11-14T21:52:03.416Z"
   },
   {
    "duration": 15,
    "start_time": "2024-11-14T21:58:36.998Z"
   },
   {
    "duration": 4,
    "start_time": "2024-11-14T21:58:47.446Z"
   },
   {
    "duration": 4,
    "start_time": "2024-11-14T22:00:02.977Z"
   },
   {
    "duration": 17,
    "start_time": "2024-11-14T22:03:00.525Z"
   },
   {
    "duration": 4,
    "start_time": "2024-11-14T22:05:28.688Z"
   },
   {
    "duration": 4,
    "start_time": "2024-11-14T22:06:36.590Z"
   },
   {
    "duration": 6,
    "start_time": "2024-11-14T22:12:14.918Z"
   },
   {
    "duration": 140,
    "start_time": "2024-11-14T22:17:52.301Z"
   },
   {
    "duration": 3,
    "start_time": "2024-11-14T22:39:40.968Z"
   },
   {
    "duration": 23,
    "start_time": "2024-11-14T22:39:40.974Z"
   },
   {
    "duration": 19,
    "start_time": "2024-11-14T22:39:40.999Z"
   },
   {
    "duration": 13,
    "start_time": "2024-11-14T22:39:41.020Z"
   },
   {
    "duration": 4,
    "start_time": "2024-11-14T22:39:41.035Z"
   },
   {
    "duration": 5,
    "start_time": "2024-11-14T22:39:41.040Z"
   },
   {
    "duration": 18,
    "start_time": "2024-11-14T22:39:41.046Z"
   },
   {
    "duration": 4,
    "start_time": "2024-11-14T22:39:41.066Z"
   },
   {
    "duration": 6,
    "start_time": "2024-11-14T22:39:41.106Z"
   },
   {
    "duration": 5,
    "start_time": "2024-11-14T22:39:41.114Z"
   },
   {
    "duration": 3,
    "start_time": "2024-11-14T22:39:41.121Z"
   },
   {
    "duration": 4,
    "start_time": "2024-11-14T22:39:41.126Z"
   },
   {
    "duration": 4,
    "start_time": "2024-11-14T22:39:41.132Z"
   },
   {
    "duration": 4,
    "start_time": "2024-11-14T22:39:41.138Z"
   },
   {
    "duration": 4,
    "start_time": "2024-11-14T22:39:41.144Z"
   },
   {
    "duration": 120,
    "start_time": "2024-11-14T22:39:41.150Z"
   },
   {
    "duration": 5,
    "start_time": "2024-11-14T22:39:41.273Z"
   },
   {
    "duration": 26,
    "start_time": "2024-11-14T22:39:41.280Z"
   },
   {
    "duration": 13,
    "start_time": "2024-11-14T22:39:41.308Z"
   },
   {
    "duration": 2,
    "start_time": "2024-11-14T22:39:41.323Z"
   },
   {
    "duration": 4,
    "start_time": "2024-11-14T22:39:41.327Z"
   },
   {
    "duration": 16,
    "start_time": "2024-11-14T22:39:41.333Z"
   },
   {
    "duration": 5,
    "start_time": "2024-11-14T22:39:41.351Z"
   },
   {
    "duration": 1248,
    "start_time": "2024-11-14T22:39:41.361Z"
   },
   {
    "duration": 22,
    "start_time": "2024-11-14T22:39:42.611Z"
   },
   {
    "duration": 5,
    "start_time": "2024-11-14T22:39:42.636Z"
   },
   {
    "duration": 14,
    "start_time": "2024-11-14T22:39:42.643Z"
   },
   {
    "duration": 15,
    "start_time": "2024-11-14T22:39:42.659Z"
   },
   {
    "duration": 44,
    "start_time": "2024-11-14T22:39:42.675Z"
   },
   {
    "duration": 351,
    "start_time": "2024-11-14T22:39:42.721Z"
   },
   {
    "duration": 369,
    "start_time": "2024-11-14T22:39:43.074Z"
   },
   {
    "duration": 13,
    "start_time": "2024-11-14T22:39:43.444Z"
   },
   {
    "duration": 27,
    "start_time": "2024-11-14T22:39:43.459Z"
   },
   {
    "duration": 586,
    "start_time": "2024-11-14T22:39:43.488Z"
   },
   {
    "duration": 395,
    "start_time": "2024-11-14T22:39:44.076Z"
   },
   {
    "duration": 363,
    "start_time": "2024-11-14T22:39:44.473Z"
   },
   {
    "duration": 231,
    "start_time": "2024-11-14T22:39:44.838Z"
   },
   {
    "duration": 4,
    "start_time": "2024-11-14T22:39:45.071Z"
   },
   {
    "duration": 386,
    "start_time": "2024-11-14T22:39:45.077Z"
   },
   {
    "duration": 5,
    "start_time": "2024-11-14T22:39:45.465Z"
   },
   {
    "duration": 15,
    "start_time": "2024-11-14T22:39:45.471Z"
   },
   {
    "duration": 15,
    "start_time": "2024-11-14T22:39:45.504Z"
   },
   {
    "duration": 5,
    "start_time": "2024-11-14T22:39:45.521Z"
   },
   {
    "duration": 266,
    "start_time": "2024-11-14T22:39:45.529Z"
   },
   {
    "duration": 10,
    "start_time": "2024-11-14T22:39:45.804Z"
   },
   {
    "duration": 7,
    "start_time": "2024-11-14T22:39:45.815Z"
   },
   {
    "duration": 9,
    "start_time": "2024-11-14T22:39:45.823Z"
   },
   {
    "duration": 6,
    "start_time": "2024-11-14T22:39:45.834Z"
   },
   {
    "duration": 36,
    "start_time": "2024-11-14T22:39:45.841Z"
   },
   {
    "duration": 9,
    "start_time": "2024-11-14T22:39:51.814Z"
   },
   {
    "duration": 10,
    "start_time": "2024-11-14T22:46:23.538Z"
   },
   {
    "duration": 5,
    "start_time": "2024-11-14T22:47:14.229Z"
   },
   {
    "duration": 9,
    "start_time": "2024-11-14T22:47:30.415Z"
   },
   {
    "duration": 9,
    "start_time": "2024-11-14T22:47:40.342Z"
   },
   {
    "duration": 9,
    "start_time": "2024-11-14T22:48:02.578Z"
   },
   {
    "duration": 4,
    "start_time": "2024-11-14T22:50:29.937Z"
   },
   {
    "duration": 5,
    "start_time": "2024-11-14T22:51:04.103Z"
   },
   {
    "duration": 2618,
    "start_time": "2024-11-15T20:13:04.057Z"
   },
   {
    "duration": 35,
    "start_time": "2024-11-15T20:13:06.677Z"
   },
   {
    "duration": 25,
    "start_time": "2024-11-15T20:13:06.714Z"
   },
   {
    "duration": 16,
    "start_time": "2024-11-15T20:13:06.741Z"
   },
   {
    "duration": 5,
    "start_time": "2024-11-15T20:13:06.760Z"
   },
   {
    "duration": 5,
    "start_time": "2024-11-15T20:13:06.767Z"
   },
   {
    "duration": 24,
    "start_time": "2024-11-15T20:13:06.774Z"
   },
   {
    "duration": 34,
    "start_time": "2024-11-15T20:13:06.800Z"
   },
   {
    "duration": 7,
    "start_time": "2024-11-15T20:13:06.836Z"
   },
   {
    "duration": 7,
    "start_time": "2024-11-15T20:13:06.845Z"
   },
   {
    "duration": 4,
    "start_time": "2024-11-15T20:13:06.855Z"
   },
   {
    "duration": 5,
    "start_time": "2024-11-15T20:13:06.861Z"
   },
   {
    "duration": 8,
    "start_time": "2024-11-15T20:13:06.869Z"
   },
   {
    "duration": 5,
    "start_time": "2024-11-15T20:13:06.881Z"
   },
   {
    "duration": 5,
    "start_time": "2024-11-15T20:13:06.888Z"
   },
   {
    "duration": 130,
    "start_time": "2024-11-15T20:13:06.894Z"
   },
   {
    "duration": 12,
    "start_time": "2024-11-15T20:13:07.025Z"
   },
   {
    "duration": 5,
    "start_time": "2024-11-15T20:13:07.039Z"
   },
   {
    "duration": 15,
    "start_time": "2024-11-15T20:13:07.047Z"
   },
   {
    "duration": 2,
    "start_time": "2024-11-15T20:13:07.064Z"
   },
   {
    "duration": 6,
    "start_time": "2024-11-15T20:13:07.068Z"
   },
   {
    "duration": 21,
    "start_time": "2024-11-15T20:13:07.076Z"
   },
   {
    "duration": 34,
    "start_time": "2024-11-15T20:13:07.098Z"
   },
   {
    "duration": 1152,
    "start_time": "2024-11-15T20:13:07.134Z"
   },
   {
    "duration": 21,
    "start_time": "2024-11-15T20:13:08.288Z"
   },
   {
    "duration": 21,
    "start_time": "2024-11-15T20:13:08.311Z"
   },
   {
    "duration": 18,
    "start_time": "2024-11-15T20:13:08.334Z"
   },
   {
    "duration": 15,
    "start_time": "2024-11-15T20:13:08.354Z"
   },
   {
    "duration": 12,
    "start_time": "2024-11-15T20:13:08.371Z"
   },
   {
    "duration": 399,
    "start_time": "2024-11-15T20:13:08.385Z"
   },
   {
    "duration": 390,
    "start_time": "2024-11-15T20:13:08.786Z"
   },
   {
    "duration": 14,
    "start_time": "2024-11-15T20:13:09.177Z"
   },
   {
    "duration": 39,
    "start_time": "2024-11-15T20:13:09.193Z"
   },
   {
    "duration": 599,
    "start_time": "2024-11-15T20:13:09.234Z"
   },
   {
    "duration": 408,
    "start_time": "2024-11-15T20:13:09.835Z"
   },
   {
    "duration": 362,
    "start_time": "2024-11-15T20:13:10.244Z"
   },
   {
    "duration": 237,
    "start_time": "2024-11-15T20:13:10.607Z"
   },
   {
    "duration": 5,
    "start_time": "2024-11-15T20:13:10.847Z"
   },
   {
    "duration": 379,
    "start_time": "2024-11-15T20:13:10.854Z"
   },
   {
    "duration": 5,
    "start_time": "2024-11-15T20:13:11.235Z"
   },
   {
    "duration": 15,
    "start_time": "2024-11-15T20:13:11.245Z"
   },
   {
    "duration": 13,
    "start_time": "2024-11-15T20:13:11.262Z"
   },
   {
    "duration": 5,
    "start_time": "2024-11-15T20:13:11.277Z"
   },
   {
    "duration": 351,
    "start_time": "2024-11-15T20:13:11.284Z"
   },
   {
    "duration": 15,
    "start_time": "2024-11-15T20:13:11.637Z"
   },
   {
    "duration": 13,
    "start_time": "2024-11-15T20:13:11.654Z"
   },
   {
    "duration": 6,
    "start_time": "2024-11-15T20:13:11.670Z"
   },
   {
    "duration": 0,
    "start_time": "2024-11-15T20:13:11.677Z"
   },
   {
    "duration": 0,
    "start_time": "2024-11-15T20:13:11.679Z"
   },
   {
    "duration": 0,
    "start_time": "2024-11-15T20:13:11.679Z"
   },
   {
    "duration": 5,
    "start_time": "2024-11-15T20:27:53.221Z"
   },
   {
    "duration": 5,
    "start_time": "2024-11-15T20:28:11.826Z"
   },
   {
    "duration": 5,
    "start_time": "2024-11-15T20:29:08.182Z"
   },
   {
    "duration": 9,
    "start_time": "2024-11-15T20:31:24.159Z"
   },
   {
    "duration": 3,
    "start_time": "2024-11-15T20:38:57.804Z"
   },
   {
    "duration": 4,
    "start_time": "2024-11-15T20:39:09.924Z"
   },
   {
    "duration": 3,
    "start_time": "2024-11-15T20:39:43.993Z"
   },
   {
    "duration": 322,
    "start_time": "2024-11-15T20:40:03.728Z"
   },
   {
    "duration": 6,
    "start_time": "2024-11-15T20:44:19.731Z"
   },
   {
    "duration": 10,
    "start_time": "2024-11-15T20:44:42.366Z"
   },
   {
    "duration": 19,
    "start_time": "2024-11-15T20:47:49.240Z"
   },
   {
    "duration": 4,
    "start_time": "2024-11-15T20:57:43.227Z"
   },
   {
    "duration": 8,
    "start_time": "2024-11-15T21:09:19.900Z"
   },
   {
    "duration": 8,
    "start_time": "2024-11-15T21:09:51.341Z"
   },
   {
    "duration": 12,
    "start_time": "2024-11-15T21:13:13.308Z"
   },
   {
    "duration": 3,
    "start_time": "2024-11-15T21:25:44.212Z"
   },
   {
    "duration": 5,
    "start_time": "2024-11-15T21:26:02.121Z"
   },
   {
    "duration": 166,
    "start_time": "2024-11-15T21:26:21.550Z"
   },
   {
    "duration": 3,
    "start_time": "2024-11-15T21:27:50.256Z"
   },
   {
    "duration": 5,
    "start_time": "2024-11-15T21:28:44.447Z"
   },
   {
    "duration": 12,
    "start_time": "2024-11-15T21:30:22.227Z"
   },
   {
    "duration": 25,
    "start_time": "2024-11-15T21:32:00.599Z"
   },
   {
    "duration": 27,
    "start_time": "2024-11-15T21:32:26.948Z"
   },
   {
    "duration": 456,
    "start_time": "2024-11-15T21:45:40.478Z"
   },
   {
    "duration": 48,
    "start_time": "2024-11-15T21:46:31.117Z"
   },
   {
    "duration": 10,
    "start_time": "2024-11-15T21:46:49.883Z"
   },
   {
    "duration": 12,
    "start_time": "2024-11-15T21:59:13.970Z"
   },
   {
    "duration": 3,
    "start_time": "2024-11-15T22:00:58.015Z"
   },
   {
    "duration": 3,
    "start_time": "2024-11-15T22:01:44.861Z"
   }
  ],
  "kernelspec": {
   "display_name": "Python 3 (ipykernel)",
   "language": "python",
   "name": "python3"
  },
  "language_info": {
   "codemirror_mode": {
    "name": "ipython",
    "version": 3
   },
   "file_extension": ".py",
   "mimetype": "text/x-python",
   "name": "python",
   "nbconvert_exporter": "python",
   "pygments_lexer": "ipython3",
   "version": "3.9.19"
  },
  "toc": {
   "base_numbering": 1,
   "nav_menu": {},
   "number_sections": true,
   "sideBar": true,
   "skip_h1_title": true,
   "title_cell": "Table of Contents",
   "title_sidebar": "Contents",
   "toc_cell": false,
   "toc_position": {},
   "toc_section_display": true,
   "toc_window_display": false
  }
 },
 "nbformat": 4,
 "nbformat_minor": 2
}
