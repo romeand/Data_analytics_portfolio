{
 "cells": [
  {
   "cell_type": "markdown",
   "id": "a9ce8d4f",
   "metadata": {},
   "source": [
    "# ¡Hola  !🙋🏻‍♂️\n",
    "\n",
    "Te escribe Lisandro Saez, soy revisor de código en Tripleten y tengo el agrado de revisar el proyecto que entregaste.\n",
    "\n",
    "Para simular la dinámica de un ambiente de trabajo, si veo algún error, en primer instancia solo los señalaré, dándote la oportunidad de encontrarlos y corregirlos por tu cuenta. En un trabajo real, el líder de tu equipo hará una dinámica similar. En caso de que no puedas resolver la tarea, te daré una información más precisa en la próxima revisión.\n",
    "\n",
    "Encontrarás mis comentarios más abajo - **por favor, no los muevas, no los modifiques ni los borres**.\n",
    "\n",
    "¿Cómo lo voy a hacer? Voy a leer detenidamente cada una de las implementaciones que has llevado a cabo para cumplir con lo solicitado. Verás los comentarios de esta forma:\n",
    "\n",
    "<div class=\"alert alert-block alert-success\">\n",
    "<b>Comentario del revisor</b> <a class=\"tocSkip\"></a>\n",
    "\n",
    "Si todo está perfecto.\n",
    "</div>\n",
    "\n",
    "\n",
    "<div class=\"alert alert-block alert-warning\">\n",
    "<b>Comentario del revisor</b> <a class=\"tocSkip\"></a>\n",
    "\n",
    "Si tu código está bien pero se puede mejorar o hay algún detalle que le hace falta. Se aceptan uno o dos comentarios de este tipo en el borrador, pero si hay más, deberías hacer las correcciones. Es como una tarea de prueba al solicitar un trabajo: muchos pequeños errores pueden hacer que un candidato sea rechazado.\n",
    "</div>\n",
    "\n",
    "<div class=\"alert alert-block alert-danger\">\n",
    "\n",
    "<b>Comentario del revisor</b> <a class=\"tocSkip\"></a>\n",
    "\n",
    "Si de pronto hace falta algo o existe algún problema con tu código o conclusiones.\n",
    "</div>\n",
    "\n",
    "Puedes responderme de esta forma (no te preocupes, no es obligatorio):\n",
    "\n",
    "<div class=\"alert alert-block alert-info\">\n",
    "<b>Respuesta del estudiante</b> <a class=\"tocSkip\"></a>\n",
    "\n",
    "Hola, muchas gracias por tus comentarios y la revisión.\n",
    "</div>\n",
    "\n",
    "¡Empecemos!"
   ]
  },
  {
   "cell_type": "markdown",
   "id": "3Xg_RQfnafXz",
   "metadata": {
    "id": "3Xg_RQfnafXz"
   },
   "source": [
    "# ¡Llena ese carrito!"
   ]
  },
  {
   "cell_type": "markdown",
   "id": "mhIvmmkW414q",
   "metadata": {
    "id": "mhIvmmkW414q"
   },
   "source": [
    "# Introducción\n",
    "\n",
    "Instacart es una plataforma de entregas de comestibles donde la clientela puede registrar un pedido y hacer que se lo entreguen, similar a Uber Eats y Door Dash.\n",
    "El conjunto de datos que te hemos proporcionado tiene modificaciones del original. Redujimos el tamaño del conjunto para que tus cálculos se hicieran más rápido e introdujimos valores ausentes y duplicados. Tuvimos cuidado de conservar las distribuciones de los datos originales cuando hicimos los cambios.\n",
    "\n",
    "Debes completar tres pasos. Para cada uno de ellos, escribe una breve introducción que refleje con claridad cómo pretendes resolver cada paso, y escribe párrafos explicatorios que justifiquen tus decisiones al tiempo que avanzas en tu solución.  También escribe una conclusión que resuma tus hallazgos y elecciones.\n"
   ]
  },
  {
   "cell_type": "markdown",
   "id": "3MbyzpOQZ5Or",
   "metadata": {
    "id": "3MbyzpOQZ5Or"
   },
   "source": [
    "## Diccionario de datos\n",
    "\n",
    "Hay cinco tablas en el conjunto de datos, y tendrás que usarlas todas para hacer el preprocesamiento de datos y el análisis exploratorio de datos. A continuación se muestra un diccionario de datos que enumera las columnas de cada tabla y describe los datos que contienen.\n",
    "\n",
    "- `instacart_orders.csv`: cada fila corresponde a un pedido en la aplicación Instacart.\n",
    "    - `'order_id'`: número de ID que identifica de manera única cada pedido.\n",
    "    - `'user_id'`: número de ID que identifica de manera única la cuenta de cada cliente.\n",
    "    - `'order_number'`: el número de veces que este cliente ha hecho un pedido.\n",
    "    - `'order_dow'`: día de la semana en que se hizo el pedido (0 si es domingo).\n",
    "    - `'order_hour_of_day'`: hora del día en que se hizo el pedido.\n",
    "    - `'days_since_prior_order'`: número de días transcurridos desde que este cliente hizo su pedido anterior.\n",
    "- `products.csv`: cada fila corresponde a un producto único que pueden comprar los clientes.\n",
    "    - `'product_id'`: número ID que identifica de manera única cada producto.\n",
    "    - `'product_name'`: nombre del producto.\n",
    "    - `'aisle_id'`: número ID que identifica de manera única cada categoría de pasillo de víveres.\n",
    "    - `'department_id'`: número ID que identifica de manera única cada departamento de víveres.\n",
    "- `order_products.csv`: cada fila corresponde a un artículo pedido en un pedido.\n",
    "    - `'order_id'`: número de ID que identifica de manera única cada pedido.\n",
    "    - `'product_id'`: número ID que identifica de manera única cada producto.\n",
    "    - `'add_to_cart_order'`: el orden secuencial en el que se añadió cada artículo en el carrito.\n",
    "    - `'reordered'`: 0 si el cliente nunca ha pedido este producto antes, 1 si lo ha pedido.\n",
    "- `aisles.csv`\n",
    "    - `'aisle_id'`: número ID que identifica de manera única cada categoría de pasillo de víveres.\n",
    "    - `'aisle'`: nombre del pasillo.\n",
    "- `departments.csv`\n",
    "    - `'department_id'`: número ID que identifica de manera única cada departamento de víveres.\n",
    "    - `'department'`: nombre del departamento."
   ]
  },
  {
   "cell_type": "markdown",
   "id": "n3Ha_cNSZ8lK",
   "metadata": {
    "id": "n3Ha_cNSZ8lK"
   },
   "source": [
    "# Paso 1. Descripción de los datos\n",
    "\n",
    "Lee los archivos de datos (`/datasets/instacart_orders.csv`, `/datasets/products.csv`, `/datasets/aisles.csv`, `/datasets/departments.csv` y `/datasets/order_products.csv`) con `pd.read_csv()` usando los parámetros adecuados para leer los datos correctamente. Verifica la información para cada DataFrame creado.\n"
   ]
  },
  {
   "cell_type": "markdown",
   "id": "OmlQPLlyaAfR",
   "metadata": {
    "id": "OmlQPLlyaAfR"
   },
   "source": [
    "## Plan de solución\n",
    "\n",
    "Escribe aquí tu plan de solución para el Paso 1. Descripción de los datos."
   ]
  },
  {
   "cell_type": "code",
   "execution_count": 4,
   "id": "fbf1adab",
   "metadata": {
    "id": "fbf1adab"
   },
   "outputs": [],
   "source": [
    "# importar librerías\n",
    "import pandas as pd\n",
    "import numpy as np\n",
    "from matplotlib import pyplot as plt"
   ]
  },
  {
   "cell_type": "code",
   "execution_count": 5,
   "id": "ad36396d",
   "metadata": {
    "id": "ad36396d"
   },
   "outputs": [],
   "source": [
    "# leer conjuntos de datos en los DataFrames\n",
    "# Aquí procuraremos leer los datos asignandoles un  nombre identificador a cada dataframe\n",
    "df_insta= pd.read_csv('/datasets/instacart_orders.csv',sep=';')\n",
    "df_products=pd.read_csv('/datasets/products.csv',sep=';')\n",
    "df_aisles=pd.read_csv('/datasets/aisles.csv',sep=';')\n",
    "df_departments=pd.read_csv('/datasets/departments.csv',sep=';')\n",
    "df_order=pd.read_csv('/datasets/order_products.csv',sep=';')"
   ]
  },
  {
   "cell_type": "markdown",
   "id": "e5f8ea9b",
   "metadata": {},
   "source": [
    "<div class=\"alert alert-block alert-success\">\n",
    "<b>Comentario del revisor</b> <a class=\"tocSkip\"></a>\n",
    "\n",
    "Bien hecho! Siempre es importante que pasemos el set de datos que estamos usando a `DataFrame`!</div>\n",
    "\n",
    "\n"
   ]
  },
  {
   "cell_type": "code",
   "execution_count": 3,
   "id": "ad6a1efa",
   "metadata": {
    "id": "ad6a1efa"
   },
   "outputs": [
    {
     "name": "stdout",
     "output_type": "stream",
     "text": [
      "<class 'pandas.core.frame.DataFrame'>\n",
      "RangeIndex: 478967 entries, 0 to 478966\n",
      "Data columns (total 6 columns):\n",
      " #   Column                  Non-Null Count   Dtype  \n",
      "---  ------                  --------------   -----  \n",
      " 0   order_id                478967 non-null  int64  \n",
      " 1   user_id                 478967 non-null  int64  \n",
      " 2   order_number            478967 non-null  int64  \n",
      " 3   order_dow               478967 non-null  int64  \n",
      " 4   order_hour_of_day       478967 non-null  int64  \n",
      " 5   days_since_prior_order  450148 non-null  float64\n",
      "dtypes: float64(1), int64(5)\n",
      "memory usage: 21.9 MB\n",
      "\n"
     ]
    },
    {
     "data": {
      "text/html": [
       "<div>\n",
       "<style scoped>\n",
       "    .dataframe tbody tr th:only-of-type {\n",
       "        vertical-align: middle;\n",
       "    }\n",
       "\n",
       "    .dataframe tbody tr th {\n",
       "        vertical-align: top;\n",
       "    }\n",
       "\n",
       "    .dataframe thead th {\n",
       "        text-align: right;\n",
       "    }\n",
       "</style>\n",
       "<table border=\"1\" class=\"dataframe\">\n",
       "  <thead>\n",
       "    <tr style=\"text-align: right;\">\n",
       "      <th></th>\n",
       "      <th>order_id</th>\n",
       "      <th>user_id</th>\n",
       "      <th>order_number</th>\n",
       "      <th>order_dow</th>\n",
       "      <th>order_hour_of_day</th>\n",
       "      <th>days_since_prior_order</th>\n",
       "    </tr>\n",
       "  </thead>\n",
       "  <tbody>\n",
       "    <tr>\n",
       "      <th>0</th>\n",
       "      <td>1515936</td>\n",
       "      <td>183418</td>\n",
       "      <td>11</td>\n",
       "      <td>6</td>\n",
       "      <td>13</td>\n",
       "      <td>30.0</td>\n",
       "    </tr>\n",
       "    <tr>\n",
       "      <th>1</th>\n",
       "      <td>1690866</td>\n",
       "      <td>163593</td>\n",
       "      <td>5</td>\n",
       "      <td>5</td>\n",
       "      <td>12</td>\n",
       "      <td>9.0</td>\n",
       "    </tr>\n",
       "    <tr>\n",
       "      <th>2</th>\n",
       "      <td>1454967</td>\n",
       "      <td>39980</td>\n",
       "      <td>4</td>\n",
       "      <td>5</td>\n",
       "      <td>19</td>\n",
       "      <td>2.0</td>\n",
       "    </tr>\n",
       "    <tr>\n",
       "      <th>3</th>\n",
       "      <td>1768857</td>\n",
       "      <td>82516</td>\n",
       "      <td>56</td>\n",
       "      <td>0</td>\n",
       "      <td>20</td>\n",
       "      <td>10.0</td>\n",
       "    </tr>\n",
       "    <tr>\n",
       "      <th>4</th>\n",
       "      <td>3007858</td>\n",
       "      <td>196724</td>\n",
       "      <td>2</td>\n",
       "      <td>4</td>\n",
       "      <td>12</td>\n",
       "      <td>17.0</td>\n",
       "    </tr>\n",
       "  </tbody>\n",
       "</table>\n",
       "</div>"
      ],
      "text/plain": [
       "   order_id  user_id  order_number  order_dow  order_hour_of_day  \\\n",
       "0   1515936   183418            11          6                 13   \n",
       "1   1690866   163593             5          5                 12   \n",
       "2   1454967    39980             4          5                 19   \n",
       "3   1768857    82516            56          0                 20   \n",
       "4   3007858   196724             2          4                 12   \n",
       "\n",
       "   days_since_prior_order  \n",
       "0                    30.0  \n",
       "1                     9.0  \n",
       "2                     2.0  \n",
       "3                    10.0  \n",
       "4                    17.0  "
      ]
     },
     "execution_count": 3,
     "metadata": {},
     "output_type": "execute_result"
    }
   ],
   "source": [
    "# mostrar información del DataFrame\n",
    "df_insta.info()\n",
    "print()\n",
    "df_insta.head()"
   ]
  },
  {
   "cell_type": "code",
   "execution_count": 10,
   "id": "5130e05e",
   "metadata": {
    "id": "5130e05e"
   },
   "outputs": [
    {
     "name": "stdout",
     "output_type": "stream",
     "text": [
      "<class 'pandas.core.frame.DataFrame'>\n",
      "RangeIndex: 49694 entries, 0 to 49693\n",
      "Data columns (total 4 columns):\n",
      " #   Column         Non-Null Count  Dtype \n",
      "---  ------         --------------  ----- \n",
      " 0   product_id     49694 non-null  int64 \n",
      " 1   product_name   48436 non-null  object\n",
      " 2   aisle_id       49694 non-null  int64 \n",
      " 3   department_id  49694 non-null  int64 \n",
      "dtypes: int64(3), object(1)\n",
      "memory usage: 1.5+ MB\n",
      "\n"
     ]
    },
    {
     "data": {
      "text/html": [
       "<div>\n",
       "<style scoped>\n",
       "    .dataframe tbody tr th:only-of-type {\n",
       "        vertical-align: middle;\n",
       "    }\n",
       "\n",
       "    .dataframe tbody tr th {\n",
       "        vertical-align: top;\n",
       "    }\n",
       "\n",
       "    .dataframe thead th {\n",
       "        text-align: right;\n",
       "    }\n",
       "</style>\n",
       "<table border=\"1\" class=\"dataframe\">\n",
       "  <thead>\n",
       "    <tr style=\"text-align: right;\">\n",
       "      <th></th>\n",
       "      <th>product_id</th>\n",
       "      <th>product_name</th>\n",
       "      <th>aisle_id</th>\n",
       "      <th>department_id</th>\n",
       "    </tr>\n",
       "  </thead>\n",
       "  <tbody>\n",
       "    <tr>\n",
       "      <th>0</th>\n",
       "      <td>1</td>\n",
       "      <td>Chocolate Sandwich Cookies</td>\n",
       "      <td>61</td>\n",
       "      <td>19</td>\n",
       "    </tr>\n",
       "    <tr>\n",
       "      <th>1</th>\n",
       "      <td>2</td>\n",
       "      <td>All-Seasons Salt</td>\n",
       "      <td>104</td>\n",
       "      <td>13</td>\n",
       "    </tr>\n",
       "    <tr>\n",
       "      <th>2</th>\n",
       "      <td>3</td>\n",
       "      <td>Robust Golden Unsweetened Oolong Tea</td>\n",
       "      <td>94</td>\n",
       "      <td>7</td>\n",
       "    </tr>\n",
       "    <tr>\n",
       "      <th>3</th>\n",
       "      <td>4</td>\n",
       "      <td>Smart Ones Classic Favorites Mini Rigatoni Wit...</td>\n",
       "      <td>38</td>\n",
       "      <td>1</td>\n",
       "    </tr>\n",
       "    <tr>\n",
       "      <th>4</th>\n",
       "      <td>5</td>\n",
       "      <td>Green Chile Anytime Sauce</td>\n",
       "      <td>5</td>\n",
       "      <td>13</td>\n",
       "    </tr>\n",
       "  </tbody>\n",
       "</table>\n",
       "</div>"
      ],
      "text/plain": [
       "   product_id                                       product_name  aisle_id  \\\n",
       "0           1                         Chocolate Sandwich Cookies        61   \n",
       "1           2                                   All-Seasons Salt       104   \n",
       "2           3               Robust Golden Unsweetened Oolong Tea        94   \n",
       "3           4  Smart Ones Classic Favorites Mini Rigatoni Wit...        38   \n",
       "4           5                          Green Chile Anytime Sauce         5   \n",
       "\n",
       "   department_id  \n",
       "0             19  \n",
       "1             13  \n",
       "2              7  \n",
       "3              1  \n",
       "4             13  "
      ]
     },
     "execution_count": 10,
     "metadata": {},
     "output_type": "execute_result"
    }
   ],
   "source": [
    "# mostrar información del DataFrame\n",
    "df_products.info(show_counts=True)\n",
    "print()\n",
    "df_products.head()"
   ]
  },
  {
   "cell_type": "code",
   "execution_count": 5,
   "id": "d8370c05",
   "metadata": {
    "id": "d8370c05"
   },
   "outputs": [
    {
     "name": "stdout",
     "output_type": "stream",
     "text": [
      "<class 'pandas.core.frame.DataFrame'>\n",
      "RangeIndex: 134 entries, 0 to 133\n",
      "Data columns (total 2 columns):\n",
      " #   Column    Non-Null Count  Dtype \n",
      "---  ------    --------------  ----- \n",
      " 0   aisle_id  134 non-null    int64 \n",
      " 1   aisle     134 non-null    object\n",
      "dtypes: int64(1), object(1)\n",
      "memory usage: 2.2+ KB\n",
      "\n"
     ]
    },
    {
     "data": {
      "text/html": [
       "<div>\n",
       "<style scoped>\n",
       "    .dataframe tbody tr th:only-of-type {\n",
       "        vertical-align: middle;\n",
       "    }\n",
       "\n",
       "    .dataframe tbody tr th {\n",
       "        vertical-align: top;\n",
       "    }\n",
       "\n",
       "    .dataframe thead th {\n",
       "        text-align: right;\n",
       "    }\n",
       "</style>\n",
       "<table border=\"1\" class=\"dataframe\">\n",
       "  <thead>\n",
       "    <tr style=\"text-align: right;\">\n",
       "      <th></th>\n",
       "      <th>aisle_id</th>\n",
       "      <th>aisle</th>\n",
       "    </tr>\n",
       "  </thead>\n",
       "  <tbody>\n",
       "    <tr>\n",
       "      <th>0</th>\n",
       "      <td>1</td>\n",
       "      <td>prepared soups salads</td>\n",
       "    </tr>\n",
       "    <tr>\n",
       "      <th>1</th>\n",
       "      <td>2</td>\n",
       "      <td>specialty cheeses</td>\n",
       "    </tr>\n",
       "    <tr>\n",
       "      <th>2</th>\n",
       "      <td>3</td>\n",
       "      <td>energy granola bars</td>\n",
       "    </tr>\n",
       "    <tr>\n",
       "      <th>3</th>\n",
       "      <td>4</td>\n",
       "      <td>instant foods</td>\n",
       "    </tr>\n",
       "    <tr>\n",
       "      <th>4</th>\n",
       "      <td>5</td>\n",
       "      <td>marinades meat preparation</td>\n",
       "    </tr>\n",
       "  </tbody>\n",
       "</table>\n",
       "</div>"
      ],
      "text/plain": [
       "   aisle_id                       aisle\n",
       "0         1       prepared soups salads\n",
       "1         2           specialty cheeses\n",
       "2         3         energy granola bars\n",
       "3         4               instant foods\n",
       "4         5  marinades meat preparation"
      ]
     },
     "execution_count": 5,
     "metadata": {},
     "output_type": "execute_result"
    }
   ],
   "source": [
    "# mostrar información del DataFrame\n",
    "df_aisles.info()\n",
    "print()\n",
    "df_aisles.head()"
   ]
  },
  {
   "cell_type": "code",
   "execution_count": 6,
   "id": "59e2090f",
   "metadata": {
    "id": "59e2090f"
   },
   "outputs": [
    {
     "name": "stdout",
     "output_type": "stream",
     "text": [
      "<class 'pandas.core.frame.DataFrame'>\n",
      "RangeIndex: 21 entries, 0 to 20\n",
      "Data columns (total 2 columns):\n",
      " #   Column         Non-Null Count  Dtype \n",
      "---  ------         --------------  ----- \n",
      " 0   department_id  21 non-null     int64 \n",
      " 1   department     21 non-null     object\n",
      "dtypes: int64(1), object(1)\n",
      "memory usage: 464.0+ bytes\n",
      "\n"
     ]
    },
    {
     "data": {
      "text/html": [
       "<div>\n",
       "<style scoped>\n",
       "    .dataframe tbody tr th:only-of-type {\n",
       "        vertical-align: middle;\n",
       "    }\n",
       "\n",
       "    .dataframe tbody tr th {\n",
       "        vertical-align: top;\n",
       "    }\n",
       "\n",
       "    .dataframe thead th {\n",
       "        text-align: right;\n",
       "    }\n",
       "</style>\n",
       "<table border=\"1\" class=\"dataframe\">\n",
       "  <thead>\n",
       "    <tr style=\"text-align: right;\">\n",
       "      <th></th>\n",
       "      <th>department_id</th>\n",
       "      <th>department</th>\n",
       "    </tr>\n",
       "  </thead>\n",
       "  <tbody>\n",
       "    <tr>\n",
       "      <th>0</th>\n",
       "      <td>1</td>\n",
       "      <td>frozen</td>\n",
       "    </tr>\n",
       "    <tr>\n",
       "      <th>1</th>\n",
       "      <td>2</td>\n",
       "      <td>other</td>\n",
       "    </tr>\n",
       "    <tr>\n",
       "      <th>2</th>\n",
       "      <td>3</td>\n",
       "      <td>bakery</td>\n",
       "    </tr>\n",
       "    <tr>\n",
       "      <th>3</th>\n",
       "      <td>4</td>\n",
       "      <td>produce</td>\n",
       "    </tr>\n",
       "    <tr>\n",
       "      <th>4</th>\n",
       "      <td>5</td>\n",
       "      <td>alcohol</td>\n",
       "    </tr>\n",
       "  </tbody>\n",
       "</table>\n",
       "</div>"
      ],
      "text/plain": [
       "   department_id department\n",
       "0              1     frozen\n",
       "1              2      other\n",
       "2              3     bakery\n",
       "3              4    produce\n",
       "4              5    alcohol"
      ]
     },
     "execution_count": 6,
     "metadata": {},
     "output_type": "execute_result"
    }
   ],
   "source": [
    "# mostrar información del DataFrame\n",
    "df_departments.info()\n",
    "print()\n",
    "df_departments.head()"
   ]
  },
  {
   "cell_type": "code",
   "execution_count": 7,
   "id": "6fc81694",
   "metadata": {
    "id": "6fc81694"
   },
   "outputs": [
    {
     "name": "stdout",
     "output_type": "stream",
     "text": [
      "<class 'pandas.core.frame.DataFrame'>\n",
      "RangeIndex: 4545007 entries, 0 to 4545006\n",
      "Data columns (total 4 columns):\n",
      " #   Column             Dtype  \n",
      "---  ------             -----  \n",
      " 0   order_id           int64  \n",
      " 1   product_id         int64  \n",
      " 2   add_to_cart_order  float64\n",
      " 3   reordered          int64  \n",
      "dtypes: float64(1), int64(3)\n",
      "memory usage: 138.7 MB\n",
      "\n"
     ]
    },
    {
     "data": {
      "text/html": [
       "<div>\n",
       "<style scoped>\n",
       "    .dataframe tbody tr th:only-of-type {\n",
       "        vertical-align: middle;\n",
       "    }\n",
       "\n",
       "    .dataframe tbody tr th {\n",
       "        vertical-align: top;\n",
       "    }\n",
       "\n",
       "    .dataframe thead th {\n",
       "        text-align: right;\n",
       "    }\n",
       "</style>\n",
       "<table border=\"1\" class=\"dataframe\">\n",
       "  <thead>\n",
       "    <tr style=\"text-align: right;\">\n",
       "      <th></th>\n",
       "      <th>order_id</th>\n",
       "      <th>product_id</th>\n",
       "      <th>add_to_cart_order</th>\n",
       "      <th>reordered</th>\n",
       "    </tr>\n",
       "  </thead>\n",
       "  <tbody>\n",
       "    <tr>\n",
       "      <th>0</th>\n",
       "      <td>2141543</td>\n",
       "      <td>11440</td>\n",
       "      <td>17.0</td>\n",
       "      <td>0</td>\n",
       "    </tr>\n",
       "    <tr>\n",
       "      <th>1</th>\n",
       "      <td>567889</td>\n",
       "      <td>1560</td>\n",
       "      <td>1.0</td>\n",
       "      <td>1</td>\n",
       "    </tr>\n",
       "    <tr>\n",
       "      <th>2</th>\n",
       "      <td>2261212</td>\n",
       "      <td>26683</td>\n",
       "      <td>1.0</td>\n",
       "      <td>1</td>\n",
       "    </tr>\n",
       "    <tr>\n",
       "      <th>3</th>\n",
       "      <td>491251</td>\n",
       "      <td>8670</td>\n",
       "      <td>35.0</td>\n",
       "      <td>1</td>\n",
       "    </tr>\n",
       "    <tr>\n",
       "      <th>4</th>\n",
       "      <td>2571142</td>\n",
       "      <td>1940</td>\n",
       "      <td>5.0</td>\n",
       "      <td>1</td>\n",
       "    </tr>\n",
       "  </tbody>\n",
       "</table>\n",
       "</div>"
      ],
      "text/plain": [
       "   order_id  product_id  add_to_cart_order  reordered\n",
       "0   2141543       11440               17.0          0\n",
       "1    567889        1560                1.0          1\n",
       "2   2261212       26683                1.0          1\n",
       "3    491251        8670               35.0          1\n",
       "4   2571142        1940                5.0          1"
      ]
     },
     "execution_count": 7,
     "metadata": {},
     "output_type": "execute_result"
    }
   ],
   "source": [
    "# mostrar información del DataFrame\n",
    "df_order.info()\n",
    "print()\n",
    "df_order.head()"
   ]
  },
  {
   "cell_type": "markdown",
   "id": "t75BD19oaR5f",
   "metadata": {
    "id": "t75BD19oaR5f"
   },
   "source": [
    "## Conclusiones\n",
    "\n",
    "Escribe aquí tus conclusiones intermedias sobre el Paso 1. Descripción de los datos.\n",
    "\n",
    "De entrada se observa que en todos los Data Frames no se reconocen adecuadamente las diversas columnas, y por lo tanto se observa que los Dtypes los muestra todos como object cuando se esperan datos del tipo enteros y flotantes en algunas de las columnas. Una vez utilizado el separador correcto podemos observar que algunas columnas de los primeros 2 data frames no tiene el rango de filas completos así como que en el primer Df los datos de la 5ta columna que habla de dias está en float cuandoe esperaria dias enteros, habra que investigar eso más.\n"
   ]
  },
  {
   "cell_type": "markdown",
   "id": "27ea16cd",
   "metadata": {},
   "source": [
    "<div class=\"alert alert-block alert-warning\">\n",
    "<b>Comentario del revisor </b> <a class=\"tocSkip\"></a>\n",
    "    \n",
    "* Puedes agregarle el parámetro `show_counts=True` al método `info()` para obtener un poco más de información.\n",
    "    \n",
    "* Es una buena práctica hacer un `.describe()` para entender un poco mejor de qué se trata cada tabla.\n",
    "\n",
    "</div>"
   ]
  },
  {
   "cell_type": "markdown",
   "id": "8RJHqxVmaVsF",
   "metadata": {
    "id": "8RJHqxVmaVsF"
   },
   "source": [
    "# Paso 2. Preprocesamiento de los datos\n",
    "\n",
    "Preprocesa los datos de la siguiente manera:\n",
    "\n",
    "- Verifica y corrige los tipos de datos (por ejemplo, asegúrate de que las columnas de ID sean números enteros).\n",
    "- Identifica y completa los valores ausentes.\n",
    "- Identifica y elimina los valores duplicados.\n",
    "\n",
    "Asegúrate de explicar qué tipos de valores ausentes y duplicados encontraste, cómo los completaste o eliminaste y por qué usaste esos métodos. ¿Por qué crees que estos valores ausentes y duplicados pueden haber estado presentes en el conjunto de datos?"
   ]
  },
  {
   "cell_type": "markdown",
   "id": "p6poABZQaZYb",
   "metadata": {
    "id": "p6poABZQaZYb"
   },
   "source": [
    "## Plan de solución\n",
    "\n",
    "Escribe aquí tu plan para el Paso 2. Preprocesamiento de los datos.\n",
    "En primer lugar habrá que rehacer la lectura de los archivos .csv para poder ingresar los separadores correctos que me parece en este caso son ;. Ya una vez leidos de manera correcta los DataFrames podremos hacer el análisis respectivo para los datos y su tipo en cada columna.Posterior se tendrá que modificar los datos a su tipo correcto o ideal, como convertir floats a interger para luego proceder a verificar valores duplicados así como ausentes. "
   ]
  },
  {
   "cell_type": "markdown",
   "id": "d4e22556",
   "metadata": {},
   "source": [
    "\n",
    "<div class=\"alert alert-block alert-success\">\n",
    "<b>Comentario del revisor</b> <a class=\"tocSkip\"></a>\n",
    "\n",
    "Bien hecho! Es sumamente importante elaborar un plan de solución antes de ponerse a escribir el código.</div>\n"
   ]
  },
  {
   "cell_type": "markdown",
   "id": "07357848-dc64-4156-9cc3-01ff4365226d",
   "metadata": {
    "id": "07357848-dc64-4156-9cc3-01ff4365226d"
   },
   "source": [
    "## Encuentra y elimina los valores duplicados (y describe cómo tomaste tus decisiones)."
   ]
  },
  {
   "cell_type": "markdown",
   "id": "f179f0a9",
   "metadata": {
    "id": "f179f0a9"
   },
   "source": [
    "### `instacart_orders` data frame"
   ]
  },
  {
   "cell_type": "code",
   "execution_count": 8,
   "id": "b99297a5-405a-463d-8535-9adc3da4ad74",
   "metadata": {
    "id": "b99297a5-405a-463d-8535-9adc3da4ad74"
   },
   "outputs": [
    {
     "data": {
      "text/html": [
       "<div>\n",
       "<style scoped>\n",
       "    .dataframe tbody tr th:only-of-type {\n",
       "        vertical-align: middle;\n",
       "    }\n",
       "\n",
       "    .dataframe tbody tr th {\n",
       "        vertical-align: top;\n",
       "    }\n",
       "\n",
       "    .dataframe thead th {\n",
       "        text-align: right;\n",
       "    }\n",
       "</style>\n",
       "<table border=\"1\" class=\"dataframe\">\n",
       "  <thead>\n",
       "    <tr style=\"text-align: right;\">\n",
       "      <th></th>\n",
       "      <th>order_id</th>\n",
       "      <th>user_id</th>\n",
       "      <th>order_number</th>\n",
       "      <th>order_dow</th>\n",
       "      <th>order_hour_of_day</th>\n",
       "      <th>days_since_prior_order</th>\n",
       "    </tr>\n",
       "  </thead>\n",
       "  <tbody>\n",
       "    <tr>\n",
       "      <th>145574</th>\n",
       "      <td>794638</td>\n",
       "      <td>50898</td>\n",
       "      <td>24</td>\n",
       "      <td>3</td>\n",
       "      <td>2</td>\n",
       "      <td>2.0</td>\n",
       "    </tr>\n",
       "    <tr>\n",
       "      <th>223105</th>\n",
       "      <td>2160484</td>\n",
       "      <td>107525</td>\n",
       "      <td>16</td>\n",
       "      <td>3</td>\n",
       "      <td>2</td>\n",
       "      <td>30.0</td>\n",
       "    </tr>\n",
       "    <tr>\n",
       "      <th>230807</th>\n",
       "      <td>1918001</td>\n",
       "      <td>188546</td>\n",
       "      <td>14</td>\n",
       "      <td>3</td>\n",
       "      <td>2</td>\n",
       "      <td>16.0</td>\n",
       "    </tr>\n",
       "    <tr>\n",
       "      <th>266232</th>\n",
       "      <td>1782114</td>\n",
       "      <td>106752</td>\n",
       "      <td>1</td>\n",
       "      <td>3</td>\n",
       "      <td>2</td>\n",
       "      <td>NaN</td>\n",
       "    </tr>\n",
       "    <tr>\n",
       "      <th>273805</th>\n",
       "      <td>1112182</td>\n",
       "      <td>202304</td>\n",
       "      <td>84</td>\n",
       "      <td>3</td>\n",
       "      <td>2</td>\n",
       "      <td>6.0</td>\n",
       "    </tr>\n",
       "    <tr>\n",
       "      <th>284038</th>\n",
       "      <td>2845099</td>\n",
       "      <td>31189</td>\n",
       "      <td>11</td>\n",
       "      <td>3</td>\n",
       "      <td>2</td>\n",
       "      <td>7.0</td>\n",
       "    </tr>\n",
       "    <tr>\n",
       "      <th>311713</th>\n",
       "      <td>1021560</td>\n",
       "      <td>53767</td>\n",
       "      <td>3</td>\n",
       "      <td>3</td>\n",
       "      <td>2</td>\n",
       "      <td>9.0</td>\n",
       "    </tr>\n",
       "    <tr>\n",
       "      <th>321100</th>\n",
       "      <td>408114</td>\n",
       "      <td>68324</td>\n",
       "      <td>4</td>\n",
       "      <td>3</td>\n",
       "      <td>2</td>\n",
       "      <td>18.0</td>\n",
       "    </tr>\n",
       "    <tr>\n",
       "      <th>323900</th>\n",
       "      <td>1919531</td>\n",
       "      <td>191501</td>\n",
       "      <td>32</td>\n",
       "      <td>3</td>\n",
       "      <td>2</td>\n",
       "      <td>7.0</td>\n",
       "    </tr>\n",
       "    <tr>\n",
       "      <th>345917</th>\n",
       "      <td>2232988</td>\n",
       "      <td>82565</td>\n",
       "      <td>1</td>\n",
       "      <td>3</td>\n",
       "      <td>2</td>\n",
       "      <td>NaN</td>\n",
       "    </tr>\n",
       "    <tr>\n",
       "      <th>371905</th>\n",
       "      <td>391768</td>\n",
       "      <td>57671</td>\n",
       "      <td>19</td>\n",
       "      <td>3</td>\n",
       "      <td>2</td>\n",
       "      <td>10.0</td>\n",
       "    </tr>\n",
       "    <tr>\n",
       "      <th>394347</th>\n",
       "      <td>467134</td>\n",
       "      <td>63189</td>\n",
       "      <td>21</td>\n",
       "      <td>3</td>\n",
       "      <td>2</td>\n",
       "      <td>2.0</td>\n",
       "    </tr>\n",
       "    <tr>\n",
       "      <th>411408</th>\n",
       "      <td>1286742</td>\n",
       "      <td>183220</td>\n",
       "      <td>48</td>\n",
       "      <td>3</td>\n",
       "      <td>2</td>\n",
       "      <td>4.0</td>\n",
       "    </tr>\n",
       "    <tr>\n",
       "      <th>415163</th>\n",
       "      <td>2282673</td>\n",
       "      <td>86751</td>\n",
       "      <td>49</td>\n",
       "      <td>3</td>\n",
       "      <td>2</td>\n",
       "      <td>2.0</td>\n",
       "    </tr>\n",
       "    <tr>\n",
       "      <th>441599</th>\n",
       "      <td>2125197</td>\n",
       "      <td>14050</td>\n",
       "      <td>48</td>\n",
       "      <td>3</td>\n",
       "      <td>2</td>\n",
       "      <td>3.0</td>\n",
       "    </tr>\n",
       "  </tbody>\n",
       "</table>\n",
       "</div>"
      ],
      "text/plain": [
       "        order_id  user_id  order_number  order_dow  order_hour_of_day  \\\n",
       "145574    794638    50898            24          3                  2   \n",
       "223105   2160484   107525            16          3                  2   \n",
       "230807   1918001   188546            14          3                  2   \n",
       "266232   1782114   106752             1          3                  2   \n",
       "273805   1112182   202304            84          3                  2   \n",
       "284038   2845099    31189            11          3                  2   \n",
       "311713   1021560    53767             3          3                  2   \n",
       "321100    408114    68324             4          3                  2   \n",
       "323900   1919531   191501            32          3                  2   \n",
       "345917   2232988    82565             1          3                  2   \n",
       "371905    391768    57671            19          3                  2   \n",
       "394347    467134    63189            21          3                  2   \n",
       "411408   1286742   183220            48          3                  2   \n",
       "415163   2282673    86751            49          3                  2   \n",
       "441599   2125197    14050            48          3                  2   \n",
       "\n",
       "        days_since_prior_order  \n",
       "145574                     2.0  \n",
       "223105                    30.0  \n",
       "230807                    16.0  \n",
       "266232                     NaN  \n",
       "273805                     6.0  \n",
       "284038                     7.0  \n",
       "311713                     9.0  \n",
       "321100                    18.0  \n",
       "323900                     7.0  \n",
       "345917                     NaN  \n",
       "371905                    10.0  \n",
       "394347                     2.0  \n",
       "411408                     4.0  \n",
       "415163                     2.0  \n",
       "441599                     3.0  "
      ]
     },
     "execution_count": 8,
     "metadata": {},
     "output_type": "execute_result"
    }
   ],
   "source": [
    "# Revisa si hay pedidos duplicados\n",
    "df_insta[df_insta.duplicated()]\n"
   ]
  },
  {
   "cell_type": "markdown",
   "id": "PEkwUX_gvt5A",
   "metadata": {
    "id": "PEkwUX_gvt5A"
   },
   "source": [
    "¿Tienes líneas duplicadas? Si sí, ¿qué tienen en común?\n",
    "Tienen en común todas que se hicieron en miércoles a las 2 de mañana."
   ]
  },
  {
   "cell_type": "code",
   "execution_count": 9,
   "id": "0d44de5d",
   "metadata": {
    "id": "0d44de5d"
   },
   "outputs": [
    {
     "data": {
      "text/html": [
       "<div>\n",
       "<style scoped>\n",
       "    .dataframe tbody tr th:only-of-type {\n",
       "        vertical-align: middle;\n",
       "    }\n",
       "\n",
       "    .dataframe tbody tr th {\n",
       "        vertical-align: top;\n",
       "    }\n",
       "\n",
       "    .dataframe thead th {\n",
       "        text-align: right;\n",
       "    }\n",
       "</style>\n",
       "<table border=\"1\" class=\"dataframe\">\n",
       "  <thead>\n",
       "    <tr style=\"text-align: right;\">\n",
       "      <th></th>\n",
       "      <th>order_id</th>\n",
       "      <th>user_id</th>\n",
       "      <th>order_number</th>\n",
       "      <th>order_dow</th>\n",
       "      <th>order_hour_of_day</th>\n",
       "      <th>days_since_prior_order</th>\n",
       "    </tr>\n",
       "  </thead>\n",
       "  <tbody>\n",
       "    <tr>\n",
       "      <th>4838</th>\n",
       "      <td>2766110</td>\n",
       "      <td>162084</td>\n",
       "      <td>41</td>\n",
       "      <td>3</td>\n",
       "      <td>2</td>\n",
       "      <td>16.0</td>\n",
       "    </tr>\n",
       "    <tr>\n",
       "      <th>5156</th>\n",
       "      <td>2190225</td>\n",
       "      <td>138285</td>\n",
       "      <td>18</td>\n",
       "      <td>3</td>\n",
       "      <td>2</td>\n",
       "      <td>11.0</td>\n",
       "    </tr>\n",
       "    <tr>\n",
       "      <th>15506</th>\n",
       "      <td>553049</td>\n",
       "      <td>58599</td>\n",
       "      <td>13</td>\n",
       "      <td>3</td>\n",
       "      <td>2</td>\n",
       "      <td>7.0</td>\n",
       "    </tr>\n",
       "    <tr>\n",
       "      <th>18420</th>\n",
       "      <td>382357</td>\n",
       "      <td>120200</td>\n",
       "      <td>19</td>\n",
       "      <td>3</td>\n",
       "      <td>2</td>\n",
       "      <td>11.0</td>\n",
       "    </tr>\n",
       "    <tr>\n",
       "      <th>24691</th>\n",
       "      <td>690242</td>\n",
       "      <td>77357</td>\n",
       "      <td>2</td>\n",
       "      <td>3</td>\n",
       "      <td>2</td>\n",
       "      <td>9.0</td>\n",
       "    </tr>\n",
       "    <tr>\n",
       "      <th>...</th>\n",
       "      <td>...</td>\n",
       "      <td>...</td>\n",
       "      <td>...</td>\n",
       "      <td>...</td>\n",
       "      <td>...</td>\n",
       "      <td>...</td>\n",
       "    </tr>\n",
       "    <tr>\n",
       "      <th>457013</th>\n",
       "      <td>3384021</td>\n",
       "      <td>14881</td>\n",
       "      <td>6</td>\n",
       "      <td>3</td>\n",
       "      <td>2</td>\n",
       "      <td>30.0</td>\n",
       "    </tr>\n",
       "    <tr>\n",
       "      <th>458816</th>\n",
       "      <td>910166</td>\n",
       "      <td>164782</td>\n",
       "      <td>18</td>\n",
       "      <td>3</td>\n",
       "      <td>2</td>\n",
       "      <td>4.0</td>\n",
       "    </tr>\n",
       "    <tr>\n",
       "      <th>459635</th>\n",
       "      <td>1680532</td>\n",
       "      <td>106435</td>\n",
       "      <td>6</td>\n",
       "      <td>3</td>\n",
       "      <td>2</td>\n",
       "      <td>21.0</td>\n",
       "    </tr>\n",
       "    <tr>\n",
       "      <th>468324</th>\n",
       "      <td>222962</td>\n",
       "      <td>54979</td>\n",
       "      <td>59</td>\n",
       "      <td>3</td>\n",
       "      <td>2</td>\n",
       "      <td>3.0</td>\n",
       "    </tr>\n",
       "    <tr>\n",
       "      <th>477526</th>\n",
       "      <td>2592344</td>\n",
       "      <td>46860</td>\n",
       "      <td>38</td>\n",
       "      <td>3</td>\n",
       "      <td>2</td>\n",
       "      <td>3.0</td>\n",
       "    </tr>\n",
       "  </tbody>\n",
       "</table>\n",
       "<p>121 rows × 6 columns</p>\n",
       "</div>"
      ],
      "text/plain": [
       "        order_id  user_id  order_number  order_dow  order_hour_of_day  \\\n",
       "4838     2766110   162084            41          3                  2   \n",
       "5156     2190225   138285            18          3                  2   \n",
       "15506     553049    58599            13          3                  2   \n",
       "18420     382357   120200            19          3                  2   \n",
       "24691     690242    77357             2          3                  2   \n",
       "...          ...      ...           ...        ...                ...   \n",
       "457013   3384021    14881             6          3                  2   \n",
       "458816    910166   164782            18          3                  2   \n",
       "459635   1680532   106435             6          3                  2   \n",
       "468324    222962    54979            59          3                  2   \n",
       "477526   2592344    46860            38          3                  2   \n",
       "\n",
       "        days_since_prior_order  \n",
       "4838                      16.0  \n",
       "5156                      11.0  \n",
       "15506                      7.0  \n",
       "18420                     11.0  \n",
       "24691                      9.0  \n",
       "...                        ...  \n",
       "457013                    30.0  \n",
       "458816                     4.0  \n",
       "459635                    21.0  \n",
       "468324                     3.0  \n",
       "477526                     3.0  \n",
       "\n",
       "[121 rows x 6 columns]"
      ]
     },
     "execution_count": 9,
     "metadata": {},
     "output_type": "execute_result"
    }
   ],
   "source": [
    "# Basándote en tus hallazgos,\n",
    "# Verifica todos los pedidos que se hicieron el miércoles a las 2:00 a.m.\n",
    "df_insta[(df_insta['order_dow'] == 3) & (df_insta['order_hour_of_day'] == 2)]\n"
   ]
  },
  {
   "cell_type": "markdown",
   "id": "vu2OWyoqwOx5",
   "metadata": {
    "id": "vu2OWyoqwOx5"
   },
   "source": [
    "¿Qué sugiere este resultado?\n",
    "Me sugiere que solo 15 filas de 121 son duplicados por lo que no hay un error generalizado y los duplicados son duplicados de verdad. Al parecer estos duplicados se pueden eliminar sin preocupación de contaminar nuestros datos."
   ]
  },
  {
   "cell_type": "markdown",
   "id": "77ad070f",
   "metadata": {},
   "source": [
    "<div class=\"alert alert-block alert-success\">\n",
    "<b>Comentario del revisor</b> <a class=\"tocSkip\"></a>\n",
    "\n",
    "Muy buen análisis de los duplicados!\n",
    "</div>"
   ]
  },
  {
   "cell_type": "code",
   "execution_count": 10,
   "id": "480563c7",
   "metadata": {
    "id": "480563c7"
   },
   "outputs": [],
   "source": [
    "# Elimina los pedidos duplicados\n",
    "df_insta = df_insta.drop_duplicates().reset_index(drop=True)"
   ]
  },
  {
   "cell_type": "code",
   "execution_count": 11,
   "id": "0b2396a2",
   "metadata": {
    "id": "0b2396a2"
   },
   "outputs": [
    {
     "name": "stdout",
     "output_type": "stream",
     "text": [
      "0         False\n",
      "1         False\n",
      "2         False\n",
      "3         False\n",
      "4         False\n",
      "          ...  \n",
      "478947    False\n",
      "478948    False\n",
      "478949    False\n",
      "478950    False\n",
      "478951    False\n",
      "Length: 478952, dtype: bool\n"
     ]
    }
   ],
   "source": [
    "# Vuelve a verificar si hay filas duplicadas\n",
    "print(df_insta.duplicated())"
   ]
  },
  {
   "cell_type": "markdown",
   "id": "9817d40f",
   "metadata": {},
   "source": [
    "<div class=\"alert alert-block alert-success\">\n",
    "<b>Comentario del revisor</b> <a class=\"tocSkip\"></a>\n",
    "\n",
    "Está excelente que te tomes el trabajo extra de revisar que hayan quedado eliminados todos los duplicados!\n",
    "</div>"
   ]
  },
  {
   "cell_type": "code",
   "execution_count": 12,
   "id": "f6113ef1",
   "metadata": {
    "id": "f6113ef1"
   },
   "outputs": [
    {
     "name": "stdout",
     "output_type": "stream",
     "text": [
      "0         False\n",
      "1         False\n",
      "2         False\n",
      "3         False\n",
      "4         False\n",
      "          ...  \n",
      "478947    False\n",
      "478948    False\n",
      "478949    False\n",
      "478950    False\n",
      "478951    False\n",
      "Name: order_id, Length: 478952, dtype: bool\n"
     ]
    }
   ],
   "source": [
    "# Vuelve a verificar si hay IDs duplicados de pedidos\n",
    "print(df_insta['order_id'].duplicated())"
   ]
  },
  {
   "cell_type": "markdown",
   "id": "5e8905ae",
   "metadata": {
    "id": "5e8905ae"
   },
   "source": [
    "Describe brevemente tus hallazgos y lo que hiciste con ellos\n",
    "Pudimos encontrar 15 duplicados con coincidencia en dia y fecha en que se generaron por lo que se verifica si es un error general. Al comprobar que no lo es (porque hay ordenes de los miércoles a las 2 am que NO son duplicados...) tenemos la certeza que podemos eliminar esos valores duplicados sin afectar nuestro Df."
   ]
  },
  {
   "cell_type": "markdown",
   "id": "45e6bc46",
   "metadata": {
    "id": "45e6bc46"
   },
   "source": [
    "### `products` data frame"
   ]
  },
  {
   "cell_type": "code",
   "execution_count": 13,
   "id": "5f526b5b-8175-46fa-a0fd-441767d50e64",
   "metadata": {
    "id": "5f526b5b-8175-46fa-a0fd-441767d50e64"
   },
   "outputs": [
    {
     "data": {
      "text/plain": [
       "0"
      ]
     },
     "execution_count": 13,
     "metadata": {},
     "output_type": "execute_result"
    }
   ],
   "source": [
    "# Verifica si hay filas totalmente duplicadas\n",
    "df_products.duplicated().sum()"
   ]
  },
  {
   "cell_type": "code",
   "execution_count": 14,
   "id": "88daa4f4",
   "metadata": {
    "id": "88daa4f4"
   },
   "outputs": [
    {
     "data": {
      "text/plain": [
       "0"
      ]
     },
     "execution_count": 14,
     "metadata": {},
     "output_type": "execute_result"
    }
   ],
   "source": [
    "# Verifica si hay IDs duplicadas de productos\n",
    "df_products.duplicated(subset='product_id').sum()"
   ]
  },
  {
   "cell_type": "code",
   "execution_count": 15,
   "id": "c773f0bf",
   "metadata": {
    "id": "c773f0bf"
   },
   "outputs": [
    {
     "name": "stdout",
     "output_type": "stream",
     "text": [
      "\n"
     ]
    },
    {
     "data": {
      "text/html": [
       "<div>\n",
       "<style scoped>\n",
       "    .dataframe tbody tr th:only-of-type {\n",
       "        vertical-align: middle;\n",
       "    }\n",
       "\n",
       "    .dataframe tbody tr th {\n",
       "        vertical-align: top;\n",
       "    }\n",
       "\n",
       "    .dataframe thead th {\n",
       "        text-align: right;\n",
       "    }\n",
       "</style>\n",
       "<table border=\"1\" class=\"dataframe\">\n",
       "  <thead>\n",
       "    <tr style=\"text-align: right;\">\n",
       "      <th></th>\n",
       "      <th>product_id</th>\n",
       "      <th>product_name</th>\n",
       "      <th>aisle_id</th>\n",
       "      <th>department_id</th>\n",
       "    </tr>\n",
       "  </thead>\n",
       "  <tbody>\n",
       "    <tr>\n",
       "      <th>71</th>\n",
       "      <td>72</td>\n",
       "      <td>NaN</td>\n",
       "      <td>100</td>\n",
       "      <td>21</td>\n",
       "    </tr>\n",
       "    <tr>\n",
       "      <th>109</th>\n",
       "      <td>110</td>\n",
       "      <td>NaN</td>\n",
       "      <td>100</td>\n",
       "      <td>21</td>\n",
       "    </tr>\n",
       "    <tr>\n",
       "      <th>296</th>\n",
       "      <td>297</td>\n",
       "      <td>NaN</td>\n",
       "      <td>100</td>\n",
       "      <td>21</td>\n",
       "    </tr>\n",
       "    <tr>\n",
       "      <th>416</th>\n",
       "      <td>417</td>\n",
       "      <td>NaN</td>\n",
       "      <td>100</td>\n",
       "      <td>21</td>\n",
       "    </tr>\n",
       "    <tr>\n",
       "      <th>436</th>\n",
       "      <td>437</td>\n",
       "      <td>NaN</td>\n",
       "      <td>100</td>\n",
       "      <td>21</td>\n",
       "    </tr>\n",
       "    <tr>\n",
       "      <th>...</th>\n",
       "      <td>...</td>\n",
       "      <td>...</td>\n",
       "      <td>...</td>\n",
       "      <td>...</td>\n",
       "    </tr>\n",
       "    <tr>\n",
       "      <th>49689</th>\n",
       "      <td>49690</td>\n",
       "      <td>HIGH PERFORMANCE ENERGY DRINK</td>\n",
       "      <td>64</td>\n",
       "      <td>7</td>\n",
       "    </tr>\n",
       "    <tr>\n",
       "      <th>49690</th>\n",
       "      <td>49691</td>\n",
       "      <td>ORIGINAL PANCAKE &amp; WAFFLE MIX</td>\n",
       "      <td>130</td>\n",
       "      <td>14</td>\n",
       "    </tr>\n",
       "    <tr>\n",
       "      <th>49691</th>\n",
       "      <td>49692</td>\n",
       "      <td>ORGANIC INSTANT OATMEAL LIGHT MAPLE BROWN SUGAR</td>\n",
       "      <td>130</td>\n",
       "      <td>14</td>\n",
       "    </tr>\n",
       "    <tr>\n",
       "      <th>49692</th>\n",
       "      <td>49693</td>\n",
       "      <td>SPRING WATER BODY WASH</td>\n",
       "      <td>127</td>\n",
       "      <td>11</td>\n",
       "    </tr>\n",
       "    <tr>\n",
       "      <th>49693</th>\n",
       "      <td>49694</td>\n",
       "      <td>BURRITO- STEAK &amp; CHEESE</td>\n",
       "      <td>38</td>\n",
       "      <td>1</td>\n",
       "    </tr>\n",
       "  </tbody>\n",
       "</table>\n",
       "<p>1361 rows × 4 columns</p>\n",
       "</div>"
      ],
      "text/plain": [
       "       product_id                                     product_name  aisle_id  \\\n",
       "71             72                                              NaN       100   \n",
       "109           110                                              NaN       100   \n",
       "296           297                                              NaN       100   \n",
       "416           417                                              NaN       100   \n",
       "436           437                                              NaN       100   \n",
       "...           ...                                              ...       ...   \n",
       "49689       49690                    HIGH PERFORMANCE ENERGY DRINK        64   \n",
       "49690       49691                    ORIGINAL PANCAKE & WAFFLE MIX       130   \n",
       "49691       49692  ORGANIC INSTANT OATMEAL LIGHT MAPLE BROWN SUGAR       130   \n",
       "49692       49693                           SPRING WATER BODY WASH       127   \n",
       "49693       49694                          BURRITO- STEAK & CHEESE        38   \n",
       "\n",
       "       department_id  \n",
       "71                21  \n",
       "109               21  \n",
       "296               21  \n",
       "416               21  \n",
       "436               21  \n",
       "...              ...  \n",
       "49689              7  \n",
       "49690             14  \n",
       "49691             14  \n",
       "49692             11  \n",
       "49693              1  \n",
       "\n",
       "[1361 rows x 4 columns]"
      ]
     },
     "execution_count": 15,
     "metadata": {},
     "output_type": "execute_result"
    }
   ],
   "source": [
    "# Revisa si hay nombres duplicados de productos (convierte los nombres a letras mayúsculas para compararlos mejor)\n",
    "df_products.duplicated(subset='product_name').sum()\n",
    "print()\n",
    "df_products[df_products.duplicated(subset='product_name')]\n",
    "df_products[df_products['product_name'].str.upper().duplicated()]"
   ]
  },
  {
   "cell_type": "code",
   "execution_count": 16,
   "id": "01efd02e",
   "metadata": {
    "id": "01efd02e"
   },
   "outputs": [
    {
     "data": {
      "text/html": [
       "<div>\n",
       "<style scoped>\n",
       "    .dataframe tbody tr th:only-of-type {\n",
       "        vertical-align: middle;\n",
       "    }\n",
       "\n",
       "    .dataframe tbody tr th {\n",
       "        vertical-align: top;\n",
       "    }\n",
       "\n",
       "    .dataframe thead th {\n",
       "        text-align: right;\n",
       "    }\n",
       "</style>\n",
       "<table border=\"1\" class=\"dataframe\">\n",
       "  <thead>\n",
       "    <tr style=\"text-align: right;\">\n",
       "      <th></th>\n",
       "      <th>product_id</th>\n",
       "      <th>product_name</th>\n",
       "      <th>aisle_id</th>\n",
       "      <th>department_id</th>\n",
       "    </tr>\n",
       "  </thead>\n",
       "  <tbody>\n",
       "    <tr>\n",
       "      <th>2058</th>\n",
       "      <td>2059</td>\n",
       "      <td>Biotin 1000 Mcg</td>\n",
       "      <td>47</td>\n",
       "      <td>11</td>\n",
       "    </tr>\n",
       "    <tr>\n",
       "      <th>5455</th>\n",
       "      <td>5456</td>\n",
       "      <td>Green Tea With Ginseng and Honey</td>\n",
       "      <td>96</td>\n",
       "      <td>20</td>\n",
       "    </tr>\n",
       "    <tr>\n",
       "      <th>5558</th>\n",
       "      <td>5559</td>\n",
       "      <td>Cream Of Mushroom Soup</td>\n",
       "      <td>69</td>\n",
       "      <td>15</td>\n",
       "    </tr>\n",
       "    <tr>\n",
       "      <th>7558</th>\n",
       "      <td>7559</td>\n",
       "      <td>Cinnamon Rolls with Icing</td>\n",
       "      <td>105</td>\n",
       "      <td>13</td>\n",
       "    </tr>\n",
       "    <tr>\n",
       "      <th>9037</th>\n",
       "      <td>9038</td>\n",
       "      <td>American Cheese slices</td>\n",
       "      <td>21</td>\n",
       "      <td>16</td>\n",
       "    </tr>\n",
       "    <tr>\n",
       "      <th>...</th>\n",
       "      <td>...</td>\n",
       "      <td>...</td>\n",
       "      <td>...</td>\n",
       "      <td>...</td>\n",
       "    </tr>\n",
       "    <tr>\n",
       "      <th>49689</th>\n",
       "      <td>49690</td>\n",
       "      <td>HIGH PERFORMANCE ENERGY DRINK</td>\n",
       "      <td>64</td>\n",
       "      <td>7</td>\n",
       "    </tr>\n",
       "    <tr>\n",
       "      <th>49690</th>\n",
       "      <td>49691</td>\n",
       "      <td>ORIGINAL PANCAKE &amp; WAFFLE MIX</td>\n",
       "      <td>130</td>\n",
       "      <td>14</td>\n",
       "    </tr>\n",
       "    <tr>\n",
       "      <th>49691</th>\n",
       "      <td>49692</td>\n",
       "      <td>ORGANIC INSTANT OATMEAL LIGHT MAPLE BROWN SUGAR</td>\n",
       "      <td>130</td>\n",
       "      <td>14</td>\n",
       "    </tr>\n",
       "    <tr>\n",
       "      <th>49692</th>\n",
       "      <td>49693</td>\n",
       "      <td>SPRING WATER BODY WASH</td>\n",
       "      <td>127</td>\n",
       "      <td>11</td>\n",
       "    </tr>\n",
       "    <tr>\n",
       "      <th>49693</th>\n",
       "      <td>49694</td>\n",
       "      <td>BURRITO- STEAK &amp; CHEESE</td>\n",
       "      <td>38</td>\n",
       "      <td>1</td>\n",
       "    </tr>\n",
       "  </tbody>\n",
       "</table>\n",
       "<p>104 rows × 4 columns</p>\n",
       "</div>"
      ],
      "text/plain": [
       "       product_id                                     product_name  aisle_id  \\\n",
       "2058         2059                                  Biotin 1000 Mcg        47   \n",
       "5455         5456                 Green Tea With Ginseng and Honey        96   \n",
       "5558         5559                           Cream Of Mushroom Soup        69   \n",
       "7558         7559                        Cinnamon Rolls with Icing       105   \n",
       "9037         9038                           American Cheese slices        21   \n",
       "...           ...                                              ...       ...   \n",
       "49689       49690                    HIGH PERFORMANCE ENERGY DRINK        64   \n",
       "49690       49691                    ORIGINAL PANCAKE & WAFFLE MIX       130   \n",
       "49691       49692  ORGANIC INSTANT OATMEAL LIGHT MAPLE BROWN SUGAR       130   \n",
       "49692       49693                           SPRING WATER BODY WASH       127   \n",
       "49693       49694                          BURRITO- STEAK & CHEESE        38   \n",
       "\n",
       "       department_id  \n",
       "2058              11  \n",
       "5455              20  \n",
       "5558              15  \n",
       "7558              13  \n",
       "9037              16  \n",
       "...              ...  \n",
       "49689              7  \n",
       "49690             14  \n",
       "49691             14  \n",
       "49692             11  \n",
       "49693              1  \n",
       "\n",
       "[104 rows x 4 columns]"
      ]
     },
     "execution_count": 16,
     "metadata": {},
     "output_type": "execute_result"
    }
   ],
   "source": [
    "# Revisa si hay nombres duplicados de productos no faltantes\n",
    "df_products[(df_products['product_name'].str.upper().duplicated()) & (~df_products['product_name'].isna())]"
   ]
  },
  {
   "cell_type": "markdown",
   "id": "9da8d293",
   "metadata": {
    "id": "9da8d293"
   },
   "source": [
    "Describe brevemente tus hallazgos y lo que hiciste con ellos.\n",
    "Podemos observar que no detectamos valores repetidos sino hasta que revisamos los nombres de los productos. Sin embargo detectamos que la mayoría eran repetidos por ser NaN. Detectamos solo 104 filas con nombres de productos repetidos sin embargo en este caso concluimos que no afectan a nuestros datos por lo que se procede a dejarlos como tal toda ves que product_id y aisle_id nos indican que son productos distintos aunque compartan el product_name."
   ]
  },
  {
   "cell_type": "markdown",
   "id": "a04a1c50",
   "metadata": {},
   "source": [
    "<div class=\"alert alert-block alert-success\">\n",
    "<b>Comentario del revisor</b> <a class=\"tocSkip\"></a>\n",
    "\n",
    "Está muy bien que contextualices los valores duplicados!\n",
    "</div>"
   ]
  },
  {
   "cell_type": "markdown",
   "id": "60f30db1",
   "metadata": {
    "id": "60f30db1"
   },
   "source": [
    "### `departments` data frame"
   ]
  },
  {
   "cell_type": "code",
   "execution_count": 17,
   "id": "fb410ad4-0fbf-4b80-bb09-23fdea79afe3",
   "metadata": {
    "id": "fb410ad4-0fbf-4b80-bb09-23fdea79afe3"
   },
   "outputs": [
    {
     "data": {
      "text/plain": [
       "0"
      ]
     },
     "execution_count": 17,
     "metadata": {},
     "output_type": "execute_result"
    }
   ],
   "source": [
    "# Revisa si hay filas totalmente duplicadas\n",
    "df_departments.duplicated().sum()"
   ]
  },
  {
   "cell_type": "code",
   "execution_count": 18,
   "id": "332b12bb",
   "metadata": {
    "id": "332b12bb"
   },
   "outputs": [
    {
     "data": {
      "text/plain": [
       "0"
      ]
     },
     "execution_count": 18,
     "metadata": {},
     "output_type": "execute_result"
    }
   ],
   "source": [
    "# Revisa si hay IDs duplicadas de productos\n",
    "df_departments.duplicated(subset='department_id').sum()"
   ]
  },
  {
   "cell_type": "markdown",
   "id": "bd30d78e",
   "metadata": {
    "id": "bd30d78e"
   },
   "source": [
    "Describe brevemente tus hallazgos y lo que hiciste con ellos.\n",
    "Confunde un poco la instrucción porque este DF no contiene id de productos sino solo de departamentos. Al verificar ids de departamentos, sorprendentemente no hay repetidos."
   ]
  },
  {
   "cell_type": "markdown",
   "id": "889349c1",
   "metadata": {
    "id": "889349c1"
   },
   "source": [
    "### `aisles` data frame"
   ]
  },
  {
   "cell_type": "code",
   "execution_count": 19,
   "id": "9da89fb9-4679-40f5-ad0d-c34df753a3f8",
   "metadata": {
    "id": "9da89fb9-4679-40f5-ad0d-c34df753a3f8"
   },
   "outputs": [
    {
     "data": {
      "text/plain": [
       "0"
      ]
     },
     "execution_count": 19,
     "metadata": {},
     "output_type": "execute_result"
    }
   ],
   "source": [
    "# Revisa si hay filas totalmente duplicadas\n",
    "df_aisles.duplicated().sum()"
   ]
  },
  {
   "cell_type": "code",
   "execution_count": 20,
   "id": "da7c2822",
   "metadata": {
    "id": "da7c2822"
   },
   "outputs": [
    {
     "data": {
      "text/plain": [
       "0"
      ]
     },
     "execution_count": 20,
     "metadata": {},
     "output_type": "execute_result"
    }
   ],
   "source": [
    "# Revisa si hay IDs duplicadas de productos\n",
    "df_aisles.duplicated(subset='aisle_id').sum()\n"
   ]
  },
  {
   "cell_type": "markdown",
   "id": "ac63826f",
   "metadata": {
    "id": "ac63826f"
   },
   "source": [
    "Describe brevemente tus hallazgos y lo que hiciste con ellos.\n",
    "   Revisamos duplicados en este DF y al parecer no hay valores repetidos, por fila ni por la categoría aisle."
   ]
  },
  {
   "cell_type": "markdown",
   "id": "274cd06a",
   "metadata": {
    "id": "274cd06a"
   },
   "source": [
    "### `order_products` data frame"
   ]
  },
  {
   "cell_type": "code",
   "execution_count": 21,
   "id": "52326689-84a8-4b8f-a881-7c68780f62c9",
   "metadata": {
    "id": "52326689-84a8-4b8f-a881-7c68780f62c9"
   },
   "outputs": [
    {
     "data": {
      "text/plain": [
       "0"
      ]
     },
     "execution_count": 21,
     "metadata": {},
     "output_type": "execute_result"
    }
   ],
   "source": [
    "# Revisa si hay filas totalmente duplicadas\n",
    "df_order.duplicated().sum()"
   ]
  },
  {
   "cell_type": "code",
   "execution_count": 22,
   "id": "7b861391",
   "metadata": {
    "id": "7b861391"
   },
   "outputs": [
    {
     "data": {
      "text/plain": [
       "0"
      ]
     },
     "execution_count": 22,
     "metadata": {},
     "output_type": "execute_result"
    }
   ],
   "source": [
    "# Vuelve a verificar si hay cualquier otro duplicado engañoso\n",
    "df_order.duplicated(subset=['product_id','order_id']).sum()"
   ]
  },
  {
   "cell_type": "markdown",
   "id": "0b890492",
   "metadata": {
    "id": "0b890492"
   },
   "source": [
    "Describe brevemente tus hallazgos y lo que hiciste con ellos.\n",
    "Podemos observar que no tenemos resultados donde se repitan tanto el producto como el nùmero de orden lo cual es el comportamiento deseable para este caso. Podemos conlcuir que parece no tener errores por lo que la data se deja sin modificación."
   ]
  },
  {
   "cell_type": "markdown",
   "id": "0131620e",
   "metadata": {},
   "source": [
    "<div class=\"alert alert-block alert-success\">\n",
    "<b>Comentario del revisor</b> <a class=\"tocSkip\"></a>\n",
    "\n",
    "Todas las validaciones y conteos de duplicados están bien hechas! Gran trabajo!\n",
    "</div>\n"
   ]
  },
  {
   "cell_type": "markdown",
   "id": "1e46de76",
   "metadata": {
    "id": "1e46de76"
   },
   "source": [
    "## Encuentra y elimina los valores ausentes\n",
    "\n",
    "Al trabajar con valores duplicados, pudimos observar que también nos falta investigar valores ausentes:\n",
    "\n",
    "* La columna `'product_name'` de la tabla products.\n",
    "* La columna `'days_since_prior_order'` de la tabla orders.\n",
    "* La columna `'add_to_cart_order'` de la tabla order_productos."
   ]
  },
  {
   "cell_type": "markdown",
   "id": "c0aebd78",
   "metadata": {
    "id": "c0aebd78"
   },
   "source": [
    "### `products` data frame"
   ]
  },
  {
   "cell_type": "code",
   "execution_count": 23,
   "id": "fe4a8b0f",
   "metadata": {
    "id": "fe4a8b0f"
   },
   "outputs": [
    {
     "name": "stdout",
     "output_type": "stream",
     "text": [
      "     product_id product_name  aisle_id  department_id\n",
      "37           38          NaN       100             21\n",
      "71           72          NaN       100             21\n",
      "109         110          NaN       100             21\n",
      "296         297          NaN       100             21\n",
      "416         417          NaN       100             21\n"
     ]
    }
   ],
   "source": [
    "# Encuentra los valores ausentes en la columna 'product_name'\n",
    "product_ausente = df_products[df_products['product_name'].isna()]\n",
    "print(product_ausente.head())"
   ]
  },
  {
   "cell_type": "markdown",
   "id": "-A6x1AbJhjkp",
   "metadata": {
    "id": "-A6x1AbJhjkp"
   },
   "source": [
    "Describe brevemente cuáles son tus hallazgos.\n",
    "Al parecer todos los valores ausentes comparten ser del pasillo 100 y departamento 21."
   ]
  },
  {
   "cell_type": "code",
   "execution_count": 24,
   "id": "e96167bc",
   "metadata": {
    "id": "e96167bc"
   },
   "outputs": [
    {
     "name": "stdout",
     "output_type": "stream",
     "text": [
      "product_id       0\n",
      "product_name     0\n",
      "aisle_id         0\n",
      "department_id    0\n",
      "dtype: int64\n"
     ]
    }
   ],
   "source": [
    "#  ¿Todos los nombres de productos ausentes están relacionados con el pasillo con ID 100?\n",
    "product_ausente = df_products[(df_products['product_name'].isna()) & (df_products['aisle_id'] != 100)]\n",
    "print(product_ausente.count())\n"
   ]
  },
  {
   "cell_type": "markdown",
   "id": "WRpIfXRphpSL",
   "metadata": {
    "id": "WRpIfXRphpSL"
   },
   "source": [
    "Describe brevemente cuáles son tus hallazgos.\n",
    "Hemos comprobado que no hay valores ausentes que NO sean del pasillo 100."
   ]
  },
  {
   "cell_type": "markdown",
   "id": "276097a2",
   "metadata": {},
   "source": [
    "<div class=\"alert alert-block alert-success\">\n",
    "<b>Comentario del revisor</b> <a class=\"tocSkip\"></a>\n",
    "\n",
    "Está muy bien que contextualices los valores ausentes!\n",
    "</div>"
   ]
  },
  {
   "cell_type": "code",
   "execution_count": 25,
   "id": "8fd0a541",
   "metadata": {
    "id": "8fd0a541"
   },
   "outputs": [
    {
     "data": {
      "text/plain": [
       "array([21])"
      ]
     },
     "execution_count": 25,
     "metadata": {},
     "output_type": "execute_result"
    }
   ],
   "source": [
    "# ¿Todos los nombres de productos ausentes están relacionados con el departamento con ID 21?\n",
    "# Utilizando otro mètodo verificamos que solo existen isnas en el departamento ID 21.\n",
    "df_products[df_products['product_name'].isna()][('department_id')].unique()"
   ]
  },
  {
   "cell_type": "markdown",
   "id": "qDpdYn1Fht_I",
   "metadata": {
    "id": "qDpdYn1Fht_I"
   },
   "source": [
    "Describe brevemente cuáles son tus hallazgos.\n",
    "Hemos comprobado que no hay valores ausentes que NO sean del departamento 21."
   ]
  },
  {
   "cell_type": "code",
   "execution_count": 26,
   "id": "325c3464",
   "metadata": {
    "id": "325c3464"
   },
   "outputs": [
    {
     "name": "stdout",
     "output_type": "stream",
     "text": [
      "\n"
     ]
    },
    {
     "data": {
      "text/html": [
       "<div>\n",
       "<style scoped>\n",
       "    .dataframe tbody tr th:only-of-type {\n",
       "        vertical-align: middle;\n",
       "    }\n",
       "\n",
       "    .dataframe tbody tr th {\n",
       "        vertical-align: top;\n",
       "    }\n",
       "\n",
       "    .dataframe thead th {\n",
       "        text-align: right;\n",
       "    }\n",
       "</style>\n",
       "<table border=\"1\" class=\"dataframe\">\n",
       "  <thead>\n",
       "    <tr style=\"text-align: right;\">\n",
       "      <th></th>\n",
       "      <th>aisle_id</th>\n",
       "      <th>aisle</th>\n",
       "    </tr>\n",
       "  </thead>\n",
       "  <tbody>\n",
       "    <tr>\n",
       "      <th>99</th>\n",
       "      <td>100</td>\n",
       "      <td>missing</td>\n",
       "    </tr>\n",
       "  </tbody>\n",
       "</table>\n",
       "</div>"
      ],
      "text/plain": [
       "    aisle_id    aisle\n",
       "99       100  missing"
      ]
     },
     "execution_count": 26,
     "metadata": {},
     "output_type": "execute_result"
    }
   ],
   "source": [
    "# Usa las tablas department y aisle para revisar los datos del pasillo con ID 100 y el departamento con ID 21.\n",
    "df_departments[df_departments['department_id'] == 21]\n",
    "print()\n",
    "df_aisles[df_aisles['aisle_id'] == 100]"
   ]
  },
  {
   "cell_type": "markdown",
   "id": "nqhSTUPhhvEJ",
   "metadata": {
    "id": "nqhSTUPhhvEJ"
   },
   "source": [
    "Describe brevemente cuáles son tus hallazgos.\n",
    "Podemos confirmar que los ausentes coinciden con los datos previos y nos confirman que los ausentes viene de pasillos o departamentos 'fantasma'"
   ]
  },
  {
   "cell_type": "code",
   "execution_count": 27,
   "id": "6b295120",
   "metadata": {
    "id": "6b295120"
   },
   "outputs": [
    {
     "name": "stdout",
     "output_type": "stream",
     "text": [
      "   product_id                                       product_name  aisle_id  \\\n",
      "0           1                         Chocolate Sandwich Cookies        61   \n",
      "1           2                                   All-Seasons Salt       104   \n",
      "2           3               Robust Golden Unsweetened Oolong Tea        94   \n",
      "3           4  Smart Ones Classic Favorites Mini Rigatoni Wit...        38   \n",
      "4           5                          Green Chile Anytime Sauce         5   \n",
      "\n",
      "   department_id  \n",
      "0             19  \n",
      "1             13  \n",
      "2              7  \n",
      "3              1  \n",
      "4             13  \n"
     ]
    }
   ],
   "source": [
    "# Completa los nombres de productos ausentes con 'Unknown'\n",
    "df_products['product_name'] = df_products['product_name'].fillna('Unknown')\n",
    "print(df_products.head())"
   ]
  },
  {
   "cell_type": "markdown",
   "id": "fc70e5ad",
   "metadata": {
    "id": "fc70e5ad"
   },
   "source": [
    "Describe brevemente tus hallazgos y lo que hiciste con ellos.\n",
    "Con el método fillna, todos los valores Nan de la columna product_name fue reemplazado con el string 'Unknown'."
   ]
  },
  {
   "cell_type": "markdown",
   "id": "99f20889",
   "metadata": {},
   "source": [
    "<div class=\"alert alert-block alert-success\">\n",
    "<b>Comentario del revisor</b> <a class=\"tocSkip\"></a>\n",
    "\n",
    "Te felicito por haber eliminado los NaNs! Es una parte fundamental del análisis de datos!\n",
    "</div>\n"
   ]
  },
  {
   "cell_type": "markdown",
   "id": "7eb45c86",
   "metadata": {
    "id": "7eb45c86"
   },
   "source": [
    "### `orders` data frame"
   ]
  },
  {
   "cell_type": "code",
   "execution_count": 28,
   "id": "93e41d96",
   "metadata": {
    "id": "93e41d96"
   },
   "outputs": [
    {
     "data": {
      "text/plain": [
       "array([1])"
      ]
     },
     "execution_count": 28,
     "metadata": {},
     "output_type": "execute_result"
    }
   ],
   "source": [
    "# Encuentra los valores ausentes\n",
    "df_insta.isna().sum()\n",
    "df_insta[df_insta['days_since_prior_order'].isna()]\n",
    "df_insta[df_insta['days_since_prior_order'].isna()]['order_number'].unique()"
   ]
  },
  {
   "cell_type": "markdown",
   "id": "daf1c3bb",
   "metadata": {
    "id": "166e5a86"
   },
   "source": [
    "# ¿Hay algún valor ausente que no sea el primer pedido del cliente?\n",
    "Hemos comprobado que no hay valores ausentes en ese Df que NO sean el primer pedido del cliente."
   ]
  },
  {
   "cell_type": "markdown",
   "id": "4e23d089",
   "metadata": {
    "id": "4e23d089"
   },
   "source": [
    "Describe brevemente tus hallazgos y lo que hiciste con ellos.\n",
    "En este caso debemos dejar los valores ausentes, o cambiar por un valor neutro como 0 quizà,  toda vez que tiene coherencia que estos existan porque si es el primer pedido de un cliente no aplica la medición de la variable de dicha columna.\n"
   ]
  },
  {
   "cell_type": "markdown",
   "id": "69dc9ca4",
   "metadata": {
    "id": "69dc9ca4"
   },
   "source": [
    "### `order_products` data frame"
   ]
  },
  {
   "cell_type": "code",
   "execution_count": 29,
   "id": "b8240253",
   "metadata": {
    "id": "b8240253"
   },
   "outputs": [
    {
     "data": {
      "text/html": [
       "<div>\n",
       "<style scoped>\n",
       "    .dataframe tbody tr th:only-of-type {\n",
       "        vertical-align: middle;\n",
       "    }\n",
       "\n",
       "    .dataframe tbody tr th {\n",
       "        vertical-align: top;\n",
       "    }\n",
       "\n",
       "    .dataframe thead th {\n",
       "        text-align: right;\n",
       "    }\n",
       "</style>\n",
       "<table border=\"1\" class=\"dataframe\">\n",
       "  <thead>\n",
       "    <tr style=\"text-align: right;\">\n",
       "      <th></th>\n",
       "      <th>order_id</th>\n",
       "      <th>product_id</th>\n",
       "      <th>add_to_cart_order</th>\n",
       "      <th>reordered</th>\n",
       "    </tr>\n",
       "  </thead>\n",
       "  <tbody>\n",
       "    <tr>\n",
       "      <th>737</th>\n",
       "      <td>2449164</td>\n",
       "      <td>5068</td>\n",
       "      <td>NaN</td>\n",
       "      <td>0</td>\n",
       "    </tr>\n",
       "    <tr>\n",
       "      <th>9926</th>\n",
       "      <td>1968313</td>\n",
       "      <td>43867</td>\n",
       "      <td>NaN</td>\n",
       "      <td>0</td>\n",
       "    </tr>\n",
       "    <tr>\n",
       "      <th>14394</th>\n",
       "      <td>2926893</td>\n",
       "      <td>11688</td>\n",
       "      <td>NaN</td>\n",
       "      <td>0</td>\n",
       "    </tr>\n",
       "    <tr>\n",
       "      <th>16418</th>\n",
       "      <td>1717990</td>\n",
       "      <td>4142</td>\n",
       "      <td>NaN</td>\n",
       "      <td>0</td>\n",
       "    </tr>\n",
       "    <tr>\n",
       "      <th>30114</th>\n",
       "      <td>1959075</td>\n",
       "      <td>42828</td>\n",
       "      <td>NaN</td>\n",
       "      <td>1</td>\n",
       "    </tr>\n",
       "    <tr>\n",
       "      <th>...</th>\n",
       "      <td>...</td>\n",
       "      <td>...</td>\n",
       "      <td>...</td>\n",
       "      <td>...</td>\n",
       "    </tr>\n",
       "    <tr>\n",
       "      <th>4505662</th>\n",
       "      <td>1800005</td>\n",
       "      <td>7411</td>\n",
       "      <td>NaN</td>\n",
       "      <td>0</td>\n",
       "    </tr>\n",
       "    <tr>\n",
       "      <th>4511400</th>\n",
       "      <td>1633337</td>\n",
       "      <td>260</td>\n",
       "      <td>NaN</td>\n",
       "      <td>0</td>\n",
       "    </tr>\n",
       "    <tr>\n",
       "      <th>4517562</th>\n",
       "      <td>404157</td>\n",
       "      <td>9517</td>\n",
       "      <td>NaN</td>\n",
       "      <td>0</td>\n",
       "    </tr>\n",
       "    <tr>\n",
       "      <th>4534112</th>\n",
       "      <td>1673227</td>\n",
       "      <td>17835</td>\n",
       "      <td>NaN</td>\n",
       "      <td>0</td>\n",
       "    </tr>\n",
       "    <tr>\n",
       "      <th>4535739</th>\n",
       "      <td>1832957</td>\n",
       "      <td>17949</td>\n",
       "      <td>NaN</td>\n",
       "      <td>1</td>\n",
       "    </tr>\n",
       "  </tbody>\n",
       "</table>\n",
       "<p>836 rows × 4 columns</p>\n",
       "</div>"
      ],
      "text/plain": [
       "         order_id  product_id  add_to_cart_order  reordered\n",
       "737       2449164        5068                NaN          0\n",
       "9926      1968313       43867                NaN          0\n",
       "14394     2926893       11688                NaN          0\n",
       "16418     1717990        4142                NaN          0\n",
       "30114     1959075       42828                NaN          1\n",
       "...           ...         ...                ...        ...\n",
       "4505662   1800005        7411                NaN          0\n",
       "4511400   1633337         260                NaN          0\n",
       "4517562    404157        9517                NaN          0\n",
       "4534112   1673227       17835                NaN          0\n",
       "4535739   1832957       17949                NaN          1\n",
       "\n",
       "[836 rows x 4 columns]"
      ]
     },
     "execution_count": 29,
     "metadata": {},
     "output_type": "execute_result"
    }
   ],
   "source": [
    "# Encuentra los valores ausentes\n",
    "df_order.isna().sum()\n",
    "df_order[df_order['add_to_cart_order'].isna()]"
   ]
  },
  {
   "cell_type": "code",
   "execution_count": 30,
   "id": "9a78e5ee",
   "metadata": {
    "id": "9a78e5ee"
   },
   "outputs": [
    {
     "data": {
      "text/plain": [
       "64.0"
      ]
     },
     "execution_count": 30,
     "metadata": {},
     "output_type": "execute_result"
    }
   ],
   "source": [
    "# ¿Cuáles son los valores mínimos y máximos en esta columna?\n",
    "df_order['add_to_cart_order'].min()\n",
    "df_order['add_to_cart_order'].max()"
   ]
  },
  {
   "cell_type": "markdown",
   "id": "-Z2Ja215jW78",
   "metadata": {
    "id": "-Z2Ja215jW78"
   },
   "source": [
    "Describe brevemente cuáles son tus hallazgos.\n",
    "Hemos descubierto que el valor máximo para la columna es hasta 64."
   ]
  },
  {
   "cell_type": "code",
   "execution_count": 31,
   "id": "ab9d0c2b",
   "metadata": {
    "id": "ab9d0c2b"
   },
   "outputs": [
    {
     "name": "stdout",
     "output_type": "stream",
     "text": [
      "         order_id  product_id  add_to_cart_order  reordered\n",
      "737       2449164        5068                NaN          0\n",
      "9926      1968313       43867                NaN          0\n",
      "14394     2926893       11688                NaN          0\n",
      "16418     1717990        4142                NaN          0\n",
      "30114     1959075       42828                NaN          1\n",
      "...           ...         ...                ...        ...\n",
      "4505662   1800005        7411                NaN          0\n",
      "4511400   1633337         260                NaN          0\n",
      "4517562    404157        9517                NaN          0\n",
      "4534112   1673227       17835                NaN          0\n",
      "4535739   1832957       17949                NaN          1\n",
      "\n",
      "[836 rows x 4 columns]\n"
     ]
    }
   ],
   "source": [
    "# Guarda todas las IDs de pedidos que tengan un valor ausente en 'add_to_cart_order'\n",
    "pedidos=df_order[df_order['add_to_cart_order'].isna()]\n",
    "#Mando a print solo para poder visualizar lo que acabo de hacer\n",
    "print(pedidos)"
   ]
  },
  {
   "cell_type": "code",
   "execution_count": 32,
   "id": "54c31695",
   "metadata": {
    "id": "54c31695"
   },
   "outputs": [
    {
     "data": {
      "text/plain": [
       "array([64.])"
      ]
     },
     "execution_count": 32,
     "metadata": {},
     "output_type": "execute_result"
    }
   ],
   "source": [
    "# ¿Todos los pedidos con valores ausentes tienen más de 64 productos?\n",
    "# Agrupa todos los pedidos con datos ausentes por su ID de pedido.\n",
    "ordenes_ausentes=df_order[df_order['add_to_cart_order'].isna()]['order_id'].unique()\n",
    "df_order[df_order['order_id'].isin(ordenes_ausentes)].groupby('order_id')['add_to_cart_order'].max().unique()"
   ]
  },
  {
   "cell_type": "markdown",
   "id": "p9V6pddtjglj",
   "metadata": {
    "id": "p9V6pddtjglj"
   },
   "source": [
    "Describe brevemente cuáles son tus hallazgos.\n",
    "Hemos descubierto que al parecer a partir del producto 64 el carrito ya no registra el numero de pedidos por lo que al llegar a ese lìmite marca un NaN."
   ]
  },
  {
   "cell_type": "markdown",
   "id": "49800099",
   "metadata": {},
   "source": [
    "<div class=\"alert alert-block alert-success\">\n",
    "<b>Comentario del revisor</b> <a class=\"tocSkip\"></a>\n",
    "\n",
    "Muy buen análisis de valores ausentes!\n",
    "</div>"
   ]
  },
  {
   "cell_type": "code",
   "execution_count": 33,
   "id": "7a987d08",
   "metadata": {
    "id": "7a987d08"
   },
   "outputs": [
    {
     "name": "stdout",
     "output_type": "stream",
     "text": [
      "<class 'pandas.core.frame.DataFrame'>\n",
      "RangeIndex: 4545007 entries, 0 to 4545006\n",
      "Data columns (total 4 columns):\n",
      " #   Column             Dtype\n",
      "---  ------             -----\n",
      " 0   order_id           int64\n",
      " 1   product_id         int64\n",
      " 2   add_to_cart_order  int64\n",
      " 3   reordered          int64\n",
      "dtypes: int64(4)\n",
      "memory usage: 138.7 MB\n",
      "None\n",
      "   order_id  product_id  add_to_cart_order  reordered\n",
      "0   2141543       11440                 17          0\n",
      "1    567889        1560                  1          1\n",
      "2   2261212       26683                  1          1\n",
      "3    491251        8670                 35          1\n",
      "4   2571142        1940                  5          1\n"
     ]
    }
   ],
   "source": [
    "# Remplaza los valores ausentes en la columna 'add_to_cart? con 999 y convierte la columna al tipo entero.\n",
    "df_order['add_to_cart_order'].fillna(999, inplace=True)\n",
    "df_order['add_to_cart_order'] = df_order['add_to_cart_order'].astype(int)\n",
    "print(df_order.info())\n",
    "print(df_order.head())"
   ]
  },
  {
   "cell_type": "markdown",
   "id": "fea4bcc7",
   "metadata": {
    "id": "fea4bcc7"
   },
   "source": [
    "Descubrimos que en el caso de este dataframe era necesario cambiar los valores ausentes por otro valor para ayudarnos a procesar nuestros datos."
   ]
  },
  {
   "cell_type": "markdown",
   "id": "RnplPFY1gSrb",
   "metadata": {
    "id": "RnplPFY1gSrb"
   },
   "source": [
    "## Conclusiones\n",
    "\n",
    "Escribe aquí tus conclusiones intermedias sobre el Paso 2. Preprocesamiento de los datos\n",
    "Fuimos realizando el preprocesamiento de datos para poder tener Data sets limpios previos a los siguientes pasos.\n",
    "Descubrimos características de los valores ausentes haciendo el filtrado correspondiente y respondiendo interrogantes para determinar el curso a tomar para cada caso, ya sea determinando que no contaminan nuestro análisis por ser valores ausentes \"coherentes\" o determinando reemplazarlos por otro valor e incluso cambiando su tipo."
   ]
  },
  {
   "cell_type": "markdown",
   "id": "4e42f349",
   "metadata": {},
   "source": [
    "<div class=\"alert alert-block alert-success\">\n",
    "<b>Comentario del revisor</b> <a class=\"tocSkip\"></a>\n",
    "\n",
    "Muy correcto todo tu trabajo con respecto a valores ausentes. Bien hecho!\n",
    "</div>"
   ]
  },
  {
   "cell_type": "markdown",
   "id": "UjrOIwTcz3ri",
   "metadata": {
    "id": "UjrOIwTcz3ri"
   },
   "source": [
    "# Paso 3. Análisis de los datos\n",
    "\n",
    "Una vez los datos estén procesados y listos, haz el siguiente análisis:"
   ]
  },
  {
   "cell_type": "markdown",
   "id": "turkish-kidney",
   "metadata": {
    "id": "turkish-kidney"
   },
   "source": [
    "# [A] Fácil (deben completarse todos para aprobar)\n",
    "\n",
    "1. Verifica que los valores en las columnas `'order_hour_of_day'` y `'order_dow'` en la tabla orders sean razonables (es decir, `'order_hour_of_day'` oscile entre 0 y 23 y `'order_dow'` oscile entre 0 y 6).\n",
    "2. Crea un gráfico que muestre el número de personas que hacen pedidos dependiendo de la hora del día.\n",
    "3. Crea un gráfico que muestre qué día de la semana la gente hace sus compras.\n",
    "4. Crea un gráfico que muestre el tiempo que la gente espera hasta hacer su siguiente pedido, y comenta sobre los valores mínimos y máximos."
   ]
  },
  {
   "cell_type": "markdown",
   "id": "short-capability",
   "metadata": {
    "id": "short-capability"
   },
   "source": [
    "### [A1] Verifica que los valores sean sensibles"
   ]
  },
  {
   "cell_type": "code",
   "execution_count": 34,
   "id": "growing-fruit",
   "metadata": {
    "id": "growing-fruit"
   },
   "outputs": [
    {
     "data": {
      "text/plain": [
       "array([13, 12, 19, 20, 11,  8, 18, 15, 16,  9, 22, 10,  0, 14, 17,  1,  7,\n",
       "        6,  2, 21,  3, 23,  5,  4])"
      ]
     },
     "execution_count": 34,
     "metadata": {},
     "output_type": "execute_result"
    }
   ],
   "source": [
    "df_insta['order_hour_of_day'].unique()"
   ]
  },
  {
   "cell_type": "code",
   "execution_count": 35,
   "id": "accessory-malaysia",
   "metadata": {
    "id": "accessory-malaysia"
   },
   "outputs": [
    {
     "data": {
      "text/plain": [
       "array([6, 5, 0, 4, 3, 1, 2])"
      ]
     },
     "execution_count": 35,
     "metadata": {},
     "output_type": "execute_result"
    }
   ],
   "source": [
    "df_insta['order_dow'].unique()"
   ]
  },
  {
   "cell_type": "markdown",
   "id": "hmR2GNQ6lCsX",
   "metadata": {
    "id": "hmR2GNQ6lCsX"
   },
   "source": [
    "Escribe aquí tus conclusiones\n",
    "Comprobamos que los datos se encuentran en el rango deseado para ambas columnas."
   ]
  },
  {
   "cell_type": "markdown",
   "id": "768484a3",
   "metadata": {},
   "source": [
    "<div class=\"alert alert-block alert-success\">\n",
    "<b>Comentario del revisor</b> <a class=\"tocSkip\"></a>\n",
    "    \n",
    "Está muy bien la comprobación que hiciste sobre la sensibilidad de los valores.\n",
    "</div>"
   ]
  },
  {
   "cell_type": "markdown",
   "id": "a6743a70",
   "metadata": {
    "id": "a6743a70"
   },
   "source": [
    "### [A2] Para cada hora del día, ¿cuántas personas hacen órdenes?"
   ]
  },
  {
   "cell_type": "code",
   "execution_count": 36,
   "id": "a36cca27",
   "metadata": {
    "id": "a36cca27"
   },
   "outputs": [
    {
     "data": {
      "image/png": "[encoded data removed]",
      "text/plain": [
       "<Figure size 640x480 with 1 Axes>"
      ]
     },
     "metadata": {},
     "output_type": "display_data"
    }
   ],
   "source": [
    "comprashora=df_insta['order_hour_of_day'].value_counts().sort_index()\n",
    "comprashora.plot(kind='bar',label='Compras por hora',xlabel='Hora del día',ylabel='Número de compras')\n",
    "plt.show()"
   ]
  },
  {
   "cell_type": "markdown",
   "id": "11270eed",
   "metadata": {
    "id": "11270eed"
   },
   "source": [
    "Escribe aquí tus conclusiones\n",
    "Podemos observar que la mayor parte de las compras son entre las 9am y las 4pm."
   ]
  },
  {
   "cell_type": "markdown",
   "id": "documented-command",
   "metadata": {
    "id": "documented-command"
   },
   "source": [
    "### [A3] ¿Qué día de la semana compran víveres las personas?"
   ]
  },
  {
   "cell_type": "code",
   "execution_count": 37,
   "id": "chief-digit",
   "metadata": {
    "id": "chief-digit"
   },
   "outputs": [
    {
     "data": {
      "image/png": "[encoded data removed]",
      "text/plain": [
       "<Figure size 640x480 with 1 Axes>"
      ]
     },
     "metadata": {},
     "output_type": "display_data"
    }
   ],
   "source": [
    "comprassem=df_insta['order_dow'].value_counts().sort_index()\n",
    "comprassem.plot(kind='bar',label='Compras por día',xlabel='Día de la semana',ylabel='Número de compras')\n",
    "plt.show()"
   ]
  },
  {
   "cell_type": "markdown",
   "id": "dominant-lightning",
   "metadata": {
    "id": "dominant-lightning"
   },
   "source": [
    "Escribe aquí tus conclusiones\n",
    "Observamos que los inicio de semana son los dìa de mayor ventas y el resto de la semana se mantiene en alrededor de 25% menos de ventas que los dias máximos."
   ]
  },
  {
   "cell_type": "markdown",
   "id": "cutting-concert",
   "metadata": {
    "id": "cutting-concert"
   },
   "source": [
    "### [A4] ¿Cuánto tiempo esperan las personas hasta hacer otro pedido? Comenta sobre los valores mínimos y máximos."
   ]
  },
  {
   "cell_type": "code",
   "execution_count": 38,
   "id": "c231f523",
   "metadata": {
    "id": "c231f523"
   },
   "outputs": [
    {
     "data": {
      "image/png": "[encoded data removed]",
      "text/plain": [
       "<Figure size 640x480 with 1 Axes>"
      ]
     },
     "metadata": {},
     "output_type": "display_data"
    }
   ],
   "source": [
    "df_insta['days_since_prior_order'].fillna(0,inplace=True)\n",
    "tiempo_pedido=df_insta['days_since_prior_order'].value_counts().sort_index()\n",
    "tiempo_pedido.plot(kind='bar',label='Tiempo de espera',title='Días desde la orden anterior')\n",
    "plt.show()"
   ]
  },
  {
   "cell_type": "markdown",
   "id": "discrete-vertex",
   "metadata": {
    "id": "discrete-vertex"
   },
   "source": [
    "Escribe aquí tus conclusiones\n",
    "Podemos ver que la mayoría de clientes tardan entre 0 y 7 días para realizar un nuevo pedido sin embargo despues de 29 días muchos clientes vuelven a pedir algún producto. Vemos que hay clientes que no tardar ni un día en volver a hacer un pedido mientras que hay algunos que tardan 30 días.Importante notar que fue necesario reemplazar los valores NAN por 0 para hacer una correcta valoraciòn de aquellos clientes que tardar el mínimo que es de 0 días."
   ]
  },
  {
   "cell_type": "markdown",
   "id": "a4f40d15",
   "metadata": {},
   "source": [
    "\n",
    "<div class=\"alert alert-block alert-success\">\n",
    "<b>Comentario del revisor</b> <a class=\"tocSkip\"></a>\n",
    "\n",
    "Muy buena esta sección. Los gráficos son muy claros y descriptivos. Muy bien al usar títulos y descripciones de los ejes.\n",
    "</div>\n",
    "\n"
   ]
  },
  {
   "cell_type": "markdown",
   "id": "tight-staff",
   "metadata": {
    "id": "tight-staff"
   },
   "source": [
    "# [B] Intermedio (deben completarse todos para aprobar)\n",
    "\n",
    "1. ¿Existe alguna diferencia entre las distribuciones `'order_hour_of_day'` de los miércoles y los sábados? Traza gráficos de barra de `'order_hour_of_day'` para ambos días en la misma figura y describe las diferencias que observes.\n",
    "2. Grafica la distribución para el número de órdenes que hacen los clientes (es decir, cuántos clientes hicieron solo 1 pedido, cuántos hicieron 2, cuántos 3, y así sucesivamente...).\n",
    "3. ¿Cuáles son los 20 principales productos que se piden con más frecuencia (muestra su identificación y nombre)?"
   ]
  },
  {
   "cell_type": "markdown",
   "id": "packed-classic",
   "metadata": {
    "id": "packed-classic"
   },
   "source": [
    "### [B1] Diferencia entre miércoles y sábados para  `'order_hour_of_day'`. Traza gráficos de barra para los dos días y describe las diferencias que veas."
   ]
  },
  {
   "cell_type": "code",
   "execution_count": 39,
   "id": "d89b8403",
   "metadata": {
    "id": "d89b8403"
   },
   "outputs": [
    {
     "data": {
      "image/png": "[encoded data removed]",
      "text/plain": [
       "<Figure size 640x480 with 1 Axes>"
      ]
     },
     "metadata": {},
     "output_type": "display_data"
    }
   ],
   "source": [
    "wednesday = df_insta[df_insta['order_dow'] == 3]\n",
    "hour= wednesday.groupby('order_hour_of_day')['order_number'].count()\n",
    "hour.plot(kind='bar', title='Ordenes por hora Miercoles',xlabel='Hora del Día', ylabel='Número de Órdenes')\n",
    "plt.show()"
   ]
  },
  {
   "cell_type": "code",
   "execution_count": 40,
   "id": "94e54e8a",
   "metadata": {
    "id": "94e54e8a"
   },
   "outputs": [
    {
     "data": {
      "image/png": "[encoded data removed]",
      "text/plain": [
       "<Figure size 640x480 with 1 Axes>"
      ]
     },
     "metadata": {},
     "output_type": "display_data"
    }
   ],
   "source": [
    "saturday = df_insta[df_insta['order_dow'] == 6]\n",
    "hour= saturday.groupby('order_hour_of_day')['order_number'].count()\n",
    "hour.plot(kind='bar', title='Ordenes por hora Sábado',xlabel='Hora del Día', ylabel='Número de Órdenes')\n",
    "plt.show()"
   ]
  },
  {
   "cell_type": "markdown",
   "id": "cd143f4b",
   "metadata": {},
   "source": [
    "<div class=\"alert alert-block alert-success\">\n",
    "<b>Comentario del revisor</b> <a class=\"tocSkip\"></a>\n",
    "\n",
    "Está muy bien la comparación de ambos días en general. De nuevo, la visualización es muy clara.\n",
    "</div>\n",
    "\n"
   ]
  },
  {
   "cell_type": "markdown",
   "id": "a320576b",
   "metadata": {
    "id": "797c90a8"
   },
   "source": [
    "<div class=\"alert alert-block alert-warning\">\n",
    "<b>Comentario del revisor</b> <a class=\"tocSkip\"></a>\n",
    "\n",
    "Como sugerencia, recuerda que hay algunos tipos de gráficos que te permiten visualizar los dos días dentro de un solo cuadro.</div>"
   ]
  },
  {
   "cell_type": "code",
   "execution_count": null,
   "id": "35bcea30",
   "metadata": {
    "id": "35bcea30"
   },
   "outputs": [],
   "source": []
  },
  {
   "cell_type": "markdown",
   "id": "charitable-congo",
   "metadata": {
    "id": "charitable-congo"
   },
   "source": [
    "Escribe aquí tus conclusiones\n",
    "Podemos observar que los miércoles hay una ligera caida de las ventas al medio dia mientras que para los sábados hay una distribución más similar a una curva de bell."
   ]
  },
  {
   "cell_type": "markdown",
   "id": "e3891143",
   "metadata": {
    "id": "e3891143"
   },
   "source": [
    "### [B2] ¿Cuál es la distribución para el número de pedidos por cliente?"
   ]
  },
  {
   "cell_type": "code",
   "execution_count": 41,
   "id": "d8c26c23",
   "metadata": {
    "id": "d8c26c23"
   },
   "outputs": [],
   "source": [
    "compras_por_cliente = df_insta.groupby('user_id')['order_id'].count()"
   ]
  },
  {
   "cell_type": "code",
   "execution_count": 42,
   "id": "00e69a66",
   "metadata": {
    "id": "00e69a66",
    "scrolled": true
   },
   "outputs": [
    {
     "data": {
      "image/png": "[encoded data removed]",
      "text/plain": [
       "<Figure size 640x480 with 1 Axes>"
      ]
     },
     "metadata": {},
     "output_type": "display_data"
    }
   ],
   "source": [
    "compras_por_cliente.plot(kind='hist', bins=30,title='Distribución de pedidos por cliente',xlabel='Número de pedidos',ylabel='Cantidad de clientes')\n",
    "plt.show()"
   ]
  },
  {
   "cell_type": "markdown",
   "id": "d2eff7d5",
   "metadata": {
    "id": "d2eff7d5"
   },
   "source": [
    "Escribe aquí tus conclusiones\n",
    "Podemos observar que la mayoria de los clientes solo piden de 1 a 3 productos, por lo que se podría buscar estrategias para que los clientes sean recurrentes más que nuevos clientes."
   ]
  },
  {
   "cell_type": "markdown",
   "id": "9af92b52",
   "metadata": {},
   "source": [
    "<div class=\"alert alert-block alert-warning\">\n",
    "<b>Comentario del revisor</b> <a class=\"tocSkip\"></a>\n",
    "\n",
    "Sería interesante ahondar sobre qué sucedió en el día 9.\n",
    "</div>"
   ]
  },
  {
   "cell_type": "markdown",
   "id": "54a0319c",
   "metadata": {
    "id": "54a0319c"
   },
   "source": [
    "### [B3] ¿Cuáles son los 20 productos más populares (muestra su ID y nombre)?"
   ]
  },
  {
   "cell_type": "code",
   "execution_count": 43,
   "id": "exterior-arizona",
   "metadata": {
    "id": "exterior-arizona",
    "scrolled": true
   },
   "outputs": [],
   "source": [
    "idmerger= df_order.merge(df_products, on='product_id')"
   ]
  },
  {
   "cell_type": "code",
   "execution_count": 44,
   "id": "universal-facial",
   "metadata": {
    "id": "universal-facial"
   },
   "outputs": [],
   "source": [
    "mejores_productos=idmerger.groupby(['product_id','product_name'])['order_id'].count().sort_values(ascending=False)\n",
    "veintemejores= mejores_productos.head(20)"
   ]
  },
  {
   "cell_type": "code",
   "execution_count": 45,
   "id": "bbcdd20b",
   "metadata": {
    "id": "bbcdd20b"
   },
   "outputs": [
    {
     "data": {
      "image/png": "[encoded data removed]",
      "text/plain": [
       "<Figure size 1200x600 with 1 Axes>"
      ]
     },
     "metadata": {},
     "output_type": "display_data"
    }
   ],
   "source": [
    "veintemejores.plot(kind='bar',title='20 productos más populares',ylabel='Cantidad',rot=45, xlabel='Id/Nombre de producto',figsize=(12, 6))\n",
    "plt.show()"
   ]
  },
  {
   "cell_type": "markdown",
   "id": "7df00f47",
   "metadata": {
    "id": "7df00f47"
   },
   "source": [
    "La banana es exremadamente propular y vemos que las bananas venden casi en un 50% más que las frutas que le siguen en popularidad."
   ]
  },
  {
   "cell_type": "markdown",
   "id": "f66c2403",
   "metadata": {},
   "source": [
    "<div class=\"alert alert-block alert-success\">\n",
    "<b>Comentario del revisor</b> <a class=\"tocSkip\"></a>\n",
    "\n",
    "Excelente trabajo!La lista del TOP 20 es muy completa, has logrado no solo mostrar cuáles son los productos, sino resumir la cantidad de órdenes de cada producto de manera muy clara.\n",
    "</div>"
   ]
  },
  {
   "cell_type": "markdown",
   "id": "gross-theme",
   "metadata": {
    "id": "gross-theme"
   },
   "source": [
    "# [C] Difícil (deben completarse todos para aprobar)\n",
    "\n",
    "1. ¿Cuántos artículos suelen comprar las personas en un pedido? ¿Cómo es la distribución?\n",
    "2. ¿Cuáles son los 20 principales artículos que vuelven a pedirse con mayor frecuencia (muestra sus nombres e IDs de los productos)?\n",
    "3. Para cada producto, ¿cuál es la tasa de repetición del pedido (número de repeticiones de pedido/total de pedidos?\n",
    "4. Para cada cliente, ¿qué proporción de los productos que pidió ya los había pedido? Calcula la tasa de repetición de pedido para cada usuario en lugar de para cada producto.\n",
    "5. ¿Cuáles son los 20 principales artículos que la gente pone primero en sus carritos (muestra las IDs de los productos, sus nombres, y el número de veces en que fueron el primer artículo en añadirse al carrito)?"
   ]
  },
  {
   "cell_type": "markdown",
   "id": "romantic-deposit",
   "metadata": {
    "id": "romantic-deposit"
   },
   "source": [
    "### [C1] ¿Cuántos artículos compran normalmente las personas en un pedido? ¿Cómo es la distribución?"
   ]
  },
  {
   "cell_type": "code",
   "execution_count": 46,
   "id": "virtual-punch",
   "metadata": {
    "id": "virtual-punch"
   },
   "outputs": [],
   "source": [
    "distri=df_order.groupby('order_id')['product_id'].count()"
   ]
  },
  {
   "cell_type": "code",
   "execution_count": 47,
   "id": "sensitive-breathing",
   "metadata": {
    "id": "sensitive-breathing",
    "scrolled": true
   },
   "outputs": [
    {
     "data": {
      "text/plain": [
       "<AxesSubplot:ylabel='Frequency'>"
      ]
     },
     "execution_count": 47,
     "metadata": {},
     "output_type": "execute_result"
    },
    {
     "data": {
      "image/png": "[encoded data removed]",
      "text/plain": [
       "<Figure size 640x480 with 1 Axes>"
      ]
     },
     "metadata": {},
     "output_type": "display_data"
    }
   ],
   "source": [
    "distri.plot(kind='hist')"
   ]
  },
  {
   "cell_type": "markdown",
   "id": "094c761b",
   "metadata": {},
   "source": [
    "<div class=\"alert alert-block alert-warning\">\n",
    "<b>Comentario del revisor</b> <a class=\"tocSkip\"></a>\n",
    "\n",
    "Te recomiendo que aumentes la cantidad de bins en el histograma, deberías poder ver la forma de campana de la distribución.\n",
    "    \n",
    "\n",
    "</div>"
   ]
  },
  {
   "cell_type": "code",
   "execution_count": null,
   "id": "completed-frank",
   "metadata": {
    "id": "completed-frank"
   },
   "outputs": [],
   "source": []
  },
  {
   "cell_type": "markdown",
   "id": "designed-mortality",
   "metadata": {
    "id": "designed-mortality"
   },
   "source": [
    "Escribe aquí tus conclusiones\n",
    "Podemos observar que la gran mayoría de personas compra de 0 a 10 productos, y es raro que se compren más de 20."
   ]
  },
  {
   "cell_type": "markdown",
   "id": "5e6b5537",
   "metadata": {
    "id": "5e6b5537"
   },
   "source": [
    "### [C2] ¿Cuáles son los 20 principales artículos que vuelven a pedirse con mayor frecuencia (muestra sus nombres e IDs de los productos)?"
   ]
  },
  {
   "cell_type": "code",
   "execution_count": 55,
   "id": "9374e55a",
   "metadata": {
    "id": "9374e55a"
   },
   "outputs": [],
   "source": [
    "mejores_productos_reordenados=idmerger[idmerger['reordered'] == 1].groupby(['product_id','product_name'])['order_id'].count().sort_values(ascending=False)"
   ]
  },
  {
   "cell_type": "code",
   "execution_count": 56,
   "id": "possible-change",
   "metadata": {
    "id": "possible-change",
    "scrolled": true
   },
   "outputs": [],
   "source": [
    "mejores_20_productos_reordenados=mejores_productos_reordenados.head(20)"
   ]
  },
  {
   "cell_type": "code",
   "execution_count": 59,
   "id": "professional-surfing",
   "metadata": {
    "id": "professional-surfing",
    "scrolled": true
   },
   "outputs": [
    {
     "data": {
      "image/png": "[encoded data removed]",
      "text/plain": [
       "<Figure size 640x480 with 1 Axes>"
      ]
     },
     "metadata": {},
     "output_type": "display_data"
    }
   ],
   "source": [
    "mejores_20_productos_reordenados.plot(kind='bar',title='Mejores 20 artículos reordenados',ylabel='Cantidad',xlabel='Id/Nombre')\n",
    "plt.show()"
   ]
  },
  {
   "cell_type": "code",
   "execution_count": null,
   "id": "48dd3658",
   "metadata": {
    "id": "48dd3658"
   },
   "outputs": [],
   "source": []
  },
  {
   "cell_type": "markdown",
   "id": "80e70c74",
   "metadata": {
    "id": "80e70c74"
   },
   "source": [
    "Los 20 productos reordenados más pedidos tiene coincidencias con aquellos que se piden con mayor frecuencia. Como es de esperarse hay cierto overlap pero no completo."
   ]
  },
  {
   "cell_type": "markdown",
   "id": "6ba2bd30",
   "metadata": {},
   "source": [
    "<div class=\"alert alert-block alert-success\">\n",
    "<b>Comentario del revisor</b> <a class=\"tocSkip\"></a>\n",
    "\n",
    "Excelente trabajo! Muy claros y concisos los datos.\n",
    "</div>"
   ]
  },
  {
   "cell_type": "markdown",
   "id": "9d312b14",
   "metadata": {
    "id": "9d312b14"
   },
   "source": [
    "### [C3] Para cada producto, ¿cuál es la proporción de las veces que se pide y que se vuelve a pedir?"
   ]
  },
  {
   "cell_type": "code",
   "execution_count": 60,
   "id": "8ae9f4b1",
   "metadata": {
    "id": "8ae9f4b1"
   },
   "outputs": [
    {
     "data": {
      "text/plain": [
       "product_id  product_name                                                     \n",
       "1           Chocolate Sandwich Cookies                                           0.564286\n",
       "2           All-Seasons Salt                                                     0.000000\n",
       "3           Robust Golden Unsweetened Oolong Tea                                 0.738095\n",
       "4           Smart Ones Classic Favorites Mini Rigatoni With Vodka Cream Sauce    0.510204\n",
       "7           Pure Coconut Water With Orange                                       0.500000\n",
       "                                                                                   ...   \n",
       "49690       HIGH PERFORMANCE ENERGY DRINK                                        0.800000\n",
       "49691       ORIGINAL PANCAKE & WAFFLE MIX                                        0.430556\n",
       "49692       ORGANIC INSTANT OATMEAL LIGHT MAPLE BROWN SUGAR                      0.416667\n",
       "49693       SPRING WATER BODY WASH                                               0.440000\n",
       "49694       BURRITO- STEAK & CHEESE                                              0.333333\n",
       "Name: reordered, Length: 45573, dtype: float64"
      ]
     },
     "execution_count": 60,
     "metadata": {},
     "output_type": "execute_result"
    }
   ],
   "source": [
    "idmerger.groupby(['product_id','product_name'])['reordered'].mean()"
   ]
  },
  {
   "cell_type": "code",
   "execution_count": null,
   "id": "103e7fe1",
   "metadata": {
    "id": "103e7fe1"
   },
   "outputs": [],
   "source": []
  },
  {
   "cell_type": "code",
   "execution_count": null,
   "id": "social-individual",
   "metadata": {
    "id": "social-individual"
   },
   "outputs": [],
   "source": []
  },
  {
   "cell_type": "markdown",
   "id": "I10dEIAyldcO",
   "metadata": {
    "id": "I10dEIAyldcO"
   },
   "source": [
    "Escribe aquí tus conclusiones\n",
    "Utilizamos la propiedad de la columna booleana de reordered para calcular la relación /proporción de la reordenación de los productos."
   ]
  },
  {
   "cell_type": "markdown",
   "id": "subject-boxing",
   "metadata": {
    "id": "subject-boxing"
   },
   "source": [
    "### [C4] Para cada cliente, ¿qué proporción de sus productos ya los había pedido?"
   ]
  },
  {
   "cell_type": "code",
   "execution_count": 67,
   "id": "medical-couple",
   "metadata": {
    "id": "medical-couple",
    "scrolled": true
   },
   "outputs": [],
   "source": [
    "idmerger2= idmerger.merge(df_insta, on='order_id')"
   ]
  },
  {
   "cell_type": "code",
   "execution_count": 68,
   "id": "8892e4b4",
   "metadata": {
    "id": "8892e4b4"
   },
   "outputs": [
    {
     "data": {
      "text/plain": [
       "user_id\n",
       "2         0.038462\n",
       "4         0.000000\n",
       "5         0.666667\n",
       "6         0.000000\n",
       "7         0.928571\n",
       "            ...   \n",
       "206203    0.222222\n",
       "206206    0.714286\n",
       "206207    0.891304\n",
       "206208    0.696000\n",
       "206209    0.320000\n",
       "Name: reordered, Length: 149626, dtype: float64"
      ]
     },
     "execution_count": 68,
     "metadata": {},
     "output_type": "execute_result"
    }
   ],
   "source": [
    "idmerger2.groupby(['user_id'])['reordered'].mean()"
   ]
  },
  {
   "cell_type": "markdown",
   "id": "BgJSvXDsleXz",
   "metadata": {
    "id": "BgJSvXDsleXz"
   },
   "source": [
    "Escribe aquí tus conclusiones\n",
    "Utilizamos la propiedad de la columna booleana de reordered para calcular la relación /proporción de la reordenación de los productos pero ahora en función de los usuarios. Importante notar que se requiere la tabla fusionada."
   ]
  },
  {
   "cell_type": "markdown",
   "id": "92d35137",
   "metadata": {
    "id": "92d35137"
   },
   "source": [
    "### [C5] ¿Cuáles son los 20 principales artículos que las personas ponen primero en sus carritos?"
   ]
  },
  {
   "cell_type": "code",
   "execution_count": 73,
   "id": "0ae57274",
   "metadata": {
    "id": "0ae57274",
    "scrolled": true
   },
   "outputs": [],
   "source": [
    "primeros_productos = idmerger2[idmerger2['add_to_cart_order'] == 1]"
   ]
  },
  {
   "cell_type": "code",
   "execution_count": 74,
   "id": "forty-netherlands",
   "metadata": {
    "id": "forty-netherlands",
    "scrolled": true
   },
   "outputs": [],
   "source": [
    "principales = primeros_productos.groupby('product_name')['add_to_cart_order'].count()"
   ]
  },
  {
   "cell_type": "code",
   "execution_count": 75,
   "id": "08e41ec2",
   "metadata": {
    "id": "08e41ec2"
   },
   "outputs": [
    {
     "name": "stdout",
     "output_type": "stream",
     "text": [
      "product_name\n",
      "Banana                         15562\n",
      "Bag of Organic Bananas         11026\n",
      "Organic Whole Milk              4363\n",
      "Organic Strawberries            3946\n",
      "Organic Hass Avocado            3390\n",
      "Organic Baby Spinach            3336\n",
      "Organic Avocado                 3044\n",
      "Spring Water                    2336\n",
      "Strawberries                    2308\n",
      "Organic Raspberries             2024\n",
      "Sparkling Water Grapefruit      1914\n",
      "Organic Half & Half             1797\n",
      "Large Lemon                     1737\n",
      "Soda                            1733\n",
      "Organic Reduced Fat Milk        1397\n",
      "Limes                           1370\n",
      "Hass Avocados                   1340\n",
      "Organic Reduced Fat 2% Milk     1310\n",
      "Half & Half                     1309\n",
      "Organic Yellow Onion            1246\n",
      "Name: add_to_cart_order, dtype: int64\n"
     ]
    }
   ],
   "source": [
    "principales = principales.sort_values(ascending=False).head(20)\n",
    "\n",
    "print(principales)"
   ]
  },
  {
   "cell_type": "markdown",
   "id": "28ce9872",
   "metadata": {
    "id": "28ce9872"
   },
   "source": [
    "Escribe aquí tus conclusiones"
   ]
  },
  {
   "cell_type": "markdown",
   "id": "uITbFCEoDosC",
   "metadata": {
    "id": "uITbFCEoDosC"
   },
   "source": [
    "### Conclusion general del proyecto:"
   ]
  },
  {
   "cell_type": "code",
   "execution_count": null,
   "id": "Nk-4GS7mDwqY",
   "metadata": {
    "id": "Nk-4GS7mDwqY"
   },
   "outputs": [],
   "source": [
    "ESTUVO SUPER RETADOR. Varias varias horas incluso siguiendo pasos con la clase pero me queda más claro la relación entre los merge de tablas. :')"
   ]
  }
 ],
 "metadata": {
  "ExecuteTimeLog": [
   {
    "duration": 2098,
    "start_time": "2024-10-04T21:52:54.584Z"
   },
   {
    "duration": 2210,
    "start_time": "2024-10-04T21:52:56.684Z"
   },
   {
    "duration": 400,
    "start_time": "2024-10-04T21:53:33.897Z"
   },
   {
    "duration": 2060,
    "start_time": "2024-10-04T21:53:34.300Z"
   },
   {
    "duration": 21,
    "start_time": "2024-10-04T21:53:36.362Z"
   },
   {
    "duration": 19,
    "start_time": "2024-10-04T21:53:36.386Z"
   },
   {
    "duration": 7,
    "start_time": "2024-10-04T21:53:36.406Z"
   },
   {
    "duration": 9,
    "start_time": "2024-10-04T21:53:36.415Z"
   },
   {
    "duration": 7,
    "start_time": "2024-10-04T21:53:36.426Z"
   },
   {
    "duration": 3,
    "start_time": "2024-10-04T21:53:36.435Z"
   },
   {
    "duration": 2,
    "start_time": "2024-10-04T21:53:36.440Z"
   },
   {
    "duration": 3,
    "start_time": "2024-10-04T21:53:36.446Z"
   },
   {
    "duration": 3,
    "start_time": "2024-10-04T21:53:36.450Z"
   },
   {
    "duration": 3,
    "start_time": "2024-10-04T21:53:36.455Z"
   },
   {
    "duration": 47,
    "start_time": "2024-10-04T21:53:36.459Z"
   },
   {
    "duration": 3,
    "start_time": "2024-10-04T21:53:36.510Z"
   },
   {
    "duration": 3,
    "start_time": "2024-10-04T21:53:36.514Z"
   },
   {
    "duration": 3,
    "start_time": "2024-10-04T21:53:36.519Z"
   },
   {
    "duration": 3,
    "start_time": "2024-10-04T21:53:36.524Z"
   },
   {
    "duration": 2,
    "start_time": "2024-10-04T21:53:36.528Z"
   },
   {
    "duration": 3,
    "start_time": "2024-10-04T21:53:36.532Z"
   },
   {
    "duration": 3,
    "start_time": "2024-10-04T21:53:36.536Z"
   },
   {
    "duration": 4,
    "start_time": "2024-10-04T21:53:36.540Z"
   },
   {
    "duration": 3,
    "start_time": "2024-10-04T21:53:36.545Z"
   },
   {
    "duration": 2,
    "start_time": "2024-10-04T21:53:36.550Z"
   },
   {
    "duration": 2,
    "start_time": "2024-10-04T21:53:36.554Z"
   },
   {
    "duration": 3,
    "start_time": "2024-10-04T21:53:36.605Z"
   },
   {
    "duration": 3,
    "start_time": "2024-10-04T21:53:36.609Z"
   },
   {
    "duration": 2,
    "start_time": "2024-10-04T21:53:36.614Z"
   },
   {
    "duration": 3,
    "start_time": "2024-10-04T21:53:36.620Z"
   },
   {
    "duration": 3,
    "start_time": "2024-10-04T21:53:36.625Z"
   },
   {
    "duration": 2,
    "start_time": "2024-10-04T21:53:36.630Z"
   },
   {
    "duration": 3,
    "start_time": "2024-10-04T21:53:36.634Z"
   },
   {
    "duration": 2,
    "start_time": "2024-10-04T21:53:36.639Z"
   },
   {
    "duration": 3,
    "start_time": "2024-10-04T21:53:36.643Z"
   },
   {
    "duration": 2,
    "start_time": "2024-10-04T21:53:36.648Z"
   },
   {
    "duration": 2223,
    "start_time": "2024-10-06T17:37:56.778Z"
   },
   {
    "duration": 1061,
    "start_time": "2024-10-06T17:37:59.003Z"
   },
   {
    "duration": 12,
    "start_time": "2024-10-06T17:38:00.065Z"
   },
   {
    "duration": 10,
    "start_time": "2024-10-06T17:38:00.079Z"
   },
   {
    "duration": 22,
    "start_time": "2024-10-06T17:38:00.090Z"
   },
   {
    "duration": 7,
    "start_time": "2024-10-06T17:38:00.114Z"
   },
   {
    "duration": 7,
    "start_time": "2024-10-06T17:38:00.123Z"
   },
   {
    "duration": 2,
    "start_time": "2024-10-06T17:38:00.131Z"
   },
   {
    "duration": 3,
    "start_time": "2024-10-06T17:38:00.135Z"
   },
   {
    "duration": 2,
    "start_time": "2024-10-06T17:38:00.142Z"
   },
   {
    "duration": 2,
    "start_time": "2024-10-06T17:38:00.146Z"
   },
   {
    "duration": 2,
    "start_time": "2024-10-06T17:38:00.150Z"
   },
   {
    "duration": 3,
    "start_time": "2024-10-06T17:38:00.154Z"
   },
   {
    "duration": 51,
    "start_time": "2024-10-06T17:38:00.158Z"
   },
   {
    "duration": 3,
    "start_time": "2024-10-06T17:38:00.211Z"
   },
   {
    "duration": 3,
    "start_time": "2024-10-06T17:38:00.215Z"
   },
   {
    "duration": 3,
    "start_time": "2024-10-06T17:38:00.219Z"
   },
   {
    "duration": 2,
    "start_time": "2024-10-06T17:38:00.224Z"
   },
   {
    "duration": 3,
    "start_time": "2024-10-06T17:38:00.228Z"
   },
   {
    "duration": 3,
    "start_time": "2024-10-06T17:38:00.232Z"
   },
   {
    "duration": 3,
    "start_time": "2024-10-06T17:38:00.236Z"
   },
   {
    "duration": 2,
    "start_time": "2024-10-06T17:38:00.242Z"
   },
   {
    "duration": 3,
    "start_time": "2024-10-06T17:38:00.245Z"
   },
   {
    "duration": 2,
    "start_time": "2024-10-06T17:38:00.250Z"
   },
   {
    "duration": 3,
    "start_time": "2024-10-06T17:38:00.253Z"
   },
   {
    "duration": 3,
    "start_time": "2024-10-06T17:38:00.258Z"
   },
   {
    "duration": 49,
    "start_time": "2024-10-06T17:38:00.262Z"
   },
   {
    "duration": 2,
    "start_time": "2024-10-06T17:38:00.316Z"
   },
   {
    "duration": 2,
    "start_time": "2024-10-06T17:38:00.320Z"
   },
   {
    "duration": 3,
    "start_time": "2024-10-06T17:38:00.324Z"
   },
   {
    "duration": 3,
    "start_time": "2024-10-06T17:38:00.328Z"
   },
   {
    "duration": 2,
    "start_time": "2024-10-06T17:38:00.333Z"
   },
   {
    "duration": 3,
    "start_time": "2024-10-06T17:38:00.337Z"
   },
   {
    "duration": 3,
    "start_time": "2024-10-06T17:38:00.341Z"
   },
   {
    "duration": 16,
    "start_time": "2024-10-06T17:54:12.648Z"
   },
   {
    "duration": 2,
    "start_time": "2024-10-06T17:55:22.208Z"
   },
   {
    "duration": 862,
    "start_time": "2024-10-06T17:55:22.213Z"
   },
   {
    "duration": 15,
    "start_time": "2024-10-06T17:55:23.077Z"
   },
   {
    "duration": 26,
    "start_time": "2024-10-06T17:55:23.094Z"
   },
   {
    "duration": 11,
    "start_time": "2024-10-06T17:55:23.121Z"
   },
   {
    "duration": 10,
    "start_time": "2024-10-06T17:55:23.134Z"
   },
   {
    "duration": 11,
    "start_time": "2024-10-06T17:56:18.569Z"
   },
   {
    "duration": 98,
    "start_time": "2024-10-06T18:02:59.555Z"
   },
   {
    "duration": 17,
    "start_time": "2024-10-06T18:10:11.381Z"
   },
   {
    "duration": 110,
    "start_time": "2024-10-06T18:25:13.009Z"
   },
   {
    "duration": 101,
    "start_time": "2024-10-06T18:26:23.915Z"
   },
   {
    "duration": 79,
    "start_time": "2024-10-06T18:26:25.154Z"
   },
   {
    "duration": 237,
    "start_time": "2024-10-06T18:27:34.419Z"
   },
   {
    "duration": 28,
    "start_time": "2024-10-06T18:27:55.009Z"
   },
   {
    "duration": 15,
    "start_time": "2024-10-06T19:02:20.389Z"
   },
   {
    "duration": 5,
    "start_time": "2024-10-06T19:03:46.295Z"
   },
   {
    "duration": 164,
    "start_time": "2024-10-07T01:25:25.214Z"
   },
   {
    "duration": 2134,
    "start_time": "2024-10-07T01:25:52.228Z"
   },
   {
    "duration": 1044,
    "start_time": "2024-10-07T01:25:54.365Z"
   },
   {
    "duration": 17,
    "start_time": "2024-10-07T01:25:55.411Z"
   },
   {
    "duration": 13,
    "start_time": "2024-10-07T01:25:55.430Z"
   },
   {
    "duration": 11,
    "start_time": "2024-10-07T01:25:55.444Z"
   },
   {
    "duration": 11,
    "start_time": "2024-10-07T01:25:55.457Z"
   },
   {
    "duration": 42,
    "start_time": "2024-10-07T01:25:55.469Z"
   },
   {
    "duration": 101,
    "start_time": "2024-10-07T01:25:55.514Z"
   },
   {
    "duration": 11,
    "start_time": "2024-10-07T01:25:55.616Z"
   },
   {
    "duration": 121,
    "start_time": "2024-10-07T01:25:55.629Z"
   },
   {
    "duration": 94,
    "start_time": "2024-10-07T01:25:55.752Z"
   },
   {
    "duration": 31,
    "start_time": "2024-10-07T01:25:55.848Z"
   },
   {
    "duration": 28,
    "start_time": "2024-10-07T01:25:55.881Z"
   },
   {
    "duration": 4,
    "start_time": "2024-10-07T01:25:55.911Z"
   },
   {
    "duration": 45,
    "start_time": "2024-10-07T01:26:00.195Z"
   },
   {
    "duration": 11,
    "start_time": "2024-10-07T01:26:16.654Z"
   },
   {
    "duration": 11,
    "start_time": "2024-10-07T01:26:31.046Z"
   },
   {
    "duration": 21,
    "start_time": "2024-10-07T01:27:24.473Z"
   },
   {
    "duration": 21,
    "start_time": "2024-10-07T01:33:39.904Z"
   },
   {
    "duration": 21,
    "start_time": "2024-10-07T01:34:31.727Z"
   },
   {
    "duration": 23,
    "start_time": "2024-10-07T01:34:46.743Z"
   },
   {
    "duration": 2,
    "start_time": "2024-10-07T01:34:52.480Z"
   },
   {
    "duration": 841,
    "start_time": "2024-10-07T01:34:52.485Z"
   },
   {
    "duration": 15,
    "start_time": "2024-10-07T01:34:53.327Z"
   },
   {
    "duration": 13,
    "start_time": "2024-10-07T01:34:53.343Z"
   },
   {
    "duration": 18,
    "start_time": "2024-10-07T01:34:53.359Z"
   },
   {
    "duration": 36,
    "start_time": "2024-10-07T01:34:53.379Z"
   },
   {
    "duration": 10,
    "start_time": "2024-10-07T01:34:53.417Z"
   },
   {
    "duration": 93,
    "start_time": "2024-10-07T01:34:53.429Z"
   },
   {
    "duration": 10,
    "start_time": "2024-10-07T01:34:53.524Z"
   },
   {
    "duration": 86,
    "start_time": "2024-10-07T01:34:53.536Z"
   },
   {
    "duration": 72,
    "start_time": "2024-10-07T01:34:53.623Z"
   },
   {
    "duration": 32,
    "start_time": "2024-10-07T01:34:53.696Z"
   },
   {
    "duration": 24,
    "start_time": "2024-10-07T01:34:55.938Z"
   },
   {
    "duration": 6,
    "start_time": "2024-10-07T01:35:34.841Z"
   },
   {
    "duration": 15,
    "start_time": "2024-10-07T01:35:51.188Z"
   },
   {
    "duration": 13,
    "start_time": "2024-10-07T01:39:03.765Z"
   },
   {
    "duration": 7,
    "start_time": "2024-10-07T01:40:58.234Z"
   },
   {
    "duration": 11,
    "start_time": "2024-10-07T01:47:08.892Z"
   },
   {
    "duration": 14,
    "start_time": "2024-10-07T01:47:24.344Z"
   },
   {
    "duration": 14,
    "start_time": "2024-10-07T01:47:48.035Z"
   },
   {
    "duration": 11,
    "start_time": "2024-10-07T01:49:08.541Z"
   },
   {
    "duration": 8,
    "start_time": "2024-10-07T01:54:05.061Z"
   },
   {
    "duration": 4,
    "start_time": "2024-10-07T01:54:11.959Z"
   },
   {
    "duration": 5,
    "start_time": "2024-10-07T01:54:18.364Z"
   },
   {
    "duration": 22,
    "start_time": "2024-10-07T01:54:40.326Z"
   },
   {
    "duration": 16,
    "start_time": "2024-10-07T02:00:20.007Z"
   },
   {
    "duration": 5,
    "start_time": "2024-10-07T02:12:57.550Z"
   },
   {
    "duration": 3,
    "start_time": "2024-10-07T02:23:46.972Z"
   },
   {
    "duration": 38,
    "start_time": "2024-10-07T02:24:05.545Z"
   },
   {
    "duration": 26,
    "start_time": "2024-10-07T02:28:28.612Z"
   },
   {
    "duration": 4,
    "start_time": "2024-10-07T03:02:55.442Z"
   },
   {
    "duration": 6,
    "start_time": "2024-10-07T03:07:04.766Z"
   },
   {
    "duration": 202,
    "start_time": "2024-10-07T03:07:08.302Z"
   },
   {
    "duration": 21,
    "start_time": "2024-10-07T03:08:02.621Z"
   },
   {
    "duration": 5,
    "start_time": "2024-10-07T03:08:28.535Z"
   },
   {
    "duration": 13,
    "start_time": "2024-10-07T03:09:51.449Z"
   },
   {
    "duration": 723,
    "start_time": "2024-10-07T03:11:01.895Z"
   },
   {
    "duration": 94,
    "start_time": "2024-10-07T03:12:47.344Z"
   },
   {
    "duration": 15,
    "start_time": "2024-10-07T03:17:48.616Z"
   },
   {
    "duration": 3,
    "start_time": "2024-10-07T03:19:23.786Z"
   },
   {
    "duration": 268,
    "start_time": "2024-10-07T03:19:29.650Z"
   },
   {
    "duration": 5,
    "start_time": "2024-10-07T03:23:14.402Z"
   },
   {
    "duration": 6,
    "start_time": "2024-10-07T03:23:18.015Z"
   },
   {
    "duration": 7,
    "start_time": "2024-10-07T03:23:49.217Z"
   },
   {
    "duration": 5,
    "start_time": "2024-10-07T03:28:12.138Z"
   },
   {
    "duration": 17,
    "start_time": "2024-10-07T03:28:59.338Z"
   },
   {
    "duration": 4,
    "start_time": "2024-10-07T03:29:24.986Z"
   },
   {
    "duration": 19,
    "start_time": "2024-10-07T03:29:42.176Z"
   },
   {
    "duration": 17,
    "start_time": "2024-10-07T03:30:05.410Z"
   },
   {
    "duration": 17,
    "start_time": "2024-10-07T03:30:34.941Z"
   },
   {
    "duration": 9,
    "start_time": "2024-10-07T03:32:27.792Z"
   },
   {
    "duration": 8,
    "start_time": "2024-10-07T03:32:45.035Z"
   },
   {
    "duration": 5,
    "start_time": "2024-10-07T03:36:28.939Z"
   },
   {
    "duration": 7,
    "start_time": "2024-10-07T03:36:52.855Z"
   },
   {
    "duration": 7,
    "start_time": "2024-10-07T03:38:11.584Z"
   },
   {
    "duration": 6,
    "start_time": "2024-10-07T03:45:03.205Z"
   },
   {
    "duration": 6,
    "start_time": "2024-10-07T03:45:11.163Z"
   },
   {
    "duration": 720,
    "start_time": "2024-10-07T03:45:11.178Z"
   },
   {
    "duration": 91,
    "start_time": "2024-10-07T03:45:11.899Z"
   },
   {
    "duration": 19,
    "start_time": "2024-10-07T03:45:11.992Z"
   },
   {
    "duration": 5,
    "start_time": "2024-10-07T03:45:12.013Z"
   },
   {
    "duration": 6,
    "start_time": "2024-10-07T03:45:12.020Z"
   },
   {
    "duration": 3,
    "start_time": "2024-10-07T03:45:12.027Z"
   },
   {
    "duration": 2,
    "start_time": "2024-10-07T03:45:12.032Z"
   },
   {
    "duration": 3,
    "start_time": "2024-10-07T03:45:12.036Z"
   },
   {
    "duration": 2,
    "start_time": "2024-10-07T03:45:12.040Z"
   },
   {
    "duration": 2,
    "start_time": "2024-10-07T03:45:12.045Z"
   },
   {
    "duration": 2,
    "start_time": "2024-10-07T03:45:12.049Z"
   },
   {
    "duration": 2,
    "start_time": "2024-10-07T03:45:12.053Z"
   },
   {
    "duration": 2,
    "start_time": "2024-10-07T03:45:12.057Z"
   },
   {
    "duration": 2,
    "start_time": "2024-10-07T03:45:12.109Z"
   },
   {
    "duration": 13,
    "start_time": "2024-10-07T03:53:28.516Z"
   },
   {
    "duration": 9,
    "start_time": "2024-10-07T19:38:54.639Z"
   },
   {
    "duration": 4,
    "start_time": "2024-10-07T19:39:26.870Z"
   },
   {
    "duration": 162,
    "start_time": "2024-10-07T19:40:19.984Z"
   },
   {
    "duration": 11,
    "start_time": "2024-10-07T19:40:26.269Z"
   },
   {
    "duration": 2153,
    "start_time": "2024-10-07T19:40:30.978Z"
   },
   {
    "duration": 1183,
    "start_time": "2024-10-07T19:40:33.133Z"
   },
   {
    "duration": 20,
    "start_time": "2024-10-07T19:40:34.318Z"
   },
   {
    "duration": 29,
    "start_time": "2024-10-07T19:40:34.341Z"
   },
   {
    "duration": 12,
    "start_time": "2024-10-07T19:40:34.372Z"
   },
   {
    "duration": 12,
    "start_time": "2024-10-07T19:40:34.386Z"
   },
   {
    "duration": 11,
    "start_time": "2024-10-07T19:40:34.400Z"
   },
   {
    "duration": 129,
    "start_time": "2024-10-07T19:40:34.413Z"
   },
   {
    "duration": 11,
    "start_time": "2024-10-07T19:40:34.544Z"
   },
   {
    "duration": 139,
    "start_time": "2024-10-07T19:40:34.558Z"
   },
   {
    "duration": 94,
    "start_time": "2024-10-07T19:40:34.700Z"
   },
   {
    "duration": 26,
    "start_time": "2024-10-07T19:40:34.797Z"
   },
   {
    "duration": 14,
    "start_time": "2024-10-07T19:40:34.825Z"
   },
   {
    "duration": 8,
    "start_time": "2024-10-07T19:40:34.840Z"
   },
   {
    "duration": 65,
    "start_time": "2024-10-07T19:40:34.850Z"
   },
   {
    "duration": 32,
    "start_time": "2024-10-07T19:40:34.917Z"
   },
   {
    "duration": 5,
    "start_time": "2024-10-07T19:40:34.950Z"
   },
   {
    "duration": 16,
    "start_time": "2024-10-07T19:40:34.956Z"
   },
   {
    "duration": 5,
    "start_time": "2024-10-07T19:40:34.973Z"
   },
   {
    "duration": 5,
    "start_time": "2024-10-07T19:40:34.979Z"
   },
   {
    "duration": 791,
    "start_time": "2024-10-07T19:40:34.986Z"
   },
   {
    "duration": 756,
    "start_time": "2024-10-07T19:40:36.472Z"
   },
   {
    "duration": 7,
    "start_time": "2024-10-07T19:43:05.827Z"
   },
   {
    "duration": 5,
    "start_time": "2024-10-07T19:43:05.836Z"
   },
   {
    "duration": 6,
    "start_time": "2024-10-07T19:43:05.843Z"
   },
   {
    "duration": 2,
    "start_time": "2024-10-07T19:43:05.851Z"
   },
   {
    "duration": 3,
    "start_time": "2024-10-07T19:43:05.855Z"
   },
   {
    "duration": 2,
    "start_time": "2024-10-07T19:43:05.860Z"
   },
   {
    "duration": 3,
    "start_time": "2024-10-07T19:43:05.864Z"
   },
   {
    "duration": 3,
    "start_time": "2024-10-07T19:43:05.868Z"
   },
   {
    "duration": 2,
    "start_time": "2024-10-07T19:43:05.873Z"
   },
   {
    "duration": 2,
    "start_time": "2024-10-07T19:43:05.878Z"
   },
   {
    "duration": 2,
    "start_time": "2024-10-07T19:43:05.882Z"
   },
   {
    "duration": 2,
    "start_time": "2024-10-07T19:43:05.886Z"
   },
   {
    "duration": 8,
    "start_time": "2024-10-07T19:49:53.160Z"
   },
   {
    "duration": 58,
    "start_time": "2024-10-07T20:00:46.456Z"
   },
   {
    "duration": 7,
    "start_time": "2024-10-07T20:00:56.160Z"
   },
   {
    "duration": 3,
    "start_time": "2024-10-07T20:01:05.967Z"
   },
   {
    "duration": 944,
    "start_time": "2024-10-07T20:01:05.973Z"
   },
   {
    "duration": 15,
    "start_time": "2024-10-07T20:01:06.919Z"
   },
   {
    "duration": 16,
    "start_time": "2024-10-07T20:01:06.935Z"
   },
   {
    "duration": 14,
    "start_time": "2024-10-07T20:01:06.970Z"
   },
   {
    "duration": 13,
    "start_time": "2024-10-07T20:01:06.986Z"
   },
   {
    "duration": 12,
    "start_time": "2024-10-07T20:01:07.000Z"
   },
   {
    "duration": 103,
    "start_time": "2024-10-07T20:01:07.014Z"
   },
   {
    "duration": 10,
    "start_time": "2024-10-07T20:01:07.119Z"
   },
   {
    "duration": 111,
    "start_time": "2024-10-07T20:01:07.131Z"
   },
   {
    "duration": 81,
    "start_time": "2024-10-07T20:01:07.244Z"
   },
   {
    "duration": 27,
    "start_time": "2024-10-07T20:01:07.326Z"
   },
   {
    "duration": 21,
    "start_time": "2024-10-07T20:01:07.354Z"
   },
   {
    "duration": 6,
    "start_time": "2024-10-07T20:01:07.378Z"
   },
   {
    "duration": 51,
    "start_time": "2024-10-07T20:01:07.385Z"
   },
   {
    "duration": 52,
    "start_time": "2024-10-07T20:01:07.437Z"
   },
   {
    "duration": 4,
    "start_time": "2024-10-07T20:01:07.491Z"
   },
   {
    "duration": 4,
    "start_time": "2024-10-07T20:01:07.496Z"
   },
   {
    "duration": 5,
    "start_time": "2024-10-07T20:01:07.502Z"
   },
   {
    "duration": 5,
    "start_time": "2024-10-07T20:01:07.509Z"
   },
   {
    "duration": 847,
    "start_time": "2024-10-07T20:01:07.516Z"
   },
   {
    "duration": 754,
    "start_time": "2024-10-07T20:01:08.365Z"
   },
   {
    "duration": 8,
    "start_time": "2024-10-07T20:01:09.121Z"
   },
   {
    "duration": 6,
    "start_time": "2024-10-07T20:01:09.130Z"
   },
   {
    "duration": 7,
    "start_time": "2024-10-07T20:01:09.137Z"
   },
   {
    "duration": 6,
    "start_time": "2024-10-07T20:01:11.597Z"
   },
   {
    "duration": 6,
    "start_time": "2024-10-07T20:01:39.340Z"
   },
   {
    "duration": 6,
    "start_time": "2024-10-07T20:01:49.246Z"
   },
   {
    "duration": 7,
    "start_time": "2024-10-07T20:02:20.244Z"
   },
   {
    "duration": 5,
    "start_time": "2024-10-07T20:02:21.967Z"
   },
   {
    "duration": 9,
    "start_time": "2024-10-07T20:02:58.774Z"
   },
   {
    "duration": 2,
    "start_time": "2024-10-07T20:02:58.868Z"
   },
   {
    "duration": 10,
    "start_time": "2024-10-07T20:03:21.402Z"
   },
   {
    "duration": 7,
    "start_time": "2024-10-07T20:10:56.496Z"
   },
   {
    "duration": 8,
    "start_time": "2024-10-07T20:12:15.803Z"
   },
   {
    "duration": 14,
    "start_time": "2024-10-07T20:13:59.802Z"
   },
   {
    "duration": 2,
    "start_time": "2024-10-07T20:13:59.839Z"
   },
   {
    "duration": 3,
    "start_time": "2024-10-07T20:14:28.751Z"
   },
   {
    "duration": 1299,
    "start_time": "2024-10-07T20:14:28.758Z"
   },
   {
    "duration": 23,
    "start_time": "2024-10-07T20:14:30.059Z"
   },
   {
    "duration": 18,
    "start_time": "2024-10-07T20:14:30.084Z"
   },
   {
    "duration": 22,
    "start_time": "2024-10-07T20:14:30.106Z"
   },
   {
    "duration": 19,
    "start_time": "2024-10-07T20:14:30.133Z"
   },
   {
    "duration": 32,
    "start_time": "2024-10-07T20:14:30.154Z"
   },
   {
    "duration": 109,
    "start_time": "2024-10-07T20:14:30.190Z"
   },
   {
    "duration": 12,
    "start_time": "2024-10-07T20:14:30.301Z"
   },
   {
    "duration": 126,
    "start_time": "2024-10-07T20:14:30.315Z"
   },
   {
    "duration": 105,
    "start_time": "2024-10-07T20:14:30.444Z"
   },
   {
    "duration": 35,
    "start_time": "2024-10-07T20:14:30.552Z"
   },
   {
    "duration": 22,
    "start_time": "2024-10-07T20:14:30.590Z"
   },
   {
    "duration": 6,
    "start_time": "2024-10-07T20:14:30.614Z"
   },
   {
    "duration": 77,
    "start_time": "2024-10-07T20:14:30.622Z"
   },
   {
    "duration": 126,
    "start_time": "2024-10-07T20:14:30.703Z"
   },
   {
    "duration": 4,
    "start_time": "2024-10-07T20:14:30.832Z"
   },
   {
    "duration": 5,
    "start_time": "2024-10-07T20:14:30.838Z"
   },
   {
    "duration": 5,
    "start_time": "2024-10-07T20:14:30.845Z"
   },
   {
    "duration": 5,
    "start_time": "2024-10-07T20:14:30.852Z"
   },
   {
    "duration": 961,
    "start_time": "2024-10-07T20:14:30.859Z"
   },
   {
    "duration": 712,
    "start_time": "2024-10-07T20:14:31.823Z"
   },
   {
    "duration": 9,
    "start_time": "2024-10-07T20:14:32.538Z"
   },
   {
    "duration": 22,
    "start_time": "2024-10-07T20:14:32.549Z"
   },
   {
    "duration": 9,
    "start_time": "2024-10-07T20:14:32.573Z"
   },
   {
    "duration": 7,
    "start_time": "2024-10-07T20:14:32.584Z"
   },
   {
    "duration": 10,
    "start_time": "2024-10-07T20:14:32.593Z"
   },
   {
    "duration": 18,
    "start_time": "2024-10-07T20:14:35.915Z"
   },
   {
    "duration": 6,
    "start_time": "2024-10-07T20:14:54.461Z"
   },
   {
    "duration": 25,
    "start_time": "2024-10-07T20:15:41.436Z"
   },
   {
    "duration": 3,
    "start_time": "2024-10-07T20:15:41.473Z"
   },
   {
    "duration": 26,
    "start_time": "2024-10-07T20:16:38.592Z"
   },
   {
    "duration": 25,
    "start_time": "2024-10-07T20:17:44.639Z"
   },
   {
    "duration": 3,
    "start_time": "2024-10-07T20:17:44.673Z"
   },
   {
    "duration": 31,
    "start_time": "2024-10-07T20:19:12.328Z"
   },
   {
    "duration": 7,
    "start_time": "2024-10-07T20:24:33.387Z"
   },
   {
    "duration": 17,
    "start_time": "2024-10-07T20:24:56.630Z"
   },
   {
    "duration": 4,
    "start_time": "2024-10-07T20:34:29.094Z"
   },
   {
    "duration": 7,
    "start_time": "2024-10-07T20:34:52.932Z"
   },
   {
    "duration": 5,
    "start_time": "2024-10-07T20:35:21.365Z"
   },
   {
    "duration": 4,
    "start_time": "2024-10-07T20:35:26.238Z"
   },
   {
    "duration": 9,
    "start_time": "2024-10-07T20:35:49.953Z"
   },
   {
    "duration": 24,
    "start_time": "2024-10-07T21:40:15.319Z"
   },
   {
    "duration": 37,
    "start_time": "2024-10-07T21:40:59.611Z"
   },
   {
    "duration": 18,
    "start_time": "2024-10-07T21:43:51.361Z"
   },
   {
    "duration": 4,
    "start_time": "2024-10-07T21:48:43.807Z"
   },
   {
    "duration": 3,
    "start_time": "2024-10-07T21:48:58.526Z"
   },
   {
    "duration": 4,
    "start_time": "2024-10-07T21:49:08.832Z"
   },
   {
    "duration": 7,
    "start_time": "2024-10-07T21:49:32.586Z"
   },
   {
    "duration": 11,
    "start_time": "2024-10-07T21:51:23.274Z"
   },
   {
    "duration": 4,
    "start_time": "2024-10-07T21:51:34.192Z"
   },
   {
    "duration": 3,
    "start_time": "2024-10-07T21:51:55.361Z"
   },
   {
    "duration": 4,
    "start_time": "2024-10-07T21:52:12.617Z"
   },
   {
    "duration": 8,
    "start_time": "2024-10-07T21:52:38.766Z"
   },
   {
    "duration": 4,
    "start_time": "2024-10-07T21:52:42.611Z"
   },
   {
    "duration": 444,
    "start_time": "2024-10-07T21:52:56.161Z"
   },
   {
    "duration": 1013,
    "start_time": "2024-10-07T21:52:56.607Z"
   },
   {
    "duration": 18,
    "start_time": "2024-10-07T21:52:57.622Z"
   },
   {
    "duration": 13,
    "start_time": "2024-10-07T21:52:57.642Z"
   },
   {
    "duration": 43,
    "start_time": "2024-10-07T21:52:57.658Z"
   },
   {
    "duration": 12,
    "start_time": "2024-10-07T21:52:57.706Z"
   },
   {
    "duration": 11,
    "start_time": "2024-10-07T21:52:57.720Z"
   },
   {
    "duration": 108,
    "start_time": "2024-10-07T21:52:57.733Z"
   },
   {
    "duration": 11,
    "start_time": "2024-10-07T21:52:57.843Z"
   },
   {
    "duration": 134,
    "start_time": "2024-10-07T21:52:57.855Z"
   },
   {
    "duration": 98,
    "start_time": "2024-10-07T21:52:57.994Z"
   },
   {
    "duration": 29,
    "start_time": "2024-10-07T21:52:58.093Z"
   },
   {
    "duration": 12,
    "start_time": "2024-10-07T21:52:58.123Z"
   },
   {
    "duration": 5,
    "start_time": "2024-10-07T21:52:58.139Z"
   },
   {
    "duration": 56,
    "start_time": "2024-10-07T21:52:58.146Z"
   },
   {
    "duration": 24,
    "start_time": "2024-10-07T21:52:58.204Z"
   },
   {
    "duration": 5,
    "start_time": "2024-10-07T21:52:58.229Z"
   },
   {
    "duration": 4,
    "start_time": "2024-10-07T21:52:58.236Z"
   },
   {
    "duration": 5,
    "start_time": "2024-10-07T21:52:58.241Z"
   },
   {
    "duration": 48,
    "start_time": "2024-10-07T21:52:58.247Z"
   },
   {
    "duration": 802,
    "start_time": "2024-10-07T21:52:58.297Z"
   },
   {
    "duration": 740,
    "start_time": "2024-10-07T21:52:59.101Z"
   },
   {
    "duration": 8,
    "start_time": "2024-10-07T21:52:59.843Z"
   },
   {
    "duration": 24,
    "start_time": "2024-10-07T21:52:59.852Z"
   },
   {
    "duration": 14,
    "start_time": "2024-10-07T21:52:59.878Z"
   },
   {
    "duration": 7,
    "start_time": "2024-10-07T21:52:59.893Z"
   },
   {
    "duration": 7,
    "start_time": "2024-10-07T21:52:59.902Z"
   },
   {
    "duration": 30,
    "start_time": "2024-10-07T21:52:59.911Z"
   },
   {
    "duration": 55,
    "start_time": "2024-10-07T21:52:59.943Z"
   },
   {
    "duration": 33,
    "start_time": "2024-10-07T21:53:00.000Z"
   },
   {
    "duration": 8,
    "start_time": "2024-10-07T21:53:00.035Z"
   },
   {
    "duration": 4,
    "start_time": "2024-10-07T21:53:00.044Z"
   },
   {
    "duration": 0,
    "start_time": "2024-10-07T21:53:00.050Z"
   },
   {
    "duration": 4,
    "start_time": "2024-10-07T21:53:08.599Z"
   },
   {
    "duration": 4,
    "start_time": "2024-10-07T21:53:40.486Z"
   },
   {
    "duration": 4,
    "start_time": "2024-10-07T21:54:29.078Z"
   },
   {
    "duration": 4,
    "start_time": "2024-10-07T21:55:02.010Z"
   },
   {
    "duration": 4,
    "start_time": "2024-10-07T21:55:14.528Z"
   },
   {
    "duration": 4,
    "start_time": "2024-10-07T21:56:38.741Z"
   },
   {
    "duration": 7,
    "start_time": "2024-10-07T21:58:30.345Z"
   },
   {
    "duration": 22,
    "start_time": "2024-10-07T22:02:26.039Z"
   },
   {
    "duration": 20,
    "start_time": "2024-10-07T22:02:50.038Z"
   },
   {
    "duration": 574,
    "start_time": "2024-10-07T22:09:10.425Z"
   },
   {
    "duration": 4,
    "start_time": "2024-10-07T22:10:03.251Z"
   },
   {
    "duration": 38,
    "start_time": "2024-10-07T22:10:13.987Z"
   },
   {
    "duration": 38,
    "start_time": "2024-10-07T22:11:25.255Z"
   },
   {
    "duration": 39,
    "start_time": "2024-10-07T22:11:39.013Z"
   },
   {
    "duration": 3,
    "start_time": "2024-10-07T22:11:48.677Z"
   },
   {
    "duration": 845,
    "start_time": "2024-10-07T22:11:48.682Z"
   },
   {
    "duration": 14,
    "start_time": "2024-10-07T22:11:49.529Z"
   },
   {
    "duration": 25,
    "start_time": "2024-10-07T22:11:49.545Z"
   },
   {
    "duration": 11,
    "start_time": "2024-10-07T22:11:49.572Z"
   },
   {
    "duration": 11,
    "start_time": "2024-10-07T22:11:49.584Z"
   },
   {
    "duration": 10,
    "start_time": "2024-10-07T22:11:49.597Z"
   },
   {
    "duration": 106,
    "start_time": "2024-10-07T22:11:49.608Z"
   },
   {
    "duration": 11,
    "start_time": "2024-10-07T22:11:49.715Z"
   },
   {
    "duration": 93,
    "start_time": "2024-10-07T22:11:49.728Z"
   },
   {
    "duration": 79,
    "start_time": "2024-10-07T22:11:49.822Z"
   },
   {
    "duration": 22,
    "start_time": "2024-10-07T22:11:49.903Z"
   },
   {
    "duration": 13,
    "start_time": "2024-10-07T22:11:49.926Z"
   },
   {
    "duration": 5,
    "start_time": "2024-10-07T22:11:49.943Z"
   },
   {
    "duration": 55,
    "start_time": "2024-10-07T22:11:49.950Z"
   },
   {
    "duration": 27,
    "start_time": "2024-10-07T22:11:50.006Z"
   },
   {
    "duration": 5,
    "start_time": "2024-10-07T22:11:50.035Z"
   },
   {
    "duration": 29,
    "start_time": "2024-10-07T22:11:50.042Z"
   },
   {
    "duration": 4,
    "start_time": "2024-10-07T22:11:50.073Z"
   },
   {
    "duration": 4,
    "start_time": "2024-10-07T22:11:50.079Z"
   },
   {
    "duration": 746,
    "start_time": "2024-10-07T22:11:50.084Z"
   },
   {
    "duration": 632,
    "start_time": "2024-10-07T22:11:50.832Z"
   },
   {
    "duration": 8,
    "start_time": "2024-10-07T22:11:51.470Z"
   },
   {
    "duration": 6,
    "start_time": "2024-10-07T22:11:51.480Z"
   },
   {
    "duration": 7,
    "start_time": "2024-10-07T22:11:51.488Z"
   },
   {
    "duration": 7,
    "start_time": "2024-10-07T22:11:51.496Z"
   },
   {
    "duration": 7,
    "start_time": "2024-10-07T22:11:51.504Z"
   },
   {
    "duration": 63,
    "start_time": "2024-10-07T22:11:51.512Z"
   },
   {
    "duration": 31,
    "start_time": "2024-10-07T22:11:51.578Z"
   },
   {
    "duration": 33,
    "start_time": "2024-10-07T22:11:51.612Z"
   },
   {
    "duration": 25,
    "start_time": "2024-10-07T22:11:51.646Z"
   },
   {
    "duration": 7,
    "start_time": "2024-10-07T22:11:51.672Z"
   },
   {
    "duration": 25,
    "start_time": "2024-10-07T22:11:51.681Z"
   },
   {
    "duration": 38,
    "start_time": "2024-10-07T22:11:55.516Z"
   },
   {
    "duration": 118,
    "start_time": "2024-10-07T22:12:33.149Z"
   },
   {
    "duration": 4,
    "start_time": "2024-10-07T22:12:36.860Z"
   },
   {
    "duration": 6,
    "start_time": "2024-10-07T22:12:48.924Z"
   },
   {
    "duration": 8,
    "start_time": "2024-10-07T22:13:39.144Z"
   },
   {
    "duration": 5,
    "start_time": "2024-10-07T22:14:09.576Z"
   },
   {
    "duration": 5,
    "start_time": "2024-10-07T22:14:11.835Z"
   },
   {
    "duration": 14,
    "start_time": "2024-10-07T22:22:28.208Z"
   },
   {
    "duration": 165,
    "start_time": "2024-10-07T22:22:36.454Z"
   },
   {
    "duration": 127,
    "start_time": "2024-10-07T22:26:00.552Z"
   },
   {
    "duration": 2444,
    "start_time": "2024-10-08T16:09:07.509Z"
   },
   {
    "duration": 1066,
    "start_time": "2024-10-08T16:09:09.956Z"
   },
   {
    "duration": 22,
    "start_time": "2024-10-08T16:09:11.024Z"
   },
   {
    "duration": 15,
    "start_time": "2024-10-08T16:09:11.049Z"
   },
   {
    "duration": 37,
    "start_time": "2024-10-08T16:09:11.068Z"
   },
   {
    "duration": 17,
    "start_time": "2024-10-08T16:09:11.108Z"
   },
   {
    "duration": 12,
    "start_time": "2024-10-08T16:09:11.127Z"
   },
   {
    "duration": 152,
    "start_time": "2024-10-08T16:09:11.141Z"
   },
   {
    "duration": 23,
    "start_time": "2024-10-08T16:09:11.296Z"
   },
   {
    "duration": 144,
    "start_time": "2024-10-08T16:09:11.322Z"
   },
   {
    "duration": 114,
    "start_time": "2024-10-08T16:09:11.467Z"
   },
   {
    "duration": 42,
    "start_time": "2024-10-08T16:09:11.583Z"
   },
   {
    "duration": 15,
    "start_time": "2024-10-08T16:09:11.627Z"
   },
   {
    "duration": 7,
    "start_time": "2024-10-08T16:09:11.647Z"
   },
   {
    "duration": 66,
    "start_time": "2024-10-08T16:09:11.655Z"
   },
   {
    "duration": 31,
    "start_time": "2024-10-08T16:09:11.724Z"
   },
   {
    "duration": 5,
    "start_time": "2024-10-08T16:09:11.757Z"
   },
   {
    "duration": 5,
    "start_time": "2024-10-08T16:09:11.764Z"
   },
   {
    "duration": 38,
    "start_time": "2024-10-08T16:09:11.771Z"
   },
   {
    "duration": 5,
    "start_time": "2024-10-08T16:09:11.811Z"
   },
   {
    "duration": 988,
    "start_time": "2024-10-08T16:09:11.818Z"
   },
   {
    "duration": 861,
    "start_time": "2024-10-08T16:09:12.808Z"
   },
   {
    "duration": 8,
    "start_time": "2024-10-08T16:09:13.671Z"
   },
   {
    "duration": 27,
    "start_time": "2024-10-08T16:09:13.681Z"
   },
   {
    "duration": 9,
    "start_time": "2024-10-08T16:09:13.710Z"
   },
   {
    "duration": 7,
    "start_time": "2024-10-08T16:09:13.721Z"
   },
   {
    "duration": 8,
    "start_time": "2024-10-08T16:09:13.729Z"
   },
   {
    "duration": 34,
    "start_time": "2024-10-08T16:09:13.739Z"
   },
   {
    "duration": 54,
    "start_time": "2024-10-08T16:09:13.775Z"
   },
   {
    "duration": 36,
    "start_time": "2024-10-08T16:09:13.831Z"
   },
   {
    "duration": 10,
    "start_time": "2024-10-08T16:09:13.870Z"
   },
   {
    "duration": 8,
    "start_time": "2024-10-08T16:09:13.905Z"
   },
   {
    "duration": 28,
    "start_time": "2024-10-08T16:09:13.915Z"
   },
   {
    "duration": 6,
    "start_time": "2024-10-08T16:09:13.944Z"
   },
   {
    "duration": 8,
    "start_time": "2024-10-08T16:09:13.952Z"
   },
   {
    "duration": 214,
    "start_time": "2024-10-08T16:09:13.962Z"
   },
   {
    "duration": 152,
    "start_time": "2024-10-08T16:09:14.179Z"
   },
   {
    "duration": 142,
    "start_time": "2024-10-08T16:09:22.865Z"
   },
   {
    "duration": 18,
    "start_time": "2024-10-08T16:21:46.237Z"
   },
   {
    "duration": 773,
    "start_time": "2024-10-08T16:23:12.467Z"
   },
   {
    "duration": 5,
    "start_time": "2024-10-08T16:23:19.288Z"
   },
   {
    "duration": 894,
    "start_time": "2024-10-08T16:23:19.295Z"
   },
   {
    "duration": 25,
    "start_time": "2024-10-08T16:23:20.191Z"
   },
   {
    "duration": 17,
    "start_time": "2024-10-08T16:23:20.222Z"
   },
   {
    "duration": 12,
    "start_time": "2024-10-08T16:23:20.241Z"
   },
   {
    "duration": 12,
    "start_time": "2024-10-08T16:23:20.254Z"
   },
   {
    "duration": 45,
    "start_time": "2024-10-08T16:23:20.269Z"
   },
   {
    "duration": 140,
    "start_time": "2024-10-08T16:23:20.317Z"
   },
   {
    "duration": 11,
    "start_time": "2024-10-08T16:23:20.459Z"
   },
   {
    "duration": 120,
    "start_time": "2024-10-08T16:23:20.476Z"
   },
   {
    "duration": 100,
    "start_time": "2024-10-08T16:23:20.598Z"
   },
   {
    "duration": 33,
    "start_time": "2024-10-08T16:23:20.705Z"
   },
   {
    "duration": 15,
    "start_time": "2024-10-08T16:23:20.739Z"
   },
   {
    "duration": 6,
    "start_time": "2024-10-08T16:23:20.755Z"
   },
   {
    "duration": 71,
    "start_time": "2024-10-08T16:23:20.763Z"
   },
   {
    "duration": 26,
    "start_time": "2024-10-08T16:23:20.837Z"
   },
   {
    "duration": 6,
    "start_time": "2024-10-08T16:23:20.865Z"
   },
   {
    "duration": 7,
    "start_time": "2024-10-08T16:23:20.873Z"
   },
   {
    "duration": 6,
    "start_time": "2024-10-08T16:23:20.907Z"
   },
   {
    "duration": 7,
    "start_time": "2024-10-08T16:23:20.915Z"
   },
   {
    "duration": 975,
    "start_time": "2024-10-08T16:23:20.924Z"
   },
   {
    "duration": 837,
    "start_time": "2024-10-08T16:23:21.906Z"
   },
   {
    "duration": 7,
    "start_time": "2024-10-08T16:23:22.745Z"
   },
   {
    "duration": 6,
    "start_time": "2024-10-08T16:23:22.754Z"
   },
   {
    "duration": 7,
    "start_time": "2024-10-08T16:23:22.762Z"
   },
   {
    "duration": 37,
    "start_time": "2024-10-08T16:23:22.771Z"
   },
   {
    "duration": 15,
    "start_time": "2024-10-08T16:23:22.811Z"
   },
   {
    "duration": 17,
    "start_time": "2024-10-08T16:23:50.061Z"
   },
   {
    "duration": 32,
    "start_time": "2024-10-08T16:26:37.569Z"
   },
   {
    "duration": 40,
    "start_time": "2024-10-08T16:26:37.603Z"
   },
   {
    "duration": 10,
    "start_time": "2024-10-08T16:26:37.646Z"
   },
   {
    "duration": 9,
    "start_time": "2024-10-08T16:26:37.657Z"
   },
   {
    "duration": 53,
    "start_time": "2024-10-08T16:26:37.669Z"
   },
   {
    "duration": 10,
    "start_time": "2024-10-08T16:26:37.724Z"
   },
   {
    "duration": 7,
    "start_time": "2024-10-08T16:26:37.737Z"
   },
   {
    "duration": 184,
    "start_time": "2024-10-08T16:26:37.746Z"
   },
   {
    "duration": 156,
    "start_time": "2024-10-08T16:26:37.933Z"
   },
   {
    "duration": 146,
    "start_time": "2024-10-08T16:26:38.092Z"
   },
   {
    "duration": 24,
    "start_time": "2024-10-08T16:28:41.354Z"
   },
   {
    "duration": 136,
    "start_time": "2024-10-08T16:37:43.437Z"
   },
   {
    "duration": 7,
    "start_time": "2024-10-08T16:37:58.842Z"
   },
   {
    "duration": 70,
    "start_time": "2024-10-08T16:38:31.944Z"
   },
   {
    "duration": 139,
    "start_time": "2024-10-08T16:38:44.671Z"
   },
   {
    "duration": 5,
    "start_time": "2024-10-08T17:03:28.175Z"
   },
   {
    "duration": 4,
    "start_time": "2024-10-08T17:03:31.172Z"
   },
   {
    "duration": 463,
    "start_time": "2024-10-08T17:06:24.104Z"
   },
   {
    "duration": 1256,
    "start_time": "2024-10-08T17:06:24.569Z"
   },
   {
    "duration": 22,
    "start_time": "2024-10-08T17:06:25.829Z"
   },
   {
    "duration": 16,
    "start_time": "2024-10-08T17:06:25.853Z"
   },
   {
    "duration": 10,
    "start_time": "2024-10-08T17:06:25.872Z"
   },
   {
    "duration": 31,
    "start_time": "2024-10-08T17:06:25.884Z"
   },
   {
    "duration": 11,
    "start_time": "2024-10-08T17:06:25.917Z"
   },
   {
    "duration": 123,
    "start_time": "2024-10-08T17:06:25.930Z"
   },
   {
    "duration": 10,
    "start_time": "2024-10-08T17:06:26.055Z"
   },
   {
    "duration": 127,
    "start_time": "2024-10-08T17:06:26.067Z"
   },
   {
    "duration": 98,
    "start_time": "2024-10-08T17:06:26.196Z"
   },
   {
    "duration": 35,
    "start_time": "2024-10-08T17:06:26.296Z"
   },
   {
    "duration": 15,
    "start_time": "2024-10-08T17:06:26.334Z"
   },
   {
    "duration": 5,
    "start_time": "2024-10-08T17:06:26.353Z"
   },
   {
    "duration": 52,
    "start_time": "2024-10-08T17:06:26.360Z"
   },
   {
    "duration": 36,
    "start_time": "2024-10-08T17:06:26.414Z"
   },
   {
    "duration": 4,
    "start_time": "2024-10-08T17:06:26.452Z"
   },
   {
    "duration": 4,
    "start_time": "2024-10-08T17:06:26.458Z"
   },
   {
    "duration": 4,
    "start_time": "2024-10-08T17:06:26.464Z"
   },
   {
    "duration": 5,
    "start_time": "2024-10-08T17:06:26.469Z"
   },
   {
    "duration": 866,
    "start_time": "2024-10-08T17:06:26.475Z"
   },
   {
    "duration": 750,
    "start_time": "2024-10-08T17:06:27.343Z"
   },
   {
    "duration": 11,
    "start_time": "2024-10-08T17:06:28.095Z"
   },
   {
    "duration": 8,
    "start_time": "2024-10-08T17:06:28.107Z"
   },
   {
    "duration": 10,
    "start_time": "2024-10-08T17:06:28.119Z"
   },
   {
    "duration": 9,
    "start_time": "2024-10-08T17:06:28.130Z"
   },
   {
    "duration": 8,
    "start_time": "2024-10-08T17:06:28.142Z"
   },
   {
    "duration": 11,
    "start_time": "2024-10-08T17:06:28.153Z"
   },
   {
    "duration": 64,
    "start_time": "2024-10-08T17:06:28.166Z"
   },
   {
    "duration": 35,
    "start_time": "2024-10-08T17:06:28.232Z"
   },
   {
    "duration": 9,
    "start_time": "2024-10-08T17:06:28.269Z"
   },
   {
    "duration": 27,
    "start_time": "2024-10-08T17:06:28.279Z"
   },
   {
    "duration": 37,
    "start_time": "2024-10-08T17:06:28.308Z"
   },
   {
    "duration": 6,
    "start_time": "2024-10-08T17:06:28.347Z"
   },
   {
    "duration": 5,
    "start_time": "2024-10-08T17:06:28.355Z"
   },
   {
    "duration": 196,
    "start_time": "2024-10-08T17:06:28.361Z"
   },
   {
    "duration": 151,
    "start_time": "2024-10-08T17:06:28.558Z"
   },
   {
    "duration": 150,
    "start_time": "2024-10-08T17:06:28.710Z"
   },
   {
    "duration": 503,
    "start_time": "2024-10-08T17:10:06.034Z"
   },
   {
    "duration": 1262,
    "start_time": "2024-10-08T17:10:06.539Z"
   },
   {
    "duration": 43,
    "start_time": "2024-10-08T17:10:07.803Z"
   },
   {
    "duration": 14,
    "start_time": "2024-10-08T17:10:07.849Z"
   },
   {
    "duration": 11,
    "start_time": "2024-10-08T17:10:07.864Z"
   },
   {
    "duration": 11,
    "start_time": "2024-10-08T17:10:07.876Z"
   },
   {
    "duration": 43,
    "start_time": "2024-10-08T17:10:07.888Z"
   },
   {
    "duration": 125,
    "start_time": "2024-10-08T17:10:07.932Z"
   },
   {
    "duration": 11,
    "start_time": "2024-10-08T17:10:08.059Z"
   },
   {
    "duration": 116,
    "start_time": "2024-10-08T17:10:08.073Z"
   },
   {
    "duration": 106,
    "start_time": "2024-10-08T17:10:08.191Z"
   },
   {
    "duration": 36,
    "start_time": "2024-10-08T17:10:08.299Z"
   },
   {
    "duration": 18,
    "start_time": "2024-10-08T17:10:08.343Z"
   },
   {
    "duration": 8,
    "start_time": "2024-10-08T17:10:08.365Z"
   },
   {
    "duration": 46,
    "start_time": "2024-10-08T17:10:08.374Z"
   },
   {
    "duration": 32,
    "start_time": "2024-10-08T17:10:08.422Z"
   },
   {
    "duration": 4,
    "start_time": "2024-10-08T17:10:08.456Z"
   },
   {
    "duration": 4,
    "start_time": "2024-10-08T17:10:08.462Z"
   },
   {
    "duration": 4,
    "start_time": "2024-10-08T17:10:08.468Z"
   },
   {
    "duration": 5,
    "start_time": "2024-10-08T17:10:08.473Z"
   },
   {
    "duration": 896,
    "start_time": "2024-10-08T17:10:08.479Z"
   },
   {
    "duration": 761,
    "start_time": "2024-10-08T17:10:09.377Z"
   },
   {
    "duration": 7,
    "start_time": "2024-10-08T17:10:10.141Z"
   },
   {
    "duration": 7,
    "start_time": "2024-10-08T17:10:10.150Z"
   },
   {
    "duration": 6,
    "start_time": "2024-10-08T17:10:10.159Z"
   },
   {
    "duration": 7,
    "start_time": "2024-10-08T17:10:10.167Z"
   },
   {
    "duration": 9,
    "start_time": "2024-10-08T17:10:10.205Z"
   },
   {
    "duration": 20,
    "start_time": "2024-10-08T17:10:10.221Z"
   },
   {
    "duration": 33,
    "start_time": "2024-10-08T17:10:10.243Z"
   },
   {
    "duration": 60,
    "start_time": "2024-10-08T17:10:10.278Z"
   },
   {
    "duration": 8,
    "start_time": "2024-10-08T17:10:10.340Z"
   },
   {
    "duration": 7,
    "start_time": "2024-10-08T17:10:10.350Z"
   },
   {
    "duration": 26,
    "start_time": "2024-10-08T17:10:10.359Z"
   },
   {
    "duration": 20,
    "start_time": "2024-10-08T17:10:10.387Z"
   },
   {
    "duration": 14,
    "start_time": "2024-10-08T17:10:10.408Z"
   },
   {
    "duration": 164,
    "start_time": "2024-10-08T17:10:10.427Z"
   },
   {
    "duration": 163,
    "start_time": "2024-10-08T17:10:10.593Z"
   },
   {
    "duration": 152,
    "start_time": "2024-10-08T17:10:10.758Z"
   },
   {
    "duration": 10,
    "start_time": "2024-10-08T17:10:10.912Z"
   },
   {
    "duration": 349,
    "start_time": "2024-10-08T17:10:10.925Z"
   },
   {
    "duration": 347,
    "start_time": "2024-10-08T17:11:56.405Z"
   },
   {
    "duration": 333,
    "start_time": "2024-10-08T17:12:57.102Z"
   },
   {
    "duration": 354,
    "start_time": "2024-10-08T17:15:43.239Z"
   },
   {
    "duration": 40,
    "start_time": "2024-10-08T17:22:51.464Z"
   },
   {
    "duration": 146,
    "start_time": "2024-10-08T17:22:51.505Z"
   },
   {
    "duration": 54,
    "start_time": "2024-10-08T19:52:02.550Z"
   },
   {
    "duration": 7,
    "start_time": "2024-10-08T19:53:33.911Z"
   },
   {
    "duration": 4,
    "start_time": "2024-10-08T19:53:59.305Z"
   },
   {
    "duration": 445,
    "start_time": "2024-10-08T19:54:04.706Z"
   },
   {
    "duration": 8,
    "start_time": "2024-10-08T19:54:45.136Z"
   },
   {
    "duration": 7,
    "start_time": "2024-10-08T19:55:32.377Z"
   },
   {
    "duration": 11,
    "start_time": "2024-10-08T19:55:40.267Z"
   },
   {
    "duration": 5,
    "start_time": "2024-10-08T19:55:44.185Z"
   },
   {
    "duration": 5,
    "start_time": "2024-10-08T19:55:54.152Z"
   },
   {
    "duration": 884,
    "start_time": "2024-10-08T19:55:54.160Z"
   },
   {
    "duration": 16,
    "start_time": "2024-10-08T19:55:55.046Z"
   },
   {
    "duration": 13,
    "start_time": "2024-10-08T19:55:55.064Z"
   },
   {
    "duration": 27,
    "start_time": "2024-10-08T19:55:55.079Z"
   },
   {
    "duration": 12,
    "start_time": "2024-10-08T19:55:55.107Z"
   },
   {
    "duration": 10,
    "start_time": "2024-10-08T19:55:55.120Z"
   },
   {
    "duration": 113,
    "start_time": "2024-10-08T19:55:55.132Z"
   },
   {
    "duration": 10,
    "start_time": "2024-10-08T19:55:55.246Z"
   },
   {
    "duration": 96,
    "start_time": "2024-10-08T19:55:55.259Z"
   },
   {
    "duration": 87,
    "start_time": "2024-10-08T19:55:55.357Z"
   },
   {
    "duration": 25,
    "start_time": "2024-10-08T19:55:55.446Z"
   },
   {
    "duration": 12,
    "start_time": "2024-10-08T19:55:55.474Z"
   },
   {
    "duration": 21,
    "start_time": "2024-10-08T19:55:55.488Z"
   },
   {
    "duration": 34,
    "start_time": "2024-10-08T19:55:55.511Z"
   },
   {
    "duration": 25,
    "start_time": "2024-10-08T19:55:55.547Z"
   },
   {
    "duration": 4,
    "start_time": "2024-10-08T19:55:55.575Z"
   },
   {
    "duration": 5,
    "start_time": "2024-10-08T19:55:55.604Z"
   },
   {
    "duration": 5,
    "start_time": "2024-10-08T19:55:55.610Z"
   },
   {
    "duration": 5,
    "start_time": "2024-10-08T19:55:55.616Z"
   },
   {
    "duration": 814,
    "start_time": "2024-10-08T19:55:55.623Z"
   },
   {
    "duration": 712,
    "start_time": "2024-10-08T19:55:56.439Z"
   },
   {
    "duration": 8,
    "start_time": "2024-10-08T19:55:57.153Z"
   },
   {
    "duration": 7,
    "start_time": "2024-10-08T19:55:57.163Z"
   },
   {
    "duration": 6,
    "start_time": "2024-10-08T19:55:57.172Z"
   },
   {
    "duration": 27,
    "start_time": "2024-10-08T19:55:57.180Z"
   },
   {
    "duration": 11,
    "start_time": "2024-10-08T19:55:57.209Z"
   },
   {
    "duration": 14,
    "start_time": "2024-10-08T19:55:57.224Z"
   },
   {
    "duration": 29,
    "start_time": "2024-10-08T19:55:57.240Z"
   },
   {
    "duration": 61,
    "start_time": "2024-10-08T19:55:57.271Z"
   },
   {
    "duration": 9,
    "start_time": "2024-10-08T19:55:57.334Z"
   },
   {
    "duration": 68,
    "start_time": "2024-10-08T19:56:00.486Z"
   },
   {
    "duration": 66,
    "start_time": "2024-10-08T19:58:45.522Z"
   },
   {
    "duration": 70,
    "start_time": "2024-10-08T19:58:51.647Z"
   },
   {
    "duration": 27,
    "start_time": "2024-10-08T19:58:51.719Z"
   },
   {
    "duration": 6,
    "start_time": "2024-10-08T19:58:51.748Z"
   },
   {
    "duration": 6,
    "start_time": "2024-10-08T19:58:51.756Z"
   },
   {
    "duration": 164,
    "start_time": "2024-10-08T19:58:51.763Z"
   },
   {
    "duration": 141,
    "start_time": "2024-10-08T19:58:51.929Z"
   },
   {
    "duration": 135,
    "start_time": "2024-10-08T19:58:52.072Z"
   },
   {
    "duration": 345,
    "start_time": "2024-10-08T19:58:52.209Z"
   },
   {
    "duration": 349,
    "start_time": "2024-10-08T19:58:52.556Z"
   },
   {
    "duration": 37,
    "start_time": "2024-10-08T19:58:52.909Z"
   },
   {
    "duration": 221,
    "start_time": "2024-10-08T19:58:52.948Z"
   },
   {
    "duration": 172,
    "start_time": "2024-10-08T20:26:58.369Z"
   },
   {
    "duration": 107,
    "start_time": "2024-10-08T20:28:48.437Z"
   },
   {
    "duration": 428,
    "start_time": "2024-10-08T20:31:54.193Z"
   },
   {
    "duration": 1111,
    "start_time": "2024-10-08T20:31:54.624Z"
   },
   {
    "duration": 18,
    "start_time": "2024-10-08T20:31:55.737Z"
   },
   {
    "duration": 13,
    "start_time": "2024-10-08T20:31:55.757Z"
   },
   {
    "duration": 11,
    "start_time": "2024-10-08T20:31:55.772Z"
   },
   {
    "duration": 11,
    "start_time": "2024-10-08T20:31:55.806Z"
   },
   {
    "duration": 11,
    "start_time": "2024-10-08T20:31:55.819Z"
   },
   {
    "duration": 123,
    "start_time": "2024-10-08T20:31:55.832Z"
   },
   {
    "duration": 10,
    "start_time": "2024-10-08T20:31:55.957Z"
   },
   {
    "duration": 119,
    "start_time": "2024-10-08T20:31:55.970Z"
   },
   {
    "duration": 100,
    "start_time": "2024-10-08T20:31:56.091Z"
   },
   {
    "duration": 36,
    "start_time": "2024-10-08T20:31:56.192Z"
   },
   {
    "duration": 19,
    "start_time": "2024-10-08T20:31:56.231Z"
   },
   {
    "duration": 7,
    "start_time": "2024-10-08T20:31:56.252Z"
   },
   {
    "duration": 58,
    "start_time": "2024-10-08T20:31:56.261Z"
   },
   {
    "duration": 24,
    "start_time": "2024-10-08T20:31:56.321Z"
   },
   {
    "duration": 5,
    "start_time": "2024-10-08T20:31:56.347Z"
   },
   {
    "duration": 5,
    "start_time": "2024-10-08T20:31:56.353Z"
   },
   {
    "duration": 4,
    "start_time": "2024-10-08T20:31:56.360Z"
   },
   {
    "duration": 4,
    "start_time": "2024-10-08T20:31:56.366Z"
   },
   {
    "duration": 843,
    "start_time": "2024-10-08T20:31:56.371Z"
   },
   {
    "duration": 697,
    "start_time": "2024-10-08T20:31:57.216Z"
   },
   {
    "duration": 7,
    "start_time": "2024-10-08T20:31:57.914Z"
   },
   {
    "duration": 6,
    "start_time": "2024-10-08T20:31:57.923Z"
   },
   {
    "duration": 6,
    "start_time": "2024-10-08T20:31:57.931Z"
   },
   {
    "duration": 7,
    "start_time": "2024-10-08T20:31:57.939Z"
   },
   {
    "duration": 8,
    "start_time": "2024-10-08T20:31:57.948Z"
   },
   {
    "duration": 48,
    "start_time": "2024-10-08T20:31:57.960Z"
   },
   {
    "duration": 29,
    "start_time": "2024-10-08T20:31:58.010Z"
   },
   {
    "duration": 31,
    "start_time": "2024-10-08T20:31:58.041Z"
   },
   {
    "duration": 31,
    "start_time": "2024-10-08T20:31:58.074Z"
   },
   {
    "duration": 67,
    "start_time": "2024-10-08T20:31:58.107Z"
   },
   {
    "duration": 43,
    "start_time": "2024-10-08T20:31:58.176Z"
   },
   {
    "duration": 6,
    "start_time": "2024-10-08T20:31:58.221Z"
   },
   {
    "duration": 6,
    "start_time": "2024-10-08T20:31:58.228Z"
   },
   {
    "duration": 200,
    "start_time": "2024-10-08T20:31:58.235Z"
   },
   {
    "duration": 117,
    "start_time": "2024-10-08T20:31:58.437Z"
   },
   {
    "duration": 604,
    "start_time": "2024-10-08T20:31:58.556Z"
   },
   {
    "duration": 0,
    "start_time": "2024-10-08T20:31:59.161Z"
   },
   {
    "duration": 0,
    "start_time": "2024-10-08T20:31:59.163Z"
   },
   {
    "duration": 0,
    "start_time": "2024-10-08T20:31:59.164Z"
   },
   {
    "duration": 0,
    "start_time": "2024-10-08T20:31:59.166Z"
   },
   {
    "duration": 432,
    "start_time": "2024-10-08T20:35:24.355Z"
   },
   {
    "duration": 1094,
    "start_time": "2024-10-08T20:35:24.790Z"
   },
   {
    "duration": 33,
    "start_time": "2024-10-08T20:35:25.886Z"
   },
   {
    "duration": 18,
    "start_time": "2024-10-08T20:35:25.922Z"
   },
   {
    "duration": 15,
    "start_time": "2024-10-08T20:35:25.942Z"
   },
   {
    "duration": 15,
    "start_time": "2024-10-08T20:35:25.959Z"
   },
   {
    "duration": 16,
    "start_time": "2024-10-08T20:35:26.005Z"
   },
   {
    "duration": 161,
    "start_time": "2024-10-08T20:35:26.023Z"
   },
   {
    "duration": 19,
    "start_time": "2024-10-08T20:35:26.188Z"
   },
   {
    "duration": 127,
    "start_time": "2024-10-08T20:35:26.212Z"
   },
   {
    "duration": 117,
    "start_time": "2024-10-08T20:35:26.340Z"
   },
   {
    "duration": 36,
    "start_time": "2024-10-08T20:35:26.459Z"
   },
   {
    "duration": 19,
    "start_time": "2024-10-08T20:35:26.505Z"
   },
   {
    "duration": 8,
    "start_time": "2024-10-08T20:35:26.526Z"
   },
   {
    "duration": 44,
    "start_time": "2024-10-08T20:35:26.537Z"
   },
   {
    "duration": 27,
    "start_time": "2024-10-08T20:35:26.604Z"
   },
   {
    "duration": 4,
    "start_time": "2024-10-08T20:35:26.633Z"
   },
   {
    "duration": 4,
    "start_time": "2024-10-08T20:35:26.639Z"
   },
   {
    "duration": 4,
    "start_time": "2024-10-08T20:35:26.644Z"
   },
   {
    "duration": 4,
    "start_time": "2024-10-08T20:35:26.651Z"
   },
   {
    "duration": 941,
    "start_time": "2024-10-08T20:35:26.657Z"
   },
   {
    "duration": 729,
    "start_time": "2024-10-08T20:35:27.600Z"
   },
   {
    "duration": 9,
    "start_time": "2024-10-08T20:35:28.331Z"
   },
   {
    "duration": 6,
    "start_time": "2024-10-08T20:35:28.344Z"
   },
   {
    "duration": 7,
    "start_time": "2024-10-08T20:35:28.352Z"
   },
   {
    "duration": 11,
    "start_time": "2024-10-08T20:35:28.361Z"
   },
   {
    "duration": 32,
    "start_time": "2024-10-08T20:35:28.374Z"
   },
   {
    "duration": 14,
    "start_time": "2024-10-08T20:35:28.411Z"
   },
   {
    "duration": 30,
    "start_time": "2024-10-08T20:35:28.427Z"
   },
   {
    "duration": 62,
    "start_time": "2024-10-08T20:35:28.460Z"
   },
   {
    "duration": 14,
    "start_time": "2024-10-08T20:35:28.524Z"
   },
   {
    "duration": 82,
    "start_time": "2024-10-08T20:35:28.541Z"
   },
   {
    "duration": 28,
    "start_time": "2024-10-08T20:35:28.625Z"
   },
   {
    "duration": 6,
    "start_time": "2024-10-08T20:35:28.656Z"
   },
   {
    "duration": 5,
    "start_time": "2024-10-08T20:35:28.665Z"
   },
   {
    "duration": 216,
    "start_time": "2024-10-08T20:35:28.672Z"
   },
   {
    "duration": 116,
    "start_time": "2024-10-08T20:35:28.890Z"
   },
   {
    "duration": 192,
    "start_time": "2024-10-08T20:35:29.008Z"
   },
   {
    "duration": 325,
    "start_time": "2024-10-08T20:35:29.204Z"
   },
   {
    "duration": 335,
    "start_time": "2024-10-08T20:35:29.531Z"
   },
   {
    "duration": 44,
    "start_time": "2024-10-08T20:35:29.868Z"
   },
   {
    "duration": 192,
    "start_time": "2024-10-08T20:35:29.914Z"
   },
   {
    "duration": 5,
    "start_time": "2024-10-08T20:39:08.944Z"
   },
   {
    "duration": 193,
    "start_time": "2024-10-08T20:39:27.973Z"
   },
   {
    "duration": 613,
    "start_time": "2024-10-08T20:50:44.076Z"
   },
   {
    "duration": 9,
    "start_time": "2024-10-08T20:53:44.983Z"
   },
   {
    "duration": 8,
    "start_time": "2024-10-08T20:53:48.740Z"
   },
   {
    "duration": 145,
    "start_time": "2024-10-08T20:54:06.836Z"
   },
   {
    "duration": 17,
    "start_time": "2024-10-08T20:55:44.366Z"
   },
   {
    "duration": 28,
    "start_time": "2024-10-08T20:55:55.623Z"
   },
   {
    "duration": 38,
    "start_time": "2024-10-08T20:56:24.781Z"
   },
   {
    "duration": 153,
    "start_time": "2024-10-08T20:58:58.993Z"
   },
   {
    "duration": 8,
    "start_time": "2024-10-08T21:07:30.214Z"
   },
   {
    "duration": 230,
    "start_time": "2024-10-08T21:07:33.419Z"
   },
   {
    "duration": 279,
    "start_time": "2024-10-08T21:13:00.121Z"
   },
   {
    "duration": 127,
    "start_time": "2024-10-08T21:13:01.384Z"
   },
   {
    "duration": 132,
    "start_time": "2024-10-08T21:13:24.814Z"
   },
   {
    "duration": 168,
    "start_time": "2024-10-09T01:46:10.064Z"
   },
   {
    "duration": 2144,
    "start_time": "2024-10-09T01:46:23.478Z"
   },
   {
    "duration": 1055,
    "start_time": "2024-10-09T01:46:25.624Z"
   },
   {
    "duration": 18,
    "start_time": "2024-10-09T01:46:26.683Z"
   },
   {
    "duration": 13,
    "start_time": "2024-10-09T01:46:26.704Z"
   },
   {
    "duration": 30,
    "start_time": "2024-10-09T01:46:26.719Z"
   },
   {
    "duration": 11,
    "start_time": "2024-10-09T01:46:26.751Z"
   },
   {
    "duration": 10,
    "start_time": "2024-10-09T01:46:26.764Z"
   },
   {
    "duration": 122,
    "start_time": "2024-10-09T01:46:26.776Z"
   },
   {
    "duration": 10,
    "start_time": "2024-10-09T01:46:26.900Z"
   },
   {
    "duration": 121,
    "start_time": "2024-10-09T01:46:26.913Z"
   },
   {
    "duration": 91,
    "start_time": "2024-10-09T01:46:27.037Z"
   },
   {
    "duration": 36,
    "start_time": "2024-10-09T01:46:27.129Z"
   },
   {
    "duration": 14,
    "start_time": "2024-10-09T01:46:27.167Z"
   },
   {
    "duration": 5,
    "start_time": "2024-10-09T01:46:27.183Z"
   },
   {
    "duration": 54,
    "start_time": "2024-10-09T01:46:27.190Z"
   },
   {
    "duration": 25,
    "start_time": "2024-10-09T01:46:27.245Z"
   },
   {
    "duration": 4,
    "start_time": "2024-10-09T01:46:27.272Z"
   },
   {
    "duration": 5,
    "start_time": "2024-10-09T01:46:27.278Z"
   },
   {
    "duration": 5,
    "start_time": "2024-10-09T01:46:27.285Z"
   },
   {
    "duration": 4,
    "start_time": "2024-10-09T01:46:27.292Z"
   },
   {
    "duration": 803,
    "start_time": "2024-10-09T01:46:27.298Z"
   },
   {
    "duration": 667,
    "start_time": "2024-10-09T01:46:28.103Z"
   },
   {
    "duration": 7,
    "start_time": "2024-10-09T01:46:28.772Z"
   },
   {
    "duration": 6,
    "start_time": "2024-10-09T01:46:28.781Z"
   },
   {
    "duration": 6,
    "start_time": "2024-10-09T01:46:28.789Z"
   },
   {
    "duration": 6,
    "start_time": "2024-10-09T01:46:28.797Z"
   },
   {
    "duration": 41,
    "start_time": "2024-10-09T01:46:28.805Z"
   },
   {
    "duration": 13,
    "start_time": "2024-10-09T01:46:28.850Z"
   },
   {
    "duration": 29,
    "start_time": "2024-10-09T01:46:28.865Z"
   },
   {
    "duration": 53,
    "start_time": "2024-10-09T01:46:28.896Z"
   },
   {
    "duration": 9,
    "start_time": "2024-10-09T01:46:28.951Z"
   },
   {
    "duration": 83,
    "start_time": "2024-10-09T01:46:28.962Z"
   },
   {
    "duration": 27,
    "start_time": "2024-10-09T01:46:29.047Z"
   },
   {
    "duration": 5,
    "start_time": "2024-10-09T01:46:29.075Z"
   },
   {
    "duration": 5,
    "start_time": "2024-10-09T01:46:29.082Z"
   },
   {
    "duration": 208,
    "start_time": "2024-10-09T01:46:29.088Z"
   },
   {
    "duration": 169,
    "start_time": "2024-10-09T01:46:29.298Z"
   },
   {
    "duration": 192,
    "start_time": "2024-10-09T01:46:39.178Z"
   },
   {
    "duration": 194,
    "start_time": "2024-10-09T01:46:50.821Z"
   },
   {
    "duration": 344,
    "start_time": "2024-10-09T01:46:51.017Z"
   },
   {
    "duration": 323,
    "start_time": "2024-10-09T01:46:51.364Z"
   },
   {
    "duration": 36,
    "start_time": "2024-10-09T01:46:51.689Z"
   },
   {
    "duration": 201,
    "start_time": "2024-10-09T01:46:51.726Z"
   },
   {
    "duration": 18,
    "start_time": "2024-10-09T01:46:51.930Z"
   },
   {
    "duration": 224,
    "start_time": "2024-10-09T01:46:51.950Z"
   },
   {
    "duration": 289,
    "start_time": "2024-10-09T01:46:52.176Z"
   },
   {
    "duration": 137,
    "start_time": "2024-10-09T01:46:52.467Z"
   },
   {
    "duration": 112,
    "start_time": "2024-10-09T01:48:16.300Z"
   },
   {
    "duration": 338,
    "start_time": "2024-10-09T01:48:28.968Z"
   },
   {
    "duration": 169,
    "start_time": "2024-10-09T01:49:52.908Z"
   },
   {
    "duration": 164,
    "start_time": "2024-10-09T01:50:39.561Z"
   },
   {
    "duration": 5,
    "start_time": "2024-10-09T01:51:20.843Z"
   },
   {
    "duration": 36,
    "start_time": "2024-10-09T01:54:12.219Z"
   },
   {
    "duration": 189,
    "start_time": "2024-10-09T01:54:13.948Z"
   },
   {
    "duration": 686,
    "start_time": "2024-10-09T02:01:23.860Z"
   },
   {
    "duration": 8,
    "start_time": "2024-10-09T02:04:28.244Z"
   },
   {
    "duration": 475,
    "start_time": "2024-10-09T02:06:46.241Z"
   },
   {
    "duration": 468,
    "start_time": "2024-10-09T02:06:53.244Z"
   },
   {
    "duration": 5,
    "start_time": "2024-10-09T02:08:09.691Z"
   },
   {
    "duration": 459,
    "start_time": "2024-10-09T02:08:29.591Z"
   },
   {
    "duration": 638,
    "start_time": "2024-10-09T02:13:41.840Z"
   },
   {
    "duration": 235,
    "start_time": "2024-10-09T02:18:12.100Z"
   },
   {
    "duration": 235,
    "start_time": "2024-10-09T02:23:09.641Z"
   },
   {
    "duration": 252,
    "start_time": "2024-10-09T02:31:06.210Z"
   },
   {
    "duration": 267,
    "start_time": "2024-10-09T02:31:06.464Z"
   },
   {
    "duration": 142,
    "start_time": "2024-10-09T02:31:06.734Z"
   },
   {
    "duration": 10,
    "start_time": "2024-10-09T02:31:06.880Z"
   },
   {
    "duration": 4,
    "start_time": "2024-10-09T02:36:29.063Z"
   },
   {
    "duration": 457,
    "start_time": "2024-10-09T02:36:45.894Z"
   },
   {
    "duration": 5,
    "start_time": "2024-10-09T02:36:58.111Z"
   },
   {
    "duration": 4,
    "start_time": "2024-10-09T02:37:03.222Z"
   },
   {
    "duration": 98,
    "start_time": "2024-10-09T02:38:13.278Z"
   },
   {
    "duration": 3,
    "start_time": "2024-10-09T02:38:21.948Z"
   },
   {
    "duration": 884,
    "start_time": "2024-10-09T02:38:21.953Z"
   },
   {
    "duration": 16,
    "start_time": "2024-10-09T02:38:22.838Z"
   },
   {
    "duration": 15,
    "start_time": "2024-10-09T02:38:22.856Z"
   },
   {
    "duration": 10,
    "start_time": "2024-10-09T02:38:22.874Z"
   },
   {
    "duration": 11,
    "start_time": "2024-10-09T02:38:22.886Z"
   },
   {
    "duration": 10,
    "start_time": "2024-10-09T02:38:22.898Z"
   },
   {
    "duration": 101,
    "start_time": "2024-10-09T02:38:22.942Z"
   },
   {
    "duration": 11,
    "start_time": "2024-10-09T02:38:23.045Z"
   },
   {
    "duration": 109,
    "start_time": "2024-10-09T02:38:23.058Z"
   },
   {
    "duration": 80,
    "start_time": "2024-10-09T02:38:23.169Z"
   },
   {
    "duration": 25,
    "start_time": "2024-10-09T02:38:23.251Z"
   },
   {
    "duration": 17,
    "start_time": "2024-10-09T02:38:23.278Z"
   },
   {
    "duration": 7,
    "start_time": "2024-10-09T02:38:23.300Z"
   },
   {
    "duration": 72,
    "start_time": "2024-10-09T02:38:23.309Z"
   },
   {
    "duration": 24,
    "start_time": "2024-10-09T02:38:23.383Z"
   },
   {
    "duration": 4,
    "start_time": "2024-10-09T02:38:23.409Z"
   },
   {
    "duration": 4,
    "start_time": "2024-10-09T02:38:23.414Z"
   },
   {
    "duration": 4,
    "start_time": "2024-10-09T02:38:23.442Z"
   },
   {
    "duration": 6,
    "start_time": "2024-10-09T02:38:23.447Z"
   },
   {
    "duration": 813,
    "start_time": "2024-10-09T02:38:23.454Z"
   },
   {
    "duration": 704,
    "start_time": "2024-10-09T02:38:24.270Z"
   },
   {
    "duration": 8,
    "start_time": "2024-10-09T02:38:24.976Z"
   },
   {
    "duration": 7,
    "start_time": "2024-10-09T02:38:24.986Z"
   },
   {
    "duration": 7,
    "start_time": "2024-10-09T02:38:24.994Z"
   },
   {
    "duration": 7,
    "start_time": "2024-10-09T02:38:25.003Z"
   },
   {
    "duration": 37,
    "start_time": "2024-10-09T02:38:25.012Z"
   },
   {
    "duration": 15,
    "start_time": "2024-10-09T02:38:25.051Z"
   },
   {
    "duration": 30,
    "start_time": "2024-10-09T02:38:25.067Z"
   },
   {
    "duration": 65,
    "start_time": "2024-10-09T02:38:25.100Z"
   },
   {
    "duration": 12,
    "start_time": "2024-10-09T02:38:25.166Z"
   },
   {
    "duration": 85,
    "start_time": "2024-10-09T02:38:25.180Z"
   },
   {
    "duration": 27,
    "start_time": "2024-10-09T02:38:25.267Z"
   },
   {
    "duration": 6,
    "start_time": "2024-10-09T02:38:25.296Z"
   },
   {
    "duration": 6,
    "start_time": "2024-10-09T02:38:25.304Z"
   },
   {
    "duration": 198,
    "start_time": "2024-10-09T02:38:25.312Z"
   },
   {
    "duration": 121,
    "start_time": "2024-10-09T02:38:25.512Z"
   },
   {
    "duration": 213,
    "start_time": "2024-10-09T02:38:25.636Z"
   },
   {
    "duration": 205,
    "start_time": "2024-10-09T02:38:25.851Z"
   },
   {
    "duration": 179,
    "start_time": "2024-10-09T02:38:26.058Z"
   },
   {
    "duration": 41,
    "start_time": "2024-10-09T02:38:26.244Z"
   },
   {
    "duration": 149,
    "start_time": "2024-10-09T02:38:26.287Z"
   },
   {
    "duration": 695,
    "start_time": "2024-10-09T02:38:26.438Z"
   },
   {
    "duration": 461,
    "start_time": "2024-10-09T02:38:27.135Z"
   },
   {
    "duration": 263,
    "start_time": "2024-10-09T02:38:27.598Z"
   },
   {
    "duration": 294,
    "start_time": "2024-10-09T02:38:27.863Z"
   },
   {
    "duration": 159,
    "start_time": "2024-10-09T02:38:28.159Z"
   },
   {
    "duration": 160,
    "start_time": "2024-10-09T02:38:32.311Z"
   },
   {
    "duration": 97,
    "start_time": "2024-10-09T02:40:13.619Z"
   },
   {
    "duration": 550,
    "start_time": "2024-10-09T02:43:55.952Z"
   },
   {
    "duration": 3,
    "start_time": "2024-10-09T02:44:35.998Z"
   },
   {
    "duration": 793,
    "start_time": "2024-10-09T02:44:36.003Z"
   },
   {
    "duration": 15,
    "start_time": "2024-10-09T02:44:36.798Z"
   },
   {
    "duration": 28,
    "start_time": "2024-10-09T02:44:36.816Z"
   },
   {
    "duration": 11,
    "start_time": "2024-10-09T02:44:36.845Z"
   },
   {
    "duration": 11,
    "start_time": "2024-10-09T02:44:36.858Z"
   },
   {
    "duration": 11,
    "start_time": "2024-10-09T02:44:36.870Z"
   },
   {
    "duration": 101,
    "start_time": "2024-10-09T02:44:36.882Z"
   },
   {
    "duration": 10,
    "start_time": "2024-10-09T02:44:36.985Z"
   },
   {
    "duration": 89,
    "start_time": "2024-10-09T02:44:36.997Z"
   },
   {
    "duration": 78,
    "start_time": "2024-10-09T02:44:37.088Z"
   },
   {
    "duration": 22,
    "start_time": "2024-10-09T02:44:37.167Z"
   },
   {
    "duration": 12,
    "start_time": "2024-10-09T02:44:37.191Z"
   },
   {
    "duration": 4,
    "start_time": "2024-10-09T02:44:37.205Z"
   },
   {
    "duration": 55,
    "start_time": "2024-10-09T02:44:37.211Z"
   },
   {
    "duration": 26,
    "start_time": "2024-10-09T02:44:37.268Z"
   },
   {
    "duration": 5,
    "start_time": "2024-10-09T02:44:37.296Z"
   },
   {
    "duration": 5,
    "start_time": "2024-10-09T02:44:37.302Z"
   },
   {
    "duration": 37,
    "start_time": "2024-10-09T02:44:37.309Z"
   },
   {
    "duration": 5,
    "start_time": "2024-10-09T02:44:37.347Z"
   },
   {
    "duration": 722,
    "start_time": "2024-10-09T02:44:37.353Z"
   },
   {
    "duration": 628,
    "start_time": "2024-10-09T02:44:38.077Z"
   },
   {
    "duration": 8,
    "start_time": "2024-10-09T02:44:38.707Z"
   },
   {
    "duration": 6,
    "start_time": "2024-10-09T02:44:38.720Z"
   },
   {
    "duration": 19,
    "start_time": "2024-10-09T02:44:38.727Z"
   },
   {
    "duration": 7,
    "start_time": "2024-10-09T02:44:38.747Z"
   },
   {
    "duration": 6,
    "start_time": "2024-10-09T02:44:38.755Z"
   },
   {
    "duration": 12,
    "start_time": "2024-10-09T02:44:38.763Z"
   },
   {
    "duration": 29,
    "start_time": "2024-10-09T02:44:38.776Z"
   },
   {
    "duration": 71,
    "start_time": "2024-10-09T02:44:38.806Z"
   },
   {
    "duration": 8,
    "start_time": "2024-10-09T02:44:38.878Z"
   },
   {
    "duration": 81,
    "start_time": "2024-10-09T02:44:38.888Z"
   },
   {
    "duration": 28,
    "start_time": "2024-10-09T02:44:38.971Z"
   },
   {
    "duration": 5,
    "start_time": "2024-10-09T02:44:39.001Z"
   },
   {
    "duration": 5,
    "start_time": "2024-10-09T02:44:39.008Z"
   },
   {
    "duration": 198,
    "start_time": "2024-10-09T02:44:39.014Z"
   },
   {
    "duration": 122,
    "start_time": "2024-10-09T02:44:39.214Z"
   },
   {
    "duration": 195,
    "start_time": "2024-10-09T02:44:39.342Z"
   },
   {
    "duration": 166,
    "start_time": "2024-10-09T02:44:39.542Z"
   },
   {
    "duration": 314,
    "start_time": "2024-10-09T02:44:39.710Z"
   },
   {
    "duration": 44,
    "start_time": "2024-10-09T02:44:40.026Z"
   },
   {
    "duration": 133,
    "start_time": "2024-10-09T02:44:40.072Z"
   },
   {
    "duration": 659,
    "start_time": "2024-10-09T02:44:40.206Z"
   },
   {
    "duration": 455,
    "start_time": "2024-10-09T02:44:40.866Z"
   },
   {
    "duration": 241,
    "start_time": "2024-10-09T02:44:41.323Z"
   },
   {
    "duration": 255,
    "start_time": "2024-10-09T02:44:41.566Z"
   },
   {
    "duration": 137,
    "start_time": "2024-10-09T02:44:41.824Z"
   },
   {
    "duration": 61,
    "start_time": "2024-10-09T02:44:46.768Z"
   },
   {
    "duration": 1267,
    "start_time": "2024-10-09T02:47:27.250Z"
   },
   {
    "duration": 414,
    "start_time": "2024-10-09T02:48:32.828Z"
   },
   {
    "duration": 903,
    "start_time": "2024-10-09T02:48:33.244Z"
   },
   {
    "duration": 18,
    "start_time": "2024-10-09T02:48:34.150Z"
   },
   {
    "duration": 13,
    "start_time": "2024-10-09T02:48:34.171Z"
   },
   {
    "duration": 12,
    "start_time": "2024-10-09T02:48:34.186Z"
   },
   {
    "duration": 43,
    "start_time": "2024-10-09T02:48:34.200Z"
   },
   {
    "duration": 10,
    "start_time": "2024-10-09T02:48:34.245Z"
   },
   {
    "duration": 158,
    "start_time": "2024-10-09T02:48:34.257Z"
   },
   {
    "duration": 12,
    "start_time": "2024-10-09T02:48:34.417Z"
   },
   {
    "duration": 119,
    "start_time": "2024-10-09T02:48:34.444Z"
   },
   {
    "duration": 93,
    "start_time": "2024-10-09T02:48:34.565Z"
   },
   {
    "duration": 28,
    "start_time": "2024-10-09T02:48:34.662Z"
   },
   {
    "duration": 12,
    "start_time": "2024-10-09T02:48:34.692Z"
   },
   {
    "duration": 5,
    "start_time": "2024-10-09T02:48:34.706Z"
   },
   {
    "duration": 60,
    "start_time": "2024-10-09T02:48:34.713Z"
   },
   {
    "duration": 23,
    "start_time": "2024-10-09T02:48:34.774Z"
   },
   {
    "duration": 4,
    "start_time": "2024-10-09T02:48:34.799Z"
   },
   {
    "duration": 4,
    "start_time": "2024-10-09T02:48:34.805Z"
   },
   {
    "duration": 32,
    "start_time": "2024-10-09T02:48:34.811Z"
   },
   {
    "duration": 4,
    "start_time": "2024-10-09T02:48:34.845Z"
   },
   {
    "duration": 862,
    "start_time": "2024-10-09T02:48:34.850Z"
   },
   {
    "duration": 727,
    "start_time": "2024-10-09T02:48:35.714Z"
   },
   {
    "duration": 8,
    "start_time": "2024-10-09T02:48:36.443Z"
   },
   {
    "duration": 6,
    "start_time": "2024-10-09T02:48:36.453Z"
   },
   {
    "duration": 7,
    "start_time": "2024-10-09T02:48:36.462Z"
   },
   {
    "duration": 8,
    "start_time": "2024-10-09T02:48:36.470Z"
   },
   {
    "duration": 8,
    "start_time": "2024-10-09T02:48:36.480Z"
   },
   {
    "duration": 49,
    "start_time": "2024-10-09T02:48:36.494Z"
   },
   {
    "duration": 32,
    "start_time": "2024-10-09T02:48:36.546Z"
   },
   {
    "duration": 34,
    "start_time": "2024-10-09T02:48:36.580Z"
   },
   {
    "duration": 27,
    "start_time": "2024-10-09T02:48:36.616Z"
   },
   {
    "duration": 68,
    "start_time": "2024-10-09T02:48:36.644Z"
   },
   {
    "duration": 44,
    "start_time": "2024-10-09T02:48:36.713Z"
   },
   {
    "duration": 6,
    "start_time": "2024-10-09T02:48:36.759Z"
   },
   {
    "duration": 5,
    "start_time": "2024-10-09T02:48:36.766Z"
   },
   {
    "duration": 207,
    "start_time": "2024-10-09T02:48:36.772Z"
   },
   {
    "duration": 123,
    "start_time": "2024-10-09T02:48:36.981Z"
   },
   {
    "duration": 206,
    "start_time": "2024-10-09T02:48:37.106Z"
   },
   {
    "duration": 196,
    "start_time": "2024-10-09T02:48:37.313Z"
   },
   {
    "duration": 206,
    "start_time": "2024-10-09T02:48:37.511Z"
   },
   {
    "duration": 53,
    "start_time": "2024-10-09T02:48:37.718Z"
   },
   {
    "duration": 138,
    "start_time": "2024-10-09T02:48:37.773Z"
   },
   {
    "duration": 753,
    "start_time": "2024-10-09T02:48:37.913Z"
   },
   {
    "duration": 515,
    "start_time": "2024-10-09T02:48:38.668Z"
   },
   {
    "duration": 283,
    "start_time": "2024-10-09T02:48:39.188Z"
   },
   {
    "duration": 282,
    "start_time": "2024-10-09T02:48:39.473Z"
   },
   {
    "duration": 141,
    "start_time": "2024-10-09T02:48:39.756Z"
   },
   {
    "duration": 1867,
    "start_time": "2024-10-09T02:48:39.899Z"
   },
   {
    "duration": 94,
    "start_time": "2024-10-09T02:49:02.520Z"
   },
   {
    "duration": 97,
    "start_time": "2024-10-09T02:49:41.918Z"
   },
   {
    "duration": 442,
    "start_time": "2024-10-09T02:52:42.518Z"
   },
   {
    "duration": 12,
    "start_time": "2024-10-09T02:59:58.755Z"
   },
   {
    "duration": 372,
    "start_time": "2024-10-09T03:00:17.883Z"
   },
   {
    "duration": 377,
    "start_time": "2024-10-09T03:00:21.679Z"
   },
   {
    "duration": 373,
    "start_time": "2024-10-09T03:00:39.654Z"
   },
   {
    "duration": 3,
    "start_time": "2024-10-09T03:00:41.532Z"
   },
   {
    "duration": 201,
    "start_time": "2024-10-09T03:00:45.878Z"
   },
   {
    "duration": 194,
    "start_time": "2024-10-09T03:01:25.661Z"
   },
   {
    "duration": 209,
    "start_time": "2024-10-09T03:02:21.402Z"
   },
   {
    "duration": 488,
    "start_time": "2024-10-09T03:17:24.242Z"
   },
   {
    "duration": 14,
    "start_time": "2024-10-09T03:29:18.964Z"
   },
   {
    "duration": 23,
    "start_time": "2024-10-09T03:30:27.476Z"
   },
   {
    "duration": 19,
    "start_time": "2024-10-09T03:31:23.757Z"
   },
   {
    "duration": 19,
    "start_time": "2024-10-09T03:32:00.198Z"
   },
   {
    "duration": 18,
    "start_time": "2024-10-09T03:33:45.949Z"
   },
   {
    "duration": 22,
    "start_time": "2024-10-09T03:38:14.929Z"
   },
   {
    "duration": 1345,
    "start_time": "2024-10-09T03:39:12.719Z"
   },
   {
    "duration": 94,
    "start_time": "2024-10-09T03:39:55.503Z"
   },
   {
    "duration": 164,
    "start_time": "2024-10-09T03:47:59.506Z"
   },
   {
    "duration": 19,
    "start_time": "2024-10-09T03:48:37.361Z"
   },
   {
    "duration": 14,
    "start_time": "2024-10-09T03:48:47.036Z"
   },
   {
    "duration": 19,
    "start_time": "2024-10-09T03:49:20.818Z"
   },
   {
    "duration": 148,
    "start_time": "2024-10-09T03:53:02.674Z"
   },
   {
    "duration": 84,
    "start_time": "2024-10-09T03:53:06.257Z"
   },
   {
    "duration": 7,
    "start_time": "2024-10-09T03:53:08.681Z"
   },
   {
    "duration": 161,
    "start_time": "2024-10-09T14:21:55.807Z"
   },
   {
    "duration": 12,
    "start_time": "2024-10-09T14:22:00.469Z"
   },
   {
    "duration": 2107,
    "start_time": "2024-10-09T14:22:03.470Z"
   },
   {
    "duration": 2,
    "start_time": "2024-10-09T14:22:07.128Z"
   },
   {
    "duration": 1068,
    "start_time": "2024-10-09T14:22:09.247Z"
   },
   {
    "duration": 17,
    "start_time": "2024-10-09T14:22:13.800Z"
   },
   {
    "duration": 12,
    "start_time": "2024-10-09T14:22:49.305Z"
   },
   {
    "duration": 12,
    "start_time": "2024-10-09T14:22:59.042Z"
   },
   {
    "duration": 11,
    "start_time": "2024-10-09T14:23:08.633Z"
   },
   {
    "duration": 13,
    "start_time": "2024-10-09T14:23:16.149Z"
   }
  ],
  "colab": {
   "provenance": []
  },
  "kernelspec": {
   "display_name": "Python 3 (ipykernel)",
   "language": "python",
   "name": "python3"
  },
  "language_info": {
   "codemirror_mode": {
    "name": "ipython",
    "version": 3
   },
   "file_extension": ".py",
   "mimetype": "text/x-python",
   "name": "python",
   "nbconvert_exporter": "python",
   "pygments_lexer": "ipython3",
   "version": "3.9.19"
  },
  "toc": {
   "base_numbering": 1,
   "nav_menu": {},
   "number_sections": true,
   "sideBar": true,
   "skip_h1_title": true,
   "title_cell": "Table of Contents",
   "title_sidebar": "Contents",
   "toc_cell": false,
   "toc_position": {},
   "toc_section_display": true,
   "toc_window_display": false
  },
  "vscode": {
   "interpreter": {
    "hash": "01a7be9ec63e704a62cefc5fe7a4756944464ee731be31632bdf42a4cb4688cf"
   }
  }
 },
 "nbformat": 4,
 "nbformat_minor": 5
}
