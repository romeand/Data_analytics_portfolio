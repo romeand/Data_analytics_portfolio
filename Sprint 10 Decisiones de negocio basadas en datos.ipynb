{
 "cells": [
  {
   "cell_type": "markdown",
   "metadata": {},
   "source": [
    "Hola **Andrés**!\n",
    "\n",
    "Soy **Patricio Requena** 👋. Es un placer ser el revisor de tu proyecto el día de hoy!\n",
    "\n",
    "Revisaré tu proyecto detenidamente con el objetivo de ayudarte a mejorar y perfeccionar tus habilidades. Durante mi revisión, identificaré áreas donde puedas hacer mejoras en tu código, señalando específicamente qué y cómo podrías ajustar para optimizar el rendimiento y la claridad de tu proyecto. Además, es importante para mí destacar los aspectos que has manejado excepcionalmente bien. Reconocer tus fortalezas te ayudará a entender qué técnicas y métodos están funcionando a tu favor y cómo puedes aplicarlos en futuras tareas. \n",
    "\n",
    "_**Recuerda que al final de este notebook encontrarás un comentario general de mi parte**_, empecemos!\n",
    "\n",
    "Encontrarás mis comentarios dentro de cajas verdes, amarillas o rojas, ⚠️ **por favor, no muevas, modifiques o borres mis comentarios** ⚠️:\n",
    "\n",
    "\n",
    "<div class=\"alert alert-block alert-success\">\n",
    "<b>Comentario del revisor</b> <a class=“tocSkip”></a>\n",
    "Si todo está perfecto.\n",
    "</div>\n",
    "\n",
    "<div class=\"alert alert-block alert-warning\">\n",
    "<b>Comentario del revisor</b> <a class=“tocSkip”></a>\n",
    "Si tu código está bien pero se puede mejorar o hay algún detalle que le hace falta.\n",
    "</div>\n",
    "\n",
    "<div class=\"alert alert-block alert-danger\">\n",
    "<b>Comentario del revisor</b> <a class=“tocSkip”></a>\n",
    "Si de pronto hace falta algo o existe algún problema con tu código o conclusiones.\n",
    "</div>\n",
    "\n",
    "Puedes responderme de esta forma:\n",
    "<div class=\"alert alert-block alert-info\">\n",
    "<b>Respuesta del estudiante</b> <a class=“tocSkip”></a>\n",
    "</div>"
   ]
  },
  {
   "cell_type": "markdown",
   "metadata": {},
   "source": [
    "# Paso 1. Carga de librerias y exploración inicial de datos."
   ]
  },
  {
   "cell_type": "code",
   "execution_count": 132,
   "metadata": {},
   "outputs": [],
   "source": [
    "import pandas as pd\n",
    "import seaborn as sns\n",
    "import matplotlib.pyplot as plt\n",
    "import numpy as np\n",
    "from scipy import stats as st"
   ]
  },
  {
   "cell_type": "code",
   "execution_count": 133,
   "metadata": {},
   "outputs": [],
   "source": [
    "#Cargamos los datos como DF.\n",
    "hypo = pd.read_csv('/datasets/hypotheses_us.csv')\n",
    "orders = pd.read_csv('/datasets/orders_us.csv')\n",
    "visits = pd.read_csv('/datasets/visits_us.csv')\n"
   ]
  },
  {
   "cell_type": "code",
   "execution_count": 134,
   "metadata": {},
   "outputs": [
    {
     "name": "stdout",
     "output_type": "stream",
     "text": [
      "<class 'pandas.core.frame.DataFrame'>\n",
      "RangeIndex: 9 entries, 0 to 8\n",
      "Data columns (total 1 columns):\n",
      " #   Column                                     Non-Null Count  Dtype \n",
      "---  ------                                     --------------  ----- \n",
      " 0   Hypothesis;Reach;Impact;Confidence;Effort  9 non-null      object\n",
      "dtypes: object(1)\n",
      "memory usage: 200.0+ bytes\n"
     ]
    },
    {
     "data": {
      "text/html": [
       "<div>\n",
       "<style scoped>\n",
       "    .dataframe tbody tr th:only-of-type {\n",
       "        vertical-align: middle;\n",
       "    }\n",
       "\n",
       "    .dataframe tbody tr th {\n",
       "        vertical-align: top;\n",
       "    }\n",
       "\n",
       "    .dataframe thead th {\n",
       "        text-align: right;\n",
       "    }\n",
       "</style>\n",
       "<table border=\"1\" class=\"dataframe\">\n",
       "  <thead>\n",
       "    <tr style=\"text-align: right;\">\n",
       "      <th></th>\n",
       "      <th>Hypothesis;Reach;Impact;Confidence;Effort</th>\n",
       "    </tr>\n",
       "  </thead>\n",
       "  <tbody>\n",
       "    <tr>\n",
       "      <th>0</th>\n",
       "      <td>Add two new channels for attracting traffic. T...</td>\n",
       "    </tr>\n",
       "    <tr>\n",
       "      <th>1</th>\n",
       "      <td>Launch your own delivery service. This will sh...</td>\n",
       "    </tr>\n",
       "    <tr>\n",
       "      <th>2</th>\n",
       "      <td>Add product recommendation blocks to the store...</td>\n",
       "    </tr>\n",
       "    <tr>\n",
       "      <th>3</th>\n",
       "      <td>Change the category structure. This will incre...</td>\n",
       "    </tr>\n",
       "    <tr>\n",
       "      <th>4</th>\n",
       "      <td>Change the background color on the main page. ...</td>\n",
       "    </tr>\n",
       "  </tbody>\n",
       "</table>\n",
       "</div>"
      ],
      "text/plain": [
       "           Hypothesis;Reach;Impact;Confidence;Effort\n",
       "0  Add two new channels for attracting traffic. T...\n",
       "1  Launch your own delivery service. This will sh...\n",
       "2  Add product recommendation blocks to the store...\n",
       "3  Change the category structure. This will incre...\n",
       "4  Change the background color on the main page. ..."
      ]
     },
     "execution_count": 134,
     "metadata": {},
     "output_type": "execute_result"
    }
   ],
   "source": [
    "#Realizamos la exploración inicial de los datos.\n",
    "\n",
    "hypo.info()\n",
    "hypo.head()"
   ]
  },
  {
   "cell_type": "markdown",
   "metadata": {},
   "source": [
    "Como primera observación detectamos que en el archivo csv, no se encuentran los datos separados por coma estándard, por lo que procesaremos el archivo con ; como separador."
   ]
  },
  {
   "cell_type": "code",
   "execution_count": 135,
   "metadata": {},
   "outputs": [
    {
     "name": "stdout",
     "output_type": "stream",
     "text": [
      "<class 'pandas.core.frame.DataFrame'>\n",
      "RangeIndex: 9 entries, 0 to 8\n",
      "Data columns (total 5 columns):\n",
      " #   Column      Non-Null Count  Dtype \n",
      "---  ------      --------------  ----- \n",
      " 0   Hypothesis  9 non-null      object\n",
      " 1   Reach       9 non-null      int64 \n",
      " 2   Impact      9 non-null      int64 \n",
      " 3   Confidence  9 non-null      int64 \n",
      " 4   Effort      9 non-null      int64 \n",
      "dtypes: int64(4), object(1)\n",
      "memory usage: 488.0+ bytes\n"
     ]
    },
    {
     "data": {
      "text/html": [
       "<div>\n",
       "<style scoped>\n",
       "    .dataframe tbody tr th:only-of-type {\n",
       "        vertical-align: middle;\n",
       "    }\n",
       "\n",
       "    .dataframe tbody tr th {\n",
       "        vertical-align: top;\n",
       "    }\n",
       "\n",
       "    .dataframe thead th {\n",
       "        text-align: right;\n",
       "    }\n",
       "</style>\n",
       "<table border=\"1\" class=\"dataframe\">\n",
       "  <thead>\n",
       "    <tr style=\"text-align: right;\">\n",
       "      <th></th>\n",
       "      <th>Hypothesis</th>\n",
       "      <th>Reach</th>\n",
       "      <th>Impact</th>\n",
       "      <th>Confidence</th>\n",
       "      <th>Effort</th>\n",
       "    </tr>\n",
       "  </thead>\n",
       "  <tbody>\n",
       "    <tr>\n",
       "      <th>0</th>\n",
       "      <td>Add two new channels for attracting traffic. T...</td>\n",
       "      <td>3</td>\n",
       "      <td>10</td>\n",
       "      <td>8</td>\n",
       "      <td>6</td>\n",
       "    </tr>\n",
       "    <tr>\n",
       "      <th>1</th>\n",
       "      <td>Launch your own delivery service. This will sh...</td>\n",
       "      <td>2</td>\n",
       "      <td>5</td>\n",
       "      <td>4</td>\n",
       "      <td>10</td>\n",
       "    </tr>\n",
       "    <tr>\n",
       "      <th>2</th>\n",
       "      <td>Add product recommendation blocks to the store...</td>\n",
       "      <td>8</td>\n",
       "      <td>3</td>\n",
       "      <td>7</td>\n",
       "      <td>3</td>\n",
       "    </tr>\n",
       "    <tr>\n",
       "      <th>3</th>\n",
       "      <td>Change the category structure. This will incre...</td>\n",
       "      <td>8</td>\n",
       "      <td>3</td>\n",
       "      <td>3</td>\n",
       "      <td>8</td>\n",
       "    </tr>\n",
       "    <tr>\n",
       "      <th>4</th>\n",
       "      <td>Change the background color on the main page. ...</td>\n",
       "      <td>3</td>\n",
       "      <td>1</td>\n",
       "      <td>1</td>\n",
       "      <td>1</td>\n",
       "    </tr>\n",
       "  </tbody>\n",
       "</table>\n",
       "</div>"
      ],
      "text/plain": [
       "                                          Hypothesis  Reach  Impact  \\\n",
       "0  Add two new channels for attracting traffic. T...      3      10   \n",
       "1  Launch your own delivery service. This will sh...      2       5   \n",
       "2  Add product recommendation blocks to the store...      8       3   \n",
       "3  Change the category structure. This will incre...      8       3   \n",
       "4  Change the background color on the main page. ...      3       1   \n",
       "\n",
       "   Confidence  Effort  \n",
       "0           8       6  \n",
       "1           4      10  \n",
       "2           7       3  \n",
       "3           3       8  \n",
       "4           1       1  "
      ]
     },
     "execution_count": 135,
     "metadata": {},
     "output_type": "execute_result"
    }
   ],
   "source": [
    "hypo = pd.read_csv('/datasets/hypotheses_us.csv', sep=';')\n",
    "hypo.info()\n",
    "hypo.head()"
   ]
  },
  {
   "cell_type": "markdown",
   "metadata": {},
   "source": [
    "Parece que no tenemos datos ausentes, y parecen el tipo correcto de datos."
   ]
  },
  {
   "cell_type": "code",
   "execution_count": 136,
   "metadata": {},
   "outputs": [
    {
     "name": "stdout",
     "output_type": "stream",
     "text": [
      "<class 'pandas.core.frame.DataFrame'>\n",
      "RangeIndex: 1197 entries, 0 to 1196\n",
      "Data columns (total 5 columns):\n",
      " #   Column         Non-Null Count  Dtype  \n",
      "---  ------         --------------  -----  \n",
      " 0   transactionId  1197 non-null   int64  \n",
      " 1   visitorId      1197 non-null   int64  \n",
      " 2   date           1197 non-null   object \n",
      " 3   revenue        1197 non-null   float64\n",
      " 4   group          1197 non-null   object \n",
      "dtypes: float64(1), int64(2), object(2)\n",
      "memory usage: 46.9+ KB\n"
     ]
    },
    {
     "data": {
      "text/html": [
       "<div>\n",
       "<style scoped>\n",
       "    .dataframe tbody tr th:only-of-type {\n",
       "        vertical-align: middle;\n",
       "    }\n",
       "\n",
       "    .dataframe tbody tr th {\n",
       "        vertical-align: top;\n",
       "    }\n",
       "\n",
       "    .dataframe thead th {\n",
       "        text-align: right;\n",
       "    }\n",
       "</style>\n",
       "<table border=\"1\" class=\"dataframe\">\n",
       "  <thead>\n",
       "    <tr style=\"text-align: right;\">\n",
       "      <th></th>\n",
       "      <th>transactionId</th>\n",
       "      <th>visitorId</th>\n",
       "      <th>date</th>\n",
       "      <th>revenue</th>\n",
       "      <th>group</th>\n",
       "    </tr>\n",
       "  </thead>\n",
       "  <tbody>\n",
       "    <tr>\n",
       "      <th>0</th>\n",
       "      <td>3667963787</td>\n",
       "      <td>3312258926</td>\n",
       "      <td>2019-08-15</td>\n",
       "      <td>30.4</td>\n",
       "      <td>B</td>\n",
       "    </tr>\n",
       "    <tr>\n",
       "      <th>1</th>\n",
       "      <td>2804400009</td>\n",
       "      <td>3642806036</td>\n",
       "      <td>2019-08-15</td>\n",
       "      <td>15.2</td>\n",
       "      <td>B</td>\n",
       "    </tr>\n",
       "    <tr>\n",
       "      <th>2</th>\n",
       "      <td>2961555356</td>\n",
       "      <td>4069496402</td>\n",
       "      <td>2019-08-15</td>\n",
       "      <td>10.2</td>\n",
       "      <td>A</td>\n",
       "    </tr>\n",
       "    <tr>\n",
       "      <th>3</th>\n",
       "      <td>3797467345</td>\n",
       "      <td>1196621759</td>\n",
       "      <td>2019-08-15</td>\n",
       "      <td>155.1</td>\n",
       "      <td>B</td>\n",
       "    </tr>\n",
       "    <tr>\n",
       "      <th>4</th>\n",
       "      <td>2282983706</td>\n",
       "      <td>2322279887</td>\n",
       "      <td>2019-08-15</td>\n",
       "      <td>40.5</td>\n",
       "      <td>B</td>\n",
       "    </tr>\n",
       "  </tbody>\n",
       "</table>\n",
       "</div>"
      ],
      "text/plain": [
       "   transactionId   visitorId        date  revenue group\n",
       "0     3667963787  3312258926  2019-08-15     30.4     B\n",
       "1     2804400009  3642806036  2019-08-15     15.2     B\n",
       "2     2961555356  4069496402  2019-08-15     10.2     A\n",
       "3     3797467345  1196621759  2019-08-15    155.1     B\n",
       "4     2282983706  2322279887  2019-08-15     40.5     B"
      ]
     },
     "execution_count": 136,
     "metadata": {},
     "output_type": "execute_result"
    }
   ],
   "source": [
    "orders.info()\n",
    "orders.head()"
   ]
  },
  {
   "cell_type": "markdown",
   "metadata": {},
   "source": [
    "En este DF nuevamente no parece que tengamos datos ausentes y hacemos nota que la columna de date se encuentra en object."
   ]
  },
  {
   "cell_type": "code",
   "execution_count": 137,
   "metadata": {
    "scrolled": true
   },
   "outputs": [
    {
     "name": "stdout",
     "output_type": "stream",
     "text": [
      "<class 'pandas.core.frame.DataFrame'>\n",
      "RangeIndex: 62 entries, 0 to 61\n",
      "Data columns (total 3 columns):\n",
      " #   Column  Non-Null Count  Dtype \n",
      "---  ------  --------------  ----- \n",
      " 0   date    62 non-null     object\n",
      " 1   group   62 non-null     object\n",
      " 2   visits  62 non-null     int64 \n",
      "dtypes: int64(1), object(2)\n",
      "memory usage: 1.6+ KB\n"
     ]
    },
    {
     "data": {
      "text/html": [
       "<div>\n",
       "<style scoped>\n",
       "    .dataframe tbody tr th:only-of-type {\n",
       "        vertical-align: middle;\n",
       "    }\n",
       "\n",
       "    .dataframe tbody tr th {\n",
       "        vertical-align: top;\n",
       "    }\n",
       "\n",
       "    .dataframe thead th {\n",
       "        text-align: right;\n",
       "    }\n",
       "</style>\n",
       "<table border=\"1\" class=\"dataframe\">\n",
       "  <thead>\n",
       "    <tr style=\"text-align: right;\">\n",
       "      <th></th>\n",
       "      <th>date</th>\n",
       "      <th>group</th>\n",
       "      <th>visits</th>\n",
       "    </tr>\n",
       "  </thead>\n",
       "  <tbody>\n",
       "    <tr>\n",
       "      <th>0</th>\n",
       "      <td>2019-08-01</td>\n",
       "      <td>A</td>\n",
       "      <td>719</td>\n",
       "    </tr>\n",
       "    <tr>\n",
       "      <th>1</th>\n",
       "      <td>2019-08-02</td>\n",
       "      <td>A</td>\n",
       "      <td>619</td>\n",
       "    </tr>\n",
       "    <tr>\n",
       "      <th>2</th>\n",
       "      <td>2019-08-03</td>\n",
       "      <td>A</td>\n",
       "      <td>507</td>\n",
       "    </tr>\n",
       "    <tr>\n",
       "      <th>3</th>\n",
       "      <td>2019-08-04</td>\n",
       "      <td>A</td>\n",
       "      <td>717</td>\n",
       "    </tr>\n",
       "    <tr>\n",
       "      <th>4</th>\n",
       "      <td>2019-08-05</td>\n",
       "      <td>A</td>\n",
       "      <td>756</td>\n",
       "    </tr>\n",
       "  </tbody>\n",
       "</table>\n",
       "</div>"
      ],
      "text/plain": [
       "         date group  visits\n",
       "0  2019-08-01     A     719\n",
       "1  2019-08-02     A     619\n",
       "2  2019-08-03     A     507\n",
       "3  2019-08-04     A     717\n",
       "4  2019-08-05     A     756"
      ]
     },
     "execution_count": 137,
     "metadata": {},
     "output_type": "execute_result"
    }
   ],
   "source": [
    "visits.info()\n",
    "visits.head()"
   ]
  },
  {
   "cell_type": "markdown",
   "metadata": {},
   "source": [
    "Tampoco parece que presentemos datos ausentes en el Df de visits, y al igual que el anterior observamos la columna de date en tipo object."
   ]
  },
  {
   "cell_type": "markdown",
   "metadata": {},
   "source": [
    "# 1.1 Optimización de datos"
   ]
  },
  {
   "cell_type": "code",
   "execution_count": 138,
   "metadata": {},
   "outputs": [
    {
     "name": "stdout",
     "output_type": "stream",
     "text": [
      "Index(['hypothesis', 'reach', 'impact', 'confidence', 'effort'], dtype='object')\n",
      "\n",
      "Index(['transactionid', 'visitorid', 'date', 'revenue', 'group'], dtype='object')\n"
     ]
    }
   ],
   "source": [
    "#Como buena práctica renombramos las columnas a minúsculas en los Df que lo requieren.\n",
    "\n",
    "hypo_columns = {\n",
    "    \"Hypothesis\":\"hypothesis\",\n",
    "    \"Reach\":\"reach\",\n",
    "    \"Impact\":\"impact\",\n",
    "    \"Confidence\":\"confidence\",\n",
    "    \"Effort\":\"effort\",\n",
    "}\n",
    "\n",
    "orders_columns = {\n",
    "    \"transactionId\":\"transactionid\",\n",
    "    \"visitorId\":\"visitorid\",\n",
    "    \"date\":\"date\",\n",
    "    \"revenue\":\"revenue\",\n",
    "    \"group\":\"group\",\n",
    "}\n",
    "\n",
    "hypo.rename(columns = hypo_columns, inplace = True)\n",
    "orders.rename(columns = orders_columns, inplace = True)\n",
    "\n",
    "print(hypo.columns)\n",
    "print()\n",
    "print(orders.columns)"
   ]
  },
  {
   "cell_type": "code",
   "execution_count": 139,
   "metadata": {},
   "outputs": [
    {
     "data": {
      "text/plain": [
       "hypothesis    0\n",
       "reach         0\n",
       "impact        0\n",
       "confidence    0\n",
       "effort        0\n",
       "dtype: int64"
      ]
     },
     "execution_count": 139,
     "metadata": {},
     "output_type": "execute_result"
    }
   ],
   "source": [
    "#Procedemos a revisar si tenemos Nans o duplicados en algunas de las columnas y filas de nuestros 3 dataframes.\n",
    "\n",
    "hypo[['hypothesis', 'reach', 'impact', 'confidence', 'effort']].isna().sum()"
   ]
  },
  {
   "cell_type": "code",
   "execution_count": 140,
   "metadata": {},
   "outputs": [
    {
     "data": {
      "text/plain": [
       "0"
      ]
     },
     "execution_count": 140,
     "metadata": {},
     "output_type": "execute_result"
    }
   ],
   "source": [
    "hypo[['hypothesis', 'reach', 'impact', 'confidence', 'effort']].duplicated().sum()"
   ]
  },
  {
   "cell_type": "code",
   "execution_count": 141,
   "metadata": {},
   "outputs": [
    {
     "data": {
      "text/plain": [
       "transactionid    0\n",
       "visitorid        0\n",
       "date             0\n",
       "revenue          0\n",
       "group            0\n",
       "dtype: int64"
      ]
     },
     "execution_count": 141,
     "metadata": {},
     "output_type": "execute_result"
    }
   ],
   "source": [
    "orders[['transactionid', 'visitorid', 'date', 'revenue', 'group']].isna().sum()"
   ]
  },
  {
   "cell_type": "code",
   "execution_count": 142,
   "metadata": {},
   "outputs": [
    {
     "data": {
      "text/plain": [
       "0"
      ]
     },
     "execution_count": 142,
     "metadata": {},
     "output_type": "execute_result"
    }
   ],
   "source": [
    "orders[['transactionid', 'visitorid', 'date', 'revenue', 'group']].duplicated().sum()"
   ]
  },
  {
   "cell_type": "code",
   "execution_count": 143,
   "metadata": {},
   "outputs": [
    {
     "data": {
      "text/plain": [
       "date      0\n",
       "group     0\n",
       "visits    0\n",
       "dtype: int64"
      ]
     },
     "execution_count": 143,
     "metadata": {},
     "output_type": "execute_result"
    }
   ],
   "source": [
    "visits[['date','group','visits']].isna().sum()"
   ]
  },
  {
   "cell_type": "code",
   "execution_count": 144,
   "metadata": {},
   "outputs": [
    {
     "data": {
      "text/plain": [
       "0"
      ]
     },
     "execution_count": 144,
     "metadata": {},
     "output_type": "execute_result"
    }
   ],
   "source": [
    "visits[['date','group','visits']].duplicated().sum()"
   ]
  },
  {
   "cell_type": "markdown",
   "metadata": {},
   "source": [
    "# Priorización de hipótesis con data wrangling."
   ]
  },
  {
   "cell_type": "code",
   "execution_count": 145,
   "metadata": {},
   "outputs": [
    {
     "data": {
      "text/html": [
       "<div>\n",
       "<style scoped>\n",
       "    .dataframe tbody tr th:only-of-type {\n",
       "        vertical-align: middle;\n",
       "    }\n",
       "\n",
       "    .dataframe tbody tr th {\n",
       "        vertical-align: top;\n",
       "    }\n",
       "\n",
       "    .dataframe thead th {\n",
       "        text-align: right;\n",
       "    }\n",
       "</style>\n",
       "<table border=\"1\" class=\"dataframe\">\n",
       "  <thead>\n",
       "    <tr style=\"text-align: right;\">\n",
       "      <th></th>\n",
       "      <th>hypothesis</th>\n",
       "      <th>reach</th>\n",
       "      <th>impact</th>\n",
       "      <th>confidence</th>\n",
       "      <th>effort</th>\n",
       "      <th>ice</th>\n",
       "    </tr>\n",
       "  </thead>\n",
       "  <tbody>\n",
       "    <tr>\n",
       "      <th>8</th>\n",
       "      <td>Launch a promotion that gives users discounts ...</td>\n",
       "      <td>1</td>\n",
       "      <td>9</td>\n",
       "      <td>9</td>\n",
       "      <td>5</td>\n",
       "      <td>16.200000</td>\n",
       "    </tr>\n",
       "    <tr>\n",
       "      <th>0</th>\n",
       "      <td>Add two new channels for attracting traffic. T...</td>\n",
       "      <td>3</td>\n",
       "      <td>10</td>\n",
       "      <td>8</td>\n",
       "      <td>6</td>\n",
       "      <td>13.333333</td>\n",
       "    </tr>\n",
       "    <tr>\n",
       "      <th>7</th>\n",
       "      <td>Add a subscription form to all the main pages....</td>\n",
       "      <td>10</td>\n",
       "      <td>7</td>\n",
       "      <td>8</td>\n",
       "      <td>5</td>\n",
       "      <td>11.200000</td>\n",
       "    </tr>\n",
       "    <tr>\n",
       "      <th>6</th>\n",
       "      <td>Show banners with current offers and sales on ...</td>\n",
       "      <td>5</td>\n",
       "      <td>3</td>\n",
       "      <td>8</td>\n",
       "      <td>3</td>\n",
       "      <td>8.000000</td>\n",
       "    </tr>\n",
       "    <tr>\n",
       "      <th>2</th>\n",
       "      <td>Add product recommendation blocks to the store...</td>\n",
       "      <td>8</td>\n",
       "      <td>3</td>\n",
       "      <td>7</td>\n",
       "      <td>3</td>\n",
       "      <td>7.000000</td>\n",
       "    </tr>\n",
       "    <tr>\n",
       "      <th>1</th>\n",
       "      <td>Launch your own delivery service. This will sh...</td>\n",
       "      <td>2</td>\n",
       "      <td>5</td>\n",
       "      <td>4</td>\n",
       "      <td>10</td>\n",
       "      <td>2.000000</td>\n",
       "    </tr>\n",
       "    <tr>\n",
       "      <th>5</th>\n",
       "      <td>Add a customer review page. This will increase...</td>\n",
       "      <td>3</td>\n",
       "      <td>2</td>\n",
       "      <td>2</td>\n",
       "      <td>3</td>\n",
       "      <td>1.333333</td>\n",
       "    </tr>\n",
       "    <tr>\n",
       "      <th>3</th>\n",
       "      <td>Change the category structure. This will incre...</td>\n",
       "      <td>8</td>\n",
       "      <td>3</td>\n",
       "      <td>3</td>\n",
       "      <td>8</td>\n",
       "      <td>1.125000</td>\n",
       "    </tr>\n",
       "    <tr>\n",
       "      <th>4</th>\n",
       "      <td>Change the background color on the main page. ...</td>\n",
       "      <td>3</td>\n",
       "      <td>1</td>\n",
       "      <td>1</td>\n",
       "      <td>1</td>\n",
       "      <td>1.000000</td>\n",
       "    </tr>\n",
       "  </tbody>\n",
       "</table>\n",
       "</div>"
      ],
      "text/plain": [
       "                                          hypothesis  reach  impact  \\\n",
       "8  Launch a promotion that gives users discounts ...      1       9   \n",
       "0  Add two new channels for attracting traffic. T...      3      10   \n",
       "7  Add a subscription form to all the main pages....     10       7   \n",
       "6  Show banners with current offers and sales on ...      5       3   \n",
       "2  Add product recommendation blocks to the store...      8       3   \n",
       "1  Launch your own delivery service. This will sh...      2       5   \n",
       "5  Add a customer review page. This will increase...      3       2   \n",
       "3  Change the category structure. This will incre...      8       3   \n",
       "4  Change the background color on the main page. ...      3       1   \n",
       "\n",
       "   confidence  effort        ice  \n",
       "8           9       5  16.200000  \n",
       "0           8       6  13.333333  \n",
       "7           8       5  11.200000  \n",
       "6           8       3   8.000000  \n",
       "2           7       3   7.000000  \n",
       "1           4      10   2.000000  \n",
       "5           2       3   1.333333  \n",
       "3           3       8   1.125000  \n",
       "4           1       1   1.000000  "
      ]
     },
     "execution_count": 145,
     "metadata": {},
     "output_type": "execute_result"
    }
   ],
   "source": [
    "#Comprobado que no tenemos Nans ni duplicados procedemos a comenzar a trabajar nuestras tablas intermedias para agregar columnas que nos puedan ser útiles para el análisis de hipotesis.\n",
    "#Como primer paso agregaremos una columna con el cálculo de ICE para cada variable:\n",
    "\n",
    "hypo['ice'] = hypo['impact'] * hypo['confidence'] / hypo['effort']\n",
    "ice_ranking = hypo.sort_values('ice', ascending = False)\n",
    "ice_ranking"
   ]
  },
  {
   "cell_type": "markdown",
   "metadata": {},
   "source": [
    "Podemos observar el ranking para hipotésis de acuerdo al cálculo realizado de ice."
   ]
  },
  {
   "cell_type": "code",
   "execution_count": 146,
   "metadata": {},
   "outputs": [],
   "source": [
    "#Procedemos a calcular el ranking para hipotésis de acuerdo integrando la variable de reach, por ende el cáculo de RICE.\n",
    "\n",
    "hypo['rice'] = hypo['reach'] * hypo['impact'] * hypo['confidence'] / hypo['effort']"
   ]
  },
  {
   "cell_type": "code",
   "execution_count": 147,
   "metadata": {},
   "outputs": [
    {
     "data": {
      "text/html": [
       "<div>\n",
       "<style scoped>\n",
       "    .dataframe tbody tr th:only-of-type {\n",
       "        vertical-align: middle;\n",
       "    }\n",
       "\n",
       "    .dataframe tbody tr th {\n",
       "        vertical-align: top;\n",
       "    }\n",
       "\n",
       "    .dataframe thead th {\n",
       "        text-align: right;\n",
       "    }\n",
       "</style>\n",
       "<table border=\"1\" class=\"dataframe\">\n",
       "  <thead>\n",
       "    <tr style=\"text-align: right;\">\n",
       "      <th></th>\n",
       "      <th>hypothesis</th>\n",
       "      <th>reach</th>\n",
       "      <th>impact</th>\n",
       "      <th>confidence</th>\n",
       "      <th>effort</th>\n",
       "      <th>ice</th>\n",
       "      <th>rice</th>\n",
       "    </tr>\n",
       "  </thead>\n",
       "  <tbody>\n",
       "    <tr>\n",
       "      <th>7</th>\n",
       "      <td>Add a subscription form to all the main pages....</td>\n",
       "      <td>10</td>\n",
       "      <td>7</td>\n",
       "      <td>8</td>\n",
       "      <td>5</td>\n",
       "      <td>11.200000</td>\n",
       "      <td>112.0</td>\n",
       "    </tr>\n",
       "    <tr>\n",
       "      <th>2</th>\n",
       "      <td>Add product recommendation blocks to the store...</td>\n",
       "      <td>8</td>\n",
       "      <td>3</td>\n",
       "      <td>7</td>\n",
       "      <td>3</td>\n",
       "      <td>7.000000</td>\n",
       "      <td>56.0</td>\n",
       "    </tr>\n",
       "    <tr>\n",
       "      <th>0</th>\n",
       "      <td>Add two new channels for attracting traffic. T...</td>\n",
       "      <td>3</td>\n",
       "      <td>10</td>\n",
       "      <td>8</td>\n",
       "      <td>6</td>\n",
       "      <td>13.333333</td>\n",
       "      <td>40.0</td>\n",
       "    </tr>\n",
       "    <tr>\n",
       "      <th>6</th>\n",
       "      <td>Show banners with current offers and sales on ...</td>\n",
       "      <td>5</td>\n",
       "      <td>3</td>\n",
       "      <td>8</td>\n",
       "      <td>3</td>\n",
       "      <td>8.000000</td>\n",
       "      <td>40.0</td>\n",
       "    </tr>\n",
       "    <tr>\n",
       "      <th>8</th>\n",
       "      <td>Launch a promotion that gives users discounts ...</td>\n",
       "      <td>1</td>\n",
       "      <td>9</td>\n",
       "      <td>9</td>\n",
       "      <td>5</td>\n",
       "      <td>16.200000</td>\n",
       "      <td>16.2</td>\n",
       "    </tr>\n",
       "    <tr>\n",
       "      <th>3</th>\n",
       "      <td>Change the category structure. This will incre...</td>\n",
       "      <td>8</td>\n",
       "      <td>3</td>\n",
       "      <td>3</td>\n",
       "      <td>8</td>\n",
       "      <td>1.125000</td>\n",
       "      <td>9.0</td>\n",
       "    </tr>\n",
       "    <tr>\n",
       "      <th>1</th>\n",
       "      <td>Launch your own delivery service. This will sh...</td>\n",
       "      <td>2</td>\n",
       "      <td>5</td>\n",
       "      <td>4</td>\n",
       "      <td>10</td>\n",
       "      <td>2.000000</td>\n",
       "      <td>4.0</td>\n",
       "    </tr>\n",
       "    <tr>\n",
       "      <th>5</th>\n",
       "      <td>Add a customer review page. This will increase...</td>\n",
       "      <td>3</td>\n",
       "      <td>2</td>\n",
       "      <td>2</td>\n",
       "      <td>3</td>\n",
       "      <td>1.333333</td>\n",
       "      <td>4.0</td>\n",
       "    </tr>\n",
       "    <tr>\n",
       "      <th>4</th>\n",
       "      <td>Change the background color on the main page. ...</td>\n",
       "      <td>3</td>\n",
       "      <td>1</td>\n",
       "      <td>1</td>\n",
       "      <td>1</td>\n",
       "      <td>1.000000</td>\n",
       "      <td>3.0</td>\n",
       "    </tr>\n",
       "  </tbody>\n",
       "</table>\n",
       "</div>"
      ],
      "text/plain": [
       "                                          hypothesis  reach  impact  \\\n",
       "7  Add a subscription form to all the main pages....     10       7   \n",
       "2  Add product recommendation blocks to the store...      8       3   \n",
       "0  Add two new channels for attracting traffic. T...      3      10   \n",
       "6  Show banners with current offers and sales on ...      5       3   \n",
       "8  Launch a promotion that gives users discounts ...      1       9   \n",
       "3  Change the category structure. This will incre...      8       3   \n",
       "1  Launch your own delivery service. This will sh...      2       5   \n",
       "5  Add a customer review page. This will increase...      3       2   \n",
       "4  Change the background color on the main page. ...      3       1   \n",
       "\n",
       "   confidence  effort        ice   rice  \n",
       "7           8       5  11.200000  112.0  \n",
       "2           7       3   7.000000   56.0  \n",
       "0           8       6  13.333333   40.0  \n",
       "6           8       3   8.000000   40.0  \n",
       "8           9       5  16.200000   16.2  \n",
       "3           3       8   1.125000    9.0  \n",
       "1           4      10   2.000000    4.0  \n",
       "5           2       3   1.333333    4.0  \n",
       "4           1       1   1.000000    3.0  "
      ]
     },
     "execution_count": 147,
     "metadata": {},
     "output_type": "execute_result"
    }
   ],
   "source": [
    "rice_ranking = hypo.sort_values('rice', ascending=False)\n",
    "rice_ranking"
   ]
  },
  {
   "cell_type": "markdown",
   "metadata": {},
   "source": [
    "Hemos obtenido el ranking de priorización de hipotésis ahora tomando en cuenta la variable de RICE."
   ]
  },
  {
   "cell_type": "code",
   "execution_count": 148,
   "metadata": {},
   "outputs": [
    {
     "data": {
      "image/png": "[encoded data removed]",
      "text/plain": [
       "<Figure size 1000x600 with 1 Axes>"
      ]
     },
     "metadata": {},
     "output_type": "display_data"
    }
   ],
   "source": [
    "#Procedemos a mostrar visualmente la diferencia en ranking de acuerdo a la priorización de hipotésis de los métodos ICE y RICE.\n",
    "\n",
    "data = rice_ranking.sort_values(by=\"ice\", ascending=False)\n",
    "plt.figure(figsize=(10, 6))\n",
    "sns.barplot(x=\"hypothesis\", y=\"ice\", data=data, palette=\"Blues_r\")\n",
    "plt.xticks(rotation=45, ha=\"right\")\n",
    "plt.xlabel(\"Hypothesis\")\n",
    "plt.ylabel(\"ICE Score\")\n",
    "plt.title(\"Hypothesis Prioritization by ICE Score\")\n",
    "plt.show()"
   ]
  },
  {
   "cell_type": "code",
   "execution_count": 149,
   "metadata": {},
   "outputs": [
    {
     "data": {
      "image/png": "[encoded data removed]",
      "text/plain": [
       "<Figure size 1000x600 with 1 Axes>"
      ]
     },
     "metadata": {},
     "output_type": "display_data"
    }
   ],
   "source": [
    "data = rice_ranking.sort_values(by=\"rice\", ascending=False)\n",
    "plt.figure(figsize=(10, 6))\n",
    "sns.barplot(x=\"hypothesis\", y=\"rice\", data=data, palette=\"Blues_r\")\n",
    "plt.xticks(rotation=45, ha=\"right\")\n",
    "plt.xlabel(\"Hypothesis\")\n",
    "plt.ylabel(\"RICE Score\")\n",
    "plt.title(\"Hypothesis Prioritization by RICE Score\")\n",
    "plt.show()"
   ]
  },
  {
   "cell_type": "markdown",
   "metadata": {},
   "source": [
    "Como podemos observar en general han sufrido un cambio en posición de ranking la todas las variables salvo la #6 y la #4 que permanecen en la cuarta y última posición respectivamente. Podemos inferir que la variable de reach tiene bastante peso al momento de hace nuestra priorización."
   ]
  },
  {
   "cell_type": "markdown",
   "metadata": {},
   "source": [
    "<div class=\"alert alert-block alert-success\">\n",
    "<b>Comentario del revisor (1ra Iteracion)</b> <a class=“tocSkip”></a>\n",
    "\n",
    "Muy buen trabajo con el cálculo para la priorización con los diferentes frameworks! La gráfica es excelente para dejar de manera visual las comparaciones\n",
    "</div>"
   ]
  },
  {
   "cell_type": "markdown",
   "metadata": {},
   "source": [
    "# Parte 2 Análisis del test A/B"
   ]
  },
  {
   "cell_type": "code",
   "execution_count": 150,
   "metadata": {},
   "outputs": [
    {
     "name": "stdout",
     "output_type": "stream",
     "text": [
      "Usuarios presentes en ambos grupos:\n",
      "2      4069496402\n",
      "26      199603092\n",
      "29     3803269165\n",
      "33     2378935119\n",
      "41      237748145\n",
      "114    4256040402\n",
      "117    2038680547\n",
      "118    2378935119\n",
      "129    1738359350\n",
      "133    2458001652\n",
      "Name: visitorid, dtype: int64\n"
     ]
    },
    {
     "data": {
      "text/plain": [
       "58"
      ]
     },
     "execution_count": 150,
     "metadata": {},
     "output_type": "execute_result"
    }
   ],
   "source": [
    "#Analizaremos la advertencia de la posibilidad de que algunos de los visitantes podrían haber ordenado desde ambos grupos.\n",
    "\n",
    "grupo_a = orders[orders['group'] == 'A']['visitorid']\n",
    "grupo_b = orders[orders['group'] == 'B']['visitorid']\n",
    "\n",
    "# Encontrar los usuarios presentes en ambos grupos\n",
    "usuarios_comunes = grupo_a[grupo_a.isin(grupo_b)]\n",
    "\n",
    "# Mostrar los usuarios comunes\n",
    "print(\"Usuarios presentes en ambos grupos:\")\n",
    "print(usuarios_comunes.head(10))\n",
    "usuarios_comunes.nunique()"
   ]
  },
  {
   "cell_type": "markdown",
   "metadata": {},
   "source": [
    "Hemos identificado que existen 58 usuarios que ordenaron desde ambas páginas por lo que se podria considerar que contaminan nuestros resultados. Al ser una porción pequeña y por practicidad optaremos por eliminar las ordenes de esos usuarios los datos, antes de continuar con el resto de nuestros calculos."
   ]
  },
  {
   "cell_type": "code",
   "execution_count": 151,
   "metadata": {},
   "outputs": [],
   "source": [
    "#Procedemos a filtrar de la tabla de orders los usuarios que aparecen con compras en ambos grupos:\n",
    "\n",
    "# Eliminar los usuarios comunes de la tabla original\n",
    "orders = orders[~orders['visitorid'].isin(usuarios_comunes)]"
   ]
  },
  {
   "cell_type": "code",
   "execution_count": 152,
   "metadata": {},
   "outputs": [
    {
     "name": "stdout",
     "output_type": "stream",
     "text": [
      "<class 'pandas.core.frame.DataFrame'>\n",
      "Int64Index: 1016 entries, 0 to 1196\n",
      "Data columns (total 5 columns):\n",
      " #   Column         Non-Null Count  Dtype         \n",
      "---  ------         --------------  -----         \n",
      " 0   transactionid  1016 non-null   int64         \n",
      " 1   visitorid      1016 non-null   int64         \n",
      " 2   date           1016 non-null   datetime64[ns]\n",
      " 3   revenue        1016 non-null   float64       \n",
      " 4   group          1016 non-null   object        \n",
      "dtypes: datetime64[ns](1), float64(1), int64(2), object(1)\n",
      "memory usage: 47.6+ KB\n",
      "<class 'pandas.core.frame.DataFrame'>\n",
      "RangeIndex: 62 entries, 0 to 61\n",
      "Data columns (total 3 columns):\n",
      " #   Column  Non-Null Count  Dtype         \n",
      "---  ------  --------------  -----         \n",
      " 0   date    62 non-null     datetime64[ns]\n",
      " 1   group   62 non-null     object        \n",
      " 2   visits  62 non-null     int64         \n",
      "dtypes: datetime64[ns](1), int64(1), object(1)\n",
      "memory usage: 1.6+ KB\n"
     ]
    }
   ],
   "source": [
    "#Convertimos el tipo de datos para date en la tabla orders y en visits.\n",
    "\n",
    "orders['date'] = pd.to_datetime(orders['date'])\n",
    "visits['date'] =pd.to_datetime(visits['date'])\n",
    "orders.info()\n",
    "visits.info()"
   ]
  },
  {
   "cell_type": "markdown",
   "metadata": {},
   "source": [
    "Ya con la tabla filtrada procedemos a estudiar los resultados de nuestra prueba A/B cuyos registros se encuentran en las tablas orders y visits.\n",
    "Haremos una gráfica del ingreso acumulado por grupo, un gráfica del tamaño promedio acumulado por grupo y una más de la diferencia relativa en el tamaño de pedido promedio acumulado comparativo."
   ]
  },
  {
   "cell_type": "code",
   "execution_count": 153,
   "metadata": {},
   "outputs": [],
   "source": [
    "#Comenzamos a armar una tabla intermedia que nos servirá para realizar nuestros cálculos.\n",
    "fechas_grupos = visits[['date','group']].drop_duplicates()"
   ]
  },
  {
   "cell_type": "code",
   "execution_count": 154,
   "metadata": {},
   "outputs": [
    {
     "data": {
      "text/html": [
       "<div>\n",
       "<style scoped>\n",
       "    .dataframe tbody tr th:only-of-type {\n",
       "        vertical-align: middle;\n",
       "    }\n",
       "\n",
       "    .dataframe tbody tr th {\n",
       "        vertical-align: top;\n",
       "    }\n",
       "\n",
       "    .dataframe thead th {\n",
       "        text-align: right;\n",
       "    }\n",
       "</style>\n",
       "<table border=\"1\" class=\"dataframe\">\n",
       "  <thead>\n",
       "    <tr style=\"text-align: right;\">\n",
       "      <th></th>\n",
       "      <th>date</th>\n",
       "      <th>group</th>\n",
       "      <th>transactionid</th>\n",
       "      <th>visitorid</th>\n",
       "      <th>revenue</th>\n",
       "    </tr>\n",
       "  </thead>\n",
       "  <tbody>\n",
       "    <tr>\n",
       "      <th>0</th>\n",
       "      <td>2019-08-01</td>\n",
       "      <td>A</td>\n",
       "      <td>23</td>\n",
       "      <td>19</td>\n",
       "      <td>2266.6</td>\n",
       "    </tr>\n",
       "    <tr>\n",
       "      <th>31</th>\n",
       "      <td>2019-08-01</td>\n",
       "      <td>B</td>\n",
       "      <td>17</td>\n",
       "      <td>17</td>\n",
       "      <td>967.2</td>\n",
       "    </tr>\n",
       "    <tr>\n",
       "      <th>1</th>\n",
       "      <td>2019-08-02</td>\n",
       "      <td>A</td>\n",
       "      <td>42</td>\n",
       "      <td>36</td>\n",
       "      <td>3734.9</td>\n",
       "    </tr>\n",
       "    <tr>\n",
       "      <th>32</th>\n",
       "      <td>2019-08-02</td>\n",
       "      <td>B</td>\n",
       "      <td>40</td>\n",
       "      <td>39</td>\n",
       "      <td>3535.3</td>\n",
       "    </tr>\n",
       "    <tr>\n",
       "      <th>2</th>\n",
       "      <td>2019-08-03</td>\n",
       "      <td>A</td>\n",
       "      <td>66</td>\n",
       "      <td>60</td>\n",
       "      <td>5550.1</td>\n",
       "    </tr>\n",
       "    <tr>\n",
       "      <th>...</th>\n",
       "      <td>...</td>\n",
       "      <td>...</td>\n",
       "      <td>...</td>\n",
       "      <td>...</td>\n",
       "      <td>...</td>\n",
       "    </tr>\n",
       "    <tr>\n",
       "      <th>59</th>\n",
       "      <td>2019-08-29</td>\n",
       "      <td>B</td>\n",
       "      <td>510</td>\n",
       "      <td>490</td>\n",
       "      <td>74576.7</td>\n",
       "    </tr>\n",
       "    <tr>\n",
       "      <th>29</th>\n",
       "      <td>2019-08-30</td>\n",
       "      <td>A</td>\n",
       "      <td>460</td>\n",
       "      <td>437</td>\n",
       "      <td>52363.7</td>\n",
       "    </tr>\n",
       "    <tr>\n",
       "      <th>60</th>\n",
       "      <td>2019-08-30</td>\n",
       "      <td>B</td>\n",
       "      <td>531</td>\n",
       "      <td>511</td>\n",
       "      <td>77863.5</td>\n",
       "    </tr>\n",
       "    <tr>\n",
       "      <th>30</th>\n",
       "      <td>2019-08-31</td>\n",
       "      <td>A</td>\n",
       "      <td>468</td>\n",
       "      <td>445</td>\n",
       "      <td>53212.0</td>\n",
       "    </tr>\n",
       "    <tr>\n",
       "      <th>61</th>\n",
       "      <td>2019-08-31</td>\n",
       "      <td>B</td>\n",
       "      <td>548</td>\n",
       "      <td>528</td>\n",
       "      <td>79651.2</td>\n",
       "    </tr>\n",
       "  </tbody>\n",
       "</table>\n",
       "<p>62 rows × 5 columns</p>\n",
       "</div>"
      ],
      "text/plain": [
       "         date group  transactionid  visitorid  revenue\n",
       "0  2019-08-01     A             23         19   2266.6\n",
       "31 2019-08-01     B             17         17    967.2\n",
       "1  2019-08-02     A             42         36   3734.9\n",
       "32 2019-08-02     B             40         39   3535.3\n",
       "2  2019-08-03     A             66         60   5550.1\n",
       "..        ...   ...            ...        ...      ...\n",
       "59 2019-08-29     B            510        490  74576.7\n",
       "29 2019-08-30     A            460        437  52363.7\n",
       "60 2019-08-30     B            531        511  77863.5\n",
       "30 2019-08-31     A            468        445  53212.0\n",
       "61 2019-08-31     B            548        528  79651.2\n",
       "\n",
       "[62 rows x 5 columns]"
      ]
     },
     "execution_count": 154,
     "metadata": {},
     "output_type": "execute_result"
    }
   ],
   "source": [
    "#Calculamos las ordenes acumuladas.\n",
    "ordenes_acumuladas = fechas_grupos.apply(\n",
    "    lambda fila: orders[np.logical_and(orders['date'] <= fila['date'],orders['group'] == fila['group'])].agg(\n",
    "        {\n",
    "            'date':'max',\n",
    "            'group':'max',\n",
    "            'transactionid':'nunique',\n",
    "            'visitorid':'nunique',\n",
    "            'revenue':'sum'\n",
    "        }),axis = 1).sort_values(by=['date','group'])\n",
    "ordenes_acumuladas"
   ]
  },
  {
   "cell_type": "code",
   "execution_count": 155,
   "metadata": {},
   "outputs": [
    {
     "data": {
      "text/html": [
       "<div>\n",
       "<style scoped>\n",
       "    .dataframe tbody tr th:only-of-type {\n",
       "        vertical-align: middle;\n",
       "    }\n",
       "\n",
       "    .dataframe tbody tr th {\n",
       "        vertical-align: top;\n",
       "    }\n",
       "\n",
       "    .dataframe thead th {\n",
       "        text-align: right;\n",
       "    }\n",
       "</style>\n",
       "<table border=\"1\" class=\"dataframe\">\n",
       "  <thead>\n",
       "    <tr style=\"text-align: right;\">\n",
       "      <th></th>\n",
       "      <th>date</th>\n",
       "      <th>group</th>\n",
       "      <th>n_transaction</th>\n",
       "      <th>n_client</th>\n",
       "      <th>accumulative_revenue</th>\n",
       "    </tr>\n",
       "  </thead>\n",
       "  <tbody>\n",
       "    <tr>\n",
       "      <th>0</th>\n",
       "      <td>2019-08-01</td>\n",
       "      <td>A</td>\n",
       "      <td>23</td>\n",
       "      <td>19</td>\n",
       "      <td>2266.6</td>\n",
       "    </tr>\n",
       "    <tr>\n",
       "      <th>31</th>\n",
       "      <td>2019-08-01</td>\n",
       "      <td>B</td>\n",
       "      <td>17</td>\n",
       "      <td>17</td>\n",
       "      <td>967.2</td>\n",
       "    </tr>\n",
       "    <tr>\n",
       "      <th>1</th>\n",
       "      <td>2019-08-02</td>\n",
       "      <td>A</td>\n",
       "      <td>42</td>\n",
       "      <td>36</td>\n",
       "      <td>3734.9</td>\n",
       "    </tr>\n",
       "    <tr>\n",
       "      <th>32</th>\n",
       "      <td>2019-08-02</td>\n",
       "      <td>B</td>\n",
       "      <td>40</td>\n",
       "      <td>39</td>\n",
       "      <td>3535.3</td>\n",
       "    </tr>\n",
       "    <tr>\n",
       "      <th>2</th>\n",
       "      <td>2019-08-03</td>\n",
       "      <td>A</td>\n",
       "      <td>66</td>\n",
       "      <td>60</td>\n",
       "      <td>5550.1</td>\n",
       "    </tr>\n",
       "    <tr>\n",
       "      <th>...</th>\n",
       "      <td>...</td>\n",
       "      <td>...</td>\n",
       "      <td>...</td>\n",
       "      <td>...</td>\n",
       "      <td>...</td>\n",
       "    </tr>\n",
       "    <tr>\n",
       "      <th>59</th>\n",
       "      <td>2019-08-29</td>\n",
       "      <td>B</td>\n",
       "      <td>510</td>\n",
       "      <td>490</td>\n",
       "      <td>74576.7</td>\n",
       "    </tr>\n",
       "    <tr>\n",
       "      <th>29</th>\n",
       "      <td>2019-08-30</td>\n",
       "      <td>A</td>\n",
       "      <td>460</td>\n",
       "      <td>437</td>\n",
       "      <td>52363.7</td>\n",
       "    </tr>\n",
       "    <tr>\n",
       "      <th>60</th>\n",
       "      <td>2019-08-30</td>\n",
       "      <td>B</td>\n",
       "      <td>531</td>\n",
       "      <td>511</td>\n",
       "      <td>77863.5</td>\n",
       "    </tr>\n",
       "    <tr>\n",
       "      <th>30</th>\n",
       "      <td>2019-08-31</td>\n",
       "      <td>A</td>\n",
       "      <td>468</td>\n",
       "      <td>445</td>\n",
       "      <td>53212.0</td>\n",
       "    </tr>\n",
       "    <tr>\n",
       "      <th>61</th>\n",
       "      <td>2019-08-31</td>\n",
       "      <td>B</td>\n",
       "      <td>548</td>\n",
       "      <td>528</td>\n",
       "      <td>79651.2</td>\n",
       "    </tr>\n",
       "  </tbody>\n",
       "</table>\n",
       "<p>62 rows × 5 columns</p>\n",
       "</div>"
      ],
      "text/plain": [
       "         date group  n_transaction  n_client  accumulative_revenue\n",
       "0  2019-08-01     A             23        19                2266.6\n",
       "31 2019-08-01     B             17        17                 967.2\n",
       "1  2019-08-02     A             42        36                3734.9\n",
       "32 2019-08-02     B             40        39                3535.3\n",
       "2  2019-08-03     A             66        60                5550.1\n",
       "..        ...   ...            ...       ...                   ...\n",
       "59 2019-08-29     B            510       490               74576.7\n",
       "29 2019-08-30     A            460       437               52363.7\n",
       "60 2019-08-30     B            531       511               77863.5\n",
       "30 2019-08-31     A            468       445               53212.0\n",
       "61 2019-08-31     B            548       528               79651.2\n",
       "\n",
       "[62 rows x 5 columns]"
      ]
     },
     "execution_count": 155,
     "metadata": {},
     "output_type": "execute_result"
    }
   ],
   "source": [
    "#cambiamos el nombre de las columnas\n",
    "ordenes_acumuladas.columns = ['date','group','n_transaction','n_client', 'accumulative_revenue']\n",
    "ordenes_acumuladas"
   ]
  },
  {
   "cell_type": "code",
   "execution_count": 156,
   "metadata": {},
   "outputs": [
    {
     "data": {
      "text/html": [
       "<div>\n",
       "<style scoped>\n",
       "    .dataframe tbody tr th:only-of-type {\n",
       "        vertical-align: middle;\n",
       "    }\n",
       "\n",
       "    .dataframe tbody tr th {\n",
       "        vertical-align: top;\n",
       "    }\n",
       "\n",
       "    .dataframe thead th {\n",
       "        text-align: right;\n",
       "    }\n",
       "</style>\n",
       "<table border=\"1\" class=\"dataframe\">\n",
       "  <thead>\n",
       "    <tr style=\"text-align: right;\">\n",
       "      <th></th>\n",
       "      <th>date</th>\n",
       "      <th>group</th>\n",
       "      <th>accumulative_visits</th>\n",
       "    </tr>\n",
       "  </thead>\n",
       "  <tbody>\n",
       "    <tr>\n",
       "      <th>0</th>\n",
       "      <td>2019-08-01</td>\n",
       "      <td>A</td>\n",
       "      <td>719</td>\n",
       "    </tr>\n",
       "    <tr>\n",
       "      <th>31</th>\n",
       "      <td>2019-08-01</td>\n",
       "      <td>B</td>\n",
       "      <td>713</td>\n",
       "    </tr>\n",
       "    <tr>\n",
       "      <th>1</th>\n",
       "      <td>2019-08-02</td>\n",
       "      <td>A</td>\n",
       "      <td>1338</td>\n",
       "    </tr>\n",
       "    <tr>\n",
       "      <th>32</th>\n",
       "      <td>2019-08-02</td>\n",
       "      <td>B</td>\n",
       "      <td>1294</td>\n",
       "    </tr>\n",
       "    <tr>\n",
       "      <th>2</th>\n",
       "      <td>2019-08-03</td>\n",
       "      <td>A</td>\n",
       "      <td>1845</td>\n",
       "    </tr>\n",
       "    <tr>\n",
       "      <th>...</th>\n",
       "      <td>...</td>\n",
       "      <td>...</td>\n",
       "      <td>...</td>\n",
       "    </tr>\n",
       "    <tr>\n",
       "      <th>59</th>\n",
       "      <td>2019-08-29</td>\n",
       "      <td>B</td>\n",
       "      <td>17708</td>\n",
       "    </tr>\n",
       "    <tr>\n",
       "      <th>29</th>\n",
       "      <td>2019-08-30</td>\n",
       "      <td>A</td>\n",
       "      <td>18037</td>\n",
       "    </tr>\n",
       "    <tr>\n",
       "      <th>60</th>\n",
       "      <td>2019-08-30</td>\n",
       "      <td>B</td>\n",
       "      <td>18198</td>\n",
       "    </tr>\n",
       "    <tr>\n",
       "      <th>30</th>\n",
       "      <td>2019-08-31</td>\n",
       "      <td>A</td>\n",
       "      <td>18736</td>\n",
       "    </tr>\n",
       "    <tr>\n",
       "      <th>61</th>\n",
       "      <td>2019-08-31</td>\n",
       "      <td>B</td>\n",
       "      <td>18916</td>\n",
       "    </tr>\n",
       "  </tbody>\n",
       "</table>\n",
       "<p>62 rows × 3 columns</p>\n",
       "</div>"
      ],
      "text/plain": [
       "         date group  accumulative_visits\n",
       "0  2019-08-01     A                  719\n",
       "31 2019-08-01     B                  713\n",
       "1  2019-08-02     A                 1338\n",
       "32 2019-08-02     B                 1294\n",
       "2  2019-08-03     A                 1845\n",
       "..        ...   ...                  ...\n",
       "59 2019-08-29     B                17708\n",
       "29 2019-08-30     A                18037\n",
       "60 2019-08-30     B                18198\n",
       "30 2019-08-31     A                18736\n",
       "61 2019-08-31     B                18916\n",
       "\n",
       "[62 rows x 3 columns]"
      ]
     },
     "execution_count": 156,
     "metadata": {},
     "output_type": "execute_result"
    }
   ],
   "source": [
    "#Obtenemos el acumulado para la tabla de visits.\n",
    "visitas_acumuladas = fechas_grupos.apply(\n",
    "    lambda fila: visits[np.logical_and(visits['date'] <= fila['date'],visits['group'] == fila['group'])].agg(\n",
    "        {\n",
    "            'date':'max',\n",
    "            'group':'max',\n",
    "            'visits':'sum'\n",
    "        }),axis = 1).sort_values(by=['date','group'])\n",
    "\n",
    "#Renombramos columnas\n",
    "visitas_acumuladas.columns = ['date','group','accumulative_visits']\n",
    "visitas_acumuladas"
   ]
  },
  {
   "cell_type": "code",
   "execution_count": 157,
   "metadata": {},
   "outputs": [
    {
     "data": {
      "text/html": [
       "<div>\n",
       "<style scoped>\n",
       "    .dataframe tbody tr th:only-of-type {\n",
       "        vertical-align: middle;\n",
       "    }\n",
       "\n",
       "    .dataframe tbody tr th {\n",
       "        vertical-align: top;\n",
       "    }\n",
       "\n",
       "    .dataframe thead th {\n",
       "        text-align: right;\n",
       "    }\n",
       "</style>\n",
       "<table border=\"1\" class=\"dataframe\">\n",
       "  <thead>\n",
       "    <tr style=\"text-align: right;\">\n",
       "      <th></th>\n",
       "      <th>date</th>\n",
       "      <th>group</th>\n",
       "      <th>accumulative_visits</th>\n",
       "      <th>n_transaction</th>\n",
       "      <th>n_client</th>\n",
       "      <th>accumulative_revenue</th>\n",
       "    </tr>\n",
       "  </thead>\n",
       "  <tbody>\n",
       "    <tr>\n",
       "      <th>0</th>\n",
       "      <td>2019-08-01</td>\n",
       "      <td>A</td>\n",
       "      <td>719</td>\n",
       "      <td>23</td>\n",
       "      <td>19</td>\n",
       "      <td>2266.6</td>\n",
       "    </tr>\n",
       "    <tr>\n",
       "      <th>1</th>\n",
       "      <td>2019-08-01</td>\n",
       "      <td>B</td>\n",
       "      <td>713</td>\n",
       "      <td>17</td>\n",
       "      <td>17</td>\n",
       "      <td>967.2</td>\n",
       "    </tr>\n",
       "    <tr>\n",
       "      <th>2</th>\n",
       "      <td>2019-08-02</td>\n",
       "      <td>A</td>\n",
       "      <td>1338</td>\n",
       "      <td>42</td>\n",
       "      <td>36</td>\n",
       "      <td>3734.9</td>\n",
       "    </tr>\n",
       "    <tr>\n",
       "      <th>3</th>\n",
       "      <td>2019-08-02</td>\n",
       "      <td>B</td>\n",
       "      <td>1294</td>\n",
       "      <td>40</td>\n",
       "      <td>39</td>\n",
       "      <td>3535.3</td>\n",
       "    </tr>\n",
       "    <tr>\n",
       "      <th>4</th>\n",
       "      <td>2019-08-03</td>\n",
       "      <td>A</td>\n",
       "      <td>1845</td>\n",
       "      <td>66</td>\n",
       "      <td>60</td>\n",
       "      <td>5550.1</td>\n",
       "    </tr>\n",
       "    <tr>\n",
       "      <th>...</th>\n",
       "      <td>...</td>\n",
       "      <td>...</td>\n",
       "      <td>...</td>\n",
       "      <td>...</td>\n",
       "      <td>...</td>\n",
       "      <td>...</td>\n",
       "    </tr>\n",
       "    <tr>\n",
       "      <th>57</th>\n",
       "      <td>2019-08-29</td>\n",
       "      <td>B</td>\n",
       "      <td>17708</td>\n",
       "      <td>510</td>\n",
       "      <td>490</td>\n",
       "      <td>74576.7</td>\n",
       "    </tr>\n",
       "    <tr>\n",
       "      <th>58</th>\n",
       "      <td>2019-08-30</td>\n",
       "      <td>A</td>\n",
       "      <td>18037</td>\n",
       "      <td>460</td>\n",
       "      <td>437</td>\n",
       "      <td>52363.7</td>\n",
       "    </tr>\n",
       "    <tr>\n",
       "      <th>59</th>\n",
       "      <td>2019-08-30</td>\n",
       "      <td>B</td>\n",
       "      <td>18198</td>\n",
       "      <td>531</td>\n",
       "      <td>511</td>\n",
       "      <td>77863.5</td>\n",
       "    </tr>\n",
       "    <tr>\n",
       "      <th>60</th>\n",
       "      <td>2019-08-31</td>\n",
       "      <td>A</td>\n",
       "      <td>18736</td>\n",
       "      <td>468</td>\n",
       "      <td>445</td>\n",
       "      <td>53212.0</td>\n",
       "    </tr>\n",
       "    <tr>\n",
       "      <th>61</th>\n",
       "      <td>2019-08-31</td>\n",
       "      <td>B</td>\n",
       "      <td>18916</td>\n",
       "      <td>548</td>\n",
       "      <td>528</td>\n",
       "      <td>79651.2</td>\n",
       "    </tr>\n",
       "  </tbody>\n",
       "</table>\n",
       "<p>62 rows × 6 columns</p>\n",
       "</div>"
      ],
      "text/plain": [
       "         date group  accumulative_visits  n_transaction  n_client  \\\n",
       "0  2019-08-01     A                  719             23        19   \n",
       "1  2019-08-01     B                  713             17        17   \n",
       "2  2019-08-02     A                 1338             42        36   \n",
       "3  2019-08-02     B                 1294             40        39   \n",
       "4  2019-08-03     A                 1845             66        60   \n",
       "..        ...   ...                  ...            ...       ...   \n",
       "57 2019-08-29     B                17708            510       490   \n",
       "58 2019-08-30     A                18037            460       437   \n",
       "59 2019-08-30     B                18198            531       511   \n",
       "60 2019-08-31     A                18736            468       445   \n",
       "61 2019-08-31     B                18916            548       528   \n",
       "\n",
       "    accumulative_revenue  \n",
       "0                 2266.6  \n",
       "1                  967.2  \n",
       "2                 3734.9  \n",
       "3                 3535.3  \n",
       "4                 5550.1  \n",
       "..                   ...  \n",
       "57               74576.7  \n",
       "58               52363.7  \n",
       "59               77863.5  \n",
       "60               53212.0  \n",
       "61               79651.2  \n",
       "\n",
       "[62 rows x 6 columns]"
      ]
     },
     "execution_count": 157,
     "metadata": {},
     "output_type": "execute_result"
    }
   ],
   "source": [
    "#Previo a graficar integramos las dos tablas recien creadas:\n",
    "datos_acumulados = pd.merge(visitas_acumuladas, ordenes_acumuladas, on=['date','group'])\n",
    "datos_acumulados"
   ]
  },
  {
   "cell_type": "code",
   "execution_count": 158,
   "metadata": {},
   "outputs": [],
   "source": [
    "#Creamos las variables de rentabilidad acumulada por grupos para efectos de graficar:\n",
    "\n",
    "rentabilidad_acumulada_a = datos_acumulados.query('group == \"A\"')[['date', 'group', 'accumulative_revenue']]\n",
    "rentabilidad_acumulada_b = datos_acumulados.query('group == \"B\"')[['date', 'group', 'accumulative_revenue']]"
   ]
  },
  {
   "cell_type": "code",
   "execution_count": 159,
   "metadata": {},
   "outputs": [
    {
     "data": {
      "image/png": "[encoded data removed]",
      "text/plain": [
       "<Figure size 640x480 with 1 Axes>"
      ]
     },
     "metadata": {},
     "output_type": "display_data"
    }
   ],
   "source": [
    "plt.plot(rentabilidad_acumulada_a['date'], rentabilidad_acumulada_a['accumulative_revenue'], label='A')\n",
    "plt.plot(rentabilidad_acumulada_b['date'], rentabilidad_acumulada_b['accumulative_revenue'], label='B')\n",
    "plt.legend()\n",
    "plt.xticks(rotation=45)\n",
    "plt.show()"
   ]
  },
  {
   "cell_type": "markdown",
   "metadata": {},
   "source": [
    "Podemos observar que los ingresos del grupo B son mayores que los del grupo A por lo que podriamos suponer que el experimento está funcionando para incrementar los ingresos. Sin embargo debemos continuar analizando previo a llegar a conclusiones adelantadas, ya que debemos de probar si la diferencia realmente tiene valor estadístico."
   ]
  },
  {
   "cell_type": "code",
   "execution_count": 160,
   "metadata": {},
   "outputs": [
    {
     "data": {
      "image/png": "[encoded data removed]",
      "text/plain": [
       "<Figure size 640x480 with 1 Axes>"
      ]
     },
     "metadata": {},
     "output_type": "display_data"
    }
   ],
   "source": [
    "#Ahora creamos las variables de tamaño de pedido promedio acumulado por grupo y graficamos las mismas incluyendo las fechas.\n",
    "\n",
    "# Creamos tablas para la fecha y el tamaño promedio de pedido acumulado....este lo tuve que consultar porque me atoré bastante.\n",
    "ped_prom_a = datos_acumulados[datos_acumulados['group'] == 'A'][['date']].copy()\n",
    "ped_prom_b = datos_acumulados[datos_acumulados['group'] == 'B'][['date']].copy()\n",
    "\n",
    "# Calcular el tamaño de pedido promedio acumulado\n",
    "ped_prom_a['tpp'] = datos_acumulados[datos_acumulados['group'] == 'A']['accumulative_revenue'] / datos_acumulados[datos_acumulados['group'] == 'A']['n_transaction']\n",
    "ped_prom_b['tpp'] = datos_acumulados[datos_acumulados['group'] == 'B']['accumulative_revenue'] / datos_acumulados[datos_acumulados['group'] == 'B']['n_transaction']\n",
    "\n",
    "# Graficar en función de las mini tablas que se crearon\n",
    "plt.plot(ped_prom_a['date'], ped_prom_a['tpp'], label=\"Grupo A\")\n",
    "plt.plot(ped_prom_b['date'], ped_prom_b['tpp'], label=\"Grupo B\")\n",
    "\n",
    "plt.legend()\n",
    "plt.xlabel(\"Fecha\")\n",
    "plt.ylabel(\"Tamaño de pedido promedio\")\n",
    "plt.title(\"Evolución del TPP por grupo\")\n",
    "plt.xticks(rotation=45)\n",
    "plt.grid(True)\n",
    "\n",
    "plt.show()"
   ]
  },
  {
   "cell_type": "markdown",
   "metadata": {},
   "source": [
    "Nuevamente observamos que los promedios del grupo B son mayores que los del grupo A por lo que nos da mayores elementos para suponer que está funcionando el experimento. Sin embargo debemos continuar analizando previo a llegar a conclusiones adelantadas, e incluso podemos ver una tendencia que parecería que de continuar así implicaría que a lo largo del tiempo se reduce el efecto positivo de los cambios."
   ]
  },
  {
   "cell_type": "markdown",
   "metadata": {},
   "source": [
    "<div class=\"alert alert-block alert-success\">\n",
    "<b>Comentario del revisor (1ra Iteracion)</b> <a class=“tocSkip”></a>\n",
    "\n",
    "Buen trabajo, la visualización deja ver la diferencia claramente por cada grupo\n",
    "</div>"
   ]
  },
  {
   "cell_type": "code",
   "execution_count": 161,
   "metadata": {},
   "outputs": [],
   "source": [
    "# Creamos nuestra sobre la cual realizar los cálculos.\n",
    "tpp_df = datos_acumulados.pivot(index=\"date\", columns=\"group\", values=[\"accumulative_revenue\", \"n_transaction\"])\n",
    "\n",
    "# Obtenemos el tamaño promedio de pedido acumulado para los grupos.\n",
    "tpp_df[\"TPP_A\"] = tpp_df[\"accumulative_revenue\"][\"A\"] / tpp_df[\"n_transaction\"][\"A\"]\n",
    "tpp_df[\"TPP_B\"] = tpp_df[\"accumulative_revenue\"][\"B\"] / tpp_df[\"n_transaction\"][\"B\"]\n",
    "\n",
    "# Calculamos la direferencia relativa\n",
    "tpp_df[\"Diferencia_Relativa\"] = (tpp_df[\"TPP_B\"] / tpp_df[\"TPP_A\"]) - 1"
   ]
  },
  {
   "cell_type": "code",
   "execution_count": 162,
   "metadata": {},
   "outputs": [
    {
     "data": {
      "image/png": "[encoded data removed]",
      "text/plain": [
       "<Figure size 640x480 with 1 Axes>"
      ]
     },
     "metadata": {},
     "output_type": "display_data"
    }
   ],
   "source": [
    "# Procedemos a realizar la gráfica\n",
    "\n",
    "plt.plot(tpp_df.index, tpp_df[\"Diferencia_Relativa\"], label=\"Diferencia relativa\", color='purple')\n",
    "\n",
    "plt.axhline(y=0, color='red', linestyle='--', label=\"Sin diferencia\")\n",
    "plt.legend()\n",
    "plt.xlabel(\"Fecha\")\n",
    "plt.ylabel(\"Diferencia relativa en TPP\")\n",
    "plt.title(\"Diferencia relativa en el tamaño de pedido promedio acumulado\")\n",
    "plt.xticks(rotation=45)\n",
    "plt.grid(True)\n",
    "\n",
    "plt.show()"
   ]
  },
  {
   "cell_type": "markdown",
   "metadata": {},
   "source": [
    "De manera general observamos que la tabla de diferencia relativa confirma nuestra sospechas que el experimento está funcionando sin embargo tiene una tendencia a la baja. Es bueno tener una idea más objetiva del comportamiento del experimento."
   ]
  },
  {
   "cell_type": "code",
   "execution_count": 163,
   "metadata": {},
   "outputs": [],
   "source": [
    "#Ahora procedemos a calcular la tasa de conversion diaria.\n",
    "# Calculamos la tasa de conversión diaria para cada grupo\n",
    "\n",
    "datos_acumulados[\"conversion_rate\"] = datos_acumulados[\"n_transaction\"] / datos_acumulados[\"accumulative_visits\"]\n",
    "\n",
    "# Hacemos un pivot por date y group para obtener tasas de conversión de cada grupo.\n",
    "tabla_conversion = datos_acumulados.pivot(index=\"date\", columns=\"group\", values=\"conversion_rate\")"
   ]
  },
  {
   "cell_type": "code",
   "execution_count": 164,
   "metadata": {},
   "outputs": [
    {
     "data": {
      "image/png": "[encoded data removed]",
      "text/plain": [
       "<Figure size 640x480 with 1 Axes>"
      ]
     },
     "metadata": {},
     "output_type": "display_data"
    }
   ],
   "source": [
    "# Graficamos las tasas de conversión\n",
    "plt.plot(tabla_conversion.index, tabla_conversion[\"A\"], label=\"Grupo A\", color='blue')\n",
    "plt.plot(tabla_conversion.index, tabla_conversion[\"B\"], label=\"Grupo B\", color='green')\n",
    "\n",
    "plt.axhline(y=0, color='black', linestyle='--', alpha=0.5)\n",
    "plt.legend()\n",
    "plt.xlabel(\"Fecha\")\n",
    "plt.ylabel(\"Tasa de conversión\")\n",
    "plt.title(\"Tasa de conversión diaria por grupo\")\n",
    "plt.xticks(rotation=45)\n",
    "plt.grid(True)\n",
    "\n",
    "plt.show()"
   ]
  },
  {
   "cell_type": "markdown",
   "metadata": {},
   "source": [
    "Podemos observar que el grupo B tuvo una mejor tasa de conversión que retuvo. Rebaso al grupo de control entre los dias del 6 al 9 de agosto por lo que es importante notar la fecha. Al parecer ambos grupos se encuentran estables."
   ]
  },
  {
   "cell_type": "code",
   "execution_count": 165,
   "metadata": {},
   "outputs": [],
   "source": [
    "#Hacemos un gráfico de dispersión del número de pedidos por usuario.\n",
    "\n",
    "# Contar el número de pedidos por usuario\n",
    "user_orders = datos_acumulados.groupby(\"n_client\")[\"n_transaction\"].sum().reset_index()\n",
    "\n",
    "# Renombramos las columnas\n",
    "user_orders.columns = [\"n_client\", \"total_pedidos\"]"
   ]
  },
  {
   "cell_type": "code",
   "execution_count": 166,
   "metadata": {},
   "outputs": [
    {
     "data": {
      "image/png": "[encoded data removed]",
      "text/plain": [
       "<Figure size 1000x600 with 1 Axes>"
      ]
     },
     "metadata": {},
     "output_type": "display_data"
    }
   ],
   "source": [
    "# Creamos nuestra gráfica.\n",
    "plt.figure(figsize=(10, 6))\n",
    "sns.scatterplot(x=user_orders.index, y=user_orders[\"total_pedidos\"], alpha=0.5)\n",
    "plt.xlabel(\"Usuarios\")\n",
    "plt.ylabel(\"Número de pedidos\")\n",
    "plt.title(\"Distribución del número de pedidos por usuario\")\n",
    "plt.grid(True)\n",
    "\n",
    "plt.show()"
   ]
  },
  {
   "cell_type": "markdown",
   "metadata": {},
   "source": [
    "Podemos observar una tendencia de crecimiento con una par de casos extremos que son de observar o tomar en cuenta al momento de hacer más calculos."
   ]
  },
  {
   "cell_type": "markdown",
   "metadata": {},
   "source": [
    "<div class=\"alert alert-block alert-info\">\n",
    "<b>Respuesta del estudiante</b> <a class=\"tocSkip\"></a>\n",
    "Aquí en este ejercicio anterior me quedo duda de si estuvo bien la gráfica o si más bien era mostrar el comprotamiento a lo largo del tiempo es decir de alguna manera por dias, por que\n",
    "por lo que infiero al momento de hacer el reset_index se colocan de menor a mayor por lo que obviamente la gráfica va a mostrar un crecimiento.\n",
    "</div>"
   ]
  },
  {
   "cell_type": "markdown",
   "metadata": {},
   "source": [
    "<div class=\"alert alert-block alert-success\">\n",
    "<b>Comentario del revisor (1ra Iteracion)</b> <a class=“tocSkip”></a>\n",
    "\n",
    "Así está muy bien Andrés, veo que hay un poco de confusión con el método reset_index, esto no cambia el orden de tus dato simplemente quita un de las columnas que está cómo index y la pone cómo otra columna. En este caso el index de tu dataframe era `n_client` pero al aplicar ese método lo que se hizo fue quitarlo cómo index y ponerlo cómo una columna con el mismo nombre\n",
    "</div>"
   ]
  },
  {
   "cell_type": "code",
   "execution_count": 167,
   "metadata": {},
   "outputs": [
    {
     "name": "stdout",
     "output_type": "stream",
     "text": [
      "[493.9  513.57 537.63]\n"
     ]
    }
   ],
   "source": [
    "#Procedemos a calcular los percentiles 95 y 99 para los pedidos.\n",
    "\n",
    "print(np.percentile(datos_acumulados['n_transaction'], [95,97,99]))"
   ]
  },
  {
   "cell_type": "code",
   "execution_count": 168,
   "metadata": {},
   "outputs": [
    {
     "name": "stdout",
     "output_type": "stream",
     "text": [
      "<class 'pandas.core.frame.DataFrame'>\n",
      "RangeIndex: 59 entries, 0 to 58\n",
      "Data columns (total 2 columns):\n",
      " #   Column         Non-Null Count  Dtype\n",
      "---  ------         --------------  -----\n",
      " 0   n_client       59 non-null     int64\n",
      " 1   total_pedidos  59 non-null     int64\n",
      "dtypes: int64(2)\n",
      "memory usage: 1.0 KB\n"
     ]
    }
   ],
   "source": [
    "user_orders.info()"
   ]
  },
  {
   "cell_type": "code",
   "execution_count": 169,
   "metadata": {},
   "outputs": [
    {
     "name": "stdout",
     "output_type": "stream",
     "text": [
      "<class 'pandas.core.frame.DataFrame'>\n",
      "Int64Index: 62 entries, 0 to 61\n",
      "Data columns (total 7 columns):\n",
      " #   Column                Non-Null Count  Dtype         \n",
      "---  ------                --------------  -----         \n",
      " 0   date                  62 non-null     datetime64[ns]\n",
      " 1   group                 62 non-null     object        \n",
      " 2   accumulative_visits   62 non-null     int64         \n",
      " 3   n_transaction         62 non-null     int64         \n",
      " 4   n_client              62 non-null     int64         \n",
      " 5   accumulative_revenue  62 non-null     float64       \n",
      " 6   conversion_rate       62 non-null     float64       \n",
      "dtypes: datetime64[ns](1), float64(2), int64(3), object(1)\n",
      "memory usage: 3.9+ KB\n"
     ]
    }
   ],
   "source": [
    "datos_acumulados.info()"
   ]
  },
  {
   "cell_type": "markdown",
   "metadata": {},
   "source": [
    "De acuerdo a los datos podemos fijar un umbral de 513 como el limite superior para ser considerado como anomalia para el tamaño de los pedidos."
   ]
  },
  {
   "cell_type": "code",
   "execution_count": 170,
   "metadata": {},
   "outputs": [],
   "source": [
    "#Hacemos un gráfico de dispersión de los precios de los pedidos.\n",
    "\n",
    "# Calculamos el precio promedio de cada pedido\n",
    "datos_acumulados[\"precio_por_pedido\"] = datos_acumulados[\"accumulative_revenue\"] / datos_acumulados[\"n_transaction\"]"
   ]
  },
  {
   "cell_type": "code",
   "execution_count": 171,
   "metadata": {},
   "outputs": [
    {
     "data": {
      "image/png": "[encoded data removed]",
      "text/plain": [
       "<Figure size 1000x600 with 1 Axes>"
      ]
     },
     "metadata": {},
     "output_type": "display_data"
    }
   ],
   "source": [
    "# Realizamos nuestra gráfica con la columna recien generada.\n",
    "plt.figure(figsize=(10, 6))\n",
    "sns.scatterplot(x=datos_acumulados[\"date\"], y=datos_acumulados[\"precio_por_pedido\"], hue=datos_acumulados[\"group\"], alpha=0.7)\n",
    "\n",
    "# Configuración de la gráfica\n",
    "plt.xlabel(\"Fecha\")\n",
    "plt.ylabel(\"Precio promedio por pedido\")\n",
    "plt.title(\"Precio promedio de pedidos\")\n",
    "plt.xticks(rotation=45)\n",
    "plt.legend(title=\"Grupo\")\n",
    "plt.grid(True)\n",
    "\n",
    "plt.show()"
   ]
  },
  {
   "cell_type": "markdown",
   "metadata": {},
   "source": [
    "Nuevamente la gráfica refleja las tendencias que hemos observado para el ingreso con un cruce entre el grupo de control y el grupo de experimento y luego un importante rebase por el grupo de experimento con una normalización y tendencia lenta pero negativa hacia adelante en el tiempo."
   ]
  },
  {
   "cell_type": "code",
   "execution_count": 172,
   "metadata": {
    "scrolled": true
   },
   "outputs": [
    {
     "name": "stdout",
     "output_type": "stream",
     "text": [
      "[158.26361939 160.65023701 161.9602265 ]\n"
     ]
    }
   ],
   "source": [
    "#Procedemos a calcular los percentiles 95 y 99 para los precios de pedidos.\n",
    "\n",
    "print(np.percentile(datos_acumulados['precio_por_pedido'], [95,97,99]))"
   ]
  },
  {
   "cell_type": "markdown",
   "metadata": {},
   "source": [
    "Establecemos 160 como el límite superior para el precio de un pedido ya que apartir de mayor ingreso se puede considerar una anomalía."
   ]
  },
  {
   "cell_type": "markdown",
   "metadata": {},
   "source": [
    "<div class=\"alert alert-block alert-success\">\n",
    "<b>Comentario del revisor (1ra Iteracion)</b> <a class=“tocSkip”></a>\n",
    "\n",
    "Buen trabajo revisando los percentiles, encontrar valores anómalos puede ser crucial al momento de mostrar métricas correctas ya que estos pueden afectar los resultados finales\n",
    "</div>"
   ]
  },
  {
   "cell_type": "markdown",
   "metadata": {},
   "source": [
    "# Significancias estadísticas."
   ]
  },
  {
   "cell_type": "markdown",
   "metadata": {},
   "source": [
    "<div class=\"alert alert-block alert-info\">\n",
    "<b>Respuesta del estudiante</b> <a class=\"tocSkip\"></a>\n",
    "Todo este bloque tuve que consultar muchísimo por la complejidad que conlleva X_x...\n",
    "</div>"
   ]
  },
  {
   "cell_type": "markdown",
   "metadata": {},
   "source": [
    "<div class=\"alert alert-block alert-success\">\n",
    "<b>Comentario del revisor (1ra Iteracion)</b> <a class=“tocSkip”></a>\n",
    "\n",
    "Es parte del proceso Andrés, te felicito por tomarte el tiempo para investigarlo!\n",
    "</div>"
   ]
  },
  {
   "cell_type": "code",
   "execution_count": 173,
   "metadata": {},
   "outputs": [
    {
     "name": "stdout",
     "output_type": "stream",
     "text": [
      "Prueba de Mann-Whitney para conversión sin filtrar: p-valor = 0.000\n"
     ]
    }
   ],
   "source": [
    "#Importamos la libreria nuevamente para evitar errores\n",
    "import scipy.stats as stats\n",
    "\n",
    "# Hacemos conversión de cada usuario por grupo\n",
    "conversion_a = datos_acumulados[datos_acumulados['group'] == 'A']['n_transaction'] / datos_acumulados[datos_acumulados['group'] == 'A']['accumulative_visits']\n",
    "conversion_b = datos_acumulados[datos_acumulados['group'] == 'B']['n_transaction'] / datos_acumulados[datos_acumulados['group'] == 'B']['accumulative_visits']\n",
    "\n",
    "# Prueba de para la diferencia en conversión\n",
    "print(\"Prueba de Mann-Whitney para conversión sin filtrar: p-valor = {:.3f}\".format(stats.mannwhitneyu(conversion_a, conversion_b)[1]))\n"
   ]
  },
  {
   "cell_type": "markdown",
   "metadata": {},
   "source": [
    "El valor nos hace suponer que sí hay diferencia real o estadística entre los grupos."
   ]
  },
  {
   "cell_type": "code",
   "execution_count": 174,
   "metadata": {},
   "outputs": [
    {
     "name": "stdout",
     "output_type": "stream",
     "text": [
      "Prueba de Mann-Whitney para TPP sin filtrar: p-valor = 0.163\n"
     ]
    }
   ],
   "source": [
    "# Encontramos el tamaño promedio de pedido\n",
    "tpp_a = datos_acumulados[datos_acumulados['group'] == 'A']['accumulative_revenue'] / datos_acumulados[datos_acumulados['group'] == 'A']['n_transaction']\n",
    "tpp_b = datos_acumulados[datos_acumulados['group'] == 'B']['accumulative_revenue'] / datos_acumulados[datos_acumulados['group'] == 'B']['n_transaction']\n",
    "\n",
    "# Prueba de Mann-Whitney para el tamaño promedio de pedido\n",
    "print(\"Prueba de Mann-Whitney para TPP sin filtrar: p-valor = {:.3f}\".format(stats.mannwhitneyu(tpp_a, tpp_b)[1]))"
   ]
  },
  {
   "cell_type": "markdown",
   "metadata": {},
   "source": [
    "Como el valor es mayor a .05 nos lleva a concluir que no hay una diferencia estadísticamente significativa entre los grupos. "
   ]
  },
  {
   "cell_type": "markdown",
   "metadata": {},
   "source": [
    "<div class=\"alert alert-block alert-danger\">\n",
    "<b>Comentario del revisor (1ra Iteracion)</b> <a class=“tocSkip”></a>\n",
    "\n",
    "Cuidado con el tipo de celdas que usamos, esta debería ser tipo markdown. Siempre hay que tener cuidado con esto para garantizar la ejecución de los proyectos\n",
    "</div>"
   ]
  },
  {
   "cell_type": "code",
   "execution_count": 175,
   "metadata": {},
   "outputs": [
    {
     "name": "stdout",
     "output_type": "stream",
     "text": [
      "Tamaño original Grupo A: 31, después del filtrado: 31\n",
      "Tamaño original Grupo B: 31, después del filtrado: 27\n"
     ]
    }
   ],
   "source": [
    "# Filtramos los usuarios anómalos\n",
    "grupo_a_filtrado = datos_acumulados[\n",
    "    (datos_acumulados['group'] == 'A') & \n",
    "    (~datos_acumulados['n_transaction'].isin(usuarios_muchos_pedidos['n_transaction'])) & \n",
    "    (~datos_acumulados['precio_por_pedido'].isin(usuarios_pedidos_caros['precio_por_pedido']))\n",
    "]\n",
    "\n",
    "grupo_b_filtrado = datos_acumulados[\n",
    "    (datos_acumulados['group'] == 'B') & \n",
    "    (~datos_acumulados['n_transaction'].isin(usuarios_muchos_pedidos['n_transaction'])) & \n",
    "    (~datos_acumulados['precio_por_pedido'].isin(usuarios_pedidos_caros['precio_por_pedido']))\n",
    "]\n",
    "\n",
    "# Verificar los tamaños después del filtrado\n",
    "print(f\"Tamaño original Grupo A: {datos_acumulados[datos_acumulados['group'] == 'A'].shape[0]}, después del filtrado: {grupo_a_filtrado.shape[0]}\")\n",
    "print(f\"Tamaño original Grupo B: {datos_acumulados[datos_acumulados['group'] == 'B'].shape[0]}, después del filtrado: {grupo_b_filtrado.shape[0]}\")\n"
   ]
  },
  {
   "cell_type": "markdown",
   "metadata": {},
   "source": [
    "\n",
    "<div class=\"alert alert-block alert-info\">\n",
    "<b>En esta parte tuve que retornar a revisar desde cómo se fijaron mis umbrales para anómalos, primero identifique que un umbral estaba mal, muy alto por lo que se procedio a calcular con el Df correcto. Por otro lado despues de mucho consultar e iterar con los ejercicios llegue a este método de filtrado. La clave me parece ser fue en el uso del operador de negación ~. Al parecer no lo estaba aplicando por lo que en lugar de filtrar los anómalos se estaban filtrando los normales jeje XD. Con apoyo de fuentes incluí la parte para asegurarse que después del filtrado habia suficientes datos para correr las pruebas mann-whitney. </b> <a class=“tocSkip”></a>\n",
    "</div>"
   ]
  },
  {
   "cell_type": "code",
   "execution_count": 176,
   "metadata": {},
   "outputs": [
    {
     "name": "stdout",
     "output_type": "stream",
     "text": [
      "Prueba de Mann-Whitney para conversión filtrado: p-valor = 0.76709\n",
      "Prueba de Mann-Whitney para TPP filtrado: p-valor = 0.56409\n"
     ]
    }
   ],
   "source": [
    "# Prueba para la diferencia en conversión para datos filtrados:\n",
    "p_valor_conversion = stats.mannwhitneyu(\n",
    "    grupo_a_filtrado['n_transaction'],\n",
    "    grupo_b_filtrado['n_transaction'],\n",
    "    alternative=\"two-sided\"\n",
    ")[1]\n",
    "\n",
    "# Prueba para el tamaño promedio de pedido con datos filtrados:\n",
    "p_valor_tpp = stats.mannwhitneyu(\n",
    "    grupo_a_filtrado['precio_por_pedido'],\n",
    "    grupo_b_filtrado['precio_por_pedido'],\n",
    "    alternative=\"two-sided\"\n",
    ")[1]\n",
    "\n",
    "print(f\"Prueba de Mann-Whitney para conversión filtrado: p-valor = {p_valor_conversion:.5f}\")\n",
    "print(f\"Prueba de Mann-Whitney para TPP filtrado: p-valor = {p_valor_tpp:.5f}\")\n"
   ]
  },
  {
   "cell_type": "markdown",
   "metadata": {},
   "source": [
    "# CONCLUSIONES"
   ]
  },
  {
   "cell_type": "markdown",
   "metadata": {},
   "source": [
    "De acuerdo a las gráficas y resultados la sugerencia es que el experimente ha sido un exito hasta ahora con el grupo B mostrando diferencias estadísticamente representativas en algunas de las métricas. Sin embargo de existir los recursos para continuar con experimento se puede dejar correr para observar su comportamiento a largo plazo, toda vez que existe una tendencia hacia la baja y habria que analizar su comportamiento en periodos más largos."
   ]
  },
  {
   "cell_type": "markdown",
   "metadata": {},
   "source": [
    "<div class=\"alert alert-block alert-danger\">\n",
    "<b>Comentario general (1ra Iteracion)</b> <a class=“tocSkip”></a>\n",
    "\n",
    "Buen avance de tu proyecto Andrés, te he dejado algunos comentarios donde hay oportunidad de mejora pero en sí las correcciones son muy pocas para completar tu proyecto.\n",
    "    \n",
    "Sobre las conclusiones te pediría ser un poco más detallado, esta parte es donde se debe hacer referencia a los hallazgos importantes de tu notebook y tienes varias gráficas y cálculos a lo largo del notebook de los cuales debes obtener hallazgos y mencionarlos acá cómo un resúmen. Debes dejar claro cómo tu análisis aporta valor a la empresa\n",
    "</div>"
   ]
  },
  {
   "cell_type": "markdown",
   "metadata": {},
   "source": [
    "#Nueva conclusión:\n",
    "Con los datos que hemos obtenido podemos sugerir terminar el experimento ya que con los resultados podemos concluir que si bien lo que parecía un resultado positivo del experimento, ya una vez analizando los datos nos indica que en realidad no hay una diferencia estadìsticamente representativa. Si bien nuestras gráficas iniciales parecian indicar un resultado deseado, al momento de filtrar valores atìpicos, o clientes excepcionales, hemos descubierto que el experimento no està teniendo los resultados requeridos como para sugerir su implementación post-alpha. Los datos no nos indican un impacto significativo en la conversiòn ni en el tamaño de pedido.\n",
    "Podemos sugerir el probar alguna de las otras hipòtesis para mejores resultados o incluso revisar nuestras suposiciones al momento de construir nuestra hipótesis prioritaria.\n",
    "Por ultimo, y de acuerdo a las gráficas que generamos podemos proyectar que de continuar el experimento, si los recursos lo permiten, se comprobará que con el paso del tiempo no hay diferencias entre el grupo de control el de experimento, tal y como comienzan a mostrar las graficas que hemos generado.\n"
   ]
  },
  {
   "cell_type": "markdown",
   "metadata": {},
   "source": [
    "<div class=\"alert alert-block alert-success\">\n",
    "<b>Comentario general (2da Iteracion)</b> <a class=“tocSkip”></a>\n",
    "\n",
    "Buen trabajo con los ajustes Andrés! Ahora es muhco más detallado y completo tu proyecto. Siempre procura revisar los valores atípicos en tus datos ya que estos pueden alterar los resultados de tus análisis. Saludos!\n",
    "</div>"
   ]
  }
 ],
 "metadata": {
  "ExecuteTimeLog": [
   {
    "duration": 2608,
    "start_time": "2025-01-30T22:20:21.081Z"
   },
   {
    "duration": 589,
    "start_time": "2025-01-30T22:20:23.691Z"
   },
   {
    "duration": 0,
    "start_time": "2025-01-30T22:20:24.282Z"
   },
   {
    "duration": 14,
    "start_time": "2025-01-30T22:20:56.998Z"
   },
   {
    "duration": 14,
    "start_time": "2025-01-30T22:21:00.720Z"
   },
   {
    "duration": 14,
    "start_time": "2025-01-30T22:21:38.051Z"
   },
   {
    "duration": 13,
    "start_time": "2025-01-30T22:22:04.954Z"
   },
   {
    "duration": 160,
    "start_time": "2025-01-31T19:11:35.673Z"
   },
   {
    "duration": 2618,
    "start_time": "2025-01-31T19:11:47.582Z"
   },
   {
    "duration": 19,
    "start_time": "2025-01-31T19:11:50.203Z"
   },
   {
    "duration": 13,
    "start_time": "2025-01-31T19:11:50.224Z"
   },
   {
    "duration": 15,
    "start_time": "2025-01-31T19:11:50.239Z"
   },
   {
    "duration": 32,
    "start_time": "2025-01-31T19:11:50.256Z"
   },
   {
    "duration": 14,
    "start_time": "2025-01-31T19:11:50.291Z"
   },
   {
    "duration": 3,
    "start_time": "2025-01-31T21:58:34.440Z"
   },
   {
    "duration": 16,
    "start_time": "2025-01-31T21:58:34.445Z"
   },
   {
    "duration": 13,
    "start_time": "2025-01-31T21:58:34.463Z"
   },
   {
    "duration": 13,
    "start_time": "2025-01-31T21:58:34.478Z"
   },
   {
    "duration": 17,
    "start_time": "2025-01-31T21:58:34.493Z"
   },
   {
    "duration": 14,
    "start_time": "2025-01-31T21:58:34.511Z"
   },
   {
    "duration": 15,
    "start_time": "2025-01-31T21:58:40.316Z"
   },
   {
    "duration": 19,
    "start_time": "2025-01-31T21:58:57.861Z"
   },
   {
    "duration": 6,
    "start_time": "2025-01-31T22:19:17.670Z"
   },
   {
    "duration": 100,
    "start_time": "2025-01-31T22:19:33.310Z"
   },
   {
    "duration": 6,
    "start_time": "2025-01-31T22:19:46.391Z"
   },
   {
    "duration": 20,
    "start_time": "2025-01-31T22:25:42.643Z"
   },
   {
    "duration": 9,
    "start_time": "2025-01-31T22:26:18.014Z"
   },
   {
    "duration": 6,
    "start_time": "2025-01-31T22:26:21.873Z"
   },
   {
    "duration": 7,
    "start_time": "2025-01-31T22:26:32.008Z"
   },
   {
    "duration": 7,
    "start_time": "2025-01-31T22:26:37.911Z"
   },
   {
    "duration": 6,
    "start_time": "2025-01-31T22:26:44.219Z"
   },
   {
    "duration": 8,
    "start_time": "2025-01-31T22:26:49.178Z"
   },
   {
    "duration": 162,
    "start_time": "2025-02-02T20:58:15.063Z"
   },
   {
    "duration": 2611,
    "start_time": "2025-02-02T20:58:27.823Z"
   },
   {
    "duration": 21,
    "start_time": "2025-02-02T20:58:30.436Z"
   },
   {
    "duration": 14,
    "start_time": "2025-02-02T20:58:30.459Z"
   },
   {
    "duration": 22,
    "start_time": "2025-02-02T20:58:30.475Z"
   },
   {
    "duration": 14,
    "start_time": "2025-02-02T20:58:30.500Z"
   },
   {
    "duration": 12,
    "start_time": "2025-02-02T20:58:30.516Z"
   },
   {
    "duration": 5,
    "start_time": "2025-02-02T20:58:30.530Z"
   },
   {
    "duration": 6,
    "start_time": "2025-02-02T20:58:30.536Z"
   },
   {
    "duration": 5,
    "start_time": "2025-02-02T20:58:30.544Z"
   },
   {
    "duration": 7,
    "start_time": "2025-02-02T20:58:30.587Z"
   },
   {
    "duration": 6,
    "start_time": "2025-02-02T20:58:30.595Z"
   },
   {
    "duration": 6,
    "start_time": "2025-02-02T20:58:30.602Z"
   },
   {
    "duration": 5,
    "start_time": "2025-02-02T20:58:30.609Z"
   },
   {
    "duration": 5,
    "start_time": "2025-02-02T20:58:30.618Z"
   },
   {
    "duration": 4,
    "start_time": "2025-02-02T20:58:43.374Z"
   },
   {
    "duration": 6,
    "start_time": "2025-02-02T20:59:27.677Z"
   },
   {
    "duration": 9,
    "start_time": "2025-02-02T20:59:53.988Z"
   },
   {
    "duration": 4,
    "start_time": "2025-02-02T21:06:35.769Z"
   },
   {
    "duration": 4,
    "start_time": "2025-02-02T21:07:43.140Z"
   },
   {
    "duration": 3,
    "start_time": "2025-02-02T21:07:45.272Z"
   },
   {
    "duration": 10,
    "start_time": "2025-02-02T21:07:54.927Z"
   },
   {
    "duration": 377,
    "start_time": "2025-02-02T21:24:21.439Z"
   },
   {
    "duration": 357,
    "start_time": "2025-02-02T21:25:02.662Z"
   },
   {
    "duration": 20,
    "start_time": "2025-02-02T21:31:10.532Z"
   },
   {
    "duration": 213,
    "start_time": "2025-02-02T21:33:50.025Z"
   },
   {
    "duration": 213,
    "start_time": "2025-02-02T21:34:13.323Z"
   },
   {
    "duration": 737,
    "start_time": "2025-02-02T21:34:33.018Z"
   },
   {
    "duration": 279,
    "start_time": "2025-02-02T21:37:53.872Z"
   },
   {
    "duration": 86,
    "start_time": "2025-02-02T21:40:57.797Z"
   },
   {
    "duration": 52,
    "start_time": "2025-02-02T21:42:07.837Z"
   },
   {
    "duration": 43,
    "start_time": "2025-02-02T21:42:21.213Z"
   },
   {
    "duration": 46,
    "start_time": "2025-02-02T21:42:39.632Z"
   },
   {
    "duration": 18,
    "start_time": "2025-02-02T21:43:01.898Z"
   },
   {
    "duration": 262,
    "start_time": "2025-02-02T21:44:37.268Z"
   },
   {
    "duration": 275,
    "start_time": "2025-02-02T21:45:30.203Z"
   },
   {
    "duration": 4,
    "start_time": "2025-02-02T22:29:07.466Z"
   },
   {
    "duration": 5,
    "start_time": "2025-02-02T22:30:05.225Z"
   },
   {
    "duration": 85,
    "start_time": "2025-02-02T22:32:23.717Z"
   },
   {
    "duration": 82,
    "start_time": "2025-02-02T22:32:59.521Z"
   },
   {
    "duration": 81,
    "start_time": "2025-02-02T22:33:10.664Z"
   },
   {
    "duration": 79,
    "start_time": "2025-02-02T22:33:18.401Z"
   },
   {
    "duration": 414,
    "start_time": "2025-02-02T22:33:33.663Z"
   },
   {
    "duration": 80,
    "start_time": "2025-02-02T22:33:39.232Z"
   },
   {
    "duration": 4,
    "start_time": "2025-02-02T22:39:58.748Z"
   },
   {
    "duration": 15,
    "start_time": "2025-02-02T22:40:14.563Z"
   },
   {
    "duration": 14,
    "start_time": "2025-02-02T22:40:48.245Z"
   },
   {
    "duration": 484,
    "start_time": "2025-02-02T22:57:58.876Z"
   },
   {
    "duration": 19,
    "start_time": "2025-02-02T22:58:18.434Z"
   },
   {
    "duration": 18,
    "start_time": "2025-02-02T22:58:37.226Z"
   },
   {
    "duration": 6,
    "start_time": "2025-02-02T22:58:56.442Z"
   },
   {
    "duration": 20,
    "start_time": "2025-02-02T22:59:19.674Z"
   },
   {
    "duration": 20,
    "start_time": "2025-02-02T23:00:03.016Z"
   },
   {
    "duration": 7,
    "start_time": "2025-02-02T23:00:16.234Z"
   },
   {
    "duration": 8,
    "start_time": "2025-02-02T23:00:32.432Z"
   },
   {
    "duration": 46,
    "start_time": "2025-02-02T23:05:46.982Z"
   },
   {
    "duration": 4,
    "start_time": "2025-02-02T23:05:58.925Z"
   },
   {
    "duration": 5,
    "start_time": "2025-02-02T23:07:18.637Z"
   },
   {
    "duration": 96,
    "start_time": "2025-02-02T23:07:28.340Z"
   },
   {
    "duration": 5,
    "start_time": "2025-02-02T23:21:15.480Z"
   },
   {
    "duration": 17,
    "start_time": "2025-02-02T23:21:34.397Z"
   },
   {
    "duration": 6,
    "start_time": "2025-02-02T23:21:47.846Z"
   },
   {
    "duration": 99,
    "start_time": "2025-02-02T23:23:35.060Z"
   },
   {
    "duration": 102,
    "start_time": "2025-02-02T23:23:43.875Z"
   },
   {
    "duration": 97,
    "start_time": "2025-02-02T23:23:52.364Z"
   },
   {
    "duration": 98,
    "start_time": "2025-02-02T23:23:59.475Z"
   },
   {
    "duration": 97,
    "start_time": "2025-02-02T23:25:02.627Z"
   },
   {
    "duration": 2540,
    "start_time": "2025-02-03T05:03:58.732Z"
   },
   {
    "duration": 23,
    "start_time": "2025-02-03T05:04:01.274Z"
   },
   {
    "duration": 14,
    "start_time": "2025-02-03T05:04:01.299Z"
   },
   {
    "duration": 14,
    "start_time": "2025-02-03T05:04:01.315Z"
   },
   {
    "duration": 11,
    "start_time": "2025-02-03T05:04:01.332Z"
   },
   {
    "duration": 11,
    "start_time": "2025-02-03T05:04:01.345Z"
   },
   {
    "duration": 5,
    "start_time": "2025-02-03T05:04:01.358Z"
   },
   {
    "duration": 47,
    "start_time": "2025-02-03T05:04:01.365Z"
   },
   {
    "duration": 6,
    "start_time": "2025-02-03T05:04:01.413Z"
   },
   {
    "duration": 6,
    "start_time": "2025-02-03T05:04:01.421Z"
   },
   {
    "duration": 5,
    "start_time": "2025-02-03T05:04:01.429Z"
   },
   {
    "duration": 5,
    "start_time": "2025-02-03T05:04:01.435Z"
   },
   {
    "duration": 5,
    "start_time": "2025-02-03T05:04:01.442Z"
   },
   {
    "duration": 9,
    "start_time": "2025-02-03T05:04:01.451Z"
   },
   {
    "duration": 4,
    "start_time": "2025-02-03T05:04:01.461Z"
   },
   {
    "duration": 45,
    "start_time": "2025-02-03T05:04:01.466Z"
   },
   {
    "duration": 301,
    "start_time": "2025-02-03T05:04:01.512Z"
   },
   {
    "duration": 269,
    "start_time": "2025-02-03T05:04:01.816Z"
   },
   {
    "duration": 24,
    "start_time": "2025-02-03T05:04:02.087Z"
   },
   {
    "duration": 4,
    "start_time": "2025-02-03T05:04:02.113Z"
   },
   {
    "duration": 5,
    "start_time": "2025-02-03T05:04:02.119Z"
   },
   {
    "duration": 108,
    "start_time": "2025-02-03T05:04:02.125Z"
   },
   {
    "duration": 5,
    "start_time": "2025-02-03T05:04:02.234Z"
   },
   {
    "duration": 111,
    "start_time": "2025-02-03T05:04:02.241Z"
   },
   {
    "duration": 11,
    "start_time": "2025-02-03T05:05:58.393Z"
   },
   {
    "duration": 84,
    "start_time": "2025-02-03T05:07:38.312Z"
   },
   {
    "duration": 213,
    "start_time": "2025-02-03T05:24:46.222Z"
   },
   {
    "duration": 4,
    "start_time": "2025-02-03T05:24:51.815Z"
   },
   {
    "duration": 6,
    "start_time": "2025-02-03T05:51:24.112Z"
   },
   {
    "duration": 4,
    "start_time": "2025-02-03T05:51:34.057Z"
   },
   {
    "duration": 4,
    "start_time": "2025-02-03T05:51:39.783Z"
   },
   {
    "duration": 238,
    "start_time": "2025-02-03T05:52:10.296Z"
   },
   {
    "duration": 130,
    "start_time": "2025-02-03T05:52:35.031Z"
   },
   {
    "duration": 127,
    "start_time": "2025-02-03T05:53:26.059Z"
   },
   {
    "duration": 12,
    "start_time": "2025-02-03T05:56:39.733Z"
   },
   {
    "duration": 94,
    "start_time": "2025-02-03T06:02:03.594Z"
   },
   {
    "duration": 15,
    "start_time": "2025-02-03T06:04:32.409Z"
   },
   {
    "duration": 180,
    "start_time": "2025-02-03T06:12:25.862Z"
   },
   {
    "duration": 146,
    "start_time": "2025-02-03T06:14:40.277Z"
   },
   {
    "duration": 10,
    "start_time": "2025-02-03T06:14:40.425Z"
   },
   {
    "duration": 102,
    "start_time": "2025-02-03T06:14:40.437Z"
   },
   {
    "duration": 13,
    "start_time": "2025-02-03T06:14:40.541Z"
   },
   {
    "duration": 7,
    "start_time": "2025-02-03T06:14:40.555Z"
   },
   {
    "duration": 5,
    "start_time": "2025-02-03T06:14:40.564Z"
   },
   {
    "duration": 115,
    "start_time": "2025-02-03T06:14:40.570Z"
   },
   {
    "duration": 4,
    "start_time": "2025-02-03T06:14:40.687Z"
   },
   {
    "duration": 105,
    "start_time": "2025-02-03T06:14:40.693Z"
   },
   {
    "duration": 8,
    "start_time": "2025-02-03T06:15:10.795Z"
   },
   {
    "duration": 12,
    "start_time": "2025-02-03T06:15:20.307Z"
   },
   {
    "duration": 9,
    "start_time": "2025-02-03T06:15:33.011Z"
   },
   {
    "duration": 8,
    "start_time": "2025-02-03T06:15:37.797Z"
   },
   {
    "duration": 144,
    "start_time": "2025-02-03T06:20:10.153Z"
   },
   {
    "duration": 15,
    "start_time": "2025-02-03T06:39:25.326Z"
   },
   {
    "duration": 347,
    "start_time": "2025-02-03T06:57:47.165Z"
   },
   {
    "duration": 8,
    "start_time": "2025-02-03T06:58:22.453Z"
   },
   {
    "duration": 628,
    "start_time": "2025-02-03T07:00:34.901Z"
   },
   {
    "duration": 46,
    "start_time": "2025-02-03T07:04:35.921Z"
   },
   {
    "duration": 166,
    "start_time": "2025-02-03T07:04:57.265Z"
   },
   {
    "duration": 153,
    "start_time": "2025-02-03T07:06:43.136Z"
   },
   {
    "duration": 16,
    "start_time": "2025-02-03T07:13:22.132Z"
   },
   {
    "duration": 822,
    "start_time": "2025-02-03T07:16:05.554Z"
   },
   {
    "duration": 3,
    "start_time": "2025-02-03T21:20:21.381Z"
   },
   {
    "duration": 14,
    "start_time": "2025-02-03T21:20:21.387Z"
   },
   {
    "duration": 10,
    "start_time": "2025-02-03T21:20:21.402Z"
   },
   {
    "duration": 14,
    "start_time": "2025-02-03T21:20:21.414Z"
   },
   {
    "duration": 12,
    "start_time": "2025-02-03T21:20:21.430Z"
   },
   {
    "duration": 36,
    "start_time": "2025-02-03T21:20:21.443Z"
   },
   {
    "duration": 5,
    "start_time": "2025-02-03T21:20:21.480Z"
   },
   {
    "duration": 6,
    "start_time": "2025-02-03T21:20:21.487Z"
   },
   {
    "duration": 5,
    "start_time": "2025-02-03T21:20:21.495Z"
   },
   {
    "duration": 7,
    "start_time": "2025-02-03T21:20:21.502Z"
   },
   {
    "duration": 6,
    "start_time": "2025-02-03T21:20:21.510Z"
   },
   {
    "duration": 6,
    "start_time": "2025-02-03T21:20:21.517Z"
   },
   {
    "duration": 46,
    "start_time": "2025-02-03T21:20:21.524Z"
   },
   {
    "duration": 11,
    "start_time": "2025-02-03T21:20:21.578Z"
   },
   {
    "duration": 5,
    "start_time": "2025-02-03T21:20:21.592Z"
   },
   {
    "duration": 12,
    "start_time": "2025-02-03T21:20:21.599Z"
   },
   {
    "duration": 309,
    "start_time": "2025-02-03T21:20:21.613Z"
   },
   {
    "duration": 279,
    "start_time": "2025-02-03T21:20:21.924Z"
   },
   {
    "duration": 10,
    "start_time": "2025-02-03T21:20:22.205Z"
   },
   {
    "duration": 3,
    "start_time": "2025-02-03T21:20:22.217Z"
   },
   {
    "duration": 14,
    "start_time": "2025-02-03T21:20:22.222Z"
   },
   {
    "duration": 4,
    "start_time": "2025-02-03T21:20:22.238Z"
   },
   {
    "duration": 157,
    "start_time": "2025-02-03T21:20:22.243Z"
   },
   {
    "duration": 9,
    "start_time": "2025-02-03T21:20:22.402Z"
   },
   {
    "duration": 107,
    "start_time": "2025-02-03T21:20:22.412Z"
   },
   {
    "duration": 12,
    "start_time": "2025-02-03T21:20:22.520Z"
   },
   {
    "duration": 8,
    "start_time": "2025-02-03T21:20:22.534Z"
   },
   {
    "duration": 168,
    "start_time": "2025-02-03T21:20:22.543Z"
   },
   {
    "duration": 15,
    "start_time": "2025-02-03T21:20:22.713Z"
   },
   {
    "duration": 0,
    "start_time": "2025-02-03T21:20:22.730Z"
   },
   {
    "duration": 347,
    "start_time": "2025-02-03T21:28:44.535Z"
   },
   {
    "duration": 54,
    "start_time": "2025-02-03T21:30:06.933Z"
   },
   {
    "duration": 156,
    "start_time": "2025-02-03T21:34:24.835Z"
   },
   {
    "duration": 4,
    "start_time": "2025-02-03T21:37:11.320Z"
   },
   {
    "duration": 5,
    "start_time": "2025-02-03T21:38:27.320Z"
   },
   {
    "duration": 598,
    "start_time": "2025-02-03T21:39:09.353Z"
   },
   {
    "duration": 13,
    "start_time": "2025-02-03T21:42:47.806Z"
   },
   {
    "duration": 14,
    "start_time": "2025-02-03T21:42:51.552Z"
   },
   {
    "duration": 267,
    "start_time": "2025-02-03T21:42:54.310Z"
   },
   {
    "duration": 6,
    "start_time": "2025-02-03T21:48:33.323Z"
   },
   {
    "duration": 6,
    "start_time": "2025-02-03T21:49:20.310Z"
   },
   {
    "duration": 230,
    "start_time": "2025-02-03T21:49:21.651Z"
   },
   {
    "duration": 410,
    "start_time": "2025-02-03T21:55:35.255Z"
   },
   {
    "duration": 5,
    "start_time": "2025-02-03T21:57:54.488Z"
   },
   {
    "duration": 17,
    "start_time": "2025-02-03T21:58:32.506Z"
   },
   {
    "duration": 140,
    "start_time": "2025-02-03T21:58:57.365Z"
   },
   {
    "duration": 6,
    "start_time": "2025-02-03T22:05:40.509Z"
   },
   {
    "duration": 4,
    "start_time": "2025-02-03T22:05:49.770Z"
   },
   {
    "duration": 4,
    "start_time": "2025-02-03T22:43:40.126Z"
   },
   {
    "duration": 3,
    "start_time": "2025-02-03T22:44:50.702Z"
   },
   {
    "duration": 3,
    "start_time": "2025-02-03T22:47:37.716Z"
   },
   {
    "duration": 4,
    "start_time": "2025-02-03T22:48:19.539Z"
   },
   {
    "duration": 3,
    "start_time": "2025-02-03T22:55:52.168Z"
   },
   {
    "duration": 203,
    "start_time": "2025-02-03T22:57:02.855Z"
   },
   {
    "duration": 3,
    "start_time": "2025-02-03T22:59:41.413Z"
   },
   {
    "duration": 4,
    "start_time": "2025-02-03T22:59:49.526Z"
   },
   {
    "duration": 3,
    "start_time": "2025-02-03T22:59:59.366Z"
   },
   {
    "duration": 6,
    "start_time": "2025-02-03T23:10:09.626Z"
   },
   {
    "duration": 7,
    "start_time": "2025-02-03T23:12:01.283Z"
   },
   {
    "duration": 15,
    "start_time": "2025-02-03T23:12:02.799Z"
   },
   {
    "duration": 6,
    "start_time": "2025-02-03T23:13:57.118Z"
   },
   {
    "duration": 4,
    "start_time": "2025-02-03T23:14:00.254Z"
   },
   {
    "duration": 8,
    "start_time": "2025-02-03T23:16:15.380Z"
   },
   {
    "duration": 6,
    "start_time": "2025-02-03T23:16:48.621Z"
   },
   {
    "duration": 5,
    "start_time": "2025-02-03T23:17:39.148Z"
   },
   {
    "duration": 11,
    "start_time": "2025-02-03T23:17:43.916Z"
   },
   {
    "duration": 6,
    "start_time": "2025-02-03T23:18:06.821Z"
   },
   {
    "duration": 4,
    "start_time": "2025-02-03T23:18:06.830Z"
   },
   {
    "duration": 7,
    "start_time": "2025-02-03T23:18:06.836Z"
   },
   {
    "duration": 5,
    "start_time": "2025-02-03T23:18:06.844Z"
   },
   {
    "duration": 11,
    "start_time": "2025-02-03T23:18:06.850Z"
   },
   {
    "duration": 6,
    "start_time": "2025-02-03T23:21:57.790Z"
   },
   {
    "duration": 14,
    "start_time": "2025-02-03T23:22:01.394Z"
   },
   {
    "duration": 11,
    "start_time": "2025-02-03T23:22:09.507Z"
   },
   {
    "duration": 5,
    "start_time": "2025-02-03T23:23:18.841Z"
   },
   {
    "duration": 11,
    "start_time": "2025-02-03T23:23:20.746Z"
   },
   {
    "duration": 12,
    "start_time": "2025-02-03T23:23:27.081Z"
   },
   {
    "duration": 6,
    "start_time": "2025-02-03T23:27:34.446Z"
   },
   {
    "duration": 10,
    "start_time": "2025-02-03T23:27:37.120Z"
   },
   {
    "duration": 66,
    "start_time": "2025-02-03T23:33:09.091Z"
   },
   {
    "duration": 41,
    "start_time": "2025-02-03T23:33:24.138Z"
   },
   {
    "duration": 43,
    "start_time": "2025-02-03T23:33:35.292Z"
   },
   {
    "duration": 5,
    "start_time": "2025-02-03T23:34:14.803Z"
   },
   {
    "duration": 5,
    "start_time": "2025-02-03T23:34:23.066Z"
   },
   {
    "duration": 95,
    "start_time": "2025-02-03T23:34:41.118Z"
   },
   {
    "duration": 47,
    "start_time": "2025-02-03T23:37:18.954Z"
   },
   {
    "duration": 9,
    "start_time": "2025-02-03T23:37:53.657Z"
   },
   {
    "duration": 54,
    "start_time": "2025-02-03T23:44:08.845Z"
   },
   {
    "duration": 10,
    "start_time": "2025-02-03T23:44:42.349Z"
   },
   {
    "duration": 75,
    "start_time": "2025-02-03T23:55:41.320Z"
   },
   {
    "duration": 9,
    "start_time": "2025-02-04T00:09:00.762Z"
   },
   {
    "duration": 8,
    "start_time": "2025-02-04T00:09:04.257Z"
   },
   {
    "duration": 4,
    "start_time": "2025-02-04T00:10:31.040Z"
   },
   {
    "duration": 13,
    "start_time": "2025-02-04T00:11:10.943Z"
   },
   {
    "duration": 5,
    "start_time": "2025-02-04T00:17:26.468Z"
   },
   {
    "duration": 11,
    "start_time": "2025-02-04T00:17:36.718Z"
   },
   {
    "duration": 6,
    "start_time": "2025-02-04T00:18:45.715Z"
   },
   {
    "duration": 12,
    "start_time": "2025-02-04T00:18:47.590Z"
   },
   {
    "duration": 5,
    "start_time": "2025-02-04T00:20:49.077Z"
   },
   {
    "duration": 898,
    "start_time": "2025-02-04T21:10:56.327Z"
   },
   {
    "duration": 23,
    "start_time": "2025-02-04T21:10:57.228Z"
   },
   {
    "duration": 15,
    "start_time": "2025-02-04T21:10:57.252Z"
   },
   {
    "duration": 19,
    "start_time": "2025-02-04T21:10:57.269Z"
   },
   {
    "duration": 20,
    "start_time": "2025-02-04T21:10:57.292Z"
   },
   {
    "duration": 13,
    "start_time": "2025-02-04T21:10:57.317Z"
   },
   {
    "duration": 6,
    "start_time": "2025-02-04T21:10:57.332Z"
   },
   {
    "duration": 7,
    "start_time": "2025-02-04T21:10:57.339Z"
   },
   {
    "duration": 5,
    "start_time": "2025-02-04T21:10:57.347Z"
   },
   {
    "duration": 5,
    "start_time": "2025-02-04T21:10:57.354Z"
   },
   {
    "duration": 7,
    "start_time": "2025-02-04T21:10:57.360Z"
   },
   {
    "duration": 39,
    "start_time": "2025-02-04T21:10:57.370Z"
   },
   {
    "duration": 8,
    "start_time": "2025-02-04T21:10:57.411Z"
   },
   {
    "duration": 11,
    "start_time": "2025-02-04T21:10:57.425Z"
   },
   {
    "duration": 4,
    "start_time": "2025-02-04T21:10:57.437Z"
   },
   {
    "duration": 8,
    "start_time": "2025-02-04T21:10:57.443Z"
   },
   {
    "duration": 321,
    "start_time": "2025-02-04T21:10:57.453Z"
   },
   {
    "duration": 296,
    "start_time": "2025-02-04T21:10:57.776Z"
   },
   {
    "duration": 9,
    "start_time": "2025-02-04T21:10:58.074Z"
   },
   {
    "duration": 5,
    "start_time": "2025-02-04T21:10:58.085Z"
   },
   {
    "duration": 35,
    "start_time": "2025-02-04T21:10:58.091Z"
   },
   {
    "duration": 7,
    "start_time": "2025-02-04T21:10:58.127Z"
   },
   {
    "duration": 229,
    "start_time": "2025-02-04T21:10:58.136Z"
   },
   {
    "duration": 10,
    "start_time": "2025-02-04T21:10:58.369Z"
   },
   {
    "duration": 98,
    "start_time": "2025-02-04T21:10:58.380Z"
   },
   {
    "duration": 29,
    "start_time": "2025-02-04T21:10:58.481Z"
   },
   {
    "duration": 8,
    "start_time": "2025-02-04T21:10:58.512Z"
   },
   {
    "duration": 166,
    "start_time": "2025-02-04T21:10:58.521Z"
   },
   {
    "duration": 188,
    "start_time": "2025-02-04T21:10:58.689Z"
   },
   {
    "duration": 14,
    "start_time": "2025-02-04T21:10:58.879Z"
   },
   {
    "duration": 274,
    "start_time": "2025-02-04T21:10:58.895Z"
   },
   {
    "duration": 7,
    "start_time": "2025-02-04T21:10:59.171Z"
   },
   {
    "duration": 291,
    "start_time": "2025-02-04T21:10:59.179Z"
   },
   {
    "duration": 7,
    "start_time": "2025-02-04T21:10:59.472Z"
   },
   {
    "duration": 157,
    "start_time": "2025-02-04T21:10:59.481Z"
   },
   {
    "duration": 3,
    "start_time": "2025-02-04T21:10:59.640Z"
   },
   {
    "duration": 3,
    "start_time": "2025-02-04T21:10:59.646Z"
   },
   {
    "duration": 245,
    "start_time": "2025-02-04T21:10:59.651Z"
   },
   {
    "duration": 13,
    "start_time": "2025-02-04T21:10:59.898Z"
   },
   {
    "duration": 8,
    "start_time": "2025-02-04T21:10:59.913Z"
   },
   {
    "duration": 8,
    "start_time": "2025-02-04T21:10:59.925Z"
   },
   {
    "duration": 6,
    "start_time": "2025-02-04T21:10:59.935Z"
   },
   {
    "duration": 0,
    "start_time": "2025-02-04T21:10:59.942Z"
   },
   {
    "duration": 0,
    "start_time": "2025-02-04T21:10:59.944Z"
   },
   {
    "duration": 9,
    "start_time": "2025-02-04T21:11:15.355Z"
   },
   {
    "duration": 6,
    "start_time": "2025-02-04T21:11:19.335Z"
   },
   {
    "duration": 11,
    "start_time": "2025-02-04T21:11:24.776Z"
   },
   {
    "duration": 7,
    "start_time": "2025-02-04T21:11:31.635Z"
   },
   {
    "duration": 5,
    "start_time": "2025-02-04T21:17:32.192Z"
   },
   {
    "duration": 12,
    "start_time": "2025-02-04T21:17:32.747Z"
   },
   {
    "duration": 5,
    "start_time": "2025-02-04T21:26:00.633Z"
   },
   {
    "duration": 5,
    "start_time": "2025-02-04T21:27:59.032Z"
   },
   {
    "duration": 156,
    "start_time": "2025-02-05T17:06:52.810Z"
   },
   {
    "duration": 2525,
    "start_time": "2025-02-05T17:06:59.325Z"
   },
   {
    "duration": 24,
    "start_time": "2025-02-05T17:07:01.852Z"
   },
   {
    "duration": 13,
    "start_time": "2025-02-05T17:07:01.877Z"
   },
   {
    "duration": 14,
    "start_time": "2025-02-05T17:07:01.891Z"
   },
   {
    "duration": 20,
    "start_time": "2025-02-05T17:07:01.907Z"
   },
   {
    "duration": 11,
    "start_time": "2025-02-05T17:07:01.930Z"
   },
   {
    "duration": 5,
    "start_time": "2025-02-05T17:07:01.943Z"
   },
   {
    "duration": 5,
    "start_time": "2025-02-05T17:07:01.949Z"
   },
   {
    "duration": 6,
    "start_time": "2025-02-05T17:07:01.956Z"
   },
   {
    "duration": 6,
    "start_time": "2025-02-05T17:07:01.964Z"
   },
   {
    "duration": 7,
    "start_time": "2025-02-05T17:07:01.971Z"
   },
   {
    "duration": 5,
    "start_time": "2025-02-05T17:07:01.979Z"
   },
   {
    "duration": 5,
    "start_time": "2025-02-05T17:07:02.024Z"
   },
   {
    "duration": 9,
    "start_time": "2025-02-05T17:07:02.034Z"
   },
   {
    "duration": 3,
    "start_time": "2025-02-05T17:07:02.044Z"
   },
   {
    "duration": 8,
    "start_time": "2025-02-05T17:07:02.049Z"
   },
   {
    "duration": 314,
    "start_time": "2025-02-05T17:07:02.059Z"
   },
   {
    "duration": 269,
    "start_time": "2025-02-05T17:07:02.375Z"
   },
   {
    "duration": 8,
    "start_time": "2025-02-05T17:07:02.646Z"
   },
   {
    "duration": 4,
    "start_time": "2025-02-05T17:07:02.655Z"
   },
   {
    "duration": 16,
    "start_time": "2025-02-05T17:07:02.660Z"
   },
   {
    "duration": 4,
    "start_time": "2025-02-05T17:07:02.677Z"
   },
   {
    "duration": 159,
    "start_time": "2025-02-05T17:07:02.683Z"
   },
   {
    "duration": 10,
    "start_time": "2025-02-05T17:07:02.844Z"
   },
   {
    "duration": 112,
    "start_time": "2025-02-05T17:07:02.855Z"
   },
   {
    "duration": 12,
    "start_time": "2025-02-05T17:07:02.969Z"
   },
   {
    "duration": 8,
    "start_time": "2025-02-05T17:07:02.982Z"
   },
   {
    "duration": 169,
    "start_time": "2025-02-05T17:07:02.991Z"
   },
   {
    "duration": 165,
    "start_time": "2025-02-05T17:07:03.161Z"
   },
   {
    "duration": 12,
    "start_time": "2025-02-05T17:07:03.328Z"
   },
   {
    "duration": 295,
    "start_time": "2025-02-05T17:07:03.342Z"
   },
   {
    "duration": 5,
    "start_time": "2025-02-05T17:07:03.639Z"
   },
   {
    "duration": 281,
    "start_time": "2025-02-05T17:07:03.647Z"
   },
   {
    "duration": 5,
    "start_time": "2025-02-05T17:07:03.930Z"
   },
   {
    "duration": 158,
    "start_time": "2025-02-05T17:07:03.936Z"
   },
   {
    "duration": 4,
    "start_time": "2025-02-05T17:07:04.096Z"
   },
   {
    "duration": 7,
    "start_time": "2025-02-05T17:07:04.103Z"
   },
   {
    "duration": 3,
    "start_time": "2025-02-05T17:07:04.123Z"
   },
   {
    "duration": 204,
    "start_time": "2025-02-05T17:07:04.129Z"
   },
   {
    "duration": 4,
    "start_time": "2025-02-05T17:07:04.335Z"
   },
   {
    "duration": 8,
    "start_time": "2025-02-05T17:07:04.344Z"
   },
   {
    "duration": 7,
    "start_time": "2025-02-05T17:07:04.353Z"
   },
   {
    "duration": 5,
    "start_time": "2025-02-05T17:07:04.362Z"
   },
   {
    "duration": 15,
    "start_time": "2025-02-05T17:07:04.368Z"
   },
   {
    "duration": 9,
    "start_time": "2025-02-05T17:26:26.279Z"
   },
   {
    "duration": 3,
    "start_time": "2025-02-05T17:28:37.597Z"
   },
   {
    "duration": 4,
    "start_time": "2025-02-05T17:28:46.342Z"
   },
   {
    "duration": 3,
    "start_time": "2025-02-05T17:28:53.446Z"
   },
   {
    "duration": 5,
    "start_time": "2025-02-05T17:29:45.153Z"
   },
   {
    "duration": 13,
    "start_time": "2025-02-05T17:29:49.304Z"
   },
   {
    "duration": 5,
    "start_time": "2025-02-05T17:29:57.741Z"
   },
   {
    "duration": 12,
    "start_time": "2025-02-05T17:30:02.866Z"
   },
   {
    "duration": 5,
    "start_time": "2025-02-05T17:32:41.256Z"
   },
   {
    "duration": 5,
    "start_time": "2025-02-05T17:33:21.623Z"
   },
   {
    "duration": 4,
    "start_time": "2025-02-05T17:33:41.255Z"
   },
   {
    "duration": 5,
    "start_time": "2025-02-05T17:34:04.649Z"
   },
   {
    "duration": 4,
    "start_time": "2025-02-05T17:34:33.206Z"
   },
   {
    "duration": 5,
    "start_time": "2025-02-05T17:34:52.674Z"
   },
   {
    "duration": 75,
    "start_time": "2025-02-05T17:35:15.845Z"
   },
   {
    "duration": 4,
    "start_time": "2025-02-05T17:35:23.727Z"
   },
   {
    "duration": 5,
    "start_time": "2025-02-05T17:36:18.945Z"
   },
   {
    "duration": 13,
    "start_time": "2025-02-05T17:36:20.933Z"
   },
   {
    "duration": 4,
    "start_time": "2025-02-05T17:36:28.088Z"
   },
   {
    "duration": 5,
    "start_time": "2025-02-05T17:36:51.788Z"
   },
   {
    "duration": 5,
    "start_time": "2025-02-05T17:36:53.494Z"
   },
   {
    "duration": 13,
    "start_time": "2025-02-05T17:37:46.176Z"
   },
   {
    "duration": 4,
    "start_time": "2025-02-05T17:40:55.797Z"
   },
   {
    "duration": 5,
    "start_time": "2025-02-05T17:41:20.173Z"
   },
   {
    "duration": 5,
    "start_time": "2025-02-05T17:42:19.254Z"
   },
   {
    "duration": 8,
    "start_time": "2025-02-05T17:44:03.239Z"
   },
   {
    "duration": 5,
    "start_time": "2025-02-05T17:47:16.847Z"
   },
   {
    "duration": 11,
    "start_time": "2025-02-05T17:47:24.008Z"
   },
   {
    "duration": 7,
    "start_time": "2025-02-05T17:48:58.536Z"
   },
   {
    "duration": 7,
    "start_time": "2025-02-05T17:48:58.608Z"
   },
   {
    "duration": 4,
    "start_time": "2025-02-05T17:52:39.197Z"
   },
   {
    "duration": 3,
    "start_time": "2025-02-05T17:53:10.785Z"
   },
   {
    "duration": 3,
    "start_time": "2025-02-05T17:53:43.066Z"
   },
   {
    "duration": 3,
    "start_time": "2025-02-05T17:55:24.114Z"
   },
   {
    "duration": 15,
    "start_time": "2025-02-05T17:55:24.119Z"
   },
   {
    "duration": 12,
    "start_time": "2025-02-05T17:55:24.136Z"
   },
   {
    "duration": 15,
    "start_time": "2025-02-05T17:55:24.151Z"
   },
   {
    "duration": 13,
    "start_time": "2025-02-05T17:55:24.167Z"
   },
   {
    "duration": 43,
    "start_time": "2025-02-05T17:55:24.181Z"
   },
   {
    "duration": 5,
    "start_time": "2025-02-05T17:55:24.226Z"
   },
   {
    "duration": 6,
    "start_time": "2025-02-05T17:55:24.233Z"
   },
   {
    "duration": 8,
    "start_time": "2025-02-05T17:55:24.240Z"
   },
   {
    "duration": 6,
    "start_time": "2025-02-05T17:55:24.252Z"
   },
   {
    "duration": 7,
    "start_time": "2025-02-05T17:55:24.259Z"
   },
   {
    "duration": 6,
    "start_time": "2025-02-05T17:55:24.267Z"
   },
   {
    "duration": 5,
    "start_time": "2025-02-05T17:55:24.275Z"
   },
   {
    "duration": 50,
    "start_time": "2025-02-05T17:55:24.282Z"
   },
   {
    "duration": 4,
    "start_time": "2025-02-05T17:55:24.333Z"
   },
   {
    "duration": 9,
    "start_time": "2025-02-05T17:55:24.339Z"
   },
   {
    "duration": 284,
    "start_time": "2025-02-05T17:55:24.350Z"
   },
   {
    "duration": 367,
    "start_time": "2025-02-05T17:55:24.636Z"
   },
   {
    "duration": 20,
    "start_time": "2025-02-05T17:55:25.005Z"
   },
   {
    "duration": 3,
    "start_time": "2025-02-05T17:55:25.027Z"
   },
   {
    "duration": 14,
    "start_time": "2025-02-05T17:55:25.032Z"
   },
   {
    "duration": 6,
    "start_time": "2025-02-05T17:55:25.048Z"
   },
   {
    "duration": 149,
    "start_time": "2025-02-05T17:55:25.055Z"
   },
   {
    "duration": 19,
    "start_time": "2025-02-05T17:55:25.206Z"
   },
   {
    "duration": 101,
    "start_time": "2025-02-05T17:55:25.227Z"
   },
   {
    "duration": 13,
    "start_time": "2025-02-05T17:55:25.330Z"
   },
   {
    "duration": 8,
    "start_time": "2025-02-05T17:55:25.345Z"
   },
   {
    "duration": 170,
    "start_time": "2025-02-05T17:55:25.358Z"
   },
   {
    "duration": 165,
    "start_time": "2025-02-05T17:55:25.530Z"
   },
   {
    "duration": 12,
    "start_time": "2025-02-05T17:55:25.697Z"
   },
   {
    "duration": 269,
    "start_time": "2025-02-05T17:55:25.710Z"
   },
   {
    "duration": 6,
    "start_time": "2025-02-05T17:55:25.981Z"
   },
   {
    "duration": 246,
    "start_time": "2025-02-05T17:55:25.990Z"
   },
   {
    "duration": 5,
    "start_time": "2025-02-05T17:55:26.238Z"
   },
   {
    "duration": 154,
    "start_time": "2025-02-05T17:55:26.245Z"
   },
   {
    "duration": 3,
    "start_time": "2025-02-05T17:55:26.401Z"
   },
   {
    "duration": 21,
    "start_time": "2025-02-05T17:55:26.406Z"
   },
   {
    "duration": 8,
    "start_time": "2025-02-05T17:55:26.429Z"
   },
   {
    "duration": 5,
    "start_time": "2025-02-05T17:55:26.439Z"
   },
   {
    "duration": 221,
    "start_time": "2025-02-05T17:55:26.445Z"
   },
   {
    "duration": 3,
    "start_time": "2025-02-05T17:55:26.669Z"
   },
   {
    "duration": 9,
    "start_time": "2025-02-05T17:55:26.674Z"
   },
   {
    "duration": 8,
    "start_time": "2025-02-05T17:55:26.684Z"
   },
   {
    "duration": 11,
    "start_time": "2025-02-05T17:55:37.046Z"
   },
   {
    "duration": 7,
    "start_time": "2025-02-05T18:01:41.257Z"
   },
   {
    "duration": 6,
    "start_time": "2025-02-05T18:03:54.923Z"
   },
   {
    "duration": 4,
    "start_time": "2025-02-05T18:03:58.516Z"
   },
   {
    "duration": 8,
    "start_time": "2025-02-05T18:05:36.988Z"
   },
   {
    "duration": 7,
    "start_time": "2025-02-05T18:08:22.892Z"
   },
   {
    "duration": 5,
    "start_time": "2025-02-05T18:14:58.630Z"
   },
   {
    "duration": 7,
    "start_time": "2025-02-05T18:18:10.989Z"
   },
   {
    "duration": 2,
    "start_time": "2025-02-05T18:19:21.258Z"
   },
   {
    "duration": 9,
    "start_time": "2025-02-05T18:22:21.883Z"
   },
   {
    "duration": 2,
    "start_time": "2025-02-05T18:28:47.348Z"
   },
   {
    "duration": 16,
    "start_time": "2025-02-05T18:28:47.352Z"
   },
   {
    "duration": 12,
    "start_time": "2025-02-05T18:28:47.371Z"
   },
   {
    "duration": 14,
    "start_time": "2025-02-05T18:28:47.386Z"
   },
   {
    "duration": 22,
    "start_time": "2025-02-05T18:28:47.403Z"
   },
   {
    "duration": 13,
    "start_time": "2025-02-05T18:28:47.427Z"
   },
   {
    "duration": 5,
    "start_time": "2025-02-05T18:28:47.443Z"
   },
   {
    "duration": 6,
    "start_time": "2025-02-05T18:28:47.450Z"
   },
   {
    "duration": 6,
    "start_time": "2025-02-05T18:28:47.458Z"
   },
   {
    "duration": 7,
    "start_time": "2025-02-05T18:28:47.465Z"
   },
   {
    "duration": 7,
    "start_time": "2025-02-05T18:28:47.473Z"
   },
   {
    "duration": 10,
    "start_time": "2025-02-05T18:28:47.524Z"
   },
   {
    "duration": 7,
    "start_time": "2025-02-05T18:28:47.538Z"
   },
   {
    "duration": 11,
    "start_time": "2025-02-05T18:28:47.547Z"
   },
   {
    "duration": 4,
    "start_time": "2025-02-05T18:28:47.560Z"
   },
   {
    "duration": 12,
    "start_time": "2025-02-05T18:28:47.567Z"
   },
   {
    "duration": 319,
    "start_time": "2025-02-05T18:28:47.581Z"
   },
   {
    "duration": 288,
    "start_time": "2025-02-05T18:28:47.901Z"
   },
   {
    "duration": 10,
    "start_time": "2025-02-05T18:28:48.191Z"
   },
   {
    "duration": 3,
    "start_time": "2025-02-05T18:28:48.204Z"
   },
   {
    "duration": 21,
    "start_time": "2025-02-05T18:28:48.225Z"
   },
   {
    "duration": 5,
    "start_time": "2025-02-05T18:28:48.249Z"
   },
   {
    "duration": 154,
    "start_time": "2025-02-05T18:28:48.256Z"
   },
   {
    "duration": 15,
    "start_time": "2025-02-05T18:28:48.412Z"
   },
   {
    "duration": 104,
    "start_time": "2025-02-05T18:28:48.429Z"
   },
   {
    "duration": 14,
    "start_time": "2025-02-05T18:28:48.536Z"
   },
   {
    "duration": 8,
    "start_time": "2025-02-05T18:28:48.552Z"
   },
   {
    "duration": 178,
    "start_time": "2025-02-05T18:28:48.562Z"
   },
   {
    "duration": 172,
    "start_time": "2025-02-05T18:28:48.742Z"
   },
   {
    "duration": 17,
    "start_time": "2025-02-05T18:28:48.916Z"
   },
   {
    "duration": 277,
    "start_time": "2025-02-05T18:28:48.935Z"
   },
   {
    "duration": 13,
    "start_time": "2025-02-05T18:28:49.214Z"
   },
   {
    "duration": 394,
    "start_time": "2025-02-05T18:28:49.230Z"
   },
   {
    "duration": 5,
    "start_time": "2025-02-05T18:28:49.626Z"
   },
   {
    "duration": 173,
    "start_time": "2025-02-05T18:28:49.633Z"
   },
   {
    "duration": 4,
    "start_time": "2025-02-05T18:28:49.808Z"
   },
   {
    "duration": 9,
    "start_time": "2025-02-05T18:28:49.825Z"
   },
   {
    "duration": 10,
    "start_time": "2025-02-05T18:28:49.836Z"
   },
   {
    "duration": 4,
    "start_time": "2025-02-05T18:28:49.847Z"
   },
   {
    "duration": 231,
    "start_time": "2025-02-05T18:28:49.853Z"
   },
   {
    "duration": 5,
    "start_time": "2025-02-05T18:28:50.086Z"
   },
   {
    "duration": 9,
    "start_time": "2025-02-05T18:28:50.092Z"
   },
   {
    "duration": 25,
    "start_time": "2025-02-05T18:28:50.102Z"
   },
   {
    "duration": 8,
    "start_time": "2025-02-05T18:28:50.129Z"
   },
   {
    "duration": 8,
    "start_time": "2025-02-05T18:28:50.139Z"
   }
  ],
  "kernelspec": {
   "display_name": "Python 3 (ipykernel)",
   "language": "python",
   "name": "python3"
  },
  "language_info": {
   "codemirror_mode": {
    "name": "ipython",
    "version": 3
   },
   "file_extension": ".py",
   "mimetype": "text/x-python",
   "name": "python",
   "nbconvert_exporter": "python",
   "pygments_lexer": "ipython3",
   "version": "3.9.19"
  },
  "toc": {
   "base_numbering": 1,
   "nav_menu": {},
   "number_sections": true,
   "sideBar": true,
   "skip_h1_title": true,
   "title_cell": "Table of Contents",
   "title_sidebar": "Contents",
   "toc_cell": false,
   "toc_position": {},
   "toc_section_display": true,
   "toc_window_display": false
  }
 },
 "nbformat": 4,
 "nbformat_minor": 2
}
